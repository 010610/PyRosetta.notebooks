{
 "cells": [
  {
   "cell_type": "markdown",
   "metadata": {},
   "source": [
    "# How to Install PyRosetta in Google Colab"
   ]
  },
  {
   "cell_type": "markdown",
   "metadata": {},
   "source": [
    "1) Download the PyRosetta Workshop package, which includes all of the Jupyter Notebooks (.ipynb files), on your computer.\n",
    "\n",
    "2) Go to Google Colaboratory: https://colab.research.google.com/notebooks/welcome.ipynb\n",
    "\n",
    "3) Go to File > Open notebook...\n",
    "\n",
    "4) Go to \"Upload\" and upload the PyRosetta Workshop package. You can also, save the package in Google Drive and access them in Colab from there."
   ]
  },
  {
   "cell_type": "markdown",
   "metadata": {},
   "source": [
    "5) Once you are able to open the notebooks in Colab, use the cells below to install PyRosetta.\n",
    "\n",
    "Copy and paste the cell below and replace \"PyRosettaLOGIN\" and \"PyRosettaPASSWORD\" with your username and password."
   ]
  },
  {
   "cell_type": "code",
   "execution_count": null,
   "metadata": {},
   "outputs": [],
   "source": [
    "import sys\n",
    "#print(sys.version_info)\n",
    "if sys.version_info.major != 3 or sys.version_info.minor != 6: print('Need Python-3.6 to run!'); sys.exit(1)\n",
    "\n",
    "\n",
    "import time\n",
    "\n",
    "import_start_time = time.time()\n",
    "\n",
    "!wget -O _PyRosetta_.tar.bz2  --user PyRosettaLOGIN --password PyRosettaPASSWORD http://graylab.jhu.edu/download/PyRosetta4/archive/release/PyRosetta4.MinSizeRel.python36.linux/PyRosetta4.MinSizeRel.python36.linux.release-224.tar.bz2   \n",
    "!tar xjf _PyRosetta_.tar.bz2\n",
    "!rm _PyRosetta_.tar.bz2\n",
    "!cd PyRosetta4.MinSizeRel.python36.linux.release-224/setup && python setup.py install\n",
    "!rm -rf PyRosetta4.MinSizeRel.python36.linux.release-224\n",
    "\n",
    "import_end_time = time.time()"
   ]
  },
  {
   "cell_type": "code",
   "execution_count": null,
   "metadata": {},
   "outputs": [],
   "source": [
    "print(f'PyRosetta setup took: {import_end_time - import_start_time:.1f}s...')"
   ]
  },
  {
   "cell_type": "code",
   "execution_count": null,
   "metadata": {},
   "outputs": [],
   "source": [
    "# import pyrosetta\n",
    "from pyrosetta import *\n",
    "init()"
   ]
  },
  {
   "cell_type": "code",
   "execution_count": null,
   "metadata": {},
   "outputs": [],
   "source": []
  }
 ],
 "metadata": {
  "kernelspec": {
   "display_name": "Python 3",
   "language": "python",
   "name": "python3"
  },
  "language_info": {
   "codemirror_mode": {
    "name": "ipython",
    "version": 3
   },
   "file_extension": ".py",
   "mimetype": "text/x-python",
   "name": "python",
   "nbconvert_exporter": "python",
   "pygments_lexer": "ipython3",
   "version": "3.6.0"
  },
  "toc": {
   "base_numbering": 1,
   "nav_menu": {},
   "number_sections": true,
   "sideBar": true,
   "skip_h1_title": false,
   "title_cell": "Table of Contents",
   "title_sidebar": "Contents",
   "toc_cell": false,
   "toc_position": {},
   "toc_section_display": true,
   "toc_window_display": false
  }
 },
 "nbformat": 4,
 "nbformat_minor": 2
}

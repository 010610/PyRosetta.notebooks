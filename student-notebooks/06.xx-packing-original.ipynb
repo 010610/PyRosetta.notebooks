{
 "cells": [
  {
   "cell_type": "markdown",
   "metadata": {},
   "source": [
    "Before you turn this problem in, make sure everything runs as expected. First, **restart the kernel** (in the menubar, select Kernel$\\rightarrow$Restart) and then **run all cells** (in the menubar, select Cell$\\rightarrow$Run All).\n",
    "\n",
    "Make sure you fill in any place that says `YOUR CODE HERE` or \"YOUR ANSWER HERE\", as well as your name and collaborators below:"
   ]
  },
  {
   "cell_type": "code",
   "execution_count": null,
   "metadata": {},
   "outputs": [],
   "source": [
    "NAME = \"\"\n",
    "COLLABORATORS = \"\""
   ]
  },
  {
   "cell_type": "markdown",
   "metadata": {},
   "source": [
    "---"
   ]
  },
  {
   "cell_type": "markdown",
   "metadata": {},
   "source": [
    "<!--NOTEBOOK_HEADER-->\n",
    "*This notebook contains material from [PyRosetta](https://RosettaCommons.github.io/PyRosetta);\n",
    "content is available [on Github](https://github.com/RosettaCommons/PyRosetta.notebooks.git).*"
   ]
  },
  {
   "cell_type": "markdown",
   "metadata": {},
   "source": [
    "<!--NAVIGATION-->\n",
    "< [Side Chain Conformations and Dunbrack Energies](http://nbviewer.jupyter.org/github/RosettaCommons/PyRosetta.notebooks/blob/master/notebooks/06.01-Side-Chain-Conformations-and-Dunbrack-Energies.ipynb) | [Contents](toc.ipynb) | [Index](index.ipynb) | [Design](http://nbviewer.jupyter.org/github/RosettaCommons/PyRosetta.notebooks/blob/master/notebooks/06.03-Design.ipynb) ><p><a href=\"https://colab.research.google.com/github/RosettaCommons/PyRosetta.notebooks/blob/master/notebooks/06.02-Side-chain-packing.ipynb\"><img align=\"left\" src=\"https://colab.research.google.com/assets/colab-badge.svg\" alt=\"Open in Colab\" title=\"Open in Google Colaboratory\"></a>"
   ]
  },
  {
   "cell_type": "markdown",
   "metadata": {},
   "source": [
    "# Side-Chain Packing\n",
    "Keywords: PackerTask, standard_packer_task(), restrict_to_repacking(), temporarily_fix_everything(), temporarily_set_pack_residue(), PackRotamersMover(), SwitchResidueTypeSetMover(), MoveMap"
   ]
  },
  {
   "cell_type": "markdown",
   "metadata": {},
   "source": [
    "## Monte Carlo"
   ]
  },
  {
   "cell_type": "code",
   "execution_count": null,
   "metadata": {},
   "outputs": [],
   "source": [
    "# Notebook setup\n",
    "import sys\n",
    "if 'google.colab' in sys.modules:\n",
    "    !pip install pyrosettacolabsetup\n",
    "    import pyrosettacolabsetup\n",
    "    pyrosettacolabsetup.setup()\n",
    "    print (\"Notebook is set for PyRosetta use in Colab.  Have fun!\")"
   ]
  },
  {
   "cell_type": "markdown",
   "metadata": {},
   "source": [
    "**Make sure you are in the directory with the pdb files:**\n",
    "\n",
    "`cd google_drive/My\\ Drive/student-notebooks/`"
   ]
  },
  {
   "cell_type": "code",
   "execution_count": null,
   "metadata": {},
   "outputs": [],
   "source": [
    "# From previous section:\n",
    "from pyrosetta import *\n",
    "from pyrosetta.teaching import *\n",
    "pyrosetta.init()\n",
    "pose = pose_from_pdb(\"inputs/1YY8.clean.pdb\")\n",
    "start_pose = Pose()\n",
    "start_pose.assign(pose)\n",
    "scorefxn = get_fa_scorefxn()"
   ]
  },
  {
   "cell_type": "markdown",
   "metadata": {},
   "source": [
    "Side-chain packing can be done in a Monte Carlo search routine that iteratively swaps rotamers of a random residue and tests each move using the Metropolis criterion. Rosetta has such a routine pre-packaged as a `Mover` that carries out a simulated annealing search each time it is applied. The specific scope of the packing is specified in a `PackerTask` object, which is similar to a `MoveMap` in that it specifies degrees of freedom. We can specify via commands or from an input file our settings for a `PackerTask`.\n",
    "\n",
    "Create a `PackerTask` as follows. This will set the task to allow packing only of residue 49:\n",
    "\n",
    "```\n",
    "task_pack = standard_packer_task(pose)\n",
    "task_pack.restrict_to_repacking()\n",
    "task_pack.temporarily_fix_everything()\n",
    "task_pack.temporarily_set_pack_residue(49, True)\n",
    "```"
   ]
  },
  {
   "cell_type": "code",
   "execution_count": null,
   "metadata": {
    "deletable": false,
    "nbgrader": {
     "checksum": "d85e09ea62797f17c2dd7350c3d2fff3",
     "grade": true,
     "grade_id": "cell-fa899a5b86fa2a8c",
     "locked": false,
     "points": 0,
     "schema_version": 1,
     "solution": true
    }
   },
   "outputs": [],
   "source": [
    "# YOUR CODE HERE\n",
    "raise NotImplementedError()"
   ]
  },
  {
   "cell_type": "markdown",
   "metadata": {},
   "source": [
    "The default task allows any amino acid residue to be swapped in for another; that is, it would simulate a protein variant as a result of mutation. This would be useful for protein design but not for side-chain packing. `restrict_to_repacking()` only allows rotamers from the current residue at that position to be used.\n",
    "\n",
    "We can confirm our settings using (note how only one amino acid is allowed at each position):\n",
    "```\n",
    "print(task_pack)\n",
    "```"
   ]
  },
  {
   "cell_type": "code",
   "execution_count": null,
   "metadata": {
    "deletable": false,
    "nbgrader": {
     "checksum": "e84fd2bdf03543eb8d48002fd5f0ed9c",
     "grade": true,
     "grade_id": "cell-c251a58ffce9bced",
     "locked": false,
     "points": 0,
     "schema_version": 1,
     "solution": true
    }
   },
   "outputs": [],
   "source": [
    "# YOUR CODE HERE\n",
    "raise NotImplementedError()"
   ]
  },
  {
   "cell_type": "markdown",
   "metadata": {},
   "source": [
    "We now can construct a `PackRotamersMover`:\n",
    "\n",
    "```\n",
    "pack_mover = PackRotamersMover(scorefxn, task_pack)\n",
    "```"
   ]
  },
  {
   "cell_type": "code",
   "execution_count": null,
   "metadata": {
    "deletable": false,
    "nbgrader": {
     "checksum": "c0fca02eb7bd412fda1d42dca86d46dc",
     "grade": true,
     "grade_id": "cell-93e4d6393ce37e5e",
     "locked": false,
     "points": 0,
     "schema_version": 1,
     "solution": true
    }
   },
   "outputs": [],
   "source": [
    "# YOUR CODE HERE\n",
    "raise NotImplementedError()"
   ]
  },
  {
   "cell_type": "markdown",
   "metadata": {},
   "source": [
    "Apply the `PackMover` above to your pose with the `.apply()` method.\n",
    "\n",
    "```\n",
    "pack_mover.apply(pose)\n",
    "```\n",
    "\n",
    "__Question:__ Now what are the χ angles of K49? Which rotamer is this? What is the Dunbrack energy?"
   ]
  },
  {
   "cell_type": "code",
   "execution_count": null,
   "metadata": {
    "deletable": false,
    "nbgrader": {
     "checksum": "09a0a4ef7ca26086de523c49ef7acca3",
     "grade": true,
     "grade_id": "cell-4dc5c2d9141a9782",
     "locked": false,
     "points": 0,
     "schema_version": 1,
     "solution": true
    }
   },
   "outputs": [],
   "source": [
    "# YOUR CODE HERE\n",
    "raise NotImplementedError()"
   ]
  },
  {
   "cell_type": "markdown",
   "metadata": {},
   "source": [
    "__Question:__ What is the new total energy of K49? Why did Rosetta pick this rotamer? Answer this in terms of the components of the score function and in terms of the residues with which K49 interacts."
   ]
  },
  {
   "cell_type": "code",
   "execution_count": null,
   "metadata": {},
   "outputs": [],
   "source": []
  },
  {
   "cell_type": "markdown",
   "metadata": {},
   "source": [
    "## Packing for Refinement\n",
    "\n",
    "\n",
    "Side-chain packing can be used when converting a pose from centroid to full-atom mode, and it is used extensively in full-atom refinement calculations. Let’s examine how packing improves scores."
   ]
  },
  {
   "cell_type": "markdown",
   "metadata": {},
   "source": [
    "Create a centroid-representation model for RecA protein domain 2 (PDB ID: 2REB) using the `SwitchResidueTypeSetMover`. Save that centroid “decoy” so that we can compare several basic refinement steps.\n",
    "\n",
    "```\n",
    "cen_ras = pose_from_file(\"6Q21_A.pdb\")\n",
    "switch = SwitchResidueTypeSetMover(\"centroid\")\n",
    "switch.apply(cen_ras)\n",
    "```"
   ]
  },
  {
   "cell_type": "code",
   "execution_count": null,
   "metadata": {
    "deletable": false,
    "nbgrader": {
     "checksum": "c7b6cfd2aaafd857fd444ef405cd6ba2",
     "grade": true,
     "grade_id": "cell-d4eaf2f42d1e6ae8",
     "locked": false,
     "points": 0,
     "schema_version": 1,
     "solution": true
    }
   },
   "outputs": [],
   "source": [
    "# YOUR CODE HERE\n",
    "raise NotImplementedError()"
   ]
  },
  {
   "cell_type": "markdown",
   "metadata": {},
   "source": [
    "Load another `ras` and keep it in full-atom representation. Save this starting configuration for future use. Score the pose with the standard centroid score function.\n",
    "\n",
    "__Question:__ Why is the score so high?\n",
    "\n",
    "```\n",
    "ras = pose_from_file(\"6Q21_A.pdb\")\n",
    "start_ras = Pose()\n",
    "start_ras.assign(ras)\n",
    "scorefxn(ras)\n",
    "```"
   ]
  },
  {
   "cell_type": "code",
   "execution_count": null,
   "metadata": {
    "deletable": false,
    "nbgrader": {
     "checksum": "2b8dc91160764108291c8db84d413a90",
     "grade": true,
     "grade_id": "cell-18d7cd8ba0aaae1d",
     "locked": false,
     "points": 0,
     "schema_version": 1,
     "solution": true
    }
   },
   "outputs": [],
   "source": [
    "# YOUR CODE HERE\n",
    "raise NotImplementedError()"
   ]
  },
  {
   "cell_type": "markdown",
   "metadata": {},
   "source": [
    "Create a default `PackRotamersMover` with a `PackerTask` that allows all residues to vary χ angles. Create a test pose from your start pose and pack the side chains.\n",
    "\n",
    "__Question:__ What is the new pose score?\n",
    "\n",
    "```\n",
    "test_ras = Pose()\n",
    "test_ras.assign(start_ras)\n",
    "\n",
    "task_pack = standard_packer_task(test_ras)\n",
    "task_pack.restrict_to_repacking()\n",
    "task_pack.temporarily_fix_everything()\n",
    "task_pack.temporarily_set_pack_residue(49, True)\n",
    "\n",
    "pack_mover = PackRotamersMover(scorefxn, task_pack)\n",
    "pack_mover.apply(test_ras)\n",
    "```"
   ]
  },
  {
   "cell_type": "code",
   "execution_count": null,
   "metadata": {
    "deletable": false,
    "nbgrader": {
     "checksum": "33865ce5284e67b61110d3744a37f236",
     "grade": true,
     "grade_id": "cell-a7651a88211c824a",
     "locked": false,
     "points": 0,
     "schema_version": 1,
     "solution": true
    }
   },
   "outputs": [],
   "source": [
    "# YOUR CODE HERE\n",
    "raise NotImplementedError()"
   ]
  },
  {
   "cell_type": "markdown",
   "metadata": {},
   "source": [
    "Reset the test pose to the start configuration. Create a `MoveMap` that allows χ angles but not φ/ψ/ω angles to vary. Confirm the `MoveMap` by printing it. Create a `MinMover` using the Davidson-Fletcher-Powell minimization scheme by applying the method `min_type(\"dfpmin\")` to your mover. Apply the `MinMover` and rescore the pose.\n",
    "\n",
    "__Question:__ How does this energy compare?\n",
    "\n",
    "```\n",
    "test_ras.assign(start_ras)\n",
    "mm = MoveMap()\n",
    "mm.set_chi(True)\n",
    "mm.set_bb(False)\n",
    "print(mm)\n",
    "\n",
    "min_mover = MinMover()\n",
    "min_mover.set_movemap(mm)\n",
    "min_mover.score_function(scorefxn)\n",
    "min_mover.min_type(\"dfpmin\")\n",
    "print(min_mover)\n",
    "\n",
    "print(scorefxn(test_ras))\n",
    "min_mover.apply(test_ras)\n",
    "print(scorefxn(test_ras))\n",
    "```"
   ]
  },
  {
   "cell_type": "code",
   "execution_count": null,
   "metadata": {
    "deletable": false,
    "nbgrader": {
     "checksum": "e42ff6ebf7d671fd531ad179688defef",
     "grade": true,
     "grade_id": "cell-2983c8d727ed9c03",
     "locked": false,
     "points": 0,
     "schema_version": 1,
     "solution": true
    }
   },
   "outputs": [],
   "source": [
    "# YOUR CODE HERE\n",
    "raise NotImplementedError()"
   ]
  },
  {
   "cell_type": "markdown",
   "metadata": {},
   "source": [
    "Again, reset the test pose to the starting configuration. Apply the packer and then minimize on the χ angles.\n",
    "\n",
    "__Question:__ Now what is the final score?\n",
    "\n",
    "```\n",
    "test_ras.assign(start_ras)\n",
    "print(scorefxn(ras))\n",
    "pack_mover.apply(ras)\n",
    "print(scorefxn(ras))\n",
    "min_mover.apply(ras)\n",
    "print(scorefxn(ras))\n",
    "```"
   ]
  },
  {
   "cell_type": "code",
   "execution_count": null,
   "metadata": {
    "deletable": false,
    "nbgrader": {
     "checksum": "69331fce902d0fd0899d9f5ca40297e0",
     "grade": true,
     "grade_id": "cell-66426e5bb66dfca4",
     "locked": false,
     "points": 0,
     "schema_version": 1,
     "solution": true
    }
   },
   "outputs": [],
   "source": [
    "# YOUR CODE HERE\n",
    "raise NotImplementedError()"
   ]
  },
  {
   "cell_type": "markdown",
   "metadata": {},
   "source": [
    "For fun, you might examine the individual residue energies to find the residues most responsible for the score changes. Typically, a small number of residues may make clashes that can be resolved using the χ angle minimization, which allows off-rotamer side-chain conformations."
   ]
  },
  {
   "cell_type": "code",
   "execution_count": null,
   "metadata": {},
   "outputs": [],
   "source": []
  },
  {
   "cell_type": "markdown",
   "metadata": {},
   "source": [
    "<!--NAVIGATION-->\n",
    "< [Side Chain Conformations and Dunbrack Energies](http://nbviewer.jupyter.org/github/RosettaCommons/PyRosetta.notebooks/blob/master/notebooks/06.01-Side-Chain-Conformations-and-Dunbrack-Energies.ipynb) | [Contents](toc.ipynb) | [Index](index.ipynb) | [Design](http://nbviewer.jupyter.org/github/RosettaCommons/PyRosetta.notebooks/blob/master/notebooks/06.03-Design.ipynb) ><p><a href=\"https://colab.research.google.com/github/RosettaCommons/PyRosetta.notebooks/blob/master/notebooks/06.02-Side-chain-packing.ipynb\"><img align=\"left\" src=\"https://colab.research.google.com/assets/colab-badge.svg\" alt=\"Open in Colab\" title=\"Open in Google Colaboratory\"></a>"
   ]
  }
 ],
 "metadata": {
  "kernelspec": {
   "display_name": "Python 3",
   "language": "python",
   "name": "python3"
  },
  "language_info": {
   "codemirror_mode": {
    "name": "ipython",
    "version": 3
   },
   "file_extension": ".py",
   "mimetype": "text/x-python",
   "name": "python",
   "nbconvert_exporter": "python",
   "pygments_lexer": "ipython3",
   "version": "3.6.0"
  },
  "toc": {
   "base_numbering": 1,
   "nav_menu": {},
   "number_sections": true,
   "sideBar": true,
   "skip_h1_title": false,
   "title_cell": "Table of Contents",
   "title_sidebar": "Contents",
   "toc_cell": false,
   "toc_position": {},
   "toc_section_display": true,
   "toc_window_display": true
  }
 },
 "nbformat": 4,
 "nbformat_minor": 2
}

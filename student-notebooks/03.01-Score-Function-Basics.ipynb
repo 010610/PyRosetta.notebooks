{
 "cells": [
  {
   "cell_type": "markdown",
   "metadata": {},
   "source": [
    "Before you turn this problem in, make sure everything runs as expected. First, **restart the kernel** (in the menubar, select Kernel$\\rightarrow$Restart) and then **run all cells** (in the menubar, select Cell$\\rightarrow$Run All).\n",
    "\n",
    "Make sure you fill in any place that says `YOUR CODE HERE` or \"YOUR ANSWER HERE\", as well as your name and collaborators below:"
   ]
  },
  {
   "cell_type": "code",
   "execution_count": null,
   "metadata": {},
   "outputs": [],
   "source": [
    "NAME = \"\"\n",
    "COLLABORATORS = \"\""
   ]
  },
  {
   "cell_type": "markdown",
   "metadata": {},
   "source": [
    "---"
   ]
  },
  {
   "cell_type": "markdown",
   "metadata": {},
   "source": [
    "<!--NOTEBOOK_HEADER-->\n",
    "*This notebook contains material from [PyRosetta](https://RosettaCommons.github.io/PyRosetta);\n",
    "content is available [on Github](https://github.com/RosettaCommons/PyRosetta.notebooks.git).*"
   ]
  },
  {
   "cell_type": "markdown",
   "metadata": {},
   "source": [
    "<!--NAVIGATION-->\n",
    "< [Rosetta Energy Score Functions](http://nbviewer.jupyter.org/github/RosettaCommons/PyRosetta/blob/master/notebooks/03.00-Rosetta-Energy-Score-Functions.ipynb) | [Contents](toc.ipynb) | [Introduction to Folding](http://nbviewer.jupyter.org/github/RosettaCommons/PyRosetta/blob/master/notebooks/04.00-Introduction-to-Folding.ipynb) ><p><a href=\"https://colab.research.google.com/github/RosettaCommons/PyRosetta/blob/master/notebooks/03.01-Score-Function-Basics.ipynb\"><img align=\"left\" src=\"https://colab.research.google.com/assets/colab-badge.svg\" alt=\"Open in Colab\" title=\"Open in Google Colaboratory\"></a>"
   ]
  },
  {
   "cell_type": "markdown",
   "metadata": {
    "deletable": false,
    "editable": false,
    "nbgrader": {
     "checksum": "e624a1829c0012908463277838d14438",
     "grade": false,
     "grade_id": "cell-eeaeae18e9d996eb",
     "locked": true,
     "schema_version": 1,
     "solution": false
    }
   },
   "source": [
    "# Score Function Basics\n",
    "In this module, we will explore the PyRosetta score function interface. You will learn to inspect energies of a biomolecule at the whole protein, per-residue, and per-atom level. Finally, you will gain practice applying the energies to answering biological questions involving proteins. For these exercises, we will use the protein Ras (PDB 6q21). Either make sure you have the PDB file \"6Q21_A.pdb\" in your current directory, or if you have an Internet connection, load the pdb into a pose called `ras` with the pyrosetta.pose_from_pdb method. "
   ]
  },
  {
   "cell_type": "code",
   "execution_count": null,
   "metadata": {
    "deletable": false,
    "nbgrader": {
     "checksum": "f01ff525b8ee36bcd95aaf8889539634",
     "grade": true,
     "grade_id": "cell-be26a363af7b009c",
     "locked": false,
     "points": 0,
     "schema_version": 1,
     "solution": true
    }
   },
   "outputs": [],
   "source": [
    "import pyrosetta\n",
    "pyrosetta.init()\n",
    "\n",
    "# YOUR CODE HERE\n",
    "raise NotImplementedError()"
   ]
  },
  {
   "cell_type": "markdown",
   "metadata": {
    "deletable": false,
    "editable": false,
    "nbgrader": {
     "checksum": "4422e37ac051f84ab9a6eee50ca0c406",
     "grade": false,
     "grade_id": "cell-ed57c5745ba69a27",
     "locked": true,
     "schema_version": 1,
     "solution": false
    }
   },
   "source": [
    "To score a protein, you will begin by defining a score function. The function `get_fa_scorefxn()` in the `pyrosetta.teaching` namespace will return the default all-atom energy function. Currently, the default is the `ref2015` energy function.\n",
    "\n",
    "Create a PyRosetta `ScoreFunction` using:\n",
    "```\n",
    "sfxn = get_fa_scorefxn()\n",
    "```"
   ]
  },
  {
   "cell_type": "code",
   "execution_count": null,
   "metadata": {
    "deletable": false,
    "nbgrader": {
     "checksum": "328490f1bf6bb9c3fc3605d7fb6c1cbb",
     "grade": true,
     "grade_id": "cell-a8401defb7b4a814",
     "locked": false,
     "points": 0,
     "schema_version": 1,
     "solution": true
    }
   },
   "outputs": [],
   "source": [
    "from pyrosetta.teaching import *\n",
    "\n",
    "# YOUR CODE HERE\n",
    "raise NotImplementedError()"
   ]
  },
  {
   "cell_type": "markdown",
   "metadata": {
    "deletable": false,
    "editable": false,
    "nbgrader": {
     "checksum": "8e921b1ceb89e2bb7a17dd05b958b751",
     "grade": false,
     "grade_id": "cell-67b6769efaa385af",
     "locked": true,
     "schema_version": 1,
     "solution": false
    }
   },
   "source": [
    "You can see the terms, weights, and energy method options by printing the score function:\n",
    "\n",
    "```\n",
    "print(sfxn)\n",
    "```"
   ]
  },
  {
   "cell_type": "code",
   "execution_count": null,
   "metadata": {
    "deletable": false,
    "nbgrader": {
     "checksum": "e793cabed84794d2c205604837f4bf52",
     "grade": true,
     "grade_id": "cell-d9875a1b051c6971",
     "locked": false,
     "points": 0,
     "schema_version": 1,
     "solution": true
    }
   },
   "outputs": [],
   "source": [
    "# YOUR CODE HERE\n",
    "raise NotImplementedError()"
   ]
  },
  {
   "cell_type": "markdown",
   "metadata": {
    "deletable": false,
    "editable": false,
    "nbgrader": {
     "checksum": "c8ae92c6a9a4b52584e7411bc7f74e04",
     "grade": false,
     "grade_id": "cell-5714b7bc994c3fe3",
     "locked": true,
     "schema_version": 1,
     "solution": false
    }
   },
   "source": [
    "**Practice:** List the terms in the energy function and their relative weights\n",
    "\n",
    "**Hint:** look at the top line that starts with 'weights'"
   ]
  },
  {
   "cell_type": "code",
   "execution_count": null,
   "metadata": {
    "deletable": false,
    "nbgrader": {
     "checksum": "d5d85374b62f7d27e31cca84887dabc7",
     "grade": true,
     "grade_id": "cell-22ba33466d6eb287",
     "locked": false,
     "points": 0,
     "schema_version": 1,
     "solution": true
    }
   },
   "outputs": [],
   "source": [
    "# YOUR CODE HERE\n",
    "raise NotImplementedError()"
   ]
  },
  {
   "cell_type": "markdown",
   "metadata": {
    "deletable": false,
    "editable": false,
    "nbgrader": {
     "checksum": "719c0439b850c366f382839262c652b5",
     "grade": false,
     "grade_id": "cell-9c06a7c877210a94",
     "locked": true,
     "schema_version": 1,
     "solution": false
    }
   },
   "source": [
    "You can also create a custom energy function that includes select terms. Here, we will make an example energy function with only the van der Waals attractive and repulsive terms, both with weights of 1. \n",
    "\n",
    "Here, we need to use the `set_weight()`. Make a new `ScoreFunction` and set the weights accordingly. This is how we set the full-atom attractive (`fa_atr`) and the full-atom repulsive (`fa_rep`) terms.\n",
    "\n",
    "```\n",
    "sfxn2 = ScoreFunction()\n",
    "sfxn2.set_weight(fa_atr, 1.0)\n",
    "sfxn2.set_weight(fa_rep, 1.0)\n",
    "```"
   ]
  },
  {
   "cell_type": "code",
   "execution_count": null,
   "metadata": {
    "deletable": false,
    "nbgrader": {
     "checksum": "d5a4cc23973c3913c6fc09e6bcc93934",
     "grade": true,
     "grade_id": "cell-c4c5c8d7de03487d",
     "locked": false,
     "points": 0,
     "schema_version": 1,
     "solution": true
    }
   },
   "outputs": [],
   "source": [
    "# YOUR CODE HERE\n",
    "raise NotImplementedError()"
   ]
  },
  {
   "cell_type": "markdown",
   "metadata": {
    "deletable": false,
    "editable": false,
    "nbgrader": {
     "checksum": "975c15f8bca2e6102dda4d88beb62085",
     "grade": false,
     "grade_id": "cell-951446e04ce45937",
     "locked": true,
     "schema_version": 1,
     "solution": false
    }
   },
   "source": [
    "Lets compare the score of `ras` using the full-atom `ScoreFunction` versus the `ScoreFunction` we made above using only the attractive and repulsive terms.\n",
    "\n",
    "First, print the total energy of `ras` using `print(sfxn(ras))`\n",
    "Then, print the attractive and repulsive energy only of `ras` using `print(sfxn2(ras))`"
   ]
  },
  {
   "cell_type": "code",
   "execution_count": null,
   "metadata": {
    "deletable": false,
    "nbgrader": {
     "checksum": "5257f9fe320267a5e7eb764a7930eb1e",
     "grade": true,
     "grade_id": "cell-7013e0c60ab37e65",
     "locked": false,
     "points": 0,
     "schema_version": 1,
     "solution": true
    }
   },
   "outputs": [],
   "source": [
    "# print total energy of ras\n",
    "# YOUR CODE HERE\n",
    "raise NotImplementedError()\n",
    "\n",
    "# print the attractive and repulsive energy of ras\n",
    "# YOUR CODE HERE\n",
    "raise NotImplementedError()"
   ]
  },
  {
   "cell_type": "markdown",
   "metadata": {
    "deletable": false,
    "editable": false,
    "nbgrader": {
     "checksum": "93b04a3da53f917be441c7f1dc7b1bc0",
     "grade": false,
     "grade_id": "cell-952b996905b5bfc0",
     "locked": true,
     "schema_version": 1,
     "solution": false
    }
   },
   "source": [
    "Using the full-atom `ScoreFunction` `sfxn`, break the energy of `ras` down into its individual pieces with the `sfxn.show(ras)` method. Which are the three most dominant contributions, and what are their values? Is this what you would have expected? Why? Note which terms are positive and negative"
   ]
  },
  {
   "cell_type": "code",
   "execution_count": null,
   "metadata": {
    "deletable": false,
    "nbgrader": {
     "checksum": "d85657d8e29552b8d01d7f4d02eea8dc",
     "grade": true,
     "grade_id": "cell-1985d733350b2c83",
     "locked": false,
     "points": 0,
     "schema_version": 1,
     "solution": true
    }
   },
   "outputs": [],
   "source": [
    "# use the sfxn.show() method\n",
    "# YOUR CODE HERE\n",
    "raise NotImplementedError()"
   ]
  },
  {
   "cell_type": "code",
   "execution_count": null,
   "metadata": {
    "code_folding": [],
    "deletable": false,
    "editable": false,
    "nbgrader": {
     "checksum": "e5f67c4a806a5ac514dbc014dc1f720a",
     "grade": false,
     "grade_id": "cell-4ad3a4c661b9a763",
     "locked": true,
     "schema_version": 1,
     "solution": false
    }
   },
   "outputs": [],
   "source": [
    "# Your response here: what are the three most dominant contributions?"
   ]
  },
  {
   "cell_type": "markdown",
   "metadata": {
    "deletable": false,
    "editable": false,
    "nbgrader": {
     "checksum": "f0b211c31d8bb31a0667b1c6406ff1d9",
     "grade": false,
     "grade_id": "cell-dfa8632eb3d02079",
     "locked": true,
     "schema_version": 1,
     "solution": false
    }
   },
   "source": [
    "Unweighted, individual component energies of each residue in a structure are stored in the `Pose` object and can be accessed by the `energies()` method. For example, to break down the energy into each residue's contribution, we use: \n",
    "```\n",
    "print(ras.energies().show(<n>))\n",
    "```\n",
    "Where `<n>` is the residue number.\n",
    "\n",
    "What are the total van der Waals, solvation, and hydrogen-bonding contributions of residue 24? (Note that the _backbone_ hydrogen-bonding terms for each residue are not available from the `Energies` object.)"
   ]
  },
  {
   "cell_type": "code",
   "execution_count": null,
   "metadata": {
    "deletable": false,
    "nbgrader": {
     "checksum": "b23fb9ecb7c8501235b5a54cc0567a0c",
     "grade": true,
     "grade_id": "cell-cd5175f1ed3fd0ad",
     "locked": false,
     "points": 0,
     "schema_version": 1,
     "solution": true
    }
   },
   "outputs": [],
   "source": [
    "# YOUR CODE HERE\n",
    "raise NotImplementedError()"
   ]
  },
  {
   "cell_type": "code",
   "execution_count": null,
   "metadata": {
    "deletable": false,
    "editable": false,
    "nbgrader": {
     "checksum": "5d6e21483aecadac4cdb91f9b8685f13",
     "grade": false,
     "grade_id": "cell-910b1116d1d0becf",
     "locked": true,
     "schema_version": 1,
     "solution": false
    }
   },
   "outputs": [],
   "source": [
    "# your response here"
   ]
  },
  {
   "cell_type": "markdown",
   "metadata": {
    "deletable": false,
    "editable": false,
    "nbgrader": {
     "checksum": "f71d7469a99f6552564f4d1805ba1bc8",
     "grade": false,
     "grade_id": "cell-4832aeb37f36c0c6",
     "locked": true,
     "schema_version": 1,
     "solution": false
    }
   },
   "source": [
    "The van der Waals, solvation, and electrostatic terms are atom-atom pairwise energies calculated from a pre-tabulated lookup table, dependent upon the distance between the two atoms and their types. You can access this lookup table, called the `etable` directly to check these energy calculations on an atom-by-atom basis. Use the `etable_atom_pair_energies` function which returns a triplet of energies for attractive, repulsive and solvation scores.\n",
    "\n",
    "(Note that the `etable_atom_pair_energies()` function requires `Atom` objects, not the `AtomID` objects we saw in Workshop #2. For more info, look at the [documentation](https://graylab.jhu.edu/PyRosetta.documentation/pyrosetta.toolbox.atom_pair_energy.html?highlight=etable_atom_pair_energies#pyrosetta.toolbox.atom_pair_energy.etable_atom_pair_energies).)\n",
    "\n",
    "**Practice:** What are the attractive, repulsive, solvation, and electrostatic components between the nitrogen of residue 24 and the oxygen of residue 20? \n"
   ]
  },
  {
   "cell_type": "code",
   "execution_count": null,
   "metadata": {
    "deletable": false,
    "nbgrader": {
     "checksum": "8c61d70270f52e1a933d45656832b8e3",
     "grade": true,
     "grade_id": "cell-7ce1bc99f2fd0b00",
     "locked": false,
     "points": 0,
     "schema_version": 1,
     "solution": true
    }
   },
   "outputs": [],
   "source": [
    "# YOUR CODE HERE\n",
    "raise NotImplementedError()"
   ]
  },
  {
   "cell_type": "markdown",
   "metadata": {
    "deletable": false,
    "editable": false,
    "nbgrader": {
     "checksum": "d6236470dfa69a861b60a18f196d69ea",
     "grade": false,
     "grade_id": "cell-c32668370dae07d5",
     "locked": true,
     "schema_version": 1,
     "solution": false
    }
   },
   "source": [
    "## Analysis of Hydrogen Bonds\n",
    "The hydrogen-bonding score component requires identification of acceptor hybridization states and calculation of geometric parameters includign distance, acceptor bond angle, proton bond angle, and a torsion angle. The hydrogen-bonding energies are stored in an `HbondSet` object. You can access the list of hydrogen bonds by creating an `HBondSet` object and filling the set from the pose (after making sutre that the pose has had its `Energies` object updated based on neighboring residues within the pose), and then using the `HBondSet.show()` command.\n",
    "\n",
    "The steps above have been combined in the PyRosetta into a method called `get_hbonds()` that has been attached to a `Pose` object, so that we can simply type:\n",
    "\n",
    "```\n",
    "sfxn(ras)\n",
    "hbond_set = ras.get_hbonds()\n",
    "```"
   ]
  },
  {
   "cell_type": "code",
   "execution_count": null,
   "metadata": {
    "deletable": false,
    "nbgrader": {
     "checksum": "5bf045c6218f749996af9f1257a0db98",
     "grade": true,
     "grade_id": "cell-f6f59fe31eb4cbf3",
     "locked": false,
     "points": 0,
     "schema_version": 1,
     "solution": true
    }
   },
   "outputs": [],
   "source": [
    "# YOUR CODE HERE\n",
    "raise NotImplementedError()"
   ]
  },
  {
   "cell_type": "markdown",
   "metadata": {
    "deletable": false,
    "editable": false,
    "nbgrader": {
     "checksum": "a38cb7e1f8ffef8e3c7e3852b5b9d8a3",
     "grade": false,
     "grade_id": "cell-00ce30d24fc2e978",
     "locked": true,
     "schema_version": 1,
     "solution": false
    }
   },
   "source": [
    "How many hydrogen bonds are in hbond_set?\n",
    "\n",
    "```\n",
    "hbond_set.nhbonds()\n",
    "```"
   ]
  },
  {
   "cell_type": "code",
   "execution_count": null,
   "metadata": {
    "deletable": false,
    "nbgrader": {
     "checksum": "ac2e236c5a51055480c841b35654499e",
     "grade": true,
     "grade_id": "cell-2c967cc383e643a9",
     "locked": false,
     "points": 0,
     "schema_version": 1,
     "solution": true
    }
   },
   "outputs": [],
   "source": [
    "# YOUR CODE HERE\n",
    "raise NotImplementedError()"
   ]
  },
  {
   "cell_type": "markdown",
   "metadata": {
    "deletable": false,
    "editable": false,
    "nbgrader": {
     "checksum": "d1b5e396a6d9e0e318bd9b9c8b75e690",
     "grade": false,
     "grade_id": "cell-51b081e5e1f015ab",
     "locked": true,
     "schema_version": 1,
     "solution": false
    }
   },
   "source": [
    "The hydrogen bonds for an *individual* residue can be looked up from the set using its residue number as follows: \n",
    "\n",
    "    hbond_set.residue_hbonds(24)\n",
    "    \n",
    "**Practice:** How many hydrogen bonds does residue 24 make? "
   ]
  },
  {
   "cell_type": "code",
   "execution_count": null,
   "metadata": {
    "deletable": false,
    "nbgrader": {
     "checksum": "a3d437782b9c6c5aadbcf6835f17b7c2",
     "grade": true,
     "grade_id": "cell-e4653c50d7dafa07",
     "locked": false,
     "points": 0,
     "schema_version": 1,
     "solution": true
    }
   },
   "outputs": [],
   "source": [
    "# YOUR CODE HERE\n",
    "raise NotImplementedError()\n"
   ]
  },
  {
   "cell_type": "markdown",
   "metadata": {
    "deletable": false,
    "editable": false,
    "nbgrader": {
     "checksum": "826091d2cb00e302274e513c3a1368dd",
     "grade": false,
     "grade_id": "cell-84e6c7e86e9426cf",
     "locked": true,
     "schema_version": 1,
     "solution": false
    }
   },
   "source": [
    "## Practice: Analyzing energy between residues\n",
    "Analyze the energy between residues Y102 and Q408 in cetuximab (PDB code 1YY9, use the `pyrosetta.toolbox.pose_from_rcsb` function to download it and load it into a new `Pose` object) by following the steps below. \n",
    "\n",
    "A. Internally, a Pose object has a list of residues, numbered starting from 1. To find the residue numbers of Y102 of chain D and Q408 of chain A, use the residue chain identifier and the PDB residue number to convert to the pose numbering using the `pose2pdb()` method:\n",
    "\n",
    "```\n",
    "pose = pyrosetta.toolbox.pose_from_rcsb(\"1YY9\")\n",
    "res102 = pose.pdb_info().pdb2pose(\"D\", 102)\n",
    "res408 = pose.pdb_info().pdb2pose(\"A\", 408)\n",
    "```"
   ]
  },
  {
   "cell_type": "code",
   "execution_count": null,
   "metadata": {
    "deletable": false,
    "nbgrader": {
     "checksum": "89f2694ba991c39c29f5de354b8ec814",
     "grade": true,
     "grade_id": "cell-a723de195b7c5426",
     "locked": false,
     "points": 0,
     "schema_version": 1,
     "solution": true
    }
   },
   "outputs": [],
   "source": [
    "# get the pose numbers for Y102 (chain D) and Q408 (chain A)\n",
    "# YOUR CODE HERE\n",
    "raise NotImplementedError()"
   ]
  },
  {
   "cell_type": "markdown",
   "metadata": {
    "deletable": false,
    "editable": false,
    "nbgrader": {
     "checksum": "8aceafc6586f6becbc661f7b78f7c1df",
     "grade": false,
     "grade_id": "cell-648b40169a846ddf",
     "locked": true,
     "schema_version": 1,
     "solution": false
    }
   },
   "source": [
    "B. Score the pose and determine the van der Waals energies and solvation energy between these two residues. Use the following commands to isolate contributions from particular pairs of residues, where `rsd102` and `rsd408` are the two residue objects of interest from above (not the residue number -- use `pose.residue(res_num)` to access the objects): \n",
    "\n",
    "```\n",
    "emap = EMapVector()\n",
    "sfxn.eval_ci_2b(pose.residue(res102), pose.residue(res408), pose, emap)\n",
    "print(emap[fa_atr])\n",
    "print(emap[fa_rep])\n",
    "print(emap[fa_sol])\n",
    "```"
   ]
  },
  {
   "cell_type": "code",
   "execution_count": null,
   "metadata": {
    "deletable": false,
    "nbgrader": {
     "checksum": "975af39520c1f560e10a6b2ff55dfb93",
     "grade": true,
     "grade_id": "cell-dffa8d44557ef0fc",
     "locked": false,
     "points": 0,
     "schema_version": 1,
     "solution": true
    }
   },
   "outputs": [],
   "source": [
    "# YOUR CODE HERE\n",
    "raise NotImplementedError()"
   ]
  },
  {
   "cell_type": "markdown",
   "metadata": {
    "deletable": false,
    "editable": false,
    "nbgrader": {
     "checksum": "bd74e93a2323aeaa4ee3daba298b860d",
     "grade": false,
     "grade_id": "cell-3df13637df7affbe",
     "locked": true,
     "schema_version": 1,
     "solution": false
    }
   },
   "source": [
    "## Energies and the PyMOL Mover\n",
    "The `PyMOLMover` class contains a method for sending score function information to PyMOL,\n",
    "which will then color the structure based on relative residue energies.\n",
    "\n",
    "Open up PyMOL. Instantiate a `PyMOLMover` object and use the `pymol_mover.send_energy(ras)` to send the coloring  command to PyMOL.\n",
    "\n",
    "```\n",
    "pymol_mover = PyMOLMover()\n",
    "pymol_mover.apply(ras)\n",
    "print(sfxn(ras))\n",
    "pymol_mover.send_energy(ras)\n",
    "```"
   ]
  },
  {
   "cell_type": "code",
   "execution_count": null,
   "metadata": {
    "deletable": false,
    "nbgrader": {
     "checksum": "834f8d41b3b3c87a6bc4795697ffcfd9",
     "grade": true,
     "grade_id": "cell-6b50c733700571cc",
     "locked": false,
     "points": 0,
     "schema_version": 1,
     "solution": true
    }
   },
   "outputs": [],
   "source": [
    "# YOUR CODE HERE\n",
    "raise NotImplementedError()"
   ]
  },
  {
   "cell_type": "markdown",
   "metadata": {
    "deletable": false,
    "editable": false,
    "nbgrader": {
     "checksum": "306fbd8addff14ba2f5e360e25222b41",
     "grade": false,
     "grade_id": "cell-cebd74396b7e12ce",
     "locked": true,
     "schema_version": 1,
     "solution": false
    }
   },
   "source": [
    "<img src=\"./../Images/PyMOL-send_energy.gif\" width=\"800\">"
   ]
  },
  {
   "cell_type": "markdown",
   "metadata": {
    "deletable": false,
    "editable": false,
    "nbgrader": {
     "checksum": "6e5103476c776a1a5b9681b87d6709b8",
     "grade": false,
     "grade_id": "cell-bac636a945b1ef80",
     "locked": true,
     "schema_version": 1,
     "solution": false
    }
   },
   "source": [
    "What color is residue Proline34? What color is residue Alanine66? Which residue has lower energy?"
   ]
  },
  {
   "cell_type": "code",
   "execution_count": null,
   "metadata": {
    "deletable": false,
    "editable": false,
    "nbgrader": {
     "checksum": "1d6e99f8c25d8dde4fc00d1d6d7dc57a",
     "grade": false,
     "grade_id": "cell-6e7eccd7e775c0a5",
     "locked": true,
     "schema_version": 1,
     "solution": false
    }
   },
   "outputs": [],
   "source": [
    "# your response here"
   ]
  },
  {
   "cell_type": "markdown",
   "metadata": {
    "deletable": false,
    "editable": false,
    "nbgrader": {
     "checksum": "3165ed03b60ac9f69f11f678527fffdb",
     "grade": false,
     "grade_id": "cell-21e2444f382f080a",
     "locked": true,
     "schema_version": 1,
     "solution": false
    }
   },
   "source": [
    "`pymol_mover.send_energy(ras, fa_atr)` will have PyMOL color only by the attractive van der Waals energy component. What color is residue 34 if colored by solvation energy, `fa_sol`?"
   ]
  },
  {
   "cell_type": "code",
   "execution_count": null,
   "metadata": {
    "deletable": false,
    "editable": false,
    "nbgrader": {
     "checksum": "5f824081125bd901461d464e1700f9ca",
     "grade": false,
     "grade_id": "cell-9103a75de706b1d0",
     "locked": true,
     "schema_version": 1,
     "solution": false
    }
   },
   "outputs": [],
   "source": [
    "# send specific energies to pymol"
   ]
  },
  {
   "cell_type": "code",
   "execution_count": null,
   "metadata": {
    "deletable": false,
    "nbgrader": {
     "checksum": "b626e9a77f2c1329d1a045d4319921db",
     "grade": true,
     "grade_id": "cell-f9000db7d0cfabd1",
     "locked": false,
     "points": 0,
     "schema_version": 1,
     "solution": true
    }
   },
   "outputs": [],
   "source": [
    "# YOUR CODE HERE\n",
    "raise NotImplementedError()"
   ]
  },
  {
   "cell_type": "markdown",
   "metadata": {
    "deletable": false,
    "editable": false,
    "nbgrader": {
     "checksum": "47d68c9ce2acdbec24a4607f8cb49792",
     "grade": false,
     "grade_id": "cell-24a17254b7d885c8",
     "locked": true,
     "schema_version": 1,
     "solution": false
    }
   },
   "source": [
    "You can have PyMOL label each Cα with the value of its residue’s specified energy using:\n",
    "```\n",
    "pymol_mover.label_energy(ras, \"fa_atr\")\n",
    "```"
   ]
  },
  {
   "cell_type": "code",
   "execution_count": null,
   "metadata": {
    "deletable": false,
    "nbgrader": {
     "checksum": "8a5b0466487ed132c5ec7d034404c24a",
     "grade": true,
     "grade_id": "cell-2ba49a6550dab5c7",
     "locked": false,
     "points": 0,
     "schema_version": 1,
     "solution": true
    }
   },
   "outputs": [],
   "source": [
    "# YOUR CODE HERE\n",
    "raise NotImplementedError()"
   ]
  },
  {
   "cell_type": "markdown",
   "metadata": {
    "deletable": false,
    "editable": false,
    "nbgrader": {
     "checksum": "017aa335b84dd9da443af3367d577b6b",
     "grade": false,
     "grade_id": "cell-7fdeb8b695d89a68",
     "locked": true,
     "schema_version": 1,
     "solution": false
    }
   },
   "source": [
    "Finally, if you have scored the `pose` first, you can have PyMOL display all of the calculated hydrogen bonds for the structure:\n",
    "\n",
    "```\n",
    "pymol_mover.send_hbonds(ras)\n",
    "```"
   ]
  },
  {
   "cell_type": "code",
   "execution_count": null,
   "metadata": {
    "deletable": false,
    "nbgrader": {
     "checksum": "fa5e2b543ba46881f27771087b748a4c",
     "grade": true,
     "grade_id": "cell-e881648552ab8641",
     "locked": false,
     "points": 0,
     "schema_version": 1,
     "solution": true
    }
   },
   "outputs": [],
   "source": [
    "# YOUR CODE HERE\n",
    "raise NotImplementedError()"
   ]
  },
  {
   "cell_type": "markdown",
   "metadata": {
    "deletable": false,
    "editable": false,
    "nbgrader": {
     "checksum": "76d0bfd6bb8ab30def8b8b2637576842",
     "grade": false,
     "grade_id": "cell-e83122697fe02538",
     "locked": true,
     "schema_version": 1,
     "solution": false
    }
   },
   "source": [
    "## References\n",
    "This Jupyter notebook is an adapted version of \"Workshop #3: Scoring\" in the PyRosetta workbook: https://graylab.jhu.edu/pyrosetta/downloads/documentation/pyrosetta4_online_format/PyRosetta4_Workshop3_Scoring.pdf"
   ]
  },
  {
   "cell_type": "markdown",
   "metadata": {},
   "source": [
    "<!--NAVIGATION-->\n",
    "< [Rosetta Energy Score Functions](http://nbviewer.jupyter.org/github/RosettaCommons/PyRosetta/blob/master/notebooks/03.00-Rosetta-Energy-Score-Functions.ipynb) | [Contents](toc.ipynb) | [Introduction to Folding](http://nbviewer.jupyter.org/github/RosettaCommons/PyRosetta/blob/master/notebooks/04.00-Introduction-to-Folding.ipynb) ><p><a href=\"https://colab.research.google.com/github/RosettaCommons/PyRosetta/blob/master/notebooks/03.01-Score-Function-Basics.ipynb\"><img align=\"left\" src=\"https://colab.research.google.com/assets/colab-badge.svg\" alt=\"Open in Colab\" title=\"Open in Google Colaboratory\"></a>"
   ]
  }
 ],
 "metadata": {
  "kernelspec": {
   "display_name": "Python 3",
   "language": "python",
   "name": "python3"
  },
  "language_info": {
   "codemirror_mode": {
    "name": "ipython",
    "version": 3
   },
   "file_extension": ".py",
   "mimetype": "text/x-python",
   "name": "python",
   "nbconvert_exporter": "python",
   "pygments_lexer": "ipython3",
   "version": "3.6.0"
  },
  "toc": {
   "base_numbering": 1,
   "nav_menu": {},
   "number_sections": true,
   "sideBar": true,
   "skip_h1_title": false,
   "title_cell": "Table of Contents",
   "title_sidebar": "Contents",
   "toc_cell": false,
   "toc_position": {
    "height": "calc(100% - 180px)",
    "left": "10px",
    "top": "150px",
    "width": "254.188px"
   },
   "toc_section_display": true,
   "toc_window_display": true
  }
 },
 "nbformat": 4,
 "nbformat_minor": 2
}

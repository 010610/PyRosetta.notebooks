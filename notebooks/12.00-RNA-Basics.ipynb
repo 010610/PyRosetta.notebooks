{
 "cells": [
  {
   "cell_type": "markdown",
   "metadata": {},
   "source": [
    "<!--NOTEBOOK_HEADER-->\n",
    "*This notebook contains material from [PyRosetta](https://RosettaCommons.github.io/PyRosetta);\n",
    "content is available [on Github](https://github.com/RosettaCommons/PyRosetta.notebooks.git).*"
   ]
  },
  {
   "cell_type": "markdown",
   "metadata": {},
   "source": [
    "# RNA in PyRosetta\n",
    "Keywords: classify_base_pairs, RNA torsions, RNA score terms, RNA motifs, mutate_position, RNA thread"
   ]
  },
  {
   "cell_type": "markdown",
   "metadata": {},
   "source": [
    "In this lab, we will explore common tasks and approaches for working with RNA using Rosetta. We will be focusing on a simple system that includes a helix capped by a tetraloop for this exercise."
   ]
  },
  {
   "cell_type": "code",
   "execution_count": 1,
   "metadata": {},
   "outputs": [],
   "source": [
    "# Notebook setup\n",
    "import sys\n",
    "if 'google.colab' in sys.modules:\n",
    "    !pip install pyrosettacolabsetup\n",
    "    import pyrosettacolabsetup\n",
    "    pyrosettacolabsetup.setup()\n",
    "    print (\"Notebook is set for PyRosetta use in Colab.  Have fun!\")"
   ]
  },
  {
   "cell_type": "code",
   "execution_count": 2,
   "metadata": {
    "scrolled": true
   },
   "outputs": [
    {
     "name": "stdout",
     "output_type": "stream",
     "text": [
      "PyRosetta-4 2019 [Rosetta PyRosetta4.Release.python37.mac 2019.35+release.767c1ea25c572fbc078db45ad65dddb507240ad3 2019-08-22T09:19:33] retrieved from: http://www.pyrosetta.org\n",
      "(C) Copyright Rosetta Commons Member Institutions. Created in JHU by Sergey Lyskov and PyRosetta Team.\n",
      "\u001b[0mcore.init: \u001b[0mChecking for fconfig files in pwd and ./rosetta/flags\n",
      "\u001b[0mcore.init: \u001b[0mRosetta version: PyRosetta4.Release.python37.mac r231 2019.35+release.767c1ea25c5 767c1ea25c572fbc078db45ad65dddb507240ad3 http://www.pyrosetta.org 2019-08-22T09:19:33\n",
      "\u001b[0mcore.init: \u001b[0mcommand: PyRosetta -ex1 -ex2aro -database /Users/ramyar/Dropbox/GradSchool/Research/packages/PyRosetta4.Release.python37.mac.release-231/setup/build/lib/pyrosetta/database\n",
      "\u001b[0mbasic.random.init_random_generator: \u001b[0m'RNG device' seed mode, using '/dev/urandom', seed=621303715 seed_offset=0 real_seed=621303715\n",
      "\u001b[0mbasic.random.init_random_generator: \u001b[0mRandomGenerator:init: Normal mode, seed=621303715 RG_type=mt19937\n"
     ]
    }
   ],
   "source": [
    "from pyrosetta import *\n",
    "init()"
   ]
  },
  {
   "cell_type": "code",
   "execution_count": 3,
   "metadata": {},
   "outputs": [],
   "source": [
    "from pyrosetta.rosetta import *\n",
    "from pyrosetta.rosetta.core.pose.rna import *\n",
    "from pyrosetta.rosetta.core.pose import *"
   ]
  },
  {
   "cell_type": "markdown",
   "metadata": {},
   "source": [
    "## Exploring geometry for RNA ##"
   ]
  },
  {
   "cell_type": "markdown",
   "metadata": {},
   "source": [
    "Let's load in this structure with PyRosetta (make sure that you have the PDB file located in your current directory):\n",
    "\n",
    "`cd google_drive/My\\ Drive/student-notebooks/\n",
    "pose = pose_from_pdb(\"inputs/stem_loop.pdb\")`"
   ]
  },
  {
   "cell_type": "code",
   "execution_count": 4,
   "metadata": {
    "nbgrader": {
     "grade": true,
     "grade_id": "cell-690a147764ad96d7",
     "locked": false,
     "points": 0,
     "schema_version": 1,
     "solution": true
    },
    "scrolled": true
   },
   "outputs": [
    {
     "name": "stdout",
     "output_type": "stream",
     "text": [
      "\u001b[0mcore.chemical.GlobalResidueTypeSet: \u001b[0mFinished initializing fa_standard residue type set.  Created 980 residue types\n",
      "\u001b[0mcore.chemical.GlobalResidueTypeSet: \u001b[0mTotal time to initialize 0.978188 seconds.\n",
      "\u001b[0mcore.import_pose.import_pose: \u001b[0mFile 'inputs/stem_loop.pdb' automatically determined to be of type PDB\n",
      "\u001b[0mcore.io.pose_from_sfr.chirality_resolution: \u001b[0mFlipping atom xyz for H5' and H5'' for residue   C\n"
     ]
    }
   ],
   "source": [
    "### BEGIN SOLUTION\n",
    "pose = pose_from_pdb(\"inputs/stem_loop.pdb\")\n",
    "### END SOLUTION"
   ]
  },
  {
   "cell_type": "markdown",
   "metadata": {},
   "source": [
    "Let's explore the structure in this PDB file. First, use `pose.sequence()` to look at the sequence:"
   ]
  },
  {
   "cell_type": "code",
   "execution_count": 5,
   "metadata": {
    "nbgrader": {
     "grade": true,
     "grade_id": "cell-61e3c7efb8ae6b94",
     "locked": false,
     "points": 0,
     "schema_version": 1,
     "solution": true
    },
    "scrolled": true
   },
   "outputs": [
    {
     "data": {
      "text/plain": [
       "'cauccgaaaggaug'"
      ]
     },
     "execution_count": 5,
     "metadata": {},
     "output_type": "execute_result"
    }
   ],
   "source": [
    "# print out the sequence of the pose\n",
    "### BEGIN SOLUTION\n",
    "pose.sequence()\n",
    "### END SOLUTION"
   ]
  },
  {
   "cell_type": "markdown",
   "metadata": {},
   "source": [
    "We can see that the pose seems to contain RNA residues. To check this, let's go through the pose residue by residue, checking if each one is RNA."
   ]
  },
  {
   "cell_type": "code",
   "execution_count": 6,
   "metadata": {},
   "outputs": [
    {
     "name": "stdout",
     "output_type": "stream",
     "text": [
      "True\n",
      "True\n",
      "True\n",
      "True\n",
      "True\n",
      "True\n",
      "True\n",
      "True\n",
      "True\n",
      "True\n",
      "True\n",
      "True\n",
      "True\n",
      "True\n"
     ]
    }
   ],
   "source": [
    "for ii in range(pose.size()):\n",
    "    print(pose.residue_type(5).is_RNA())"
   ]
  },
  {
   "cell_type": "markdown",
   "metadata": {},
   "source": [
    "RNA bases interact with each other via **base pairing**, either through the Watson-Crick base pairs that make up standard A-form helices or through non-canonical base pairing interactions. We can use the `classify_base_pairs` function (this lives in `core:pose:rna` which was loaded above) to find and classify all the base pairs in the current pose. Let's take a look."
   ]
  },
  {
   "cell_type": "code",
   "execution_count": 7,
   "metadata": {},
   "outputs": [
    {
     "name": "stdout",
     "output_type": "stream",
     "text": [
      "\u001b[0mbasic.io.database: \u001b[0mDatabase file opened: scoring/score_functions/hbonds/ref2015_params/HBPoly1D.csv\n",
      "\u001b[0mbasic.io.database: \u001b[0mDatabase file opened: scoring/score_functions/hbonds/ref2015_params/HBFadeIntervals.csv\n",
      "\u001b[0mbasic.io.database: \u001b[0mDatabase file opened: scoring/score_functions/hbonds/ref2015_params/HBEval.csv\n",
      "\u001b[0mbasic.io.database: \u001b[0mDatabase file opened: scoring/score_functions/hbonds/ref2015_params/DonStrength.csv\n",
      "\u001b[0mbasic.io.database: \u001b[0mDatabase file opened: scoring/score_functions/hbonds/ref2015_params/AccStrength.csv\n",
      "1 14 WC WC ANTI\n",
      "2 13 WC WC ANTI\n",
      "3 12 WC WC ANTI\n",
      "4 11 WC WC ANTI\n",
      "5 10 WC WC ANTI\n",
      "6 9 SUGAR HOOG ANTI\n"
     ]
    }
   ],
   "source": [
    "base_pairs = classify_base_pairs(pose)\n",
    "for base_pair in base_pairs:\n",
    "    print(base_pair)"
   ]
  },
  {
   "cell_type": "markdown",
   "metadata": {},
   "source": [
    "We can see that the RNA molecule consists of Watson-Crick base pairs between residues 1-5 and residues 10-14 forming a standard RNA helix. We can also see that residues 6 and 9 form a non-canonical base pair interaction between the sugar and Hoogsteen edges of the respective bases. We can think of this structure as a simple stem-loop, with an idealized A-form helix between residues 1-5 and residues 10-14, and with a tetraloop connecting these chains."
   ]
  },
  {
   "cell_type": "markdown",
   "metadata": {},
   "source": [
    "Let's use some of Rosetta's tools for measuring **distances and torsions** to understand the typical geometry of an idealized A-form helix.\n",
    "\n",
    "What is the distance between the phosphate atoms of two consecutive residues in one strand of a helix? Check this for a couple pairs of residues."
   ]
  },
  {
   "cell_type": "code",
   "execution_count": 8,
   "metadata": {},
   "outputs": [
    {
     "name": "stdout",
     "output_type": "stream",
     "text": [
      "5.923353746008057\n",
      "5.846964169549871\n"
     ]
    }
   ],
   "source": [
    "P1_xyz = pose.residue(1).xyz(\"P\")\n",
    "P2_xyz = pose.residue(2).xyz(\"P\")\n",
    "P3_xyz = pose.residue(3).xyz(\"P\")\n",
    "print((P1_xyz - P2_xyz).norm())\n",
    "print((P2_xyz - P3_xyz).norm())"
   ]
  },
  {
   "cell_type": "markdown",
   "metadata": {},
   "source": [
    "RNA nucleotides are quite large compared to amino acids, with many more torsion angles. In the diagram of a nucleotide below, we can see the backbone torsions applicable to RNA: $\\alpha$, $\\beta$, $\\gamma$, $\\delta$, $\\epsilon$, $\\zeta$, and $\\chi$."
   ]
  },
  {
   "cell_type": "markdown",
   "metadata": {},
   "source": [
    "![nucleotide_torsions](Media/nucleotide_torsions.png)"
   ]
  },
  {
   "cell_type": "markdown",
   "metadata": {},
   "source": [
    "We can access the values of these torsions through the pose object. Just like protein torsions can be accessed with functions like `pose.phi(resid)`, RNA torsions can be accessed with analogous functions like `pose.alpha(resid)`.\n",
    "\n",
    "**Exercise**: Below, make a function that prints out all the torsions for a given residue. Then, using that function, check the torsions for three different residues in the RNA helix. How similar are torsion angles for different residues in an idealized helix?"
   ]
  },
  {
   "cell_type": "code",
   "execution_count": 9,
   "metadata": {},
   "outputs": [],
   "source": [
    "def print_torsions(pose, resi):\n",
    "    print(\"%s: %f\" % (\"alpha\", pose.alpha(resi)))\n",
    "    print(\"%s: %f\" % (\"beta\", pose.beta(resi)))\n",
    "    print(\"%s: %f\" % (\"gamma\", pose.gamma(resi)))\n",
    "    print(\"%s: %f\" % (\"delta\", pose.delta(resi)))\n",
    "    print(\"%s: %f\" % (\"epsilon\", pose.epsilon(resi)))\n",
    "    print(\"%s: %f\" % (\"zeta\", pose.zeta(resi)))\n",
    "    print(\"%s: %f\" % (\"chi\", pose.chi(resi)))"
   ]
  },
  {
   "cell_type": "code",
   "execution_count": 10,
   "metadata": {},
   "outputs": [
    {
     "name": "stdout",
     "output_type": "stream",
     "text": [
      "Torsions for residue 2:\n",
      "alpha: -72.516450\n",
      "beta: 178.544461\n",
      "gamma: 58.327244\n",
      "delta: 79.813633\n",
      "epsilon: -152.375244\n",
      "zeta: -70.561778\n",
      "chi: 74.780524\n",
      "Torsions for residue 3:\n",
      "alpha: -65.899308\n",
      "beta: 173.462004\n",
      "gamma: 56.858161\n",
      "delta: 79.609718\n",
      "epsilon: -152.592269\n",
      "zeta: -70.540365\n",
      "chi: 77.981938\n",
      "Torsions for residue 12:\n",
      "alpha: -67.502850\n",
      "beta: 174.408225\n",
      "gamma: 56.171977\n",
      "delta: 81.812182\n",
      "epsilon: -149.905716\n",
      "zeta: -76.028946\n",
      "chi: 75.291052\n"
     ]
    }
   ],
   "source": [
    "print(\"Torsions for residue 2:\")\n",
    "print_torsions(pose, 2)\n",
    "print(\"Torsions for residue 3:\")\n",
    "print_torsions(pose, 3)\n",
    "print(\"Torsions for residue 12:\")\n",
    "print_torsions(pose, 12)"
   ]
  },
  {
   "cell_type": "markdown",
   "metadata": {},
   "source": [
    "## Scoring RNA poses ##"
   ]
  },
  {
   "cell_type": "markdown",
   "metadata": {},
   "source": [
    "Rosetta's energy functions provide a mechanism to score RNA structures, rewarding realistic conformations using a variety of score terms. In this section, we will see how to score RNA poses, and we will use these score terms to better understand our structure.\n",
    "\n",
    "To score structures with RNA in Rosetta, it is best to use a high-resolution energy function designed to work with RNA, for instance `stepwise/rna/rna_res_level_energy4.wts`. In fact, the standard high resolution energy function used in Rosetta does not include the score terms that are quite helpful for modeling RNA. To see this, we will evaluate our RNA pose with the `ref2015` score function and `stepwise/rna/rna_res_level_energy4.wts`, comparing the resulting score term values."
   ]
  },
  {
   "cell_type": "code",
   "execution_count": 11,
   "metadata": {
    "scrolled": true
   },
   "outputs": [
    {
     "name": "stdout",
     "output_type": "stream",
     "text": [
      "\u001b[0mcore.scoring.etable: \u001b[0mStarting energy table calculation\n",
      "\u001b[0mcore.scoring.etable: \u001b[0msmooth_etable: changing atr/rep split to bottom of energy well\n",
      "\u001b[0mcore.scoring.etable: \u001b[0msmooth_etable: spline smoothing lj etables (maxdis = 6)\n",
      "\u001b[0mcore.scoring.etable: \u001b[0msmooth_etable: spline smoothing solvation etables (max_dis = 6)\n",
      "\u001b[0mcore.scoring.etable: \u001b[0mFinished calculating energy tables.\n",
      "\u001b[0mbasic.io.database: \u001b[0mDatabase file opened: scoring/score_functions/rama/fd/all.ramaProb\n",
      "\u001b[0mbasic.io.database: \u001b[0mDatabase file opened: scoring/score_functions/rama/fd/prepro.ramaProb\n",
      "\u001b[0mbasic.io.database: \u001b[0mDatabase file opened: scoring/score_functions/omega/omega_ppdep.all.txt\n",
      "\u001b[0mbasic.io.database: \u001b[0mDatabase file opened: scoring/score_functions/omega/omega_ppdep.gly.txt\n",
      "\u001b[0mbasic.io.database: \u001b[0mDatabase file opened: scoring/score_functions/omega/omega_ppdep.pro.txt\n",
      "\u001b[0mbasic.io.database: \u001b[0mDatabase file opened: scoring/score_functions/omega/omega_ppdep.valile.txt\n",
      "\u001b[0mbasic.io.database: \u001b[0mDatabase file opened: scoring/score_functions/P_AA_pp/P_AA\n",
      "\u001b[0mbasic.io.database: \u001b[0mDatabase file opened: scoring/score_functions/P_AA_pp/P_AA_n\n",
      "\u001b[0mcore.scoring.P_AA: \u001b[0mshapovalov_lib::shap_p_aa_pp_smooth_level of 1( aka low_smooth ) got activated.\n",
      "\u001b[0mbasic.io.database: \u001b[0mDatabase file opened: scoring/score_functions/P_AA_pp/shapovalov/10deg/kappa131/a20.prop\n"
     ]
    }
   ],
   "source": [
    "hires_sf = core.scoring.ScoreFunctionFactory.create_score_function(\"ref2015\");"
   ]
  },
  {
   "cell_type": "code",
   "execution_count": 12,
   "metadata": {
    "scrolled": true
   },
   "outputs": [
    {
     "name": "stdout",
     "output_type": "stream",
     "text": [
      "\u001b[0mcore.scoring.ScoreFunction: \u001b[0m\n",
      "------------------------------------------------------------\n",
      " Scores                       Weight   Raw Score Wghtd.Score\n",
      "------------------------------------------------------------\n",
      " fa_atr                       1.000    -146.195    -146.195\n",
      " fa_rep                       0.550      21.661      11.914\n",
      " fa_sol                       1.000     181.903     181.903\n",
      " fa_intra_rep                 0.005     104.969       0.525\n",
      " fa_intra_sol_xover4          1.000      43.757      43.757\n",
      " lk_ball_wtd                  1.000     -23.168     -23.168\n",
      " fa_elec                      1.000     -11.254     -11.254\n",
      " pro_close                    1.250       0.000       0.000\n",
      " hbond_sr_bb                  1.000       0.000       0.000\n",
      " hbond_lr_bb                  1.000       0.000       0.000\n",
      " hbond_bb_sc                  1.000       0.000       0.000\n",
      " hbond_sc                     1.000     -23.799     -23.799\n",
      " dslf_fa13                    1.250       0.000       0.000\n",
      " omega                        0.400       0.000       0.000\n",
      " fa_dun                       0.700       0.000       0.000\n",
      " p_aa_pp                      0.600       0.000       0.000\n",
      " yhh_planarity                0.625       0.000       0.000\n",
      " ref                          1.000       0.000       0.000\n",
      " rama_prepro                  0.450       0.000       0.000\n",
      "---------------------------------------------------\n",
      " Total weighted score:                       33.681\n"
     ]
    }
   ],
   "source": [
    "hires_sf.show(pose)"
   ]
  },
  {
   "cell_type": "markdown",
   "metadata": {},
   "source": [
    "Note that `ref2015` does contain some terms that are used for RNA modeling like VDW and hydrogen bonding score terms. What extra terms are included in the RNA high resolution score function?"
   ]
  },
  {
   "cell_type": "code",
   "execution_count": 13,
   "metadata": {
    "scrolled": true
   },
   "outputs": [
    {
     "name": "stdout",
     "output_type": "stream",
     "text": [
      "\u001b[0mcore.scoring.etable: \u001b[0mStarting energy table calculation\n",
      "\u001b[0mcore.scoring.etable: \u001b[0msmooth_etable: changing atr/rep split to bottom of energy well\n",
      "\u001b[0mcore.scoring.etable: \u001b[0msmooth_etable: spline smoothing lj etables (maxdis = 6)\n",
      "\u001b[0mcore.scoring.etable: \u001b[0msmooth_etable: spline smoothing solvation etables (max_dis = 6)\n",
      "\u001b[0mcore.scoring.etable: \u001b[0mFinished calculating energy tables.\n"
     ]
    }
   ],
   "source": [
    "rna_hires_sf = core.scoring.ScoreFunctionFactory.create_score_function(\"stepwise/rna/rna_res_level_energy4.wts\");"
   ]
  },
  {
   "cell_type": "code",
   "execution_count": 14,
   "metadata": {},
   "outputs": [
    {
     "name": "stdout",
     "output_type": "stream",
     "text": [
      "\u001b[0mcore.scoring.ScoreFunction: \u001b[0m\n",
      "------------------------------------------------------------\n",
      " Scores                       Weight   Raw Score Wghtd.Score\n",
      "------------------------------------------------------------\n",
      " fa_atr                       0.210    -212.399     -44.604\n",
      " fa_rep                       0.200      57.744      11.549\n",
      " fa_intra_rep                 0.003     186.211       0.540\n",
      " lk_nonpolar                  0.250      -9.222      -2.305\n",
      " fa_elec_rna_phos_phos        1.700       0.378       0.643\n",
      " rna_torsion                  1.000       3.751       3.751\n",
      " suiteness_bonus              1.000       0.000       0.000\n",
      " rna_sugar_close              0.820       3.938       3.229\n",
      " fa_stack                     0.130    -234.442     -30.477\n",
      " stack_elec                   0.760      -0.903      -0.686\n",
      " geom_sol_fast                0.170      74.843      12.723\n",
      " hbond_sr_bb_sc               0.960       0.000       0.000\n",
      " hbond_lr_bb_sc               0.960       0.000       0.000\n",
      " hbond_sc                     0.960     -23.799     -22.848\n",
      " ref                          1.000      50.440      50.440\n",
      " free_suite                   2.000       0.000       0.000\n",
      " free_2HOprime                1.000       0.000       0.000\n",
      " intermol                     1.000       0.000       0.000\n",
      " other_pose                   1.000       0.000       0.000\n",
      " loop_close                   1.000       0.000       0.000\n",
      " linear_chainbreak            5.000       0.000       0.000\n",
      "---------------------------------------------------\n",
      " Total weighted score:                      -18.046\n"
     ]
    }
   ],
   "source": [
    "rna_hires_sf.show(pose)"
   ]
  },
  {
   "cell_type": "markdown",
   "metadata": {},
   "source": [
    "We can see that some new score terms in the high resolution RNA potential, including `rna_torsion`, `suiteness_bonus`, `rna_sugar_close`, and `fa_stack`. We will explore a few of these terms below. To learn about these and other score terms that have been included to more realistically model RNA, check out these papers: "
   ]
  },
  {
   "cell_type": "markdown",
   "metadata": {},
   "source": [
    "Analogous to the protein low-resolution potential, an RNA low-resolution potential has been developed to more quickly score RNA structures represented in centroid mode. Lets take a look at the score terms involved."
   ]
  },
  {
   "cell_type": "code",
   "execution_count": 15,
   "metadata": {
    "scrolled": true
   },
   "outputs": [
    {
     "name": "stdout",
     "output_type": "stream",
     "text": [
      "\u001b[0mbasic.io.database: \u001b[0mDatabase file opened: scoring/rna/rna_atom_vdw.txt\n",
      "\u001b[0mbasic.io.database: \u001b[0mDatabase file opened: scoring/rna/rnp_atom_vdw_min_distances_reformat_MIN.txt\n",
      "\u001b[0mcore.scoring.ScoringManager: \u001b[0mReading in: /Users/ramyar/Dropbox/GradSchool/Research/packages/PyRosetta4.Release.python37.mac.release-231/setup/build/lib/pyrosetta/database/scoring/rna/rna_base_pair_xy.dat\n",
      "\u001b[0mcore.scoring.rna.RNA_LowResolutionPotential: \u001b[0mReading basepair x - y potential file: scoring/rna/rna_base_pair_xy.dat\n",
      "\u001b[0mcore.scoring.rna.RNA_LowResolutionPotential: \u001b[0mFinished reading basepair x - y potential file: scoring/rna/rna_base_pair_xy.dat\n",
      "\u001b[0mcore.scoring.rna.RNA_LowResolutionPotential: \u001b[0mReading non - base - base x - y potential file: scoring/rna/rna_base_backbone_xy.dat\n",
      "\u001b[0mcore.scoring.rna.RNA_LowResolutionPotential: \u001b[0mReading RNA backbone backbone potential file: scoring/rna/rna_backbone_backbone.dat\n",
      "\u001b[0mcore.scoring.rna.RNP_LowResPotential: \u001b[0mReading RNP basepair x - y potential file: scoring/rna/rnp_base_pair.txt\n",
      "\u001b[0mcore.scoring.rna.RNP_LowResPotential: \u001b[0mFinished reading RNP basepair x - y potential file: scoring/rna/rnp_base_pair.txt\n",
      "\u001b[0mcore.scoring.rna.RNP_LowResPotential: \u001b[0mReading RNP AA RNA backbone potential file: scoring/rna/rnp_backbone_potential.txt\n",
      "\u001b[0mcore.scoring.rna.RNP_LowResPotential: \u001b[0mFinished reading RNP AA RNA backbone potential file: scoring/rna/rnp_backbone_potential.txt\n",
      "\u001b[0mcore.scoring.rna.RNP_LowResPairDistPotential: \u001b[0mReading RNP pair distance potential file: scoring/rna/rnp_pair_dist_potential_renorm.txt\n",
      "\u001b[0mcore.scoring.rna.RNP_LowResPairDistPotential: \u001b[0mFinished reading RNP pair distance potential file: scoring/rna/rnp_pair_dist_potential_renorm.txt\n"
     ]
    }
   ],
   "source": [
    "rna_lowres_sf = core.scoring.ScoreFunctionFactory.create_score_function(\"rna/denovo/rna_lores_with_rnp_aug.wts\");"
   ]
  },
  {
   "cell_type": "code",
   "execution_count": 16,
   "metadata": {
    "scrolled": false
   },
   "outputs": [
    {
     "name": "stdout",
     "output_type": "stream",
     "text": [
      "\u001b[0mcore.scoring.ScoreFunction: \u001b[0m\n",
      "------------------------------------------------------------\n",
      " Scores                       Weight   Raw Score Wghtd.Score\n",
      "------------------------------------------------------------\n",
      " rna_data_backbone            2.000       0.000       0.000\n",
      " rna_vdw                      2.000       0.221       0.442\n",
      " rnp_vdw                     50.000       0.000       0.000\n",
      " rna_base_backbone            2.000      -1.884      -3.769\n",
      " rna_backbone_backbone        2.000       0.000       0.000\n",
      " rna_repulsive                5.000       0.000       0.000\n",
      " rna_base_pair                2.000     -53.214    -106.429\n",
      " rna_base_axis                0.400     -32.234     -12.894\n",
      " rna_base_stagger             2.000     -28.072     -56.143\n",
      " rna_base_stack               2.000      -3.243      -6.486\n",
      " rna_base_stack_axis          0.400     -20.598      -8.239\n",
      " rnp_base_pair                2.000       0.000       0.000\n",
      " rnp_stack                    5.000       0.000       0.000\n",
      " rnp_pair_dist                0.200       0.000       0.000\n",
      " rnp_aa_to_rna_backbone       1.000       0.000       0.000\n",
      " rna_rg                       0.500       8.609       4.304\n",
      " atom_pair_constraint         1.000       0.000       0.000\n",
      " base_pair_constraint         1.000       0.000       0.000\n",
      " linear_chainbreak            8.000       0.000       0.000\n",
      "---------------------------------------------------\n",
      " Total weighted score:                     -189.213\n"
     ]
    }
   ],
   "source": [
    "rna_lowres_sf.show(pose)"
   ]
  },
  {
   "cell_type": "markdown",
   "metadata": {},
   "source": [
    "We can see that when modeling an RNA molecule using centroid positions for nucleotides, we need to separately include terms for base pairing (`rna_base_pair`), base-backbone interactions (`rna_base_backbone`), and so on. "
   ]
  },
  {
   "cell_type": "markdown",
   "metadata": {},
   "source": [
    "Returning to the high resolution RNA score function, let us see if we can decompose the energies further to understand which parts of the structure contribute positively and negatively to its energy. First, we can decompose the energies per residue like below."
   ]
  },
  {
   "cell_type": "code",
   "execution_count": 17,
   "metadata": {},
   "outputs": [
    {
     "name": "stdout",
     "output_type": "stream",
     "text": [
      " fa_atr: -16.0481 fa_rep: 4.95774 fa_intra_atr: -10.6601 fa_intra_rep: 10.4003 fa_intra_sol: 6.2042 fa_intra_atr_nonprotein: -10.6601 fa_intra_rep_nonprotein: 10.4003 fa_intra_sol_nonprotein: 6.2042 lk_nonpolar: -0.837546 fa_elec_rna_phos_phos: -0.0122409 rna_torsion: 0.105802 rna_torsion_sc: 0.054655 rna_sugar_close: 0.471854 fa_stack: -14.7643 stack_elec: 0.0989445 geom_sol_fast: 6.69203 geom_sol_fast_intra_RNA: 0.348984 hbond_sc: -2.22045 ref: 2.82 total_score: -2.10402\n"
     ]
    }
   ],
   "source": [
    "rna_hires_sf(pose)\n",
    "nonzero_scores = pose.energies().residue_total_energies(4).show_nonzero()\n",
    "print(nonzero_scores)"
   ]
  },
  {
   "cell_type": "markdown",
   "metadata": {},
   "source": [
    "A lot of the RNA specific energy terms make more sense when we look at pairs of residues. The energy graph object allows you to explore pairwise energies. The function below uses the energy graph to print out all non-zero scores between residues for a particular score term."
   ]
  },
  {
   "cell_type": "code",
   "execution_count": 18,
   "metadata": {},
   "outputs": [],
   "source": [
    "def print_nonzero_pairwise_energies(pose, energy_term, sf):\n",
    "    sf(pose)\n",
    "    energy_graph = pose.energies().energy_graph()\n",
    "    for ii in range(1, pose.size() + 1):\n",
    "        for jj in range(ii + 1, pose.size() + 1):\n",
    "            edge = energy_graph.find_energy_edge(ii, jj)\n",
    "            if (edge != None):\n",
    "                emap = edge.fill_energy_map()\n",
    "                resid1 = str(ii) + \" \" + pose.residue(ii).name1()\n",
    "                resid2 = str(jj) + \" \" + pose.residue(jj).name1()\n",
    "                resid_pair = resid1 + \" \" + resid2\n",
    "                score = emap[ energy_term ]\n",
    "                if score != 0:\n",
    "                    print(\"%s: %f\" % (resid_pair, score))"
   ]
  },
  {
   "cell_type": "markdown",
   "metadata": {},
   "source": [
    "Using the function above, we're going to look at the stacking energies in the high resolution potential."
   ]
  },
  {
   "cell_type": "code",
   "execution_count": 19,
   "metadata": {
    "scrolled": true
   },
   "outputs": [
    {
     "name": "stdout",
     "output_type": "stream",
     "text": [
      "1 c 2 a: -8.786457\n",
      "1 c 13 u: -0.021402\n",
      "1 c 14 g: -0.014325\n",
      "2 a 3 u: -17.195315\n",
      "2 a 12 a: -1.166573\n",
      "2 a 13 u: -0.021531\n",
      "2 a 14 g: -18.136998\n",
      "3 u 4 c: -10.651433\n",
      "3 u 11 g: -0.182032\n",
      "3 u 12 a: -0.025817\n",
      "3 u 13 u: -2.437063\n",
      "4 c 5 c: -11.016306\n",
      "4 c 6 g: -0.042999\n",
      "4 c 10 g: -0.170933\n",
      "4 c 11 g: -0.003559\n",
      "4 c 12 a: -7.643363\n",
      "5 c 6 g: -14.998700\n",
      "5 c 9 a: -0.055888\n",
      "5 c 10 g: -0.004817\n",
      "5 c 11 g: -9.170599\n",
      "6 g 8 a: -1.056694\n",
      "6 g 9 a: -0.381851\n",
      "6 g 10 g: -11.820445\n",
      "7 a 8 a: -21.526270\n",
      "8 a 9 a: -22.045880\n",
      "9 a 10 g: -13.441684\n",
      "10 g 11 g: -18.409410\n",
      "11 g 12 a: -18.811699\n",
      "12 a 13 u: -16.199935\n",
      "13 u 14 g: -9.002159\n"
     ]
    }
   ],
   "source": [
    "print_nonzero_pairwise_energies(pose, core.scoring.ScoreType.fa_stack, rna_hires_sf)"
   ]
  },
  {
   "cell_type": "markdown",
   "metadata": {},
   "source": [
    "We can see that the **stacking energies** are highest for consecutive residues. In the idealized helix, the best stacking energy bonuses are given to stacked purines."
   ]
  },
  {
   "cell_type": "markdown",
   "metadata": {},
   "source": [
    "Now lets take a look at the **torsion energies**. Which energies are the highest? Where are these torsions in the structure?"
   ]
  },
  {
   "cell_type": "code",
   "execution_count": 20,
   "metadata": {},
   "outputs": [
    {
     "name": "stdout",
     "output_type": "stream",
     "text": [
      "1 c 2 a: 0.041018\n",
      "2 a 3 u: 0.003446\n",
      "3 u 4 c: 0.012547\n",
      "4 c 5 c: 0.015482\n",
      "5 c 6 g: 0.048322\n",
      "6 g 7 a: 0.273854\n",
      "7 a 8 a: 0.096358\n",
      "8 a 9 a: 0.020082\n",
      "9 a 10 g: 0.248952\n",
      "10 g 11 g: 0.019879\n",
      "11 g 12 a: 0.012364\n",
      "12 a 13 u: 0.017076\n",
      "13 u 14 g: 0.002773\n"
     ]
    }
   ],
   "source": [
    "print_nonzero_pairwise_energies(pose, core.scoring.ScoreType.rna_torsion, rna_hires_sf)"
   ]
  },
  {
   "cell_type": "markdown",
   "metadata": {},
   "source": [
    "RNA structures are often viewed as being composed of small building blocks called **RNA motifs**. These motifs can be as simple as stacks of base pairs, which we have seen above. Typical motifs also include stereotyped loops, junctions, and tertiary contacts present across many common RNA molecules. Let's take a look to see whether any of these common RNA motifs are present in our simple stem loop structure."
   ]
  },
  {
   "cell_type": "code",
   "execution_count": 21,
   "metadata": {},
   "outputs": [
    {
     "name": "stdout",
     "output_type": "stream",
     "text": [
      "\u001b[0mcore.scoring.rna.RNA_LowResolutionPotential: \u001b[0mReading basepair x - y potential file: scoring/rna/rna_base_pair_xy.dat\n",
      "\u001b[0mcore.scoring.rna.RNA_LowResolutionPotential: \u001b[0mFinished reading basepair x - y potential file: scoring/rna/rna_base_pair_xy.dat\n",
      "\u001b[0mcore.scoring.rna.RNA_LowResolutionPotential: \u001b[0mReading non - base - base x - y potential file: scoring/rna/rna_base_backbone_xy.dat\n",
      "\u001b[0mcore.scoring.rna.RNA_LowResolutionPotential: \u001b[0mReading RNA backbone backbone potential file: scoring/rna/rna_backbone_backbone.dat\n",
      "WC_STACKED_PAIR [1, 2, 13, 14]\n",
      "WC_STACKED_PAIR [4, 5, 10, 11]\n",
      "WC_STACKED_PAIR [11, 12, 3, 4]\n",
      "WC_STACKED_PAIR [10, 11, 4, 5]\n",
      "WC_STACKED_PAIR [3, 4, 11, 12]\n",
      "WC_STACKED_PAIR [12, 13, 2, 3]\n",
      "WC_STACKED_PAIR [2, 3, 12, 13]\n",
      "WC_STACKED_PAIR [13, 14, 1, 2]\n",
      "U_TURN [6, 7, 8]\n",
      "GNRA_TETRALOOP [6, 7, 8, 9]\n",
      "\n"
     ]
    }
   ],
   "source": [
    "lowres_potential = core.scoring.rna.RNA_LowResolutionPotential( \"scoring/rna/rna_base_pair_xy.dat\" )\n",
    "rna_scoring_info = core.scoring.rna.rna_scoring_info_from_pose(pose).rna_filtered_base_base_info()\n",
    "rna_motifs = core.scoring.rna.get_rna_motifs( pose, lowres_potential, rna_scoring_info)\n",
    "print(rna_motifs)"
   ]
  },
  {
   "cell_type": "markdown",
   "metadata": {},
   "source": [
    "We can see that our RNA structure includes many stacked Watson-Crick base pair, making the idealized A-form helix. In addition, the loop connecting the strands of the helix in our structure is a stereotyped \"GNRA\" tetraloop, taking a loop conformation that is common across many RNA structures in the PDB."
   ]
  },
  {
   "cell_type": "markdown",
   "metadata": {},
   "source": [
    "## Manipulating RNA poses ##"
   ]
  },
  {
   "cell_type": "markdown",
   "metadata": {},
   "source": [
    "Rosetta allows you to not just explore a given PDB structure, but to manipulate and design structures. In this section, we discuss some basic ways to manipulate RNA structures, and we observe the effects of these manipulations on the structure's energy. For each manipulation, we will make a new copy of the pose to make sure that our changes do not affect the original structure we loaded in."
   ]
  },
  {
   "cell_type": "markdown",
   "metadata": {},
   "source": [
    "One basic manipulation we can make to an RNA structure is to change torsion angles for individual residues. Let's try this out on a residue in the A-form helix, and observe the effect on the rna_torsion score. Did the change we made make the score better or worse?"
   ]
  },
  {
   "cell_type": "code",
   "execution_count": 22,
   "metadata": {},
   "outputs": [
    {
     "name": "stdout",
     "output_type": "stream",
     "text": [
      "Torsion score before: 3.750853\n",
      "Torsion score after: 4.166565\n"
     ]
    }
   ],
   "source": [
    "new_pose = Pose()\n",
    "new_pose.assign(pose)\n",
    "rna_hires_sf(pose)\n",
    "torsion_score_before = pose.energies().total_energies()[core.scoring.ScoreType.rna_torsion]\n",
    "new_pose.set_beta(2, 110)\n",
    "rna_hires_sf(new_pose)\n",
    "torsion_score_after = new_pose.energies().total_energies()[core.scoring.ScoreType.rna_torsion]\n",
    "print(\"%s: %f\" % (\"Torsion score before\", torsion_score_before))\n",
    "print(\"%s: %f\" % (\"Torsion score after\", torsion_score_after))"
   ]
  },
  {
   "cell_type": "markdown",
   "metadata": {},
   "source": [
    "If you want to replace residues in an RNA molecule with their idealized versions, you can use the RNA_IdealCoord class in Rosetta. Below is an example for using that method to first replace a single residue with its idealized version, and then to replace all residues with their idealized versions across the whole pose."
   ]
  },
  {
   "cell_type": "code",
   "execution_count": 23,
   "metadata": {},
   "outputs": [],
   "source": [
    "ideal_pose_one = Pose()\n",
    "ideal_pose_one.assign(pose)\n",
    "resid = 2\n",
    "core.pose.rna.RNA_IdealCoord().apply(ideal_pose_one, resid, core.chemical.rna.PuckerState.ANY_PUCKER, False)\n",
    "\n",
    "ideal_pose = Pose()\n",
    "ideal_pose.assign(pose)\n",
    "core.pose.rna.RNA_IdealCoord().apply(ideal_pose, False)"
   ]
  },
  {
   "cell_type": "markdown",
   "metadata": {},
   "source": [
    "**Exercise**: Figure out if the total energy of the pose went up or down after replacing one or all of the residues with their idealized versions. What can explain the difference?"
   ]
  },
  {
   "cell_type": "code",
   "execution_count": 24,
   "metadata": {
    "scrolled": true
   },
   "outputs": [
    {
     "name": "stdout",
     "output_type": "stream",
     "text": [
      "-18.045673691089746\n",
      "22.63480325590245\n",
      "-1.1025695607212\n"
     ]
    }
   ],
   "source": [
    "rna_hires_sf(pose)\n",
    "rna_hires_sf(ideal_pose)\n",
    "rna_hires_sf(ideal_pose_one)\n",
    "print(pose.energies().total_energy())\n",
    "print(ideal_pose.energies().total_energy())\n",
    "print(ideal_pose_one.energies().total_energy())"
   ]
  },
  {
   "cell_type": "markdown",
   "metadata": {},
   "source": [
    "Another common manipulation for an RNA structure is to mutate the nucleotides to different bases. This is a manipulation that is commonly used while modeling one RNA structure using coordinates from another homologous (but not identical) structure. Below we can see how to mutate one residue of our RNA structure to another one. We include the `update_full_model_info_from_pose` command to ensure that the pose's internal data is kept up-to-date after the mutation is made."
   ]
  },
  {
   "cell_type": "code",
   "execution_count": 30,
   "metadata": {
    "scrolled": true
   },
   "outputs": [
    {
     "name": "stdout",
     "output_type": "stream",
     "text": [
      "cauccgaaaggaug\n",
      "aauccgaaaggaug\n"
     ]
    }
   ],
   "source": [
    "mutated_pose = Pose()\n",
    "mutated_pose.assign(pose)\n",
    "print(pose.sequence())\n",
    "rosetta.core.pose.rna.mutate_position(mutated_pose, 1, 'a')\n",
    "core.pose.full_model_info.update_full_model_info_from_pose(mutated_pose)\n",
    "print(mutated_pose.sequence())"
   ]
  },
  {
   "cell_type": "markdown",
   "metadata": {},
   "source": [
    "**Exercise**: Make a function that mimics the 'rna_thread' Rosetta application, which takes in a pose and a new sequence and replaces all pose residues with the new sequence's residues. Remember to check that the pose's sequence and the new sequence have the same length. \n",
    "\n",
    "The pose's current sequence is `cauccgaaaggaug`. Use the function you wrote to make a version that has sequence `cauccuucgggaug` and one that has sequence `aaaaagaaauuuuu`."
   ]
  },
  {
   "cell_type": "code",
   "execution_count": 34,
   "metadata": {},
   "outputs": [],
   "source": [
    "def rna_thread(pose, new_seq):\n",
    "    if len(pose.sequence()) != len(new_seq):\n",
    "        print(\"Sequences have different length; cannot rethread\")\n",
    "        return pose\n",
    "    for ii in range(1, pose.size()+1):\n",
    "        rosetta.core.pose.rna.mutate_position(pose, ii, new_seq[ii-1])\n",
    "        core.pose.full_model_info.update_full_model_info_from_pose(pose)\n",
    "    return pose   "
   ]
  },
  {
   "cell_type": "code",
   "execution_count": 35,
   "metadata": {},
   "outputs": [
    {
     "name": "stdout",
     "output_type": "stream",
     "text": [
      "cauccuucgggaug\n",
      "aaaaagaaauuuuu\n"
     ]
    }
   ],
   "source": [
    "uucg_pose = Pose()\n",
    "uucg_pose.assign(pose)\n",
    "uucg_pose = rna_thread(uucg_pose, 'cauccuucgggaug')\n",
    "print(uucg_pose.sequence())\n",
    "\n",
    "auhelix_pose = Pose()\n",
    "auhelix_pose.assign(pose)\n",
    "auhelix_pose = rna_thread(auhelix_pose, 'aaaaagaaauuuuu')\n",
    "print(auhelix_pose.sequence())"
   ]
  },
  {
   "cell_type": "markdown",
   "metadata": {},
   "source": [
    "**Exercise**: The RNA high resolution potential includes hydrogen bonding terms. CG base pairs have more hydrogen bonds than AU base pairs. Compare the original pose with the pose that has all AU base pairs. What happens to the hydrogen bonding energy in the high resolution potential? "
   ]
  },
  {
   "cell_type": "code",
   "execution_count": 37,
   "metadata": {
    "scrolled": true
   },
   "outputs": [
    {
     "name": "stdout",
     "output_type": "stream",
     "text": [
      "AU Helix: -18.166948\n",
      "CG Helix: -23.799493\n"
     ]
    }
   ],
   "source": [
    "rna_hires_sf(auhelix_pose)\n",
    "rna_hires_sf(pose)\n",
    "auhelix_hbond_sc = auhelix_pose.energies().total_energies()[core.scoring.ScoreType.hbond_sc]\n",
    "pose_hbond_sc = pose.energies().total_energies()[core.scoring.ScoreType.hbond_sc]\n",
    "print('%s: %f' % (\"AU Helix\", auhelix_hbond_sc))\n",
    "print('%s: %f' % (\"CG Helix\", pose_hbond_sc))"
   ]
  },
  {
   "cell_type": "markdown",
   "metadata": {},
   "source": [
    "**Exercise**: The stacking energies of the GAAA and UUCG tetraloops differ from each other. Which tetraloop provides the most favorable stacking energies overall? Can you figure out which pairs of residues have different stacking energies when the structure has changed? "
   ]
  },
  {
   "cell_type": "code",
   "execution_count": 38,
   "metadata": {},
   "outputs": [
    {
     "name": "stdout",
     "output_type": "stream",
     "text": [
      "UUCG Loop: -214.060807\n",
      "GAAA Loop: -234.442137\n"
     ]
    }
   ],
   "source": [
    "rna_hires_sf(uucg_pose)\n",
    "rna_hires_sf(pose)\n",
    "uucg_fa_stack = uucg_pose.energies().total_energies()[core.scoring.ScoreType.fa_stack]\n",
    "pose_fa_stack = pose.energies().total_energies()[core.scoring.ScoreType.fa_stack]\n",
    "print('%s: %f' % (\"UUCG Loop\", uucg_fa_stack))\n",
    "print('%s: %f' % (\"GAAA Loop\", pose_fa_stack))"
   ]
  },
  {
   "cell_type": "code",
   "execution_count": 39,
   "metadata": {},
   "outputs": [
    {
     "name": "stdout",
     "output_type": "stream",
     "text": [
      "4 c, 6 g: -0.042999; 4 c, 6 u: -0.020146\n",
      "5 c, 6 g: -14.998700; 5 c, 6 u: -14.424303\n",
      "5 c, 9 a: -0.055888; 5 c, 9 g: -0.040952\n",
      "6 g, 8 a: -1.056694; 6 u, 8 c: -0.798130\n",
      "6 g, 9 a: -0.381851; 6 u, 9 g: -0.142689\n",
      "6 g, 10 g: -11.820445; 6 u, 10 g: -5.138552\n",
      "7 a, 8 a: -21.526270; 7 u, 8 c: -14.881668\n",
      "8 a, 9 a: -22.045880; 8 c, 9 g: -16.479345\n",
      "9 a, 10 g: -13.441684; 9 g, 10 g: -13.063297\n"
     ]
    }
   ],
   "source": [
    "rna_hires_sf(uucg_pose)\n",
    "rna_hires_sf(pose)\n",
    "pose_energy_graph = pose.energies().energy_graph()\n",
    "uucg_energy_graph = uucg_pose.energies().energy_graph()\n",
    "for ii in range(1, pose.size() + 1):\n",
    "    for jj in range(ii + 1, pose.size() + 1):\n",
    "        pose_edge = pose_energy_graph.find_energy_edge(ii, jj)\n",
    "        uucg_edge = uucg_energy_graph.find_energy_edge(ii, jj)\n",
    "        if (pose_edge != None)  and (uucg_edge != None):\n",
    "            pose_emap = pose_edge.fill_energy_map()\n",
    "            uucg_emap = uucg_edge.fill_energy_map()\n",
    "            resid1 = str(ii) + \" \" + pose.residue(ii).name1()\n",
    "            resid1_uucg = str(ii) + \" \" + uucg_pose.residue(ii).name1()\n",
    "            resid2 = str(jj) + \" \" + pose.residue(jj).name1() \n",
    "            resid2_uucg = str(jj) + \" \" + uucg_pose.residue(jj).name1()\n",
    "            resid_pair = resid1 + \", \" + resid2\n",
    "            resid_pair_uucg = resid1_uucg + \", \" + resid2_uucg\n",
    "            pose_score = pose_emap[ core.scoring.ScoreType.fa_stack ]\n",
    "            uucg_score = uucg_emap[ core.scoring.ScoreType.fa_stack ]\n",
    "            if pose_score != uucg_score:\n",
    "                print(\"%s: %f; %s: %f\" % (resid_pair, pose_score, resid_pair_uucg, uucg_score))"
   ]
  }
 ],
 "metadata": {
  "celltoolbar": "Create Assignment",
  "kernelspec": {
   "display_name": "Python 3",
   "language": "python",
   "name": "python3"
  },
  "language_info": {
   "codemirror_mode": {
    "name": "ipython",
    "version": 3
   },
   "file_extension": ".py",
   "mimetype": "text/x-python",
   "name": "python",
   "nbconvert_exporter": "python",
   "pygments_lexer": "ipython3",
   "version": "3.7.1"
  },
  "toc": {
   "base_numbering": 1,
   "nav_menu": {},
   "number_sections": true,
   "sideBar": true,
   "skip_h1_title": false,
   "title_cell": "Table of Contents",
   "title_sidebar": "Contents",
   "toc_cell": false,
   "toc_position": {
    "height": "470px",
    "left": "48px",
    "top": "110px",
    "width": "267.984px"
   },
   "toc_section_display": true,
   "toc_window_display": true
  }
 },
 "nbformat": 4,
 "nbformat_minor": 2
}

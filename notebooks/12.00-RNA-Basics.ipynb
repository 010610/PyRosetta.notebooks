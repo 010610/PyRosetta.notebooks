{
 "cells": [
  {
   "cell_type": "markdown",
   "metadata": {},
   "source": [
    "<!--NOTEBOOK_HEADER-->\n",
    "*This notebook contains material from [PyRosetta](https://RosettaCommons.github.io/PyRosetta);\n",
    "content is available [on Github](https://github.com/RosettaCommons/PyRosetta.notebooks.git).*"
   ]
  },
  {
   "cell_type": "markdown",
   "metadata": {},
   "source": [
    "# RNA in PyRosetta\n",
    "Keywords: classify_base_pairs, RNA torsions, RNA score terms, RNA motifs, mutate_position, RNA thread, RNA minimize, RNA_HelixAssembler, RNA fragment assembly, FARFAR protocol, rna_denovo"
   ]
  },
  {
   "cell_type": "markdown",
   "metadata": {},
   "source": [
    "## References"
   ]
  },
  {
   "cell_type": "markdown",
   "metadata": {},
   "source": [
    "1. R. Das et al., \"Atomic accuracy in predicting and designing noncanonical RNA structure,\" Nature Methods 7:4, 291-294 (2010).\n",
    "\n",
    "\n",
    "2. A. Watkins et al., \"Blind prediction of noncanonical RNA structure at atomic accuracy,\" Science Advances 4:5 (2018).\n"
   ]
  },
  {
   "cell_type": "markdown",
   "metadata": {},
   "source": [
    "## Introduction"
   ]
  },
  {
   "cell_type": "markdown",
   "metadata": {},
   "source": [
    "In this lab, we will explore common tasks and approaches for working with RNA using Rosetta. We will be focusing on a simple system that includes a helix capped by a tetraloop for this exercise."
   ]
  },
  {
   "cell_type": "code",
   "execution_count": 1,
   "metadata": {},
   "outputs": [],
   "source": [
    "# Notebook setup\n",
    "import sys\n",
    "if 'google.colab' in sys.modules:\n",
    "    !pip install pyrosettacolabsetup\n",
    "    import pyrosettacolabsetup\n",
    "    pyrosettacolabsetup.setup()\n",
    "    print (\"Notebook is set for PyRosetta use in Colab.  Have fun!\")"
   ]
  },
  {
   "cell_type": "code",
   "execution_count": 2,
   "metadata": {
    "scrolled": true
   },
   "outputs": [
    {
     "name": "stdout",
     "output_type": "stream",
     "text": [
      "PyRosetta-4 2019 [Rosetta PyRosetta4.Release.python37.mac 2019.35+release.767c1ea25c572fbc078db45ad65dddb507240ad3 2019-08-22T09:19:33] retrieved from: http://www.pyrosetta.org\n",
      "(C) Copyright Rosetta Commons Member Institutions. Created in JHU by Sergey Lyskov and PyRosetta Team.\n",
      "\u001b[0mcore.init: \u001b[0mChecking for fconfig files in pwd and ./rosetta/flags\n",
      "\u001b[0mcore.init: \u001b[0mRosetta version: PyRosetta4.Release.python37.mac r231 2019.35+release.767c1ea25c5 767c1ea25c572fbc078db45ad65dddb507240ad3 http://www.pyrosetta.org 2019-08-22T09:19:33\n",
      "\u001b[0mcore.init: \u001b[0mcommand: PyRosetta -ex1 -ex2aro -database /Users/ramyar/Dropbox/GradSchool/Research/packages/PyRosetta4.Release.python37.mac.release-231/setup/build/lib/pyrosetta/database\n",
      "\u001b[0mbasic.random.init_random_generator: \u001b[0m'RNG device' seed mode, using '/dev/urandom', seed=653634719 seed_offset=0 real_seed=653634719\n",
      "\u001b[0mbasic.random.init_random_generator: \u001b[0mRandomGenerator:init: Normal mode, seed=653634719 RG_type=mt19937\n"
     ]
    }
   ],
   "source": [
    "from pyrosetta import *\n",
    "init()"
   ]
  },
  {
   "cell_type": "code",
   "execution_count": 3,
   "metadata": {},
   "outputs": [],
   "source": [
    "from pyrosetta.rosetta import *\n",
    "from pyrosetta.rosetta.core.pose.rna import *\n",
    "from pyrosetta.rosetta.core.pose import *"
   ]
  },
  {
   "cell_type": "markdown",
   "metadata": {},
   "source": [
    "## Exploring geometry for RNA ##"
   ]
  },
  {
   "cell_type": "markdown",
   "metadata": {},
   "source": [
    "Let's load in this structure with PyRosetta (make sure that you have the PDB file located in your current directory):\n",
    "\n",
    "`cd google_drive/My\\ Drive/student-notebooks/\n",
    "pose = pose_from_pdb(\"inputs/stem_loop.pdb\")`"
   ]
  },
  {
   "cell_type": "code",
   "execution_count": 4,
   "metadata": {
    "nbgrader": {
     "grade": true,
     "grade_id": "cell-690a147764ad96d7",
     "locked": false,
     "points": 0,
     "schema_version": 1,
     "solution": true
    },
    "scrolled": true
   },
   "outputs": [
    {
     "name": "stdout",
     "output_type": "stream",
     "text": [
      "\u001b[0mcore.chemical.GlobalResidueTypeSet: \u001b[0mFinished initializing fa_standard residue type set.  Created 980 residue types\n",
      "\u001b[0mcore.chemical.GlobalResidueTypeSet: \u001b[0mTotal time to initialize 1.05936 seconds.\n",
      "\u001b[0mcore.import_pose.import_pose: \u001b[0mFile 'inputs/stem_loop.pdb' automatically determined to be of type PDB\n",
      "\u001b[0mcore.io.pose_from_sfr.chirality_resolution: \u001b[0mFlipping atom xyz for H5' and H5'' for residue   C\n"
     ]
    }
   ],
   "source": [
    "### BEGIN SOLUTION\n",
    "pose = pose_from_pdb(\"inputs/stem_loop.pdb\")\n",
    "### END SOLUTION"
   ]
  },
  {
   "cell_type": "markdown",
   "metadata": {},
   "source": [
    "Let's explore the structure in this PDB file. First, use `pose.sequence()` to look at the sequence:"
   ]
  },
  {
   "cell_type": "code",
   "execution_count": 5,
   "metadata": {
    "nbgrader": {
     "grade": true,
     "grade_id": "cell-61e3c7efb8ae6b94",
     "locked": false,
     "points": 0,
     "schema_version": 1,
     "solution": true
    },
    "scrolled": true
   },
   "outputs": [
    {
     "data": {
      "text/plain": [
       "'cauccgaaaggaug'"
      ]
     },
     "execution_count": 5,
     "metadata": {},
     "output_type": "execute_result"
    }
   ],
   "source": [
    "# print out the sequence of the pose\n",
    "### BEGIN SOLUTION\n",
    "pose.sequence()\n",
    "### END SOLUTION"
   ]
  },
  {
   "cell_type": "markdown",
   "metadata": {},
   "source": [
    "We can see that the pose seems to contain RNA residues. To check this, let's go through the pose residue by residue, checking if each one is RNA."
   ]
  },
  {
   "cell_type": "code",
   "execution_count": 6,
   "metadata": {},
   "outputs": [
    {
     "name": "stdout",
     "output_type": "stream",
     "text": [
      "True\n",
      "True\n",
      "True\n",
      "True\n",
      "True\n",
      "True\n",
      "True\n",
      "True\n",
      "True\n",
      "True\n",
      "True\n",
      "True\n",
      "True\n",
      "True\n"
     ]
    }
   ],
   "source": [
    "for ii in range(pose.size()):\n",
    "    print(pose.residue_type(5).is_RNA())"
   ]
  },
  {
   "cell_type": "markdown",
   "metadata": {},
   "source": [
    "RNA bases interact with each other via **base pairing**, either through the Watson-Crick base pairs that make up standard A-form helices or through non-canonical base pairing interactions. We can use the `classify_base_pairs` function (this lives in `core:pose:rna` which was loaded above) to find and classify all the base pairs in the current pose. Let's take a look."
   ]
  },
  {
   "cell_type": "code",
   "execution_count": 7,
   "metadata": {},
   "outputs": [
    {
     "name": "stdout",
     "output_type": "stream",
     "text": [
      "\u001b[0mbasic.io.database: \u001b[0mDatabase file opened: scoring/score_functions/hbonds/ref2015_params/HBPoly1D.csv\n",
      "\u001b[0mbasic.io.database: \u001b[0mDatabase file opened: scoring/score_functions/hbonds/ref2015_params/HBFadeIntervals.csv\n",
      "\u001b[0mbasic.io.database: \u001b[0mDatabase file opened: scoring/score_functions/hbonds/ref2015_params/HBEval.csv\n",
      "\u001b[0mbasic.io.database: \u001b[0mDatabase file opened: scoring/score_functions/hbonds/ref2015_params/DonStrength.csv\n",
      "\u001b[0mbasic.io.database: \u001b[0mDatabase file opened: scoring/score_functions/hbonds/ref2015_params/AccStrength.csv\n",
      "1 14 WC WC ANTI\n",
      "2 13 WC WC ANTI\n",
      "3 12 WC WC ANTI\n",
      "4 11 WC WC ANTI\n",
      "5 10 WC WC ANTI\n",
      "6 9 SUGAR HOOG ANTI\n"
     ]
    }
   ],
   "source": [
    "base_pairs = classify_base_pairs(pose)\n",
    "for base_pair in base_pairs:\n",
    "    print(base_pair)"
   ]
  },
  {
   "cell_type": "markdown",
   "metadata": {},
   "source": [
    "We can see that the RNA molecule consists of Watson-Crick base pairs between residues 1-5 and residues 10-14 forming a standard RNA helix. We can also see that residues 6 and 9 form a non-canonical base pair interaction between the sugar and Hoogsteen edges of the respective bases. We can think of this structure as a simple stem-loop, with an idealized A-form helix between residues 1-5 and residues 10-14, and with a tetraloop connecting these chains."
   ]
  },
  {
   "cell_type": "markdown",
   "metadata": {},
   "source": [
    "Let's use some of Rosetta's tools for measuring **distances and torsions** to understand the typical geometry of an idealized A-form helix.\n",
    "\n",
    "What is the distance between the phosphate atoms of two consecutive residues in one strand of a helix? Check this for a couple pairs of residues."
   ]
  },
  {
   "cell_type": "code",
   "execution_count": 8,
   "metadata": {},
   "outputs": [
    {
     "name": "stdout",
     "output_type": "stream",
     "text": [
      "5.923353746008057\n",
      "5.846964169549871\n"
     ]
    }
   ],
   "source": [
    "P1_xyz = pose.residue(1).xyz(\"P\")\n",
    "P2_xyz = pose.residue(2).xyz(\"P\")\n",
    "P3_xyz = pose.residue(3).xyz(\"P\")\n",
    "print((P1_xyz - P2_xyz).norm())\n",
    "print((P2_xyz - P3_xyz).norm())"
   ]
  },
  {
   "cell_type": "markdown",
   "metadata": {},
   "source": [
    "RNA nucleotides are quite large compared to amino acids, with many more torsion angles. In the diagram of a nucleotide below, we can see the backbone torsions applicable to RNA: $\\alpha$, $\\beta$, $\\gamma$, $\\delta$, $\\epsilon$, $\\zeta$, and $\\chi$."
   ]
  },
  {
   "cell_type": "code",
   "execution_count": 4,
   "metadata": {},
   "outputs": [
    {
     "data": {
      "image/png": "[encoded data removed]",
      "text/plain": [
       "<IPython.core.display.Image object>"
      ]
     },
     "execution_count": 4,
     "metadata": {
      "image/png": {
       "width": "500"
      }
     },
     "output_type": "execute_result"
    }
   ],
   "source": [
    "from IPython.display import Image\n",
    "Image('./Media/nucleotide_torsions.png',width='500')"
   ]
  },
  {
   "cell_type": "markdown",
   "metadata": {},
   "source": [
    "We can access the values of these torsions through the pose object. Just like protein torsions can be accessed with functions like `pose.phi(resid)`, RNA torsions can be accessed with analogous functions like `pose.alpha(resid)`.\n",
    "\n",
    "**Exercise**: Below, make a function that prints out all the torsions for a given residue. Then, using that function, check the torsions for three different residues in the RNA helix. How similar are torsion angles for different residues in an idealized helix?"
   ]
  },
  {
   "cell_type": "code",
   "execution_count": 9,
   "metadata": {},
   "outputs": [],
   "source": [
    "### BEGIN SOLUTION\n",
    "def print_torsions(pose, resi):\n",
    "    print(\"%s: %f\" % (\"alpha\", pose.alpha(resi)))\n",
    "    print(\"%s: %f\" % (\"beta\", pose.beta(resi)))\n",
    "    print(\"%s: %f\" % (\"gamma\", pose.gamma(resi)))\n",
    "    print(\"%s: %f\" % (\"delta\", pose.delta(resi)))\n",
    "    print(\"%s: %f\" % (\"epsilon\", pose.epsilon(resi)))\n",
    "    print(\"%s: %f\" % (\"zeta\", pose.zeta(resi)))\n",
    "    print(\"%s: %f\" % (\"chi\", pose.chi(resi)))\n",
    "### END SOLUTION"
   ]
  },
  {
   "cell_type": "code",
   "execution_count": 10,
   "metadata": {},
   "outputs": [
    {
     "name": "stdout",
     "output_type": "stream",
     "text": [
      "Torsions for residue 2:\n",
      "alpha: -72.516450\n",
      "beta: 178.544461\n",
      "gamma: 58.327244\n",
      "delta: 79.813633\n",
      "epsilon: -152.375244\n",
      "zeta: -70.561778\n",
      "chi: 74.780524\n",
      "Torsions for residue 3:\n",
      "alpha: -65.899308\n",
      "beta: 173.462004\n",
      "gamma: 56.858161\n",
      "delta: 79.609718\n",
      "epsilon: -152.592269\n",
      "zeta: -70.540365\n",
      "chi: 77.981938\n",
      "Torsions for residue 12:\n",
      "alpha: -67.502850\n",
      "beta: 174.408225\n",
      "gamma: 56.171977\n",
      "delta: 81.812182\n",
      "epsilon: -149.905716\n",
      "zeta: -76.028946\n",
      "chi: 75.291052\n"
     ]
    }
   ],
   "source": [
    "### BEGIN SOLUTION\n",
    "print(\"Torsions for residue 2:\")\n",
    "print_torsions(pose, 2)\n",
    "print(\"Torsions for residue 3:\")\n",
    "print_torsions(pose, 3)\n",
    "print(\"Torsions for residue 12:\")\n",
    "print_torsions(pose, 12)\n",
    "### END SOLUTION"
   ]
  },
  {
   "cell_type": "markdown",
   "metadata": {},
   "source": [
    "## Scoring RNA poses ##"
   ]
  },
  {
   "cell_type": "markdown",
   "metadata": {},
   "source": [
    "Rosetta's energy functions provide a mechanism to score RNA structures, rewarding realistic conformations using a variety of score terms. In this section, we will see how to score RNA poses, and we will use these score terms to better understand our structure.\n",
    "\n",
    "To score structures with RNA in Rosetta, it is best to use a high-resolution energy function designed to work with RNA, for instance `stepwise/rna/rna_res_level_energy4.wts`. In fact, the standard high resolution energy function used in Rosetta does not include the score terms that are quite helpful for modeling RNA. To see this, we will evaluate our RNA pose with the `ref2015` score function and `stepwise/rna/rna_res_level_energy4.wts`, comparing the resulting score term values."
   ]
  },
  {
   "cell_type": "code",
   "execution_count": 11,
   "metadata": {
    "scrolled": true
   },
   "outputs": [
    {
     "name": "stdout",
     "output_type": "stream",
     "text": [
      "\u001b[0mcore.scoring.etable: \u001b[0mStarting energy table calculation\n",
      "\u001b[0mcore.scoring.etable: \u001b[0msmooth_etable: changing atr/rep split to bottom of energy well\n",
      "\u001b[0mcore.scoring.etable: \u001b[0msmooth_etable: spline smoothing lj etables (maxdis = 6)\n",
      "\u001b[0mcore.scoring.etable: \u001b[0msmooth_etable: spline smoothing solvation etables (max_dis = 6)\n",
      "\u001b[0mcore.scoring.etable: \u001b[0mFinished calculating energy tables.\n",
      "\u001b[0mbasic.io.database: \u001b[0mDatabase file opened: scoring/score_functions/rama/fd/all.ramaProb\n",
      "\u001b[0mbasic.io.database: \u001b[0mDatabase file opened: scoring/score_functions/rama/fd/prepro.ramaProb\n",
      "\u001b[0mbasic.io.database: \u001b[0mDatabase file opened: scoring/score_functions/omega/omega_ppdep.all.txt\n",
      "\u001b[0mbasic.io.database: \u001b[0mDatabase file opened: scoring/score_functions/omega/omega_ppdep.gly.txt\n",
      "\u001b[0mbasic.io.database: \u001b[0mDatabase file opened: scoring/score_functions/omega/omega_ppdep.pro.txt\n",
      "\u001b[0mbasic.io.database: \u001b[0mDatabase file opened: scoring/score_functions/omega/omega_ppdep.valile.txt\n",
      "\u001b[0mbasic.io.database: \u001b[0mDatabase file opened: scoring/score_functions/P_AA_pp/P_AA\n",
      "\u001b[0mbasic.io.database: \u001b[0mDatabase file opened: scoring/score_functions/P_AA_pp/P_AA_n\n",
      "\u001b[0mcore.scoring.P_AA: \u001b[0mshapovalov_lib::shap_p_aa_pp_smooth_level of 1( aka low_smooth ) got activated.\n",
      "\u001b[0mbasic.io.database: \u001b[0mDatabase file opened: scoring/score_functions/P_AA_pp/shapovalov/10deg/kappa131/a20.prop\n"
     ]
    }
   ],
   "source": [
    "hires_sf = core.scoring.ScoreFunctionFactory.create_score_function(\"ref2015\");"
   ]
  },
  {
   "cell_type": "code",
   "execution_count": 12,
   "metadata": {
    "scrolled": true
   },
   "outputs": [
    {
     "name": "stdout",
     "output_type": "stream",
     "text": [
      "\u001b[0mcore.scoring.ScoreFunction: \u001b[0m\n",
      "------------------------------------------------------------\n",
      " Scores                       Weight   Raw Score Wghtd.Score\n",
      "------------------------------------------------------------\n",
      " fa_atr                       1.000    -146.195    -146.195\n",
      " fa_rep                       0.550      21.661      11.914\n",
      " fa_sol                       1.000     181.903     181.903\n",
      " fa_intra_rep                 0.005     104.969       0.525\n",
      " fa_intra_sol_xover4          1.000      43.757      43.757\n",
      " lk_ball_wtd                  1.000     -23.168     -23.168\n",
      " fa_elec                      1.000     -11.254     -11.254\n",
      " pro_close                    1.250       0.000       0.000\n",
      " hbond_sr_bb                  1.000       0.000       0.000\n",
      " hbond_lr_bb                  1.000       0.000       0.000\n",
      " hbond_bb_sc                  1.000       0.000       0.000\n",
      " hbond_sc                     1.000     -23.799     -23.799\n",
      " dslf_fa13                    1.250       0.000       0.000\n",
      " omega                        0.400       0.000       0.000\n",
      " fa_dun                       0.700       0.000       0.000\n",
      " p_aa_pp                      0.600       0.000       0.000\n",
      " yhh_planarity                0.625       0.000       0.000\n",
      " ref                          1.000       0.000       0.000\n",
      " rama_prepro                  0.450       0.000       0.000\n",
      "---------------------------------------------------\n",
      " Total weighted score:                       33.681\n"
     ]
    }
   ],
   "source": [
    "hires_sf.show(pose)"
   ]
  },
  {
   "cell_type": "markdown",
   "metadata": {},
   "source": [
    "Note that `ref2015` does contain some terms that are used for RNA modeling like VDW and hydrogen bonding score terms. What extra terms are included in the RNA high resolution score function?"
   ]
  },
  {
   "cell_type": "code",
   "execution_count": 5,
   "metadata": {
    "scrolled": true
   },
   "outputs": [
    {
     "name": "stdout",
     "output_type": "stream",
     "text": [
      "\u001b[0mcore.scoring.etable: \u001b[0mStarting energy table calculation\n",
      "\u001b[0mcore.scoring.etable: \u001b[0msmooth_etable: changing atr/rep split to bottom of energy well\n",
      "\u001b[0mcore.scoring.etable: \u001b[0msmooth_etable: spline smoothing lj etables (maxdis = 6)\n",
      "\u001b[0mcore.scoring.etable: \u001b[0msmooth_etable: spline smoothing solvation etables (max_dis = 6)\n",
      "\u001b[0mcore.scoring.etable: \u001b[0mFinished calculating energy tables.\n",
      "\u001b[0mbasic.io.database: \u001b[0mDatabase file opened: scoring/score_functions/hbonds/ref2015_params/HBPoly1D.csv\n",
      "\u001b[0mbasic.io.database: \u001b[0mDatabase file opened: scoring/score_functions/hbonds/ref2015_params/HBFadeIntervals.csv\n",
      "\u001b[0mbasic.io.database: \u001b[0mDatabase file opened: scoring/score_functions/hbonds/ref2015_params/HBEval.csv\n",
      "\u001b[0mbasic.io.database: \u001b[0mDatabase file opened: scoring/score_functions/hbonds/ref2015_params/DonStrength.csv\n",
      "\u001b[0mbasic.io.database: \u001b[0mDatabase file opened: scoring/score_functions/hbonds/ref2015_params/AccStrength.csv\n"
     ]
    }
   ],
   "source": [
    "rna_hires_sf = core.scoring.ScoreFunctionFactory.create_score_function(\"stepwise/rna/rna_res_level_energy4.wts\");"
   ]
  },
  {
   "cell_type": "code",
   "execution_count": 6,
   "metadata": {},
   "outputs": [
    {
     "name": "stdout",
     "output_type": "stream",
     "text": [
      "\u001b[0mcore.scoring.ScoreFunction: \u001b[0m\n",
      "------------------------------------------------------------\n",
      " Scores                       Weight   Raw Score Wghtd.Score\n",
      "------------------------------------------------------------\n",
      " fa_atr                       0.210    -212.399     -44.604\n",
      " fa_rep                       0.200      57.744      11.549\n",
      " fa_intra_rep                 0.003     186.211       0.540\n",
      " lk_nonpolar                  0.250      -9.222      -2.305\n",
      " fa_elec_rna_phos_phos        1.700       0.378       0.643\n",
      " rna_torsion                  1.000       3.751       3.751\n",
      " suiteness_bonus              1.000       0.000       0.000\n",
      " rna_sugar_close              0.820       3.938       3.229\n",
      " fa_stack                     0.130    -234.442     -30.477\n",
      " stack_elec                   0.760      -0.903      -0.686\n",
      " geom_sol_fast                0.170      74.843      12.723\n",
      " hbond_sr_bb_sc               0.960       0.000       0.000\n",
      " hbond_lr_bb_sc               0.960       0.000       0.000\n",
      " hbond_sc                     0.960     -23.799     -22.848\n",
      " ref                          1.000      50.440      50.440\n",
      " free_suite                   2.000       0.000       0.000\n",
      " free_2HOprime                1.000       0.000       0.000\n",
      " intermol                     1.000       0.000       0.000\n",
      " other_pose                   1.000       0.000       0.000\n",
      " loop_close                   1.000       0.000       0.000\n",
      " linear_chainbreak            5.000       0.000       0.000\n",
      "---------------------------------------------------\n",
      " Total weighted score:                      -18.046\n"
     ]
    }
   ],
   "source": [
    "rna_hires_sf.show(pose)"
   ]
  },
  {
   "cell_type": "markdown",
   "metadata": {},
   "source": [
    "We can see that some new score terms in the high resolution RNA potential, including `rna_torsion`, `suiteness_bonus`, `rna_sugar_close`, and `fa_stack`. We will explore a few of these terms below. To learn about these and other score terms that have been included to more realistically model RNA, check out the papers referenced at the beginning of this notebook."
   ]
  },
  {
   "cell_type": "markdown",
   "metadata": {},
   "source": [
    "Analogous to the protein low-resolution potential, an RNA low-resolution potential has been developed to more quickly score RNA structures represented in centroid mode. Lets take a look at the score terms involved."
   ]
  },
  {
   "cell_type": "code",
   "execution_count": 14,
   "metadata": {
    "scrolled": true
   },
   "outputs": [
    {
     "name": "stdout",
     "output_type": "stream",
     "text": [
      "\u001b[0mbasic.io.database: \u001b[0mDatabase file opened: scoring/rna/rna_atom_vdw.txt\n",
      "\u001b[0mbasic.io.database: \u001b[0mDatabase file opened: scoring/rna/rnp_atom_vdw_min_distances_reformat_MIN.txt\n",
      "\u001b[0mcore.scoring.ScoringManager: \u001b[0mReading in: /Users/ramyar/Dropbox/GradSchool/Research/packages/PyRosetta4.Release.python37.mac.release-231/setup/build/lib/pyrosetta/database/scoring/rna/rna_base_pair_xy.dat\n",
      "\u001b[0mcore.scoring.rna.RNA_LowResolutionPotential: \u001b[0mReading basepair x - y potential file: scoring/rna/rna_base_pair_xy.dat\n",
      "\u001b[0mcore.scoring.rna.RNA_LowResolutionPotential: \u001b[0mFinished reading basepair x - y potential file: scoring/rna/rna_base_pair_xy.dat\n",
      "\u001b[0mcore.scoring.rna.RNA_LowResolutionPotential: \u001b[0mReading non - base - base x - y potential file: scoring/rna/rna_base_backbone_xy.dat\n",
      "\u001b[0mcore.scoring.rna.RNA_LowResolutionPotential: \u001b[0mReading RNA backbone backbone potential file: scoring/rna/rna_backbone_backbone.dat\n",
      "\u001b[0mcore.scoring.rna.RNP_LowResPotential: \u001b[0mReading RNP basepair x - y potential file: scoring/rna/rnp_base_pair.txt\n",
      "\u001b[0mcore.scoring.rna.RNP_LowResPotential: \u001b[0mFinished reading RNP basepair x - y potential file: scoring/rna/rnp_base_pair.txt\n",
      "\u001b[0mcore.scoring.rna.RNP_LowResPotential: \u001b[0mReading RNP AA RNA backbone potential file: scoring/rna/rnp_backbone_potential.txt\n",
      "\u001b[0mcore.scoring.rna.RNP_LowResPotential: \u001b[0mFinished reading RNP AA RNA backbone potential file: scoring/rna/rnp_backbone_potential.txt\n",
      "\u001b[0mcore.scoring.rna.RNP_LowResPairDistPotential: \u001b[0mReading RNP pair distance potential file: scoring/rna/rnp_pair_dist_potential_renorm.txt\n",
      "\u001b[0mcore.scoring.rna.RNP_LowResPairDistPotential: \u001b[0mFinished reading RNP pair distance potential file: scoring/rna/rnp_pair_dist_potential_renorm.txt\n"
     ]
    }
   ],
   "source": [
    "rna_lowres_sf = core.scoring.ScoreFunctionFactory.create_score_function(\"rna/denovo/rna_lores_with_rnp_aug.wts\");"
   ]
  },
  {
   "cell_type": "code",
   "execution_count": 16,
   "metadata": {
    "scrolled": true
   },
   "outputs": [
    {
     "name": "stdout",
     "output_type": "stream",
     "text": [
      "\u001b[0mcore.scoring.ScoreFunction: \u001b[0m\n",
      "------------------------------------------------------------\n",
      " Scores                       Weight   Raw Score Wghtd.Score\n",
      "------------------------------------------------------------\n",
      " rna_data_backbone            2.000       0.000       0.000\n",
      " rna_vdw                      2.000       0.221       0.442\n",
      " rnp_vdw                     50.000       0.000       0.000\n",
      " rna_base_backbone            2.000      -1.884      -3.769\n",
      " rna_backbone_backbone        2.000       0.000       0.000\n",
      " rna_repulsive                5.000       0.000       0.000\n",
      " rna_base_pair                2.000     -53.214    -106.429\n",
      " rna_base_axis                0.400     -32.234     -12.894\n",
      " rna_base_stagger             2.000     -28.072     -56.143\n",
      " rna_base_stack               2.000      -3.243      -6.486\n",
      " rna_base_stack_axis          0.400     -20.598      -8.239\n",
      " rnp_base_pair                2.000       0.000       0.000\n",
      " rnp_stack                    5.000       0.000       0.000\n",
      " rnp_pair_dist                0.200       0.000       0.000\n",
      " rnp_aa_to_rna_backbone       1.000       0.000       0.000\n",
      " rna_rg                       0.500       8.609       4.304\n",
      " atom_pair_constraint         1.000       0.000       0.000\n",
      " base_pair_constraint         1.000       0.000       0.000\n",
      " linear_chainbreak            8.000       0.000       0.000\n",
      "---------------------------------------------------\n",
      " Total weighted score:                     -189.213\n"
     ]
    }
   ],
   "source": [
    "rna_lowres_sf.show(pose)"
   ]
  },
  {
   "cell_type": "markdown",
   "metadata": {},
   "source": [
    "We can see that when modeling an RNA molecule using centroid positions for nucleotides, we need to separately include terms for base pairing (`rna_base_pair`), base-backbone interactions (`rna_base_backbone`), and so on. "
   ]
  },
  {
   "cell_type": "markdown",
   "metadata": {},
   "source": [
    "Returning to the high resolution RNA score function, let us see if we can decompose the energies further to understand which parts of the structure contribute positively and negatively to its energy. First, we can decompose the energies per residue like below."
   ]
  },
  {
   "cell_type": "code",
   "execution_count": 17,
   "metadata": {},
   "outputs": [
    {
     "name": "stdout",
     "output_type": "stream",
     "text": [
      " fa_atr: -16.0481 fa_rep: 4.95774 fa_intra_atr: -10.6601 fa_intra_rep: 10.4003 fa_intra_sol: 6.2042 fa_intra_atr_nonprotein: -10.6601 fa_intra_rep_nonprotein: 10.4003 fa_intra_sol_nonprotein: 6.2042 lk_nonpolar: -0.837546 fa_elec_rna_phos_phos: -0.0122409 rna_torsion: 0.105802 rna_torsion_sc: 0.054655 rna_sugar_close: 0.471854 fa_stack: -14.7643 stack_elec: 0.0989445 geom_sol_fast: 6.69203 geom_sol_fast_intra_RNA: 0.348984 hbond_sc: -2.22045 ref: 2.82 total_score: -2.10402\n"
     ]
    }
   ],
   "source": [
    "rna_hires_sf(pose)\n",
    "nonzero_scores = pose.energies().residue_total_energies(4).show_nonzero()\n",
    "print(nonzero_scores)"
   ]
  },
  {
   "cell_type": "markdown",
   "metadata": {},
   "source": [
    "A lot of the RNA specific energy terms make more sense when we look at pairs of residues. The energy graph object allows you to explore pairwise energies. The function below uses the energy graph to print out all non-zero scores between residues for a particular score term."
   ]
  },
  {
   "cell_type": "code",
   "execution_count": 18,
   "metadata": {},
   "outputs": [],
   "source": [
    "def print_nonzero_pairwise_energies(pose, energy_term, sf):\n",
    "    sf(pose)\n",
    "    energy_graph = pose.energies().energy_graph()\n",
    "    for ii in range(1, pose.size() + 1):\n",
    "        for jj in range(ii + 1, pose.size() + 1):\n",
    "            edge = energy_graph.find_energy_edge(ii, jj)\n",
    "            if (edge != None):\n",
    "                emap = edge.fill_energy_map()\n",
    "                resid1 = str(ii) + \" \" + pose.residue(ii).name1()\n",
    "                resid2 = str(jj) + \" \" + pose.residue(jj).name1()\n",
    "                resid_pair = resid1 + \" \" + resid2\n",
    "                score = emap[ energy_term ]\n",
    "                if score != 0:\n",
    "                    print(\"%s: %f\" % (resid_pair, score))"
   ]
  },
  {
   "cell_type": "markdown",
   "metadata": {},
   "source": [
    "Using the function above, we're going to look at the stacking energies in the high resolution potential."
   ]
  },
  {
   "cell_type": "code",
   "execution_count": 19,
   "metadata": {
    "scrolled": false
   },
   "outputs": [
    {
     "name": "stdout",
     "output_type": "stream",
     "text": [
      "1 c 2 a: -8.786457\n",
      "1 c 13 u: -0.021402\n",
      "1 c 14 g: -0.014325\n",
      "2 a 3 u: -17.195315\n",
      "2 a 12 a: -1.166573\n",
      "2 a 13 u: -0.021531\n",
      "2 a 14 g: -18.136998\n",
      "3 u 4 c: -10.651433\n",
      "3 u 11 g: -0.182032\n",
      "3 u 12 a: -0.025817\n",
      "3 u 13 u: -2.437063\n",
      "4 c 5 c: -11.016306\n",
      "4 c 6 g: -0.042999\n",
      "4 c 10 g: -0.170933\n",
      "4 c 11 g: -0.003559\n",
      "4 c 12 a: -7.643363\n",
      "5 c 6 g: -14.998700\n",
      "5 c 9 a: -0.055888\n",
      "5 c 10 g: -0.004817\n",
      "5 c 11 g: -9.170599\n",
      "6 g 8 a: -1.056694\n",
      "6 g 9 a: -0.381851\n",
      "6 g 10 g: -11.820445\n",
      "7 a 8 a: -21.526270\n",
      "8 a 9 a: -22.045880\n",
      "9 a 10 g: -13.441684\n",
      "10 g 11 g: -18.409410\n",
      "11 g 12 a: -18.811699\n",
      "12 a 13 u: -16.199935\n",
      "13 u 14 g: -9.002159\n"
     ]
    }
   ],
   "source": [
    "print_nonzero_pairwise_energies(pose, core.scoring.ScoreType.fa_stack, rna_hires_sf)"
   ]
  },
  {
   "cell_type": "markdown",
   "metadata": {},
   "source": [
    "We can see that the **stacking energies** are highest for consecutive residues. In the idealized helix, the best stacking energy bonuses are given to stacked purine residues."
   ]
  },
  {
   "cell_type": "markdown",
   "metadata": {},
   "source": [
    "Now lets take a look at the **torsion energies**. Which energies are the highest? Where are these torsions in the structure?"
   ]
  },
  {
   "cell_type": "code",
   "execution_count": 20,
   "metadata": {
    "scrolled": true
   },
   "outputs": [
    {
     "name": "stdout",
     "output_type": "stream",
     "text": [
      "1 c 2 a: 0.041018\n",
      "2 a 3 u: 0.003446\n",
      "3 u 4 c: 0.012547\n",
      "4 c 5 c: 0.015482\n",
      "5 c 6 g: 0.048322\n",
      "6 g 7 a: 0.273854\n",
      "7 a 8 a: 0.096358\n",
      "8 a 9 a: 0.020082\n",
      "9 a 10 g: 0.248952\n",
      "10 g 11 g: 0.019879\n",
      "11 g 12 a: 0.012364\n",
      "12 a 13 u: 0.017076\n",
      "13 u 14 g: 0.002773\n"
     ]
    }
   ],
   "source": [
    "print_nonzero_pairwise_energies(pose, core.scoring.ScoreType.rna_torsion, rna_hires_sf)"
   ]
  },
  {
   "cell_type": "markdown",
   "metadata": {},
   "source": [
    "RNA structures are often viewed as being composed of small building blocks called **RNA motifs**. These motifs can be as simple as stacks of base pairs, which we have seen above. Typical motifs also include stereotyped loops, junctions, and tertiary contacts present across many common RNA molecules. Let's take a look to see whether any of these common RNA motifs are present in our simple stem loop structure."
   ]
  },
  {
   "cell_type": "code",
   "execution_count": 21,
   "metadata": {
    "scrolled": true
   },
   "outputs": [
    {
     "name": "stdout",
     "output_type": "stream",
     "text": [
      "\u001b[0mcore.scoring.rna.RNA_LowResolutionPotential: \u001b[0mReading basepair x - y potential file: scoring/rna/rna_base_pair_xy.dat\n",
      "\u001b[0mcore.scoring.rna.RNA_LowResolutionPotential: \u001b[0mFinished reading basepair x - y potential file: scoring/rna/rna_base_pair_xy.dat\n",
      "\u001b[0mcore.scoring.rna.RNA_LowResolutionPotential: \u001b[0mReading non - base - base x - y potential file: scoring/rna/rna_base_backbone_xy.dat\n",
      "\u001b[0mcore.scoring.rna.RNA_LowResolutionPotential: \u001b[0mReading RNA backbone backbone potential file: scoring/rna/rna_backbone_backbone.dat\n",
      "WC_STACKED_PAIR [1, 2, 13, 14]\n",
      "WC_STACKED_PAIR [4, 5, 10, 11]\n",
      "WC_STACKED_PAIR [11, 12, 3, 4]\n",
      "WC_STACKED_PAIR [10, 11, 4, 5]\n",
      "WC_STACKED_PAIR [3, 4, 11, 12]\n",
      "WC_STACKED_PAIR [12, 13, 2, 3]\n",
      "WC_STACKED_PAIR [2, 3, 12, 13]\n",
      "WC_STACKED_PAIR [13, 14, 1, 2]\n",
      "U_TURN [6, 7, 8]\n",
      "GNRA_TETRALOOP [6, 7, 8, 9]\n",
      "\n"
     ]
    }
   ],
   "source": [
    "lowres_potential = core.scoring.rna.RNA_LowResolutionPotential( \"scoring/rna/rna_base_pair_xy.dat\" )\n",
    "rna_scoring_info = core.scoring.rna.rna_scoring_info_from_pose(pose).rna_filtered_base_base_info()\n",
    "rna_motifs = core.scoring.rna.get_rna_motifs( pose, lowres_potential, rna_scoring_info)\n",
    "print(rna_motifs)"
   ]
  },
  {
   "cell_type": "markdown",
   "metadata": {},
   "source": [
    "We can see that our RNA structure includes many stacked Watson-Crick base pair, making the idealized A-form helix. In addition, the loop connecting the strands of the helix in our structure is a stereotyped \"GNRA\" tetraloop, taking a loop conformation that is common across many RNA structures in the PDB."
   ]
  },
  {
   "cell_type": "markdown",
   "metadata": {},
   "source": [
    "## Manipulating RNA poses ##"
   ]
  },
  {
   "cell_type": "markdown",
   "metadata": {},
   "source": [
    "Rosetta allows you to not just explore a given PDB structure, but to manipulate and design structures. In this section, we discuss some basic ways to manipulate RNA structures, and we observe the effects of these manipulations on the structure's energy. For each manipulation, we will make a new copy of the pose to make sure that our changes do not affect the original structure we loaded in."
   ]
  },
  {
   "cell_type": "markdown",
   "metadata": {},
   "source": [
    "One basic manipulation we can make to an RNA structure is to change torsion angles for individual residues. Let's try this out on a residue in the A-form helix, and observe the effect on the rna_torsion score. Did the change we made make the score better or worse?"
   ]
  },
  {
   "cell_type": "code",
   "execution_count": 22,
   "metadata": {},
   "outputs": [
    {
     "name": "stdout",
     "output_type": "stream",
     "text": [
      "Torsion score before: 3.750853\n",
      "Torsion score after: 4.166565\n"
     ]
    }
   ],
   "source": [
    "new_pose = Pose()\n",
    "new_pose.assign(pose)\n",
    "rna_hires_sf(pose)\n",
    "torsion_score_before = pose.energies().total_energies()[core.scoring.ScoreType.rna_torsion]\n",
    "new_pose.set_beta(2, 110)\n",
    "rna_hires_sf(new_pose)\n",
    "torsion_score_after = new_pose.energies().total_energies()[core.scoring.ScoreType.rna_torsion]\n",
    "print(\"%s: %f\" % (\"Torsion score before\", torsion_score_before))\n",
    "print(\"%s: %f\" % (\"Torsion score after\", torsion_score_after))"
   ]
  },
  {
   "cell_type": "markdown",
   "metadata": {},
   "source": [
    "If you want to replace residues in an RNA molecule with their idealized versions, you can use the RNA_IdealCoord class in Rosetta. Below is an example for using that method to first replace a single residue with its idealized version, and then to replace all residues with their idealized versions across the whole pose."
   ]
  },
  {
   "cell_type": "code",
   "execution_count": 23,
   "metadata": {},
   "outputs": [],
   "source": [
    "ideal_pose_one = Pose()\n",
    "ideal_pose_one.assign(pose)\n",
    "resid = 2\n",
    "core.pose.rna.RNA_IdealCoord().apply(ideal_pose_one, resid, core.chemical.rna.PuckerState.ANY_PUCKER, False)\n",
    "\n",
    "ideal_pose = Pose()\n",
    "ideal_pose.assign(pose)\n",
    "core.pose.rna.RNA_IdealCoord().apply(ideal_pose, False)"
   ]
  },
  {
   "cell_type": "markdown",
   "metadata": {},
   "source": [
    "**Exercise**: Figure out if the total energy of the pose went up or down after replacing one or all of the residues with their idealized versions. What can explain the difference? What about the total torsion energy only - does that go up or down in the pose with idealized residues compared to the original pose?"
   ]
  },
  {
   "cell_type": "code",
   "execution_count": 24,
   "metadata": {
    "scrolled": false
   },
   "outputs": [
    {
     "name": "stdout",
     "output_type": "stream",
     "text": [
      "-18.045673691089746\n",
      "22.63480325590245\n",
      "-1.1025695607212\n"
     ]
    }
   ],
   "source": [
    "### BEGIN SOLUTION\n",
    "rna_hires_sf(pose)\n",
    "rna_hires_sf(ideal_pose)\n",
    "rna_hires_sf(ideal_pose_one)\n",
    "print(pose.energies().total_energy())\n",
    "print(ideal_pose.energies().total_energy())\n",
    "print(ideal_pose_one.energies().total_energy())\n",
    "### END SOLUTION"
   ]
  },
  {
   "cell_type": "code",
   "execution_count": 25,
   "metadata": {
    "scrolled": true
   },
   "outputs": [
    {
     "name": "stdout",
     "output_type": "stream",
     "text": [
      "3.7508527554837183\n",
      "2.334597688825869\n"
     ]
    }
   ],
   "source": [
    "### BEGIN SOLUTION\n",
    "print(pose.energies().total_energies()[core.scoring.ScoreType.rna_torsion])\n",
    "print(ideal_pose.energies().total_energies()[core.scoring.ScoreType.rna_torsion])\n",
    "### END SOLUTION"
   ]
  },
  {
   "cell_type": "markdown",
   "metadata": {},
   "source": [
    "Another common manipulation for an RNA structure is to mutate the nucleotides to different bases. This is a manipulation that is commonly used while modeling one RNA structure using coordinates from another homologous (but not identical) structure. Below we can see how to mutate one residue of our RNA structure to another one. We include the `update_full_model_info_from_pose` command to ensure that the pose's internal data is kept up-to-date after the mutation is made."
   ]
  },
  {
   "cell_type": "code",
   "execution_count": 26,
   "metadata": {
    "scrolled": true
   },
   "outputs": [
    {
     "name": "stdout",
     "output_type": "stream",
     "text": [
      "cauccgaaaggaug\n",
      "aauccgaaaggaug\n"
     ]
    }
   ],
   "source": [
    "mutated_pose = Pose()\n",
    "mutated_pose.assign(pose)\n",
    "print(pose.sequence())\n",
    "rosetta.core.pose.rna.mutate_position(mutated_pose, 1, 'a')\n",
    "core.pose.full_model_info.update_full_model_info_from_pose(mutated_pose)\n",
    "print(mutated_pose.sequence())"
   ]
  },
  {
   "cell_type": "markdown",
   "metadata": {},
   "source": [
    "**Exercise**: Make a function that mimics the 'rna_thread' Rosetta application, which takes in a pose and a new sequence and replaces all pose residues with the new sequence's residues. Remember to check that the pose's sequence and the new sequence have the same length. \n",
    "\n",
    "The pose's current sequence is `cauccgaaaggaug`. Use the function you wrote to make a version that has sequence `cauccuucgggaug` and one that has sequence `aaaaagaaauuuuu`."
   ]
  },
  {
   "cell_type": "code",
   "execution_count": 27,
   "metadata": {},
   "outputs": [],
   "source": [
    "### BEGIN SOLUTION\n",
    "def rna_thread(pose, new_seq):\n",
    "    if len(pose.sequence()) != len(new_seq):\n",
    "        print(\"Sequences have different length; cannot rethread\")\n",
    "        return pose\n",
    "    for ii in range(1, pose.size()+1):\n",
    "        rosetta.core.pose.rna.mutate_position(pose, ii, new_seq[ii-1])\n",
    "        core.pose.full_model_info.update_full_model_info_from_pose(pose)\n",
    "    return pose\n",
    "### END SOLUTION"
   ]
  },
  {
   "cell_type": "code",
   "execution_count": 28,
   "metadata": {},
   "outputs": [
    {
     "name": "stdout",
     "output_type": "stream",
     "text": [
      "cauccuucgggaug\n",
      "aaaaagaaauuuuu\n"
     ]
    }
   ],
   "source": [
    "### BEGIN SOLUTION\n",
    "uucg_pose = Pose()\n",
    "uucg_pose.assign(pose)\n",
    "uucg_pose = rna_thread(uucg_pose, 'cauccuucgggaug')\n",
    "print(uucg_pose.sequence())\n",
    "\n",
    "auhelix_pose = Pose()\n",
    "auhelix_pose.assign(pose)\n",
    "auhelix_pose = rna_thread(auhelix_pose, 'aaaaagaaauuuuu')\n",
    "print(auhelix_pose.sequence())\n",
    "### END SOLUTION"
   ]
  },
  {
   "cell_type": "markdown",
   "metadata": {},
   "source": [
    "**Exercise**: The RNA high resolution potential includes hydrogen bonding terms. CG base pairs have more hydrogen bonds than AU base pairs. Compare the original pose with the pose that has all AU base pairs. What happens to the hydrogen bonding energy in the high resolution potential? "
   ]
  },
  {
   "cell_type": "code",
   "execution_count": 29,
   "metadata": {
    "scrolled": true
   },
   "outputs": [
    {
     "name": "stdout",
     "output_type": "stream",
     "text": [
      "AU Helix: -18.166948\n",
      "CG Helix: -23.799493\n"
     ]
    }
   ],
   "source": [
    "### BEGIN SOLUTION\n",
    "rna_hires_sf(auhelix_pose)\n",
    "rna_hires_sf(pose)\n",
    "auhelix_hbond_sc = auhelix_pose.energies().total_energies()[core.scoring.ScoreType.hbond_sc]\n",
    "pose_hbond_sc = pose.energies().total_energies()[core.scoring.ScoreType.hbond_sc]\n",
    "print('%s: %f' % (\"AU Helix\", auhelix_hbond_sc))\n",
    "print('%s: %f' % (\"CG Helix\", pose_hbond_sc))\n",
    "### END SOLUTION"
   ]
  },
  {
   "cell_type": "markdown",
   "metadata": {},
   "source": [
    "**Exercise**: The stacking energies of the GAAA and UUCG tetraloops differ from each other. Which tetraloop provides the most favorable stacking energies overall? Can you figure out which pairs of residues have different stacking energies when the structure has changed (hint: you can base your code here off of the function `print_nonzero_pairwise_energies` above)?"
   ]
  },
  {
   "cell_type": "code",
   "execution_count": 30,
   "metadata": {},
   "outputs": [
    {
     "name": "stdout",
     "output_type": "stream",
     "text": [
      "UUCG Loop: -214.060807\n",
      "GAAA Loop: -234.442137\n"
     ]
    }
   ],
   "source": [
    "### BEGIN SOLUTION\n",
    "rna_hires_sf(uucg_pose)\n",
    "rna_hires_sf(pose)\n",
    "uucg_fa_stack = uucg_pose.energies().total_energies()[core.scoring.ScoreType.fa_stack]\n",
    "pose_fa_stack = pose.energies().total_energies()[core.scoring.ScoreType.fa_stack]\n",
    "print('%s: %f' % (\"UUCG Loop\", uucg_fa_stack))\n",
    "print('%s: %f' % (\"GAAA Loop\", pose_fa_stack))\n",
    "### END SOLUTION"
   ]
  },
  {
   "cell_type": "code",
   "execution_count": 31,
   "metadata": {},
   "outputs": [
    {
     "name": "stdout",
     "output_type": "stream",
     "text": [
      "4 c, 6 g: -0.042999; 4 c, 6 u: -0.020146\n",
      "5 c, 6 g: -14.998700; 5 c, 6 u: -14.424303\n",
      "5 c, 9 a: -0.055888; 5 c, 9 g: -0.040952\n",
      "6 g, 8 a: -1.056694; 6 u, 8 c: -0.798130\n",
      "6 g, 9 a: -0.381851; 6 u, 9 g: -0.142689\n",
      "6 g, 10 g: -11.820445; 6 u, 10 g: -5.138552\n",
      "7 a, 8 a: -21.526270; 7 u, 8 c: -14.881668\n",
      "8 a, 9 a: -22.045880; 8 c, 9 g: -16.479345\n",
      "9 a, 10 g: -13.441684; 9 g, 10 g: -13.063297\n"
     ]
    }
   ],
   "source": [
    "### BEGIN SOLUTION\n",
    "# The code below goes through the original pose with the GNRA loop and the uucg_pose, \n",
    "# printing out pairs of residues and the fa_stack score term between these residues\n",
    "# if this score differs between the two poses.\n",
    "rna_hires_sf(uucg_pose)\n",
    "rna_hires_sf(pose)\n",
    "pose_energy_graph = pose.energies().energy_graph()\n",
    "uucg_energy_graph = uucg_pose.energies().energy_graph()\n",
    "for ii in range(1, pose.size() + 1):\n",
    "    for jj in range(ii + 1, pose.size() + 1):\n",
    "        pose_edge = pose_energy_graph.find_energy_edge(ii, jj)\n",
    "        uucg_edge = uucg_energy_graph.find_energy_edge(ii, jj)\n",
    "        if (pose_edge != None)  and (uucg_edge != None):\n",
    "            pose_emap = pose_edge.fill_energy_map()\n",
    "            uucg_emap = uucg_edge.fill_energy_map()\n",
    "            resid1 = str(ii) + \" \" + pose.residue(ii).name1()\n",
    "            resid1_uucg = str(ii) + \" \" + uucg_pose.residue(ii).name1()\n",
    "            resid2 = str(jj) + \" \" + pose.residue(jj).name1() \n",
    "            resid2_uucg = str(jj) + \" \" + uucg_pose.residue(jj).name1()\n",
    "            resid_pair = resid1 + \", \" + resid2\n",
    "            resid_pair_uucg = resid1_uucg + \", \" + resid2_uucg\n",
    "            pose_score = pose_emap[ core.scoring.ScoreType.fa_stack ]\n",
    "            uucg_score = uucg_emap[ core.scoring.ScoreType.fa_stack ]\n",
    "            if pose_score != uucg_score:\n",
    "                print(\"%s: %f; %s: %f\" % (resid_pair, pose_score, resid_pair_uucg, uucg_score))\n",
    "### END SOLUTION"
   ]
  },
  {
   "cell_type": "markdown",
   "metadata": {},
   "source": [
    "## Elements of RNA Structure Prediction"
   ]
  },
  {
   "cell_type": "markdown",
   "metadata": {},
   "source": [
    "Many of the same strategies are used when modeling RNA as when modeling proteins. Below, we shall explore some of these procedures specifically applied to RNA molecules to appreciate how they may come together to give a modern structure prediction method."
   ]
  },
  {
   "cell_type": "markdown",
   "metadata": {},
   "source": [
    "### Generating an ideal A-form Helix"
   ]
  },
  {
   "cell_type": "markdown",
   "metadata": {},
   "source": [
    "On a not wholly unrelated tangent, let us first see how we can quickly generate poses of ideal A-form RNA. You can think of this procedure as analogous to the `pose_from_seq` function used to generate protein poses from primary sequences. Let's use it now to generate a single-strand RNA pose with A-form torsions and the same sequence as the hairpin we've been examining so far.\n",
    "\n",
    "```python\n",
    "assembler = core.import_pose.RNA_HelixAssembler()\n",
    "assembled_pose = assembler.build_init_pose(pose.sequence(), '')\n",
    "```\n",
    "\n"
   ]
  },
  {
   "cell_type": "code",
   "execution_count": 7,
   "metadata": {},
   "outputs": [],
   "source": [
    "### BEGIN SOLUTION\n",
    "assembler = core.import_pose.RNA_HelixAssembler()\n",
    "assembled_pose = assembler.build_init_pose(pose.sequence(), '')\n",
    "### END SOLUTION"
   ]
  },
  {
   "cell_type": "markdown",
   "metadata": {},
   "source": [
    "Let's get a `PyMOLMover` up and running so we can examine our new pose."
   ]
  },
  {
   "cell_type": "code",
   "execution_count": 8,
   "metadata": {},
   "outputs": [],
   "source": [
    "pmm = PyMOLMover()\n",
    "pmm.set_PyMOL_model_name('assembled_pose')\n",
    "pmm.apply(assembled_pose)"
   ]
  },
  {
   "cell_type": "markdown",
   "metadata": {},
   "source": [
    "You can also use `RNA_HelixAssmebler` to generate poses that comprise two strands that form an ideal A-form helical stack, like residues 1-5 and 10-14 in the hairpin from above."
   ]
  },
  {
   "cell_type": "code",
   "execution_count": 9,
   "metadata": {},
   "outputs": [],
   "source": [
    "pmm_helix = PyMOLMover()\n",
    "pmm_helix.set_PyMOL_model_name('helix_pose')\n",
    "helix_pose = assembler.build_init_pose('ggg','ccc')"
   ]
  },
  {
   "cell_type": "markdown",
   "metadata": {},
   "source": [
    "Looking in PyMOL, you may be able to appreciate that, true to its name, the `RNA_HelixAssembler` has generated a pose that looks quite helical."
   ]
  },
  {
   "cell_type": "code",
   "execution_count": 10,
   "metadata": {},
   "outputs": [],
   "source": [
    "pmm_helix.apply(helix_pose)"
   ]
  },
  {
   "cell_type": "markdown",
   "metadata": {},
   "source": [
    "**Exercise**: Examine the torsions in several of the residues of `assembled_pose` using the `print_torsions` function you wrote earlier. How do they compare to the torsions from the starting stem loop?"
   ]
  },
  {
   "cell_type": "markdown",
   "metadata": {},
   "source": [
    "### RNA Fragments"
   ]
  },
  {
   "cell_type": "markdown",
   "metadata": {},
   "source": [
    "Given a library of RNA torsions excised from a published structure, fragment assembly methods will choose an n-mer in the current structure and replace the backbone geometry with the geometry of a corresponding n-mer from the library. Those of you familiar with protein structure prediction methods will recognize this strategy of fragment assembly.\n",
    "\n",
    "We will implement a rudimentary version of this protocol for RNA below."
   ]
  },
  {
   "cell_type": "markdown",
   "metadata": {},
   "source": [
    "For the present exercise, we will use the torsions file `inputs/1jj2.torsions`, which comes from the crystal structure of a large ribosomal subunit. This library will be used to initialize a `Mover` specifically designed to perform fragment assembly on RNA molecules, `RNA_FragmentMover`.\n",
    "```python\n",
    "fragset = core.import_pose.libraries.RNA_LibraryManager.get_instance().rna_fragment_library(\"inputs/1jj2.torsions\")\n",
    "atom_level_domain_map = core.pose.toolbox.AtomLevelDomainMap(assembled_pose)\n",
    "frag_mover = protocols.rna.denovo.movers.RNA_FragmentMover(fragset, atom_level_domain_map, 1, 0)\n",
    "```\n",
    "Don't worry too much about the other options that `RNA_FragmentMover`  requires at this point, but remember to include them if using this mover outside of this notebook."
   ]
  },
  {
   "cell_type": "code",
   "execution_count": 11,
   "metadata": {},
   "outputs": [
    {
     "name": "stdout",
     "output_type": "stream",
     "text": [
      "\u001b[0mprotocols.rna.denovo.fragments.FullAtomRNA_Fragments: \u001b[0mReading in vall_torsions file: inputs/1jj2.torsions\n",
      "\u001b[0mprotocols.rna.denovo.fragments.FullAtomRNA_Fragments: \u001b[0mLines read from vall_torsions file: 2754\n"
     ]
    }
   ],
   "source": [
    "### BEGIN SOLUTION\n",
    "fragset = core.import_pose.libraries.RNA_LibraryManager.get_instance().rna_fragment_library(\"./inputs/1jj2.torsions\")\n",
    "atom_level_domain_map = core.pose.toolbox.AtomLevelDomainMap(assembled_pose)\n",
    "frag_mover = protocols.rna.denovo.movers.RNA_FragmentMover(fragset, atom_level_domain_map, 1, 0)\n",
    "### END SOLUTION"
   ]
  },
  {
   "cell_type": "markdown",
   "metadata": {},
   "source": [
    "Let's practice applying this mover to a `Pose`. To actually make a fragment assembly move, you can call the `random_fragment_insertion` method which requires two arguments:\n",
    "\n",
    "1. An input `Pose`\n",
    "2. The size of the fragment to substitute.\n",
    "\n",
    "There is also an `apply()` method that can be called in a similar manner, but it simply calls `random_fragment_insertion()`, so the recommendation is to decrease overhead by calling `random_fragment_insertion()` where possible.\n",
    "\n",
    "Let's pratice calling this method below.\n",
    "```python\n",
    "practice_pose = Pose()\n",
    "practice_pose.assign(assembled_pose)\n",
    "frag_mover.random_fragment_insertion(practice_pose, 3)\n",
    "pmm.apply(practice_pose)\n",
    "```\n"
   ]
  },
  {
   "cell_type": "code",
   "execution_count": 12,
   "metadata": {},
   "outputs": [
    {
     "name": "stdout",
     "output_type": "stream",
     "text": [
      "\u001b[0mprotocols.rna.denovo.fragments.FullAtomRNA_Fragments: \u001b[0mPicked Fragment Library for sequence auc  and sec. struct XXX ... found 32 potential fragments\n"
     ]
    }
   ],
   "source": [
    "### BEGIN SOLUTION\n",
    "practice_pose = Pose()\n",
    "practice_pose.assign(assembled_pose)\n",
    "frag_mover.random_fragment_insertion(practice_pose, 3)\n",
    "pmm.apply(practice_pose)\n",
    "### END SOLUTION"
   ]
  },
  {
   "cell_type": "markdown",
   "metadata": {},
   "source": [
    "Now that we know how to set up a fragment assembly mover in PyRosetta, try the excise below to write a quick folding routine that uses a fragment assembly strategy to try and fold the hairpin sequence. "
   ]
  },
  {
   "cell_type": "markdown",
   "metadata": {},
   "source": [
    "**Exercise**: Fill in the function below such that `fragment_assembly`\n",
    "* Accepts an input `Pose`, `RNA_FragmentMover`, fragment size to substitute (`frag_size`), and number of trials (`n_trials`).\n",
    "* Uses by default the `rna_lowres_sf` energy function from earlier but allows the user to specify a different energy function, if desired\n",
    "* Performs a fragment substitution and accepts the substitution subject to the Metropolis criterion (assume $kT = 1$)\n",
    "* Returns the lowest-energy pose found.\n",
    "\n",
    "\\* See section 4.1 of these notebooks for a review on Monte Carlo algorithms, if desired. \n",
    "\n",
    "Then, apply it to our newly assembled pose using the following recipe:\n",
    "\n",
    "1. Run `fragment_assembly` using 3 nucleotide fragments for 400 trials. \n",
    "2. Then, run `fragment_assembly` using 2 nucleotide fragments for 300 trials.\n",
    "3. Finally, run `fragment_assembly` using 1 nucleotide fragments for 300 trials."
   ]
  },
  {
   "cell_type": "code",
   "execution_count": 15,
   "metadata": {},
   "outputs": [
    {
     "name": "stdout",
     "output_type": "stream",
     "text": [
      "\u001b[0mprotocols.rna.denovo.fragments.FullAtomRNA_Fragments: \u001b[0mPicked Fragment Library for sequence gaa  and sec. struct XXX ... found 76 potential fragments\n",
      "\u001b[0mprotocols.rna.denovo.fragments.FullAtomRNA_Fragments: \u001b[0mPicked Fragment Library for sequence agg  and sec. struct XXX ... found 64 potential fragments\n",
      "\u001b[0mprotocols.rna.denovo.fragments.FullAtomRNA_Fragments: \u001b[0mPicked Fragment Library for sequence gga  and sec. struct XXX ... found 62 potential fragments\n",
      "\u001b[0mprotocols.rna.denovo.fragments.FullAtomRNA_Fragments: \u001b[0mPicked Fragment Library for sequence gau  and sec. struct XXX ... found 37 potential fragments\n",
      "\u001b[0mprotocols.rna.denovo.fragments.FullAtomRNA_Fragments: \u001b[0mPicked Fragment Library for sequence cga  and sec. struct XXX ... found 77 potential fragments\n",
      "\u001b[0mprotocols.rna.denovo.fragments.FullAtomRNA_Fragments: \u001b[0mPicked Fragment Library for sequence aag  and sec. struct XXX ... found 64 potential fragments\n",
      "\u001b[0mprotocols.rna.denovo.fragments.FullAtomRNA_Fragments: \u001b[0mPicked Fragment Library for sequence ccg  and sec. struct XXX ... found 63 potential fragments\n",
      "\u001b[0mprotocols.rna.denovo.fragments.FullAtomRNA_Fragments: \u001b[0mPicked Fragment Library for sequence aaa  and sec. struct XXX ... found 45 potential fragments\n",
      "\u001b[0mprotocols.rna.denovo.fragments.FullAtomRNA_Fragments: \u001b[0mPicked Fragment Library for sequence aug  and sec. struct XXX ... found 38 potential fragments\n",
      "\u001b[0mprotocols.rna.denovo.fragments.FullAtomRNA_Fragments: \u001b[0mPicked Fragment Library for sequence ucc  and sec. struct XXX ... found 38 potential fragments\n",
      "\u001b[0mprotocols.rna.denovo.fragments.FullAtomRNA_Fragments: \u001b[0mPicked Fragment Library for sequence cau  and sec. struct XXX ... found 29 potential fragments\n",
      "\u001b[0mprotocols.rna.denovo.fragments.FullAtomRNA_Fragments: \u001b[0mPicked Fragment Library for sequence ga  and sec. struct XX ... found 243 potential fragments\n",
      "\u001b[0mprotocols.rna.denovo.fragments.FullAtomRNA_Fragments: \u001b[0mPicked Fragment Library for sequence cg  and sec. struct XX ... found 214 potential fragments\n",
      "\u001b[0mprotocols.rna.denovo.fragments.FullAtomRNA_Fragments: \u001b[0mPicked Fragment Library for sequence aa  and sec. struct XX ... found 197 potential fragments\n",
      "\u001b[0mprotocols.rna.denovo.fragments.FullAtomRNA_Fragments: \u001b[0mPicked Fragment Library for sequence ca  and sec. struct XX ... found 156 potential fragments\n",
      "\u001b[0mprotocols.rna.denovo.fragments.FullAtomRNA_Fragments: \u001b[0mPicked Fragment Library for sequence cc  and sec. struct XX ... found 182 potential fragments\n",
      "\u001b[0mprotocols.rna.denovo.fragments.FullAtomRNA_Fragments: \u001b[0mPicked Fragment Library for sequence uc  and sec. struct XX ... found 142 potential fragments\n",
      "\u001b[0mprotocols.rna.denovo.fragments.FullAtomRNA_Fragments: \u001b[0mPicked Fragment Library for sequence ag  and sec. struct XX ... found 224 potential fragments\n",
      "\u001b[0mprotocols.rna.denovo.fragments.FullAtomRNA_Fragments: \u001b[0mPicked Fragment Library for sequence gg  and sec. struct XX ... found 235 potential fragments\n",
      "\u001b[0mprotocols.rna.denovo.fragments.FullAtomRNA_Fragments: \u001b[0mPicked Fragment Library for sequence au  and sec. struct XX ... found 113 potential fragments\n",
      "\u001b[0mprotocols.rna.denovo.fragments.FullAtomRNA_Fragments: \u001b[0mPicked Fragment Library for sequence ug  and sec. struct XX ... found 171 potential fragments\n",
      "\u001b[0mprotocols.rna.denovo.fragments.FullAtomRNA_Fragments: \u001b[0mPicked Fragment Library for sequence g  and sec. struct X ... found 844 potential fragments\n",
      "\u001b[0mprotocols.rna.denovo.fragments.FullAtomRNA_Fragments: \u001b[0mPicked Fragment Library for sequence c  and sec. struct X ... found 690 potential fragments\n",
      "\u001b[0mprotocols.rna.denovo.fragments.FullAtomRNA_Fragments: \u001b[0mPicked Fragment Library for sequence a  and sec. struct X ... found 716 potential fragments\n",
      "\u001b[0mprotocols.rna.denovo.fragments.FullAtomRNA_Fragments: \u001b[0mPicked Fragment Library for sequence u  and sec. struct X ... found 504 potential fragments\n"
     ]
    }
   ],
   "source": [
    "import math\n",
    "import random\n",
    "\n",
    "def fragment_assembly(start_pose, frag_mover, frag_size, n_trials, sf=rna_lowres_sf):\n",
    "    curr_pose = Pose()\n",
    "    curr_pose.assign(start_pose)\n",
    "    trial_pose = Pose()\n",
    "    trial_pose.assign(curr_pose)\n",
    "    opt_pose = Pose()\n",
    "    opt_pose.assign(curr_pose)\n",
    "    currE = newE = optE = sf(curr_pose)\n",
    "    ### BEGIN SOLUTION\n",
    "    for _ in range(n_trials):\n",
    "        frag_mover.random_fragment_insertion(trial_pose, frag_size)\n",
    "        newE = sf(trial_pose)\n",
    "        if random.random() < math.exp(currE-newE):\n",
    "            curr_pose.assign(trial_pose)\n",
    "            currE = newE\n",
    "            if currE < optE:\n",
    "                optE = currE\n",
    "                opt_pose.assign(curr_pose)\n",
    "    ### END SOLUTION\n",
    "    return curr_pose\n",
    "\n",
    "frag_pose = fragment_assembly(assembled_pose, frag_mover, 3, 400)\n",
    "frag_pose = fragment_assembly(frag_pose, frag_mover, 2, 300)\n",
    "frag_pose = fragment_assembly(frag_pose, frag_mover, 1, 300)"
   ]
  },
  {
   "cell_type": "markdown",
   "metadata": {},
   "source": [
    "Examine the fragment assembled `Pose` in PyMOL. Do you recognize any of the motifs from before?\n",
    "```python\n",
    "frag_pmm = PyMOLMover()\n",
    "frag_pmm.set_PyMOL_model_name('frag_pose')\n",
    "frag_pmm.apply(frag_pose)\n",
    "```\n"
   ]
  },
  {
   "cell_type": "code",
   "execution_count": 16,
   "metadata": {},
   "outputs": [],
   "source": [
    "### BEGIN SOLUTION\n",
    "frag_pmm = PyMOLMover()\n",
    "frag_pmm.set_PyMOL_model_name('frag_pose')\n",
    "frag_pmm.apply(frag_pose)\n",
    "### END SOLUTION"
   ]
  },
  {
   "cell_type": "markdown",
   "metadata": {},
   "source": [
    "### Minimizing Structures with RNA"
   ]
  },
  {
   "cell_type": "markdown",
   "metadata": {},
   "source": [
    "In principle, the standard `MinMover` that has been introduced previously in the context of minimizing purely protein structures can also be used to minimize poses with RNA (as long as the assigned energy function has score terms relevant to RNA and an appropriate `MoveMap` is provided).\n",
    "\n",
    "However, as part of the `rna_denovo` protocol, Das and coworkers have developed a subroutine, `RNA_Minimize`, that is specifically geared toward handling minimization of poses with RNA, the use of which is detailed below."
   ]
  },
  {
   "cell_type": "markdown",
   "metadata": {},
   "source": [
    "We can access the `RNA_Minimize` mover from the `protocols` namespace. The relevant options object, `RNA_MinimizerOptions`, lives in the `import_pose.options` namespace. We will set the maximum number of iterations to 1000, using default values for other options.\n",
    "```python\n",
    "rna_min_options = core.import_pose.options.RNA_MinimizerOptions()\n",
    "rna_min_options.set_max_iter(1000)\n",
    "rna_minmizer = protocols.rna.denovo.movers.RNA_Minimizer(rna_min_options)\n",
    "```"
   ]
  },
  {
   "cell_type": "code",
   "execution_count": 17,
   "metadata": {},
   "outputs": [],
   "source": [
    "### BEGIN SOLUTION\n",
    "rna_min_options = core.import_pose.options.RNA_MinimizerOptions()\n",
    "rna_min_options.set_max_iter(1000)\n",
    "rna_minimizer = protocols.rna.denovo.movers.RNA_Minimizer(rna_min_options)\n",
    "### END SOLUTION"
   ]
  },
  {
   "cell_type": "markdown",
   "metadata": {},
   "source": [
    "Unlike in the case of using `MinMover`, things like an appropriate energy function and `MoveMap` are generated by default by the `RNA_Minimizer` object. By default, `RNA_Minimizer` uses the same high-resolution energy function as above (`stepwise/rna/rna_res_level_energy4.wts`).\n",
    "\n",
    "All that remains is to apply it to the relevant pose.\n",
    "```python\n",
    "rna_minimizer.apply(frag_pose)\n",
    "```"
   ]
  },
  {
   "cell_type": "code",
   "execution_count": 18,
   "metadata": {},
   "outputs": [
    {
     "name": "stdout",
     "output_type": "stream",
     "text": [
      "\u001b[0mprotocols.rna.denovo.movers.RNA_Minimizer: \u001b[0mOrienting 2' hydroxyls...\n",
      "\u001b[0mprotocols.rna.denovo.movers.RNA_Minimizer: \u001b[0mMinimizing...round= 1\n",
      "\u001b[0mprotocols.rna.denovo.movers.RNA_Minimizer: \u001b[0mOrienting 2' hydroxyls...\n",
      "\u001b[0mprotocols.rna.denovo.movers.RNA_Minimizer: \u001b[0mMinimizing...round= 2\n",
      "\u001b[0mprotocols.rna.denovo.movers.RNA_Minimizer: \u001b[0m\n",
      "------------------------------------------------------------\n",
      " Scores                       Weight   Raw Score Wghtd.Score\n",
      "------------------------------------------------------------\n",
      " fa_atr                       0.210    -199.341     -41.862\n",
      " fa_rep                       0.200      33.513       6.703\n",
      " fa_intra_rep                 0.003     172.640       0.501\n",
      " lk_nonpolar                  0.250       1.420       0.355\n",
      " fa_elec_rna_phos_phos        1.700      -1.041      -1.769\n",
      " rna_torsion                  1.000       6.846       6.846\n",
      " suiteness_bonus              1.000       0.000       0.000\n",
      " rna_sugar_close              0.820       0.717       0.588\n",
      " fa_stack                     0.130    -203.316     -26.431\n",
      " stack_elec                   0.760      -5.900      -4.484\n",
      " geom_sol_fast                0.170      57.716       9.812\n",
      " hbond_sr_bb_sc               0.960      -0.692      -0.664\n",
      " hbond_lr_bb_sc               0.960      -0.923      -0.886\n",
      " hbond_sc                     0.960      -4.804      -4.612\n",
      " ref                          1.000      50.440      50.440\n",
      " free_suite                   2.000       0.000       0.000\n",
      " free_2HOprime                1.000       0.000       0.000\n",
      " intermol                     1.000       0.000       0.000\n",
      " other_pose                   1.000       0.000       0.000\n",
      " loop_close                   1.000       0.000       0.000\n",
      " linear_chainbreak            5.000       0.000       0.000\n",
      "---------------------------------------------------\n",
      " Total weighted score:                       -5.464\n",
      "\u001b[0mprotocols.rna.denovo.movers.RNA_Minimizer: \u001b[0mRNA minimizer finished in 9 seconds.\n"
     ]
    }
   ],
   "source": [
    "### BEGIN SOLUTION\n",
    "rna_minimizer.apply(frag_pose)\n",
    "### END SOLUTION"
   ]
  },
  {
   "cell_type": "markdown",
   "metadata": {},
   "source": [
    "Let's see what changes minimization has wrought on our structure:\n",
    "```python\n",
    "min_pmm = PyMOLMover()\n",
    "min_pmm.set_PyMOL_model_name('min_pose')\n",
    "min_pmm.apply(frag_pose)\n",
    "```"
   ]
  },
  {
   "cell_type": "code",
   "execution_count": 19,
   "metadata": {},
   "outputs": [],
   "source": [
    "### BEGIN SOLUTION\n",
    "min_pmm = PyMOLMover()\n",
    "min_pmm.set_PyMOL_model_name('min_pose')\n",
    "min_pmm.apply(frag_pose)\n",
    "### END SOLUTION"
   ]
  },
  {
   "cell_type": "markdown",
   "metadata": {},
   "source": [
    "**Exercise**: Using the functions described in the first part of the notebook, report on the following with respect to our de novo folded sequence:\n",
    "1. Which base pairs, if any, were recovered?\n",
    "2. Which motifs, if any, were recovered?\n"
   ]
  },
  {
   "cell_type": "code",
   "execution_count": 20,
   "metadata": {},
   "outputs": [
    {
     "name": "stdout",
     "output_type": "stream",
     "text": [
      "4 12 WC SUGAR ANTI\n",
      "5 11 WC SUGAR ANTI\n",
      "6 11 SUGAR WC ANTI\n",
      "\u001b[0mcore.scoring.rna.RNA_LowResolutionPotential: \u001b[0mReading basepair x - y potential file: scoring/rna/rna_base_pair_xy.dat\n",
      "\u001b[0mcore.scoring.rna.RNA_LowResolutionPotential: \u001b[0mFinished reading basepair x - y potential file: scoring/rna/rna_base_pair_xy.dat\n",
      "\u001b[0mcore.scoring.rna.RNA_LowResolutionPotential: \u001b[0mReading non - base - base x - y potential file: scoring/rna/rna_base_backbone_xy.dat\n",
      "\u001b[0mcore.scoring.rna.RNA_LowResolutionPotential: \u001b[0mReading RNA backbone backbone potential file: scoring/rna/rna_backbone_backbone.dat\n",
      "\n"
     ]
    }
   ],
   "source": [
    "### BEGIN SOLUTION\n",
    "base_pairs = classify_base_pairs(frag_pose)\n",
    "for base_pair in base_pairs:\n",
    "    print(base_pair)\n",
    "\n",
    "lowres_potential = core.scoring.rna.RNA_LowResolutionPotential( \"scoring/rna/rna_base_pair_xy.dat\" )\n",
    "rna_scoring_info = core.scoring.rna.rna_scoring_info_from_pose(frag_pose).rna_filtered_base_base_info()\n",
    "rna_motifs = core.scoring.rna.get_rna_motifs( frag_pose, lowres_potential, rna_scoring_info)\n",
    "print(rna_motifs)\n",
    "### END SOLUTION"
   ]
  },
  {
   "cell_type": "markdown",
   "metadata": {},
   "source": [
    "## Additional Exercises"
   ]
  },
  {
   "cell_type": "markdown",
   "metadata": {},
   "source": [
    "### Post-mortem"
   ]
  },
  {
   "cell_type": "markdown",
   "metadata": {},
   "source": [
    "Examine our final folded structure and the hairpin from the first part of the tutorial and think about the following questions:\n",
    "* How well did our brief structure prediction algorithm do at recovering the hairpin we examined at the beginning? \n",
    "* Which parts were more successfully recovered? Which parts less so? Why might this be? \n",
    "* What would you do to improve on this method as it stands? Feel free to implement any ideas you have."
   ]
  },
  {
   "cell_type": "markdown",
   "metadata": {},
   "source": [
    "### FAR + FAR = FARFAR"
   ]
  },
  {
   "cell_type": "markdown",
   "metadata": {},
   "source": [
    "Write a function analogous to the `fragment_assembly` function above that \n",
    "* Accepts an input `Pose`\n",
    "* Performs a round of minimization using an `RNA_Minimizer`\n",
    "* Returns the minimized structure\n",
    "\n",
    "Using this new suboutine, craft your own `farfar` ( [Fragment Assembly of RNA with Full Atom Refinement](https://www.rosettacommons.org/docs/latest/application_documentation/rna/rna-denovo)) routine that performs multiple rounds of fragment assembly in a low-resolution potential followed by minimization in a high-resolution energy function. \n",
    "\n",
    "Try playing around with the various parameters and see how well you can recover the hairpin starting from just the sequence.\n"
   ]
  },
  {
   "cell_type": "markdown",
   "metadata": {},
   "source": [
    "## RNA Structure Prediction Protocol"
   ]
  },
  {
   "cell_type": "markdown",
   "metadata": {},
   "source": [
    "Below we will be running a short RNA de novo modeling run for the stem-loop sequence we have been working with thus far, making use of the **FARFAR protocol** (which you can run with the `rna_denovo` command in Rosetta). As discussed above, the FARFAR protocol involves a mixture of fragment assembly moves and full atom minimization moves. We will generate a small set of structures using FARFAR and compare the energy of the resulting structures to those constructed in the previous exercise. "
   ]
  },
  {
   "cell_type": "markdown",
   "metadata": {},
   "source": [
    "FARFAR builds models for a structure as specified in a FASTA file, making use of any structures of known sub-pieces (for instance, A-form helices for regions known to form stems). In this case, we will provide the helical portion of our structure between residues 1-5 and residues 10-14 as an input to the FARFAR protocol, so that the protocol only has to worry about sampling the loop. In a real modeling scenario, it is often the case that information about the secondary structure of the RNA is known, allowing us to make use of A-form helix rigid bodies to accelerate modeling.\n",
    "\n",
    "Let's set up the fasta file and input PDB files to use as options for FARFAR; these files should be in the `inputs/` folder."
   ]
  },
  {
   "cell_type": "code",
   "execution_count": 43,
   "metadata": {},
   "outputs": [],
   "source": [
    "input_pdbs = rosetta.utility.vector1_std_string()\n",
    "fasta_files = rosetta.utility.vector1_std_string()\n",
    "input_pdbs.append(\"inputs/stem.pdb\")\n",
    "fasta_files = rosetta.utility.vector1_std_string()\n",
    "fasta_files.append(\"inputs/stem_loop.fasta\")"
   ]
  },
  {
   "cell_type": "markdown",
   "metadata": {},
   "source": [
    "We will set up options for `rna_denovo` below, specifying the FASTA file, the input PDBs, the number of structures we would like to generate, and the output file (silent file format)."
   ]
  },
  {
   "cell_type": "code",
   "execution_count": 44,
   "metadata": {},
   "outputs": [],
   "source": [
    "rna_de_novo_setup = core.import_pose.RNA_DeNovoSetup()\n",
    "rna_de_novo_setup.set_fasta_files(fasta_files)\n",
    "rna_de_novo_setup.set_minimize_rna(True)\n",
    "rna_de_novo_setup.set_input_pdbs(input_pdbs)"
   ]
  },
  {
   "cell_type": "code",
   "execution_count": 45,
   "metadata": {},
   "outputs": [
    {
     "name": "stdout",
     "output_type": "stream",
     "text": [
      "\u001b[0mcore.import_pose.options.RNA_DeNovoProtocolOptions: \u001b[0m\u001b[32mSetting silent file name based on directory: notebooks.out\n",
      "\u001b[0mcore.import_pose.import_pose: \u001b[0mFile 'inputs/stem.pdb' automatically determined to be of type PDB\n",
      "\u001b[0mcore.import_pose.RNA_DeNovoSetup: \u001b[0mSequence:            cauccgaaaggaug\n",
      "\u001b[0mcore.import_pose.RNA_DeNovoSetup: \u001b[0mSecstruct:           ..............\n"
     ]
    }
   ],
   "source": [
    "rna_de_novo_setup.initialize_from_command_line()"
   ]
  },
  {
   "cell_type": "code",
   "execution_count": 46,
   "metadata": {},
   "outputs": [],
   "source": [
    "rna_de_novo_options = rna_de_novo_setup.options()\n",
    "rna_de_novo_options.set_nstruct(10)\n",
    "rna_de_novo_options.set_silent_file(\"output/stem_loop.out\")"
   ]
  },
  {
   "cell_type": "markdown",
   "metadata": {},
   "source": [
    "Now we will run FARFAR by generating an `RNA_DeNovoProtocol` object and running it with `apply` on a starting pose. This will take a few minutes to run, and will generate 10 structures to the silent file specified above. As the protocol is running, take a look at the output to understand how it works. Note that for each structure generated, the protocol goes through various rounds of fragment assembly with fragments of size 3, 2, and 1, and then runs the RNA minimizer. This is similar to the protocol you made above!"
   ]
  },
  {
   "cell_type": "code",
   "execution_count": 47,
   "metadata": {},
   "outputs": [],
   "source": [
    "rna_de_novo_protocol = rosetta.protocols.rna.denovo.RNA_DeNovoProtocol(rna_de_novo_options, rna_de_novo_setup.rna_params())"
   ]
  },
  {
   "cell_type": "code",
   "execution_count": 28,
   "metadata": {},
   "outputs": [
    {
     "name": "stdout",
     "output_type": "stream",
     "text": [
      "\u001b[0mprotocols.rna.denovo.setup.RNA_DeNovoPoseInitializer: \u001b[0mSetting desired secondary structure to: XXXXXXXXXXXXXX\n",
      "\u001b[0mcore.conformation.Residue: \u001b[0m\u001b[1m[ WARNING ]\u001b[0m Residue connection id changed when creating a new residue at seqpos 1\n",
      "\u001b[0mcore.conformation.Residue: \u001b[0m\u001b[1m[ WARNING ]\u001b[0m ResConnID info stored on the connected residue (residue 2) is now out of date!\n",
      "\u001b[0mcore.conformation.Residue: \u001b[0m\u001b[1m[ WARNING ]\u001b[0m Connection atom name (in src):  O3'\n",
      "\u001b[0mcore.import_pose.import_pose: \u001b[0mFile 'inputs/stem.pdb' automatically determined to be of type PDB\n",
      "\u001b[0mcore.conformation.Residue: \u001b[0m\u001b[1m[ WARNING ]\u001b[0m Residue connection id changed when creating a new residue at seqpos 1\n",
      "\u001b[0mcore.conformation.Residue: \u001b[0m\u001b[1m[ WARNING ]\u001b[0m ResConnID info stored on the connected residue (residue 2) is now out of date!\n",
      "\u001b[0mcore.conformation.Residue: \u001b[0m\u001b[1m[ WARNING ]\u001b[0m Connection atom name (in src):  O3'\n",
      "\u001b[0mprotocols.rna.setup.RNA_MonteCarloJobDistributor: \u001b[0m\n",
      "\u001b[0mprotocols.rna.setup.RNA_MonteCarloJobDistributor: \u001b[0m\u001b[32mEmbarking on structure 1 of 10\u001b[0m\n",
      "\u001b[0mprotocols.rna.denovo.RNA_FragmentMonteCarlo: \u001b[0mNumber of moving residues: 5\n",
      "\u001b[0mprotocols.rna.denovo.RNA_FragmentMonteCarlo: \u001b[0mNumber of moving chunks: 0\n",
      "\u001b[0mprotocols.rna.denovo.RNA_FragmentMonteCarlo: \u001b[0mUsing 10000 cycles in de novo modeling.\n",
      "\u001b[0mprotocols.rna.denovo.movers.RNA_DeNovoMasterMover: \u001b[0mHeating up... 42 cycles.\n",
      "\u001b[0mprotocols.rna.denovo.RNA_FragmentMonteCarlo: \u001b[0mBeginning main loop...\n",
      "\u001b[0mprotocols.rna.denovo.RNA_FragmentMonteCarlo: \u001b[0m\u001b[34mBeginning round 1 of 10\u001b[0m\n",
      "\u001b[0mprotocols.moves.TrialCounter: \u001b[0m          frag 3 trials=    911;  accepts= 0.2766;  energy_drop/trial=  -0.03536\n",
      "\u001b[0mprotocols.rna.denovo.RNA_FragmentMonteCarlo: \u001b[0m\u001b[34mBeginning round 2 of 10\u001b[0m\n",
      "\u001b[0mprotocols.moves.TrialCounter: \u001b[0m          frag 3 trials=    885;  accepts= 0.2294;  energy_drop/trial=   0.00376\n",
      "\u001b[0mprotocols.rna.denovo.RNA_FragmentMonteCarlo: \u001b[0mChecking base pairs early! Result: 1\n",
      "\u001b[0mprotocols.rna.denovo.RNA_FragmentMonteCarlo: \u001b[0m\u001b[34mBeginning round 3 of 10\u001b[0m\n",
      "\u001b[0mprotocols.moves.TrialCounter: \u001b[0m          frag 3 trials=    914;  accepts= 0.1751;  energy_drop/trial=   0.00587\n",
      "\u001b[0mprotocols.rna.denovo.RNA_FragmentMonteCarlo: \u001b[0m\u001b[34mBeginning round 4 of 10\u001b[0m\n",
      "\u001b[0mprotocols.rna.denovo.RNA_FragmentMonteCarlo: \u001b[0mFragment size: 2\n",
      "\u001b[0mprotocols.moves.TrialCounter: \u001b[0m          frag 2 trials=    901;  accepts= 0.2042;  energy_drop/trial=   0.00841\n",
      "\u001b[0mprotocols.rna.denovo.RNA_FragmentMonteCarlo: \u001b[0m\u001b[34mBeginning round 5 of 10\u001b[0m\n",
      "\u001b[0mprotocols.moves.TrialCounter: \u001b[0m          frag 2 trials=    898;  accepts= 0.1258;  energy_drop/trial=   0.00631\n",
      "\u001b[0mprotocols.rna.denovo.RNA_FragmentMonteCarlo: \u001b[0mChecking loop closure with tolerance of 12 Angstroms! Result: 1\n",
      "\u001b[0mprotocols.rna.denovo.RNA_FragmentMonteCarlo: \u001b[0m\u001b[34mBeginning round 6 of 10\u001b[0m\n",
      "\u001b[0mprotocols.moves.TrialCounter: \u001b[0m          frag 2 trials=    885;  accepts= 0.1209;  energy_drop/trial=   0.00560\n",
      "\u001b[0mprotocols.rna.denovo.RNA_FragmentMonteCarlo: \u001b[0m\u001b[34mBeginning round 7 of 10\u001b[0m\n",
      "\u001b[0mprotocols.rna.denovo.RNA_FragmentMonteCarlo: \u001b[0mFragment size: 1\n",
      "\u001b[0mprotocols.moves.TrialCounter: \u001b[0m          frag 1 trials=    905;  accepts= 0.1801;  energy_drop/trial=   0.00695\n",
      "\u001b[0mprotocols.rna.denovo.RNA_FragmentMonteCarlo: \u001b[0m\u001b[34mBeginning round 8 of 10\u001b[0m\n",
      "\u001b[0mprotocols.moves.TrialCounter: \u001b[0m          frag 1 trials=    894;  accepts= 0.1566;  energy_drop/trial=   0.00347\n",
      "\u001b[0mprotocols.rna.denovo.RNA_FragmentMonteCarlo: \u001b[0m\u001b[34mBeginning round 9 of 10\u001b[0m\n",
      "\u001b[0mprotocols.moves.TrialCounter: \u001b[0m          frag 1 trials=    886;  accepts= 0.1558;  energy_drop/trial=   0.00956\n",
      "\u001b[0mprotocols.rna.denovo.RNA_FragmentMonteCarlo: \u001b[0m\u001b[34mBeginning round 10 of 10\u001b[0m\n",
      "\u001b[0mprotocols.moves.TrialCounter: \u001b[0m          frag 1 trials=    890;  accepts= 0.2056;  energy_drop/trial=   0.00292\n",
      "\u001b[0mprotocols.rna.denovo.RNA_FragmentMonteCarlo: \u001b[0mFinished fragment assembly of S_000001 in 4 seconds.\n",
      "\u001b[0mprotocols.rna.denovo.RNA_FragmentMonteCarlo: \u001b[0mComparing current lores score -89.8351 to automatically determined cutoff: -89.8351 based on 0.2 quantile from 1 models so far\n",
      "\u001b[0mprotocols.rna.denovo.RNA_FragmentMonteCarlo: \u001b[0m\n",
      "------------------------------------------------------------\n",
      " Scores                       Weight   Raw Score Wghtd.Score\n",
      "------------------------------------------------------------\n",
      " rna_data_backbone            1.000       0.000       0.000\n",
      " rna_vdw                      1.000       0.902       0.902\n",
      " rna_base_backbone            1.000      -4.767      -4.767\n",
      " rna_backbone_backbone        1.000       0.000       0.000\n",
      " rna_repulsive                1.000       0.000       0.000\n",
      " rna_base_pair                1.000     -52.954     -52.954\n",
      " rna_base_axis                0.200     -33.252      -6.650\n",
      " rna_base_stagger             1.000     -27.282     -27.282\n",
      " rna_base_stack               1.000      -3.503      -3.503\n",
      " rna_base_stack_axis          0.200     -22.582      -4.516\n",
      " rna_rg                       1.000       8.695       8.695\n",
      " atom_pair_constraint         1.000       0.000       0.000\n",
      " base_pair_constraint         1.000       0.000       0.000\n",
      " linear_chainbreak            5.000       0.048       0.239\n",
      "---------------------------------------------------\n",
      " Total weighted score:                      -89.835\n",
      "\u001b[0mprotocols.rna.denovo.RNA_FragmentMonteCarlo: \u001b[0m\n",
      "\u001b[0mprotocols.rna.denovo.movers.RNA_Minimizer: \u001b[0mOrienting 2' hydroxyls...\n",
      "\u001b[0mprotocols.rna.denovo.movers.RNA_Minimizer: \u001b[0mMinimizing...round= 1\n",
      "\u001b[0mprotocols.rna.denovo.movers.RNA_Minimizer: \u001b[0mOrienting 2' hydroxyls...\n",
      "\u001b[0mprotocols.rna.denovo.movers.RNA_Minimizer: \u001b[0mMinimizing...round= 2\n",
      "\u001b[0mprotocols.rna.denovo.movers.RNA_Minimizer: \u001b[0m\n",
      "------------------------------------------------------------\n",
      " Scores                       Weight   Raw Score Wghtd.Score\n",
      "------------------------------------------------------------\n",
      " fa_atr                       0.210    -212.395     -44.603\n",
      " fa_rep                       0.200      57.785      11.557\n",
      " fa_intra_rep                 0.003     156.356       0.453\n",
      " lk_nonpolar                  0.250      -8.238      -2.060\n",
      " fa_elec_rna_phos_phos        1.700       0.180       0.307\n",
      " rna_torsion                  1.000       5.115       5.115\n",
      " suiteness_bonus              1.000       0.000       0.000\n",
      " rna_sugar_close              0.820       3.757       3.081\n",
      " fa_stack                     0.130    -232.018     -30.162\n",
      " stack_elec                   0.760      -1.304      -0.991\n",
      " geom_sol_fast                0.170      76.314      12.973\n",
      " hbond_sr_bb_sc               0.960      -0.771      -0.740\n",
      " hbond_lr_bb_sc               0.960      -0.418      -0.401\n",
      " hbond_sc                     0.960     -22.120     -21.235\n",
      " ref                          1.000      50.440      50.440\n",
      " free_suite                   2.000       0.000       0.000\n",
      " free_2HOprime                1.000       0.000       0.000\n",
      " intermol                     1.000       0.000       0.000\n",
      " other_pose                   1.000       0.000       0.000\n",
      " loop_close                   1.000       0.000       0.000\n",
      " linear_chainbreak            5.000       0.005       0.024\n",
      "---------------------------------------------------\n",
      " Total weighted score:                      -16.243\n",
      "\u001b[0mprotocols.rna.denovo.movers.RNA_Minimizer: \u001b[0mRNA minimizer finished in 2 seconds.\n",
      "\u001b[0mprotocols.rna.denovo.RNA_DeNovoProtocol: \u001b[0mMaking silent struct for S_000001\n",
      "\u001b[0mprotocols.rna.denovo.RNA_DeNovoProtocol: \u001b[0mOutputting to silent file: inputs/stem_loop.out\n",
      "\u001b[0mprotocols.rna.setup.RNA_MonteCarloJobDistributor: \u001b[0m\n",
      "\u001b[0mprotocols.rna.setup.RNA_MonteCarloJobDistributor: \u001b[0m\u001b[32mEmbarking on structure 2 of 10\u001b[0m\n",
      "\u001b[0mprotocols.rna.denovo.RNA_FragmentMonteCarlo: \u001b[0mNumber of moving residues: 5\n",
      "\u001b[0mprotocols.rna.denovo.RNA_FragmentMonteCarlo: \u001b[0mNumber of moving chunks: 0\n",
      "\u001b[0mprotocols.rna.denovo.RNA_FragmentMonteCarlo: \u001b[0mUsing 10000 cycles in de novo modeling.\n",
      "\u001b[0mprotocols.rna.denovo.movers.RNA_DeNovoMasterMover: \u001b[0mHeating up... 42 cycles.\n",
      "\u001b[0mprotocols.rna.denovo.RNA_FragmentMonteCarlo: \u001b[0mBeginning main loop...\n",
      "\u001b[0mprotocols.rna.denovo.RNA_FragmentMonteCarlo: \u001b[0m\u001b[34mBeginning round 1 of 10\u001b[0m\n"
     ]
    },
    {
     "name": "stdout",
     "output_type": "stream",
     "text": [
      "\u001b[0mprotocols.moves.TrialCounter: \u001b[0m          frag 3 trials=    915;  accepts= 0.1574;  energy_drop/trial=  -0.05502\n",
      "\u001b[0mprotocols.rna.denovo.RNA_FragmentMonteCarlo: \u001b[0m\u001b[34mBeginning round 2 of 10\u001b[0m\n",
      "\u001b[0mprotocols.moves.TrialCounter: \u001b[0m          frag 3 trials=    901;  accepts= 0.1443;  energy_drop/trial=   0.00532\n",
      "\u001b[0mprotocols.rna.denovo.RNA_FragmentMonteCarlo: \u001b[0mChecking base pairs early! Result: 1\n",
      "\u001b[0mprotocols.rna.denovo.RNA_FragmentMonteCarlo: \u001b[0m\u001b[34mBeginning round 3 of 10\u001b[0m\n",
      "\u001b[0mprotocols.moves.TrialCounter: \u001b[0m          frag 3 trials=    911;  accepts= 0.0714;  energy_drop/trial=   0.00288\n",
      "\u001b[0mprotocols.rna.denovo.RNA_FragmentMonteCarlo: \u001b[0m\u001b[34mBeginning round 4 of 10\u001b[0m\n",
      "\u001b[0mprotocols.rna.denovo.RNA_FragmentMonteCarlo: \u001b[0mFragment size: 2\n",
      "\u001b[0mprotocols.moves.TrialCounter: \u001b[0m          frag 2 trials=    898;  accepts= 0.1225;  energy_drop/trial=   0.00958\n",
      "\u001b[0mprotocols.rna.denovo.RNA_FragmentMonteCarlo: \u001b[0m\u001b[34mBeginning round 5 of 10\u001b[0m\n",
      "\u001b[0mprotocols.moves.TrialCounter: \u001b[0m          frag 2 trials=    895;  accepts= 0.0749;  energy_drop/trial=   0.00115\n",
      "\u001b[0mprotocols.rna.denovo.RNA_FragmentMonteCarlo: \u001b[0mChecking loop closure with tolerance of 12 Angstroms! Result: 1\n",
      "\u001b[0mprotocols.rna.denovo.RNA_FragmentMonteCarlo: \u001b[0m\u001b[34mBeginning round 6 of 10\u001b[0m\n",
      "\u001b[0mprotocols.moves.TrialCounter: \u001b[0m          frag 2 trials=    912;  accepts= 0.0746;  energy_drop/trial=   0.01596\n",
      "\u001b[0mprotocols.rna.denovo.RNA_FragmentMonteCarlo: \u001b[0m\u001b[34mBeginning round 7 of 10\u001b[0m\n",
      "\u001b[0mprotocols.rna.denovo.RNA_FragmentMonteCarlo: \u001b[0mFragment size: 1\n",
      "\u001b[0mprotocols.moves.TrialCounter: \u001b[0m          frag 1 trials=    902;  accepts= 0.1197;  energy_drop/trial=   0.00356\n",
      "\u001b[0mprotocols.rna.denovo.RNA_FragmentMonteCarlo: \u001b[0m\u001b[34mBeginning round 8 of 10\u001b[0m\n",
      "\u001b[0mprotocols.moves.TrialCounter: \u001b[0m          frag 1 trials=    915;  accepts= 0.0798;  energy_drop/trial=   0.00069\n",
      "\u001b[0mprotocols.rna.denovo.RNA_FragmentMonteCarlo: \u001b[0m\u001b[34mBeginning round 9 of 10\u001b[0m\n",
      "\u001b[0mprotocols.moves.TrialCounter: \u001b[0m          frag 1 trials=    899;  accepts= 0.0812;  energy_drop/trial=   0.01018\n",
      "\u001b[0mprotocols.rna.denovo.RNA_FragmentMonteCarlo: \u001b[0m\u001b[34mBeginning round 10 of 10\u001b[0m\n",
      "\u001b[0mprotocols.moves.TrialCounter: \u001b[0m          frag 1 trials=    915;  accepts= 0.1049;  energy_drop/trial=  -0.00595\n",
      "\u001b[0mprotocols.rna.denovo.RNA_FragmentMonteCarlo: \u001b[0mFinished fragment assembly of S_000002 in 4 seconds.\n",
      "\u001b[0mprotocols.rna.denovo.RNA_FragmentMonteCarlo: \u001b[0mComparing current lores score -89.9549 to automatically determined cutoff: -89.9549 based on 0.2 quantile from 2 models so far\n",
      "\u001b[0mprotocols.rna.denovo.RNA_FragmentMonteCarlo: \u001b[0m\n",
      "------------------------------------------------------------\n",
      " Scores                       Weight   Raw Score Wghtd.Score\n",
      "------------------------------------------------------------\n",
      " rna_data_backbone            1.000       0.000       0.000\n",
      " rna_vdw                      1.000       0.288       0.288\n",
      " rna_base_backbone            1.000      -4.578      -4.578\n",
      " rna_backbone_backbone        1.000       0.000       0.000\n",
      " rna_repulsive                1.000       0.000       0.000\n",
      " rna_base_pair                1.000     -51.631     -51.631\n",
      " rna_base_axis                0.200     -31.708      -6.342\n",
      " rna_base_stagger             1.000     -26.993     -26.993\n",
      " rna_base_stack               1.000      -4.404      -4.404\n",
      " rna_base_stack_axis          0.200     -28.967      -5.793\n",
      " rna_rg                       1.000       8.902       8.902\n",
      " atom_pair_constraint         1.000       0.000       0.000\n",
      " base_pair_constraint         1.000       0.000       0.000\n",
      " linear_chainbreak            5.000       0.119       0.596\n",
      "---------------------------------------------------\n",
      " Total weighted score:                      -89.955\n",
      "\u001b[0mprotocols.rna.denovo.RNA_FragmentMonteCarlo: \u001b[0m\n",
      "\u001b[0mprotocols.rna.denovo.movers.RNA_Minimizer: \u001b[0mOrienting 2' hydroxyls...\n",
      "\u001b[0mprotocols.rna.denovo.movers.RNA_Minimizer: \u001b[0mMinimizing...round= 1\n",
      "\u001b[0mprotocols.rna.denovo.movers.RNA_Minimizer: \u001b[0mOrienting 2' hydroxyls...\n",
      "\u001b[0mprotocols.rna.denovo.movers.RNA_Minimizer: \u001b[0mMinimizing...round= 2\n",
      "\u001b[0mprotocols.rna.denovo.movers.RNA_Minimizer: \u001b[0m\n",
      "------------------------------------------------------------\n",
      " Scores                       Weight   Raw Score Wghtd.Score\n",
      "------------------------------------------------------------\n",
      " fa_atr                       0.210    -191.485     -40.212\n",
      " fa_rep                       0.200      54.120      10.824\n",
      " fa_intra_rep                 0.003     141.027       0.409\n",
      " lk_nonpolar                  0.250      -9.784      -2.446\n",
      " fa_elec_rna_phos_phos        1.700       0.017       0.030\n",
      " rna_torsion                  1.000       4.181       4.181\n",
      " suiteness_bonus              1.000       0.000       0.000\n",
      " rna_sugar_close              0.820       4.063       3.332\n",
      " fa_stack                     0.130    -207.617     -26.990\n",
      " stack_elec                   0.760      -0.561      -0.426\n",
      " geom_sol_fast                0.170      71.405      12.139\n",
      " hbond_sr_bb_sc               0.960       0.000       0.000\n",
      " hbond_lr_bb_sc               0.960       0.000       0.000\n",
      " hbond_sc                     0.960     -21.758     -20.887\n",
      " ref                          1.000      50.440      50.440\n",
      " free_suite                   2.000       0.000       0.000\n",
      " free_2HOprime                1.000       0.000       0.000\n",
      " intermol                     1.000       0.000       0.000\n",
      " other_pose                   1.000       0.000       0.000\n",
      " loop_close                   1.000       0.000       0.000\n",
      " linear_chainbreak            5.000       0.005       0.024\n",
      "---------------------------------------------------\n",
      " Total weighted score:                       -9.584\n",
      "\u001b[0mprotocols.rna.denovo.movers.RNA_Minimizer: \u001b[0mRNA minimizer finished in 3 seconds.\n",
      "\u001b[0mprotocols.rna.denovo.RNA_DeNovoProtocol: \u001b[0mMaking silent struct for S_000002\n",
      "\u001b[0mprotocols.rna.denovo.RNA_DeNovoProtocol: \u001b[0mOutputting to silent file: inputs/stem_loop.out\n",
      "\u001b[0mprotocols.rna.setup.RNA_MonteCarloJobDistributor: \u001b[0m\n",
      "\u001b[0mprotocols.rna.setup.RNA_MonteCarloJobDistributor: \u001b[0m\u001b[32mEmbarking on structure 3 of 10\u001b[0m\n",
      "\u001b[0mprotocols.rna.denovo.RNA_FragmentMonteCarlo: \u001b[0mNumber of moving residues: 5\n",
      "\u001b[0mprotocols.rna.denovo.RNA_FragmentMonteCarlo: \u001b[0mNumber of moving chunks: 0\n",
      "\u001b[0mprotocols.rna.denovo.RNA_FragmentMonteCarlo: \u001b[0mUsing 10000 cycles in de novo modeling.\n",
      "\u001b[0mprotocols.rna.denovo.movers.RNA_DeNovoMasterMover: \u001b[0mHeating up... 42 cycles.\n",
      "\u001b[0mprotocols.rna.denovo.RNA_FragmentMonteCarlo: \u001b[0mBeginning main loop...\n",
      "\u001b[0mprotocols.rna.denovo.RNA_FragmentMonteCarlo: \u001b[0m\u001b[34mBeginning round 1 of 10\u001b[0m\n",
      "\u001b[0mprotocols.moves.TrialCounter: \u001b[0m          frag 3 trials=    898;  accepts= 0.1815;  energy_drop/trial=  -0.07813\n",
      "\u001b[0mprotocols.rna.denovo.RNA_FragmentMonteCarlo: \u001b[0m\u001b[34mBeginning round 2 of 10\u001b[0m\n",
      "\u001b[0mprotocols.moves.TrialCounter: \u001b[0m          frag 3 trials=    877;  accepts= 0.0969;  energy_drop/trial=  -0.00307\n",
      "\u001b[0mprotocols.rna.denovo.RNA_FragmentMonteCarlo: \u001b[0mChecking base pairs early! Result: 1\n",
      "\u001b[0mprotocols.rna.denovo.RNA_FragmentMonteCarlo: \u001b[0m\u001b[34mBeginning round 3 of 10\u001b[0m\n",
      "\u001b[0mprotocols.moves.TrialCounter: \u001b[0m          frag 3 trials=    904;  accepts= 0.0719;  energy_drop/trial=  -0.00110\n",
      "\u001b[0mprotocols.rna.denovo.RNA_FragmentMonteCarlo: \u001b[0m\u001b[34mBeginning round 4 of 10\u001b[0m\n",
      "\u001b[0mprotocols.rna.denovo.RNA_FragmentMonteCarlo: \u001b[0mFragment size: 2\n",
      "\u001b[0mprotocols.moves.TrialCounter: \u001b[0m          frag 2 trials=    907;  accepts= 0.0761;  energy_drop/trial=   0.00648\n",
      "\u001b[0mprotocols.rna.denovo.RNA_FragmentMonteCarlo: \u001b[0m\u001b[34mBeginning round 5 of 10\u001b[0m\n",
      "\u001b[0mprotocols.moves.TrialCounter: \u001b[0m          frag 2 trials=    914;  accepts= 0.0481;  energy_drop/trial=   0.00507\n",
      "\u001b[0mprotocols.rna.denovo.RNA_FragmentMonteCarlo: \u001b[0mChecking loop closure with tolerance of 12 Angstroms! Result: 1\n",
      "\u001b[0mprotocols.rna.denovo.RNA_FragmentMonteCarlo: \u001b[0m\u001b[34mBeginning round 6 of 10\u001b[0m\n",
      "\u001b[0mprotocols.moves.TrialCounter: \u001b[0m          frag 2 trials=    906;  accepts= 0.0872;  energy_drop/trial=   0.00674\n",
      "\u001b[0mprotocols.rna.denovo.RNA_FragmentMonteCarlo: \u001b[0m\u001b[34mBeginning round 7 of 10\u001b[0m\n",
      "\u001b[0mprotocols.rna.denovo.RNA_FragmentMonteCarlo: \u001b[0mFragment size: 1\n"
     ]
    },
    {
     "name": "stdout",
     "output_type": "stream",
     "text": [
      "\u001b[0mprotocols.moves.TrialCounter: \u001b[0m          frag 1 trials=    900;  accepts= 0.1278;  energy_drop/trial=   0.01127\n",
      "\u001b[0mprotocols.rna.denovo.RNA_FragmentMonteCarlo: \u001b[0m\u001b[34mBeginning round 8 of 10\u001b[0m\n",
      "\u001b[0mprotocols.moves.TrialCounter: \u001b[0m          frag 1 trials=    905;  accepts= 0.1193;  energy_drop/trial=   0.02087\n",
      "\u001b[0mprotocols.rna.denovo.RNA_FragmentMonteCarlo: \u001b[0m\u001b[34mBeginning round 9 of 10\u001b[0m\n",
      "\u001b[0mprotocols.moves.TrialCounter: \u001b[0m          frag 1 trials=    902;  accepts= 0.0698;  energy_drop/trial=   0.01351\n",
      "\u001b[0mprotocols.rna.denovo.RNA_FragmentMonteCarlo: \u001b[0m\u001b[34mBeginning round 10 of 10\u001b[0m\n",
      "\u001b[0mprotocols.moves.TrialCounter: \u001b[0m          frag 1 trials=    901;  accepts= 0.1465;  energy_drop/trial=  -0.00064\n",
      "\u001b[0mprotocols.rna.denovo.RNA_FragmentMonteCarlo: \u001b[0mFinished fragment assembly of S_000003 in 4 seconds.\n",
      "\u001b[0mprotocols.rna.denovo.RNA_FragmentMonteCarlo: \u001b[0mComparing current lores score -90.9657 to automatically determined cutoff: -90.9657 based on 0.2 quantile from 3 models so far\n",
      "\u001b[0mprotocols.rna.denovo.RNA_FragmentMonteCarlo: \u001b[0m\n",
      "------------------------------------------------------------\n",
      " Scores                       Weight   Raw Score Wghtd.Score\n",
      "------------------------------------------------------------\n",
      " rna_data_backbone            1.000       0.000       0.000\n",
      " rna_vdw                      1.000       3.434       3.434\n",
      " rna_base_backbone            1.000      -1.508      -1.508\n",
      " rna_backbone_backbone        1.000       0.000       0.000\n",
      " rna_repulsive                1.000       0.000       0.000\n",
      " rna_base_pair                1.000     -55.346     -55.346\n",
      " rna_base_axis                0.200     -36.365      -7.273\n",
      " rna_base_stagger             1.000     -28.892     -28.892\n",
      " rna_base_stack               1.000      -4.410      -4.410\n",
      " rna_base_stack_axis          0.200     -29.248      -5.850\n",
      " rna_rg                       1.000       8.553       8.553\n",
      " atom_pair_constraint         1.000       0.000       0.000\n",
      " base_pair_constraint         1.000       0.000       0.000\n",
      " linear_chainbreak            5.000       0.065       0.324\n",
      "---------------------------------------------------\n",
      " Total weighted score:                      -90.966\n",
      "\u001b[0mprotocols.rna.denovo.RNA_FragmentMonteCarlo: \u001b[0m\n",
      "\u001b[0mprotocols.rna.denovo.movers.RNA_Minimizer: \u001b[0mOrienting 2' hydroxyls...\n",
      "\u001b[0mprotocols.rna.denovo.movers.RNA_Minimizer: \u001b[0mMinimizing...round= 1\n",
      "\u001b[0mprotocols.rna.denovo.movers.RNA_Minimizer: \u001b[0mOrienting 2' hydroxyls...\n",
      "\u001b[0mprotocols.rna.denovo.movers.RNA_Minimizer: \u001b[0mMinimizing...round= 2\n",
      "\u001b[0mprotocols.rna.denovo.movers.RNA_Minimizer: \u001b[0m\n",
      "------------------------------------------------------------\n",
      " Scores                       Weight   Raw Score Wghtd.Score\n",
      "------------------------------------------------------------\n",
      " fa_atr                       0.210    -208.421     -43.768\n",
      " fa_rep                       0.200      56.698      11.340\n",
      " fa_intra_rep                 0.003     221.109       0.641\n",
      " lk_nonpolar                  0.250      -6.898      -1.724\n",
      " fa_elec_rna_phos_phos        1.700       0.286       0.486\n",
      " rna_torsion                  1.000       4.346       4.346\n",
      " suiteness_bonus              1.000       0.000       0.000\n",
      " rna_sugar_close              0.820       4.059       3.328\n",
      " fa_stack                     0.130    -226.739     -29.476\n",
      " stack_elec                   0.760      -0.767      -0.583\n",
      " geom_sol_fast                0.170      70.645      12.010\n",
      " hbond_sr_bb_sc               0.960       0.000       0.000\n",
      " hbond_lr_bb_sc               0.960      -0.665      -0.638\n",
      " hbond_sc                     0.960     -20.448     -19.630\n",
      " ref                          1.000      50.440      50.440\n",
      " free_suite                   2.000       0.000       0.000\n",
      " free_2HOprime                1.000       0.000       0.000\n",
      " intermol                     1.000       0.000       0.000\n",
      " other_pose                   1.000       0.000       0.000\n",
      " loop_close                   1.000       0.000       0.000\n",
      " linear_chainbreak            5.000       0.005       0.025\n",
      "---------------------------------------------------\n",
      " Total weighted score:                      -13.205\n",
      "\u001b[0mprotocols.rna.denovo.movers.RNA_Minimizer: \u001b[0mRNA minimizer finished in 2 seconds.\n",
      "\u001b[0mprotocols.rna.denovo.RNA_DeNovoProtocol: \u001b[0mMaking silent struct for S_000003\n",
      "\u001b[0mprotocols.rna.denovo.RNA_DeNovoProtocol: \u001b[0mOutputting to silent file: inputs/stem_loop.out\n",
      "\u001b[0mprotocols.rna.setup.RNA_MonteCarloJobDistributor: \u001b[0m\n",
      "\u001b[0mprotocols.rna.setup.RNA_MonteCarloJobDistributor: \u001b[0m\u001b[32mEmbarking on structure 4 of 10\u001b[0m\n",
      "\u001b[0mprotocols.rna.denovo.RNA_FragmentMonteCarlo: \u001b[0mNumber of moving residues: 5\n",
      "\u001b[0mprotocols.rna.denovo.RNA_FragmentMonteCarlo: \u001b[0mNumber of moving chunks: 0\n",
      "\u001b[0mprotocols.rna.denovo.RNA_FragmentMonteCarlo: \u001b[0mUsing 10000 cycles in de novo modeling.\n",
      "\u001b[0mprotocols.rna.denovo.movers.RNA_DeNovoMasterMover: \u001b[0mHeating up... 42 cycles.\n",
      "\u001b[0mprotocols.rna.denovo.RNA_FragmentMonteCarlo: \u001b[0mBeginning main loop...\n",
      "\u001b[0mprotocols.rna.denovo.RNA_FragmentMonteCarlo: \u001b[0m\u001b[34mBeginning round 1 of 10\u001b[0m\n",
      "\u001b[0mprotocols.moves.TrialCounter: \u001b[0m          frag 3 trials=    896;  accepts= 0.0893;  energy_drop/trial=  -0.02692\n",
      "\u001b[0mprotocols.rna.denovo.RNA_FragmentMonteCarlo: \u001b[0m\u001b[34mBeginning round 2 of 10\u001b[0m\n",
      "\u001b[0mprotocols.moves.TrialCounter: \u001b[0m          frag 3 trials=    908;  accepts= 0.0639;  energy_drop/trial=   0.00485\n",
      "\u001b[0mprotocols.rna.denovo.RNA_FragmentMonteCarlo: \u001b[0mChecking base pairs early! Result: 1\n",
      "\u001b[0mprotocols.rna.denovo.RNA_FragmentMonteCarlo: \u001b[0m\u001b[34mBeginning round 3 of 10\u001b[0m\n",
      "\u001b[0mprotocols.moves.TrialCounter: \u001b[0m          frag 3 trials=    899;  accepts= 0.0612;  energy_drop/trial=   0.00365\n",
      "\u001b[0mprotocols.rna.denovo.RNA_FragmentMonteCarlo: \u001b[0m\u001b[34mBeginning round 4 of 10\u001b[0m\n",
      "\u001b[0mprotocols.rna.denovo.RNA_FragmentMonteCarlo: \u001b[0mFragment size: 2\n",
      "\u001b[0mprotocols.moves.TrialCounter: \u001b[0m          frag 2 trials=    894;  accepts= 0.1051;  energy_drop/trial=   0.01982\n",
      "\u001b[0mprotocols.rna.denovo.RNA_FragmentMonteCarlo: \u001b[0m\u001b[34mBeginning round 5 of 10\u001b[0m\n",
      "\u001b[0mprotocols.moves.TrialCounter: \u001b[0m          frag 2 trials=    895;  accepts= 0.0425;  energy_drop/trial=   0.01237\n",
      "\u001b[0mprotocols.rna.denovo.RNA_FragmentMonteCarlo: \u001b[0mChecking loop closure with tolerance of 12 Angstroms! Result: 1\n",
      "\u001b[0mprotocols.rna.denovo.RNA_FragmentMonteCarlo: \u001b[0m\u001b[34mBeginning round 6 of 10\u001b[0m\n",
      "\u001b[0mprotocols.moves.TrialCounter: \u001b[0m          frag 2 trials=    900;  accepts= 0.0344;  energy_drop/trial=   0.01082\n",
      "\u001b[0mprotocols.rna.denovo.RNA_FragmentMonteCarlo: \u001b[0m\u001b[34mBeginning round 7 of 10\u001b[0m\n",
      "\u001b[0mprotocols.rna.denovo.RNA_FragmentMonteCarlo: \u001b[0mFragment size: 1\n",
      "\u001b[0mprotocols.moves.TrialCounter: \u001b[0m          frag 1 trials=    891;  accepts= 0.0965;  energy_drop/trial=   0.01014\n",
      "\u001b[0mprotocols.rna.denovo.RNA_FragmentMonteCarlo: \u001b[0m\u001b[34mBeginning round 8 of 10\u001b[0m\n",
      "\u001b[0mprotocols.moves.TrialCounter: \u001b[0m          frag 1 trials=    898;  accepts= 0.0891;  energy_drop/trial=   0.01490\n",
      "\u001b[0mprotocols.rna.denovo.RNA_FragmentMonteCarlo: \u001b[0m\u001b[34mBeginning round 9 of 10\u001b[0m\n",
      "\u001b[0mprotocols.moves.TrialCounter: \u001b[0m          frag 1 trials=    908;  accepts= 0.0782;  energy_drop/trial=   0.01443\n",
      "\u001b[0mprotocols.rna.denovo.RNA_FragmentMonteCarlo: \u001b[0m\u001b[34mBeginning round 10 of 10\u001b[0m\n",
      "\u001b[0mprotocols.moves.TrialCounter: \u001b[0m          frag 1 trials=    898;  accepts= 0.1047;  energy_drop/trial=  -0.00516\n",
      "\u001b[0mprotocols.rna.denovo.RNA_FragmentMonteCarlo: \u001b[0mFinished fragment assembly of S_000004 in 4 seconds.\n",
      "\u001b[0mprotocols.rna.denovo.RNA_FragmentMonteCarlo: \u001b[0mComparing current lores score -95.1198 to automatically determined cutoff: -95.1198 based on 0.2 quantile from 4 models so far\n",
      "\u001b[0mprotocols.rna.denovo.RNA_FragmentMonteCarlo: \u001b[0m\n",
      "------------------------------------------------------------\n",
      " Scores                       Weight   Raw Score Wghtd.Score\n",
      "------------------------------------------------------------\n",
      " rna_data_backbone            1.000       0.000       0.000\n",
      " rna_vdw                      1.000       1.079       1.079\n",
      " rna_base_backbone            1.000      -9.401      -9.401\n",
      " rna_backbone_backbone        1.000       0.000       0.000\n",
      " rna_repulsive                1.000       0.000       0.000\n",
      " rna_base_pair                1.000     -57.025     -57.025\n",
      " rna_base_axis                0.200     -33.792      -6.758\n",
      " rna_base_stagger             1.000     -26.618     -26.618\n",
      " rna_base_stack               1.000      -3.503      -3.503\n",
      " rna_base_stack_axis          0.200     -21.574      -4.315\n",
      " rna_rg                       1.000       9.092       9.092\n",
      " atom_pair_constraint         1.000       0.000       0.000\n",
      " base_pair_constraint         1.000       0.000       0.000\n",
      " linear_chainbreak            5.000       0.466       2.330\n",
      "---------------------------------------------------\n",
      " Total weighted score:                      -95.120\n"
     ]
    },
    {
     "name": "stdout",
     "output_type": "stream",
     "text": [
      "\u001b[0mprotocols.rna.denovo.RNA_FragmentMonteCarlo: \u001b[0m\n",
      "\u001b[0mprotocols.rna.denovo.movers.RNA_Minimizer: \u001b[0mOrienting 2' hydroxyls...\n",
      "\u001b[0mprotocols.rna.denovo.movers.RNA_Minimizer: \u001b[0mMinimizing...round= 1\n",
      "\u001b[0mprotocols.rna.denovo.movers.RNA_Minimizer: \u001b[0mOrienting 2' hydroxyls...\n",
      "\u001b[0mprotocols.rna.denovo.movers.RNA_Minimizer: \u001b[0mMinimizing...round= 2\n",
      "\u001b[0mprotocols.rna.denovo.movers.RNA_Minimizer: \u001b[0m\n",
      "------------------------------------------------------------\n",
      " Scores                       Weight   Raw Score Wghtd.Score\n",
      "------------------------------------------------------------\n",
      " fa_atr                       0.210    -212.367     -44.597\n",
      " fa_rep                       0.200      59.261      11.852\n",
      " fa_intra_rep                 0.003     222.563       0.645\n",
      " lk_nonpolar                  0.250      -8.918      -2.230\n",
      " fa_elec_rna_phos_phos        1.700       0.099       0.169\n",
      " rna_torsion                  1.000       5.680       5.680\n",
      " suiteness_bonus              1.000       0.000       0.000\n",
      " rna_sugar_close              0.820       3.778       3.098\n",
      " fa_stack                     0.130    -233.047     -30.296\n",
      " stack_elec                   0.760      -0.719      -0.547\n",
      " geom_sol_fast                0.170      75.712      12.871\n",
      " hbond_sr_bb_sc               0.960       0.000       0.000\n",
      " hbond_lr_bb_sc               0.960       0.000       0.000\n",
      " hbond_sc                     0.960     -23.890     -22.935\n",
      " ref                          1.000      50.440      50.440\n",
      " free_suite                   2.000       0.000       0.000\n",
      " free_2HOprime                1.000       0.000       0.000\n",
      " intermol                     1.000       0.000       0.000\n",
      " other_pose                   1.000       0.000       0.000\n",
      " loop_close                   1.000       0.000       0.000\n",
      " linear_chainbreak            5.000       0.007       0.034\n",
      "---------------------------------------------------\n",
      " Total weighted score:                      -15.815\n",
      "\u001b[0mprotocols.rna.denovo.movers.RNA_Minimizer: \u001b[0mRNA minimizer finished in 3 seconds.\n",
      "\u001b[0mprotocols.rna.denovo.RNA_DeNovoProtocol: \u001b[0mMaking silent struct for S_000004\n",
      "\u001b[0mprotocols.rna.denovo.RNA_DeNovoProtocol: \u001b[0mOutputting to silent file: inputs/stem_loop.out\n",
      "\u001b[0mprotocols.rna.setup.RNA_MonteCarloJobDistributor: \u001b[0m\n",
      "\u001b[0mprotocols.rna.setup.RNA_MonteCarloJobDistributor: \u001b[0m\u001b[32mEmbarking on structure 5 of 10\u001b[0m\n",
      "\u001b[0mprotocols.rna.denovo.RNA_FragmentMonteCarlo: \u001b[0mNumber of moving residues: 5\n",
      "\u001b[0mprotocols.rna.denovo.RNA_FragmentMonteCarlo: \u001b[0mNumber of moving chunks: 0\n",
      "\u001b[0mprotocols.rna.denovo.RNA_FragmentMonteCarlo: \u001b[0mUsing 10000 cycles in de novo modeling.\n",
      "\u001b[0mprotocols.rna.denovo.movers.RNA_DeNovoMasterMover: \u001b[0mHeating up... 42 cycles.\n",
      "\u001b[0mprotocols.rna.denovo.RNA_FragmentMonteCarlo: \u001b[0mBeginning main loop...\n",
      "\u001b[0mprotocols.rna.denovo.RNA_FragmentMonteCarlo: \u001b[0m\u001b[34mBeginning round 1 of 10\u001b[0m\n",
      "\u001b[0mprotocols.moves.TrialCounter: \u001b[0m          frag 3 trials=    891;  accepts= 0.3120;  energy_drop/trial=  -0.02064\n",
      "\u001b[0mprotocols.rna.denovo.RNA_FragmentMonteCarlo: \u001b[0m\u001b[34mBeginning round 2 of 10\u001b[0m\n",
      "\u001b[0mprotocols.moves.TrialCounter: \u001b[0m          frag 3 trials=    901;  accepts= 0.2042;  energy_drop/trial=   0.00559\n",
      "\u001b[0mprotocols.rna.denovo.RNA_FragmentMonteCarlo: \u001b[0mChecking base pairs early! Result: 1\n",
      "\u001b[0mprotocols.rna.denovo.RNA_FragmentMonteCarlo: \u001b[0m\u001b[34mBeginning round 3 of 10\u001b[0m\n",
      "\u001b[0mprotocols.moves.TrialCounter: \u001b[0m          frag 3 trials=    897;  accepts= 0.1761;  energy_drop/trial=   0.00314\n",
      "\u001b[0mprotocols.rna.denovo.RNA_FragmentMonteCarlo: \u001b[0m\u001b[34mBeginning round 4 of 10\u001b[0m\n",
      "\u001b[0mprotocols.rna.denovo.RNA_FragmentMonteCarlo: \u001b[0mFragment size: 2\n",
      "\u001b[0mprotocols.moves.TrialCounter: \u001b[0m          frag 2 trials=    909;  accepts= 0.1815;  energy_drop/trial=   0.00407\n",
      "\u001b[0mprotocols.rna.denovo.RNA_FragmentMonteCarlo: \u001b[0m\u001b[34mBeginning round 5 of 10\u001b[0m\n",
      "\u001b[0mprotocols.moves.TrialCounter: \u001b[0m          frag 2 trials=    887;  accepts= 0.1398;  energy_drop/trial=  -0.00015\n",
      "\u001b[0mprotocols.rna.denovo.RNA_FragmentMonteCarlo: \u001b[0mChecking loop closure with tolerance of 12 Angstroms! Result: 1\n",
      "\u001b[0mprotocols.rna.denovo.RNA_FragmentMonteCarlo: \u001b[0m\u001b[34mBeginning round 6 of 10\u001b[0m\n",
      "\u001b[0mprotocols.moves.TrialCounter: \u001b[0m          frag 2 trials=    884;  accepts= 0.1437;  energy_drop/trial=   0.00419\n",
      "\u001b[0mprotocols.rna.denovo.RNA_FragmentMonteCarlo: \u001b[0m\u001b[34mBeginning round 7 of 10\u001b[0m\n",
      "\u001b[0mprotocols.rna.denovo.RNA_FragmentMonteCarlo: \u001b[0mFragment size: 1\n",
      "\u001b[0mprotocols.moves.TrialCounter: \u001b[0m          frag 1 trials=    893;  accepts= 0.1344;  energy_drop/trial=   0.01280\n",
      "\u001b[0mprotocols.rna.denovo.RNA_FragmentMonteCarlo: \u001b[0m\u001b[34mBeginning round 8 of 10\u001b[0m\n",
      "\u001b[0mprotocols.moves.TrialCounter: \u001b[0m          frag 1 trials=    910;  accepts= 0.1363;  energy_drop/trial=   0.00409\n",
      "\u001b[0mprotocols.rna.denovo.RNA_FragmentMonteCarlo: \u001b[0m\u001b[34mBeginning round 9 of 10\u001b[0m\n",
      "\u001b[0mprotocols.moves.TrialCounter: \u001b[0m          frag 1 trials=    877;  accepts= 0.1391;  energy_drop/trial=   0.01803\n",
      "\u001b[0mprotocols.rna.denovo.RNA_FragmentMonteCarlo: \u001b[0m\u001b[34mBeginning round 10 of 10\u001b[0m\n",
      "\u001b[0mprotocols.moves.TrialCounter: \u001b[0m          frag 1 trials=    894;  accepts= 0.2069;  energy_drop/trial=   0.00139\n",
      "\u001b[0mprotocols.rna.denovo.RNA_FragmentMonteCarlo: \u001b[0mFinished fragment assembly of S_000005 in 4 seconds.\n",
      "\u001b[0mprotocols.rna.denovo.RNA_FragmentMonteCarlo: \u001b[0mComparing current lores score -90.092 to automatically determined cutoff: -90.9657 based on 0.2 quantile from 5 models so far\n",
      "\u001b[0mprotocols.rna.denovo.RNA_FragmentMonteCarlo: \u001b[0mFailed score filter.\n",
      "\u001b[0mprotocols.rna.denovo.RNA_FragmentMonteCarlo: \u001b[0m\u001b[31mDid not pass filters. Trying the model again: trial 2 out of 10\u001b[0m\n",
      "\u001b[0mprotocols.rna.denovo.movers.RNA_DeNovoMasterMover: \u001b[0mHeating up... 42 cycles.\n",
      "\u001b[0mprotocols.rna.denovo.RNA_FragmentMonteCarlo: \u001b[0mBeginning main loop...\n",
      "\u001b[0mprotocols.rna.denovo.RNA_FragmentMonteCarlo: \u001b[0m\u001b[34mBeginning round 1 of 10\u001b[0m\n",
      "\u001b[0mprotocols.rna.denovo.RNA_FragmentMonteCarlo: \u001b[0mFragment size: 3\n",
      "\u001b[0mprotocols.moves.TrialCounter: \u001b[0m          frag 3 trials=    907;  accepts= 0.3098;  energy_drop/trial=  -0.05083\n",
      "\u001b[0mprotocols.rna.denovo.RNA_FragmentMonteCarlo: \u001b[0m\u001b[34mBeginning round 2 of 10\u001b[0m\n",
      "\u001b[0mprotocols.moves.TrialCounter: \u001b[0m          frag 3 trials=    905;  accepts= 0.2033;  energy_drop/trial=  -0.00078\n",
      "\u001b[0mprotocols.rna.denovo.RNA_FragmentMonteCarlo: \u001b[0mChecking base pairs early! Result: 1\n",
      "\u001b[0mprotocols.rna.denovo.RNA_FragmentMonteCarlo: \u001b[0m\u001b[34mBeginning round 3 of 10\u001b[0m\n",
      "\u001b[0mprotocols.moves.TrialCounter: \u001b[0m          frag 3 trials=    902;  accepts= 0.1840;  energy_drop/trial=   0.00454\n",
      "\u001b[0mprotocols.rna.denovo.RNA_FragmentMonteCarlo: \u001b[0m\u001b[34mBeginning round 4 of 10\u001b[0m\n",
      "\u001b[0mprotocols.rna.denovo.RNA_FragmentMonteCarlo: \u001b[0mFragment size: 2\n",
      "\u001b[0mprotocols.moves.TrialCounter: \u001b[0m          frag 2 trials=    881;  accepts= 0.1782;  energy_drop/trial=   0.00976\n",
      "\u001b[0mprotocols.rna.denovo.RNA_FragmentMonteCarlo: \u001b[0m\u001b[34mBeginning round 5 of 10\u001b[0m\n",
      "\u001b[0mprotocols.moves.TrialCounter: \u001b[0m          frag 2 trials=    905;  accepts= 0.1646;  energy_drop/trial=   0.01946\n",
      "\u001b[0mprotocols.rna.denovo.RNA_FragmentMonteCarlo: \u001b[0mChecking loop closure with tolerance of 12 Angstroms! Result: 1\n",
      "\u001b[0mprotocols.rna.denovo.RNA_FragmentMonteCarlo: \u001b[0m\u001b[34mBeginning round 6 of 10\u001b[0m\n",
      "\u001b[0mprotocols.moves.TrialCounter: \u001b[0m          frag 2 trials=    892;  accepts= 0.1592;  energy_drop/trial=   0.00987\n",
      "\u001b[0mprotocols.rna.denovo.RNA_FragmentMonteCarlo: \u001b[0m\u001b[34mBeginning round 7 of 10\u001b[0m\n",
      "\u001b[0mprotocols.rna.denovo.RNA_FragmentMonteCarlo: \u001b[0mFragment size: 1\n",
      "\u001b[0mprotocols.moves.TrialCounter: \u001b[0m          frag 1 trials=    901;  accepts= 0.1587;  energy_drop/trial=   0.00808\n",
      "\u001b[0mprotocols.rna.denovo.RNA_FragmentMonteCarlo: \u001b[0m\u001b[34mBeginning round 8 of 10\u001b[0m\n",
      "\u001b[0mprotocols.moves.TrialCounter: \u001b[0m          frag 1 trials=    887;  accepts= 0.1601;  energy_drop/trial=   0.00859\n",
      "\u001b[0mprotocols.rna.denovo.RNA_FragmentMonteCarlo: \u001b[0m\u001b[34mBeginning round 9 of 10\u001b[0m\n",
      "\u001b[0mprotocols.moves.TrialCounter: \u001b[0m          frag 1 trials=    894;  accepts= 0.1186;  energy_drop/trial=   0.00830\n",
      "\u001b[0mprotocols.rna.denovo.RNA_FragmentMonteCarlo: \u001b[0m\u001b[34mBeginning round 10 of 10\u001b[0m\n",
      "\u001b[0mprotocols.moves.TrialCounter: \u001b[0m          frag 1 trials=    902;  accepts= 0.2461;  energy_drop/trial=   0.00051\n"
     ]
    },
    {
     "name": "stdout",
     "output_type": "stream",
     "text": [
      "\u001b[0mprotocols.rna.denovo.RNA_FragmentMonteCarlo: \u001b[0mFinished fragment assembly of S_000005 in 5 seconds.\n",
      "\u001b[0mprotocols.rna.denovo.RNA_FragmentMonteCarlo: \u001b[0mComparing current lores score -90.1072 to automatically determined cutoff: -90.9657 based on 0.2 quantile from 6 models so far\n",
      "\u001b[0mprotocols.rna.denovo.RNA_FragmentMonteCarlo: \u001b[0mFailed score filter.\n",
      "\u001b[0mprotocols.rna.denovo.RNA_FragmentMonteCarlo: \u001b[0m\u001b[31mDid not pass filters. Trying the model again: trial 3 out of 10\u001b[0m\n",
      "\u001b[0mprotocols.rna.denovo.movers.RNA_DeNovoMasterMover: \u001b[0mHeating up... 42 cycles.\n",
      "\u001b[0mprotocols.rna.denovo.RNA_FragmentMonteCarlo: \u001b[0mBeginning main loop...\n",
      "\u001b[0mprotocols.rna.denovo.RNA_FragmentMonteCarlo: \u001b[0m\u001b[34mBeginning round 1 of 10\u001b[0m\n",
      "\u001b[0mprotocols.rna.denovo.RNA_FragmentMonteCarlo: \u001b[0mFragment size: 3\n",
      "\u001b[0mprotocols.moves.TrialCounter: \u001b[0m          frag 3 trials=    900;  accepts= 0.1389;  energy_drop/trial=  -0.04372\n",
      "\u001b[0mprotocols.rna.denovo.RNA_FragmentMonteCarlo: \u001b[0m\u001b[34mBeginning round 2 of 10\u001b[0m\n",
      "\u001b[0mprotocols.moves.TrialCounter: \u001b[0m          frag 3 trials=    911;  accepts= 0.0714;  energy_drop/trial=   0.01126\n",
      "\u001b[0mprotocols.rna.denovo.RNA_FragmentMonteCarlo: \u001b[0mChecking base pairs early! Result: 1\n",
      "\u001b[0mprotocols.rna.denovo.RNA_FragmentMonteCarlo: \u001b[0m\u001b[34mBeginning round 3 of 10\u001b[0m\n",
      "\u001b[0mprotocols.moves.TrialCounter: \u001b[0m          frag 3 trials=    887;  accepts= 0.0338;  energy_drop/trial=   0.00643\n",
      "\u001b[0mprotocols.rna.denovo.RNA_FragmentMonteCarlo: \u001b[0m\u001b[34mBeginning round 4 of 10\u001b[0m\n",
      "\u001b[0mprotocols.rna.denovo.RNA_FragmentMonteCarlo: \u001b[0mFragment size: 2\n",
      "\u001b[0mprotocols.moves.TrialCounter: \u001b[0m          frag 2 trials=    910;  accepts= 0.0495;  energy_drop/trial=   0.00615\n",
      "\u001b[0mprotocols.rna.denovo.RNA_FragmentMonteCarlo: \u001b[0m\u001b[34mBeginning round 5 of 10\u001b[0m\n",
      "\u001b[0mprotocols.moves.TrialCounter: \u001b[0m          frag 2 trials=    881;  accepts= 0.0352;  energy_drop/trial=   0.00796\n",
      "\u001b[0mprotocols.rna.denovo.RNA_FragmentMonteCarlo: \u001b[0mChecking loop closure with tolerance of 12 Angstroms! Result: 1\n",
      "\u001b[0mprotocols.rna.denovo.RNA_FragmentMonteCarlo: \u001b[0m\u001b[34mBeginning round 6 of 10\u001b[0m\n",
      "\u001b[0mprotocols.moves.TrialCounter: \u001b[0m          frag 2 trials=    904;  accepts= 0.0254;  energy_drop/trial=   0.01641\n",
      "\u001b[0mprotocols.rna.denovo.RNA_FragmentMonteCarlo: \u001b[0m\u001b[34mBeginning round 7 of 10\u001b[0m\n",
      "\u001b[0mprotocols.rna.denovo.RNA_FragmentMonteCarlo: \u001b[0mFragment size: 1\n",
      "\u001b[0mprotocols.moves.TrialCounter: \u001b[0m          frag 1 trials=    905;  accepts= 0.0773;  energy_drop/trial=   0.01241\n",
      "\u001b[0mprotocols.rna.denovo.RNA_FragmentMonteCarlo: \u001b[0m\u001b[34mBeginning round 8 of 10\u001b[0m\n",
      "\u001b[0mprotocols.moves.TrialCounter: \u001b[0m          frag 1 trials=    900;  accepts= 0.0589;  energy_drop/trial=   0.00798\n",
      "\u001b[0mprotocols.rna.denovo.RNA_FragmentMonteCarlo: \u001b[0m\u001b[34mBeginning round 9 of 10\u001b[0m\n",
      "\u001b[0mprotocols.moves.TrialCounter: \u001b[0m          frag 1 trials=    914;  accepts= 0.0635;  energy_drop/trial=   0.00020\n",
      "\u001b[0mprotocols.rna.denovo.RNA_FragmentMonteCarlo: \u001b[0m\u001b[34mBeginning round 10 of 10\u001b[0m\n",
      "\u001b[0mprotocols.moves.TrialCounter: \u001b[0m          frag 1 trials=    898;  accepts= 0.0958;  energy_drop/trial=  -0.00128\n",
      "\u001b[0mprotocols.rna.denovo.RNA_FragmentMonteCarlo: \u001b[0mFinished fragment assembly of S_000005 in 4 seconds.\n",
      "\u001b[0mprotocols.rna.denovo.RNA_FragmentMonteCarlo: \u001b[0mComparing current lores score -92.7041 to automatically determined cutoff: -92.7041 based on 0.2 quantile from 7 models so far\n",
      "\u001b[0mprotocols.rna.denovo.RNA_FragmentMonteCarlo: \u001b[0m\n",
      "------------------------------------------------------------\n",
      " Scores                       Weight   Raw Score Wghtd.Score\n",
      "------------------------------------------------------------\n",
      " rna_data_backbone            1.000       0.000       0.000\n",
      " rna_vdw                      1.000       1.573       1.573\n",
      " rna_base_backbone            1.000     -10.421     -10.421\n",
      " rna_backbone_backbone        1.000       0.000       0.000\n",
      " rna_repulsive                1.000       0.000       0.000\n",
      " rna_base_pair                1.000     -52.498     -52.498\n",
      " rna_base_axis                0.200     -34.234      -6.847\n",
      " rna_base_stagger             1.000     -25.706     -25.706\n",
      " rna_base_stack               1.000      -3.503      -3.503\n",
      " rna_base_stack_axis          0.200     -22.159      -4.432\n",
      " rna_rg                       1.000       8.817       8.817\n",
      " atom_pair_constraint         1.000       0.000       0.000\n",
      " base_pair_constraint         1.000       0.000       0.000\n",
      " linear_chainbreak            5.000       0.062       0.312\n",
      "---------------------------------------------------\n",
      " Total weighted score:                      -92.704\n",
      "\u001b[0mprotocols.rna.denovo.RNA_FragmentMonteCarlo: \u001b[0m\n",
      "\u001b[0mprotocols.rna.denovo.movers.RNA_Minimizer: \u001b[0mOrienting 2' hydroxyls...\n",
      "\u001b[0mprotocols.rna.denovo.movers.RNA_Minimizer: \u001b[0mMinimizing...round= 1\n",
      "\u001b[0mprotocols.rna.denovo.movers.RNA_Minimizer: \u001b[0mOrienting 2' hydroxyls...\n",
      "\u001b[0mprotocols.rna.denovo.movers.RNA_Minimizer: \u001b[0mMinimizing...round= 2\n",
      "\u001b[0mprotocols.rna.denovo.movers.RNA_Minimizer: \u001b[0m\n",
      "------------------------------------------------------------\n",
      " Scores                       Weight   Raw Score Wghtd.Score\n",
      "------------------------------------------------------------\n",
      " fa_atr                       0.210    -216.059     -45.372\n",
      " fa_rep                       0.200      56.498      11.300\n",
      " fa_intra_rep                 0.003    1043.218       3.025\n",
      " lk_nonpolar                  0.250      -4.939      -1.235\n",
      " fa_elec_rna_phos_phos        1.700       0.188       0.319\n",
      " rna_torsion                  1.000       6.351       6.351\n",
      " suiteness_bonus              1.000       0.000       0.000\n",
      " rna_sugar_close              0.820       3.712       3.044\n",
      " fa_stack                     0.130    -228.254     -29.673\n",
      " stack_elec                   0.760      -1.436      -1.091\n",
      " geom_sol_fast                0.170      77.441      13.165\n",
      " hbond_sr_bb_sc               0.960       0.000       0.000\n",
      " hbond_lr_bb_sc               0.960      -0.711      -0.683\n",
      " hbond_sc                     0.960     -22.182     -21.295\n",
      " ref                          1.000      50.440      50.440\n",
      " free_suite                   2.000       0.000       0.000\n",
      " free_2HOprime                1.000       0.000       0.000\n",
      " intermol                     1.000       0.000       0.000\n",
      " other_pose                   1.000       0.000       0.000\n",
      " loop_close                   1.000       0.000       0.000\n",
      " linear_chainbreak            5.000       0.051       0.253\n",
      "---------------------------------------------------\n",
      " Total weighted score:                      -11.451\n",
      "\u001b[0mprotocols.rna.denovo.movers.RNA_Minimizer: \u001b[0mRNA minimizer finished in 2 seconds.\n",
      "\u001b[0mprotocols.rna.denovo.RNA_DeNovoProtocol: \u001b[0mMaking silent struct for S_000005\n",
      "\u001b[0mprotocols.rna.denovo.RNA_DeNovoProtocol: \u001b[0mOutputting to silent file: inputs/stem_loop.out\n",
      "\u001b[0mprotocols.rna.setup.RNA_MonteCarloJobDistributor: \u001b[0m\n",
      "\u001b[0mprotocols.rna.setup.RNA_MonteCarloJobDistributor: \u001b[0m\u001b[32mEmbarking on structure 6 of 10\u001b[0m\n",
      "\u001b[0mprotocols.rna.denovo.RNA_FragmentMonteCarlo: \u001b[0mNumber of moving residues: 5\n",
      "\u001b[0mprotocols.rna.denovo.RNA_FragmentMonteCarlo: \u001b[0mNumber of moving chunks: 0\n",
      "\u001b[0mprotocols.rna.denovo.RNA_FragmentMonteCarlo: \u001b[0mUsing 10000 cycles in de novo modeling.\n",
      "\u001b[0mprotocols.rna.denovo.movers.RNA_DeNovoMasterMover: \u001b[0mHeating up... 42 cycles.\n",
      "\u001b[0mprotocols.rna.denovo.RNA_FragmentMonteCarlo: \u001b[0mBeginning main loop...\n",
      "\u001b[0mprotocols.rna.denovo.RNA_FragmentMonteCarlo: \u001b[0m\u001b[34mBeginning round 1 of 10\u001b[0m\n",
      "\u001b[0mprotocols.moves.TrialCounter: \u001b[0m          frag 3 trials=    907;  accepts= 0.3186;  energy_drop/trial=  -0.00489\n",
      "\u001b[0mprotocols.rna.denovo.RNA_FragmentMonteCarlo: \u001b[0m\u001b[34mBeginning round 2 of 10\u001b[0m\n",
      "\u001b[0mprotocols.moves.TrialCounter: \u001b[0m          frag 3 trials=    918;  accepts= 0.2538;  energy_drop/trial=   0.01175\n",
      "\u001b[0mprotocols.rna.denovo.RNA_FragmentMonteCarlo: \u001b[0mChecking base pairs early! Result: 1\n",
      "\u001b[0mprotocols.rna.denovo.RNA_FragmentMonteCarlo: \u001b[0m\u001b[34mBeginning round 3 of 10\u001b[0m\n",
      "\u001b[0mprotocols.moves.TrialCounter: \u001b[0m          frag 3 trials=    889;  accepts= 0.1170;  energy_drop/trial=  -0.00409\n",
      "\u001b[0mprotocols.rna.denovo.RNA_FragmentMonteCarlo: \u001b[0m\u001b[34mBeginning round 4 of 10\u001b[0m\n",
      "\u001b[0mprotocols.rna.denovo.RNA_FragmentMonteCarlo: \u001b[0mFragment size: 2\n"
     ]
    },
    {
     "name": "stdout",
     "output_type": "stream",
     "text": [
      "\u001b[0mprotocols.moves.TrialCounter: \u001b[0m          frag 2 trials=    888;  accepts= 0.1509;  energy_drop/trial=   0.01033\n",
      "\u001b[0mprotocols.rna.denovo.RNA_FragmentMonteCarlo: \u001b[0m\u001b[34mBeginning round 5 of 10\u001b[0m\n",
      "\u001b[0mprotocols.moves.TrialCounter: \u001b[0m          frag 2 trials=    883;  accepts= 0.1314;  energy_drop/trial=   0.01202\n",
      "\u001b[0mprotocols.rna.denovo.RNA_FragmentMonteCarlo: \u001b[0mChecking loop closure with tolerance of 12 Angstroms! Result: 1\n",
      "\u001b[0mprotocols.rna.denovo.RNA_FragmentMonteCarlo: \u001b[0m\u001b[34mBeginning round 6 of 10\u001b[0m\n",
      "\u001b[0mprotocols.moves.TrialCounter: \u001b[0m          frag 2 trials=    898;  accepts= 0.1225;  energy_drop/trial=   0.00967\n",
      "\u001b[0mprotocols.rna.denovo.RNA_FragmentMonteCarlo: \u001b[0m\u001b[34mBeginning round 7 of 10\u001b[0m\n",
      "\u001b[0mprotocols.rna.denovo.RNA_FragmentMonteCarlo: \u001b[0mFragment size: 1\n",
      "\u001b[0mprotocols.moves.TrialCounter: \u001b[0m          frag 1 trials=    908;  accepts= 0.1509;  energy_drop/trial=   0.00476\n",
      "\u001b[0mprotocols.rna.denovo.RNA_FragmentMonteCarlo: \u001b[0m\u001b[34mBeginning round 8 of 10\u001b[0m\n",
      "\u001b[0mprotocols.moves.TrialCounter: \u001b[0m          frag 1 trials=    886;  accepts= 0.1174;  energy_drop/trial=   0.00713\n",
      "\u001b[0mprotocols.rna.denovo.RNA_FragmentMonteCarlo: \u001b[0m\u001b[34mBeginning round 9 of 10\u001b[0m\n",
      "\u001b[0mprotocols.moves.TrialCounter: \u001b[0m          frag 1 trials=    903;  accepts= 0.1517;  energy_drop/trial=   0.01847\n",
      "\u001b[0mprotocols.rna.denovo.RNA_FragmentMonteCarlo: \u001b[0m\u001b[34mBeginning round 10 of 10\u001b[0m\n",
      "\u001b[0mprotocols.moves.TrialCounter: \u001b[0m          frag 1 trials=    897;  accepts= 0.2709;  energy_drop/trial=   0.00632\n",
      "\u001b[0mprotocols.rna.denovo.RNA_FragmentMonteCarlo: \u001b[0mFinished fragment assembly of S_000006 in 4 seconds.\n",
      "\u001b[0mprotocols.rna.denovo.RNA_FragmentMonteCarlo: \u001b[0mComparing current lores score -93.2821 to automatically determined cutoff: -93.2821 based on 0.2 quantile from 8 models so far\n",
      "\u001b[0mprotocols.rna.denovo.RNA_FragmentMonteCarlo: \u001b[0m\n",
      "------------------------------------------------------------\n",
      " Scores                       Weight   Raw Score Wghtd.Score\n",
      "------------------------------------------------------------\n",
      " rna_data_backbone            1.000       0.000       0.000\n",
      " rna_vdw                      1.000       0.253       0.253\n",
      " rna_base_backbone            1.000      -3.955      -3.955\n",
      " rna_backbone_backbone        1.000       0.000       0.000\n",
      " rna_repulsive                1.000       0.000       0.000\n",
      " rna_base_pair                1.000     -57.154     -57.154\n",
      " rna_base_axis                0.200     -33.665      -6.733\n",
      " rna_base_stagger             1.000     -27.063     -27.063\n",
      " rna_base_stack               1.000      -3.503      -3.503\n",
      " rna_base_stack_axis          0.200     -21.991      -4.398\n",
      " rna_rg                       1.000       8.736       8.736\n",
      " atom_pair_constraint         1.000       0.000       0.000\n",
      " base_pair_constraint         1.000       0.000       0.000\n",
      " linear_chainbreak            5.000       0.107       0.533\n",
      "---------------------------------------------------\n",
      " Total weighted score:                      -93.282\n",
      "\u001b[0mprotocols.rna.denovo.RNA_FragmentMonteCarlo: \u001b[0m\n",
      "\u001b[0mprotocols.rna.denovo.movers.RNA_Minimizer: \u001b[0mOrienting 2' hydroxyls...\n",
      "\u001b[0mprotocols.rna.denovo.movers.RNA_Minimizer: \u001b[0mMinimizing...round= 1\n",
      "\u001b[0mprotocols.rna.denovo.movers.RNA_Minimizer: \u001b[0mOrienting 2' hydroxyls...\n",
      "\u001b[0mprotocols.rna.denovo.movers.RNA_Minimizer: \u001b[0mMinimizing...round= 2\n",
      "\u001b[0mprotocols.rna.denovo.movers.RNA_Minimizer: \u001b[0m\n",
      "------------------------------------------------------------\n",
      " Scores                       Weight   Raw Score Wghtd.Score\n",
      "------------------------------------------------------------\n",
      " fa_atr                       0.210    -212.568     -44.639\n",
      " fa_rep                       0.200      57.647      11.529\n",
      " fa_intra_rep                 0.003     151.863       0.440\n",
      " lk_nonpolar                  0.250      -8.252      -2.063\n",
      " fa_elec_rna_phos_phos        1.700       0.226       0.385\n",
      " rna_torsion                  1.000       5.104       5.104\n",
      " suiteness_bonus              1.000       0.000       0.000\n",
      " rna_sugar_close              0.820       3.939       3.230\n",
      " fa_stack                     0.130    -230.794     -30.003\n",
      " stack_elec                   0.760      -1.278      -0.971\n",
      " geom_sol_fast                0.170      76.511      13.007\n",
      " hbond_sr_bb_sc               0.960      -0.744      -0.714\n",
      " hbond_lr_bb_sc               0.960      -0.445      -0.427\n",
      " hbond_sc                     0.960     -22.128     -21.242\n",
      " ref                          1.000      50.440      50.440\n",
      " free_suite                   2.000       0.000       0.000\n",
      " free_2HOprime                1.000       0.000       0.000\n",
      " intermol                     1.000       0.000       0.000\n",
      " other_pose                   1.000       0.000       0.000\n",
      " loop_close                   1.000       0.000       0.000\n",
      " linear_chainbreak            5.000       0.005       0.024\n",
      "---------------------------------------------------\n",
      " Total weighted score:                      -15.902\n",
      "\u001b[0mprotocols.rna.denovo.movers.RNA_Minimizer: \u001b[0mRNA minimizer finished in 2 seconds.\n",
      "\u001b[0mprotocols.rna.denovo.RNA_DeNovoProtocol: \u001b[0mMaking silent struct for S_000006\n",
      "\u001b[0mprotocols.rna.denovo.RNA_DeNovoProtocol: \u001b[0mOutputting to silent file: inputs/stem_loop.out\n",
      "\u001b[0mprotocols.rna.setup.RNA_MonteCarloJobDistributor: \u001b[0m\n",
      "\u001b[0mprotocols.rna.setup.RNA_MonteCarloJobDistributor: \u001b[0m\u001b[32mEmbarking on structure 7 of 10\u001b[0m\n",
      "\u001b[0mprotocols.rna.denovo.RNA_FragmentMonteCarlo: \u001b[0mNumber of moving residues: 5\n",
      "\u001b[0mprotocols.rna.denovo.RNA_FragmentMonteCarlo: \u001b[0mNumber of moving chunks: 0\n",
      "\u001b[0mprotocols.rna.denovo.RNA_FragmentMonteCarlo: \u001b[0mUsing 10000 cycles in de novo modeling.\n",
      "\u001b[0mprotocols.rna.denovo.movers.RNA_DeNovoMasterMover: \u001b[0mHeating up... 42 cycles.\n",
      "\u001b[0mprotocols.rna.denovo.RNA_FragmentMonteCarlo: \u001b[0mBeginning main loop...\n",
      "\u001b[0mprotocols.rna.denovo.RNA_FragmentMonteCarlo: \u001b[0m\u001b[34mBeginning round 1 of 10\u001b[0m\n",
      "\u001b[0mprotocols.moves.TrialCounter: \u001b[0m          frag 3 trials=    890;  accepts= 0.2551;  energy_drop/trial=  -0.03388\n",
      "\u001b[0mprotocols.rna.denovo.RNA_FragmentMonteCarlo: \u001b[0m\u001b[34mBeginning round 2 of 10\u001b[0m\n",
      "\u001b[0mprotocols.moves.TrialCounter: \u001b[0m          frag 3 trials=    895;  accepts= 0.2089;  energy_drop/trial=   0.00669\n",
      "\u001b[0mprotocols.rna.denovo.RNA_FragmentMonteCarlo: \u001b[0mChecking base pairs early! Result: 1\n",
      "\u001b[0mprotocols.rna.denovo.RNA_FragmentMonteCarlo: \u001b[0m\u001b[34mBeginning round 3 of 10\u001b[0m\n",
      "\u001b[0mprotocols.moves.TrialCounter: \u001b[0m          frag 3 trials=    910;  accepts= 0.1473;  energy_drop/trial=   0.00273\n",
      "\u001b[0mprotocols.rna.denovo.RNA_FragmentMonteCarlo: \u001b[0m\u001b[34mBeginning round 4 of 10\u001b[0m\n",
      "\u001b[0mprotocols.rna.denovo.RNA_FragmentMonteCarlo: \u001b[0mFragment size: 2\n",
      "\u001b[0mprotocols.moves.TrialCounter: \u001b[0m          frag 2 trials=    898;  accepts= 0.1604;  energy_drop/trial=   0.00552\n",
      "\u001b[0mprotocols.rna.denovo.RNA_FragmentMonteCarlo: \u001b[0m\u001b[34mBeginning round 5 of 10\u001b[0m\n",
      "\u001b[0mprotocols.moves.TrialCounter: \u001b[0m          frag 2 trials=    911;  accepts= 0.2075;  energy_drop/trial=   0.00371\n",
      "\u001b[0mprotocols.rna.denovo.RNA_FragmentMonteCarlo: \u001b[0mChecking loop closure with tolerance of 12 Angstroms! Result: 1\n",
      "\u001b[0mprotocols.rna.denovo.RNA_FragmentMonteCarlo: \u001b[0m\u001b[34mBeginning round 6 of 10\u001b[0m\n",
      "\u001b[0mprotocols.moves.TrialCounter: \u001b[0m          frag 2 trials=    916;  accepts= 0.1441;  energy_drop/trial=   0.00853\n",
      "\u001b[0mprotocols.rna.denovo.RNA_FragmentMonteCarlo: \u001b[0m\u001b[34mBeginning round 7 of 10\u001b[0m\n",
      "\u001b[0mprotocols.rna.denovo.RNA_FragmentMonteCarlo: \u001b[0mFragment size: 1\n",
      "\u001b[0mprotocols.moves.TrialCounter: \u001b[0m          frag 1 trials=    912;  accepts= 0.1612;  energy_drop/trial=   0.00542\n",
      "\u001b[0mprotocols.rna.denovo.RNA_FragmentMonteCarlo: \u001b[0m\u001b[34mBeginning round 8 of 10\u001b[0m\n",
      "\u001b[0mprotocols.moves.TrialCounter: \u001b[0m          frag 1 trials=    897;  accepts= 0.1862;  energy_drop/trial=   0.00895\n",
      "\u001b[0mprotocols.rna.denovo.RNA_FragmentMonteCarlo: \u001b[0m\u001b[34mBeginning round 9 of 10\u001b[0m\n",
      "\u001b[0mprotocols.moves.TrialCounter: \u001b[0m          frag 1 trials=    889;  accepts= 0.1800;  energy_drop/trial=   0.01132\n",
      "\u001b[0mprotocols.rna.denovo.RNA_FragmentMonteCarlo: \u001b[0m\u001b[34mBeginning round 10 of 10\u001b[0m\n",
      "\u001b[0mprotocols.moves.TrialCounter: \u001b[0m          frag 1 trials=    896;  accepts= 0.2612;  energy_drop/trial=  -0.00291\n"
     ]
    },
    {
     "name": "stdout",
     "output_type": "stream",
     "text": [
      "\u001b[0mprotocols.rna.denovo.RNA_FragmentMonteCarlo: \u001b[0mFinished fragment assembly of S_000007 in 4 seconds.\n",
      "\u001b[0mprotocols.rna.denovo.RNA_FragmentMonteCarlo: \u001b[0mComparing current lores score -87.2691 to automatically determined cutoff: -93.2821 based on 0.2 quantile from 9 models so far\n",
      "\u001b[0mprotocols.rna.denovo.RNA_FragmentMonteCarlo: \u001b[0mFailed score filter.\n",
      "\u001b[0mprotocols.rna.denovo.RNA_FragmentMonteCarlo: \u001b[0m\u001b[31mDid not pass filters. Trying the model again: trial 2 out of 10\u001b[0m\n",
      "\u001b[0mprotocols.rna.denovo.movers.RNA_DeNovoMasterMover: \u001b[0mHeating up... 42 cycles.\n",
      "\u001b[0mprotocols.rna.denovo.RNA_FragmentMonteCarlo: \u001b[0mBeginning main loop...\n",
      "\u001b[0mprotocols.rna.denovo.RNA_FragmentMonteCarlo: \u001b[0m\u001b[34mBeginning round 1 of 10\u001b[0m\n",
      "\u001b[0mprotocols.rna.denovo.RNA_FragmentMonteCarlo: \u001b[0mFragment size: 3\n",
      "\u001b[0mprotocols.moves.TrialCounter: \u001b[0m          frag 3 trials=    904;  accepts= 0.1327;  energy_drop/trial=  -0.05142\n",
      "\u001b[0mprotocols.rna.denovo.RNA_FragmentMonteCarlo: \u001b[0m\u001b[34mBeginning round 2 of 10\u001b[0m\n",
      "\u001b[0mprotocols.moves.TrialCounter: \u001b[0m          frag 3 trials=    885;  accepts= 0.1028;  energy_drop/trial=   0.01700\n",
      "\u001b[0mprotocols.rna.denovo.RNA_FragmentMonteCarlo: \u001b[0mChecking base pairs early! Result: 1\n",
      "\u001b[0mprotocols.rna.denovo.RNA_FragmentMonteCarlo: \u001b[0m\u001b[34mBeginning round 3 of 10\u001b[0m\n",
      "\u001b[0mprotocols.moves.TrialCounter: \u001b[0m          frag 3 trials=    908;  accepts= 0.0573;  energy_drop/trial=   0.00965\n",
      "\u001b[0mprotocols.rna.denovo.RNA_FragmentMonteCarlo: \u001b[0m\u001b[34mBeginning round 4 of 10\u001b[0m\n",
      "\u001b[0mprotocols.rna.denovo.RNA_FragmentMonteCarlo: \u001b[0mFragment size: 2\n",
      "\u001b[0mprotocols.moves.TrialCounter: \u001b[0m          frag 2 trials=    911;  accepts= 0.0549;  energy_drop/trial=   0.00250\n",
      "\u001b[0mprotocols.rna.denovo.RNA_FragmentMonteCarlo: \u001b[0m\u001b[34mBeginning round 5 of 10\u001b[0m\n",
      "\u001b[0mprotocols.moves.TrialCounter: \u001b[0m          frag 2 trials=    898;  accepts= 0.0401;  energy_drop/trial=   0.01016\n",
      "\u001b[0mprotocols.rna.denovo.RNA_FragmentMonteCarlo: \u001b[0mChecking loop closure with tolerance of 12 Angstroms! Result: 1\n",
      "\u001b[0mprotocols.rna.denovo.RNA_FragmentMonteCarlo: \u001b[0m\u001b[34mBeginning round 6 of 10\u001b[0m\n",
      "\u001b[0mprotocols.moves.TrialCounter: \u001b[0m          frag 2 trials=    896;  accepts= 0.0212;  energy_drop/trial=   0.00062\n",
      "\u001b[0mprotocols.rna.denovo.RNA_FragmentMonteCarlo: \u001b[0m\u001b[34mBeginning round 7 of 10\u001b[0m\n",
      "\u001b[0mprotocols.rna.denovo.RNA_FragmentMonteCarlo: \u001b[0mFragment size: 1\n",
      "\u001b[0mprotocols.moves.TrialCounter: \u001b[0m          frag 1 trials=    906;  accepts= 0.0706;  energy_drop/trial=   0.01833\n",
      "\u001b[0mprotocols.rna.denovo.RNA_FragmentMonteCarlo: \u001b[0m\u001b[34mBeginning round 8 of 10\u001b[0m\n",
      "\u001b[0mprotocols.moves.TrialCounter: \u001b[0m          frag 1 trials=    901;  accepts= 0.0400;  energy_drop/trial=   0.01115\n",
      "\u001b[0mprotocols.rna.denovo.RNA_FragmentMonteCarlo: \u001b[0m\u001b[34mBeginning round 9 of 10\u001b[0m\n",
      "\u001b[0mprotocols.moves.TrialCounter: \u001b[0m          frag 1 trials=    891;  accepts= 0.0382;  energy_drop/trial=   0.01241\n",
      "\u001b[0mprotocols.rna.denovo.RNA_FragmentMonteCarlo: \u001b[0m\u001b[34mBeginning round 10 of 10\u001b[0m\n",
      "\u001b[0mprotocols.moves.TrialCounter: \u001b[0m          frag 1 trials=    897;  accepts= 0.0814;  energy_drop/trial=   0.00198\n",
      "\u001b[0mprotocols.rna.denovo.RNA_FragmentMonteCarlo: \u001b[0mFinished fragment assembly of S_000007 in 4 seconds.\n",
      "\u001b[0mprotocols.rna.denovo.RNA_FragmentMonteCarlo: \u001b[0mComparing current lores score -94.8098 to automatically determined cutoff: -93.2821 based on 0.2 quantile from 10 models so far\n",
      "\u001b[0mprotocols.rna.denovo.RNA_FragmentMonteCarlo: \u001b[0m\n",
      "------------------------------------------------------------\n",
      " Scores                       Weight   Raw Score Wghtd.Score\n",
      "------------------------------------------------------------\n",
      " rna_data_backbone            1.000       0.000       0.000\n",
      " rna_vdw                      1.000       2.809       2.809\n",
      " rna_base_backbone            1.000      -6.455      -6.455\n",
      " rna_backbone_backbone        1.000       0.000       0.000\n",
      " rna_repulsive                1.000       0.000       0.000\n",
      " rna_base_pair                1.000     -57.845     -57.845\n",
      " rna_base_axis                0.200     -32.642      -6.528\n",
      " rna_base_stagger             1.000     -28.621     -28.621\n",
      " rna_base_stack               1.000      -3.503      -3.503\n",
      " rna_base_stack_axis          0.200     -21.685      -4.337\n",
      " rna_rg                       1.000       8.823       8.823\n",
      " atom_pair_constraint         1.000       0.000       0.000\n",
      " base_pair_constraint         1.000       0.000       0.000\n",
      " linear_chainbreak            5.000       0.169       0.846\n",
      "---------------------------------------------------\n",
      " Total weighted score:                      -94.810\n",
      "\u001b[0mprotocols.rna.denovo.RNA_FragmentMonteCarlo: \u001b[0m\n",
      "\u001b[0mprotocols.rna.denovo.movers.RNA_Minimizer: \u001b[0mOrienting 2' hydroxyls...\n",
      "\u001b[0mprotocols.rna.denovo.movers.RNA_Minimizer: \u001b[0mMinimizing...round= 1\n",
      "\u001b[0mprotocols.rna.denovo.movers.RNA_Minimizer: \u001b[0mOrienting 2' hydroxyls...\n",
      "\u001b[0mprotocols.rna.denovo.movers.RNA_Minimizer: \u001b[0mMinimizing...round= 2\n",
      "\u001b[0mprotocols.rna.denovo.movers.RNA_Minimizer: \u001b[0m\n",
      "------------------------------------------------------------\n",
      " Scores                       Weight   Raw Score Wghtd.Score\n",
      "------------------------------------------------------------\n",
      " fa_atr                       0.210    -212.318     -44.587\n",
      " fa_rep                       0.200      56.743      11.349\n",
      " fa_intra_rep                 0.003     825.280       2.393\n",
      " lk_nonpolar                  0.250      -7.161      -1.790\n",
      " fa_elec_rna_phos_phos        1.700       0.366       0.622\n",
      " rna_torsion                  1.000       5.280       5.280\n",
      " suiteness_bonus              1.000       0.000       0.000\n",
      " rna_sugar_close              0.820       3.896       3.194\n",
      " fa_stack                     0.130    -229.365     -29.817\n",
      " stack_elec                   0.760      -1.105      -0.840\n",
      " geom_sol_fast                0.170      76.153      12.946\n",
      " hbond_sr_bb_sc               0.960       0.000       0.000\n",
      " hbond_lr_bb_sc               0.960       0.000       0.000\n",
      " hbond_sc                     0.960     -22.490     -21.590\n",
      " ref                          1.000      50.440      50.440\n",
      " free_suite                   2.000       0.000       0.000\n",
      " free_2HOprime                1.000       0.000       0.000\n",
      " intermol                     1.000       0.000       0.000\n",
      " other_pose                   1.000       0.000       0.000\n",
      " loop_close                   1.000       0.000       0.000\n",
      " linear_chainbreak            5.000       0.179       0.896\n",
      "---------------------------------------------------\n",
      " Total weighted score:                      -11.504\n",
      "\u001b[0mprotocols.rna.denovo.movers.RNA_Minimizer: \u001b[0mRNA minimizer finished in 2 seconds.\n",
      "\u001b[0mprotocols.rna.denovo.RNA_DeNovoProtocol: \u001b[0mMaking silent struct for S_000007\n",
      "\u001b[0mprotocols.rna.denovo.RNA_DeNovoProtocol: \u001b[0mOutputting to silent file: inputs/stem_loop.out\n",
      "\u001b[0mprotocols.rna.setup.RNA_MonteCarloJobDistributor: \u001b[0m\n",
      "\u001b[0mprotocols.rna.setup.RNA_MonteCarloJobDistributor: \u001b[0m\u001b[32mEmbarking on structure 8 of 10\u001b[0m\n",
      "\u001b[0mprotocols.rna.denovo.RNA_FragmentMonteCarlo: \u001b[0mNumber of moving residues: 5\n",
      "\u001b[0mprotocols.rna.denovo.RNA_FragmentMonteCarlo: \u001b[0mNumber of moving chunks: 0\n",
      "\u001b[0mprotocols.rna.denovo.RNA_FragmentMonteCarlo: \u001b[0mUsing 10000 cycles in de novo modeling.\n",
      "\u001b[0mprotocols.rna.denovo.movers.RNA_DeNovoMasterMover: \u001b[0mHeating up... 42 cycles.\n",
      "\u001b[0mprotocols.rna.denovo.RNA_FragmentMonteCarlo: \u001b[0mBeginning main loop...\n",
      "\u001b[0mprotocols.rna.denovo.RNA_FragmentMonteCarlo: \u001b[0m\u001b[34mBeginning round 1 of 10\u001b[0m\n",
      "\u001b[0mprotocols.moves.TrialCounter: \u001b[0m          frag 3 trials=    912;  accepts= 0.3048;  energy_drop/trial=  -0.01977\n",
      "\u001b[0mprotocols.rna.denovo.RNA_FragmentMonteCarlo: \u001b[0m\u001b[34mBeginning round 2 of 10\u001b[0m\n",
      "\u001b[0mprotocols.moves.TrialCounter: \u001b[0m          frag 3 trials=    908;  accepts= 0.1883;  energy_drop/trial=   0.02082\n",
      "\u001b[0mprotocols.rna.denovo.RNA_FragmentMonteCarlo: \u001b[0mChecking base pairs early! Result: 1\n",
      "\u001b[0mprotocols.rna.denovo.RNA_FragmentMonteCarlo: \u001b[0m\u001b[34mBeginning round 3 of 10\u001b[0m\n",
      "\u001b[0mprotocols.moves.TrialCounter: \u001b[0m          frag 3 trials=    897;  accepts= 0.1761;  energy_drop/trial=   0.00096\n",
      "\u001b[0mprotocols.rna.denovo.RNA_FragmentMonteCarlo: \u001b[0m\u001b[34mBeginning round 4 of 10\u001b[0m\n",
      "\u001b[0mprotocols.rna.denovo.RNA_FragmentMonteCarlo: \u001b[0mFragment size: 2\n"
     ]
    },
    {
     "name": "stdout",
     "output_type": "stream",
     "text": [
      "\u001b[0mprotocols.moves.TrialCounter: \u001b[0m          frag 2 trials=    906;  accepts= 0.1700;  energy_drop/trial=   0.00690\n",
      "\u001b[0mprotocols.rna.denovo.RNA_FragmentMonteCarlo: \u001b[0m\u001b[34mBeginning round 5 of 10\u001b[0m\n",
      "\u001b[0mprotocols.moves.TrialCounter: \u001b[0m          frag 2 trials=    919;  accepts= 0.1469;  energy_drop/trial=   0.00532\n",
      "\u001b[0mprotocols.rna.denovo.RNA_FragmentMonteCarlo: \u001b[0mChecking loop closure with tolerance of 12 Angstroms! Result: 1\n",
      "\u001b[0mprotocols.rna.denovo.RNA_FragmentMonteCarlo: \u001b[0m\u001b[34mBeginning round 6 of 10\u001b[0m\n",
      "\u001b[0mprotocols.moves.TrialCounter: \u001b[0m          frag 2 trials=    893;  accepts= 0.1489;  energy_drop/trial=   0.00854\n",
      "\u001b[0mprotocols.rna.denovo.RNA_FragmentMonteCarlo: \u001b[0m\u001b[34mBeginning round 7 of 10\u001b[0m\n",
      "\u001b[0mprotocols.rna.denovo.RNA_FragmentMonteCarlo: \u001b[0mFragment size: 1\n",
      "\u001b[0mprotocols.moves.TrialCounter: \u001b[0m          frag 1 trials=    900;  accepts= 0.1656;  energy_drop/trial=   0.01309\n",
      "\u001b[0mprotocols.rna.denovo.RNA_FragmentMonteCarlo: \u001b[0m\u001b[34mBeginning round 8 of 10\u001b[0m\n",
      "\u001b[0mprotocols.moves.TrialCounter: \u001b[0m          frag 1 trials=    893;  accepts= 0.1310;  energy_drop/trial=   0.00924\n",
      "\u001b[0mprotocols.rna.denovo.RNA_FragmentMonteCarlo: \u001b[0m\u001b[34mBeginning round 9 of 10\u001b[0m\n",
      "\u001b[0mprotocols.moves.TrialCounter: \u001b[0m          frag 1 trials=    910;  accepts= 0.1176;  energy_drop/trial=   0.00425\n",
      "\u001b[0mprotocols.rna.denovo.RNA_FragmentMonteCarlo: \u001b[0m\u001b[34mBeginning round 10 of 10\u001b[0m\n",
      "\u001b[0mprotocols.moves.TrialCounter: \u001b[0m          frag 1 trials=    903;  accepts= 0.2403;  energy_drop/trial=   0.00073\n",
      "\u001b[0mprotocols.rna.denovo.RNA_FragmentMonteCarlo: \u001b[0mFinished fragment assembly of S_000008 in 4 seconds.\n",
      "\u001b[0mprotocols.rna.denovo.RNA_FragmentMonteCarlo: \u001b[0mComparing current lores score -89.7239 to automatically determined cutoff: -93.2821 based on 0.2 quantile from 11 models so far\n",
      "\u001b[0mprotocols.rna.denovo.RNA_FragmentMonteCarlo: \u001b[0mFailed score filter.\n",
      "\u001b[0mprotocols.rna.denovo.RNA_FragmentMonteCarlo: \u001b[0m\u001b[31mDid not pass filters. Trying the model again: trial 2 out of 10\u001b[0m\n",
      "\u001b[0mprotocols.rna.denovo.movers.RNA_DeNovoMasterMover: \u001b[0mHeating up... 42 cycles.\n",
      "\u001b[0mprotocols.rna.denovo.RNA_FragmentMonteCarlo: \u001b[0mBeginning main loop...\n",
      "\u001b[0mprotocols.rna.denovo.RNA_FragmentMonteCarlo: \u001b[0m\u001b[34mBeginning round 1 of 10\u001b[0m\n",
      "\u001b[0mprotocols.rna.denovo.RNA_FragmentMonteCarlo: \u001b[0mFragment size: 3\n",
      "\u001b[0mprotocols.moves.TrialCounter: \u001b[0m          frag 3 trials=    905;  accepts= 0.2541;  energy_drop/trial=  -0.04426\n",
      "\u001b[0mprotocols.rna.denovo.RNA_FragmentMonteCarlo: \u001b[0m\u001b[34mBeginning round 2 of 10\u001b[0m\n",
      "\u001b[0mprotocols.moves.TrialCounter: \u001b[0m          frag 3 trials=    906;  accepts= 0.2031;  energy_drop/trial=   0.00416\n",
      "\u001b[0mprotocols.rna.denovo.RNA_FragmentMonteCarlo: \u001b[0mChecking base pairs early! Result: 1\n",
      "\u001b[0mprotocols.rna.denovo.RNA_FragmentMonteCarlo: \u001b[0m\u001b[34mBeginning round 3 of 10\u001b[0m\n",
      "\u001b[0mprotocols.moves.TrialCounter: \u001b[0m          frag 3 trials=    909;  accepts= 0.1606;  energy_drop/trial=   0.00894\n",
      "\u001b[0mprotocols.rna.denovo.RNA_FragmentMonteCarlo: \u001b[0m\u001b[34mBeginning round 4 of 10\u001b[0m\n",
      "\u001b[0mprotocols.rna.denovo.RNA_FragmentMonteCarlo: \u001b[0mFragment size: 2\n",
      "\u001b[0mprotocols.moves.TrialCounter: \u001b[0m          frag 2 trials=    901;  accepts= 0.1820;  energy_drop/trial=   0.00159\n",
      "\u001b[0mprotocols.rna.denovo.RNA_FragmentMonteCarlo: \u001b[0m\u001b[34mBeginning round 5 of 10\u001b[0m\n",
      "\u001b[0mprotocols.moves.TrialCounter: \u001b[0m          frag 2 trials=    895;  accepts= 0.1184;  energy_drop/trial=   0.00080\n",
      "\u001b[0mprotocols.rna.denovo.RNA_FragmentMonteCarlo: \u001b[0mChecking loop closure with tolerance of 12 Angstroms! Result: 1\n",
      "\u001b[0mprotocols.rna.denovo.RNA_FragmentMonteCarlo: \u001b[0m\u001b[34mBeginning round 6 of 10\u001b[0m\n",
      "\u001b[0mprotocols.moves.TrialCounter: \u001b[0m          frag 2 trials=    913;  accepts= 0.1413;  energy_drop/trial=   0.00245\n",
      "\u001b[0mprotocols.rna.denovo.RNA_FragmentMonteCarlo: \u001b[0m\u001b[34mBeginning round 7 of 10\u001b[0m\n",
      "\u001b[0mprotocols.rna.denovo.RNA_FragmentMonteCarlo: \u001b[0mFragment size: 1\n",
      "\u001b[0mprotocols.moves.TrialCounter: \u001b[0m          frag 1 trials=    901;  accepts= 0.1909;  energy_drop/trial=   0.01406\n",
      "\u001b[0mprotocols.rna.denovo.RNA_FragmentMonteCarlo: \u001b[0m\u001b[34mBeginning round 8 of 10\u001b[0m\n",
      "\u001b[0mprotocols.moves.TrialCounter: \u001b[0m          frag 1 trials=    907;  accepts= 0.1224;  energy_drop/trial=   0.00624\n",
      "\u001b[0mprotocols.rna.denovo.RNA_FragmentMonteCarlo: \u001b[0m\u001b[34mBeginning round 9 of 10\u001b[0m\n",
      "\u001b[0mprotocols.moves.TrialCounter: \u001b[0m          frag 1 trials=    899;  accepts= 0.0912;  energy_drop/trial=   0.00671\n",
      "\u001b[0mprotocols.rna.denovo.RNA_FragmentMonteCarlo: \u001b[0m\u001b[34mBeginning round 10 of 10\u001b[0m\n",
      "\u001b[0mprotocols.moves.TrialCounter: \u001b[0m          frag 1 trials=    888;  accepts= 0.2117;  energy_drop/trial=   0.00978\n",
      "\u001b[0mprotocols.rna.denovo.RNA_FragmentMonteCarlo: \u001b[0mFinished fragment assembly of S_000008 in 4 seconds.\n",
      "\u001b[0mprotocols.rna.denovo.RNA_FragmentMonteCarlo: \u001b[0mComparing current lores score -90.2821 to automatically determined cutoff: -93.2821 based on 0.2 quantile from 12 models so far\n",
      "\u001b[0mprotocols.rna.denovo.RNA_FragmentMonteCarlo: \u001b[0mFailed score filter.\n",
      "\u001b[0mprotocols.rna.denovo.RNA_FragmentMonteCarlo: \u001b[0m\u001b[31mDid not pass filters. Trying the model again: trial 3 out of 10\u001b[0m\n",
      "\u001b[0mprotocols.rna.denovo.movers.RNA_DeNovoMasterMover: \u001b[0mHeating up... 42 cycles.\n",
      "\u001b[0mprotocols.rna.denovo.RNA_FragmentMonteCarlo: \u001b[0mBeginning main loop...\n",
      "\u001b[0mprotocols.rna.denovo.RNA_FragmentMonteCarlo: \u001b[0m\u001b[34mBeginning round 1 of 10\u001b[0m\n",
      "\u001b[0mprotocols.rna.denovo.RNA_FragmentMonteCarlo: \u001b[0mFragment size: 3\n",
      "\u001b[0mprotocols.moves.TrialCounter: \u001b[0m          frag 3 trials=    908;  accepts= 0.2599;  energy_drop/trial=  -0.01939\n",
      "\u001b[0mprotocols.rna.denovo.RNA_FragmentMonteCarlo: \u001b[0m\u001b[34mBeginning round 2 of 10\u001b[0m\n",
      "\u001b[0mprotocols.moves.TrialCounter: \u001b[0m          frag 3 trials=    894;  accepts= 0.2315;  energy_drop/trial=   0.00470\n",
      "\u001b[0mprotocols.rna.denovo.RNA_FragmentMonteCarlo: \u001b[0mChecking base pairs early! Result: 1\n",
      "\u001b[0mprotocols.rna.denovo.RNA_FragmentMonteCarlo: \u001b[0m\u001b[34mBeginning round 3 of 10\u001b[0m\n",
      "\u001b[0mprotocols.moves.TrialCounter: \u001b[0m          frag 3 trials=    893;  accepts= 0.1859;  energy_drop/trial=   0.00669\n",
      "\u001b[0mprotocols.rna.denovo.RNA_FragmentMonteCarlo: \u001b[0m\u001b[34mBeginning round 4 of 10\u001b[0m\n",
      "\u001b[0mprotocols.rna.denovo.RNA_FragmentMonteCarlo: \u001b[0mFragment size: 2\n",
      "\u001b[0mprotocols.moves.TrialCounter: \u001b[0m          frag 2 trials=    891;  accepts= 0.1998;  energy_drop/trial=   0.00998\n",
      "\u001b[0mprotocols.rna.denovo.RNA_FragmentMonteCarlo: \u001b[0m\u001b[34mBeginning round 5 of 10\u001b[0m\n",
      "\u001b[0mprotocols.moves.TrialCounter: \u001b[0m          frag 2 trials=    898;  accepts= 0.1392;  energy_drop/trial=   0.00451\n",
      "\u001b[0mprotocols.rna.denovo.RNA_FragmentMonteCarlo: \u001b[0mChecking loop closure with tolerance of 12 Angstroms! Result: 1\n",
      "\u001b[0mprotocols.rna.denovo.RNA_FragmentMonteCarlo: \u001b[0m\u001b[34mBeginning round 6 of 10\u001b[0m\n",
      "\u001b[0mprotocols.moves.TrialCounter: \u001b[0m          frag 2 trials=    914;  accepts= 0.1138;  energy_drop/trial=   0.00969\n",
      "\u001b[0mprotocols.rna.denovo.RNA_FragmentMonteCarlo: \u001b[0m\u001b[34mBeginning round 7 of 10\u001b[0m\n",
      "\u001b[0mprotocols.rna.denovo.RNA_FragmentMonteCarlo: \u001b[0mFragment size: 1\n",
      "\u001b[0mprotocols.moves.TrialCounter: \u001b[0m          frag 1 trials=    909;  accepts= 0.1562;  energy_drop/trial=   0.00399\n",
      "\u001b[0mprotocols.rna.denovo.RNA_FragmentMonteCarlo: \u001b[0m\u001b[34mBeginning round 8 of 10\u001b[0m\n",
      "\u001b[0mprotocols.moves.TrialCounter: \u001b[0m          frag 1 trials=    881;  accepts= 0.1884;  energy_drop/trial=   0.00698\n",
      "\u001b[0mprotocols.rna.denovo.RNA_FragmentMonteCarlo: \u001b[0m\u001b[34mBeginning round 9 of 10\u001b[0m\n",
      "\u001b[0mprotocols.moves.TrialCounter: \u001b[0m          frag 1 trials=    914;  accepts= 0.1575;  energy_drop/trial=   0.00792\n",
      "\u001b[0mprotocols.rna.denovo.RNA_FragmentMonteCarlo: \u001b[0m\u001b[34mBeginning round 10 of 10\u001b[0m\n",
      "\u001b[0mprotocols.moves.TrialCounter: \u001b[0m          frag 1 trials=    900;  accepts= 0.2289;  energy_drop/trial=  -0.00092\n",
      "\u001b[0mprotocols.rna.denovo.RNA_FragmentMonteCarlo: \u001b[0mFinished fragment assembly of S_000008 in 4 seconds.\n",
      "\u001b[0mprotocols.rna.denovo.RNA_FragmentMonteCarlo: \u001b[0mComparing current lores score -88.5914 to automatically determined cutoff: -93.2821 based on 0.2 quantile from 13 models so far\n",
      "\u001b[0mprotocols.rna.denovo.RNA_FragmentMonteCarlo: \u001b[0mFailed score filter.\n",
      "\u001b[0mprotocols.rna.denovo.RNA_FragmentMonteCarlo: \u001b[0m\u001b[31mDid not pass filters. Trying the model again: trial 4 out of 10\u001b[0m\n"
     ]
    },
    {
     "name": "stdout",
     "output_type": "stream",
     "text": [
      "\u001b[0mprotocols.rna.denovo.movers.RNA_DeNovoMasterMover: \u001b[0mHeating up... 42 cycles.\n",
      "\u001b[0mprotocols.rna.denovo.RNA_FragmentMonteCarlo: \u001b[0mBeginning main loop...\n",
      "\u001b[0mprotocols.rna.denovo.RNA_FragmentMonteCarlo: \u001b[0m\u001b[34mBeginning round 1 of 10\u001b[0m\n",
      "\u001b[0mprotocols.rna.denovo.RNA_FragmentMonteCarlo: \u001b[0mFragment size: 3\n",
      "\u001b[0mprotocols.moves.TrialCounter: \u001b[0m          frag 3 trials=    917;  accepts= 0.3544;  energy_drop/trial=  -0.01584\n",
      "\u001b[0mprotocols.rna.denovo.RNA_FragmentMonteCarlo: \u001b[0m\u001b[34mBeginning round 2 of 10\u001b[0m\n",
      "\u001b[0mprotocols.moves.TrialCounter: \u001b[0m          frag 3 trials=    885;  accepts= 0.1616;  energy_drop/trial=   0.00111\n",
      "\u001b[0mprotocols.rna.denovo.RNA_FragmentMonteCarlo: \u001b[0mChecking base pairs early! Result: 1\n",
      "\u001b[0mprotocols.rna.denovo.RNA_FragmentMonteCarlo: \u001b[0m\u001b[34mBeginning round 3 of 10\u001b[0m\n",
      "\u001b[0mprotocols.moves.TrialCounter: \u001b[0m          frag 3 trials=    901;  accepts= 0.1765;  energy_drop/trial=  -0.00094\n",
      "\u001b[0mprotocols.rna.denovo.RNA_FragmentMonteCarlo: \u001b[0m\u001b[34mBeginning round 4 of 10\u001b[0m\n",
      "\u001b[0mprotocols.rna.denovo.RNA_FragmentMonteCarlo: \u001b[0mFragment size: 2\n",
      "\u001b[0mprotocols.moves.TrialCounter: \u001b[0m          frag 2 trials=    888;  accepts= 0.1678;  energy_drop/trial=   0.01557\n",
      "\u001b[0mprotocols.rna.denovo.RNA_FragmentMonteCarlo: \u001b[0m\u001b[34mBeginning round 5 of 10\u001b[0m\n",
      "\u001b[0mprotocols.moves.TrialCounter: \u001b[0m          frag 2 trials=    900;  accepts= 0.1233;  energy_drop/trial=   0.00730\n",
      "\u001b[0mprotocols.rna.denovo.RNA_FragmentMonteCarlo: \u001b[0mChecking loop closure with tolerance of 12 Angstroms! Result: 1\n",
      "\u001b[0mprotocols.rna.denovo.RNA_FragmentMonteCarlo: \u001b[0m\u001b[34mBeginning round 6 of 10\u001b[0m\n",
      "\u001b[0mprotocols.moves.TrialCounter: \u001b[0m          frag 2 trials=    895;  accepts= 0.1106;  energy_drop/trial=   0.00889\n",
      "\u001b[0mprotocols.rna.denovo.RNA_FragmentMonteCarlo: \u001b[0m\u001b[34mBeginning round 7 of 10\u001b[0m\n",
      "\u001b[0mprotocols.rna.denovo.RNA_FragmentMonteCarlo: \u001b[0mFragment size: 1\n",
      "\u001b[0mprotocols.moves.TrialCounter: \u001b[0m          frag 1 trials=    898;  accepts= 0.1437;  energy_drop/trial=   0.00057\n",
      "\u001b[0mprotocols.rna.denovo.RNA_FragmentMonteCarlo: \u001b[0m\u001b[34mBeginning round 8 of 10\u001b[0m\n",
      "\u001b[0mprotocols.moves.TrialCounter: \u001b[0m          frag 1 trials=    911;  accepts= 0.1647;  energy_drop/trial=   0.01347\n",
      "\u001b[0mprotocols.rna.denovo.RNA_FragmentMonteCarlo: \u001b[0m\u001b[34mBeginning round 9 of 10\u001b[0m\n",
      "\u001b[0mprotocols.moves.TrialCounter: \u001b[0m          frag 1 trials=    897;  accepts= 0.1237;  energy_drop/trial=  -0.00012\n",
      "\u001b[0mprotocols.rna.denovo.RNA_FragmentMonteCarlo: \u001b[0m\u001b[34mBeginning round 10 of 10\u001b[0m\n",
      "\u001b[0mprotocols.moves.TrialCounter: \u001b[0m          frag 1 trials=    895;  accepts= 0.2022;  energy_drop/trial=   0.01363\n",
      "\u001b[0mprotocols.rna.denovo.RNA_FragmentMonteCarlo: \u001b[0mFinished fragment assembly of S_000008 in 4 seconds.\n",
      "\u001b[0mprotocols.rna.denovo.RNA_FragmentMonteCarlo: \u001b[0mComparing current lores score -86.5883 to automatically determined cutoff: -93.2821 based on 0.2 quantile from 14 models so far\n",
      "\u001b[0mprotocols.rna.denovo.RNA_FragmentMonteCarlo: \u001b[0mFailed score filter.\n",
      "\u001b[0mprotocols.rna.denovo.RNA_FragmentMonteCarlo: \u001b[0m\u001b[31mDid not pass filters. Trying the model again: trial 5 out of 10\u001b[0m\n",
      "\u001b[0mprotocols.rna.denovo.movers.RNA_DeNovoMasterMover: \u001b[0mHeating up... 42 cycles.\n",
      "\u001b[0mprotocols.rna.denovo.RNA_FragmentMonteCarlo: \u001b[0mBeginning main loop...\n",
      "\u001b[0mprotocols.rna.denovo.RNA_FragmentMonteCarlo: \u001b[0m\u001b[34mBeginning round 1 of 10\u001b[0m\n",
      "\u001b[0mprotocols.rna.denovo.RNA_FragmentMonteCarlo: \u001b[0mFragment size: 3\n",
      "\u001b[0mprotocols.moves.TrialCounter: \u001b[0m          frag 3 trials=    898;  accepts= 0.2817;  energy_drop/trial=  -0.03208\n",
      "\u001b[0mprotocols.rna.denovo.RNA_FragmentMonteCarlo: \u001b[0m\u001b[34mBeginning round 2 of 10\u001b[0m\n",
      "\u001b[0mprotocols.moves.TrialCounter: \u001b[0m          frag 3 trials=    903;  accepts= 0.1938;  energy_drop/trial=   0.00098\n",
      "\u001b[0mprotocols.rna.denovo.RNA_FragmentMonteCarlo: \u001b[0mChecking base pairs early! Result: 1\n",
      "\u001b[0mprotocols.rna.denovo.RNA_FragmentMonteCarlo: \u001b[0m\u001b[34mBeginning round 3 of 10\u001b[0m\n",
      "\u001b[0mprotocols.moves.TrialCounter: \u001b[0m          frag 3 trials=    897;  accepts= 0.1862;  energy_drop/trial=   0.00898\n",
      "\u001b[0mprotocols.rna.denovo.RNA_FragmentMonteCarlo: \u001b[0m\u001b[34mBeginning round 4 of 10\u001b[0m\n",
      "\u001b[0mprotocols.rna.denovo.RNA_FragmentMonteCarlo: \u001b[0mFragment size: 2\n",
      "\u001b[0mprotocols.moves.TrialCounter: \u001b[0m          frag 2 trials=    907;  accepts= 0.1422;  energy_drop/trial=   0.01082\n",
      "\u001b[0mprotocols.rna.denovo.RNA_FragmentMonteCarlo: \u001b[0m\u001b[34mBeginning round 5 of 10\u001b[0m\n",
      "\u001b[0mprotocols.moves.TrialCounter: \u001b[0m          frag 2 trials=    886;  accepts= 0.1727;  energy_drop/trial=   0.00572\n",
      "\u001b[0mprotocols.rna.denovo.RNA_FragmentMonteCarlo: \u001b[0mChecking loop closure with tolerance of 12 Angstroms! Result: 1\n",
      "\u001b[0mprotocols.rna.denovo.RNA_FragmentMonteCarlo: \u001b[0m\u001b[34mBeginning round 6 of 10\u001b[0m\n",
      "\u001b[0mprotocols.moves.TrialCounter: \u001b[0m          frag 2 trials=    905;  accepts= 0.1094;  energy_drop/trial=  -0.00081\n",
      "\u001b[0mprotocols.rna.denovo.RNA_FragmentMonteCarlo: \u001b[0m\u001b[34mBeginning round 7 of 10\u001b[0m\n",
      "\u001b[0mprotocols.rna.denovo.RNA_FragmentMonteCarlo: \u001b[0mFragment size: 1\n",
      "\u001b[0mprotocols.moves.TrialCounter: \u001b[0m          frag 1 trials=    900;  accepts= 0.1511;  energy_drop/trial=   0.01157\n",
      "\u001b[0mprotocols.rna.denovo.RNA_FragmentMonteCarlo: \u001b[0m\u001b[34mBeginning round 8 of 10\u001b[0m\n",
      "\u001b[0mprotocols.moves.TrialCounter: \u001b[0m          frag 1 trials=    899;  accepts= 0.1524;  energy_drop/trial=   0.01119\n",
      "\u001b[0mprotocols.rna.denovo.RNA_FragmentMonteCarlo: \u001b[0m\u001b[34mBeginning round 9 of 10\u001b[0m\n",
      "\u001b[0mprotocols.moves.TrialCounter: \u001b[0m          frag 1 trials=    896;  accepts= 0.1339;  energy_drop/trial=   0.00728\n",
      "\u001b[0mprotocols.rna.denovo.RNA_FragmentMonteCarlo: \u001b[0m\u001b[34mBeginning round 10 of 10\u001b[0m\n",
      "\u001b[0mprotocols.moves.TrialCounter: \u001b[0m          frag 1 trials=    902;  accepts= 0.2428;  energy_drop/trial=   0.01159\n",
      "\u001b[0mprotocols.rna.denovo.RNA_FragmentMonteCarlo: \u001b[0mFinished fragment assembly of S_000008 in 4 seconds.\n",
      "\u001b[0mprotocols.rna.denovo.RNA_FragmentMonteCarlo: \u001b[0mComparing current lores score -90.9812 to automatically determined cutoff: -92.7041 based on 0.2 quantile from 15 models so far\n",
      "\u001b[0mprotocols.rna.denovo.RNA_FragmentMonteCarlo: \u001b[0mFailed score filter.\n",
      "\u001b[0mprotocols.rna.denovo.RNA_FragmentMonteCarlo: \u001b[0m\u001b[31mDid not pass filters. Trying the model again: trial 6 out of 10\u001b[0m\n",
      "\u001b[0mprotocols.rna.denovo.movers.RNA_DeNovoMasterMover: \u001b[0mHeating up... 42 cycles.\n",
      "\u001b[0mprotocols.rna.denovo.RNA_FragmentMonteCarlo: \u001b[0mBeginning main loop...\n",
      "\u001b[0mprotocols.rna.denovo.RNA_FragmentMonteCarlo: \u001b[0m\u001b[34mBeginning round 1 of 10\u001b[0m\n",
      "\u001b[0mprotocols.rna.denovo.RNA_FragmentMonteCarlo: \u001b[0mFragment size: 3\n",
      "\u001b[0mprotocols.moves.TrialCounter: \u001b[0m          frag 3 trials=    905;  accepts= 0.2718;  energy_drop/trial=  -0.15875\n",
      "\u001b[0mprotocols.rna.denovo.RNA_FragmentMonteCarlo: \u001b[0m\u001b[34mBeginning round 2 of 10\u001b[0m\n",
      "\u001b[0mprotocols.moves.TrialCounter: \u001b[0m          frag 3 trials=    893;  accepts= 0.2430;  energy_drop/trial=   0.00407\n",
      "\u001b[0mprotocols.rna.denovo.RNA_FragmentMonteCarlo: \u001b[0mChecking base pairs early! Result: 1\n",
      "\u001b[0mprotocols.rna.denovo.RNA_FragmentMonteCarlo: \u001b[0m\u001b[34mBeginning round 3 of 10\u001b[0m\n",
      "\u001b[0mprotocols.moves.TrialCounter: \u001b[0m          frag 3 trials=    918;  accepts= 0.1580;  energy_drop/trial=   0.00334\n",
      "\u001b[0mprotocols.rna.denovo.RNA_FragmentMonteCarlo: \u001b[0m\u001b[34mBeginning round 4 of 10\u001b[0m\n",
      "\u001b[0mprotocols.rna.denovo.RNA_FragmentMonteCarlo: \u001b[0mFragment size: 2\n",
      "\u001b[0mprotocols.moves.TrialCounter: \u001b[0m          frag 2 trials=    901;  accepts= 0.1443;  energy_drop/trial=   0.00266\n",
      "\u001b[0mprotocols.rna.denovo.RNA_FragmentMonteCarlo: \u001b[0m\u001b[34mBeginning round 5 of 10\u001b[0m\n",
      "\u001b[0mprotocols.moves.TrialCounter: \u001b[0m          frag 2 trials=    882;  accepts= 0.1156;  energy_drop/trial=   0.00679\n",
      "\u001b[0mprotocols.rna.denovo.RNA_FragmentMonteCarlo: \u001b[0mChecking loop closure with tolerance of 12 Angstroms! Result: 1\n",
      "\u001b[0mprotocols.rna.denovo.RNA_FragmentMonteCarlo: \u001b[0m\u001b[34mBeginning round 6 of 10\u001b[0m\n",
      "\u001b[0mprotocols.moves.TrialCounter: \u001b[0m          frag 2 trials=    914;  accepts= 0.1236;  energy_drop/trial=   0.00117\n",
      "\u001b[0mprotocols.rna.denovo.RNA_FragmentMonteCarlo: \u001b[0m\u001b[34mBeginning round 7 of 10\u001b[0m\n",
      "\u001b[0mprotocols.rna.denovo.RNA_FragmentMonteCarlo: \u001b[0mFragment size: 1\n",
      "\u001b[0mprotocols.moves.TrialCounter: \u001b[0m          frag 1 trials=    900;  accepts= 0.1456;  energy_drop/trial=   0.01015\n"
     ]
    },
    {
     "name": "stdout",
     "output_type": "stream",
     "text": [
      "\u001b[0mprotocols.rna.denovo.RNA_FragmentMonteCarlo: \u001b[0m\u001b[34mBeginning round 8 of 10\u001b[0m\n",
      "\u001b[0mprotocols.moves.TrialCounter: \u001b[0m          frag 1 trials=    900;  accepts= 0.1144;  energy_drop/trial=   0.00503\n",
      "\u001b[0mprotocols.rna.denovo.RNA_FragmentMonteCarlo: \u001b[0m\u001b[34mBeginning round 9 of 10\u001b[0m\n",
      "\u001b[0mprotocols.moves.TrialCounter: \u001b[0m          frag 1 trials=    898;  accepts= 0.1258;  energy_drop/trial=   0.00959\n",
      "\u001b[0mprotocols.rna.denovo.RNA_FragmentMonteCarlo: \u001b[0m\u001b[34mBeginning round 10 of 10\u001b[0m\n",
      "\u001b[0mprotocols.moves.TrialCounter: \u001b[0m          frag 1 trials=    896;  accepts= 0.1853;  energy_drop/trial=   0.00601\n",
      "\u001b[0mprotocols.rna.denovo.RNA_FragmentMonteCarlo: \u001b[0mFinished fragment assembly of S_000008 in 3 seconds.\n",
      "\u001b[0mprotocols.rna.denovo.RNA_FragmentMonteCarlo: \u001b[0mComparing current lores score -91.2876 to automatically determined cutoff: -92.7041 based on 0.2 quantile from 16 models so far\n",
      "\u001b[0mprotocols.rna.denovo.RNA_FragmentMonteCarlo: \u001b[0mFailed score filter.\n",
      "\u001b[0mprotocols.rna.denovo.RNA_FragmentMonteCarlo: \u001b[0m\u001b[31mDid not pass filters. Trying the model again: trial 7 out of 10\u001b[0m\n",
      "\u001b[0mprotocols.rna.denovo.movers.RNA_DeNovoMasterMover: \u001b[0mHeating up... 42 cycles.\n",
      "\u001b[0mprotocols.rna.denovo.RNA_FragmentMonteCarlo: \u001b[0mBeginning main loop...\n",
      "\u001b[0mprotocols.rna.denovo.RNA_FragmentMonteCarlo: \u001b[0m\u001b[34mBeginning round 1 of 10\u001b[0m\n",
      "\u001b[0mprotocols.rna.denovo.RNA_FragmentMonteCarlo: \u001b[0mFragment size: 3\n",
      "\u001b[0mprotocols.moves.TrialCounter: \u001b[0m          frag 3 trials=    898;  accepts= 0.1693;  energy_drop/trial=  -0.05115\n",
      "\u001b[0mprotocols.rna.denovo.RNA_FragmentMonteCarlo: \u001b[0m\u001b[34mBeginning round 2 of 10\u001b[0m\n",
      "\u001b[0mprotocols.moves.TrialCounter: \u001b[0m          frag 3 trials=    909;  accepts= 0.0990;  energy_drop/trial=  -0.00230\n",
      "\u001b[0mprotocols.rna.denovo.RNA_FragmentMonteCarlo: \u001b[0mChecking base pairs early! Result: 1\n",
      "\u001b[0mprotocols.rna.denovo.RNA_FragmentMonteCarlo: \u001b[0m\u001b[34mBeginning round 3 of 10\u001b[0m\n",
      "\u001b[0mprotocols.moves.TrialCounter: \u001b[0m          frag 3 trials=    903;  accepts= 0.0365;  energy_drop/trial=   0.00498\n",
      "\u001b[0mprotocols.rna.denovo.RNA_FragmentMonteCarlo: \u001b[0m\u001b[34mBeginning round 4 of 10\u001b[0m\n",
      "\u001b[0mprotocols.rna.denovo.RNA_FragmentMonteCarlo: \u001b[0mFragment size: 2\n",
      "\u001b[0mprotocols.moves.TrialCounter: \u001b[0m          frag 2 trials=    904;  accepts= 0.0675;  energy_drop/trial=   0.00381\n",
      "\u001b[0mprotocols.rna.denovo.RNA_FragmentMonteCarlo: \u001b[0m\u001b[34mBeginning round 5 of 10\u001b[0m\n",
      "\u001b[0mprotocols.moves.TrialCounter: \u001b[0m          frag 2 trials=    889;  accepts= 0.0439;  energy_drop/trial=   0.00209\n",
      "\u001b[0mprotocols.rna.denovo.RNA_FragmentMonteCarlo: \u001b[0mChecking loop closure with tolerance of 12 Angstroms! Result: 1\n",
      "\u001b[0mprotocols.rna.denovo.RNA_FragmentMonteCarlo: \u001b[0m\u001b[34mBeginning round 6 of 10\u001b[0m\n",
      "\u001b[0mprotocols.moves.TrialCounter: \u001b[0m          frag 2 trials=    899;  accepts= 0.0211;  energy_drop/trial=   0.00470\n",
      "\u001b[0mprotocols.rna.denovo.RNA_FragmentMonteCarlo: \u001b[0m\u001b[34mBeginning round 7 of 10\u001b[0m\n",
      "\u001b[0mprotocols.rna.denovo.RNA_FragmentMonteCarlo: \u001b[0mFragment size: 1\n",
      "\u001b[0mprotocols.moves.TrialCounter: \u001b[0m          frag 1 trials=    912;  accepts= 0.0932;  energy_drop/trial=   0.01302\n",
      "\u001b[0mprotocols.rna.denovo.RNA_FragmentMonteCarlo: \u001b[0m\u001b[34mBeginning round 8 of 10\u001b[0m\n",
      "\u001b[0mprotocols.moves.TrialCounter: \u001b[0m          frag 1 trials=    895;  accepts= 0.0827;  energy_drop/trial=   0.00792\n",
      "\u001b[0mprotocols.rna.denovo.RNA_FragmentMonteCarlo: \u001b[0m\u001b[34mBeginning round 9 of 10\u001b[0m\n",
      "\u001b[0mprotocols.moves.TrialCounter: \u001b[0m          frag 1 trials=    898;  accepts= 0.0713;  energy_drop/trial=   0.01122\n",
      "\u001b[0mprotocols.rna.denovo.RNA_FragmentMonteCarlo: \u001b[0m\u001b[34mBeginning round 10 of 10\u001b[0m\n",
      "\u001b[0mprotocols.moves.TrialCounter: \u001b[0m          frag 1 trials=    910;  accepts= 0.1220;  energy_drop/trial=   0.00009\n",
      "\u001b[0mprotocols.rna.denovo.RNA_FragmentMonteCarlo: \u001b[0mFinished fragment assembly of S_000008 in 4 seconds.\n",
      "\u001b[0mprotocols.rna.denovo.RNA_FragmentMonteCarlo: \u001b[0mComparing current lores score -91.5317 to automatically determined cutoff: -92.7041 based on 0.2 quantile from 17 models so far\n",
      "\u001b[0mprotocols.rna.denovo.RNA_FragmentMonteCarlo: \u001b[0mFailed score filter.\n",
      "\u001b[0mprotocols.rna.denovo.RNA_FragmentMonteCarlo: \u001b[0m\u001b[31mDid not pass filters. Trying the model again: trial 8 out of 10\u001b[0m\n",
      "\u001b[0mprotocols.rna.denovo.movers.RNA_DeNovoMasterMover: \u001b[0mHeating up... 42 cycles.\n",
      "\u001b[0mprotocols.rna.denovo.RNA_FragmentMonteCarlo: \u001b[0mBeginning main loop...\n",
      "\u001b[0mprotocols.rna.denovo.RNA_FragmentMonteCarlo: \u001b[0m\u001b[34mBeginning round 1 of 10\u001b[0m\n",
      "\u001b[0mprotocols.rna.denovo.RNA_FragmentMonteCarlo: \u001b[0mFragment size: 3\n",
      "\u001b[0mprotocols.moves.TrialCounter: \u001b[0m          frag 3 trials=    895;  accepts= 0.1654;  energy_drop/trial=  -0.32085\n",
      "\u001b[0mprotocols.rna.denovo.RNA_FragmentMonteCarlo: \u001b[0m\u001b[34mBeginning round 2 of 10\u001b[0m\n",
      "\u001b[0mprotocols.moves.TrialCounter: \u001b[0m          frag 3 trials=    912;  accepts= 0.0658;  energy_drop/trial=  -0.00412\n",
      "\u001b[0mprotocols.rna.denovo.RNA_FragmentMonteCarlo: \u001b[0mChecking base pairs early! Result: 1\n",
      "\u001b[0mprotocols.rna.denovo.RNA_FragmentMonteCarlo: \u001b[0m\u001b[34mBeginning round 3 of 10\u001b[0m\n",
      "\u001b[0mprotocols.moves.TrialCounter: \u001b[0m          frag 3 trials=    908;  accepts= 0.0308;  energy_drop/trial=  -0.00173\n",
      "\u001b[0mprotocols.rna.denovo.RNA_FragmentMonteCarlo: \u001b[0m\u001b[34mBeginning round 4 of 10\u001b[0m\n",
      "\u001b[0mprotocols.rna.denovo.RNA_FragmentMonteCarlo: \u001b[0mFragment size: 2\n",
      "\u001b[0mprotocols.moves.TrialCounter: \u001b[0m          frag 2 trials=    904;  accepts= 0.0830;  energy_drop/trial=   0.00187\n",
      "\u001b[0mprotocols.rna.denovo.RNA_FragmentMonteCarlo: \u001b[0m\u001b[34mBeginning round 5 of 10\u001b[0m\n",
      "\u001b[0mprotocols.moves.TrialCounter: \u001b[0m          frag 2 trials=    891;  accepts= 0.0325;  energy_drop/trial=   0.01012\n",
      "\u001b[0mprotocols.rna.denovo.RNA_FragmentMonteCarlo: \u001b[0mChecking loop closure with tolerance of 12 Angstroms! Result: 1\n",
      "\u001b[0mprotocols.rna.denovo.RNA_FragmentMonteCarlo: \u001b[0m\u001b[34mBeginning round 6 of 10\u001b[0m\n",
      "\u001b[0mprotocols.moves.TrialCounter: \u001b[0m          frag 2 trials=    888;  accepts= 0.0191;  energy_drop/trial=   0.00113\n",
      "\u001b[0mprotocols.rna.denovo.RNA_FragmentMonteCarlo: \u001b[0m\u001b[34mBeginning round 7 of 10\u001b[0m\n",
      "\u001b[0mprotocols.rna.denovo.RNA_FragmentMonteCarlo: \u001b[0mFragment size: 1\n",
      "\u001b[0mprotocols.moves.TrialCounter: \u001b[0m          frag 1 trials=    897;  accepts= 0.0803;  energy_drop/trial=   0.00439\n",
      "\u001b[0mprotocols.rna.denovo.RNA_FragmentMonteCarlo: \u001b[0m\u001b[34mBeginning round 8 of 10\u001b[0m\n",
      "\u001b[0mprotocols.moves.TrialCounter: \u001b[0m          frag 1 trials=    903;  accepts= 0.0709;  energy_drop/trial=   0.01375\n",
      "\u001b[0mprotocols.rna.denovo.RNA_FragmentMonteCarlo: \u001b[0m\u001b[34mBeginning round 9 of 10\u001b[0m\n",
      "\u001b[0mprotocols.moves.TrialCounter: \u001b[0m          frag 1 trials=    911;  accepts= 0.0845;  energy_drop/trial=   0.01129\n",
      "\u001b[0mprotocols.rna.denovo.RNA_FragmentMonteCarlo: \u001b[0m\u001b[34mBeginning round 10 of 10\u001b[0m\n",
      "\u001b[0mprotocols.moves.TrialCounter: \u001b[0m          frag 1 trials=    896;  accepts= 0.0949;  energy_drop/trial=   0.00443\n",
      "\u001b[0mprotocols.rna.denovo.RNA_FragmentMonteCarlo: \u001b[0mFinished fragment assembly of S_000008 in 4 seconds.\n",
      "\u001b[0mprotocols.rna.denovo.RNA_FragmentMonteCarlo: \u001b[0mComparing current lores score -91.1926 to automatically determined cutoff: -92.7041 based on 0.2 quantile from 18 models so far\n",
      "\u001b[0mprotocols.rna.denovo.RNA_FragmentMonteCarlo: \u001b[0mFailed score filter.\n",
      "\u001b[0mprotocols.rna.denovo.RNA_FragmentMonteCarlo: \u001b[0m\u001b[31mDid not pass filters. Trying the model again: trial 9 out of 10\u001b[0m\n",
      "\u001b[0mprotocols.rna.denovo.movers.RNA_DeNovoMasterMover: \u001b[0mHeating up... 42 cycles.\n",
      "\u001b[0mprotocols.rna.denovo.RNA_FragmentMonteCarlo: \u001b[0mBeginning main loop...\n",
      "\u001b[0mprotocols.rna.denovo.RNA_FragmentMonteCarlo: \u001b[0m\u001b[34mBeginning round 1 of 10\u001b[0m\n",
      "\u001b[0mprotocols.rna.denovo.RNA_FragmentMonteCarlo: \u001b[0mFragment size: 3\n",
      "\u001b[0mprotocols.moves.TrialCounter: \u001b[0m          frag 3 trials=    895;  accepts= 0.1743;  energy_drop/trial=  -0.06677\n",
      "\u001b[0mprotocols.rna.denovo.RNA_FragmentMonteCarlo: \u001b[0m\u001b[34mBeginning round 2 of 10\u001b[0m\n",
      "\u001b[0mprotocols.moves.TrialCounter: \u001b[0m          frag 3 trials=    910;  accepts= 0.0396;  energy_drop/trial=   0.00817\n",
      "\u001b[0mprotocols.rna.denovo.RNA_FragmentMonteCarlo: \u001b[0mChecking base pairs early! Result: 1\n",
      "\u001b[0mprotocols.rna.denovo.RNA_FragmentMonteCarlo: \u001b[0m\u001b[34mBeginning round 3 of 10\u001b[0m\n",
      "\u001b[0mprotocols.moves.TrialCounter: \u001b[0m          frag 3 trials=    900;  accepts= 0.1056;  energy_drop/trial=   0.00179\n"
     ]
    },
    {
     "name": "stdout",
     "output_type": "stream",
     "text": [
      "\u001b[0mprotocols.rna.denovo.RNA_FragmentMonteCarlo: \u001b[0m\u001b[34mBeginning round 4 of 10\u001b[0m\n",
      "\u001b[0mprotocols.rna.denovo.RNA_FragmentMonteCarlo: \u001b[0mFragment size: 2\n",
      "\u001b[0mprotocols.moves.TrialCounter: \u001b[0m          frag 2 trials=    891;  accepts= 0.1100;  energy_drop/trial=  -0.00134\n",
      "\u001b[0mprotocols.rna.denovo.RNA_FragmentMonteCarlo: \u001b[0m\u001b[34mBeginning round 5 of 10\u001b[0m\n",
      "\u001b[0mprotocols.moves.TrialCounter: \u001b[0m          frag 2 trials=    910;  accepts= 0.0791;  energy_drop/trial=   0.00311\n",
      "\u001b[0mprotocols.rna.denovo.RNA_FragmentMonteCarlo: \u001b[0mChecking loop closure with tolerance of 12 Angstroms! Result: 1\n",
      "\u001b[0mprotocols.rna.denovo.RNA_FragmentMonteCarlo: \u001b[0m\u001b[34mBeginning round 6 of 10\u001b[0m\n",
      "\u001b[0mprotocols.moves.TrialCounter: \u001b[0m          frag 2 trials=    903;  accepts= 0.0244;  energy_drop/trial=   0.01399\n",
      "\u001b[0mprotocols.rna.denovo.RNA_FragmentMonteCarlo: \u001b[0m\u001b[34mBeginning round 7 of 10\u001b[0m\n",
      "\u001b[0mprotocols.rna.denovo.RNA_FragmentMonteCarlo: \u001b[0mFragment size: 1\n",
      "\u001b[0mprotocols.moves.TrialCounter: \u001b[0m          frag 1 trials=    896;  accepts= 0.0871;  energy_drop/trial=   0.00315\n",
      "\u001b[0mprotocols.rna.denovo.RNA_FragmentMonteCarlo: \u001b[0m\u001b[34mBeginning round 8 of 10\u001b[0m\n",
      "\u001b[0mprotocols.moves.TrialCounter: \u001b[0m          frag 1 trials=    903;  accepts= 0.0653;  energy_drop/trial=   0.00626\n",
      "\u001b[0mprotocols.rna.denovo.RNA_FragmentMonteCarlo: \u001b[0m\u001b[34mBeginning round 9 of 10\u001b[0m\n",
      "\u001b[0mprotocols.moves.TrialCounter: \u001b[0m          frag 1 trials=    894;  accepts= 0.0973;  energy_drop/trial=   0.00597\n",
      "\u001b[0mprotocols.rna.denovo.RNA_FragmentMonteCarlo: \u001b[0m\u001b[34mBeginning round 10 of 10\u001b[0m\n",
      "\u001b[0mprotocols.moves.TrialCounter: \u001b[0m          frag 1 trials=    908;  accepts= 0.1278;  energy_drop/trial=   0.00161\n",
      "\u001b[0mprotocols.rna.denovo.RNA_FragmentMonteCarlo: \u001b[0mFinished fragment assembly of S_000008 in 4 seconds.\n",
      "\u001b[0mprotocols.rna.denovo.RNA_FragmentMonteCarlo: \u001b[0mComparing current lores score -92.2129 to automatically determined cutoff: -92.7041 based on 0.2 quantile from 19 models so far\n",
      "\u001b[0mprotocols.rna.denovo.RNA_FragmentMonteCarlo: \u001b[0mFailed score filter.\n",
      "\u001b[0mprotocols.rna.denovo.RNA_FragmentMonteCarlo: \u001b[0m\u001b[31mDid not pass filters. Trying the model again: trial 10 out of 10\u001b[0m\n",
      "\u001b[0mprotocols.rna.denovo.movers.RNA_DeNovoMasterMover: \u001b[0mHeating up... 42 cycles.\n",
      "\u001b[0mprotocols.rna.denovo.RNA_FragmentMonteCarlo: \u001b[0mBeginning main loop...\n",
      "\u001b[0mprotocols.rna.denovo.RNA_FragmentMonteCarlo: \u001b[0m\u001b[34mBeginning round 1 of 10\u001b[0m\n",
      "\u001b[0mprotocols.rna.denovo.RNA_FragmentMonteCarlo: \u001b[0mFragment size: 3\n",
      "\u001b[0mprotocols.moves.TrialCounter: \u001b[0m          frag 3 trials=    899;  accepts= 0.1468;  energy_drop/trial=  -0.01520\n",
      "\u001b[0mprotocols.rna.denovo.RNA_FragmentMonteCarlo: \u001b[0m\u001b[34mBeginning round 2 of 10\u001b[0m\n",
      "\u001b[0mprotocols.moves.TrialCounter: \u001b[0m          frag 3 trials=    898;  accepts= 0.0490;  energy_drop/trial=   0.00961\n",
      "\u001b[0mprotocols.rna.denovo.RNA_FragmentMonteCarlo: \u001b[0mChecking base pairs early! Result: 1\n",
      "\u001b[0mprotocols.rna.denovo.RNA_FragmentMonteCarlo: \u001b[0m\u001b[34mBeginning round 3 of 10\u001b[0m\n",
      "\u001b[0mprotocols.moves.TrialCounter: \u001b[0m          frag 3 trials=    892;  accepts= 0.1166;  energy_drop/trial=   0.00329\n",
      "\u001b[0mprotocols.rna.denovo.RNA_FragmentMonteCarlo: \u001b[0m\u001b[34mBeginning round 4 of 10\u001b[0m\n",
      "\u001b[0mprotocols.rna.denovo.RNA_FragmentMonteCarlo: \u001b[0mFragment size: 2\n",
      "\u001b[0mprotocols.moves.TrialCounter: \u001b[0m          frag 2 trials=    897;  accepts= 0.0613;  energy_drop/trial=   0.00246\n",
      "\u001b[0mprotocols.rna.denovo.RNA_FragmentMonteCarlo: \u001b[0m\u001b[34mBeginning round 5 of 10\u001b[0m\n",
      "\u001b[0mprotocols.moves.TrialCounter: \u001b[0m          frag 2 trials=    883;  accepts= 0.0985;  energy_drop/trial=   0.00234\n",
      "\u001b[0mprotocols.rna.denovo.RNA_FragmentMonteCarlo: \u001b[0mChecking loop closure with tolerance of 12 Angstroms! Result: 1\n",
      "\u001b[0mprotocols.rna.denovo.RNA_FragmentMonteCarlo: \u001b[0m\u001b[34mBeginning round 6 of 10\u001b[0m\n",
      "\u001b[0mprotocols.moves.TrialCounter: \u001b[0m          frag 2 trials=    897;  accepts= 0.0858;  energy_drop/trial=   0.00586\n",
      "\u001b[0mprotocols.rna.denovo.RNA_FragmentMonteCarlo: \u001b[0m\u001b[34mBeginning round 7 of 10\u001b[0m\n",
      "\u001b[0mprotocols.rna.denovo.RNA_FragmentMonteCarlo: \u001b[0mFragment size: 1\n",
      "\u001b[0mprotocols.moves.TrialCounter: \u001b[0m          frag 1 trials=    895;  accepts= 0.1419;  energy_drop/trial=   0.00670\n",
      "\u001b[0mprotocols.rna.denovo.RNA_FragmentMonteCarlo: \u001b[0m\u001b[34mBeginning round 8 of 10\u001b[0m\n",
      "\u001b[0mprotocols.moves.TrialCounter: \u001b[0m          frag 1 trials=    891;  accepts= 0.1279;  energy_drop/trial=   0.00373\n",
      "\u001b[0mprotocols.rna.denovo.RNA_FragmentMonteCarlo: \u001b[0m\u001b[34mBeginning round 9 of 10\u001b[0m\n",
      "\u001b[0mprotocols.moves.TrialCounter: \u001b[0m          frag 1 trials=    900;  accepts= 0.1389;  energy_drop/trial=   0.02513\n",
      "\u001b[0mprotocols.rna.denovo.RNA_FragmentMonteCarlo: \u001b[0m\u001b[34mBeginning round 10 of 10\u001b[0m\n",
      "\u001b[0mprotocols.moves.TrialCounter: \u001b[0m          frag 1 trials=    890;  accepts= 0.1685;  energy_drop/trial=  -0.00007\n",
      "\u001b[0mprotocols.rna.denovo.RNA_FragmentMonteCarlo: \u001b[0mFinished fragment assembly of S_000008 in 4 seconds.\n",
      "\u001b[0mprotocols.rna.denovo.RNA_FragmentMonteCarlo: \u001b[0mComparing current lores score -90.3376 to automatically determined cutoff: -92.2129 based on 0.2 quantile from 20 models so far\n",
      "\u001b[0mprotocols.rna.denovo.RNA_FragmentMonteCarlo: \u001b[0mFailed score filter.\n",
      "\u001b[0mprotocols.rna.denovo.RNA_FragmentMonteCarlo: \u001b[0m\n",
      "------------------------------------------------------------\n",
      " Scores                       Weight   Raw Score Wghtd.Score\n",
      "------------------------------------------------------------\n",
      " rna_data_backbone            1.000       0.000       0.000\n",
      " rna_vdw                      1.000       0.251       0.251\n",
      " rna_base_backbone            1.000      -3.278      -3.278\n",
      " rna_backbone_backbone        1.000       0.000       0.000\n",
      " rna_repulsive                1.000       0.000       0.000\n",
      " rna_base_pair                1.000     -53.644     -53.644\n",
      " rna_base_axis                0.200     -34.750      -6.950\n",
      " rna_base_stagger             1.000     -27.713     -27.713\n",
      " rna_base_stack               1.000      -3.465      -3.465\n",
      " rna_base_stack_axis          0.200     -22.763      -4.553\n",
      " rna_rg                       1.000       8.915       8.915\n",
      " atom_pair_constraint         1.000       0.000       0.000\n",
      " base_pair_constraint         1.000       0.000       0.000\n",
      " linear_chainbreak            5.000       0.020       0.098\n",
      "---------------------------------------------------\n",
      " Total weighted score:                      -90.338\n",
      "\u001b[0mprotocols.rna.denovo.RNA_FragmentMonteCarlo: \u001b[0m\n",
      "\u001b[0mprotocols.rna.denovo.movers.RNA_Minimizer: \u001b[0mOrienting 2' hydroxyls...\n",
      "\u001b[0mprotocols.rna.denovo.movers.RNA_Minimizer: \u001b[0mMinimizing...round= 1\n",
      "\u001b[0mprotocols.rna.denovo.movers.RNA_Minimizer: \u001b[0mOrienting 2' hydroxyls...\n",
      "\u001b[0mprotocols.rna.denovo.movers.RNA_Minimizer: \u001b[0mMinimizing...round= 2\n",
      "\u001b[0mprotocols.rna.denovo.movers.RNA_Minimizer: \u001b[0m\n",
      "------------------------------------------------------------\n",
      " Scores                       Weight   Raw Score Wghtd.Score\n",
      "------------------------------------------------------------\n",
      " fa_atr                       0.210    -210.441     -44.193\n",
      " fa_rep                       0.200      57.003      11.401\n",
      " fa_intra_rep                 0.003     140.468       0.407\n",
      " lk_nonpolar                  0.250      -6.950      -1.738\n",
      " fa_elec_rna_phos_phos        1.700       0.186       0.316\n",
      " rna_torsion                  1.000       4.150       4.150\n",
      " suiteness_bonus              1.000       0.000       0.000\n",
      " rna_sugar_close              0.820       4.275       3.506\n",
      " fa_stack                     0.130    -228.089     -29.652\n",
      " stack_elec                   0.760      -0.826      -0.628\n",
      " geom_sol_fast                0.170      71.040      12.077\n",
      " hbond_sr_bb_sc               0.960       0.000       0.000\n",
      " hbond_lr_bb_sc               0.960      -0.640      -0.614\n",
      " hbond_sc                     0.960     -20.498     -19.678\n",
      " ref                          1.000      50.440      50.440\n",
      " free_suite                   2.000       0.000       0.000\n",
      " free_2HOprime                1.000       0.000       0.000\n",
      " intermol                     1.000       0.000       0.000\n",
      " other_pose                   1.000       0.000       0.000\n",
      " loop_close                   1.000       0.000       0.000\n",
      " linear_chainbreak            5.000       0.005       0.024\n",
      "---------------------------------------------------\n"
     ]
    },
    {
     "name": "stdout",
     "output_type": "stream",
     "text": [
      " Total weighted score:                      -14.181\n",
      "\u001b[0mprotocols.rna.denovo.movers.RNA_Minimizer: \u001b[0mRNA minimizer finished in 3 seconds.\n",
      "\u001b[0mprotocols.rna.denovo.RNA_DeNovoProtocol: \u001b[0mMaking silent struct for S_000008\n",
      "\u001b[0mprotocols.rna.denovo.RNA_DeNovoProtocol: \u001b[0mOutputting to silent file: inputs/stem_loop.out\n",
      "\u001b[0mprotocols.rna.setup.RNA_MonteCarloJobDistributor: \u001b[0m\n",
      "\u001b[0mprotocols.rna.setup.RNA_MonteCarloJobDistributor: \u001b[0m\u001b[32mEmbarking on structure 9 of 10\u001b[0m\n",
      "\u001b[0mprotocols.rna.denovo.RNA_FragmentMonteCarlo: \u001b[0mNumber of moving residues: 5\n",
      "\u001b[0mprotocols.rna.denovo.RNA_FragmentMonteCarlo: \u001b[0mNumber of moving chunks: 0\n",
      "\u001b[0mprotocols.rna.denovo.RNA_FragmentMonteCarlo: \u001b[0mUsing 10000 cycles in de novo modeling.\n",
      "\u001b[0mprotocols.rna.denovo.movers.RNA_DeNovoMasterMover: \u001b[0mHeating up... 42 cycles.\n",
      "\u001b[0mprotocols.rna.denovo.RNA_FragmentMonteCarlo: \u001b[0mBeginning main loop...\n",
      "\u001b[0mprotocols.rna.denovo.RNA_FragmentMonteCarlo: \u001b[0m\u001b[34mBeginning round 1 of 10\u001b[0m\n",
      "\u001b[0mprotocols.moves.TrialCounter: \u001b[0m          frag 3 trials=    909;  accepts= 0.3630;  energy_drop/trial=  -0.05615\n",
      "\u001b[0mprotocols.rna.denovo.RNA_FragmentMonteCarlo: \u001b[0m\u001b[34mBeginning round 2 of 10\u001b[0m\n",
      "\u001b[0mprotocols.moves.TrialCounter: \u001b[0m          frag 3 trials=    897;  accepts= 0.2441;  energy_drop/trial=   0.00122\n",
      "\u001b[0mprotocols.rna.denovo.RNA_FragmentMonteCarlo: \u001b[0mChecking base pairs early! Result: 1\n",
      "\u001b[0mprotocols.rna.denovo.RNA_FragmentMonteCarlo: \u001b[0m\u001b[34mBeginning round 3 of 10\u001b[0m\n",
      "\u001b[0mprotocols.moves.TrialCounter: \u001b[0m          frag 3 trials=    903;  accepts= 0.1794;  energy_drop/trial=   0.00467\n",
      "\u001b[0mprotocols.rna.denovo.RNA_FragmentMonteCarlo: \u001b[0m\u001b[34mBeginning round 4 of 10\u001b[0m\n",
      "\u001b[0mprotocols.rna.denovo.RNA_FragmentMonteCarlo: \u001b[0mFragment size: 2\n",
      "\u001b[0mprotocols.moves.TrialCounter: \u001b[0m          frag 2 trials=    896;  accepts= 0.1618;  energy_drop/trial=   0.00530\n",
      "\u001b[0mprotocols.rna.denovo.RNA_FragmentMonteCarlo: \u001b[0m\u001b[34mBeginning round 5 of 10\u001b[0m\n",
      "\u001b[0mprotocols.moves.TrialCounter: \u001b[0m          frag 2 trials=    911;  accepts= 0.1614;  energy_drop/trial=   0.00810\n",
      "\u001b[0mprotocols.rna.denovo.RNA_FragmentMonteCarlo: \u001b[0mChecking loop closure with tolerance of 12 Angstroms! Result: 1\n",
      "\u001b[0mprotocols.rna.denovo.RNA_FragmentMonteCarlo: \u001b[0m\u001b[34mBeginning round 6 of 10\u001b[0m\n",
      "\u001b[0mprotocols.moves.TrialCounter: \u001b[0m          frag 2 trials=    902;  accepts= 0.1175;  energy_drop/trial=   0.01292\n",
      "\u001b[0mprotocols.rna.denovo.RNA_FragmentMonteCarlo: \u001b[0m\u001b[34mBeginning round 7 of 10\u001b[0m\n",
      "\u001b[0mprotocols.rna.denovo.RNA_FragmentMonteCarlo: \u001b[0mFragment size: 1\n",
      "\u001b[0mprotocols.moves.TrialCounter: \u001b[0m          frag 1 trials=    896;  accepts= 0.1596;  energy_drop/trial=   0.01399\n",
      "\u001b[0mprotocols.rna.denovo.RNA_FragmentMonteCarlo: \u001b[0m\u001b[34mBeginning round 8 of 10\u001b[0m\n",
      "\u001b[0mprotocols.moves.TrialCounter: \u001b[0m          frag 1 trials=    901;  accepts= 0.1365;  energy_drop/trial=   0.00740\n",
      "\u001b[0mprotocols.rna.denovo.RNA_FragmentMonteCarlo: \u001b[0m\u001b[34mBeginning round 9 of 10\u001b[0m\n",
      "\u001b[0mprotocols.moves.TrialCounter: \u001b[0m          frag 1 trials=    896;  accepts= 0.1105;  energy_drop/trial=   0.00854\n",
      "\u001b[0mprotocols.rna.denovo.RNA_FragmentMonteCarlo: \u001b[0m\u001b[34mBeginning round 10 of 10\u001b[0m\n",
      "\u001b[0mprotocols.moves.TrialCounter: \u001b[0m          frag 1 trials=    890;  accepts= 0.2236;  energy_drop/trial=  -0.00238\n",
      "\u001b[0mprotocols.rna.denovo.RNA_FragmentMonteCarlo: \u001b[0mFinished fragment assembly of S_000009 in 4 seconds.\n",
      "\u001b[0mprotocols.rna.denovo.RNA_FragmentMonteCarlo: \u001b[0mComparing current lores score -90.0804 to automatically determined cutoff: -92.2129 based on 0.2 quantile from 21 models so far\n",
      "\u001b[0mprotocols.rna.denovo.RNA_FragmentMonteCarlo: \u001b[0mFailed score filter.\n",
      "\u001b[0mprotocols.rna.denovo.RNA_FragmentMonteCarlo: \u001b[0m\u001b[31mDid not pass filters. Trying the model again: trial 2 out of 10\u001b[0m\n",
      "\u001b[0mprotocols.rna.denovo.movers.RNA_DeNovoMasterMover: \u001b[0mHeating up... 42 cycles.\n",
      "\u001b[0mprotocols.rna.denovo.RNA_FragmentMonteCarlo: \u001b[0mBeginning main loop...\n",
      "\u001b[0mprotocols.rna.denovo.RNA_FragmentMonteCarlo: \u001b[0m\u001b[34mBeginning round 1 of 10\u001b[0m\n",
      "\u001b[0mprotocols.rna.denovo.RNA_FragmentMonteCarlo: \u001b[0mFragment size: 3\n",
      "\u001b[0mprotocols.moves.TrialCounter: \u001b[0m          frag 3 trials=    890;  accepts= 0.2978;  energy_drop/trial=  -0.04121\n",
      "\u001b[0mprotocols.rna.denovo.RNA_FragmentMonteCarlo: \u001b[0m\u001b[34mBeginning round 2 of 10\u001b[0m\n",
      "\u001b[0mprotocols.moves.TrialCounter: \u001b[0m          frag 3 trials=    905;  accepts= 0.2133;  energy_drop/trial=   0.00219\n",
      "\u001b[0mprotocols.rna.denovo.RNA_FragmentMonteCarlo: \u001b[0mChecking base pairs early! Result: 1\n",
      "\u001b[0mprotocols.rna.denovo.RNA_FragmentMonteCarlo: \u001b[0m\u001b[34mBeginning round 3 of 10\u001b[0m\n",
      "\u001b[0mprotocols.moves.TrialCounter: \u001b[0m          frag 3 trials=    889;  accepts= 0.1789;  energy_drop/trial=   0.00141\n",
      "\u001b[0mprotocols.rna.denovo.RNA_FragmentMonteCarlo: \u001b[0m\u001b[34mBeginning round 4 of 10\u001b[0m\n",
      "\u001b[0mprotocols.rna.denovo.RNA_FragmentMonteCarlo: \u001b[0mFragment size: 2\n",
      "\u001b[0mprotocols.moves.TrialCounter: \u001b[0m          frag 2 trials=    894;  accepts= 0.1611;  energy_drop/trial=   0.00296\n",
      "\u001b[0mprotocols.rna.denovo.RNA_FragmentMonteCarlo: \u001b[0m\u001b[34mBeginning round 5 of 10\u001b[0m\n",
      "\u001b[0mprotocols.moves.TrialCounter: \u001b[0m          frag 2 trials=    888;  accepts= 0.1565;  energy_drop/trial=   0.00418\n",
      "\u001b[0mprotocols.rna.denovo.RNA_FragmentMonteCarlo: \u001b[0mChecking loop closure with tolerance of 12 Angstroms! Result: 1\n",
      "\u001b[0mprotocols.rna.denovo.RNA_FragmentMonteCarlo: \u001b[0m\u001b[34mBeginning round 6 of 10\u001b[0m\n",
      "\u001b[0mprotocols.moves.TrialCounter: \u001b[0m          frag 2 trials=    903;  accepts= 0.1672;  energy_drop/trial=   0.00306\n",
      "\u001b[0mprotocols.rna.denovo.RNA_FragmentMonteCarlo: \u001b[0m\u001b[34mBeginning round 7 of 10\u001b[0m\n",
      "\u001b[0mprotocols.rna.denovo.RNA_FragmentMonteCarlo: \u001b[0mFragment size: 1\n",
      "\u001b[0mprotocols.moves.TrialCounter: \u001b[0m          frag 1 trials=    905;  accepts= 0.1823;  energy_drop/trial=   0.01010\n",
      "\u001b[0mprotocols.rna.denovo.RNA_FragmentMonteCarlo: \u001b[0m\u001b[34mBeginning round 8 of 10\u001b[0m\n",
      "\u001b[0mprotocols.moves.TrialCounter: \u001b[0m          frag 1 trials=    912;  accepts= 0.1294;  energy_drop/trial=   0.00884\n",
      "\u001b[0mprotocols.rna.denovo.RNA_FragmentMonteCarlo: \u001b[0m\u001b[34mBeginning round 9 of 10\u001b[0m\n",
      "\u001b[0mprotocols.moves.TrialCounter: \u001b[0m          frag 1 trials=    900;  accepts= 0.1711;  energy_drop/trial=   0.00647\n",
      "\u001b[0mprotocols.rna.denovo.RNA_FragmentMonteCarlo: \u001b[0m\u001b[34mBeginning round 10 of 10\u001b[0m\n",
      "\u001b[0mprotocols.moves.TrialCounter: \u001b[0m          frag 1 trials=    902;  accepts= 0.2306;  energy_drop/trial=  -0.00180\n",
      "\u001b[0mprotocols.rna.denovo.RNA_FragmentMonteCarlo: \u001b[0mFinished fragment assembly of S_000009 in 4 seconds.\n",
      "\u001b[0mprotocols.rna.denovo.RNA_FragmentMonteCarlo: \u001b[0mComparing current lores score -89.8654 to automatically determined cutoff: -92.2129 based on 0.2 quantile from 22 models so far\n",
      "\u001b[0mprotocols.rna.denovo.RNA_FragmentMonteCarlo: \u001b[0mFailed score filter.\n",
      "\u001b[0mprotocols.rna.denovo.RNA_FragmentMonteCarlo: \u001b[0m\u001b[31mDid not pass filters. Trying the model again: trial 3 out of 10\u001b[0m\n",
      "\u001b[0mprotocols.rna.denovo.movers.RNA_DeNovoMasterMover: \u001b[0mHeating up... 42 cycles.\n",
      "\u001b[0mprotocols.rna.denovo.RNA_FragmentMonteCarlo: \u001b[0mBeginning main loop...\n",
      "\u001b[0mprotocols.rna.denovo.RNA_FragmentMonteCarlo: \u001b[0m\u001b[34mBeginning round 1 of 10\u001b[0m\n",
      "\u001b[0mprotocols.rna.denovo.RNA_FragmentMonteCarlo: \u001b[0mFragment size: 3\n",
      "\u001b[0mprotocols.moves.TrialCounter: \u001b[0m          frag 3 trials=    908;  accepts= 0.2610;  energy_drop/trial=  -0.03853\n",
      "\u001b[0mprotocols.rna.denovo.RNA_FragmentMonteCarlo: \u001b[0m\u001b[34mBeginning round 2 of 10\u001b[0m\n",
      "\u001b[0mprotocols.moves.TrialCounter: \u001b[0m          frag 3 trials=    898;  accepts= 0.1904;  energy_drop/trial=   0.00658\n",
      "\u001b[0mprotocols.rna.denovo.RNA_FragmentMonteCarlo: \u001b[0mChecking base pairs early! Result: 1\n",
      "\u001b[0mprotocols.rna.denovo.RNA_FragmentMonteCarlo: \u001b[0m\u001b[34mBeginning round 3 of 10\u001b[0m\n",
      "\u001b[0mprotocols.moves.TrialCounter: \u001b[0m          frag 3 trials=    883;  accepts= 0.1767;  energy_drop/trial=   0.01007\n",
      "\u001b[0mprotocols.rna.denovo.RNA_FragmentMonteCarlo: \u001b[0m\u001b[34mBeginning round 4 of 10\u001b[0m\n",
      "\u001b[0mprotocols.rna.denovo.RNA_FragmentMonteCarlo: \u001b[0mFragment size: 2\n",
      "\u001b[0mprotocols.moves.TrialCounter: \u001b[0m          frag 2 trials=    904;  accepts= 0.1991;  energy_drop/trial=   0.00589\n",
      "\u001b[0mprotocols.rna.denovo.RNA_FragmentMonteCarlo: \u001b[0m\u001b[34mBeginning round 5 of 10\u001b[0m\n",
      "\u001b[0mprotocols.moves.TrialCounter: \u001b[0m          frag 2 trials=    904;  accepts= 0.1881;  energy_drop/trial=   0.01126\n"
     ]
    },
    {
     "name": "stdout",
     "output_type": "stream",
     "text": [
      "\u001b[0mprotocols.rna.denovo.RNA_FragmentMonteCarlo: \u001b[0mChecking loop closure with tolerance of 12 Angstroms! Result: 1\n",
      "\u001b[0mprotocols.rna.denovo.RNA_FragmentMonteCarlo: \u001b[0m\u001b[34mBeginning round 6 of 10\u001b[0m\n",
      "\u001b[0mprotocols.moves.TrialCounter: \u001b[0m          frag 2 trials=    900;  accepts= 0.1544;  energy_drop/trial=   0.00993\n",
      "\u001b[0mprotocols.rna.denovo.RNA_FragmentMonteCarlo: \u001b[0m\u001b[34mBeginning round 7 of 10\u001b[0m\n",
      "\u001b[0mprotocols.rna.denovo.RNA_FragmentMonteCarlo: \u001b[0mFragment size: 1\n",
      "\u001b[0mprotocols.moves.TrialCounter: \u001b[0m          frag 1 trials=    907;  accepts= 0.1874;  energy_drop/trial=   0.00561\n",
      "\u001b[0mprotocols.rna.denovo.RNA_FragmentMonteCarlo: \u001b[0m\u001b[34mBeginning round 8 of 10\u001b[0m\n",
      "\u001b[0mprotocols.moves.TrialCounter: \u001b[0m          frag 1 trials=    903;  accepts= 0.1960;  energy_drop/trial=   0.01379\n",
      "\u001b[0mprotocols.rna.denovo.RNA_FragmentMonteCarlo: \u001b[0m\u001b[34mBeginning round 9 of 10\u001b[0m\n",
      "\u001b[0mprotocols.moves.TrialCounter: \u001b[0m          frag 1 trials=    920;  accepts= 0.1880;  energy_drop/trial=   0.00627\n",
      "\u001b[0mprotocols.rna.denovo.RNA_FragmentMonteCarlo: \u001b[0m\u001b[34mBeginning round 10 of 10\u001b[0m\n",
      "\u001b[0mprotocols.moves.TrialCounter: \u001b[0m          frag 1 trials=    891;  accepts= 0.2391;  energy_drop/trial=   0.00474\n",
      "\u001b[0mprotocols.rna.denovo.RNA_FragmentMonteCarlo: \u001b[0mFinished fragment assembly of S_000009 in 4 seconds.\n",
      "\u001b[0mprotocols.rna.denovo.RNA_FragmentMonteCarlo: \u001b[0mComparing current lores score -80.0935 to automatically determined cutoff: -92.2129 based on 0.2 quantile from 23 models so far\n",
      "\u001b[0mprotocols.rna.denovo.RNA_FragmentMonteCarlo: \u001b[0mFailed score filter.\n",
      "\u001b[0mprotocols.rna.denovo.RNA_FragmentMonteCarlo: \u001b[0m\u001b[31mDid not pass filters. Trying the model again: trial 4 out of 10\u001b[0m\n",
      "\u001b[0mprotocols.rna.denovo.movers.RNA_DeNovoMasterMover: \u001b[0mHeating up... 42 cycles.\n",
      "\u001b[0mprotocols.rna.denovo.RNA_FragmentMonteCarlo: \u001b[0mBeginning main loop...\n",
      "\u001b[0mprotocols.rna.denovo.RNA_FragmentMonteCarlo: \u001b[0m\u001b[34mBeginning round 1 of 10\u001b[0m\n",
      "\u001b[0mprotocols.rna.denovo.RNA_FragmentMonteCarlo: \u001b[0mFragment size: 3\n",
      "\u001b[0mprotocols.moves.TrialCounter: \u001b[0m          frag 3 trials=    893;  accepts= 0.2945;  energy_drop/trial=  -0.02371\n",
      "\u001b[0mprotocols.rna.denovo.RNA_FragmentMonteCarlo: \u001b[0m\u001b[34mBeginning round 2 of 10\u001b[0m\n",
      "\u001b[0mprotocols.moves.TrialCounter: \u001b[0m          frag 3 trials=    893;  accepts= 0.2296;  energy_drop/trial=   0.00216\n",
      "\u001b[0mprotocols.rna.denovo.RNA_FragmentMonteCarlo: \u001b[0mChecking base pairs early! Result: 1\n",
      "\u001b[0mprotocols.rna.denovo.RNA_FragmentMonteCarlo: \u001b[0m\u001b[34mBeginning round 3 of 10\u001b[0m\n",
      "\u001b[0mprotocols.moves.TrialCounter: \u001b[0m          frag 3 trials=    893;  accepts= 0.2206;  energy_drop/trial=   0.01864\n",
      "\u001b[0mprotocols.rna.denovo.RNA_FragmentMonteCarlo: \u001b[0m\u001b[34mBeginning round 4 of 10\u001b[0m\n",
      "\u001b[0mprotocols.rna.denovo.RNA_FragmentMonteCarlo: \u001b[0mFragment size: 2\n",
      "\u001b[0mprotocols.moves.TrialCounter: \u001b[0m          frag 2 trials=    906;  accepts= 0.1854;  energy_drop/trial=   0.01159\n",
      "\u001b[0mprotocols.rna.denovo.RNA_FragmentMonteCarlo: \u001b[0m\u001b[34mBeginning round 5 of 10\u001b[0m\n",
      "\u001b[0mprotocols.moves.TrialCounter: \u001b[0m          frag 2 trials=    904;  accepts= 0.1383;  energy_drop/trial=   0.00032\n",
      "\u001b[0mprotocols.rna.denovo.RNA_FragmentMonteCarlo: \u001b[0mChecking loop closure with tolerance of 12 Angstroms! Result: 1\n",
      "\u001b[0mprotocols.rna.denovo.RNA_FragmentMonteCarlo: \u001b[0m\u001b[34mBeginning round 6 of 10\u001b[0m\n",
      "\u001b[0mprotocols.moves.TrialCounter: \u001b[0m          frag 2 trials=    894;  accepts= 0.1510;  energy_drop/trial=   0.01246\n",
      "\u001b[0mprotocols.rna.denovo.RNA_FragmentMonteCarlo: \u001b[0m\u001b[34mBeginning round 7 of 10\u001b[0m\n",
      "\u001b[0mprotocols.rna.denovo.RNA_FragmentMonteCarlo: \u001b[0mFragment size: 1\n",
      "\u001b[0mprotocols.moves.TrialCounter: \u001b[0m          frag 1 trials=    907;  accepts= 0.1588;  energy_drop/trial=   0.00141\n",
      "\u001b[0mprotocols.rna.denovo.RNA_FragmentMonteCarlo: \u001b[0m\u001b[34mBeginning round 8 of 10\u001b[0m\n",
      "\u001b[0mprotocols.moves.TrialCounter: \u001b[0m          frag 1 trials=    905;  accepts= 0.1580;  energy_drop/trial=   0.00625\n",
      "\u001b[0mprotocols.rna.denovo.RNA_FragmentMonteCarlo: \u001b[0m\u001b[34mBeginning round 9 of 10\u001b[0m\n",
      "\u001b[0mprotocols.moves.TrialCounter: \u001b[0m          frag 1 trials=    902;  accepts= 0.1541;  energy_drop/trial=   0.01254\n",
      "\u001b[0mprotocols.rna.denovo.RNA_FragmentMonteCarlo: \u001b[0m\u001b[34mBeginning round 10 of 10\u001b[0m\n",
      "\u001b[0mprotocols.moves.TrialCounter: \u001b[0m          frag 1 trials=    899;  accepts= 0.2247;  energy_drop/trial=   0.00878\n",
      "\u001b[0mprotocols.rna.denovo.RNA_FragmentMonteCarlo: \u001b[0mFinished fragment assembly of S_000009 in 4 seconds.\n",
      "\u001b[0mprotocols.rna.denovo.RNA_FragmentMonteCarlo: \u001b[0mComparing current lores score -82.7993 to automatically determined cutoff: -92.2129 based on 0.2 quantile from 24 models so far\n",
      "\u001b[0mprotocols.rna.denovo.RNA_FragmentMonteCarlo: \u001b[0mFailed score filter.\n",
      "\u001b[0mprotocols.rna.denovo.RNA_FragmentMonteCarlo: \u001b[0m\u001b[31mDid not pass filters. Trying the model again: trial 5 out of 10\u001b[0m\n",
      "\u001b[0mprotocols.rna.denovo.movers.RNA_DeNovoMasterMover: \u001b[0mHeating up... 42 cycles.\n",
      "\u001b[0mprotocols.rna.denovo.RNA_FragmentMonteCarlo: \u001b[0mBeginning main loop...\n",
      "\u001b[0mprotocols.rna.denovo.RNA_FragmentMonteCarlo: \u001b[0m\u001b[34mBeginning round 1 of 10\u001b[0m\n",
      "\u001b[0mprotocols.rna.denovo.RNA_FragmentMonteCarlo: \u001b[0mFragment size: 3\n",
      "\u001b[0mprotocols.moves.TrialCounter: \u001b[0m          frag 3 trials=    922;  accepts= 0.1616;  energy_drop/trial=  -0.04411\n",
      "\u001b[0mprotocols.rna.denovo.RNA_FragmentMonteCarlo: \u001b[0m\u001b[34mBeginning round 2 of 10\u001b[0m\n",
      "\u001b[0mprotocols.moves.TrialCounter: \u001b[0m          frag 3 trials=    917;  accepts= 0.0785;  energy_drop/trial=   0.00707\n",
      "\u001b[0mprotocols.rna.denovo.RNA_FragmentMonteCarlo: \u001b[0mChecking base pairs early! Result: 1\n",
      "\u001b[0mprotocols.rna.denovo.RNA_FragmentMonteCarlo: \u001b[0m\u001b[34mBeginning round 3 of 10\u001b[0m\n",
      "\u001b[0mprotocols.moves.TrialCounter: \u001b[0m          frag 3 trials=    890;  accepts= 0.0820;  energy_drop/trial=   0.00313\n",
      "\u001b[0mprotocols.rna.denovo.RNA_FragmentMonteCarlo: \u001b[0m\u001b[34mBeginning round 4 of 10\u001b[0m\n",
      "\u001b[0mprotocols.rna.denovo.RNA_FragmentMonteCarlo: \u001b[0mFragment size: 2\n",
      "\u001b[0mprotocols.moves.TrialCounter: \u001b[0m          frag 2 trials=    903;  accepts= 0.0520;  energy_drop/trial=   0.00713\n",
      "\u001b[0mprotocols.rna.denovo.RNA_FragmentMonteCarlo: \u001b[0m\u001b[34mBeginning round 5 of 10\u001b[0m\n",
      "\u001b[0mprotocols.moves.TrialCounter: \u001b[0m          frag 2 trials=    909;  accepts= 0.0198;  energy_drop/trial=   0.00923\n",
      "\u001b[0mprotocols.rna.denovo.RNA_FragmentMonteCarlo: \u001b[0mChecking loop closure with tolerance of 12 Angstroms! Result: 1\n",
      "\u001b[0mprotocols.rna.denovo.RNA_FragmentMonteCarlo: \u001b[0m\u001b[34mBeginning round 6 of 10\u001b[0m\n",
      "\u001b[0mprotocols.moves.TrialCounter: \u001b[0m          frag 2 trials=    920;  accepts= 0.0304;  energy_drop/trial=   0.00670\n",
      "\u001b[0mprotocols.rna.denovo.RNA_FragmentMonteCarlo: \u001b[0m\u001b[34mBeginning round 7 of 10\u001b[0m\n",
      "\u001b[0mprotocols.rna.denovo.RNA_FragmentMonteCarlo: \u001b[0mFragment size: 1\n",
      "\u001b[0mprotocols.moves.TrialCounter: \u001b[0m          frag 1 trials=    925;  accepts= 0.1232;  energy_drop/trial=   0.03025\n",
      "\u001b[0mprotocols.rna.denovo.RNA_FragmentMonteCarlo: \u001b[0m\u001b[34mBeginning round 8 of 10\u001b[0m\n",
      "\u001b[0mprotocols.moves.TrialCounter: \u001b[0m          frag 1 trials=    900;  accepts= 0.0700;  energy_drop/trial=   0.01258\n",
      "\u001b[0mprotocols.rna.denovo.RNA_FragmentMonteCarlo: \u001b[0m\u001b[34mBeginning round 9 of 10\u001b[0m\n",
      "\u001b[0mprotocols.moves.TrialCounter: \u001b[0m          frag 1 trials=    888;  accepts= 0.0867;  energy_drop/trial=   0.00956\n",
      "\u001b[0mprotocols.rna.denovo.RNA_FragmentMonteCarlo: \u001b[0m\u001b[34mBeginning round 10 of 10\u001b[0m\n",
      "\u001b[0mprotocols.moves.TrialCounter: \u001b[0m          frag 1 trials=    902;  accepts= 0.0820;  energy_drop/trial=   0.00540\n",
      "\u001b[0mprotocols.rna.denovo.RNA_FragmentMonteCarlo: \u001b[0mFinished fragment assembly of S_000009 in 4 seconds.\n",
      "\u001b[0mprotocols.rna.denovo.RNA_FragmentMonteCarlo: \u001b[0mComparing current lores score -91.3146 to automatically determined cutoff: -91.5317 based on 0.2 quantile from 25 models so far\n",
      "\u001b[0mprotocols.rna.denovo.RNA_FragmentMonteCarlo: \u001b[0mFailed score filter.\n",
      "\u001b[0mprotocols.rna.denovo.RNA_FragmentMonteCarlo: \u001b[0m\u001b[31mDid not pass filters. Trying the model again: trial 6 out of 10\u001b[0m\n",
      "\u001b[0mprotocols.rna.denovo.movers.RNA_DeNovoMasterMover: \u001b[0mHeating up... 42 cycles.\n",
      "\u001b[0mprotocols.rna.denovo.RNA_FragmentMonteCarlo: \u001b[0mBeginning main loop...\n",
      "\u001b[0mprotocols.rna.denovo.RNA_FragmentMonteCarlo: \u001b[0m\u001b[34mBeginning round 1 of 10\u001b[0m\n",
      "\u001b[0mprotocols.rna.denovo.RNA_FragmentMonteCarlo: \u001b[0mFragment size: 3\n"
     ]
    },
    {
     "name": "stdout",
     "output_type": "stream",
     "text": [
      "\u001b[0mprotocols.moves.TrialCounter: \u001b[0m          frag 3 trials=    911;  accepts= 0.1251;  energy_drop/trial=  -0.03553\n",
      "\u001b[0mprotocols.rna.denovo.RNA_FragmentMonteCarlo: \u001b[0m\u001b[34mBeginning round 2 of 10\u001b[0m\n",
      "\u001b[0mprotocols.moves.TrialCounter: \u001b[0m          frag 3 trials=    886;  accepts= 0.0214;  energy_drop/trial=   0.00084\n",
      "\u001b[0mprotocols.rna.denovo.RNA_FragmentMonteCarlo: \u001b[0mChecking base pairs early! Result: 1\n",
      "\u001b[0mprotocols.rna.denovo.RNA_FragmentMonteCarlo: \u001b[0m\u001b[34mBeginning round 3 of 10\u001b[0m\n",
      "\u001b[0mprotocols.moves.TrialCounter: \u001b[0m          frag 3 trials=    897;  accepts= 0.0412;  energy_drop/trial=  -0.00190\n",
      "\u001b[0mprotocols.rna.denovo.RNA_FragmentMonteCarlo: \u001b[0m\u001b[34mBeginning round 4 of 10\u001b[0m\n",
      "\u001b[0mprotocols.rna.denovo.RNA_FragmentMonteCarlo: \u001b[0mFragment size: 2\n",
      "\u001b[0mprotocols.moves.TrialCounter: \u001b[0m          frag 2 trials=    906;  accepts= 0.0585;  energy_drop/trial=   0.00617\n",
      "\u001b[0mprotocols.rna.denovo.RNA_FragmentMonteCarlo: \u001b[0m\u001b[34mBeginning round 5 of 10\u001b[0m\n",
      "\u001b[0mprotocols.moves.TrialCounter: \u001b[0m          frag 2 trials=    915;  accepts= 0.0459;  energy_drop/trial=   0.00934\n",
      "\u001b[0mprotocols.rna.denovo.RNA_FragmentMonteCarlo: \u001b[0mChecking loop closure with tolerance of 12 Angstroms! Result: 1\n",
      "\u001b[0mprotocols.rna.denovo.RNA_FragmentMonteCarlo: \u001b[0m\u001b[34mBeginning round 6 of 10\u001b[0m\n",
      "\u001b[0mprotocols.moves.TrialCounter: \u001b[0m          frag 2 trials=    899;  accepts= 0.0278;  energy_drop/trial=   0.00536\n",
      "\u001b[0mprotocols.rna.denovo.RNA_FragmentMonteCarlo: \u001b[0m\u001b[34mBeginning round 7 of 10\u001b[0m\n",
      "\u001b[0mprotocols.rna.denovo.RNA_FragmentMonteCarlo: \u001b[0mFragment size: 1\n",
      "\u001b[0mprotocols.moves.TrialCounter: \u001b[0m          frag 1 trials=    889;  accepts= 0.1237;  energy_drop/trial=   0.00664\n",
      "\u001b[0mprotocols.rna.denovo.RNA_FragmentMonteCarlo: \u001b[0m\u001b[34mBeginning round 8 of 10\u001b[0m\n",
      "\u001b[0mprotocols.moves.TrialCounter: \u001b[0m          frag 1 trials=    895;  accepts= 0.0816;  energy_drop/trial=   0.00989\n",
      "\u001b[0mprotocols.rna.denovo.RNA_FragmentMonteCarlo: \u001b[0m\u001b[34mBeginning round 9 of 10\u001b[0m\n",
      "\u001b[0mprotocols.moves.TrialCounter: \u001b[0m          frag 1 trials=    900;  accepts= 0.0856;  energy_drop/trial=   0.01567\n",
      "\u001b[0mprotocols.rna.denovo.RNA_FragmentMonteCarlo: \u001b[0m\u001b[34mBeginning round 10 of 10\u001b[0m\n",
      "\u001b[0mprotocols.moves.TrialCounter: \u001b[0m          frag 1 trials=    898;  accepts= 0.0902;  energy_drop/trial=   0.00296\n",
      "\u001b[0mprotocols.rna.denovo.RNA_FragmentMonteCarlo: \u001b[0mFinished fragment assembly of S_000009 in 4 seconds.\n",
      "\u001b[0mprotocols.rna.denovo.RNA_FragmentMonteCarlo: \u001b[0mComparing current lores score -90.1262 to automatically determined cutoff: -91.5317 based on 0.2 quantile from 26 models so far\n",
      "\u001b[0mprotocols.rna.denovo.RNA_FragmentMonteCarlo: \u001b[0mFailed score filter.\n",
      "\u001b[0mprotocols.rna.denovo.RNA_FragmentMonteCarlo: \u001b[0m\u001b[31mDid not pass filters. Trying the model again: trial 7 out of 10\u001b[0m\n",
      "\u001b[0mprotocols.rna.denovo.movers.RNA_DeNovoMasterMover: \u001b[0mHeating up... 42 cycles.\n",
      "\u001b[0mprotocols.rna.denovo.RNA_FragmentMonteCarlo: \u001b[0mBeginning main loop...\n",
      "\u001b[0mprotocols.rna.denovo.RNA_FragmentMonteCarlo: \u001b[0m\u001b[34mBeginning round 1 of 10\u001b[0m\n",
      "\u001b[0mprotocols.rna.denovo.RNA_FragmentMonteCarlo: \u001b[0mFragment size: 3\n",
      "\u001b[0mprotocols.moves.TrialCounter: \u001b[0m          frag 3 trials=    903;  accepts= 0.1030;  energy_drop/trial=  -0.02559\n",
      "\u001b[0mprotocols.rna.denovo.RNA_FragmentMonteCarlo: \u001b[0m\u001b[34mBeginning round 2 of 10\u001b[0m\n",
      "\u001b[0mprotocols.moves.TrialCounter: \u001b[0m          frag 3 trials=    896;  accepts= 0.0603;  energy_drop/trial=  -0.00203\n",
      "\u001b[0mprotocols.rna.denovo.RNA_FragmentMonteCarlo: \u001b[0mChecking base pairs early! Result: 1\n",
      "\u001b[0mprotocols.rna.denovo.RNA_FragmentMonteCarlo: \u001b[0m\u001b[34mBeginning round 3 of 10\u001b[0m\n",
      "\u001b[0mprotocols.moves.TrialCounter: \u001b[0m          frag 3 trials=    887;  accepts= 0.0710;  energy_drop/trial=   0.00511\n",
      "\u001b[0mprotocols.rna.denovo.RNA_FragmentMonteCarlo: \u001b[0m\u001b[34mBeginning round 4 of 10\u001b[0m\n",
      "\u001b[0mprotocols.rna.denovo.RNA_FragmentMonteCarlo: \u001b[0mFragment size: 2\n",
      "\u001b[0mprotocols.moves.TrialCounter: \u001b[0m          frag 2 trials=    890;  accepts= 0.0551;  energy_drop/trial=   0.00370\n",
      "\u001b[0mprotocols.rna.denovo.RNA_FragmentMonteCarlo: \u001b[0m\u001b[34mBeginning round 5 of 10\u001b[0m\n",
      "\u001b[0mprotocols.moves.TrialCounter: \u001b[0m          frag 2 trials=    890;  accepts= 0.0899;  energy_drop/trial=   0.02292\n",
      "\u001b[0mprotocols.rna.denovo.RNA_FragmentMonteCarlo: \u001b[0mChecking loop closure with tolerance of 12 Angstroms! Result: 1\n",
      "\u001b[0mprotocols.rna.denovo.RNA_FragmentMonteCarlo: \u001b[0m\u001b[34mBeginning round 6 of 10\u001b[0m\n",
      "\u001b[0mprotocols.moves.TrialCounter: \u001b[0m          frag 2 trials=    887;  accepts= 0.0631;  energy_drop/trial=   0.01894\n",
      "\u001b[0mprotocols.rna.denovo.RNA_FragmentMonteCarlo: \u001b[0m\u001b[34mBeginning round 7 of 10\u001b[0m\n",
      "\u001b[0mprotocols.rna.denovo.RNA_FragmentMonteCarlo: \u001b[0mFragment size: 1\n",
      "\u001b[0mprotocols.moves.TrialCounter: \u001b[0m          frag 1 trials=    877;  accepts= 0.1163;  energy_drop/trial=   0.01539\n",
      "\u001b[0mprotocols.rna.denovo.RNA_FragmentMonteCarlo: \u001b[0m\u001b[34mBeginning round 8 of 10\u001b[0m\n",
      "\u001b[0mprotocols.moves.TrialCounter: \u001b[0m          frag 1 trials=    910;  accepts= 0.0505;  energy_drop/trial=   0.00804\n",
      "\u001b[0mprotocols.rna.denovo.RNA_FragmentMonteCarlo: \u001b[0m\u001b[34mBeginning round 9 of 10\u001b[0m\n",
      "\u001b[0mprotocols.moves.TrialCounter: \u001b[0m          frag 1 trials=    893;  accepts= 0.0526;  energy_drop/trial=   0.00193\n",
      "\u001b[0mprotocols.rna.denovo.RNA_FragmentMonteCarlo: \u001b[0m\u001b[34mBeginning round 10 of 10\u001b[0m\n",
      "\u001b[0mprotocols.moves.TrialCounter: \u001b[0m          frag 1 trials=    889;  accepts= 0.1226;  energy_drop/trial=   0.01050\n",
      "\u001b[0mprotocols.rna.denovo.RNA_FragmentMonteCarlo: \u001b[0mFinished fragment assembly of S_000009 in 4 seconds.\n",
      "\u001b[0mprotocols.rna.denovo.RNA_FragmentMonteCarlo: \u001b[0mComparing current lores score -87.6637 to automatically determined cutoff: -91.5317 based on 0.2 quantile from 27 models so far\n",
      "\u001b[0mprotocols.rna.denovo.RNA_FragmentMonteCarlo: \u001b[0mFailed score filter.\n",
      "\u001b[0mprotocols.rna.denovo.RNA_FragmentMonteCarlo: \u001b[0m\u001b[31mDid not pass filters. Trying the model again: trial 8 out of 10\u001b[0m\n",
      "\u001b[0mprotocols.rna.denovo.movers.RNA_DeNovoMasterMover: \u001b[0mHeating up... 42 cycles.\n",
      "\u001b[0mprotocols.rna.denovo.RNA_FragmentMonteCarlo: \u001b[0mBeginning main loop...\n",
      "\u001b[0mprotocols.rna.denovo.RNA_FragmentMonteCarlo: \u001b[0m\u001b[34mBeginning round 1 of 10\u001b[0m\n",
      "\u001b[0mprotocols.rna.denovo.RNA_FragmentMonteCarlo: \u001b[0mFragment size: 3\n",
      "\u001b[0mprotocols.moves.TrialCounter: \u001b[0m          frag 3 trials=    906;  accepts= 0.3157;  energy_drop/trial=  -0.02314\n",
      "\u001b[0mprotocols.rna.denovo.RNA_FragmentMonteCarlo: \u001b[0m\u001b[34mBeginning round 2 of 10\u001b[0m\n",
      "\u001b[0mprotocols.moves.TrialCounter: \u001b[0m          frag 3 trials=    906;  accepts= 0.2152;  energy_drop/trial=  -0.00064\n",
      "\u001b[0mprotocols.rna.denovo.RNA_FragmentMonteCarlo: \u001b[0mChecking base pairs early! Result: 1\n",
      "\u001b[0mprotocols.rna.denovo.RNA_FragmentMonteCarlo: \u001b[0m\u001b[34mBeginning round 3 of 10\u001b[0m\n",
      "\u001b[0mprotocols.moves.TrialCounter: \u001b[0m          frag 3 trials=    902;  accepts= 0.1940;  energy_drop/trial=   0.01207\n",
      "\u001b[0mprotocols.rna.denovo.RNA_FragmentMonteCarlo: \u001b[0m\u001b[34mBeginning round 4 of 10\u001b[0m\n",
      "\u001b[0mprotocols.rna.denovo.RNA_FragmentMonteCarlo: \u001b[0mFragment size: 2\n",
      "\u001b[0mprotocols.moves.TrialCounter: \u001b[0m          frag 2 trials=    898;  accepts= 0.1526;  energy_drop/trial=   0.00613\n",
      "\u001b[0mprotocols.rna.denovo.RNA_FragmentMonteCarlo: \u001b[0m\u001b[34mBeginning round 5 of 10\u001b[0m\n",
      "\u001b[0mprotocols.moves.TrialCounter: \u001b[0m          frag 2 trials=    912;  accepts= 0.1327;  energy_drop/trial=   0.00654\n",
      "\u001b[0mprotocols.rna.denovo.RNA_FragmentMonteCarlo: \u001b[0mChecking loop closure with tolerance of 12 Angstroms! Result: 1\n",
      "\u001b[0mprotocols.rna.denovo.RNA_FragmentMonteCarlo: \u001b[0m\u001b[34mBeginning round 6 of 10\u001b[0m\n",
      "\u001b[0mprotocols.moves.TrialCounter: \u001b[0m          frag 2 trials=    882;  accepts= 0.1077;  energy_drop/trial=   0.00594\n",
      "\u001b[0mprotocols.rna.denovo.RNA_FragmentMonteCarlo: \u001b[0m\u001b[34mBeginning round 7 of 10\u001b[0m\n",
      "\u001b[0mprotocols.rna.denovo.RNA_FragmentMonteCarlo: \u001b[0mFragment size: 1\n",
      "\u001b[0mprotocols.moves.TrialCounter: \u001b[0m          frag 1 trials=    915;  accepts= 0.1727;  energy_drop/trial=   0.00707\n",
      "\u001b[0mprotocols.rna.denovo.RNA_FragmentMonteCarlo: \u001b[0m\u001b[34mBeginning round 8 of 10\u001b[0m\n",
      "\u001b[0mprotocols.moves.TrialCounter: \u001b[0m          frag 1 trials=    909;  accepts= 0.1782;  energy_drop/trial=   0.00204\n",
      "\u001b[0mprotocols.rna.denovo.RNA_FragmentMonteCarlo: \u001b[0m\u001b[34mBeginning round 9 of 10\u001b[0m\n"
     ]
    },
    {
     "name": "stdout",
     "output_type": "stream",
     "text": [
      "\u001b[0mprotocols.moves.TrialCounter: \u001b[0m          frag 1 trials=    894;  accepts= 0.1007;  energy_drop/trial=   0.00945\n",
      "\u001b[0mprotocols.rna.denovo.RNA_FragmentMonteCarlo: \u001b[0m\u001b[34mBeginning round 10 of 10\u001b[0m\n",
      "\u001b[0mprotocols.moves.TrialCounter: \u001b[0m          frag 1 trials=    891;  accepts= 0.2447;  energy_drop/trial=   0.00711\n",
      "\u001b[0mprotocols.rna.denovo.RNA_FragmentMonteCarlo: \u001b[0mFinished fragment assembly of S_000009 in 4 seconds.\n",
      "\u001b[0mprotocols.rna.denovo.RNA_FragmentMonteCarlo: \u001b[0mComparing current lores score -89.8229 to automatically determined cutoff: -91.5317 based on 0.2 quantile from 28 models so far\n",
      "\u001b[0mprotocols.rna.denovo.RNA_FragmentMonteCarlo: \u001b[0mFailed score filter.\n",
      "\u001b[0mprotocols.rna.denovo.RNA_FragmentMonteCarlo: \u001b[0m\u001b[31mDid not pass filters. Trying the model again: trial 9 out of 10\u001b[0m\n",
      "\u001b[0mprotocols.rna.denovo.movers.RNA_DeNovoMasterMover: \u001b[0mHeating up... 42 cycles.\n",
      "\u001b[0mprotocols.rna.denovo.RNA_FragmentMonteCarlo: \u001b[0mBeginning main loop...\n",
      "\u001b[0mprotocols.rna.denovo.RNA_FragmentMonteCarlo: \u001b[0m\u001b[34mBeginning round 1 of 10\u001b[0m\n",
      "\u001b[0mprotocols.rna.denovo.RNA_FragmentMonteCarlo: \u001b[0mFragment size: 3\n",
      "\u001b[0mprotocols.moves.TrialCounter: \u001b[0m          frag 3 trials=    907;  accepts= 0.3407;  energy_drop/trial=  -0.02799\n",
      "\u001b[0mprotocols.rna.denovo.RNA_FragmentMonteCarlo: \u001b[0m\u001b[34mBeginning round 2 of 10\u001b[0m\n",
      "\u001b[0mprotocols.moves.TrialCounter: \u001b[0m          frag 3 trials=    900;  accepts= 0.1233;  energy_drop/trial=   0.00097\n",
      "\u001b[0mprotocols.rna.denovo.RNA_FragmentMonteCarlo: \u001b[0mChecking base pairs early! Result: 1\n",
      "\u001b[0mprotocols.rna.denovo.RNA_FragmentMonteCarlo: \u001b[0m\u001b[34mBeginning round 3 of 10\u001b[0m\n",
      "\u001b[0mprotocols.moves.TrialCounter: \u001b[0m          frag 3 trials=    898;  accepts= 0.1492;  energy_drop/trial=   0.00331\n",
      "\u001b[0mprotocols.rna.denovo.RNA_FragmentMonteCarlo: \u001b[0m\u001b[34mBeginning round 4 of 10\u001b[0m\n",
      "\u001b[0mprotocols.rna.denovo.RNA_FragmentMonteCarlo: \u001b[0mFragment size: 2\n",
      "\u001b[0mprotocols.moves.TrialCounter: \u001b[0m          frag 2 trials=    909;  accepts= 0.1947;  energy_drop/trial=   0.00801\n",
      "\u001b[0mprotocols.rna.denovo.RNA_FragmentMonteCarlo: \u001b[0m\u001b[34mBeginning round 5 of 10\u001b[0m\n",
      "\u001b[0mprotocols.moves.TrialCounter: \u001b[0m          frag 2 trials=    918;  accepts= 0.1078;  energy_drop/trial=   0.00198\n",
      "\u001b[0mprotocols.rna.denovo.RNA_FragmentMonteCarlo: \u001b[0mChecking loop closure with tolerance of 12 Angstroms! Result: 1\n",
      "\u001b[0mprotocols.rna.denovo.RNA_FragmentMonteCarlo: \u001b[0m\u001b[34mBeginning round 6 of 10\u001b[0m\n",
      "\u001b[0mprotocols.moves.TrialCounter: \u001b[0m          frag 2 trials=    909;  accepts= 0.1155;  energy_drop/trial=   0.01410\n",
      "\u001b[0mprotocols.rna.denovo.RNA_FragmentMonteCarlo: \u001b[0m\u001b[34mBeginning round 7 of 10\u001b[0m\n",
      "\u001b[0mprotocols.rna.denovo.RNA_FragmentMonteCarlo: \u001b[0mFragment size: 1\n",
      "\u001b[0mprotocols.moves.TrialCounter: \u001b[0m          frag 1 trials=    895;  accepts= 0.1419;  energy_drop/trial=   0.01287\n",
      "\u001b[0mprotocols.rna.denovo.RNA_FragmentMonteCarlo: \u001b[0m\u001b[34mBeginning round 8 of 10\u001b[0m\n",
      "\u001b[0mprotocols.moves.TrialCounter: \u001b[0m          frag 1 trials=    918;  accepts= 0.1285;  energy_drop/trial=  -0.00202\n",
      "\u001b[0mprotocols.rna.denovo.RNA_FragmentMonteCarlo: \u001b[0m\u001b[34mBeginning round 9 of 10\u001b[0m\n",
      "\u001b[0mprotocols.moves.TrialCounter: \u001b[0m          frag 1 trials=    923;  accepts= 0.1278;  energy_drop/trial=   0.00094\n",
      "\u001b[0mprotocols.rna.denovo.RNA_FragmentMonteCarlo: \u001b[0m\u001b[34mBeginning round 10 of 10\u001b[0m\n",
      "\u001b[0mprotocols.moves.TrialCounter: \u001b[0m          frag 1 trials=    896;  accepts= 0.2277;  energy_drop/trial=   0.00878\n",
      "\u001b[0mprotocols.rna.denovo.RNA_FragmentMonteCarlo: \u001b[0mFinished fragment assembly of S_000009 in 4 seconds.\n",
      "\u001b[0mprotocols.rna.denovo.RNA_FragmentMonteCarlo: \u001b[0mComparing current lores score -86.7647 to automatically determined cutoff: -91.5317 based on 0.2 quantile from 29 models so far\n",
      "\u001b[0mprotocols.rna.denovo.RNA_FragmentMonteCarlo: \u001b[0mFailed score filter.\n",
      "\u001b[0mprotocols.rna.denovo.RNA_FragmentMonteCarlo: \u001b[0m\u001b[31mDid not pass filters. Trying the model again: trial 10 out of 10\u001b[0m\n",
      "\u001b[0mprotocols.rna.denovo.movers.RNA_DeNovoMasterMover: \u001b[0mHeating up... 42 cycles.\n",
      "\u001b[0mprotocols.rna.denovo.RNA_FragmentMonteCarlo: \u001b[0mBeginning main loop...\n",
      "\u001b[0mprotocols.rna.denovo.RNA_FragmentMonteCarlo: \u001b[0m\u001b[34mBeginning round 1 of 10\u001b[0m\n",
      "\u001b[0mprotocols.rna.denovo.RNA_FragmentMonteCarlo: \u001b[0mFragment size: 3\n",
      "\u001b[0mprotocols.moves.TrialCounter: \u001b[0m          frag 3 trials=    896;  accepts= 0.1607;  energy_drop/trial=  -0.15826\n",
      "\u001b[0mprotocols.rna.denovo.RNA_FragmentMonteCarlo: \u001b[0m\u001b[34mBeginning round 2 of 10\u001b[0m\n",
      "\u001b[0mprotocols.moves.TrialCounter: \u001b[0m          frag 3 trials=    906;  accepts= 0.0651;  energy_drop/trial=   0.01046\n",
      "\u001b[0mprotocols.rna.denovo.RNA_FragmentMonteCarlo: \u001b[0mChecking base pairs early! Result: 1\n",
      "\u001b[0mprotocols.rna.denovo.RNA_FragmentMonteCarlo: \u001b[0m\u001b[34mBeginning round 3 of 10\u001b[0m\n",
      "\u001b[0mprotocols.moves.TrialCounter: \u001b[0m          frag 3 trials=    897;  accepts= 0.0513;  energy_drop/trial=   0.00563\n",
      "\u001b[0mprotocols.rna.denovo.RNA_FragmentMonteCarlo: \u001b[0m\u001b[34mBeginning round 4 of 10\u001b[0m\n",
      "\u001b[0mprotocols.rna.denovo.RNA_FragmentMonteCarlo: \u001b[0mFragment size: 2\n",
      "\u001b[0mprotocols.moves.TrialCounter: \u001b[0m          frag 2 trials=    886;  accepts= 0.0971;  energy_drop/trial=  -0.00024\n",
      "\u001b[0mprotocols.rna.denovo.RNA_FragmentMonteCarlo: \u001b[0m\u001b[34mBeginning round 5 of 10\u001b[0m\n",
      "\u001b[0mprotocols.moves.TrialCounter: \u001b[0m          frag 2 trials=    919;  accepts= 0.0925;  energy_drop/trial=   0.00399\n",
      "\u001b[0mprotocols.rna.denovo.RNA_FragmentMonteCarlo: \u001b[0mChecking loop closure with tolerance of 12 Angstroms! Result: 1\n",
      "\u001b[0mprotocols.rna.denovo.RNA_FragmentMonteCarlo: \u001b[0m\u001b[34mBeginning round 6 of 10\u001b[0m\n",
      "\u001b[0mprotocols.moves.TrialCounter: \u001b[0m          frag 2 trials=    884;  accepts= 0.0486;  energy_drop/trial=   0.00312\n",
      "\u001b[0mprotocols.rna.denovo.RNA_FragmentMonteCarlo: \u001b[0m\u001b[34mBeginning round 7 of 10\u001b[0m\n",
      "\u001b[0mprotocols.rna.denovo.RNA_FragmentMonteCarlo: \u001b[0mFragment size: 1\n",
      "\u001b[0mprotocols.moves.TrialCounter: \u001b[0m          frag 1 trials=    897;  accepts= 0.1137;  energy_drop/trial=   0.01124\n",
      "\u001b[0mprotocols.rna.denovo.RNA_FragmentMonteCarlo: \u001b[0m\u001b[34mBeginning round 8 of 10\u001b[0m\n",
      "\u001b[0mprotocols.moves.TrialCounter: \u001b[0m          frag 1 trials=    907;  accepts= 0.0551;  energy_drop/trial=   0.00661\n",
      "\u001b[0mprotocols.rna.denovo.RNA_FragmentMonteCarlo: \u001b[0m\u001b[34mBeginning round 9 of 10\u001b[0m\n",
      "\u001b[0mprotocols.moves.TrialCounter: \u001b[0m          frag 1 trials=    914;  accepts= 0.0897;  energy_drop/trial=  -0.00526\n",
      "\u001b[0mprotocols.rna.denovo.RNA_FragmentMonteCarlo: \u001b[0m\u001b[34mBeginning round 10 of 10\u001b[0m\n",
      "\u001b[0mprotocols.moves.TrialCounter: \u001b[0m          frag 1 trials=    911;  accepts= 0.0955;  energy_drop/trial=   0.00379\n",
      "\u001b[0mprotocols.rna.denovo.RNA_FragmentMonteCarlo: \u001b[0mFinished fragment assembly of S_000009 in 4 seconds.\n",
      "\u001b[0mprotocols.rna.denovo.RNA_FragmentMonteCarlo: \u001b[0mComparing current lores score -93.5395 to automatically determined cutoff: -91.5317 based on 0.2 quantile from 30 models so far\n",
      "\u001b[0mprotocols.rna.denovo.RNA_FragmentMonteCarlo: \u001b[0m\n",
      "------------------------------------------------------------\n",
      " Scores                       Weight   Raw Score Wghtd.Score\n",
      "------------------------------------------------------------\n",
      " rna_data_backbone            1.000       0.000       0.000\n",
      " rna_vdw                      1.000       0.523       0.523\n",
      " rna_base_backbone            1.000      -9.727      -9.727\n",
      " rna_backbone_backbone        1.000       0.000       0.000\n",
      " rna_repulsive                1.000       0.000       0.000\n",
      " rna_base_pair                1.000     -52.488     -52.488\n",
      " rna_base_axis                0.200     -32.017      -6.403\n",
      " rna_base_stagger             1.000     -26.956     -26.956\n",
      " rna_base_stack               1.000      -3.503      -3.503\n",
      " rna_base_stack_axis          0.200     -22.926      -4.585\n",
      " rna_rg                       1.000       9.235       9.235\n",
      " atom_pair_constraint         1.000       0.000       0.000\n",
      " base_pair_constraint         1.000       0.000       0.000\n",
      " linear_chainbreak            5.000       0.073       0.363\n",
      "---------------------------------------------------\n",
      " Total weighted score:                      -93.539\n",
      "\u001b[0mprotocols.rna.denovo.RNA_FragmentMonteCarlo: \u001b[0m\n",
      "\u001b[0mprotocols.rna.denovo.movers.RNA_Minimizer: \u001b[0mOrienting 2' hydroxyls...\n",
      "\u001b[0mprotocols.rna.denovo.movers.RNA_Minimizer: \u001b[0mMinimizing...round= 1\n"
     ]
    },
    {
     "name": "stdout",
     "output_type": "stream",
     "text": [
      "\u001b[0mprotocols.rna.denovo.movers.RNA_Minimizer: \u001b[0mOrienting 2' hydroxyls...\n",
      "\u001b[0mprotocols.rna.denovo.movers.RNA_Minimizer: \u001b[0mMinimizing...round= 2\n",
      "\u001b[0mprotocols.rna.denovo.movers.RNA_Minimizer: \u001b[0m\n",
      "------------------------------------------------------------\n",
      " Scores                       Weight   Raw Score Wghtd.Score\n",
      "------------------------------------------------------------\n",
      " fa_atr                       0.210    -204.850     -43.019\n",
      " fa_rep                       0.200      57.037      11.407\n",
      " fa_intra_rep                 0.003     152.542       0.442\n",
      " lk_nonpolar                  0.250      -5.757      -1.439\n",
      " fa_elec_rna_phos_phos        1.700       0.164       0.279\n",
      " rna_torsion                  1.000       3.825       3.825\n",
      " suiteness_bonus              1.000       0.000       0.000\n",
      " rna_sugar_close              0.820       3.885       3.186\n",
      " fa_stack                     0.130    -207.529     -26.979\n",
      " stack_elec                   0.760      -1.344      -1.021\n",
      " geom_sol_fast                0.170      75.229      12.789\n",
      " hbond_sr_bb_sc               0.960       0.000       0.000\n",
      " hbond_lr_bb_sc               0.960      -0.964      -0.925\n",
      " hbond_sc                     0.960     -21.427     -20.570\n",
      " ref                          1.000      50.440      50.440\n",
      " free_suite                   2.000       0.000       0.000\n",
      " free_2HOprime                1.000       0.000       0.000\n",
      " intermol                     1.000       0.000       0.000\n",
      " other_pose                   1.000       0.000       0.000\n",
      " loop_close                   1.000       0.000       0.000\n",
      " linear_chainbreak            5.000       0.005       0.026\n",
      "---------------------------------------------------\n",
      " Total weighted score:                      -11.559\n",
      "\u001b[0mprotocols.rna.denovo.movers.RNA_Minimizer: \u001b[0mRNA minimizer finished in 1 seconds.\n",
      "\u001b[0mprotocols.rna.denovo.RNA_DeNovoProtocol: \u001b[0mMaking silent struct for S_000009\n",
      "\u001b[0mprotocols.rna.denovo.RNA_DeNovoProtocol: \u001b[0mOutputting to silent file: inputs/stem_loop.out\n",
      "\u001b[0mprotocols.rna.setup.RNA_MonteCarloJobDistributor: \u001b[0m\n",
      "\u001b[0mprotocols.rna.setup.RNA_MonteCarloJobDistributor: \u001b[0m\u001b[32mEmbarking on structure 10 of 10\u001b[0m\n",
      "\u001b[0mprotocols.rna.denovo.RNA_FragmentMonteCarlo: \u001b[0mNumber of moving residues: 5\n",
      "\u001b[0mprotocols.rna.denovo.RNA_FragmentMonteCarlo: \u001b[0mNumber of moving chunks: 0\n",
      "\u001b[0mprotocols.rna.denovo.RNA_FragmentMonteCarlo: \u001b[0mUsing 10000 cycles in de novo modeling.\n",
      "\u001b[0mprotocols.rna.denovo.movers.RNA_DeNovoMasterMover: \u001b[0mHeating up... 42 cycles.\n",
      "\u001b[0mprotocols.rna.denovo.RNA_FragmentMonteCarlo: \u001b[0mBeginning main loop...\n",
      "\u001b[0mprotocols.rna.denovo.RNA_FragmentMonteCarlo: \u001b[0m\u001b[34mBeginning round 1 of 10\u001b[0m\n",
      "\u001b[0mprotocols.moves.TrialCounter: \u001b[0m          frag 3 trials=    888;  accepts= 0.1408;  energy_drop/trial=  -0.09342\n",
      "\u001b[0mprotocols.rna.denovo.RNA_FragmentMonteCarlo: \u001b[0m\u001b[34mBeginning round 2 of 10\u001b[0m\n",
      "\u001b[0mprotocols.moves.TrialCounter: \u001b[0m          frag 3 trials=    900;  accepts= 0.1156;  energy_drop/trial=   0.00338\n",
      "\u001b[0mprotocols.rna.denovo.RNA_FragmentMonteCarlo: \u001b[0mChecking base pairs early! Result: 1\n",
      "\u001b[0mprotocols.rna.denovo.RNA_FragmentMonteCarlo: \u001b[0m\u001b[34mBeginning round 3 of 10\u001b[0m\n",
      "\u001b[0mprotocols.moves.TrialCounter: \u001b[0m          frag 3 trials=    913;  accepts= 0.1150;  energy_drop/trial=  -0.00395\n",
      "\u001b[0mprotocols.rna.denovo.RNA_FragmentMonteCarlo: \u001b[0m\u001b[34mBeginning round 4 of 10\u001b[0m\n",
      "\u001b[0mprotocols.rna.denovo.RNA_FragmentMonteCarlo: \u001b[0mFragment size: 2\n",
      "\u001b[0mprotocols.moves.TrialCounter: \u001b[0m          frag 2 trials=    884;  accepts= 0.0554;  energy_drop/trial=   0.01713\n",
      "\u001b[0mprotocols.rna.denovo.RNA_FragmentMonteCarlo: \u001b[0m\u001b[34mBeginning round 5 of 10\u001b[0m\n",
      "\u001b[0mprotocols.moves.TrialCounter: \u001b[0m          frag 2 trials=    911;  accepts= 0.0944;  energy_drop/trial=   0.01395\n",
      "\u001b[0mprotocols.rna.denovo.RNA_FragmentMonteCarlo: \u001b[0mChecking loop closure with tolerance of 12 Angstroms! Result: 1\n",
      "\u001b[0mprotocols.rna.denovo.RNA_FragmentMonteCarlo: \u001b[0m\u001b[34mBeginning round 6 of 10\u001b[0m\n",
      "\u001b[0mprotocols.moves.TrialCounter: \u001b[0m          frag 2 trials=    906;  accepts= 0.0210;  energy_drop/trial=   0.00510\n",
      "\u001b[0mprotocols.rna.denovo.RNA_FragmentMonteCarlo: \u001b[0m\u001b[34mBeginning round 7 of 10\u001b[0m\n",
      "\u001b[0mprotocols.rna.denovo.RNA_FragmentMonteCarlo: \u001b[0mFragment size: 1\n",
      "\u001b[0mprotocols.moves.TrialCounter: \u001b[0m          frag 1 trials=    910;  accepts= 0.1352;  energy_drop/trial=   0.01593\n",
      "\u001b[0mprotocols.rna.denovo.RNA_FragmentMonteCarlo: \u001b[0m\u001b[34mBeginning round 8 of 10\u001b[0m\n",
      "\u001b[0mprotocols.moves.TrialCounter: \u001b[0m          frag 1 trials=    892;  accepts= 0.1076;  energy_drop/trial=   0.00536\n",
      "\u001b[0mprotocols.rna.denovo.RNA_FragmentMonteCarlo: \u001b[0m\u001b[34mBeginning round 9 of 10\u001b[0m\n",
      "\u001b[0mprotocols.moves.TrialCounter: \u001b[0m          frag 1 trials=    926;  accepts= 0.0972;  energy_drop/trial=   0.00782\n",
      "\u001b[0mprotocols.rna.denovo.RNA_FragmentMonteCarlo: \u001b[0m\u001b[34mBeginning round 10 of 10\u001b[0m\n",
      "\u001b[0mprotocols.moves.TrialCounter: \u001b[0m          frag 1 trials=    891;  accepts= 0.1403;  energy_drop/trial=   0.00310\n",
      "\u001b[0mprotocols.rna.denovo.RNA_FragmentMonteCarlo: \u001b[0mFinished fragment assembly of S_000010 in 5 seconds.\n",
      "\u001b[0mprotocols.rna.denovo.RNA_FragmentMonteCarlo: \u001b[0mComparing current lores score -91.2706 to automatically determined cutoff: -91.5317 based on 0.2 quantile from 31 models so far\n",
      "\u001b[0mprotocols.rna.denovo.RNA_FragmentMonteCarlo: \u001b[0mFailed score filter.\n",
      "\u001b[0mprotocols.rna.denovo.RNA_FragmentMonteCarlo: \u001b[0m\u001b[31mDid not pass filters. Trying the model again: trial 2 out of 10\u001b[0m\n",
      "\u001b[0mprotocols.rna.denovo.movers.RNA_DeNovoMasterMover: \u001b[0mHeating up... 42 cycles.\n",
      "\u001b[0mprotocols.rna.denovo.RNA_FragmentMonteCarlo: \u001b[0mBeginning main loop...\n",
      "\u001b[0mprotocols.rna.denovo.RNA_FragmentMonteCarlo: \u001b[0m\u001b[34mBeginning round 1 of 10\u001b[0m\n",
      "\u001b[0mprotocols.rna.denovo.RNA_FragmentMonteCarlo: \u001b[0mFragment size: 3\n",
      "\u001b[0mprotocols.moves.TrialCounter: \u001b[0m          frag 3 trials=    886;  accepts= 0.0880;  energy_drop/trial=  -0.03125\n",
      "\u001b[0mprotocols.rna.denovo.RNA_FragmentMonteCarlo: \u001b[0m\u001b[34mBeginning round 2 of 10\u001b[0m\n",
      "\u001b[0mprotocols.moves.TrialCounter: \u001b[0m          frag 3 trials=    908;  accepts= 0.0848;  energy_drop/trial=   0.01052\n",
      "\u001b[0mprotocols.rna.denovo.RNA_FragmentMonteCarlo: \u001b[0mChecking base pairs early! Result: 1\n",
      "\u001b[0mprotocols.rna.denovo.RNA_FragmentMonteCarlo: \u001b[0m\u001b[34mBeginning round 3 of 10\u001b[0m\n",
      "\u001b[0mprotocols.moves.TrialCounter: \u001b[0m          frag 3 trials=    904;  accepts= 0.0597;  energy_drop/trial=   0.01419\n",
      "\u001b[0mprotocols.rna.denovo.RNA_FragmentMonteCarlo: \u001b[0m\u001b[34mBeginning round 4 of 10\u001b[0m\n",
      "\u001b[0mprotocols.rna.denovo.RNA_FragmentMonteCarlo: \u001b[0mFragment size: 2\n",
      "\u001b[0mprotocols.moves.TrialCounter: \u001b[0m          frag 2 trials=    895;  accepts= 0.0346;  energy_drop/trial=   0.00145\n",
      "\u001b[0mprotocols.rna.denovo.RNA_FragmentMonteCarlo: \u001b[0m\u001b[34mBeginning round 5 of 10\u001b[0m\n",
      "\u001b[0mprotocols.moves.TrialCounter: \u001b[0m          frag 2 trials=    901;  accepts= 0.0322;  energy_drop/trial=   0.00453\n",
      "\u001b[0mprotocols.rna.denovo.RNA_FragmentMonteCarlo: \u001b[0mChecking loop closure with tolerance of 12 Angstroms! Result: 1\n",
      "\u001b[0mprotocols.rna.denovo.RNA_FragmentMonteCarlo: \u001b[0m\u001b[34mBeginning round 6 of 10\u001b[0m\n",
      "\u001b[0mprotocols.moves.TrialCounter: \u001b[0m          frag 2 trials=    884;  accepts= 0.0419;  energy_drop/trial=   0.01110\n",
      "\u001b[0mprotocols.rna.denovo.RNA_FragmentMonteCarlo: \u001b[0m\u001b[34mBeginning round 7 of 10\u001b[0m\n",
      "\u001b[0mprotocols.rna.denovo.RNA_FragmentMonteCarlo: \u001b[0mFragment size: 1\n",
      "\u001b[0mprotocols.moves.TrialCounter: \u001b[0m          frag 1 trials=    892;  accepts= 0.0583;  energy_drop/trial=   0.00564\n",
      "\u001b[0mprotocols.rna.denovo.RNA_FragmentMonteCarlo: \u001b[0m\u001b[34mBeginning round 8 of 10\u001b[0m\n",
      "\u001b[0mprotocols.moves.TrialCounter: \u001b[0m          frag 1 trials=    907;  accepts= 0.0595;  energy_drop/trial=  -0.00103\n",
      "\u001b[0mprotocols.rna.denovo.RNA_FragmentMonteCarlo: \u001b[0m\u001b[34mBeginning round 9 of 10\u001b[0m\n",
      "\u001b[0mprotocols.moves.TrialCounter: \u001b[0m          frag 1 trials=    902;  accepts= 0.0377;  energy_drop/trial=   0.00374\n",
      "\u001b[0mprotocols.rna.denovo.RNA_FragmentMonteCarlo: \u001b[0m\u001b[34mBeginning round 10 of 10\u001b[0m\n",
      "\u001b[0mprotocols.moves.TrialCounter: \u001b[0m          frag 1 trials=    904;  accepts= 0.0962;  energy_drop/trial=   0.00100\n",
      "\u001b[0mprotocols.rna.denovo.RNA_FragmentMonteCarlo: \u001b[0mFinished fragment assembly of S_000010 in 3 seconds.\n"
     ]
    },
    {
     "name": "stdout",
     "output_type": "stream",
     "text": [
      "\u001b[0mprotocols.rna.denovo.RNA_FragmentMonteCarlo: \u001b[0mComparing current lores score -93.0452 to automatically determined cutoff: -92.2129 based on 0.2 quantile from 32 models so far\n",
      "\u001b[0mprotocols.rna.denovo.RNA_FragmentMonteCarlo: \u001b[0m\n",
      "------------------------------------------------------------\n",
      " Scores                       Weight   Raw Score Wghtd.Score\n",
      "------------------------------------------------------------\n",
      " rna_data_backbone            1.000       0.000       0.000\n",
      " rna_vdw                      1.000       1.412       1.412\n",
      " rna_base_backbone            1.000      -5.014      -5.014\n",
      " rna_backbone_backbone        1.000       0.000       0.000\n",
      " rna_repulsive                1.000       0.000       0.000\n",
      " rna_base_pair                1.000     -56.413     -56.413\n",
      " rna_base_axis                0.200     -34.611      -6.922\n",
      " rna_base_stagger             1.000     -28.271     -28.271\n",
      " rna_base_stack               1.000      -3.503      -3.503\n",
      " rna_base_stack_axis          0.200     -22.902      -4.580\n",
      " rna_rg                       1.000       9.077       9.077\n",
      " atom_pair_constraint         1.000       0.000       0.000\n",
      " base_pair_constraint         1.000       0.000       0.000\n",
      " linear_chainbreak            5.000       0.234       1.170\n",
      "---------------------------------------------------\n",
      " Total weighted score:                      -93.045\n",
      "\u001b[0mprotocols.rna.denovo.RNA_FragmentMonteCarlo: \u001b[0m\n",
      "\u001b[0mprotocols.rna.denovo.movers.RNA_Minimizer: \u001b[0mOrienting 2' hydroxyls...\n",
      "\u001b[0mprotocols.rna.denovo.movers.RNA_Minimizer: \u001b[0mMinimizing...round= 1\n",
      "\u001b[0mprotocols.rna.denovo.movers.RNA_Minimizer: \u001b[0mOrienting 2' hydroxyls...\n",
      "\u001b[0mprotocols.rna.denovo.movers.RNA_Minimizer: \u001b[0mMinimizing...round= 2\n",
      "\u001b[0mprotocols.rna.denovo.movers.RNA_Minimizer: \u001b[0m\n",
      "------------------------------------------------------------\n",
      " Scores                       Weight   Raw Score Wghtd.Score\n",
      "------------------------------------------------------------\n",
      " fa_atr                       0.210    -208.758     -43.839\n",
      " fa_rep                       0.200      85.362      17.072\n",
      " fa_intra_rep                 0.003     153.603       0.445\n",
      " lk_nonpolar                  0.250     -10.694      -2.673\n",
      " fa_elec_rna_phos_phos        1.700       0.246       0.418\n",
      " rna_torsion                  1.000       5.678       5.678\n",
      " suiteness_bonus              1.000       0.000       0.000\n",
      " rna_sugar_close              0.820       3.719       3.049\n",
      " fa_stack                     0.130    -234.941     -30.542\n",
      " stack_elec                   0.760      -0.666      -0.506\n",
      " geom_sol_fast                0.170      72.883      12.390\n",
      " hbond_sr_bb_sc               0.960       0.000       0.000\n",
      " hbond_lr_bb_sc               0.960       0.000       0.000\n",
      " hbond_sc                     0.960     -23.932     -22.975\n",
      " ref                          1.000      50.440      50.440\n",
      " free_suite                   2.000       0.000       0.000\n",
      " free_2HOprime                1.000       0.000       0.000\n",
      " intermol                     1.000       0.000       0.000\n",
      " other_pose                   1.000       0.000       0.000\n",
      " loop_close                   1.000       0.000       0.000\n",
      " linear_chainbreak            5.000       0.005       0.024\n",
      "---------------------------------------------------\n",
      " Total weighted score:                      -11.018\n",
      "\u001b[0mprotocols.rna.denovo.movers.RNA_Minimizer: \u001b[0mRNA minimizer finished in 4 seconds.\n",
      "\u001b[0mprotocols.rna.denovo.RNA_DeNovoProtocol: \u001b[0mMaking silent struct for S_000010\n",
      "\u001b[0mprotocols.rna.denovo.RNA_DeNovoProtocol: \u001b[0mOutputting to silent file: inputs/stem_loop.out\n"
     ]
    }
   ],
   "source": [
    "rna_de_novo_pose = rna_de_novo_setup.pose()\n",
    "rna_de_novo_protocol.apply(rna_de_novo_pose)"
   ]
  },
  {
   "cell_type": "markdown",
   "metadata": {},
   "source": [
    "Now that we've generated RNA structures with the FARFAR protocol, let's look at the top scoring structures and compare to those that you generated earlier in this module. \n",
    "\n",
    "Run the following to get the poses from the silent file that FARFAR wrote to."
   ]
  },
  {
   "cell_type": "code",
   "execution_count": 52,
   "metadata": {},
   "outputs": [],
   "source": [
    "poses = poses_from_silent(\"outputs/stem_loop.out\")"
   ]
  },
  {
   "cell_type": "markdown",
   "metadata": {},
   "source": [
    "**Exercise**: Get the best scoring pose generated from FARFAR by iterating through the poses above with a loop (`for pose in poses`...). Make use of the rna_hires_sf that was generated earlier in this notebook to score these structures. Compare the best score with the the score of the `frag_pose` you generated in the previous section. Which is better?"
   ]
  },
  {
   "cell_type": "code",
   "execution_count": 54,
   "metadata": {},
   "outputs": [
    {
     "name": "stdout",
     "output_type": "stream",
     "text": [
      "\u001b[0mcore.io.silent.SilentFileData: \u001b[0mReading all structures from outputs/stem_loop.out\n",
      "\u001b[0mcore.io.silent.SilentFileData: \u001b[0mFinished reading 10 structures from outputs/stem_loop.out\n"
     ]
    }
   ],
   "source": [
    "### BEGIN SOLUTION\n",
    "# Get the best scoring pose from fragment assembly\n",
    "best_pose = Pose()\n",
    "best_score = 100000 # Some high value\n",
    "for pose in poses:\n",
    "    cur_score = rna_hires_sf(pose)\n",
    "    if cur_score < best_score:\n",
    "        best_pose = pose\n",
    "        best_score = cur_score\n",
    "### END SOLUTION"
   ]
  },
  {
   "cell_type": "code",
   "execution_count": 55,
   "metadata": {
    "scrolled": true
   },
   "outputs": [
    {
     "name": "stdout",
     "output_type": "stream",
     "text": [
      "7.741146964073884\n",
      "-16.242744103490725\n"
     ]
    }
   ],
   "source": [
    "### BEGIN SOLUTION\n",
    "print(rna_hires_sf(frag_pose))\n",
    "print(best_score)\n",
    "### END SOLUTION"
   ]
  },
  {
   "cell_type": "markdown",
   "metadata": {},
   "source": [
    "The FARFAR protocol in this section can generate structures with an improved Rosetta score in part because it uses an optimized number of fragment assembly moves for each structure, and in large part because we initialized this run with an idealized A-form helix for the stem portion of our structure. Let's take a look to see what the best pose we generated looks like using the PyMOLMover."
   ]
  },
  {
   "cell_type": "code",
   "execution_count": 58,
   "metadata": {},
   "outputs": [],
   "source": [
    "farfar_pmm = PyMOLMover()\n",
    "farfar_pmm.set_PyMOL_model_name('farfar_pose')\n",
    "farfar_pmm.apply(best_pose)"
   ]
  },
  {
   "cell_type": "markdown",
   "metadata": {},
   "source": [
    "**Exercise**: What motifs and features can you see in the best pose for this sequence from our 10 FARFAR models? What features are missing? How might we recover those features?"
   ]
  }
 ],
 "metadata": {
  "celltoolbar": "Create Assignment",
  "kernelspec": {
   "display_name": "Python 3",
   "language": "python",
   "name": "python3"
  },
  "language_info": {
   "codemirror_mode": {
    "name": "ipython",
    "version": 3
   },
   "file_extension": ".py",
   "mimetype": "text/x-python",
   "name": "python",
   "nbconvert_exporter": "python",
   "pygments_lexer": "ipython3",
   "version": "3.6.0"
  },
  "toc": {
   "base_numbering": 1,
   "nav_menu": {},
   "number_sections": true,
   "sideBar": true,
   "skip_h1_title": false,
   "title_cell": "Table of Contents",
   "title_sidebar": "Contents",
   "toc_cell": false,
   "toc_position": {
    "height": "470px",
    "left": "48px",
    "top": "110px",
    "width": "267.984px"
   },
   "toc_section_display": true,
   "toc_window_display": true
  }
 },
 "nbformat": 4,
 "nbformat_minor": 2
}

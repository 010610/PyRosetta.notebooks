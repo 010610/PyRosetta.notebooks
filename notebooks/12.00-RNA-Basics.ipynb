{
 "cells": [
  {
   "cell_type": "markdown",
   "metadata": {},
   "source": [
    "<!--NOTEBOOK_HEADER-->\n",
    "*This notebook contains material from [PyRosetta](https://RosettaCommons.github.io/PyRosetta);\n",
    "content is available [on Github](https://github.com/RosettaCommons/PyRosetta.notebooks.git).*"
   ]
  },
  {
   "cell_type": "markdown",
   "metadata": {},
   "source": [
    "# RNA in PyRosetta\n",
    "Keywords: classify_base_pairs, RNA torsions, RNA score terms, RNA motifs, mutate_position, RNA thread"
   ]
  },
  {
   "cell_type": "markdown",
   "metadata": {},
   "source": [
    "In this lab, we will explore common tasks and approaches for working with RNA using Rosetta. We will be focusing on a simple system that includes a helix capped by a tetraloop for this exercise."
   ]
  },
  {
   "cell_type": "code",
   "execution_count": 1,
   "metadata": {},
   "outputs": [],
   "source": [
    "# Notebook setup\n",
    "import sys\n",
    "if 'google.colab' in sys.modules:\n",
    "    !pip install pyrosettacolabsetup\n",
    "    import pyrosettacolabsetup\n",
    "    pyrosettacolabsetup.setup()\n",
    "    print (\"Notebook is set for PyRosetta use in Colab.  Have fun!\")"
   ]
  },
  {
   "cell_type": "code",
   "execution_count": 2,
   "metadata": {
    "scrolled": true
   },
   "outputs": [
    {
     "name": "stdout",
     "output_type": "stream",
     "text": [
      "PyRosetta-4 2019 [Rosetta PyRosetta4.Release.python36.ubuntu 2019.44+release.5aed75f2e796a33ab71515b6c1daa321eb2294a2 2019-10-29T08:37:43] retrieved from: http://www.pyrosetta.org\n",
      "(C) Copyright Rosetta Commons Member Institutions. Created in JHU by Sergey Lyskov and PyRosetta Team.\n",
      "\u001b[0mcore.init: \u001b[0mChecking for fconfig files in pwd and ./rosetta/flags\n",
      "\u001b[0mcore.init: \u001b[0mRosetta version: PyRosetta4.Release.python36.ubuntu r237 2019.44+release.5aed75f2e79 5aed75f2e796a33ab71515b6c1daa321eb2294a2 http://www.pyrosetta.org 2019-10-29T08:37:43\n",
      "\u001b[0mcore.init: \u001b[0mcommand: PyRosetta -ex1 -ex2aro -database /usr/local/lib/python3.6/dist-packages/pyrosetta-2019.44+release.5aed75f2e79-py3.6-linux-x86_64.egg/pyrosetta/database\n",
      "\u001b[0mbasic.random.init_random_generator: \u001b[0m'RNG device' seed mode, using '/dev/urandom', seed=-1940380485 seed_offset=0 real_seed=-1940380485\n",
      "\u001b[0mbasic.random.init_random_generator: \u001b[0mRandomGenerator:init: Normal mode, seed=-1940380485 RG_type=mt19937\n"
     ]
    }
   ],
   "source": [
    "from pyrosetta import *\n",
    "init()"
   ]
  },
  {
   "cell_type": "code",
   "execution_count": 3,
   "metadata": {},
   "outputs": [],
   "source": [
    "from pyrosetta.rosetta import *\n",
    "from pyrosetta.rosetta.core.pose.rna import *\n",
    "from pyrosetta.rosetta.core.pose import *"
   ]
  },
  {
   "cell_type": "markdown",
   "metadata": {},
   "source": [
    "## Exploring geometry for RNA ##"
   ]
  },
  {
   "cell_type": "markdown",
   "metadata": {},
   "source": [
    "Let's load in this structure with PyRosetta (make sure that you have the PDB file located in your current directory):\n",
    "\n",
    "`cd google_drive/My\\ Drive/student-notebooks/\n",
    "pose = pose_from_pdb(\"inputs/stem_loop.pdb\")`"
   ]
  },
  {
   "cell_type": "code",
   "execution_count": 4,
   "metadata": {
    "nbgrader": {
     "grade": true,
     "grade_id": "cell-690a147764ad96d7",
     "locked": false,
     "points": 0,
     "schema_version": 1,
     "solution": true
    },
    "scrolled": true
   },
   "outputs": [
    {
     "name": "stdout",
     "output_type": "stream",
     "text": [
      "\u001b[0mcore.chemical.GlobalResidueTypeSet: \u001b[0mFinished initializing fa_standard residue type set.  Created 980 residue types\n",
      "\u001b[0mcore.chemical.GlobalResidueTypeSet: \u001b[0mTotal time to initialize 1.35938 seconds.\n",
      "\u001b[0mcore.import_pose.import_pose: \u001b[0mFile 'inputs/stem_loop.pdb' automatically determined to be of type PDB\n",
      "\u001b[0mcore.io.pose_from_sfr.chirality_resolution: \u001b[0mFlipping atom xyz for H5' and H5'' for residue   C\n"
     ]
    }
   ],
   "source": [
    "### BEGIN SOLUTION\n",
    "pose = pose_from_pdb(\"inputs/stem_loop.pdb\")\n",
    "### END SOLUTION"
   ]
  },
  {
   "cell_type": "markdown",
   "metadata": {},
   "source": [
    "Let's explore the structure in this PDB file. First, use `pose.sequence()` to look at the sequence:"
   ]
  },
  {
   "cell_type": "code",
   "execution_count": 5,
   "metadata": {
    "nbgrader": {
     "grade": true,
     "grade_id": "cell-61e3c7efb8ae6b94",
     "locked": false,
     "points": 0,
     "schema_version": 1,
     "solution": true
    },
    "scrolled": true
   },
   "outputs": [
    {
     "data": {
      "text/plain": [
       "'cauccgaaaggaug'"
      ]
     },
     "execution_count": 5,
     "metadata": {},
     "output_type": "execute_result"
    }
   ],
   "source": [
    "# print out the sequence of the pose\n",
    "### BEGIN SOLUTION\n",
    "pose.sequence()\n",
    "### END SOLUTION"
   ]
  },
  {
   "cell_type": "markdown",
   "metadata": {},
   "source": [
    "We can see that the pose seems to contain RNA residues. To check this, let's go through the pose residue by residue, checking if each one is RNA."
   ]
  },
  {
   "cell_type": "code",
   "execution_count": 6,
   "metadata": {},
   "outputs": [
    {
     "name": "stdout",
     "output_type": "stream",
     "text": [
      "True\n",
      "True\n",
      "True\n",
      "True\n",
      "True\n",
      "True\n",
      "True\n",
      "True\n",
      "True\n",
      "True\n",
      "True\n",
      "True\n",
      "True\n",
      "True\n"
     ]
    }
   ],
   "source": [
    "for ii in range(pose.size()):\n",
    "    print(pose.residue_type(5).is_RNA())"
   ]
  },
  {
   "cell_type": "markdown",
   "metadata": {},
   "source": [
    "RNA bases interact with each other via **base pairing**, either through the Watson-Crick base pairs that make up standard A-form helices or through non-canonical base pairing interactions. We can use the `classify_base_pairs` function (this lives in `core:pose:rna` which was loaded above) to find and classify all the base pairs in the current pose. Let's take a look."
   ]
  },
  {
   "cell_type": "code",
   "execution_count": 7,
   "metadata": {},
   "outputs": [
    {
     "name": "stdout",
     "output_type": "stream",
     "text": [
      "\u001b[0mbasic.io.database: \u001b[0mDatabase file opened: scoring/score_functions/hbonds/ref2015_params/HBPoly1D.csv\n",
      "\u001b[0mbasic.io.database: \u001b[0mDatabase file opened: scoring/score_functions/hbonds/ref2015_params/HBFadeIntervals.csv\n",
      "\u001b[0mbasic.io.database: \u001b[0mDatabase file opened: scoring/score_functions/hbonds/ref2015_params/HBEval.csv\n",
      "\u001b[0mbasic.io.database: \u001b[0mDatabase file opened: scoring/score_functions/hbonds/ref2015_params/DonStrength.csv\n",
      "\u001b[0mbasic.io.database: \u001b[0mDatabase file opened: scoring/score_functions/hbonds/ref2015_params/AccStrength.csv\n",
      "1 14 WC WC ANTI\n",
      "2 13 WC WC ANTI\n",
      "3 12 WC WC ANTI\n",
      "4 11 WC WC ANTI\n",
      "5 10 WC WC ANTI\n",
      "6 9 SUGAR HOOG ANTI\n"
     ]
    }
   ],
   "source": [
    "base_pairs = classify_base_pairs(pose)\n",
    "for base_pair in base_pairs:\n",
    "    print(base_pair)"
   ]
  },
  {
   "cell_type": "markdown",
   "metadata": {},
   "source": [
    "We can see that the RNA molecule consists of Watson-Crick base pairs between residues 1-5 and residues 10-14 forming a standard RNA helix. We can also see that residues 6 and 9 form a non-canonical base pair interaction between the sugar and Hoogsteen edges of the respective bases. We can think of this structure as a simple stem-loop, with an idealized A-form helix between residues 1-5 and residues 10-14, and with a tetraloop connecting these chains."
   ]
  },
  {
   "cell_type": "markdown",
   "metadata": {},
   "source": [
    "Let's use some of Rosetta's tools for measuring **distances and torsions** to understand the typical geometry of an idealized A-form helix.\n",
    "\n",
    "What is the distance between the phosphate atoms of two consecutive residues in one strand of a helix? Check this for a couple pairs of residues."
   ]
  },
  {
   "cell_type": "code",
   "execution_count": 8,
   "metadata": {},
   "outputs": [
    {
     "name": "stdout",
     "output_type": "stream",
     "text": [
      "5.923353746008057\n",
      "5.846964169549871\n"
     ]
    }
   ],
   "source": [
    "P1_xyz = pose.residue(1).xyz(\"P\")\n",
    "P2_xyz = pose.residue(2).xyz(\"P\")\n",
    "P3_xyz = pose.residue(3).xyz(\"P\")\n",
    "print((P1_xyz - P2_xyz).norm())\n",
    "print((P2_xyz - P3_xyz).norm())"
   ]
  },
  {
   "cell_type": "markdown",
   "metadata": {},
   "source": [
    "RNA nucleotides are quite large compared to amino acids, with many more torsion angles. In the diagram of a nucleotide below, we can see the backbone torsions applicable to RNA: $\\alpha$, $\\beta$, $\\gamma$, $\\delta$, $\\epsilon$, $\\zeta$, and $\\chi$."
   ]
  },
  {
   "cell_type": "markdown",
   "metadata": {},
   "source": [
    "![nucleotide_torsions](Media/nucleotide_torsions.png)"
   ]
  },
  {
   "cell_type": "markdown",
   "metadata": {},
   "source": [
    "We can access the values of these torsions through the pose object. Just like protein torsions can be accessed with functions like `pose.phi(resid)`, RNA torsions can be accessed with analogous functions like `pose.alpha(resid)`.\n",
    "\n",
    "**Exercise**: Below, make a function that prints out all the torsions for a given residue. Then, using that function, check the torsions for three different residues in the RNA helix. How similar are torsion angles for different residues in an idealized helix?"
   ]
  },
  {
   "cell_type": "code",
   "execution_count": 9,
   "metadata": {},
   "outputs": [],
   "source": [
    "def print_torsions(pose, resi):\n",
    "    print(\"%s: %f\" % (\"alpha\", pose.alpha(resi)))\n",
    "    print(\"%s: %f\" % (\"beta\", pose.beta(resi)))\n",
    "    print(\"%s: %f\" % (\"gamma\", pose.gamma(resi)))\n",
    "    print(\"%s: %f\" % (\"delta\", pose.delta(resi)))\n",
    "    print(\"%s: %f\" % (\"epsilon\", pose.epsilon(resi)))\n",
    "    print(\"%s: %f\" % (\"zeta\", pose.zeta(resi)))\n",
    "    print(\"%s: %f\" % (\"chi\", pose.chi(resi)))"
   ]
  },
  {
   "cell_type": "code",
   "execution_count": 10,
   "metadata": {},
   "outputs": [
    {
     "name": "stdout",
     "output_type": "stream",
     "text": [
      "Torsions for residue 2:\n",
      "alpha: -72.516450\n",
      "beta: 178.544461\n",
      "gamma: 58.327244\n",
      "delta: 79.813633\n",
      "epsilon: -152.375244\n",
      "zeta: -70.561778\n",
      "chi: 74.780524\n",
      "Torsions for residue 3:\n",
      "alpha: -65.899308\n",
      "beta: 173.462004\n",
      "gamma: 56.858161\n",
      "delta: 79.609718\n",
      "epsilon: -152.592269\n",
      "zeta: -70.540365\n",
      "chi: 77.981938\n",
      "Torsions for residue 12:\n",
      "alpha: -67.502850\n",
      "beta: 174.408225\n",
      "gamma: 56.171977\n",
      "delta: 81.812182\n",
      "epsilon: -149.905716\n",
      "zeta: -76.028946\n",
      "chi: 75.291052\n"
     ]
    }
   ],
   "source": [
    "print(\"Torsions for residue 2:\")\n",
    "print_torsions(pose, 2)\n",
    "print(\"Torsions for residue 3:\")\n",
    "print_torsions(pose, 3)\n",
    "print(\"Torsions for residue 12:\")\n",
    "print_torsions(pose, 12)"
   ]
  },
  {
   "cell_type": "markdown",
   "metadata": {},
   "source": [
    "## Scoring RNA poses ##"
   ]
  },
  {
   "cell_type": "markdown",
   "metadata": {},
   "source": [
    "Rosetta's energy functions provide a mechanism to score RNA structures, rewarding realistic conformations using a variety of score terms. In this section, we will see how to score RNA poses, and we will use these score terms to better understand our structure.\n",
    "\n",
    "To score structures with RNA in Rosetta, it is best to use a high-resolution energy function designed to work with RNA, for instance `stepwise/rna/rna_res_level_energy4.wts`. In fact, the standard high resolution energy function used in Rosetta does not include the score terms that are quite helpful for modeling RNA. To see this, we will evaluate our RNA pose with the `ref2015` score function and `stepwise/rna/rna_res_level_energy4.wts`, comparing the resulting score term values."
   ]
  },
  {
   "cell_type": "code",
   "execution_count": 35,
   "metadata": {
    "scrolled": true
   },
   "outputs": [
    {
     "name": "stdout",
     "output_type": "stream",
     "text": [
      "\u001b[0mcore.scoring.etable: \u001b[0mStarting energy table calculation\n",
      "\u001b[0mcore.scoring.etable: \u001b[0msmooth_etable: changing atr/rep split to bottom of energy well\n",
      "\u001b[0mcore.scoring.etable: \u001b[0msmooth_etable: spline smoothing lj etables (maxdis = 6)\n",
      "\u001b[0mcore.scoring.etable: \u001b[0msmooth_etable: spline smoothing solvation etables (max_dis = 6)\n",
      "\u001b[0mcore.scoring.etable: \u001b[0mFinished calculating energy tables.\n",
      "\u001b[0mbasic.io.database: \u001b[0mDatabase file opened: scoring/score_functions/rama/fd/all.ramaProb\n",
      "\u001b[0mbasic.io.database: \u001b[0mDatabase file opened: scoring/score_functions/rama/fd/prepro.ramaProb\n",
      "\u001b[0mbasic.io.database: \u001b[0mDatabase file opened: scoring/score_functions/omega/omega_ppdep.all.txt\n",
      "\u001b[0mbasic.io.database: \u001b[0mDatabase file opened: scoring/score_functions/omega/omega_ppdep.gly.txt\n",
      "\u001b[0mbasic.io.database: \u001b[0mDatabase file opened: scoring/score_functions/omega/omega_ppdep.pro.txt\n",
      "\u001b[0mbasic.io.database: \u001b[0mDatabase file opened: scoring/score_functions/omega/omega_ppdep.valile.txt\n",
      "\u001b[0mbasic.io.database: \u001b[0mDatabase file opened: scoring/score_functions/P_AA_pp/P_AA\n",
      "\u001b[0mbasic.io.database: \u001b[0mDatabase file opened: scoring/score_functions/P_AA_pp/P_AA_n\n",
      "\u001b[0mcore.scoring.P_AA: \u001b[0mshapovalov_lib::shap_p_aa_pp_smooth_level of 1( aka low_smooth ) got activated.\n",
      "\u001b[0mbasic.io.database: \u001b[0mDatabase file opened: scoring/score_functions/P_AA_pp/shapovalov/10deg/kappa131/a20.prop\n"
     ]
    }
   ],
   "source": [
    "hires_sf = core.scoring.ScoreFunctionFactory.create_score_function(\"ref2015\");"
   ]
  },
  {
   "cell_type": "code",
   "execution_count": 36,
   "metadata": {
    "scrolled": true
   },
   "outputs": [
    {
     "name": "stdout",
     "output_type": "stream",
     "text": [
      "\u001b[0mcore.scoring.ScoreFunction: \u001b[0m\n",
      "------------------------------------------------------------\n",
      " Scores                       Weight   Raw Score Wghtd.Score\n",
      "------------------------------------------------------------\n",
      " fa_atr                       1.000    -143.548    -143.548\n",
      " fa_rep                       0.550      25.767      14.172\n",
      " fa_sol                       1.000     178.133     178.133\n",
      " fa_intra_rep                 0.005     128.623       0.643\n",
      " fa_intra_sol_xover4          1.000      49.210      49.210\n",
      " lk_ball_wtd                  1.000     -19.646     -19.646\n",
      " fa_elec                      1.000      -4.847      -4.847\n",
      " pro_close                    1.250       0.000       0.000\n",
      " hbond_sr_bb                  1.000       0.000       0.000\n",
      " hbond_lr_bb                  1.000       0.000       0.000\n",
      " hbond_bb_sc                  1.000      -0.643      -0.643\n",
      " hbond_sc                     1.000      -8.489      -8.489\n",
      " dslf_fa13                    1.250       0.000       0.000\n",
      " omega                        0.400       0.000       0.000\n",
      " fa_dun                       0.700       0.000       0.000\n",
      " p_aa_pp                      0.600       0.000       0.000\n",
      " yhh_planarity                0.625       0.000       0.000\n",
      " ref                          1.000       0.000       0.000\n",
      " rama_prepro                  0.450       0.000       0.000\n",
      "---------------------------------------------------\n",
      " Total weighted score:                       64.986\n"
     ]
    }
   ],
   "source": [
    "hires_sf.show(pose)"
   ]
  },
  {
   "cell_type": "markdown",
   "metadata": {},
   "source": [
    "Note that `ref2015` does contain some terms that are used for RNA modeling like VDW and hydrogen bonding score terms. What extra terms are included in the RNA high resolution score function?"
   ]
  },
  {
   "cell_type": "code",
   "execution_count": 37,
   "metadata": {
    "scrolled": true
   },
   "outputs": [],
   "source": [
    "rna_hires_sf = core.scoring.ScoreFunctionFactory.create_score_function(\"stepwise/rna/rna_res_level_energy4.wts\");"
   ]
  },
  {
   "cell_type": "code",
   "execution_count": 38,
   "metadata": {},
   "outputs": [
    {
     "name": "stdout",
     "output_type": "stream",
     "text": [
      "\u001b[0mcore.scoring.ScoreFunction: \u001b[0m\n",
      "------------------------------------------------------------\n",
      " Scores                       Weight   Raw Score Wghtd.Score\n",
      "------------------------------------------------------------\n",
      " fa_atr                       0.210    -212.486     -44.622\n",
      " fa_rep                       0.200      36.392       7.278\n",
      " fa_intra_rep                 0.003     211.801       0.614\n",
      " lk_nonpolar                  0.250      -5.706      -1.427\n",
      " fa_elec_rna_phos_phos        1.700      -1.064      -1.810\n",
      " rna_torsion                  1.000       5.682       5.682\n",
      " suiteness_bonus              1.000       0.000       0.000\n",
      " rna_sugar_close              0.820       0.770       0.631\n",
      " fa_stack                     0.130    -226.828     -29.488\n",
      " stack_elec                   0.760      -5.919      -4.499\n",
      " geom_sol_fast                0.170      61.291      10.419\n",
      " hbond_sr_bb_sc               0.960      -0.643      -0.617\n",
      " hbond_lr_bb_sc               0.960       0.000       0.000\n",
      " hbond_sc                     0.960      -8.489      -8.149\n",
      " ref                          1.000      50.440      50.440\n",
      " free_suite                   2.000       0.000       0.000\n",
      " free_2HOprime                1.000       0.000       0.000\n",
      " intermol                     1.000       0.000       0.000\n",
      " other_pose                   1.000       0.000       0.000\n",
      " loop_close                   1.000       0.000       0.000\n",
      " linear_chainbreak            5.000       0.000       0.000\n",
      "---------------------------------------------------\n",
      " Total weighted score:                      -15.546\n"
     ]
    }
   ],
   "source": [
    "rna_hires_sf.show(pose)"
   ]
  },
  {
   "cell_type": "markdown",
   "metadata": {},
   "source": [
    "We can see that some new score terms in the high resolution RNA potential, including `rna_torsion`, `suiteness_bonus`, `rna_sugar_close`, and `fa_stack`. We will explore a few of these terms below. To learn about these and other score terms that have been included to more realistically model RNA, check out these papers: "
   ]
  },
  {
   "cell_type": "markdown",
   "metadata": {},
   "source": [
    "Analogous to the protein low-resolution potential, an RNA low-resolution potential has been developed to more quickly score RNA structures represented in centroid mode. Lets take a look at the score terms involved."
   ]
  },
  {
   "cell_type": "code",
   "execution_count": 39,
   "metadata": {
    "scrolled": true
   },
   "outputs": [],
   "source": [
    "rna_lowres_sf = core.scoring.ScoreFunctionFactory.create_score_function(\"rna/denovo/rna_lores_with_rnp_aug.wts\");"
   ]
  },
  {
   "cell_type": "code",
   "execution_count": 40,
   "metadata": {
    "scrolled": false
   },
   "outputs": [
    {
     "name": "stdout",
     "output_type": "stream",
     "text": [
      "\u001b[0mcore.scoring.ScoreFunction: \u001b[0m\n",
      "------------------------------------------------------------\n",
      " Scores                       Weight   Raw Score Wghtd.Score\n",
      "------------------------------------------------------------\n",
      " rna_data_backbone            2.000       0.000       0.000\n",
      " rna_vdw                      2.000       1.753       3.506\n",
      " rnp_vdw                     50.000       0.000       0.000\n",
      " rna_base_backbone            2.000      -5.980     -11.961\n",
      " rna_backbone_backbone        2.000       0.000       0.000\n",
      " rna_repulsive                5.000       0.061       0.304\n",
      " rna_base_pair                2.000     -28.186     -56.372\n",
      " rna_base_axis                0.400      -9.351      -3.740\n",
      " rna_base_stagger             2.000      -4.044      -8.087\n",
      " rna_base_stack               2.000       0.000       0.000\n",
      " rna_base_stack_axis          0.400       0.000       0.000\n",
      " rnp_base_pair                2.000       0.000       0.000\n",
      " rnp_stack                    5.000       0.000       0.000\n",
      " rnp_pair_dist                0.200       0.000       0.000\n",
      " rnp_aa_to_rna_backbone       1.000       0.000       0.000\n",
      " rna_rg                       0.500       8.022       4.011\n",
      " atom_pair_constraint         1.000       0.000       0.000\n",
      " base_pair_constraint         1.000       0.000       0.000\n",
      " linear_chainbreak            8.000       0.000       0.000\n",
      "---------------------------------------------------\n",
      " Total weighted score:                      -72.339\n"
     ]
    }
   ],
   "source": [
    "rna_lowres_sf.show(pose)"
   ]
  },
  {
   "cell_type": "markdown",
   "metadata": {},
   "source": [
    "We can see that when modeling an RNA molecule using centroid positions for nucleotides, we need to separately include terms for base pairing (`rna_base_pair`), base-backbone interactions (`rna_base_backbone`), and so on. "
   ]
  },
  {
   "cell_type": "markdown",
   "metadata": {},
   "source": [
    "Returning to the high resolution RNA score function, let us see if we can decompose the energies further to understand which parts of the structure contribute positively and negatively to its energy. First, we can decompose the energies per residue like below."
   ]
  },
  {
   "cell_type": "code",
   "execution_count": 41,
   "metadata": {},
   "outputs": [
    {
     "name": "stdout",
     "output_type": "stream",
     "text": [
      " fa_atr: -14.4023 fa_rep: 4.67417 fa_intra_atr: -10.5282 fa_intra_rep: 13.0994 fa_intra_sol: 6.12965 fa_intra_atr_nonprotein: -10.5282 fa_intra_rep_nonprotein: 13.0994 fa_intra_sol_nonprotein: 6.12965 lk_nonpolar: -0.607911 fa_elec_rna_phos_phos: -0.097892 rna_torsion: 0.789858 rna_torsion_sc: 0.699603 rna_sugar_close: 0.033771 fa_stack: -12.9687 stack_elec: -1.05115 geom_sol_fast: 4.17629 geom_sol_fast_intra_RNA: 0.429881 hbond_sr_bb_sc: -0.321401 hbond_sc: -0.0773844 ref: 2.82 total_score: -0.890184\n"
     ]
    }
   ],
   "source": [
    "rna_hires_sf(pose)\n",
    "nonzero_scores = pose.energies().residue_total_energies(4).show_nonzero()\n",
    "print(nonzero_scores)"
   ]
  },
  {
   "cell_type": "markdown",
   "metadata": {},
   "source": [
    "A lot of the RNA specific energy terms make more sense when we look at pairs of residues. The energy graph object allows you to explore pairwise energies. The function below uses the energy graph to print out all non-zero scores between residues for a particular score term."
   ]
  },
  {
   "cell_type": "code",
   "execution_count": 42,
   "metadata": {},
   "outputs": [],
   "source": [
    "def print_nonzero_pairwise_energies(pose, energy_term, sf):\n",
    "    sf(pose)\n",
    "    energy_graph = pose.energies().energy_graph()\n",
    "    for ii in range(1, pose.size() + 1):\n",
    "        for jj in range(ii + 1, pose.size() + 1):\n",
    "            edge = energy_graph.find_energy_edge(ii, jj)\n",
    "            if (edge != None):\n",
    "                emap = edge.fill_energy_map()\n",
    "                resid1 = str(ii) + \" \" + pose.residue(ii).name1()\n",
    "                resid2 = str(jj) + \" \" + pose.residue(jj).name1()\n",
    "                resid_pair = resid1 + \" \" + resid2\n",
    "                score = emap[ energy_term ]\n",
    "                if score != 0:\n",
    "                    print(\"%s: %f\" % (resid_pair, score))"
   ]
  },
  {
   "cell_type": "markdown",
   "metadata": {},
   "source": [
    "Using the function above, we're going to look at the stacking energies in the high resolution potential."
   ]
  },
  {
   "cell_type": "code",
   "execution_count": 43,
   "metadata": {
    "scrolled": true
   },
   "outputs": [
    {
     "name": "stdout",
     "output_type": "stream",
     "text": [
      "1 c 2 a: -16.451113\n",
      "1 c 3 u: -0.009178\n",
      "1 c 12 a: -0.607248\n",
      "1 c 13 u: -0.994826\n",
      "2 a 3 u: -17.461226\n",
      "2 a 4 c: -0.080392\n",
      "2 a 11 g: -1.163378\n",
      "2 a 12 a: -0.516092\n",
      "3 u 4 c: -14.451225\n",
      "3 u 5 c: -0.053151\n",
      "3 u 6 g: -0.359144\n",
      "3 u 11 g: -0.441683\n",
      "3 u 12 a: -0.265338\n",
      "4 c 5 c: -6.123487\n",
      "4 c 6 g: -3.780118\n",
      "4 c 10 g: -0.152583\n",
      "4 c 11 g: -1.349600\n",
      "5 c 6 g: -11.242745\n",
      "5 c 8 a: -0.126661\n",
      "5 c 9 a: -1.159588\n",
      "5 c 10 g: -1.778713\n",
      "5 c 11 g: -1.445591\n",
      "6 g 8 a: -0.448459\n",
      "6 g 9 a: -1.665336\n",
      "6 g 10 g: -3.780769\n",
      "6 g 11 g: -2.547230\n",
      "7 a 8 a: -20.368649\n",
      "8 a 9 a: -20.065970\n",
      "9 a 10 g: -22.016733\n",
      "10 g 11 g: -19.865254\n",
      "11 g 12 a: -20.601959\n",
      "12 a 13 u: -18.468119\n",
      "12 a 14 g: -0.022942\n",
      "13 u 14 g: -16.963790\n"
     ]
    }
   ],
   "source": [
    "print_nonzero_pairwise_energies(pose, core.scoring.ScoreType.fa_stack, rna_hires_sf)"
   ]
  },
  {
   "cell_type": "markdown",
   "metadata": {},
   "source": [
    "We can see that the **stacking energies** are highest for consecutive residues. In the idealized helix, the best stacking energy bonuses are given to stacked purines."
   ]
  },
  {
   "cell_type": "markdown",
   "metadata": {},
   "source": [
    "Now lets take a look at the **torsion energies**. Which energies are the highest? Where are these torsions in the structure?"
   ]
  },
  {
   "cell_type": "code",
   "execution_count": 44,
   "metadata": {},
   "outputs": [
    {
     "name": "stdout",
     "output_type": "stream",
     "text": [
      "1 c 2 a: 0.126091\n",
      "2 a 3 u: 0.038852\n",
      "3 u 4 c: 0.019435\n",
      "4 c 5 c: 0.122484\n",
      "5 c 6 g: 0.351609\n",
      "6 g 7 a: 0.468183\n",
      "7 a 8 a: 0.063458\n",
      "8 a 9 a: 0.011509\n",
      "9 a 10 g: 0.064941\n",
      "10 g 11 g: 0.085545\n",
      "11 g 12 a: 0.084511\n",
      "12 a 13 u: 0.055541\n",
      "13 u 14 g: 0.021543\n"
     ]
    }
   ],
   "source": [
    "print_nonzero_pairwise_energies(pose, core.scoring.ScoreType.rna_torsion, rna_hires_sf)"
   ]
  },
  {
   "cell_type": "markdown",
   "metadata": {},
   "source": [
    "RNA structures are often viewed as being composed of small building blocks called **RNA motifs**. These motifs can be as simple as stacks of base pairs, which we have seen above. Typical motifs also include stereotyped loops, junctions, and tertiary contacts present across many common RNA molecules. Let's take a look to see whether any of these common RNA motifs are present in our simple stem loop structure."
   ]
  },
  {
   "cell_type": "code",
   "execution_count": 123,
   "metadata": {},
   "outputs": [
    {
     "name": "stdout",
     "output_type": "stream",
     "text": [
      "\u001b[0mcore.scoring.rna.RNA_LowResolutionPotential: \u001b[0mReading basepair x - y potential file: scoring/rna/rna_base_pair_xy.dat\n",
      "\u001b[0mcore.scoring.rna.RNA_LowResolutionPotential: \u001b[0mFinished reading basepair x - y potential file: scoring/rna/rna_base_pair_xy.dat\n",
      "\u001b[0mcore.scoring.rna.RNA_LowResolutionPotential: \u001b[0mReading non - base - base x - y potential file: scoring/rna/rna_base_backbone_xy.dat\n",
      "\u001b[0mcore.scoring.rna.RNA_LowResolutionPotential: \u001b[0mReading RNA backbone backbone potential file: scoring/rna/rna_backbone_backbone.dat\n",
      "WC_STACKED_PAIR [4, 5, 10, 11]\n",
      "WC_STACKED_PAIR [11, 12, 3, 4]\n",
      "WC_STACKED_PAIR [10, 11, 4, 5]\n",
      "WC_STACKED_PAIR [3, 4, 11, 12]\n",
      "U_TURN [6, 7, 8]\n",
      "\n"
     ]
    }
   ],
   "source": [
    "lowres_potential = core.scoring.rna.RNA_LowResolutionPotential( \"scoring/rna/rna_base_pair_xy.dat\" )\n",
    "rna_scoring_info = core.scoring.rna.rna_scoring_info_from_pose(pose).rna_filtered_base_base_info()\n",
    "rna_motifs = core.scoring.rna.get_rna_motifs( pose, lowres_potential, rna_scoring_info)\n",
    "print(rna_motifs)"
   ]
  },
  {
   "cell_type": "markdown",
   "metadata": {},
   "source": [
    "We can see that our RNA structure includes many stacked Watson-Crick base pair, making the idealized A-form helix. In addition, the loop connecting the strands of the helix in our structure is a stereotyped \"GNRA\" tetraloop, taking a loop conformation that is common across many RNA structures in the PDB."
   ]
  },
  {
   "cell_type": "markdown",
   "metadata": {},
   "source": [
    "## Manipulating RNA poses ##"
   ]
  },
  {
   "cell_type": "markdown",
   "metadata": {},
   "source": [
    "Rosetta allows you to not just explore a given PDB structure, but to manipulate and design structures. In this section, we discuss some basic ways to manipulate RNA structures, and we observe the effects of these manipulations on the structure's energy. For each manipulation, we will make a new copy of the pose to make sure that our changes do not affect the original structure we loaded in."
   ]
  },
  {
   "cell_type": "markdown",
   "metadata": {},
   "source": [
    "One basic manipulation we can make to an RNA structure is to change torsion angles for individual residues. Let's try this out on a residue in the A-form helix, and observe the effect on the rna_torsion score. Did the change we made make the score better or worse?"
   ]
  },
  {
   "cell_type": "code",
   "execution_count": 22,
   "metadata": {},
   "outputs": [
    {
     "name": "stdout",
     "output_type": "stream",
     "text": [
      "Torsion score before: 3.750853\n",
      "Torsion score after: 4.166565\n"
     ]
    }
   ],
   "source": [
    "new_pose = Pose()\n",
    "new_pose.assign(pose)\n",
    "rna_hires_sf(pose)\n",
    "torsion_score_before = pose.energies().total_energies()[core.scoring.ScoreType.rna_torsion]\n",
    "new_pose.set_beta(2, 110)\n",
    "rna_hires_sf(new_pose)\n",
    "torsion_score_after = new_pose.energies().total_energies()[core.scoring.ScoreType.rna_torsion]\n",
    "print(\"%s: %f\" % (\"Torsion score before\", torsion_score_before))\n",
    "print(\"%s: %f\" % (\"Torsion score after\", torsion_score_after))"
   ]
  },
  {
   "cell_type": "markdown",
   "metadata": {},
   "source": [
    "If you want to replace residues in an RNA molecule with their idealized versions, you can use the RNA_IdealCoord class in Rosetta. Below is an example for using that method to first replace a single residue with its idealized version, and then to replace all residues with their idealized versions across the whole pose."
   ]
  },
  {
   "cell_type": "code",
   "execution_count": 23,
   "metadata": {},
   "outputs": [],
   "source": [
    "ideal_pose_one = Pose()\n",
    "ideal_pose_one.assign(pose)\n",
    "resid = 2\n",
    "core.pose.rna.RNA_IdealCoord().apply(ideal_pose_one, resid, core.chemical.rna.PuckerState.ANY_PUCKER, False)\n",
    "\n",
    "ideal_pose = Pose()\n",
    "ideal_pose.assign(pose)\n",
    "core.pose.rna.RNA_IdealCoord().apply(ideal_pose, False)"
   ]
  },
  {
   "cell_type": "markdown",
   "metadata": {},
   "source": [
    "**Exercise**: Figure out if the total energy of the pose went up or down after replacing one or all of the residues with their idealized versions. What can explain the difference?"
   ]
  },
  {
   "cell_type": "code",
   "execution_count": 24,
   "metadata": {
    "scrolled": true
   },
   "outputs": [
    {
     "name": "stdout",
     "output_type": "stream",
     "text": [
      "-18.045673691089746\n",
      "22.634803255900167\n",
      "-1.1025695607202337\n"
     ]
    }
   ],
   "source": [
    "rna_hires_sf(pose)\n",
    "rna_hires_sf(ideal_pose)\n",
    "rna_hires_sf(ideal_pose_one)\n",
    "print(pose.energies().total_energy())\n",
    "print(ideal_pose.energies().total_energy())\n",
    "print(ideal_pose_one.energies().total_energy())"
   ]
  },
  {
   "cell_type": "markdown",
   "metadata": {},
   "source": [
    "Another common manipulation for an RNA structure is to mutate the nucleotides to different bases. This is a manipulation that is commonly used while modeling one RNA structure using coordinates from another homologous (but not identical) structure. Below we can see how to mutate one residue of our RNA structure to another one. We include the `update_full_model_info_from_pose` command to ensure that the pose's internal data is kept up-to-date after the mutation is made."
   ]
  },
  {
   "cell_type": "code",
   "execution_count": 25,
   "metadata": {
    "scrolled": true
   },
   "outputs": [
    {
     "name": "stdout",
     "output_type": "stream",
     "text": [
      "cauccgaaaggaug\n",
      "aauccgaaaggaug\n"
     ]
    }
   ],
   "source": [
    "mutated_pose = Pose()\n",
    "mutated_pose.assign(pose)\n",
    "print(pose.sequence())\n",
    "rosetta.core.pose.rna.mutate_position(mutated_pose, 1, 'a')\n",
    "core.pose.full_model_info.update_full_model_info_from_pose(mutated_pose)\n",
    "print(mutated_pose.sequence())"
   ]
  },
  {
   "cell_type": "markdown",
   "metadata": {},
   "source": [
    "**Exercise**: Make a function that mimics the 'rna_thread' Rosetta application, which takes in a pose and a new sequence and replaces all pose residues with the new sequence's residues. Remember to check that the pose's sequence and the new sequence have the same length. \n",
    "\n",
    "The pose's current sequence is `cauccgaaaggaug`. Use the function you wrote to make a version that has sequence `cauccuucgggaug` and one that has sequence `aaaaagaaauuuuu`."
   ]
  },
  {
   "cell_type": "code",
   "execution_count": 32,
   "metadata": {},
   "outputs": [],
   "source": [
    "def rna_thread(pose, new_seq):\n",
    "    if len(pose.sequence()) != len(new_seq):\n",
    "        print(\"Sequences have different length; cannot rethread\")\n",
    "        return pose\n",
    "    for ii in range(1, pose.size()+1):\n",
    "        rosetta.core.pose.rna.mutate_position(pose, ii, new_seq[ii-1])\n",
    "        core.pose.full_model_info.update_full_model_info_from_pose(pose)\n",
    "    return pose   "
   ]
  },
  {
   "cell_type": "code",
   "execution_count": 33,
   "metadata": {},
   "outputs": [
    {
     "name": "stdout",
     "output_type": "stream",
     "text": [
      "cauccuucgggaug\n",
      "aaaaagaaauuuuu\n"
     ]
    }
   ],
   "source": [
    "uucg_pose = Pose()\n",
    "uucg_pose.assign(pose)\n",
    "uucg_pose = rna_thread(uucg_pose, 'cauccuucgggaug')\n",
    "print(uucg_pose.sequence())\n",
    "\n",
    "auhelix_pose = Pose()\n",
    "auhelix_pose.assign(pose)\n",
    "auhelix_pose = rna_thread(auhelix_pose, 'aaaaagaaauuuuu')\n",
    "print(auhelix_pose.sequence())"
   ]
  },
  {
   "cell_type": "markdown",
   "metadata": {},
   "source": [
    "**Exercise**: The RNA high resolution potential includes hydrogen bonding terms. CG base pairs have more hydrogen bonds than AU base pairs. Compare the original pose with the pose that has all AU base pairs. What happens to the hydrogen bonding energy in the high resolution potential? "
   ]
  },
  {
   "cell_type": "code",
   "execution_count": 34,
   "metadata": {
    "scrolled": true
   },
   "outputs": [
    {
     "ename": "NameError",
     "evalue": "name 'rna_hires_sf' is not defined",
     "output_type": "error",
     "traceback": [
      "\u001b[0;31m---------------------------------------------------------------------------\u001b[0m",
      "\u001b[0;31mNameError\u001b[0m                                 Traceback (most recent call last)",
      "\u001b[0;32m<ipython-input-34-fadca3f4dfa2>\u001b[0m in \u001b[0;36m<module>\u001b[0;34m()\u001b[0m\n\u001b[0;32m----> 1\u001b[0;31m \u001b[0mrna_hires_sf\u001b[0m\u001b[0;34m(\u001b[0m\u001b[0mauhelix_pose\u001b[0m\u001b[0;34m)\u001b[0m\u001b[0;34m\u001b[0m\u001b[0;34m\u001b[0m\u001b[0m\n\u001b[0m\u001b[1;32m      2\u001b[0m \u001b[0mrna_hires_sf\u001b[0m\u001b[0;34m(\u001b[0m\u001b[0mpose\u001b[0m\u001b[0;34m)\u001b[0m\u001b[0;34m\u001b[0m\u001b[0;34m\u001b[0m\u001b[0m\n\u001b[1;32m      3\u001b[0m \u001b[0mauhelix_hbond_sc\u001b[0m \u001b[0;34m=\u001b[0m \u001b[0mauhelix_pose\u001b[0m\u001b[0;34m.\u001b[0m\u001b[0menergies\u001b[0m\u001b[0;34m(\u001b[0m\u001b[0;34m)\u001b[0m\u001b[0;34m.\u001b[0m\u001b[0mtotal_energies\u001b[0m\u001b[0;34m(\u001b[0m\u001b[0;34m)\u001b[0m\u001b[0;34m[\u001b[0m\u001b[0mcore\u001b[0m\u001b[0;34m.\u001b[0m\u001b[0mscoring\u001b[0m\u001b[0;34m.\u001b[0m\u001b[0mScoreType\u001b[0m\u001b[0;34m.\u001b[0m\u001b[0mhbond_sc\u001b[0m\u001b[0;34m]\u001b[0m\u001b[0;34m\u001b[0m\u001b[0;34m\u001b[0m\u001b[0m\n\u001b[1;32m      4\u001b[0m \u001b[0mpose_hbond_sc\u001b[0m \u001b[0;34m=\u001b[0m \u001b[0mpose\u001b[0m\u001b[0;34m.\u001b[0m\u001b[0menergies\u001b[0m\u001b[0;34m(\u001b[0m\u001b[0;34m)\u001b[0m\u001b[0;34m.\u001b[0m\u001b[0mtotal_energies\u001b[0m\u001b[0;34m(\u001b[0m\u001b[0;34m)\u001b[0m\u001b[0;34m[\u001b[0m\u001b[0mcore\u001b[0m\u001b[0;34m.\u001b[0m\u001b[0mscoring\u001b[0m\u001b[0;34m.\u001b[0m\u001b[0mScoreType\u001b[0m\u001b[0;34m.\u001b[0m\u001b[0mhbond_sc\u001b[0m\u001b[0;34m]\u001b[0m\u001b[0;34m\u001b[0m\u001b[0;34m\u001b[0m\u001b[0m\n\u001b[1;32m      5\u001b[0m \u001b[0mprint\u001b[0m\u001b[0;34m(\u001b[0m\u001b[0;34m'%s: %f'\u001b[0m \u001b[0;34m%\u001b[0m \u001b[0;34m(\u001b[0m\u001b[0;34m\"AU Helix\"\u001b[0m\u001b[0;34m,\u001b[0m \u001b[0mauhelix_hbond_sc\u001b[0m\u001b[0;34m)\u001b[0m\u001b[0;34m)\u001b[0m\u001b[0;34m\u001b[0m\u001b[0;34m\u001b[0m\u001b[0m\n",
      "\u001b[0;31mNameError\u001b[0m: name 'rna_hires_sf' is not defined"
     ]
    }
   ],
   "source": [
    "rna_hires_sf(auhelix_pose)\n",
    "rna_hires_sf(pose)\n",
    "auhelix_hbond_sc = auhelix_pose.energies().total_energies()[core.scoring.ScoreType.hbond_sc]\n",
    "pose_hbond_sc = pose.energies().total_energies()[core.scoring.ScoreType.hbond_sc]\n",
    "print('%s: %f' % (\"AU Helix\", auhelix_hbond_sc))\n",
    "print('%s: %f' % (\"CG Helix\", pose_hbond_sc))"
   ]
  },
  {
   "cell_type": "markdown",
   "metadata": {},
   "source": [
    "**Exercise**: The stacking energies of the GAAA and UUCG tetraloops differ from each other. Which tetraloop provides the most favorable stacking energies overall? Can you figure out which pairs of residues have different stacking energies when the structure has changed? "
   ]
  },
  {
   "cell_type": "code",
   "execution_count": 29,
   "metadata": {},
   "outputs": [
    {
     "name": "stdout",
     "output_type": "stream",
     "text": [
      "UUCG Loop: -214.060807\n",
      "GAAA Loop: -234.442137\n"
     ]
    }
   ],
   "source": [
    "rna_hires_sf(uucg_pose)\n",
    "rna_hires_sf(pose)\n",
    "uucg_fa_stack = uucg_pose.energies().total_energies()[core.scoring.ScoreType.fa_stack]\n",
    "pose_fa_stack = pose.energies().total_energies()[core.scoring.ScoreType.fa_stack]\n",
    "print('%s: %f' % (\"UUCG Loop\", uucg_fa_stack))\n",
    "print('%s: %f' % (\"GAAA Loop\", pose_fa_stack))"
   ]
  },
  {
   "cell_type": "code",
   "execution_count": 30,
   "metadata": {},
   "outputs": [
    {
     "name": "stdout",
     "output_type": "stream",
     "text": [
      "4 c, 6 g: -0.042999; 4 c, 6 u: -0.020146\n",
      "5 c, 6 g: -14.998700; 5 c, 6 u: -14.424303\n",
      "5 c, 9 a: -0.055888; 5 c, 9 g: -0.040952\n",
      "6 g, 8 a: -1.056694; 6 u, 8 c: -0.798130\n",
      "6 g, 9 a: -0.381851; 6 u, 9 g: -0.142689\n",
      "6 g, 10 g: -11.820445; 6 u, 10 g: -5.138552\n",
      "7 a, 8 a: -21.526270; 7 u, 8 c: -14.881668\n",
      "8 a, 9 a: -22.045880; 8 c, 9 g: -16.479345\n",
      "9 a, 10 g: -13.441684; 9 g, 10 g: -13.063297\n"
     ]
    }
   ],
   "source": [
    "rna_hires_sf(uucg_pose)\n",
    "rna_hires_sf(pose)\n",
    "pose_energy_graph = pose.energies().energy_graph()\n",
    "uucg_energy_graph = uucg_pose.energies().energy_graph()\n",
    "for ii in range(1, pose.size() + 1):\n",
    "    for jj in range(ii + 1, pose.size() + 1):\n",
    "        pose_edge = pose_energy_graph.find_energy_edge(ii, jj)\n",
    "        uucg_edge = uucg_energy_graph.find_energy_edge(ii, jj)\n",
    "        if (pose_edge != None)  and (uucg_edge != None):\n",
    "            pose_emap = pose_edge.fill_energy_map()\n",
    "            uucg_emap = uucg_edge.fill_energy_map()\n",
    "            resid1 = str(ii) + \" \" + pose.residue(ii).name1()\n",
    "            resid1_uucg = str(ii) + \" \" + uucg_pose.residue(ii).name1()\n",
    "            resid2 = str(jj) + \" \" + pose.residue(jj).name1() \n",
    "            resid2_uucg = str(jj) + \" \" + uucg_pose.residue(jj).name1()\n",
    "            resid_pair = resid1 + \", \" + resid2\n",
    "            resid_pair_uucg = resid1_uucg + \", \" + resid2_uucg\n",
    "            pose_score = pose_emap[ core.scoring.ScoreType.fa_stack ]\n",
    "            uucg_score = uucg_emap[ core.scoring.ScoreType.fa_stack ]\n",
    "            if pose_score != uucg_score:\n",
    "                print(\"%s: %f; %s: %f\" % (resid_pair, pose_score, resid_pair_uucg, uucg_score))"
   ]
  },
  {
   "cell_type": "markdown",
   "metadata": {},
   "source": [
    "## Elements of RNA Structure Prediction"
   ]
  },
  {
   "cell_type": "markdown",
   "metadata": {},
   "source": [
    "Many of the same strategies are used when modeling RNA as when modeling proteins. Below, we shall explore some of these procedures specifically applied to RNA molecules to appreciate how they may come together to give a modern structure prediction method."
   ]
  },
  {
   "cell_type": "markdown",
   "metadata": {},
   "source": [
    "### Generating an ideal A-form Helix"
   ]
  },
  {
   "cell_type": "markdown",
   "metadata": {},
   "source": [
    "On a not wholly unrelated tangent, let us first see how we can quickly generate poses of ideal A-form RNA. You can think of this procedure as analogous to the `pose_from_seq` function used to generate protein poses from primary sequences. Let's use it now to generate a single-strand RNA pose with A-form torsions and the same sequence as the hairpin we've been examining so far.\n",
    "\n",
    "```python\n",
    "assembler = core.import_pose.RNA_HelixAssembler()\n",
    "assembled_pose = assembler.build_init_pose(pose.sequence(), '')\n",
    "```\n",
    "\n"
   ]
  },
  {
   "cell_type": "code",
   "execution_count": 127,
   "metadata": {},
   "outputs": [],
   "source": [
    "### BEGIN SOLUTION\n",
    "assembler = core.import_pose.RNA_HelixAssembler()\n",
    "assembled_pose = assembler.build_init_pose(pose.sequence(), '')\n",
    "### END SOLUTION"
   ]
  },
  {
   "cell_type": "markdown",
   "metadata": {},
   "source": [
    "Let's get a `PyMOLMover` up and running so we can examine our new pose."
   ]
  },
  {
   "cell_type": "code",
   "execution_count": 128,
   "metadata": {},
   "outputs": [],
   "source": [
    "pmm = PyMOLMover()\n",
    "pmm.apply(assembled_pose)"
   ]
  },
  {
   "cell_type": "markdown",
   "metadata": {},
   "source": [
    "You can also use `RNA_HelixAssmebler` to generate poses that comprise two strands that form an ideal A-form helical stack, like residues 1-5 and 10-14 in the hairpin from above."
   ]
  },
  {
   "cell_type": "code",
   "execution_count": 129,
   "metadata": {},
   "outputs": [],
   "source": [
    "helix_pose = assembler.build_init_pose('ggg','ccc')"
   ]
  },
  {
   "cell_type": "markdown",
   "metadata": {},
   "source": [
    "Looking in PyMOL, you may be able to appreciate that, true to its name, the `RNA_HelixAssembler` has generated a pose that looks quite helical."
   ]
  },
  {
   "cell_type": "code",
   "execution_count": 130,
   "metadata": {},
   "outputs": [],
   "source": [
    "pmm.apply(helix_pose)"
   ]
  },
  {
   "cell_type": "markdown",
   "metadata": {},
   "source": [
    "**Exercise**: Examine the torsions in several of the residues of `assembled_pose` using the `print_torsions` function you wrote earlier. How do they compare to the torsions from the starting stem loop?"
   ]
  },
  {
   "cell_type": "markdown",
   "metadata": {},
   "source": [
    "### RNA Fragments"
   ]
  },
  {
   "cell_type": "markdown",
   "metadata": {},
   "source": [
    "Given a library of RNA torsions excised from a published structure, fragment assembly methods will choose an n-mer in the current structure and replace the backbone geometry with the geometry of a corresponding n-mer from the library. Those of you familiar with protein structure prediction methods will recognize this stragety of fragment assembly.\n",
    "\n",
    "We will implement a rudimentary version of this protocol for RNA below."
   ]
  },
  {
   "cell_type": "markdown",
   "metadata": {},
   "source": [
    "For the present exercise, we will use the torsions file `inputs/1jj2.torsions`, which comes from the crystal structure of a large ribosomal subunit. This library will be used to initialize a `Mover` specifically designed to perform fragment assembly on RNA molecules, `RNA_FragmentMover`.\n",
    "```python\n",
    "fragset = core.import_pose.libraries.RNA_LibraryManager.get_instance().rna_fragment_library(\"inputs/1jj2.torsions\")\n",
    "atom_level_domain_map = core.pose.toolbox.AtomLevelDomainMap(assembled_pose)\n",
    "frag_mover = protocols.rna.denovo.movers.RNA_FragmentMover(fragset, atom_level_domain_map, 1, 0)\n",
    "```\n",
    "Don't worry too much about the other options that `RNA_FragmentMover`  requires at this point, but remember to include them if using this mover outside of this notebook."
   ]
  },
  {
   "cell_type": "code",
   "execution_count": 131,
   "metadata": {},
   "outputs": [],
   "source": [
    "### BEGIN SOLUTION\n",
    "fragset = core.import_pose.libraries.RNA_LibraryManager.get_instance().rna_fragment_library(\"inputs/1jj2.torsions\")\n",
    "atom_level_domain_map = core.pose.toolbox.AtomLevelDomainMap(assembled_pose)\n",
    "frag_mover = protocols.rna.denovo.movers.RNA_FragmentMover(fragset, atom_level_domain_map, 1, 0)\n",
    "### END SOLUTION"
   ]
  },
  {
   "cell_type": "markdown",
   "metadata": {},
   "source": [
    "Let's practice applying this mover to a `Pose`. To actually make a fragment assembly move, you can call the `random_fragment_insertion` method which requires two arguments:\n",
    "\n",
    "1. An input `Pose`\n",
    "2. The size of the fragment to substitute.\n",
    "\n",
    "There is also an `apply()` method that can be called in a similar manner, but it simply calls `random_fragment_insertion()`, so the recommendation is to decrease overhead by calling `random_fragment_insertion()` where possible.\n",
    "\n",
    "Let's pratice calling this method below.\n",
    "```python\n",
    "practice_pose = Pose()\n",
    "practice_pose.assign(assembled_pose)\n",
    "frag_mover.random_fragment_insertion(practice_pose, 3)\n",
    "pmm.apply(practice_pose)\n",
    "```\n"
   ]
  },
  {
   "cell_type": "code",
   "execution_count": 149,
   "metadata": {},
   "outputs": [],
   "source": [
    "### BEGIN SOLUTION\n",
    "practice_pose = Pose()\n",
    "practice_pose.assign(assembled_pose)\n",
    "frag_mover.random_fragment_insertion(practice_pose, 3)\n",
    "pmm.apply(practice_pose)\n",
    "### END SOLUTION"
   ]
  },
  {
   "cell_type": "markdown",
   "metadata": {},
   "source": [
    "Now that we know how to set up a fragment assembly mover in PyRosetta, try the excise below to write a quick folding routine that uses a fragment assembly strategy to try and fold the hairpin sequence. "
   ]
  },
  {
   "cell_type": "markdown",
   "metadata": {},
   "source": [
    "**Exercise**: Fill in the function below such that `fragment_assembly`\n",
    "* Accepts an input `Pose`, `RNA_FragmentMover`, fragment size to substitute (`frag_size`), and number of trials (`n_trials`).\n",
    "* Uses by default the `rna_lowres_sf` energy function from earlier but allows the user to specify a different energy function, if desired\n",
    "* Performs a fragment substitution and accepts the substitution subject to the Metropolis criterion (assume $kT = 1$)\n",
    "* Returns the lowest-energy pose found.\n",
    "\n",
    "\\* See section 4.1 of these notebooks for a review on Monte Carlo algorithms, if desired. \n",
    "\n",
    "Then, apply it to our newly assembled pose using the following recipe:\n",
    "\n",
    "1. Run `fragment_assembly` using 3 nucleotide fragments for 400 trials. \n",
    "2. Then, run `fragment_assembly` using 2 nucleotide fragments for 300 trials.\n",
    "3. Finally, run `fragment_assembly` using 1 nucleotide fragments for 300 trials."
   ]
  },
  {
   "cell_type": "code",
   "execution_count": 150,
   "metadata": {},
   "outputs": [],
   "source": [
    "# This is a complete solution, but the idea is that students would fill in the bit between the two solutions lines.\n",
    "# Not sure if this is feasible (let alone desireable from a pedagogical point of view) --Matt\n",
    "import math\n",
    "import random\n",
    "\n",
    "def fragment_assembly(start_pose, frag_mover, frag_size, n_trials, sf=rna_lowres_sf):\n",
    "    curr_pose = Pose()\n",
    "    curr_pose.assign(start_pose)\n",
    "    trial_pose = Pose()\n",
    "    trial_pose.assign(curr_pose)\n",
    "    opt_pose = Pose()\n",
    "    opt_pose.assign(curr_pose)\n",
    "    currE = newE = optE = sf(curr_pose)\n",
    "    ### BEGIN SOLUTION\n",
    "    for _ in range(n_trials):\n",
    "        frag_mover.random_fragment_insertion(trial_pose, frag_size)\n",
    "        newE = sf(trial_pose)\n",
    "        if random.random() < math.exp(currE-newE):\n",
    "            curr_pose.assign(trial_pose)\n",
    "            currE = newE\n",
    "            if currE < optE:\n",
    "                optE = currE\n",
    "                opt_pose.assign(curr_pose)\n",
    "    ### END SOLUTION\n",
    "    return curr_pose\n",
    "\n",
    "frag_pose = fragment_assembly(assembled_pose, frag_mover, 3, 400)\n",
    "frag_pose = fragment_assembly(frag_pose, frag_mover, 2, 300)\n",
    "frag_pose = fragment_assembly(frag_pose, frag_mover, 1, 300)"
   ]
  },
  {
   "cell_type": "markdown",
   "metadata": {},
   "source": [
    "Examine the fragment assembled `Pose` in PyMOL. Do you recognize any of the motifs from before?\n",
    "```python\n",
    "pmm.apply(frag_pose)\n",
    "```\n"
   ]
  },
  {
   "cell_type": "code",
   "execution_count": 151,
   "metadata": {},
   "outputs": [],
   "source": [
    "### BEGIN SOLUTION\n",
    "pmm.apply(frag_pose)\n",
    "### END SOLUTION"
   ]
  },
  {
   "cell_type": "markdown",
   "metadata": {},
   "source": [
    "### Minimizing Structures with RNA"
   ]
  },
  {
   "cell_type": "markdown",
   "metadata": {},
   "source": [
    "In principle, the standard `MinMover` that has been introduced previously in the context of minimizing purely protein structures can also be used to minimize poses with RNA (as long as the assigned energy function has score terms relevant to RNA and an appropriate `MoveMap` is provided).\n",
    "\n",
    "However, as part of the `rna_denovo` protocol, Das and coworkers have developed a subroutine, `RNA_Minimize`, that is specifically geared toward handling minimization of poses with RNA, the use of which is detailed below.\n",
    "\n",
    "TODO(?) (for Matt): Add demonstration of usual `MinMover` on RNA structure? This may be worth doing because need to be careful about how the `MoveMap` is set up etc."
   ]
  },
  {
   "cell_type": "markdown",
   "metadata": {},
   "source": [
    "We can access the `RNA_Minimize` mover from the `protocols` namespace. The relevant options object, `RNA_MinimizerOptions`, lives in the `import_pose.options` namespace. We will use the default options save setting the maximum number of iterations to 1000.\n",
    "```python\n",
    "rna_min_options = core.import_pose.options.RNA_MinimizerOptions()\n",
    "rna_min_options.set_max_iter(1000)\n",
    "rna_minmizer = protocols.rna.denovo.movers.RNA_Minimizer(rna_min_options)\n",
    "```"
   ]
  },
  {
   "cell_type": "code",
   "execution_count": 152,
   "metadata": {},
   "outputs": [],
   "source": [
    "### BEGIN SOLUTION\n",
    "rna_min_options = core.import_pose.options.RNA_MinimizerOptions()\n",
    "rna_min_options.set_max_iter(1000)\n",
    "rna_minmizer = protocols.rna.denovo.movers.RNA_Minimizer(rna_min_options)\n",
    "### END SOLUTION"
   ]
  },
  {
   "cell_type": "markdown",
   "metadata": {},
   "source": [
    "Unlike in the case of using `MinMover`, things like an appropriate energy function and `MoveMap` are generated by default by the `RNA_Minimizer` object. By default, `RNA_Minimizer` uses the same high-resolution energy function as above (`stepwise/rna/rna_res_level_energy4.wts`).\n",
    "\n",
    "All that remains is to apply it to the relevant pose.\n",
    "```python\n",
    "rna_minimizer.apply(frag_pose)\n",
    "```"
   ]
  },
  {
   "cell_type": "code",
   "execution_count": 153,
   "metadata": {},
   "outputs": [
    {
     "name": "stdout",
     "output_type": "stream",
     "text": [
      "\u001b[0mprotocols.rna.denovo.movers.RNA_Minimizer: \u001b[0mOrienting 2' hydroxyls...\n",
      "\u001b[0mprotocols.rna.denovo.movers.RNA_Minimizer: \u001b[0mMinimizing...round= 1\n",
      "\u001b[0mprotocols.rna.denovo.movers.RNA_Minimizer: \u001b[0mOrienting 2' hydroxyls...\n",
      "\u001b[0mprotocols.rna.denovo.movers.RNA_Minimizer: \u001b[0mMinimizing...round= 2\n",
      "\u001b[0mprotocols.rna.denovo.movers.RNA_Minimizer: \u001b[0m\n",
      "------------------------------------------------------------\n",
      " Scores                       Weight   Raw Score Wghtd.Score\n",
      "------------------------------------------------------------\n",
      " fa_atr                       0.210    -205.344     -43.122\n",
      " fa_rep                       0.200      33.693       6.739\n",
      " fa_intra_rep                 0.003     170.729       0.495\n",
      " lk_nonpolar                  0.250      -4.344      -1.086\n",
      " fa_elec_rna_phos_phos        1.700      -0.780      -1.326\n",
      " rna_torsion                  1.000       6.365       6.365\n",
      " suiteness_bonus              1.000       0.000       0.000\n",
      " rna_sugar_close              0.820       0.833       0.683\n",
      " fa_stack                     0.130    -239.260     -31.104\n",
      " stack_elec                   0.760      -5.968      -4.536\n",
      " geom_sol_fast                0.170      54.404       9.249\n",
      " hbond_sr_bb_sc               0.960      -0.506      -0.486\n",
      " hbond_lr_bb_sc               0.960      -0.514      -0.493\n",
      " hbond_sc                     0.960      -6.290      -6.038\n",
      " ref                          1.000      50.440      50.440\n",
      " free_suite                   2.000       0.000       0.000\n",
      " free_2HOprime                1.000       0.000       0.000\n",
      " intermol                     1.000       0.000       0.000\n",
      " other_pose                   1.000       0.000       0.000\n",
      " loop_close                   1.000       0.000       0.000\n",
      " linear_chainbreak            5.000       0.000       0.000\n",
      "---------------------------------------------------\n",
      " Total weighted score:                      -14.221\n",
      "\u001b[0mprotocols.rna.denovo.movers.RNA_Minimizer: \u001b[0mRNA minimizer finished in 14 seconds.\n"
     ]
    }
   ],
   "source": [
    "### BEGIN SOLUTION\n",
    "rna_minmizer.apply(frag_pose)\n",
    "### END SOLUTION"
   ]
  },
  {
   "cell_type": "markdown",
   "metadata": {},
   "source": [
    "Let's see what changes minimization has wrought on our structure:\n",
    "```python\n",
    "pmm.apply(frag_pose)\n",
    "```"
   ]
  },
  {
   "cell_type": "code",
   "execution_count": 154,
   "metadata": {},
   "outputs": [],
   "source": [
    "### BEGIN SOLUTION\n",
    "pmm.apply(frag_pose)\n",
    "### END SOLUTION"
   ]
  },
  {
   "cell_type": "markdown",
   "metadata": {},
   "source": [
    "**Exercise**: Using the functions described in the first part of the notebook, report on the following with respect to our de novo folded sequence:\n",
    "1. Which base pairs, if any, were recovered?\n",
    "2. Which motifs, if any, were recovered?\n"
   ]
  },
  {
   "cell_type": "markdown",
   "metadata": {},
   "source": [
    "TODO (for Matt): Fill in solution to above exercise, calling `classify_base_pairs` and `get_rna_motifs` as appropriate"
   ]
  },
  {
   "cell_type": "markdown",
   "metadata": {},
   "source": [
    "## Additional Exercises"
   ]
  },
  {
   "cell_type": "markdown",
   "metadata": {},
   "source": [
    "### Post-mortem"
   ]
  },
  {
   "cell_type": "markdown",
   "metadata": {},
   "source": [
    "Examine our final folded structure and the hairpin from the first part of the tutorial and think about the following questions:\n",
    "* How well did our brief structure prediction algorithm do at recovering the hairpin we examined at the beginning? \n",
    "* Which parts were more successfully recovered? Which parts less so? Why might this be? \n",
    "* What would you do to improve on this method as it stands? Feel free to implement any ideas you have."
   ]
  },
  {
   "cell_type": "markdown",
   "metadata": {},
   "source": [
    "### FAR + FAR = FARFAR"
   ]
  },
  {
   "cell_type": "markdown",
   "metadata": {},
   "source": [
    "Write a function analogous to the `fragment_assembly` function above that \n",
    "* Accepts an input `Pose`\n",
    "* Performs a round of minimzation using an `RNA_Minimizer`\n",
    "* Returns the minimized structure\n",
    "\n",
    "Using this new suboutine, craft your own `farfar` ( [Fragment Assembly of RNA with Full Atom Refinement](https://www.rosettacommons.org/docs/latest/application_documentation/rna/rna-denovo)) routine that performs multiple rounds of fragment assembly in a low-resolution potential followed by minimization in a high-resolution energy function. \n",
    "\n",
    "Try playing around with the various parameters and see how well you can recover the hairpin starting from just the sequence.\n"
   ]
  }
 ],
 "metadata": {
  "celltoolbar": "Create Assignment",
  "kernelspec": {
   "display_name": "Python 3",
   "language": "python",
   "name": "python3"
  },
  "language_info": {
   "codemirror_mode": {
    "name": "ipython",
    "version": 3
   },
   "file_extension": ".py",
   "mimetype": "text/x-python",
   "name": "python",
   "nbconvert_exporter": "python",
   "pygments_lexer": "ipython3",
   "version": "3.6.8"
  },
  "toc": {
   "base_numbering": 1,
   "nav_menu": {},
   "number_sections": true,
   "sideBar": true,
   "skip_h1_title": false,
   "title_cell": "Table of Contents",
   "title_sidebar": "Contents",
   "toc_cell": false,
   "toc_position": {
    "height": "470px",
    "left": "48px",
    "top": "110px",
    "width": "267.984px"
   },
   "toc_section_display": true,
   "toc_window_display": true
  }
 },
 "nbformat": 4,
 "nbformat_minor": 2
}

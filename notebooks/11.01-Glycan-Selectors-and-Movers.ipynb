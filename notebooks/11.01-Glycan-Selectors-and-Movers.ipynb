{
 "cells": [
  {
   "cell_type": "markdown",
   "metadata": {},
   "source": [
    "<!--NOTEBOOK_HEADER-->\n",
    "*This notebook contains material from [PyRosetta](https://RosettaCommons.github.io/PyRosetta);\n",
    "content is available [on Github](https://github.com/RosettaCommons/PyRosetta.notebooks.git).*"
   ]
  },
  {
   "cell_type": "markdown",
   "metadata": {},
   "source": [
    "<!--NAVIGATION-->\n",
    "< [Side Chain Conformations and Dunbrack Energies](http://nbviewer.jupyter.org/github/RosettaCommons/PyRosetta.notebooks/blob/master/notebooks/06.01-Side-Chain-Conformations-and-Dunbrack-Energies.ipynb) | [Contents](toc.ipynb) | [Index](index.ipynb) | [Protein Design with a Resfile and FastRelax](http://nbviewer.jupyter.org/github/RosettaCommons/PyRosetta.notebooks/blob/master/notebooks/06.03-Design-with-a-resfile-and-relax.ipynb) ><p><a href=\"https://colab.research.google.com/github/RosettaCommons/PyRosetta.notebooks/blob/master/notebooks/06.02-Packing-design-and-regional-relax.ipynb\"><img align=\"left\" src=\"https://colab.research.google.com/assets/colab-badge.svg\" alt=\"Open in Colab\" title=\"Open in Google Colaboratory\"></a>"
   ]
  },
  {
   "cell_type": "markdown",
   "metadata": {},
   "source": [
    "# RosettaCarbohydrates: Trees, Selectors and Movers\n",
    "Keywords: carbohydrate, glycan, glucose, mannose, sugar, ResidueSelector, Mover\n",
    "\n",
    "## Overview\n",
    "Here, we will cover useful `ResidueSelectors` and `Movers` available in the RosettaCarbohdyrate framework.  All of these framework components form the basis for the tools you will use in the next tutorial, Glycan Modeling and Design."
   ]
  },
  {
   "cell_type": "markdown",
   "metadata": {},
   "source": [
    "**Make sure you are in the directory with the pdb files:**\n",
    "\n",
    "`cd google_drive/My\\ Drive/student-notebooks/`"
   ]
  },
  {
   "cell_type": "markdown",
   "metadata": {},
   "source": [
    "## Imports\n",
    "\n",
    "Before we begin, we must import some specific machinery from Rosetta.  Much of these tools are automatically imported when we do `from pyrosetta import *`, however, some are not. You should get into the habit of importing everything you need.  This will get you comfortable with the organization of Rosetta and make it easier to find tools that are beyond the scope of these workshops."
   ]
  },
  {
   "cell_type": "code",
   "execution_count": null,
   "metadata": {},
   "outputs": [],
   "source": [
    "# Notebook setup\n",
    "import sys\n",
    "if 'google.colab' in sys.modules:\n",
    "    !pip install pyrosettacolabsetup\n",
    "    import pyrosettacolabsetup\n",
    "    pyrosettacolabsetup.setup()\n",
    "    print (\"Notebook is set for PyRosetta use in Colab.  Have fun!\")"
   ]
  },
  {
   "cell_type": "code",
   "execution_count": 2,
   "metadata": {},
   "outputs": [],
   "source": [
    "#Python\n",
    "from __future__ import print_function\n",
    "from pyrosetta import *\n",
    "from pyrosetta.rosetta import *\n",
    "from pyrosetta.teaching import *\n"
   ]
  },
  {
   "cell_type": "markdown",
   "metadata": {},
   "source": [
    "## Intitlialization \n",
    "\n",
    "Here, we will be opening a PDB file with glycans, so we will use `-include_sugars` and a few other options that allow us to read (most) PDB files without issue. It is always a good idea to use the `GlycanInfoMover` to double check that the glycans you are interested in are properly represented by Rosetta.  If they are not, post the issue in the Rosetta forums.\n",
    "\n",
    "Once again, more information on working with glycans can be found at this page: [Working With Glycans](https://www.rosettacommons.org/docs/latest/application_documentation/carbohydrates/WorkingWithGlycans)\n",
    "\n",
    "### PDB vs Rosetta sugar format\n",
    "\n",
    "Unfortunately, there are few standards in the PDB for how saccharide residues in `.pdb` files should be numbered and named. The Rosetta code — with the appropriate flags initialization flags, such as `-alternate_3_letter_codes pdb_sugar` tries its best to interpret `.pdb` files with sugars, but because of ambiguity and inconsistency, success is in no way ensured.  See http://www.rosettacommons.org/docs/latest/rosetta_basics/preparation/Preparing-PDB-files-for-non-peptide-polymers for more info\n",
    "\n",
    "\n",
    "To guarantee that one can model the specific saccharide system desired unabiguously, Rosetta uses a slightly modified `.pdb` format for importing carbohydrate residues. The key difference in formats involves the `HETNAM` record of the PDB format. The standard PDB `HETNAM` record line:</p>\n",
    "\n",
    "```HETNAM     GLC ALPHA-D-GLUCOSE```\n",
    "\n",
    "...means that all `GLC` 3-letter codes in the <em>entire file</em> are α-<font style=\"font-variant: small-caps\">d</font>-glucose, which is insufficient, as this \n",
    "could mean several different α-<font style=\"font-variant: small-caps\">d</font>-glucoses, depending on the ring form and on the main-chain connectivity of the glycan — and \n",
    "many, many more if one includes modified sugars! The modified Rosetta-ready PDB `HETNAM` \n",
    "record line:</p>\n",
    "\n",
    "```HETNAM     Glc A   1  ->4)-alpha-D-Glcp```\n",
    "\n",
    "...means that the `GLC` residue <em>specifically at position A1</em> requires the `->4)-alpha-D-Glcp` `ResidueType` or any of its `VariantType`s. (Note also that Rosetta uses sentence case 3-letter-codes for sugars.)</p>\n",
    "\n",
    "Rosetta will output and input with this default format. \n",
    "We use `-alternate_3_letter_codes pdb_sugar` to read in the PDB-format sugar and `-write_glycan_pdb_codes` to output the PDB format since we will be working with a structure directly from the PDB.\n",
    "\n",
    "\n",
    "\n"
   ]
  },
  {
   "cell_type": "code",
   "execution_count": 3,
   "metadata": {},
   "outputs": [],
   "source": [
    "options = \"\"\"\n",
    "-ignore_unrecognized_res\n",
    "-include_sugars\n",
    "-auto_detect_glycan_connections\n",
    "-maintain_links \n",
    "-alternate_3_letter_codes pdb_sugar\n",
    "-write_glycan_pdb_codes\n",
    "-ignore_zero_occupancy false \n",
    "-load_PDB_components false\n",
    "-no_fconfig\n",
    "\"\"\""
   ]
  },
  {
   "cell_type": "code",
   "execution_count": 4,
   "metadata": {},
   "outputs": [
    {
     "name": "stdout",
     "output_type": "stream",
     "text": [
      "PyRosetta-4 2019 [Rosetta PyRosetta4.Release.python36.mac 2019.39+release.93456a567a8125cafdf7f8cb44400bc20b570d81 2019-09-26T14:24:44] retrieved from: http://www.pyrosetta.org\n",
      "(C) Copyright Rosetta Commons Member Institutions. Created in JHU by Sergey Lyskov and PyRosetta Team.\n",
      "\u001b[0mcore.init: \u001b[0mRosetta version: PyRosetta4.Release.python36.mac r233 2019.39+release.93456a567a8 93456a567a8125cafdf7f8cb44400bc20b570d81 http://www.pyrosetta.org 2019-09-26T14:24:44\n",
      "\u001b[0mcore.init: \u001b[0mcommand: PyRosetta -ignore_unrecognized_res -include_sugars -auto_detect_glycan_connections -maintain_links -alternate_3_letter_codes pdb_sugar -write_glycan_pdb_codes -ignore_zero_occupancy false -load_PDB_components false -no_fconfig -database /Users/jadolfbr/Library/Python/3.6/lib/python/site-packages/pyrosetta-2019.39+release.93456a567a8-py3.6-macosx-10.6-intel.egg/pyrosetta/database\n",
      "\u001b[0mbasic.random.init_random_generator: \u001b[0m'RNG device' seed mode, using '/dev/urandom', seed=-535540840 seed_offset=0 real_seed=-535540840\n",
      "\u001b[0mbasic.random.init_random_generator: \u001b[0mRandomGenerator:init: Normal mode, seed=-535540840 RG_type=mt19937\n"
     ]
    }
   ],
   "source": [
    "init(\" \".join(options.split('\\n')))"
   ]
  },
  {
   "cell_type": "code",
   "execution_count": 5,
   "metadata": {},
   "outputs": [
    {
     "name": "stdout",
     "output_type": "stream",
     "text": [
      "\u001b[0mcore.chemical.GlobalResidueTypeSet: \u001b[0mFinished initializing fa_standard residue type set.  Created 1251 residue types\n",
      "\u001b[0mcore.chemical.GlobalResidueTypeSet: \u001b[0mTotal time to initialize 1.24028 seconds.\n",
      "\u001b[0mcore.import_pose.import_pose: \u001b[0mFile 'inputs/glycans/4do4_refined.pdb' automatically determined to be of type PDB\n",
      "\u001b[0mcore.io.util: \u001b[0mAutomatic glycan connection is activated.\n",
      "\u001b[0mcore.io.util: \u001b[0mStart reordering residues.\n",
      "\u001b[0mcore.io.util: \u001b[0mCorrected glycan residue order (internal numbering): [388, 389, 390, 391, 392, 393, 394, 395, 396, 797, 798, 799, 800, 801, 802, 803, 804, 805]\n",
      "\u001b[0mcore.io.util: \u001b[0m\n",
      "\u001b[0mcore.io.pose_from_sfr.PoseFromSFRBuilder: \u001b[0mSetting chain termination for 390\n",
      "\u001b[0mcore.io.pose_from_sfr.PoseFromSFRBuilder: \u001b[0mSetting chain termination for 394\n",
      "\u001b[0mcore.io.pose_from_sfr.PoseFromSFRBuilder: \u001b[0mSetting chain termination for 395\n",
      "\u001b[0mcore.io.pose_from_sfr.PoseFromSFRBuilder: \u001b[0mSetting chain termination for 396\n",
      "\u001b[0mcore.io.pose_from_sfr.PoseFromSFRBuilder: \u001b[0mSetting chain termination for 798\n",
      "\u001b[0mcore.io.pose_from_sfr.PoseFromSFRBuilder: \u001b[0mSetting chain termination for 799\n",
      "\u001b[0mcore.io.pose_from_sfr.PoseFromSFRBuilder: \u001b[0mSetting chain termination for 803\n",
      "\u001b[0mcore.io.pose_from_sfr.PoseFromSFRBuilder: \u001b[0mSetting chain termination for 804\n",
      "\u001b[0mcore.io.pose_from_sfr.PoseFromSFRBuilder: \u001b[0m\u001b[1m[ WARNING ]\u001b[0m Glc388 has an unfavorable ring conformation; the coordinates for this input structure may have been poorly assigned.\n",
      "\u001b[0mcore.io.pose_from_sfr.PoseFromSFRBuilder: \u001b[0m\u001b[1m[ WARNING ]\u001b[0m Glc389 has an unfavorable ring conformation; the coordinates for this input structure may have been poorly assigned.\n",
      "\u001b[0mcore.io.pose_from_sfr.PoseFromSFRBuilder: \u001b[0m\u001b[1m[ WARNING ]\u001b[0m Man390 has an unfavorable ring conformation; the coordinates for this input structure may have been poorly assigned.\n",
      "\u001b[0mcore.io.pose_from_sfr.PoseFromSFRBuilder: \u001b[0m\u001b[1m[ WARNING ]\u001b[0m Glc391 has an unfavorable ring conformation; the coordinates for this input structure may have been poorly assigned.\n",
      "\u001b[0mcore.io.pose_from_sfr.PoseFromSFRBuilder: \u001b[0m\u001b[1m[ WARNING ]\u001b[0m Glc392 has an unfavorable ring conformation; the coordinates for this input structure may have been poorly assigned.\n",
      "\u001b[0mcore.io.pose_from_sfr.PoseFromSFRBuilder: \u001b[0m\u001b[1m[ WARNING ]\u001b[0m Man393 has an unfavorable ring conformation; the coordinates for this input structure may have been poorly assigned.\n",
      "\u001b[0mcore.io.pose_from_sfr.PoseFromSFRBuilder: \u001b[0m\u001b[1m[ WARNING ]\u001b[0m Man394 has an unfavorable ring conformation; the coordinates for this input structure may have been poorly assigned.\n",
      "\u001b[0mcore.io.pose_from_sfr.PoseFromSFRBuilder: \u001b[0m\u001b[1m[ WARNING ]\u001b[0m Man395 has an unfavorable ring conformation; the coordinates for this input structure may have been poorly assigned.\n",
      "\u001b[0mcore.io.pose_from_sfr.PoseFromSFRBuilder: \u001b[0m\u001b[1m[ WARNING ]\u001b[0m Glc396 has an unfavorable ring conformation; the coordinates for this input structure may have been poorly assigned.\n",
      "\u001b[0mcore.io.pose_from_sfr.PoseFromSFRBuilder: \u001b[0m\u001b[1m[ WARNING ]\u001b[0m Glc797 has an unfavorable ring conformation; the coordinates for this input structure may have been poorly assigned.\n",
      "\u001b[0mcore.io.pose_from_sfr.PoseFromSFRBuilder: \u001b[0m\u001b[1m[ WARNING ]\u001b[0m Glc798 has an unfavorable ring conformation; the coordinates for this input structure may have been poorly assigned.\n",
      "\u001b[0mcore.io.pose_from_sfr.PoseFromSFRBuilder: \u001b[0m\u001b[1m[ WARNING ]\u001b[0m Fuc799 has an unfavorable ring conformation; the coordinates for this input structure may have been poorly assigned.\n",
      "\u001b[0mcore.io.pose_from_sfr.PoseFromSFRBuilder: \u001b[0m\u001b[1m[ WARNING ]\u001b[0m Glc800 has an unfavorable ring conformation; the coordinates for this input structure may have been poorly assigned.\n",
      "\u001b[0mcore.io.pose_from_sfr.PoseFromSFRBuilder: \u001b[0m\u001b[1m[ WARNING ]\u001b[0m Glc801 has an unfavorable ring conformation; the coordinates for this input structure may have been poorly assigned.\n",
      "\u001b[0mcore.io.pose_from_sfr.PoseFromSFRBuilder: \u001b[0m\u001b[1m[ WARNING ]\u001b[0m Man802 has an unfavorable ring conformation; the coordinates for this input structure may have been poorly assigned.\n",
      "\u001b[0mcore.io.pose_from_sfr.PoseFromSFRBuilder: \u001b[0m\u001b[1m[ WARNING ]\u001b[0m Man803 has an unfavorable ring conformation; the coordinates for this input structure may have been poorly assigned.\n",
      "\u001b[0mcore.io.pose_from_sfr.PoseFromSFRBuilder: \u001b[0m\u001b[1m[ WARNING ]\u001b[0m Man804 has an unfavorable ring conformation; the coordinates for this input structure may have been poorly assigned.\n",
      "\u001b[0mcore.io.pose_from_sfr.PoseFromSFRBuilder: \u001b[0m\u001b[1m[ WARNING ]\u001b[0m Glc805 has an unfavorable ring conformation; the coordinates for this input structure may have been poorly assigned.\n",
      "\u001b[0mcore.conformation.Conformation: \u001b[0m\u001b[1m[ WARNING ]\u001b[0m missing heavyatom:  OXT on residue LYS:CtermProteinFull 387\n",
      "\u001b[0mcore.conformation.Conformation: \u001b[0m\u001b[1m[ WARNING ]\u001b[0m missing heavyatom:  OXT on residue HIS:CtermProteinFull 796\n",
      "\u001b[0mcore.chemical.AtomICoor: \u001b[0m\u001b[1m[ WARNING ]\u001b[0m IcoorAtomID::atom_id(): Cannot get atom_id for POLYMER_LOWER of residue ->4)-beta-D-Glcp:2-AcNH 388.  Returning BOGUS ID instead.\n",
      "\u001b[0mcore.chemical.AtomICoor: \u001b[0m\u001b[1m[ WARNING ]\u001b[0m IcoorAtomID::atom_id(): Cannot get atom_id for POLYMER_LOWER of residue ->4)-beta-D-Glcp:2-AcNH 391.  Returning BOGUS ID instead.\n",
      "\u001b[0mcore.chemical.AtomICoor: \u001b[0m\u001b[1m[ WARNING ]\u001b[0m IcoorAtomID::atom_id(): Cannot get atom_id for POLYMER_LOWER of residue ->3)-alpha-D-Manp:non-reducing_end 395.  Returning BOGUS ID instead.\n",
      "\u001b[0mcore.chemical.AtomICoor: \u001b[0m\u001b[1m[ WARNING ]\u001b[0m IcoorAtomID::atom_id(): Cannot get atom_id for POLYMER_LOWER of residue ->3)-beta-D-Glcp:non-reducing_end:2-AcNH 396.  Returning BOGUS ID instead.\n",
      "\u001b[0mcore.chemical.AtomICoor: \u001b[0m\u001b[1m[ WARNING ]\u001b[0m IcoorAtomID::atom_id(): Cannot get atom_id for POLYMER_LOWER of residue ->4)-beta-D-Glcp:->6)-branch:2-AcNH 797.  Returning BOGUS ID instead.\n",
      "\u001b[0mcore.chemical.AtomICoor: \u001b[0m\u001b[1m[ WARNING ]\u001b[0m IcoorAtomID::atom_id(): Cannot get atom_id for POLYMER_LOWER of residue ->3)-alpha-L-Fucp:non-reducing_end 799.  Returning BOGUS ID instead.\n",
      "\u001b[0mcore.chemical.AtomICoor: \u001b[0m\u001b[1m[ WARNING ]\u001b[0m IcoorAtomID::atom_id(): Cannot get atom_id for POLYMER_LOWER of residue ->4)-beta-D-Glcp:2-AcNH 800.  Returning BOGUS ID instead.\n",
      "\u001b[0mcore.chemical.AtomICoor: \u001b[0m\u001b[1m[ WARNING ]\u001b[0m IcoorAtomID::atom_id(): Cannot get atom_id for POLYMER_LOWER of residue ->3)-alpha-D-Manp:non-reducing_end 804.  Returning BOGUS ID instead.\n",
      "\u001b[0mcore.chemical.AtomICoor: \u001b[0m\u001b[1m[ WARNING ]\u001b[0m IcoorAtomID::atom_id(): Cannot get atom_id for POLYMER_LOWER of residue ->3)-beta-D-Glcp:non-reducing_end:2-AcNH 805.  Returning BOGUS ID instead.\n",
      "\u001b[0mcore.conformation.Conformation: \u001b[0mFound disulfide between residues 21 63\n",
      "\u001b[0mcore.conformation.Conformation: \u001b[0mcurrent variant for 21 CYS\n",
      "\u001b[0mcore.conformation.Conformation: \u001b[0mcurrent variant for 63 CYS\n",
      "\u001b[0mcore.conformation.Conformation: \u001b[0mcurrent variant for 21 CYD\n",
      "\u001b[0mcore.conformation.Conformation: \u001b[0mcurrent variant for 63 CYD\n",
      "\u001b[0mcore.conformation.Conformation: \u001b[0mFound disulfide between residues 417 459\n",
      "\u001b[0mcore.conformation.Conformation: \u001b[0mcurrent variant for 417 CYS\n",
      "\u001b[0mcore.conformation.Conformation: \u001b[0mcurrent variant for 459 CYS\n",
      "\u001b[0mcore.conformation.Conformation: \u001b[0mcurrent variant for 417 CYD\n",
      "\u001b[0mcore.conformation.Conformation: \u001b[0mcurrent variant for 459 CYD\n",
      "\u001b[0mcore.conformation.Conformation: \u001b[0mFound disulfide between residues 25 32\n",
      "\u001b[0mcore.conformation.Conformation: \u001b[0mcurrent variant for 25 CYS\n",
      "\u001b[0mcore.conformation.Conformation: \u001b[0mcurrent variant for 32 CYS\n",
      "\u001b[0mcore.conformation.Conformation: \u001b[0mcurrent variant for 25 CYD\n",
      "\u001b[0mcore.conformation.Conformation: \u001b[0mcurrent variant for 32 CYD\n",
      "\u001b[0mcore.conformation.Conformation: \u001b[0mFound disulfide between residues 421 428\n",
      "\u001b[0mcore.conformation.Conformation: \u001b[0mcurrent variant for 421 CYS\n",
      "\u001b[0mcore.conformation.Conformation: \u001b[0mcurrent variant for 428 CYS\n",
      "\u001b[0mcore.conformation.Conformation: \u001b[0mcurrent variant for 421 CYD\n",
      "\u001b[0mcore.conformation.Conformation: \u001b[0mcurrent variant for 428 CYD\n",
      "\u001b[0mcore.conformation.Conformation: \u001b[0mFound disulfide between residues 110 141\n",
      "\u001b[0mcore.conformation.Conformation: \u001b[0mcurrent variant for 110 CYS\n",
      "\u001b[0mcore.conformation.Conformation: \u001b[0mcurrent variant for 141 CYS\n"
     ]
    },
    {
     "name": "stdout",
     "output_type": "stream",
     "text": [
      "\u001b[0mcore.conformation.Conformation: \u001b[0mcurrent variant for 110 CYD\n",
      "\u001b[0mcore.conformation.Conformation: \u001b[0mcurrent variant for 141 CYD\n",
      "\u001b[0mcore.conformation.Conformation: \u001b[0mFound disulfide between residues 506 537\n",
      "\u001b[0mcore.conformation.Conformation: \u001b[0mcurrent variant for 506 CYS\n",
      "\u001b[0mcore.conformation.Conformation: \u001b[0mcurrent variant for 537 CYS\n",
      "\u001b[0mcore.conformation.Conformation: \u001b[0mcurrent variant for 506 CYD\n",
      "\u001b[0mcore.conformation.Conformation: \u001b[0mcurrent variant for 537 CYD\n",
      "\u001b[0mcore.conformation.Conformation: \u001b[0mFound disulfide between residues 170 192\n",
      "\u001b[0mcore.conformation.Conformation: \u001b[0mcurrent variant for 170 CYS\n",
      "\u001b[0mcore.conformation.Conformation: \u001b[0mcurrent variant for 192 CYS\n",
      "\u001b[0mcore.conformation.Conformation: \u001b[0mcurrent variant for 170 CYD\n",
      "\u001b[0mcore.conformation.Conformation: \u001b[0mcurrent variant for 192 CYD\n",
      "\u001b[0mcore.conformation.Conformation: \u001b[0mFound disulfide between residues 566 588\n",
      "\u001b[0mcore.conformation.Conformation: \u001b[0mcurrent variant for 566 CYS\n",
      "\u001b[0mcore.conformation.Conformation: \u001b[0mcurrent variant for 588 CYS\n",
      "\u001b[0mcore.conformation.Conformation: \u001b[0mcurrent variant for 566 CYD\n",
      "\u001b[0mcore.conformation.Conformation: \u001b[0mcurrent variant for 588 CYD\n",
      "\u001b[0mcore.conformation.carbohydrates.GlycanTreeSet: \u001b[0mSetting up Glycan Trees\n",
      "\u001b[0mcore.conformation.carbohydrates.GlycanTreeSet: \u001b[0mFound 6 glycan trees.\n"
     ]
    }
   ],
   "source": [
    "pose = pose_from_pdb(\"inputs/glycans/4do4_refined.pdb\")\n",
    " "
   ]
  },
  {
   "cell_type": "markdown",
   "metadata": {},
   "source": [
    "## Object Exploration: GlycanTreeSet, CarbohydrateInfo, and the GlycanInfoMover\n",
    "\n",
    "Before we do anything else, lets get some information on the pose that we are working with.\n",
    "\n",
    "### GlycanTreeSet\n",
    "\n",
    "The `GlycanTreeSet` is created when glycans are added to a pose or a pose is created with glycans in it.  The `GlycanTreeSet` has information on each glycan tree and each residue's parent and child.  The tree set also has an observer attached to it, so it will auto-update itself when glycan residues are attached or removed from the pose.  The `GlycanTreeSet` is a part of the Pose's `Conformation` object.  First, lets expore this. \n",
    "\n",
    "Lets fine out how many glycan trees are and their lengths. "
   ]
  },
  {
   "cell_type": "code",
   "execution_count": 6,
   "metadata": {},
   "outputs": [],
   "source": [
    "tree_set = pose.glycan_tree_set()"
   ]
  },
  {
   "cell_type": "code",
   "execution_count": 7,
   "metadata": {},
   "outputs": [
    {
     "name": "stdout",
     "output_type": "stream",
     "text": [
      "6\n"
     ]
    }
   ],
   "source": [
    "print(tree_set.n_trees())"
   ]
  },
  {
   "cell_type": "markdown",
   "metadata": {},
   "source": [
    "Ok, so there are 6 glycan trees in our pose!  Cool.  Lets see what the largest one is:"
   ]
  },
  {
   "cell_type": "code",
   "execution_count": 9,
   "metadata": {},
   "outputs": [
    {
     "name": "stdout",
     "output_type": "stream",
     "text": [
      "5\n"
     ]
    }
   ],
   "source": [
    "print(tree_set.get_largest_glycan_tree_length())"
   ]
  },
  {
   "cell_type": "markdown",
   "metadata": {},
   "source": [
    "#### GlycanTree and GlycanNode\n",
    "\n",
    "The `GlycanTreeSet` is made up of `GlycanTree` objects.  Each of these is made up of `GlycanNodes` for each residue in a tree. Lets expore these."
   ]
  },
  {
   "cell_type": "code",
   "execution_count": 11,
   "metadata": {},
   "outputs": [
    {
     "name": "stdout",
     "output_type": "stream",
     "text": [
      "388 501 A  Glc ->4)-beta-D-Glcp:2-AcNH\n",
      "391 504 A  Glc ->4)-beta-D-Glcp:2-AcNH\n",
      "396 509 A  Glc ->3)-beta-D-Glcp:non-reducing_end:2-AcNH\n",
      "797 501 B  Glc ->4)-beta-D-Glcp:->6)-branch:2-AcNH\n",
      "800 504 B  Glc ->4)-beta-D-Glcp:2-AcNH\n",
      "805 509 B  Glc ->3)-beta-D-Glcp:non-reducing_end:2-AcNH\n"
     ]
    }
   ],
   "source": [
    "for start in tree_set.get_start_points():\n",
    "    print(start, pose.pdb_info().pose2pdb(start), pose.residue_type(start).name3(), pose.residue_type(start).name())"
   ]
  },
  {
   "cell_type": "markdown",
   "metadata": {},
   "source": [
    "Lets look at the parent of each of these glycan start points to see if they are connected to a protein, and if so, what residue they are attached to."
   ]
  },
  {
   "cell_type": "code",
   "execution_count": 12,
   "metadata": {},
   "outputs": [
    {
     "name": "stdout",
     "output_type": "stream",
     "text": [
      "107 124 A  ASN\n",
      "160 177 A  ASN\n",
      "368 385 A  ASN\n",
      "503 124 B  ASN\n",
      "556 177 B  ASN\n",
      "764 385 B  ASN\n"
     ]
    }
   ],
   "source": [
    "for start in tree_set.get_start_points():\n",
    "    parent = tree_set.get_parent(start)\n",
    "    parent_naem = \"NONE\"\n",
    "    if parent != 0:\n",
    "        parent_name = pose.residue_type(parent).name3()\n",
    "    print(parent, pose.pdb_info().pose2pdb(parent), parent_name)"
   ]
  },
  {
   "cell_type": "markdown",
   "metadata": {},
   "source": [
    "Cool.  So they are all connected to protein residues at an Asparigine.  Lets take a look at the first sugar. "
   ]
  },
  {
   "cell_type": "code",
   "execution_count": 13,
   "metadata": {},
   "outputs": [],
   "source": [
    "tree1 = tree_set.get_tree(388)"
   ]
  },
  {
   "cell_type": "code",
   "execution_count": 15,
   "metadata": {},
   "outputs": [
    {
     "name": "stdout",
     "output_type": "stream",
     "text": [
      "length 3\n",
      "root 107\n"
     ]
    }
   ],
   "source": [
    "print(\"length\", tree1.size())\n",
    "print(\"root\", tree1.get_root())"
   ]
  },
  {
   "cell_type": "code",
   "execution_count": 16,
   "metadata": {},
   "outputs": [
    {
     "name": "stdout",
     "output_type": "stream",
     "text": [
      "388 Glc ->4)-beta-D-Glcp:2-AcNH\n",
      "389 Glc ->4)-beta-D-Glcp:2-AcNH\n",
      "390 Man ->3)-beta-D-Manp:non-reducing_end\n"
     ]
    }
   ],
   "source": [
    "for res in tree1.get_residues():\n",
    "    print(res, pose.residue_type(res).name3(), pose.residue_type(res).name())"
   ]
  },
  {
   "cell_type": "markdown",
   "metadata": {},
   "source": [
    "Lets take a closer look at that Mannose, at the end of the tree."
   ]
  },
  {
   "cell_type": "code",
   "execution_count": 19,
   "metadata": {},
   "outputs": [],
   "source": [
    "node390 = tree1.get_node(390)"
   ]
  },
  {
   "cell_type": "code",
   "execution_count": 23,
   "metadata": {},
   "outputs": [
    {
     "name": "stdout",
     "output_type": "stream",
     "text": [
      "n_children 0\n",
      "parent 389\n",
      "distance 2\n",
      "exocylic_connection False\n"
     ]
    }
   ],
   "source": [
    "print(\"n_children\", len(node390.get_children()))\n",
    "print(\"parent\", node390.get_parent())\n",
    "print(\"distance\", node390.get_distance_to_start())\n",
    "print(\"exocylic_connection\", node390.has_exocyclic_linkage())"
   ]
  },
  {
   "cell_type": "markdown",
   "metadata": {},
   "source": [
    "### CarbohydrateInfo\n",
    "\n",
    "Lets get a bit more information on this particular glycan residue."
   ]
  },
  {
   "cell_type": "code",
   "execution_count": 24,
   "metadata": {},
   "outputs": [],
   "source": [
    "info390 = pose.residue_type(390).carbohydrate_info()"
   ]
  },
  {
   "cell_type": "code",
   "execution_count": 25,
   "metadata": {},
   "outputs": [
    {
     "data": {
      "text/plain": [
       "1"
      ]
     },
     "execution_count": 25,
     "metadata": {},
     "output_type": "execute_result"
    }
   ],
   "source": [
    "info390.anomeric_carbon()"
   ]
  },
  {
   "cell_type": "code",
   "execution_count": 38,
   "metadata": {},
   "outputs": [
    {
     "data": {
      "text/plain": [
       "'C1'"
      ]
     },
     "execution_count": 38,
     "metadata": {},
     "output_type": "execute_result"
    }
   ],
   "source": [
    "info390.anomeric_carbon_name()"
   ]
  },
  {
   "cell_type": "code",
   "execution_count": 28,
   "metadata": {},
   "outputs": [
    {
     "data": {
      "text/plain": [
       "'mannose'"
      ]
     },
     "execution_count": 28,
     "metadata": {},
     "output_type": "execute_result"
    }
   ],
   "source": [
    "info390.basic_name()"
   ]
  },
  {
   "cell_type": "code",
   "execution_count": 29,
   "metadata": {},
   "outputs": [
    {
     "data": {
      "text/plain": [
       "5"
      ]
     },
     "execution_count": 29,
     "metadata": {},
     "output_type": "execute_result"
    }
   ],
   "source": [
    "info390.cyclic_oxygen()"
   ]
  },
  {
   "cell_type": "code",
   "execution_count": 30,
   "metadata": {},
   "outputs": [
    {
     "data": {
      "text/plain": [
       "' O5 '"
      ]
     },
     "execution_count": 30,
     "metadata": {},
     "output_type": "execute_result"
    }
   ],
   "source": [
    "info390.cyclic_oxygen_name()"
   ]
  },
  {
   "cell_type": "code",
   "execution_count": 31,
   "metadata": {},
   "outputs": [
    {
     "data": {
      "text/plain": [
       "'beta-D-mannopyranosyl'"
      ]
     },
     "execution_count": 31,
     "metadata": {},
     "output_type": "execute_result"
    }
   ],
   "source": [
    "info390.full_name()"
   ]
  },
  {
   "cell_type": "code",
   "execution_count": 32,
   "metadata": {},
   "outputs": [
    {
     "data": {
      "text/plain": [
       "False"
      ]
     },
     "execution_count": 32,
     "metadata": {},
     "output_type": "execute_result"
    }
   ],
   "source": [
    "info390.has_exocyclic_linkage_to_child_mainchain()"
   ]
  },
  {
   "cell_type": "code",
   "execution_count": 33,
   "metadata": {},
   "outputs": [
    {
     "data": {
      "text/plain": [
       "False"
      ]
     },
     "execution_count": 33,
     "metadata": {},
     "output_type": "execute_result"
    }
   ],
   "source": [
    "info390.is_alpha_sugar()"
   ]
  },
  {
   "cell_type": "code",
   "execution_count": 34,
   "metadata": {},
   "outputs": [
    {
     "data": {
      "text/plain": [
       "False"
      ]
     },
     "execution_count": 34,
     "metadata": {},
     "output_type": "execute_result"
    }
   ],
   "source": [
    "info390.is_amino_sugar()"
   ]
  },
  {
   "cell_type": "code",
   "execution_count": 35,
   "metadata": {},
   "outputs": [
    {
     "data": {
      "text/plain": [
       "True"
      ]
     },
     "execution_count": 35,
     "metadata": {},
     "output_type": "execute_result"
    }
   ],
   "source": [
    "info390.is_beta_sugar()"
   ]
  },
  {
   "cell_type": "code",
   "execution_count": 36,
   "metadata": {},
   "outputs": [
    {
     "data": {
      "text/plain": [
       "True"
      ]
     },
     "execution_count": 36,
     "metadata": {},
     "output_type": "execute_result"
    }
   ],
   "source": [
    "info390.is_cyclic()"
   ]
  },
  {
   "cell_type": "code",
   "execution_count": 37,
   "metadata": {},
   "outputs": [
    {
     "data": {
      "text/plain": [
       "False"
      ]
     },
     "execution_count": 37,
     "metadata": {},
     "output_type": "execute_result"
    }
   ],
   "source": [
    "info390.is_acetylated()"
   ]
  },
  {
   "cell_type": "markdown",
   "metadata": {},
   "source": [
    "As you can see, the `CarbohydrateInfo` object of `ResidueType` provides a great deal of information on this particular sugar.  By using the `GlycanTreeSet` and the `CarbohdrateInfo` objects, one can delineate nearly everything you wish to know about about a particular tree, glycan, and the connections of them in respect to each other and the whole pose. "
   ]
  },
  {
   "cell_type": "markdown",
   "metadata": {},
   "source": [
    "## GlycanInfoMover\n",
    "\n",
    "This mover essentially prints much of the connectivity information of a particular pose.  It is useful as a first-pass to get general info and to make sure that Rosetta is loading your glycan properly.\n",
    "\n",
    "Note: You will need to look at the terminal for output of this mover."
   ]
  },
  {
   "cell_type": "code",
   "execution_count": 39,
   "metadata": {},
   "outputs": [
    {
     "name": "stderr",
     "output_type": "stream",
     "text": [
      "/Library/Frameworks/Python.framework/Versions/3.6/lib/python3.6/site-packages/ipykernel_launcher.py:1: UserWarning: Import of 'rosetta' as a top-level module is deprecated and may be removed in 2018, import via 'pyrosetta.rosetta'.\n",
      "  \"\"\"Entry point for launching an IPython kernel.\n"
     ]
    }
   ],
   "source": [
    "from rosetta.protocols.analysis import *"
   ]
  },
  {
   "cell_type": "code",
   "execution_count": 40,
   "metadata": {},
   "outputs": [],
   "source": [
    "glycan_info = GlycanInfoMover()\n",
    "glycan_info.apply(pose)"
   ]
  },
  {
   "cell_type": "markdown",
   "metadata": {},
   "source": [
    "(Output copied below)\n",
    "\n",
    "```\n",
    "branch Point: ASN 107 124 A \n",
    "Branch Point: ASN 160 177 A \n",
    "Branch Point: ASN 368 385 A \n",
    "Carbohydrate: 388 501 A  Parent: 107 BP: 0 501 A   CON: _->4       DIS: 0 ShortName: ->4)-beta-D-GlcpNAc-\n",
    "Carbohydrate: 389 502 A  Parent: 388 BP: 0 502 A   CON: _->4       DIS: 1 ShortName: ->4)-beta-D-GlcpNAc-\n",
    "Carbohydrate: 390 503 A  Parent: 389 BP: 0 503 A   CON:            DIS: 2 ShortName: beta-D-Manp-\n",
    "Carbohydrate: 391 504 A  Parent: 160 BP: 0 504 A   CON: _->4       DIS: 0 ShortName: ->4)-beta-D-GlcpNAc-\n",
    "Carbohydrate: 392 505 A  Parent: 391 BP: 0 505 A   CON: _->4       DIS: 1 ShortName: ->4)-beta-D-GlcpNAc-\n",
    "Carbohydrate: 393 506 A  Parent: 392 BP: 1 506 A   CON: _->3,_->6  DIS: 2 ShortName: ->3)-beta-D-Manp-\n",
    "Carbohydrate: 394 507 A  Parent: 393 BP: 0 507 A   CON:            DIS: 3 ShortName: alpha-D-Manp-\n",
    "Carbohydrate: 395 508 A  Parent: 393 BP: 0 508 A   CON:            DIS: 3 ShortName: alpha-D-Manp-\n",
    "Carbohydrate: 396 509 A  Parent: 368 BP: 0 509 A   CON:            DIS: 0 ShortName: beta-D-GlcpNAc-\n",
    "Branch Point: ASN 503 124 B \n",
    "Branch Point: ASN 556 177 B \n",
    "Branch Point: ASN 764 385 B \n",
    "Carbohydrate: 797 501 B  Parent: 503 BP: 1 501 B   CON: _->4,_->6  DIS: 0 ShortName: ->4)-beta-D-GlcpNAc-\n",
    "Carbohydrate: 798 502 B  Parent: 797 BP: 0 502 B   CON:            DIS: 1 ShortName: beta-D-GlcpNAc-\n",
    "Carbohydrate: 799 503 B  Parent: 797 BP: 0 503 B   CON:            DIS: 1 ShortName: alpha-L-Fucp-\n",
    "Carbohydrate: 800 504 B  Parent: 556 BP: 0 504 B   CON: _->4       DIS: 0 ShortName: ->4)-beta-D-GlcpNAc-\n",
    "Carbohydrate: 801 505 B  Parent: 800 BP: 0 505 B   CON: _->4       DIS: 1 ShortName: ->4)-beta-D-GlcpNAc-\n",
    "Carbohydrate: 802 506 B  Parent: 801 BP: 1 506 B   CON: _->3,_->6  DIS: 2 ShortName: ->3)-beta-D-Manp-\n",
    "Carbohydrate: 803 507 B  Parent: 802 BP: 0 507 B   CON:            DIS: 3 ShortName: alpha-D-Manp-\n",
    "Carbohydrate: 804 508 B  Parent: 802 BP: 0 508 B   CON:            DIS: 3 ShortName: alpha-D-Manp-\n",
    "Carbohydrate: 805 509 B  Parent: 764 BP: 0 509 B   CON:            DIS: 0 ShortName: beta-D-GlcpNAc-\n",
    "Glycan Residues: 18\n",
    "Protein BPs: 6\n",
    "TREES\n",
    "107 124 A  Length: 3\n",
    "160 177 A  Length: 5\n",
    "368 385 A  Length: 1\n",
    "503 124 B  Length: 3\n",
    "556 177 B  Length: 5\n",
    "764 385 B  Length: 1\n",
    "```"
   ]
  },
  {
   "cell_type": "markdown",
   "metadata": {},
   "source": [
    "### Branched Connections\n",
    "\n",
    "Now we can see all of our glycans in the pose, all of their parents, and how all of them are connected to one another. Note residue 803 - here we have two connections.  both at carbons 3 and 6.  This means we have a branched connection and that residue 802 has two children.  A branched connection is always at carbon 6, which is an exocyclic connection.  This point has 3 backbone dihedrals instead of our standard two.  Lets confirm all of that. "
   ]
  },
  {
   "cell_type": "code",
   "execution_count": 50,
   "metadata": {},
   "outputs": [
    {
     "data": {
      "text/plain": [
       "'_->3,_->6'"
      ]
     },
     "execution_count": 50,
     "metadata": {},
     "output_type": "execute_result"
    }
   ],
   "source": [
    "#This is code used to get the branch points in CarbohydrateInfoMover, converted from C++:\n",
    "def get_connections(localpose, resnum):\n",
    "    info = localpose.residue(resnum).carbohydrate_info()\n",
    "    outstring = \"\"\n",
    "    attach = \"_->\"\n",
    "\n",
    "    if info.mainchain_glycosidic_bond_acceptor():\n",
    "        outstring = attach + str(info.mainchain_glycosidic_bond_acceptor())\n",
    "    \n",
    "\n",
    "    for i in range(1, info.n_branches()+1):\n",
    "        outstring = outstring + \",\" +attach + str(info.branch_point( i ))\n",
    "    \n",
    "    return outstring;\n",
    "                   \n",
    "get_connections(pose, 802)"
   ]
  },
  {
   "cell_type": "code",
   "execution_count": 52,
   "metadata": {},
   "outputs": [],
   "source": [
    "tree802 = tree_set.get_tree_containing_residue(802)\n",
    "node802 = tree_set.get_node(802)"
   ]
  },
  {
   "cell_type": "code",
   "execution_count": 53,
   "metadata": {},
   "outputs": [
    {
     "name": "stdout",
     "output_type": "stream",
     "text": [
      "len 5\n",
      "children vector1_unsigned_long[803, 804]\n",
      "exocyclic False\n"
     ]
    }
   ],
   "source": [
    "print(\"len\", tree802.size())\n",
    "print(\"children\", node802.get_children())\n",
    "print(\"exocyclic\", node802.has_exocyclic_linkage())"
   ]
  },
  {
   "cell_type": "markdown",
   "metadata": {},
   "source": [
    "Note that 802 doesn't have an exocyclic back to it's parent - however, one of its children has the exocyclic connection back to it.  Lets find out which one."
   ]
  },
  {
   "cell_type": "code",
   "execution_count": 54,
   "metadata": {},
   "outputs": [
    {
     "name": "stdout",
     "output_type": "stream",
     "text": [
      "exo_803 False\n",
      "exo_804 True\n"
     ]
    }
   ],
   "source": [
    "print(\"exo_803\", tree802.get_node(803).has_exocyclic_linkage())\n",
    "print(\"exo_804\", tree802.get_node(804).has_exocyclic_linkage())"
   ]
  },
  {
   "cell_type": "markdown",
   "metadata": {},
   "source": [
    "Cool.  So residue 804 is branched connection. Lets take a closer look."
   ]
  },
  {
   "cell_type": "code",
   "execution_count": 56,
   "metadata": {},
   "outputs": [],
   "source": [
    "node804 = tree802.get_node(804)\n",
    "node803 = tree802.get_node(803)"
   ]
  },
  {
   "cell_type": "code",
   "execution_count": 58,
   "metadata": {},
   "outputs": [
    {
     "data": {
      "text/plain": [
       "803"
      ]
     },
     "execution_count": 58,
     "metadata": {},
     "output_type": "execute_result"
    }
   ],
   "source": [
    "node802.get_mainchain_child()"
   ]
  },
  {
   "cell_type": "markdown",
   "metadata": {},
   "source": [
    "### MoveMapFactory vs MoveMap creation\n",
    "\n",
    "Here is something important to note.  Rosetta has a concept of the 'mainchain' as it was primarily written for proteins - that are linear in nature.  At the deep part of Rosetta, even sugars are denoted as having a 'mainchain'.  This mainchain is the 'non-branched' connections.  In this case, the mainchain continues onto residue 803, while the 'branch' goes off to residue 804.  This is __EXTREMELY__ important to be aware of as MoveMaps have seperate switches for 'branched' torsions.  In this way, you should always use the `MoveMapFactory` which does all this automatically for creating glycan Movemaps or torsions that are branched will not be turned on!!! "
   ]
  },
  {
   "cell_type": "markdown",
   "metadata": {},
   "source": [
    "After that side-note, lets confirm that there are indeed 3 torsions for the branched connection of residue 802 and 804. Remember that torsions are defined from child TO parent!"
   ]
  },
  {
   "cell_type": "code",
   "execution_count": 61,
   "metadata": {},
   "outputs": [],
   "source": [
    "from rosetta.core.pose.carbohydrates import *\n",
    "from rosetta.core.conformation.carbohydrates import *"
   ]
  },
  {
   "cell_type": "code",
   "execution_count": 63,
   "metadata": {},
   "outputs": [
    {
     "data": {
      "text/plain": [
       "3"
      ]
     },
     "execution_count": 63,
     "metadata": {},
     "output_type": "execute_result"
    }
   ],
   "source": [
    "get_n_glycosidic_torsions_in_res(pose.conformation(), 804)"
   ]
  },
  {
   "cell_type": "markdown",
   "metadata": {},
   "source": [
    "Great.  We have 3. Lets make sure our mainchild child has two."
   ]
  },
  {
   "cell_type": "code",
   "execution_count": 64,
   "metadata": {},
   "outputs": [
    {
     "data": {
      "text/plain": [
       "2"
      ]
     },
     "execution_count": 64,
     "metadata": {},
     "output_type": "execute_result"
    }
   ],
   "source": [
    "get_n_glycosidic_torsions_in_res(pose.conformation(), 803)"
   ]
  },
  {
   "cell_type": "markdown",
   "metadata": {},
   "source": [
    "Awesome.  Finally, lets see how many torsions between our first glycan residue of this tree and the ASN.  Note that ASN has 3 'chi' angles before glycosylation."
   ]
  },
  {
   "cell_type": "code",
   "execution_count": 68,
   "metadata": {},
   "outputs": [
    {
     "data": {
      "text/plain": [
       "4"
      ]
     },
     "execution_count": 68,
     "metadata": {},
     "output_type": "execute_result"
    }
   ],
   "source": [
    "get_n_glycosidic_torsions_in_res(pose.conformation(), tree1.get_start())"
   ]
  },
  {
   "cell_type": "markdown",
   "metadata": {},
   "source": [
    "After glycosylation, this ASN chi is no long has side-chains to pack.  In the packer, they are turned off, as they are now part of the glycan backbone.  How is this done?  Lets see."
   ]
  },
  {
   "cell_type": "code",
   "execution_count": null,
   "metadata": {},
   "outputs": [],
   "source": [
    "print(pose.residue_type(node))"
   ]
  },
  {
   "cell_type": "code",
   "execution_count": 70,
   "metadata": {},
   "outputs": [
    {
     "name": "stdout",
     "output_type": "stream",
     "text": [
      "556 ASN\n"
     ]
    }
   ],
   "source": [
    "protein_res = tree802.get_node(tree802.get_start()).get_parent()\n",
    "print(protein_res, pose.residue_type(protein_res).name3())"
   ]
  },
  {
   "cell_type": "code",
   "execution_count": 71,
   "metadata": {},
   "outputs": [
    {
     "name": "stdout",
     "output_type": "stream",
     "text": [
      "Is Branch Point: True\n"
     ]
    }
   ],
   "source": [
    "print(\"Is Branch Point:\", pose.residue(protein_res).is_branch_point())"
   ]
  },
  {
   "cell_type": "markdown",
   "metadata": {},
   "source": [
    "Ok, Now we can see that this residue is a branch point - meaning that it once again has a mainchain connection that goes onto the the next protein residue, and a branch out to the start of the glycan.  Take a look at the rest of the glycan residues.  Which are the branch points?  Does this info match what the `GlycanInfoMover` printed?"
   ]
  },
  {
   "cell_type": "markdown",
   "metadata": {},
   "source": [
    "## Glycan Residue Selectors\n",
    "\n",
    "Now that we have a good idea about the glycans in our pose, lets use some residue selectors that use the underlying tools that we just learned about. \n",
    "\n",
    "### GlycanResidueSelector\n",
    "\n",
    "The most basic, but useful selector is the `GlycanResidueSelector`.  Here is the description:\n",
    "```\n",
    "A ResidueSelector for carbohydrates and individual carbohydrate trees.\n",
    "  Selects all Glycan residues if no option is given or the branch going out from the root residue. \n",
    "  Selecting from root residues allows you to choose the whole glycan branch or only tips, etc.\n",
    "```"
   ]
  },
  {
   "cell_type": "markdown",
   "metadata": {},
   "source": [
    "First, lets select all carbohydrate residues in the pose."
   ]
  },
  {
   "cell_type": "code",
   "execution_count": 74,
   "metadata": {},
   "outputs": [
    {
     "name": "stdout",
     "output_type": "stream",
     "text": [
      "388 Glc\n",
      "389 Glc\n",
      "390 Man\n",
      "391 Glc\n",
      "392 Glc\n",
      "393 Man\n",
      "394 Man\n",
      "395 Man\n",
      "396 Glc\n",
      "797 Glc\n",
      "798 Glc\n",
      "799 Fuc\n",
      "800 Glc\n",
      "801 Glc\n",
      "802 Man\n",
      "803 Man\n",
      "804 Man\n",
      "805 Glc\n"
     ]
    }
   ],
   "source": [
    "from rosetta.core.select.residue_selector import *\n",
    "glycan_selector = GlycanResidueSelector()\n",
    "all_glycans = glycan_selector.apply(pose)\n",
    "for i in range(1, pose.size()+1):\n",
    "    if all_glycans[i]:\n",
    "        print(i, pose.residue_type(i).name3())"
   ]
  },
  {
   "cell_type": "code",
   "execution_count": null,
   "metadata": {},
   "outputs": [],
   "source": []
  }
 ],
 "metadata": {
  "kernelspec": {
   "display_name": "Python 3",
   "language": "python",
   "name": "python3"
  },
  "language_info": {
   "codemirror_mode": {
    "name": "ipython",
    "version": 3
   },
   "file_extension": ".py",
   "mimetype": "text/x-python",
   "name": "python",
   "nbconvert_exporter": "python",
   "pygments_lexer": "ipython3",
   "version": "3.6.1"
  },
  "toc": {
   "base_numbering": 1,
   "nav_menu": {},
   "number_sections": true,
   "sideBar": true,
   "skip_h1_title": false,
   "title_cell": "Table of Contents",
   "title_sidebar": "Contents",
   "toc_cell": false,
   "toc_position": {},
   "toc_section_display": true,
   "toc_window_display": false
  }
 },
 "nbformat": 4,
 "nbformat_minor": 1
}

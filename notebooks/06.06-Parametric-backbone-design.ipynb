{
 "cells": [
  {
   "cell_type": "markdown",
   "metadata": {},
   "source": [
    "# *De Novo* Parametric Backbone Design\n",
    "\n",
    "\n",
    "#### Presenter: Jason Klima (klimaj@uw.edu)\n",
    "#### Adapted from RosettaScripts examples by Vikram K. Mulligan"
   ]
  },
  {
   "cell_type": "code",
   "execution_count": null,
   "metadata": {},
   "outputs": [],
   "source": [
    "import logging\n",
    "logging.basicConfig(level=logging.INFO)\n",
    "import py3Dmol\n",
    "import pyrosetta\n",
    "import pyrosetta.distributed.io\n",
    "\n",
    "from IPython.core.display import display, HTML\n",
    "display(HTML(\"<style>.container { width:100% !important; }</style>\"))"
   ]
  },
  {
   "cell_type": "code",
   "execution_count": null,
   "metadata": {},
   "outputs": [],
   "source": [
    "pyrosetta.init(\"-mute all\")\n",
    "%run ./visualization.py"
   ]
  },
  {
   "cell_type": "markdown",
   "metadata": {},
   "source": [
    "### Example 1:"
   ]
  },
  {
   "cell_type": "code",
   "execution_count": null,
   "metadata": {},
   "outputs": [],
   "source": [
    "pose = pyrosetta.rosetta.core.pose.Pose()\n",
    "pyrosetta.rosetta.protocols.rosetta_scripts.XmlObjects.create_from_string(\"\"\"\n",
    "<SCOREFXNS>\n",
    "  <ScoreFunction name=\"sfxn1\" weights=\"ref2015\"/>\n",
    "</SCOREFXNS>\n",
    "<MOVERS>\n",
    "  <BundleGridSampler name=\"bgs1\"\n",
    "                     helix_length=\"20\"\n",
    "                     scorefxn=\"sfxn1\"\n",
    "                     r0_min=\"5.0\"\n",
    "                     r0_max=\"8.0\"\n",
    "                     r0_samples=\"4\"\n",
    "                     omega0=\"0.05\"\n",
    "                     delta_omega0=\"0\"\n",
    "                     delta_omega1=\"0\"\n",
    "                     delta_t=\"0\">\n",
    "  <Helix/>\n",
    "  <Helix delta_omega0=\"3.14\" r0_copies_helix=\"1\"/>\n",
    "</BundleGridSampler>\n",
    "</MOVERS>\n",
    "\"\"\").get_mover(\"bgs1\").apply(pose)\n",
    "\n",
    "view_pose(pose)"
   ]
  },
  {
   "cell_type": "markdown",
   "metadata": {},
   "source": [
    "### Example 2:"
   ]
  },
  {
   "cell_type": "code",
   "execution_count": null,
   "metadata": {},
   "outputs": [],
   "source": [
    "pose = pyrosetta.rosetta.core.pose.Pose()\n",
    "pyrosetta.rosetta.protocols.rosetta_scripts.XmlObjects.create_from_string(\"\"\"\n",
    "<SCOREFXNS>\n",
    "  <ScoreFunction name=\"sfxn1\" weights=\"ref2015\"/>\n",
    "  </SCOREFXNS>\n",
    "<MOVERS>\n",
    "  <BundleGridSampler name=\"bgs\"\n",
    "                     use_degrees=\"true\"\n",
    "                     set_bondlengths=\"true\"\n",
    "                     set_bondangles=\"true\"\n",
    "                     set_dihedrals=\"true\"\n",
    "                     residue_name=\"ALA\"\n",
    "                     crick_params_file=\"alpha_helix\"\n",
    "                     delta_omega1_min=\"10\"\n",
    "                     delta_omega1_max=\"40\"\n",
    "                     delta_omega1_samples=\"2\"\n",
    "                     nstruct_mode=\"false\"\n",
    "                     reset=\"true\"\n",
    "                     scorefxn=\"sfxn1\"\n",
    "                     helix_length=\"100\">\n",
    "    <Helix delta_omega0=\"0\" r0_min=\"5\" r0_max=\"10\" r0_samples=\"2\" omega0_min=\"-4\" omega0_max=\"-1\" omega0_samples=\"3\"/>\n",
    "    <Helix invert=\"true\" delta_omega0=\"120\" r0_copies_helix=\"1\" pitch_from_helix=\"1\" />\n",
    "    <Helix invert=\"true\" delta_omega0=\"240\" r0_copies_helix=\"1\" pitch_from_helix=\"1\" />\n",
    "  </BundleGridSampler>\n",
    "</MOVERS>\n",
    "\"\"\").get_mover(\"bgs\").apply(pose)\n",
    "\n",
    "view_pose(pose)"
   ]
  },
  {
   "cell_type": "markdown",
   "metadata": {},
   "source": [
    "### Example 3:"
   ]
  },
  {
   "cell_type": "code",
   "execution_count": null,
   "metadata": {},
   "outputs": [],
   "source": [
    "pose = pyrosetta.rosetta.core.pose.Pose()\n",
    "pyrosetta.rosetta.protocols.rosetta_scripts.XmlObjects.create_from_string(\"\"\"\n",
    "<MOVERS>\n",
    "  <MakeBundle name=\"bundle1\" \n",
    "              set_dihedrals=\"true\"\n",
    "              set_bondlengths=\"true\"\n",
    "              set_bondangles=\"true\"\n",
    "              residue_name=\"ALA\"\n",
    "              crick_params_file=\"alpha_helix\"\n",
    "              r0=\"6.0\"\n",
    "              omega0=\"2.8647891\"\n",
    "              helix_length=\"200\"\n",
    "              use_degrees=\"true\" >\n",
    "    <Helix r0=\"10\" delta_omega0=\"0.00\" z1_offset=\"3.000\" />\n",
    "    <Helix r0=\"10\" delta_omega0=\"45.0\" z1_offset=\"0.750\" invert=\"true\" />\n",
    "    <Helix r0=\"10\" delta_omega0=\"90.0\" z1_offset=\"-0.75\" />\n",
    "    <Helix r0=\"10\" delta_omega0=\"135.\" z1_offset=\"1.500\" invert=\"true\" />\n",
    "    <Helix r0=\"10\" delta_omega0=\"180.\" z1_offset=\"-1.50\" />\n",
    "    <Helix r0=\"10\" delta_omega0=\"225.\" z1_offset=\"2.250\" invert=\"true\" />\n",
    "    <Helix r0=\"10\" delta_omega0=\"270.\" z1_offset=\"-2.25\" />\n",
    "    <Helix r0=\"10\" delta_omega0=\"315.\" z1_offset=\"3.000\" invert=\"true\" />\n",
    "  </MakeBundle>\n",
    "</MOVERS>\n",
    "\"\"\").get_mover(\"bundle1\").apply(pose)\n",
    "\n",
    "view_pose(pose)"
   ]
  },
  {
   "cell_type": "markdown",
   "metadata": {},
   "source": [
    "### Example 4:"
   ]
  },
  {
   "cell_type": "code",
   "execution_count": null,
   "metadata": {},
   "outputs": [],
   "source": [
    "pose = pyrosetta.rosetta.core.pose.Pose()\n",
    "pyrosetta.rosetta.protocols.rosetta_scripts.XmlObjects.create_from_string(\"\"\"\n",
    "<MOVERS>\n",
    "  <MakeBundle name=\"bundle1\" \n",
    "              set_dihedrals=\"true\"\n",
    "              set_bondlengths=\"true\"\n",
    "              set_bondangles=\"true\"\n",
    "              residue_name=\"ALA\"\n",
    "              crick_params_file=\"beta_strand\"\n",
    "              r0=\"6.5\"\n",
    "              omega0=\"16.0\"\n",
    "              delta_omega0=\"0.0\"\n",
    "              delta_omega1=\"81.0\"\n",
    "              delta_t=\"0.0\"\n",
    "              helix_length=\"8\"\n",
    "              z0_offset=\"0\"\n",
    "              z1_offset=\"0\"\n",
    "              epsilon=\"1\"\n",
    "              use_degrees=\"true\" >\n",
    "    <Helix delta_omega0=\"0.00\" />\n",
    "    <Helix delta_omega0=\"45.0\" invert=\"true\" />\n",
    "    <Helix delta_omega0=\"90.0\" />\n",
    "    <Helix delta_omega0=\"135.\" invert=\"true\" />\n",
    "    <Helix delta_omega0=\"180.\" />\n",
    "    <Helix delta_omega0=\"225.\" invert=\"true\" />\n",
    "    <Helix delta_omega0=\"270.\" />\n",
    "    <Helix delta_omega0=\"315.\" invert=\"true\" />\n",
    "  </MakeBundle>\n",
    "</MOVERS>\n",
    "\"\"\").get_mover(\"bundle1\").apply(pose)\n",
    "\n",
    "view_pose(pose)"
   ]
  },
  {
   "cell_type": "markdown",
   "metadata": {},
   "source": [
    "### Example 5:"
   ]
  },
  {
   "cell_type": "code",
   "execution_count": null,
   "metadata": {},
   "outputs": [],
   "source": [
    "pose = pyrosetta.rosetta.core.pose.Pose()\n",
    "pyrosetta.rosetta.protocols.rosetta_scripts.XmlObjects.create_from_string(\"\"\"\n",
    "<MOVERS>\n",
    "  <MakeBundle name=\"bundle1\"\n",
    "              set_bondlengths=\"true\"\n",
    "              set_bondangles=\"true\"\n",
    "              residue_name=\"ALA\"\n",
    "              crick_params_file=\"beta_strand\"\n",
    "              symmetry=\"16\"\n",
    "              r0=\"29\"\n",
    "              omega0=\"0.075\"\n",
    "              helix_length=\"20\">\n",
    "    <Helix/> # A strand\n",
    "    <Helix delta_omega0=\"0.19634954\" invert=\"1\" delta_t=\"0.25\" delta_omega1=\"1.5707963\"/> # An offset, inverted strand.\n",
    "    <Helix r0=\"21\" omega0=\"0.05\" crick_params_file=\"alpha_helix\" helix_length=\"40\"/> # An alpha-helix.\n",
    "  </MakeBundle>\n",
    "</MOVERS>\n",
    "\"\"\").get_mover(\"bundle1\").apply(pose)\n",
    "\n",
    "view_pose(pose)"
   ]
  },
  {
   "cell_type": "markdown",
   "metadata": {},
   "source": [
    "- Grigoryan, Gevorg and William F Degrado. “Probing designability via a generalized model of helical bundle geometry” Journal of molecular biology vol. 405,4 (2010): 1079-100. https://www.ncbi.nlm.nih.gov/pmc/articles/PMC3052747/\n",
    "- Huang, Po-Ssu et al. “High thermodynamic stability of parametrically designed helical bundles” Science (New York, N.Y.) vol. 346,6208 (2014): 481-485. https://www.ncbi.nlm.nih.gov/pmc/articles/PMC4612401/\n",
    "- Weitzner, Brian. \"Parametric disasters\" Published September 03, 2018. https://weitzner.github.io/posts/2018/08/parametric-disasters/"
   ]
  }
 ],
 "metadata": {
  "kernelspec": {
   "display_name": "Python 3",
   "language": "python",
   "name": "python3"
  },
  "language_info": {
   "codemirror_mode": {
    "name": "ipython",
    "version": 3
   },
   "file_extension": ".py",
   "mimetype": "text/x-python",
   "name": "python",
   "nbconvert_exporter": "python",
   "pygments_lexer": "ipython3",
   "version": "3.6.1"
  }
 },
 "nbformat": 4,
 "nbformat_minor": 2
}

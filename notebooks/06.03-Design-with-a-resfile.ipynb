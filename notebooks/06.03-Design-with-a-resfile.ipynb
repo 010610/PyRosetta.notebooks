{
 "cells": [
  {
   "cell_type": "markdown",
   "metadata": {},
   "source": [
    "# Protein Design Using a Resfile in PyRosetta\n",
    "\n",
    "#### Presenter: Jason Klima (klimaj@uw.edu)"
   ]
  },
  {
   "cell_type": "code",
   "execution_count": 1,
   "metadata": {},
   "outputs": [
    {
     "ename": "AttributeError",
     "evalue": "'module' object has no attribute 'DataFrame'",
     "output_type": "error",
     "traceback": [
      "\u001b[0;31m---------------------------------------------------------------------------\u001b[0m",
      "\u001b[0;31mAttributeError\u001b[0m                            Traceback (most recent call last)",
      "\u001b[0;32m<ipython-input-1-2f38aa87060d>\u001b[0m in \u001b[0;36m<module>\u001b[0;34m()\u001b[0m\n\u001b[1;32m      6\u001b[0m \u001b[0;32mimport\u001b[0m \u001b[0mpyrosetta\u001b[0m\u001b[0;34m\u001b[0m\u001b[0m\n\u001b[1;32m      7\u001b[0m \u001b[0;32mimport\u001b[0m \u001b[0mpyrosetta\u001b[0m\u001b[0;34m.\u001b[0m\u001b[0mtoolbox\u001b[0m\u001b[0;34m\u001b[0m\u001b[0m\n\u001b[0;32m----> 8\u001b[0;31m \u001b[0;32mimport\u001b[0m \u001b[0mpyrosetta\u001b[0m\u001b[0;34m.\u001b[0m\u001b[0mdistributed\u001b[0m\u001b[0;34m.\u001b[0m\u001b[0mio\u001b[0m\u001b[0;34m\u001b[0m\u001b[0m\n\u001b[0m\u001b[1;32m      9\u001b[0m \u001b[0;34m\u001b[0m\u001b[0m\n\u001b[1;32m     10\u001b[0m \u001b[0;32mfrom\u001b[0m \u001b[0mIPython\u001b[0m\u001b[0;34m.\u001b[0m\u001b[0mcore\u001b[0m\u001b[0;34m.\u001b[0m\u001b[0mdisplay\u001b[0m \u001b[0;32mimport\u001b[0m \u001b[0mdisplay\u001b[0m\u001b[0;34m,\u001b[0m \u001b[0mHTML\u001b[0m\u001b[0;34m\u001b[0m\u001b[0m\n",
      "\u001b[0;32m/Library/Python/2.7/site-packages/pyrosetta-2019.1+release.dbc838b6ae6-py2.7-macosx-10.13-intel.egg/pyrosetta/distributed/io.py\u001b[0m in \u001b[0;36m<module>\u001b[0;34m()\u001b[0m\n\u001b[1;32m      8\u001b[0m \u001b[0;34m\u001b[0m\u001b[0m\n\u001b[1;32m      9\u001b[0m \u001b[0;32mfrom\u001b[0m \u001b[0mpyrosetta\u001b[0m\u001b[0;34m.\u001b[0m\u001b[0mdistributed\u001b[0m \u001b[0;32mimport\u001b[0m \u001b[0mrequires_init\u001b[0m\u001b[0;34m\u001b[0m\u001b[0m\n\u001b[0;32m---> 10\u001b[0;31m from pyrosetta.distributed.packed_pose import (\n\u001b[0m\u001b[1;32m     11\u001b[0m     \u001b[0mpack_result\u001b[0m\u001b[0;34m,\u001b[0m \u001b[0mto_pose\u001b[0m\u001b[0;34m,\u001b[0m \u001b[0mto_packed\u001b[0m\u001b[0;34m,\u001b[0m \u001b[0mto_dict\u001b[0m\u001b[0;34m,\u001b[0m \u001b[0mregister_container_traversal\u001b[0m\u001b[0;34m\u001b[0m\u001b[0m\n\u001b[1;32m     12\u001b[0m )\n",
      "\u001b[0;32m/Library/Python/2.7/site-packages/pyrosetta-2019.1+release.dbc838b6ae6-py2.7-macosx-10.13-intel.egg/pyrosetta/distributed/packed_pose/__init__.py\u001b[0m in \u001b[0;36m<module>\u001b[0;34m()\u001b[0m\n\u001b[1;32m     23\u001b[0m \u001b[0;34m\u001b[0m\u001b[0m\n\u001b[1;32m     24\u001b[0m \u001b[0;34m\u001b[0m\u001b[0m\n\u001b[0;32m---> 25\u001b[0;31m \u001b[0mregister_container_traversal\u001b[0m\u001b[0;34m(\u001b[0m\u001b[0mto_pose\u001b[0m\u001b[0;34m,\u001b[0m \u001b[0mdict_to_pose\u001b[0m\u001b[0;34m)\u001b[0m\u001b[0;34m\u001b[0m\u001b[0m\n\u001b[0m\u001b[1;32m     26\u001b[0m \u001b[0mregister_container_traversal\u001b[0m\u001b[0;34m(\u001b[0m\u001b[0mto_packed\u001b[0m\u001b[0;34m,\u001b[0m \u001b[0mdict_to_packed\u001b[0m\u001b[0;34m)\u001b[0m\u001b[0;34m\u001b[0m\u001b[0m\n\u001b[1;32m     27\u001b[0m \u001b[0mregister_container_traversal\u001b[0m\u001b[0;34m(\u001b[0m\u001b[0mto_dict\u001b[0m\u001b[0;34m,\u001b[0m \u001b[0mdict\u001b[0m\u001b[0;34m)\u001b[0m\u001b[0;34m\u001b[0m\u001b[0m\n",
      "\u001b[0;32m/Library/Python/2.7/site-packages/pyrosetta-2019.1+release.dbc838b6ae6-py2.7-macosx-10.13-intel.egg/pyrosetta/distributed/packed_pose/__init__.py\u001b[0m in \u001b[0;36mregister_container_traversal\u001b[0;34m(generic_func, dict_func)\u001b[0m\n\u001b[1;32m     20\u001b[0m     \u001b[0mregister_builtin_container_traversal\u001b[0m\u001b[0;34m(\u001b[0m\u001b[0mgeneric_func\u001b[0m\u001b[0;34m,\u001b[0m \u001b[0mdict_func\u001b[0m\u001b[0;34m)\u001b[0m\u001b[0;34m\u001b[0m\u001b[0m\n\u001b[1;32m     21\u001b[0m     \u001b[0;32mif\u001b[0m \u001b[0mregister_pandas_container_traversal\u001b[0m\u001b[0;34m:\u001b[0m\u001b[0;34m\u001b[0m\u001b[0m\n\u001b[0;32m---> 22\u001b[0;31m         \u001b[0mregister_pandas_container_traversal\u001b[0m\u001b[0;34m(\u001b[0m\u001b[0mgeneric_func\u001b[0m\u001b[0;34m,\u001b[0m \u001b[0mdict_func\u001b[0m\u001b[0;34m)\u001b[0m\u001b[0;34m\u001b[0m\u001b[0m\n\u001b[0m\u001b[1;32m     23\u001b[0m \u001b[0;34m\u001b[0m\u001b[0m\n\u001b[1;32m     24\u001b[0m \u001b[0;34m\u001b[0m\u001b[0m\n",
      "\u001b[0;32m/Library/Python/2.7/site-packages/pyrosetta-2019.1+release.dbc838b6ae6-py2.7-macosx-10.13-intel.egg/pyrosetta/distributed/packed_pose/pandas.pyc\u001b[0m in \u001b[0;36mregister_pandas_container_traversal\u001b[0;34m(generic_func, dict_func)\u001b[0m\n\u001b[1;32m     17\u001b[0m \u001b[0;34m\u001b[0m\u001b[0m\n\u001b[1;32m     18\u001b[0m \u001b[0;32mdef\u001b[0m \u001b[0mregister_pandas_container_traversal\u001b[0m\u001b[0;34m(\u001b[0m\u001b[0mgeneric_func\u001b[0m\u001b[0;34m,\u001b[0m \u001b[0mdict_func\u001b[0m\u001b[0;34m)\u001b[0m\u001b[0;34m:\u001b[0m\u001b[0;34m\u001b[0m\u001b[0m\n\u001b[0;32m---> 19\u001b[0;31m     \u001b[0;34m@\u001b[0m\u001b[0mgeneric_func\u001b[0m\u001b[0;34m.\u001b[0m\u001b[0mregister\u001b[0m\u001b[0;34m(\u001b[0m\u001b[0mpandas\u001b[0m\u001b[0;34m.\u001b[0m\u001b[0mDataFrame\u001b[0m\u001b[0;34m)\u001b[0m\u001b[0;34m\u001b[0m\u001b[0m\n\u001b[0m\u001b[1;32m     20\u001b[0m     \u001b[0;32mdef\u001b[0m \u001b[0mdataframe_traveral\u001b[0m\u001b[0;34m(\u001b[0m\u001b[0mdataframe\u001b[0m\u001b[0;34m)\u001b[0m\u001b[0;34m:\u001b[0m\u001b[0;34m\u001b[0m\u001b[0m\n\u001b[1;32m     21\u001b[0m         \u001b[0;32mif\u001b[0m \u001b[0m_is_dataframe_index_boring\u001b[0m\u001b[0;34m(\u001b[0m\u001b[0mdataframe\u001b[0m\u001b[0;34m.\u001b[0m\u001b[0mindex\u001b[0m\u001b[0;34m)\u001b[0m\u001b[0;34m:\u001b[0m\u001b[0;34m\u001b[0m\u001b[0m\n",
      "\u001b[0;31mAttributeError\u001b[0m: 'module' object has no attribute 'DataFrame'"
     ]
    }
   ],
   "source": [
    "from __future__ import print_function\n",
    "\n",
    "import logging\n",
    "logging.basicConfig(level=logging.INFO)\n",
    "import py3Dmol\n",
    "import pyrosetta\n",
    "import pyrosetta.toolbox\n",
    "import pyrosetta.distributed.io\n",
    "\n",
    "from IPython.core.display import display, HTML\n",
    "display(HTML(\"<style>.container { width:100% !important; }</style>\"))"
   ]
  },
  {
   "cell_type": "markdown",
   "metadata": {},
   "source": [
    "### Initialize PyRosetta with custom command line flags:"
   ]
  },
  {
   "cell_type": "code",
   "execution_count": null,
   "metadata": {},
   "outputs": [],
   "source": [
    "pyrosetta.init(\"-ignore_unrecognized_res 1 -ex1 -ex2aro -detect_disulf 0\")"
   ]
  },
  {
   "cell_type": "markdown",
   "metadata": {},
   "source": [
    "### For this tutorial, let's use the well-studied native protein crambin from PDB ID 1AB1 (http://www.rcsb.org/structure/1AB1).\n",
    "### Setup the input pose and scorefunction:"
   ]
  },
  {
   "cell_type": "code",
   "execution_count": null,
   "metadata": {},
   "outputs": [],
   "source": [
    "start_pose = pyrosetta.toolbox.rcsb.pose_from_rcsb(\"1AB1\", ATOM=True, CRYS=False)\n",
    "pose = start_pose.clone()\n",
    "scorefxn = pyrosetta.create_score_function(\"ref2015_cart.wts\")"
   ]
  },
  {
   "cell_type": "markdown",
   "metadata": {},
   "source": [
    "### Make of list of which residues are cysteine:"
   ]
  },
  {
   "cell_type": "code",
   "execution_count": null,
   "metadata": {},
   "outputs": [],
   "source": [
    "cys_res = []\n",
    "for i, aa in enumerate(start_pose.sequence(), start=1):\n",
    "    if aa == \"C\":\n",
    "        cys_res.append(i)\n",
    "print(cys_res)"
   ]
  },
  {
   "cell_type": "markdown",
   "metadata": {},
   "source": [
    "### Inspect `start_pose` using the `py3Dmol` module"
   ]
  },
  {
   "cell_type": "code",
   "execution_count": null,
   "metadata": {},
   "outputs": [],
   "source": [
    "viewer = py3Dmol.view(1200, 800)\n",
    "viewer.addModels(pyrosetta.distributed.io.to_pdbstring(start_pose), \"pdb\")\n",
    "viewer.setStyle({\"cartoon\": {\"color\": \"spectrum\"}, \"stick\": {\"radius\": 0.25}})\n",
    "for i in cys_res:\n",
    "    viewer.addResLabels({\"resi\": i})\n",
    "viewer.zoomTo()\n",
    "viewer.show()"
   ]
  },
  {
   "cell_type": "markdown",
   "metadata": {},
   "source": [
    "## *Design strategy:* Design away the cysteine residues (i.e. disulfide bonds) using a resfile, allowing all side-chains to re-pack and all backbone and side-chain torsions to minimize using the `FastDesign` mover.\n",
    "\n",
    "### Read more about resfile file structure at https://www.rosettacommons.org/docs/latest/rosetta_basics/file_types/resfiles"
   ]
  },
  {
   "cell_type": "markdown",
   "metadata": {},
   "source": [
    "### To write a resfile, we need to know which chain to mutate.\n",
    "### We can see that the pose consists of only chain \"A\" by printing the `pose.pdb_info()` object:"
   ]
  },
  {
   "cell_type": "code",
   "execution_count": null,
   "metadata": {},
   "outputs": [],
   "source": [
    "print(pose.pdb_info())"
   ]
  },
  {
   "cell_type": "markdown",
   "metadata": {},
   "source": [
    "### More programmatically, we could find which chains are in the `pose` using `pyrosetta.rosetta.core.pose.conf2pdb_chain(pose)` which returns a `pyrosetta.rosetta.std.map_unsigned_long_char` object which is iterable."
   ]
  },
  {
   "cell_type": "code",
   "execution_count": null,
   "metadata": {},
   "outputs": [],
   "source": [
    "print(pyrosetta.rosetta.core.pose.conf2pdb_chain(pose))"
   ]
  },
  {
   "cell_type": "code",
   "execution_count": null,
   "metadata": {},
   "outputs": [],
   "source": [
    "for k, v in pyrosetta.rosetta.core.pose.conf2pdb_chain(pose).items():\n",
    "    print(v)"
   ]
  },
  {
   "cell_type": "markdown",
   "metadata": {},
   "source": [
    "### So we could write a resfile to disc indicating design specifications to mutate only the cysteine residues in chain \"A\":"
   ]
  },
  {
   "cell_type": "code",
   "execution_count": null,
   "metadata": {},
   "outputs": [],
   "source": [
    "resfile = \"./resfile\"\n",
    "with open(resfile, \"w\") as f:\n",
    "    f.write(\"NATAA\\n\")\n",
    "    f.write(\"start\\n\")\n",
    "    for i in cys_res:\n",
    "        f.write(\"{0} {1} ALLAAxc\\n\".format(i, pyrosetta.rosetta.core.pose.conf2pdb_chain(pose)[1]))\n",
    "!cat {resfile}"
   ]
  },
  {
   "cell_type": "markdown",
   "metadata": {},
   "source": [
    "### Now we can setup the TaskOperations for the `FastDesign` mover. These tell `FastDesign` which residues to design or repack during the packer steps in `FastDesign`."
   ]
  },
  {
   "cell_type": "code",
   "execution_count": null,
   "metadata": {},
   "outputs": [],
   "source": [
    "# The task factory accepts all the task operations\n",
    "tf = pyrosetta.rosetta.core.pack.task.TaskFactory()\n",
    "\n",
    "# These are pretty standard\n",
    "tf.push_back(pyrosetta.rosetta.core.pack.task.operation.InitializeFromCommandline())\n",
    "tf.push_back(pyrosetta.rosetta.core.pack.task.operation.IncludeCurrent())\n",
    "tf.push_back(pyrosetta.rosetta.core.pack.task.operation.NoRepackDisulfides())\n",
    "\n",
    "# Include the resfile\n",
    "tf.push_back(pyrosetta.rosetta.core.pack.task.operation.ReadResfile(resfile))\n",
    "\n",
    "# Convert the task factory into a PackerTask\n",
    "packer_task = tf.create_task_and_apply_taskoperations(pose)\n",
    "# View the PackerTask\n",
    "print(packer_task)"
   ]
  },
  {
   "cell_type": "markdown",
   "metadata": {},
   "source": [
    "### The PackerTask looks as intended! \n",
    "\n",
    "### Now we can set up a `MoveMap` or a `MoveMapFactory` to specify which torsions are free to minimize during the minimization steps of the `FastDesign` mover"
   ]
  },
  {
   "cell_type": "code",
   "execution_count": null,
   "metadata": {},
   "outputs": [],
   "source": [
    "# Set up a MoveMapFactory\n",
    "mmf = pyrosetta.rosetta.core.select.movemap.MoveMapFactory()\n",
    "mmf.all_bb(setting=True)\n",
    "mmf.all_bondangles(setting=True)\n",
    "mmf.all_bondlengths(setting=True)\n",
    "mmf.all_chi(setting=True)\n",
    "mmf.all_jumps(setting=True)\n",
    "mmf.set_cartesian(setting=True)"
   ]
  },
  {
   "cell_type": "code",
   "execution_count": null,
   "metadata": {},
   "outputs": [],
   "source": [
    "# Set up a MoveMap\n",
    "# mm = pyrosetta.rosetta.core.kinematics.MoveMap()\n",
    "# mm.set_bb(True)\n",
    "# mm.set_chi(True)\n",
    "# mm.set_jump(True)\n",
    "\n",
    "# If needed, you could turn off bb and chi torsions for individual residues like this:\n",
    "\n",
    "# vector1 of true/false for each residue in the pose\n",
    "# subset_to_minimize = do_something_set.apply(pose)\n",
    "\n",
    "# for i in range(1, pose.size() + 1):\n",
    "#     if (not subset_to_minimize[i]):\n",
    "#         mm.set_bb(i, False)\n",
    "#         mm.set_chi(i, False)"
   ]
  },
  {
   "cell_type": "markdown",
   "metadata": {},
   "source": [
    "### Because some Movers only take as input a `MoveMap`, for backwards-compatibility one could generate a `MoveMap` from a `MoveMapFactory` using `pyrosetta.rosetta.protocols.fold_from_loops.movers.MoveMapFactoryToNamedMoveMapMover()`"
   ]
  },
  {
   "cell_type": "markdown",
   "metadata": {},
   "source": [
    "### Now let's double-check some more `pose` information to verify that we are ready for `FastDesign`:"
   ]
  },
  {
   "cell_type": "code",
   "execution_count": null,
   "metadata": {},
   "outputs": [],
   "source": [
    "display_pose = pyrosetta.rosetta.protocols.fold_from_loops.movers.DisplayPoseLabelsMover()\n",
    "display_pose.tasks(tf)\n",
    "display_pose.movemap_factory(mmf)\n",
    "display_pose.apply(pose)"
   ]
  },
  {
   "cell_type": "markdown",
   "metadata": {},
   "source": [
    "### Setting up `FastDesign` prints the default `relaxscript`, showing the `ramp_repack_min` settings with the following assignments:\n",
    ">ramp_repack_min [scale:fa_rep] [min_tolerance] [coord_cst_weight]"
   ]
  },
  {
   "cell_type": "code",
   "execution_count": null,
   "metadata": {},
   "outputs": [],
   "source": [
    "fast_design = pyrosetta.rosetta.protocols.denovo_design.movers.FastDesign(scorefxn_in=scorefxn, standard_repeats=1)\n",
    "fast_design.cartesian(True)\n",
    "fast_design.set_task_factory(tf)\n",
    "fast_design.set_movemap_factory(mmf)\n",
    "fast_design.min_type(\"lbfgs_armijo_nonmonotone\") # For non-Cartesian scorefunctions, use \"dfpmin_armijo_nonmonotone\"\n",
    "#fast_design.set_movemap(mm) # Could have optionally specified a MoveMap instead of MoveMapFactory\n",
    "#fast_design.minimize_bond_angles(True) # If not using MoveMapFactory, could specify bond angle minimization here\n",
    "#fast_design.minimize_bond_lengths(True) # If not using MoveMapFactory, could specify bond length minimization here"
   ]
  },
  {
   "cell_type": "markdown",
   "metadata": {},
   "source": [
    "### For recommendations on setting `fast_design.min_type()` for the scorefunction being used, see: https://www.rosettacommons.org/docs/latest/rosetta_basics/structural_concepts/minimization-overview#recommendations"
   ]
  },
  {
   "cell_type": "markdown",
   "metadata": {},
   "source": [
    "### Run FastDesign! Note: this takes ~1min 31s"
   ]
  },
  {
   "cell_type": "code",
   "execution_count": null,
   "metadata": {},
   "outputs": [],
   "source": [
    "%time fast_design.apply(pose)"
   ]
  },
  {
   "cell_type": "markdown",
   "metadata": {},
   "source": [
    "### Inspect the resulting design!"
   ]
  },
  {
   "cell_type": "code",
   "execution_count": null,
   "metadata": {},
   "outputs": [],
   "source": [
    "viewer = py3Dmol.view(1200, 800)\n",
    "viewer.addModels(pyrosetta.distributed.io.to_pdbstring(pose), \"pdb\")\n",
    "viewer.setStyle({\"cartoon\": {\"color\": \"spectrum\"}, \"stick\": {\"radius\": 0.25}})\n",
    "for i in cys_res:\n",
    "    viewer.addResLabels({\"resi\": i})\n",
    "viewer.zoomTo()\n",
    "viewer.show()"
   ]
  },
  {
   "cell_type": "markdown",
   "metadata": {},
   "source": [
    "### By how many Angstroms RMSD did the backbone Cα atoms move?"
   ]
  },
  {
   "cell_type": "code",
   "execution_count": null,
   "metadata": {},
   "outputs": [],
   "source": [
    "pyrosetta.rosetta.core.scoring.CA_rmsd(start_pose, pose)"
   ]
  },
  {
   "cell_type": "markdown",
   "metadata": {},
   "source": [
    "### What is the delta `total_score` from `start_pose` to `pose`? Why is it large?"
   ]
  },
  {
   "cell_type": "code",
   "execution_count": null,
   "metadata": {},
   "outputs": [],
   "source": [
    "delta_total_score = scorefxn(pose) - scorefxn(start_pose)\n",
    "print(delta_total_score)"
   ]
  },
  {
   "cell_type": "markdown",
   "metadata": {},
   "source": [
    "### What is the per-residue energy difference for each mutated position between `start_pose` and `pose`?"
   ]
  },
  {
   "cell_type": "code",
   "execution_count": null,
   "metadata": {},
   "outputs": [],
   "source": [
    "for i in cys_res:\n",
    "    pose_total_score = pyrosetta.rosetta.protocols.relax.get_per_residue_scores(pose, pyrosetta.rosetta.core.scoring.ScoreType.total_score)[i - 1]\n",
    "    start_pose_total_score = pyrosetta.rosetta.protocols.relax.get_per_residue_scores(start_pose, pyrosetta.rosetta.core.scoring.ScoreType.total_score)[i - 1]\n",
    "    print(\"The delta total_score for residue {} between start_pose and pose is {}\".format(i, pose_total_score - start_pose_total_score))"
   ]
  }
 ],
 "metadata": {
  "kernelspec": {
   "display_name": "Python 2",
   "language": "python",
   "name": "python2"
  },
  "language_info": {
   "codemirror_mode": {
    "name": "ipython",
    "version": 2
   },
   "file_extension": ".py",
   "mimetype": "text/x-python",
   "name": "python",
   "nbconvert_exporter": "python",
   "pygments_lexer": "ipython2",
   "version": "2.7.10"
  }
 },
 "nbformat": 4,
 "nbformat_minor": 2
}

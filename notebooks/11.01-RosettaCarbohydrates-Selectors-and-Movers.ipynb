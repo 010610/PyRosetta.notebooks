{
 "cells": [
  {
   "cell_type": "markdown",
   "metadata": {},
   "source": [
    "<!--NOTEBOOK_HEADER-->\n",
    "*This notebook contains material from [PyRosetta](https://RosettaCommons.github.io/PyRosetta);\n",
    "content is available [on Github](https://github.com/RosettaCommons/PyRosetta.notebooks.git).*"
   ]
  },
  {
   "cell_type": "markdown",
   "metadata": {},
   "source": [
    "<!--NAVIGATION-->\n",
    "< [Side Chain Conformations and Dunbrack Energies](http://nbviewer.jupyter.org/github/RosettaCommons/PyRosetta.notebooks/blob/master/notebooks/06.01-Side-Chain-Conformations-and-Dunbrack-Energies.ipynb) | [Contents](toc.ipynb) | [Index](index.ipynb) | [Protein Design with a Resfile and FastRelax](http://nbviewer.jupyter.org/github/RosettaCommons/PyRosetta.notebooks/blob/master/notebooks/06.03-Design-with-a-resfile-and-relax.ipynb) ><p><a href=\"https://colab.research.google.com/github/RosettaCommons/PyRosetta.notebooks/blob/master/notebooks/06.02-Packing-design-and-regional-relax.ipynb\"><img align=\"left\" src=\"https://colab.research.google.com/assets/colab-badge.svg\" alt=\"Open in Colab\" title=\"Open in Google Colaboratory\"></a>"
   ]
  },
  {
   "cell_type": "markdown",
   "metadata": {},
   "source": [
    "# Working With Glycans\n",
    "Keywords: carbohydrate, glycan, glucose, mannose, sugar\n",
    "\n",
    "## Overview\n",
    "Here, you will learn how to optimize the side-chains of a protein.  "
   ]
  },
  {
   "cell_type": "code",
   "execution_count": null,
   "metadata": {},
   "outputs": [],
   "source": [
    "# Notebook setup\n",
    "!pip install pyrosettacolabsetup\n",
    "import pyrosettacolabsetup\n",
    "pyrosettacolabsetup.setup()\n",
    "print (\"Notebook is set for PyRosetta use in Colab.  Have fun!\")"
   ]
  },
  {
   "cell_type": "markdown",
   "metadata": {},
   "source": [
    "**Make sure you are in the directory with the pdb files:**\n",
    "\n",
    "`cd google_drive/My\\ Drive/student-notebooks/`"
   ]
  },
  {
   "cell_type": "markdown",
   "metadata": {},
   "source": [
    "## Imports\n",
    "\n",
    "Before we begin, we must import some specific machinery from Rosetta.  Much of these tools are automatically imported when we do `from pyrosetta import *`, however, some are not. You should get into the habit of importing everything you need.  This will get you comfortable with the organization of Rosetta and make it easier to find tools that are beyond the scope of these workshops."
   ]
  },
  {
   "cell_type": "code",
   "execution_count": 29,
   "metadata": {},
   "outputs": [],
   "source": [
    "#Python\n",
    "from __future__ import print_function\n",
    "from pyrosetta import *\n",
    "from pyrosetta.rosetta import *\n",
    "from pyrosetta.teaching import *\n",
    "\n",
    "#Core Includes\n",
    "from rosetta.core.kinematics import MoveMap\n",
    "from rosetta.core.kinematics import FoldTree\n",
    "from rosetta.core.pack.task import TaskFactory\n",
    "from rosetta.core.pack.task import operation\n",
    "from rosetta.core.simple_metrics import metrics\n",
    "from rosetta.core.select import residue_selector as selections\n",
    "from rosetta.core import select\n",
    "from rosetta.core.select.movemap import *\n",
    "\n",
    "#Protocol Includes\n",
    "from rosetta.protocols import minimization_packing as pack_min\n",
    "from rosetta.protocols import relax as rel\n",
    "from rosetta.protocols.antibody.residue_selector import CDRResidueSelector\n",
    "from rosetta.protocols.antibody import *\n",
    "from rosetta.protocols.loops import *\n",
    "from rosetta.protocols.relax import FastRelax\n"
   ]
  },
  {
   "cell_type": "markdown",
   "metadata": {},
   "source": [
    "## Intitlialization \n",
    "\n",
    "Here, we will use command-line options to set the relax rounds to 2 instead of default 5 for speed of demo.  This is a bit tricky to do in code.\n",
    "We also set the input antibody numbering scheme so that Rosetta understands the nomenclature of our antibody. \n",
    "\n",
    "\n",
    "Note that typically, we would add these options: `-ex1` and `-ex2` in order to increase the amount of rotamers\n",
    " available for packing, but this will slow us down for the demo, so we are keeping this out."
   ]
  },
  {
   "cell_type": "code",
   "execution_count": 2,
   "metadata": {},
   "outputs": [
    {
     "name": "stdout",
     "output_type": "stream",
     "text": [
      "\u001b[0mcore.init: \u001b[0mChecking for fconfig files in pwd and ./rosetta/flags\n",
      "\u001b[0mcore.init: \u001b[0mReading fconfig.../Users/jadolfbr/.rosetta/flags/common\n",
      "\u001b[0mcore.init: \u001b[0m\n",
      "\u001b[0mcore.init: \u001b[0m\n",
      "\u001b[0mcore.init: \u001b[0mRosetta version: PyRosetta4.Release.python27.mac r206 2019.01+release.dbc838b6ae6 dbc838b6ae620b1293476b1bd4366ffc2facc5b5 http://www.pyrosetta.org 2019-01-03T10:31:13\n",
      "\u001b[0mcore.init: \u001b[0mcommand: PyRosetta -use_input_sc -input_ab_scheme AHo_Scheme -ignore_unrecognized_res -ignore_zero_occupancy false -load_PDB_components false -relax:default_repeats 2 -database /Library/Python/2.7/site-packages/pyrosetta-2019.1+release.dbc838b6ae6-py2.7-macosx-10.13-intel.egg/pyrosetta/database\n",
      "\u001b[0mcore.init: \u001b[0m'RNG device' seed mode, using '/dev/urandom', seed=-153595891 seed_offset=0 real_seed=-153595891\n",
      "\u001b[0mcore.init.random: \u001b[0mRandomGenerator:init: Normal mode, seed=-153595891 RG_type=mt19937\n"
     ]
    }
   ],
   "source": [
    "init('-use_input_sc -input_ab_scheme AHo_Scheme -ignore_unrecognized_res \\\n",
    "     -ignore_zero_occupancy false -load_PDB_components false -relax:default_repeats 2 -no_fconfig')"
   ]
  },
  {
   "cell_type": "markdown",
   "metadata": {},
   "source": [
    "\n",
    "Unfortunately, there are few standards in the PDB for how saccharide residues in `.pdb` files should be numbered and named. The Rosetta code — with the appropriate flags initialization flags, such as `-alternate_3_letter_codes pdb_sugar` tries its best to interpret `.pdb` files with sugars, but because of ambiguity and inconsistency, success is in no way ensured.  See http://www.rosettacommons.org/docs/latest/rosetta_basics/preparation/Preparing-PDB-files-for-non-peptide-polymers for more info\n",
    "\n",
    "\n",
    "To guarantee that one can model the specific saccharide system desired unabiguously, Rosetta uses a slightly modified `.pdb` format for importing carbohydrate residues. The key difference in formats involves the `HETNAM` record of the PDB format. The standard PDB `HETNAM` record line:</p>\n",
    "\n",
    "```HETNAM     GLC ALPHA-D-GLUCOSE```\n",
    "<p>&hellip;means that all `GLC` 3-letter codes in the <em>entire file</em> are α-<font style=\"font-variant: small-caps\">d</font>-glucose, which is insufficient, as this \n",
    "could mean several different α-<font style=\"font-variant: small-caps\">d</font>-glucoses, depending on the ring form and on the main-chain connectivity of the glycan — and \n",
    "many, many more if one includes modified sugars! The modified Rosetta-ready PDB `HETNAM` \n",
    "record line:</p>\n",
    "\n",
    "```HETNAM     Glc A   1  ->4)-alpha-D-Glcp```\n",
    "<p>&hellip;means that the `GLC` residue <em>specifically at position A1</em> requires the `->4)-alpha-D-Glcp` `ResidueType` or any of its `VariantType`s. (Note also that Rosetta uses sentence case 3-letter-codes for sugars.)</p>\n",
    "<ul><li>The `test/data/carbohydrates/` folder of PyRosetta includes a collection of `.pdb` files for oligosaccharides. Change to that directory and reload maltotriose and isomaltose from `.pdb` files using `pose_from_file()`.</li></ul>\n",
    "\n",
    "Rosetta will output and input with this default format.  "
   ]
  },
  {
   "cell_type": "markdown",
   "metadata": {},
   "source": [
    "<!--NAVIGATION-->\n",
    "< [Side Chain Conformations and Dunbrack Energies](http://nbviewer.jupyter.org/github/RosettaCommons/PyRosetta.notebooks/blob/master/notebooks/06.01-Side-Chain-Conformations-and-Dunbrack-Energies.ipynb) | [Contents](toc.ipynb) | [Index](index.ipynb) | [Protein Design with a Resfile and FastRelax](http://nbviewer.jupyter.org/github/RosettaCommons/PyRosetta.notebooks/blob/master/notebooks/06.03-Design-with-a-resfile-and-relax.ipynb) ><p><a href=\"https://colab.research.google.com/github/RosettaCommons/PyRosetta.notebooks/blob/master/notebooks/06.02-Packing-design-and-regional-relax.ipynb\"><img align=\"left\" src=\"https://colab.research.google.com/assets/colab-badge.svg\" alt=\"Open in Colab\" title=\"Open in Google Colaboratory\"></a>"
   ]
  }
 ],
 "metadata": {
  "kernelspec": {
   "display_name": "Python 3",
   "language": "python",
   "name": "python3"
  },
  "language_info": {
   "codemirror_mode": {
    "name": "ipython",
    "version": 3
   },
   "file_extension": ".py",
   "mimetype": "text/x-python",
   "name": "python",
   "nbconvert_exporter": "python",
   "pygments_lexer": "ipython3",
   "version": "3.6.1"
  },
  "toc": {
   "base_numbering": 1,
   "nav_menu": {},
   "number_sections": true,
   "sideBar": true,
   "skip_h1_title": false,
   "title_cell": "Table of Contents",
   "title_sidebar": "Contents",
   "toc_cell": false,
   "toc_position": {},
   "toc_section_display": true,
   "toc_window_display": false
  }
 },
 "nbformat": 4,
 "nbformat_minor": 1
}

{
 "cells": [
  {
   "cell_type": "markdown",
   "metadata": {},
   "source": [
    "# Ligand Preparation for PyRosetta\n",
    "\n",
    "#### Presenter: Jason Klima (klimaj@uw.edu)"
   ]
  },
  {
   "cell_type": "markdown",
   "metadata": {},
   "source": [
    "### For this tutorial, we need scripts from the Rosetta codebase that are not packaged with  `conda`-deployed `pyrosetta`, so we need to have cloned the RosettaCommons github repository.\n",
    "#### Recommended method:\n",
    ">mkdir ~/git && cd ~/git\n",
    "\n",
    ">curl -OL https://raw.github.com/RosettaCommons/rosetta_clone_tools/master/get_rosetta.sh && bash get_rosetta.sh"
   ]
  },
  {
   "cell_type": "markdown",
   "metadata": {},
   "source": [
    "### For this tutorial, we will be docking ATP into cAMP-dependent protein kinase catalytic subunit alpha isoform 1 from *Mus musculus* using three different methods to exemplify the diversity of strategies available in PyRosetta:\n",
    "### 1. High-resolution ligand docking using `DockMCMProtocol` with the `ligand.wts` scorefunction and Gasteiger ligand partial charges\n",
    "### 2. Global ligand docking using `XMLObjects` with the `ref2015.wts` scorefunction and AM1-BCC ligand partial charges\n",
    "### 3. Global ligand docking using `pyrosetta.distributed` with the `beta_genpot.wts` scorefunction and AM1-BCC ligand partial charges"
   ]
  },
  {
   "cell_type": "code",
   "execution_count": 1,
   "metadata": {},
   "outputs": [
    {
     "data": {
      "text/html": [
       "<style>.container { width:100% !important; }</style>"
      ],
      "text/plain": [
       "<IPython.core.display.HTML object>"
      ]
     },
     "metadata": {},
     "output_type": "display_data"
    }
   ],
   "source": [
    "import logging\n",
    "logging.basicConfig(level=logging.INFO)\n",
    "import os\n",
    "import py3Dmol\n",
    "import sys\n",
    "\n",
    "from IPython.core.display import display, HTML\n",
    "display(HTML(\"<style>.container { width:100% !important; }</style>\"))\n",
    "from IPython.display import IFrame"
   ]
  },
  {
   "cell_type": "markdown",
   "metadata": {},
   "source": [
    "### Components of Rosetta residue full-atom and centroid `.params` files\n",
    "\n",
    "#### Rosetta `.params` files store a variety of chemical and geometric information used to define the shape and chemical connectivity of a ligand or amino acid building block or other small molecule."
   ]
  },
  {
   "cell_type": "code",
   "execution_count": 2,
   "metadata": {},
   "outputs": [
    {
     "data": {
      "text/html": [
       "\n",
       "        <iframe\n",
       "            width=\"1200\"\n",
       "            height=\"800\"\n",
       "            src=\"https://graylab.jhu.edu/pyrosetta/downloads/documentation/PyRosetta_Workshops_Appendix_B.pdf\"\n",
       "            frameborder=\"0\"\n",
       "            allowfullscreen\n",
       "        ></iframe>\n",
       "        "
      ],
      "text/plain": [
       "<IPython.lib.display.IFrame at 0x7fffec3cf208>"
      ]
     },
     "execution_count": 2,
     "metadata": {},
     "output_type": "execute_result"
    }
   ],
   "source": [
    "IFrame(\"https://graylab.jhu.edu/pyrosetta/downloads/documentation/PyRosetta_Workshops_Appendix_B.pdf\", width=1200, height=800)"
   ]
  },
  {
   "cell_type": "markdown",
   "metadata": {},
   "source": [
    "### Some potentially useful notes:\n",
    "\n",
    "- Some ligand `.params` files already exist in `~/anaconda3/envs/pyrosetta-code-school/lib/python3.6/site-packages/pyrosetta/database/chemical/residue_type_sets`\n",
    " - If you want to use them, uncomment lines for ligand `.params` files in `~/anaconda3/envs/pyrosetta-code-school/lib/python3.6/site-packages/pyrosetta/database/chemical/residue_type_sets/fa_standard/residue_types.txt`, then use `pyrosetta.init()` without specifying the `-extra_res_fa` flag because PyRosetta will find the `.params` file in the database.\n",
    " - Warning: this method is *not* recommended, because next time you run `conda update pyrosetta -c rosettacommons` your changes to the database will be lost. A possible workaround would be to permanantly modify `RosettaCommons/main/database/chemical/residue_type_sets/fa_standard/residue_types.txt` on github after seeking peer review. If you must use these files, the best solution would be to manually load them into PyRosetta using `pyrosetta.init(\"-extra_res_fa {}\".format(ligand_params_path))`.\n",
    " - Warning: as we will see, these extant `.params` files are *most likely* only compatible with `talaris2014.wts` or previous scorefunctions.\n",
    "- Upon re-weighting the newer energy functions (`ref2015.wts`, `beta_nov16.wts`, and `beta_genpot.wts`) energy function weights were optimized on computational models of ligands with partial charges generated with the AM1-BCC force field in Amber’s `antechamber` software suite.\n",
    "\n",
    "\n",
    "### Quick notes about where to obtain ligand conformers:\n",
    "\n",
    "- If the ligand exists in the PDB in a medium-to-high resolution structure, it is probably a good conformer to use for generating partial charges.\n",
    "\n",
    "- Sometimes you only want to model a ligand in a specific conformer (i.e. planar state or extended conformation) even though it is not the conformer with the lowest internal energy. In this case, you want to generate ligand partial charges for this specific conformer.\n",
    "\n",
    "- If the ligand of interest does not exist in the PDB, several software packages allow you to make `.pdb` files. Examples include:\n",
    "\n",
    " - CSD Mercury --> Edit Molecule…\n",
    "\n",
    " - Avogadro\n",
    "\n",
    " - PubChem Sketcher V2.4 (https://pubchem.ncbi.nlm.nih.gov/edit2/index.html) -> copy the SMILES string to process with the `rdkit` module in python -> output `.pdb` file\n",
    " \n",
    "### Ultimately, the conformer you choose will affect the partial charges generated, and the partial charges generated will influence the Rosetta `total_score`, `interfE` score, etc., affecting packing and minimization, so choose wisely!"
   ]
  },
  {
   "cell_type": "markdown",
   "metadata": {},
   "source": [
    "### Let's retreive the `.pdb` file containing ATP bound to cAMP-dependent protein kinase catalytic subunit alpha isoform 1 from *Mus musculus*:"
   ]
  },
  {
   "cell_type": "code",
   "execution_count": 3,
   "metadata": {},
   "outputs": [],
   "source": [
    "input_dir = os.path.join(os.getcwd(), \"input\")\n",
    "if not os.path.isdir(input_dir):\n",
    "    os.mkdir(input_dir)\n",
    "os.chdir(input_dir)\n",
    "!cp ~/git/Rosetta/main/source/src/python/PyRosetta/src/demo/data/test_lig.pdb ."
   ]
  },
  {
   "cell_type": "markdown",
   "metadata": {},
   "source": [
    "### Now extract the ATP molecule to a separate `.pdb` file:"
   ]
  },
  {
   "cell_type": "code",
   "execution_count": 4,
   "metadata": {},
   "outputs": [],
   "source": [
    "!grep \"^HETATM\" test_lig.pdb > ATP.pdb"
   ]
  },
  {
   "cell_type": "markdown",
   "metadata": {},
   "source": [
    "### To generate partial charges, we need to know the formal charge of the ligand.\n",
    "### Always manually inspect the ligand for which you are generating partial charges to ascertain formal charge - do not rely on PubChem or otherwise as protonation states can differ!"
   ]
  },
  {
   "cell_type": "code",
   "execution_count": 5,
   "metadata": {},
   "outputs": [
    {
     "data": {
      "application/3dmoljs_load.v0": "<div id=\"3dmolviewer_1556843642380886\"  style=\"position: relative; width: 600px; height: 300px\">\n        <p id=\"3dmolwarning_1556843642380886\" style=\"background-color:#ffcccc;color:black\">You appear to be running in JupyterLab (or JavaScript failed to load for some other reason).  You need to install the 3dmol extension: <br>\n        <tt>jupyter labextension install jupyterlab_3dmol</tt></p>\n        </div>\n<script>\n\nvar loadScriptAsync = function(uri){\n  return new Promise((resolve, reject) => {\n    var tag = document.createElement('script');\n    tag.src = uri;\n    tag.async = true;\n    tag.onload = () => {\n      resolve();\n    };\n  var firstScriptTag = document.getElementsByTagName('script')[0];\n  firstScriptTag.parentNode.insertBefore(tag, firstScriptTag);\n});\n};\n\nif(typeof $3Dmolpromise === 'undefined') {\n$3Dmolpromise = null;\n  $3Dmolpromise = loadScriptAsync('https://3dmol.csb.pitt.edu/build/3Dmol.js');\n}\n\nvar viewer_1556843642380886 = null;\nvar warn = document.getElementById(\"3dmolwarning_1556843642380886\");\nif(warn) {\n    warn.parentNode.removeChild(warn);\n}\n$3Dmolpromise.then(function() {\nviewer_1556843642380886 = $3Dmol.createViewer($(\"#3dmolviewer_1556843642380886\"),{backgroundColor:\"white\"});\n\tviewer_1556843642380886.addModel(\"HETATM    1  P1  ATP X   1      16.223   8.151  -1.015  1.00 20.00           P  \\nHETATM    2  O1  ATP X   1      17.550   8.536  -0.515  1.00 20.00           O  \\nHETATM    3  O2  ATP X   1      15.748   6.835  -0.427  1.00 20.00           O  \\nHETATM    4  O3  ATP X   1      16.255   8.014  -2.438  1.00 20.00           O  \\nHETATM    5  P2  ATP X   1      14.471  10.520  -1.490  1.00 20.00           P  \\nHETATM    6  O4  ATP X   1      13.929   9.920  -2.700  1.00 20.00           O  \\nHETATM    7  O5  ATP X   1      15.318  11.737  -1.637  1.00 20.00           O  \\nHETATM    8  O6  ATP X   1      15.196   9.363  -0.681  1.00 20.00           O  \\nHETATM    9  P3  ATP X   1      11.968   9.868  -0.260  1.00 20.00           P  \\nHETATM   10  O7  ATP X   1      11.100   9.880  -1.430  1.00 20.00           O  \\nHETATM   11  O8  ATP X   1      12.426   8.514   0.144  1.00 20.00           O  \\nHETATM   12  O9  ATP X   1      13.242  10.795  -0.567  1.00 20.00           O  \\nHETATM   13  O10 ATP X   1      11.333  10.591   1.011  1.00 20.00           O  \\nHETATM   14  C1  ATP X   1      12.092  10.373   2.227  1.00 20.00           C  \\nHETATM   15  C2  ATP X   1      11.238   9.922   3.406  1.00 20.00           C  \\nHETATM   16  O11 ATP X   1      10.003  10.681   3.386  1.00 20.00           O  \\nHETATM   17  C3  ATP X   1      10.722   8.498   3.395  1.00 20.00           C  \\nHETATM   18  O12 ATP X   1      11.705   7.533   3.717  1.00 20.00           O  \\nHETATM   19  C4  ATP X   1       9.560   8.606   4.401  1.00 20.00           C  \\nHETATM   20  O13 ATP X   1       9.942   8.562   5.764  1.00 20.00           O  \\nHETATM   21  C5  ATP X   1       8.988   9.957   4.085  1.00 20.00           C  \\nHETATM   22  N1  ATP X   1       7.778   9.924   3.236  1.00 20.00           N  \\nHETATM   23  C6  ATP X   1       7.884   9.906   1.879  1.00 20.00           C  \\nHETATM   24  N2  ATP X   1       6.731   9.904   1.248  1.00 20.00           N  \\nHETATM   25  C7  ATP X   1       5.796   9.977   2.253  1.00 20.00           C  \\nHETATM   26  C8  ATP X   1       4.373  10.039   2.244  1.00 20.00           C  \\nHETATM   27  N3  ATP X   1       3.616  10.001   1.128  1.00 20.00           N  \\nHETATM   28  N4  ATP X   1       3.756  10.034   3.445  1.00 20.00           N  \\nHETATM   29  C9  ATP X   1       4.499  10.076   4.582  1.00 20.00           C  \\nHETATM   30  N5  ATP X   1       5.825  10.053   4.705  1.00 20.00           N  \\nHETATM   31  C10 ATP X   1       6.425   9.873   3.496  1.00 20.00           C  \\n\",\"pdb\");\n\tviewer_1556843642380886.setStyle({\"stick\": {}});\n\tviewer_1556843642380886.zoomTo();\nviewer_1556843642380886.render();\n});\n</script>",
      "text/html": [
       "<div id=\"3dmolviewer_1556843642380886\"  style=\"position: relative; width: 600px; height: 300px\">\n",
       "        <p id=\"3dmolwarning_1556843642380886\" style=\"background-color:#ffcccc;color:black\">You appear to be running in JupyterLab (or JavaScript failed to load for some other reason).  You need to install the 3dmol extension: <br>\n",
       "        <tt>jupyter labextension install jupyterlab_3dmol</tt></p>\n",
       "        </div>\n",
       "<script>\n",
       "\n",
       "var loadScriptAsync = function(uri){\n",
       "  return new Promise((resolve, reject) => {\n",
       "    var tag = document.createElement('script');\n",
       "    tag.src = uri;\n",
       "    tag.async = true;\n",
       "    tag.onload = () => {\n",
       "      resolve();\n",
       "    };\n",
       "  var firstScriptTag = document.getElementsByTagName('script')[0];\n",
       "  firstScriptTag.parentNode.insertBefore(tag, firstScriptTag);\n",
       "});\n",
       "};\n",
       "\n",
       "if(typeof $3Dmolpromise === 'undefined') {\n",
       "$3Dmolpromise = null;\n",
       "  $3Dmolpromise = loadScriptAsync('https://3dmol.csb.pitt.edu/build/3Dmol.js');\n",
       "}\n",
       "\n",
       "var viewer_1556843642380886 = null;\n",
       "var warn = document.getElementById(\"3dmolwarning_1556843642380886\");\n",
       "if(warn) {\n",
       "    warn.parentNode.removeChild(warn);\n",
       "}\n",
       "$3Dmolpromise.then(function() {\n",
       "viewer_1556843642380886 = $3Dmol.createViewer($(\"#3dmolviewer_1556843642380886\"),{backgroundColor:\"white\"});\n",
       "\tviewer_1556843642380886.addModel(\"HETATM    1  P1  ATP X   1      16.223   8.151  -1.015  1.00 20.00           P  \\nHETATM    2  O1  ATP X   1      17.550   8.536  -0.515  1.00 20.00           O  \\nHETATM    3  O2  ATP X   1      15.748   6.835  -0.427  1.00 20.00           O  \\nHETATM    4  O3  ATP X   1      16.255   8.014  -2.438  1.00 20.00           O  \\nHETATM    5  P2  ATP X   1      14.471  10.520  -1.490  1.00 20.00           P  \\nHETATM    6  O4  ATP X   1      13.929   9.920  -2.700  1.00 20.00           O  \\nHETATM    7  O5  ATP X   1      15.318  11.737  -1.637  1.00 20.00           O  \\nHETATM    8  O6  ATP X   1      15.196   9.363  -0.681  1.00 20.00           O  \\nHETATM    9  P3  ATP X   1      11.968   9.868  -0.260  1.00 20.00           P  \\nHETATM   10  O7  ATP X   1      11.100   9.880  -1.430  1.00 20.00           O  \\nHETATM   11  O8  ATP X   1      12.426   8.514   0.144  1.00 20.00           O  \\nHETATM   12  O9  ATP X   1      13.242  10.795  -0.567  1.00 20.00           O  \\nHETATM   13  O10 ATP X   1      11.333  10.591   1.011  1.00 20.00           O  \\nHETATM   14  C1  ATP X   1      12.092  10.373   2.227  1.00 20.00           C  \\nHETATM   15  C2  ATP X   1      11.238   9.922   3.406  1.00 20.00           C  \\nHETATM   16  O11 ATP X   1      10.003  10.681   3.386  1.00 20.00           O  \\nHETATM   17  C3  ATP X   1      10.722   8.498   3.395  1.00 20.00           C  \\nHETATM   18  O12 ATP X   1      11.705   7.533   3.717  1.00 20.00           O  \\nHETATM   19  C4  ATP X   1       9.560   8.606   4.401  1.00 20.00           C  \\nHETATM   20  O13 ATP X   1       9.942   8.562   5.764  1.00 20.00           O  \\nHETATM   21  C5  ATP X   1       8.988   9.957   4.085  1.00 20.00           C  \\nHETATM   22  N1  ATP X   1       7.778   9.924   3.236  1.00 20.00           N  \\nHETATM   23  C6  ATP X   1       7.884   9.906   1.879  1.00 20.00           C  \\nHETATM   24  N2  ATP X   1       6.731   9.904   1.248  1.00 20.00           N  \\nHETATM   25  C7  ATP X   1       5.796   9.977   2.253  1.00 20.00           C  \\nHETATM   26  C8  ATP X   1       4.373  10.039   2.244  1.00 20.00           C  \\nHETATM   27  N3  ATP X   1       3.616  10.001   1.128  1.00 20.00           N  \\nHETATM   28  N4  ATP X   1       3.756  10.034   3.445  1.00 20.00           N  \\nHETATM   29  C9  ATP X   1       4.499  10.076   4.582  1.00 20.00           C  \\nHETATM   30  N5  ATP X   1       5.825  10.053   4.705  1.00 20.00           N  \\nHETATM   31  C10 ATP X   1       6.425   9.873   3.496  1.00 20.00           C  \\n\",\"pdb\");\n",
       "\tviewer_1556843642380886.setStyle({\"stick\": {}});\n",
       "\tviewer_1556843642380886.zoomTo();\n",
       "viewer_1556843642380886.render();\n",
       "});\n",
       "</script>"
      ]
     },
     "metadata": {},
     "output_type": "display_data"
    }
   ],
   "source": [
    "mol = open(os.path.join(os.getcwd(), \"ATP.pdb\")).read()\n",
    "viewer = py3Dmol.view(600, 300)\n",
    "viewer.addModel(mol, \"pdb\")\n",
    "viewer.setStyle({\"stick\": {}})\n",
    "viewer.zoomTo()\n",
    "viewer.show()"
   ]
  },
  {
   "cell_type": "markdown",
   "metadata": {},
   "source": [
    "### Since this ligand came from a crystal structure, there aren't any hydrogens on the ATP molecule. We need to add them either in `babel` using `-h -p <pH>` flags or manually in a molecular editing program before generating partial charges.\n",
    "### Also, in order to generate `.params` files for Rosetta, we need to convert the `.pdb`/`.mdl`/`.mol`/`.cif` etc. file of the ligand into a `.mol2` file. \n",
    "### We can combine these steps making use of the `babel` executable:"
   ]
  },
  {
   "cell_type": "code",
   "execution_count": 6,
   "metadata": {},
   "outputs": [
    {
     "name": "stdout",
     "output_type": "stream",
     "text": [
      "1 molecule converted\r\n",
      "45 audit log messages \r\n"
     ]
    }
   ],
   "source": [
    "babel =  os.path.join(os.path.dirname(sys.executable), \"babel\")\n",
    "!{babel} -ipdb ATP.pdb -omol2 ATP.mol2 -h -p 7.0"
   ]
  },
  {
   "cell_type": "markdown",
   "metadata": {},
   "source": [
    "### Now let's make sure the hydrogens look the way we want them to look."
   ]
  },
  {
   "cell_type": "code",
   "execution_count": 7,
   "metadata": {},
   "outputs": [
    {
     "data": {
      "application/3dmoljs_load.v0": "<div id=\"3dmolviewer_1556843652920432\"  style=\"position: relative; width: 600px; height: 300px\">\n        <p id=\"3dmolwarning_1556843652920432\" style=\"background-color:#ffcccc;color:black\">You appear to be running in JupyterLab (or JavaScript failed to load for some other reason).  You need to install the 3dmol extension: <br>\n        <tt>jupyter labextension install jupyterlab_3dmol</tt></p>\n        </div>\n<script>\n\nvar loadScriptAsync = function(uri){\n  return new Promise((resolve, reject) => {\n    var tag = document.createElement('script');\n    tag.src = uri;\n    tag.async = true;\n    tag.onload = () => {\n      resolve();\n    };\n  var firstScriptTag = document.getElementsByTagName('script')[0];\n  firstScriptTag.parentNode.insertBefore(tag, firstScriptTag);\n});\n};\n\nif(typeof $3Dmolpromise === 'undefined') {\n$3Dmolpromise = null;\n  $3Dmolpromise = loadScriptAsync('https://3dmol.csb.pitt.edu/build/3Dmol.js');\n}\n\nvar viewer_1556843652920432 = null;\nvar warn = document.getElementById(\"3dmolwarning_1556843652920432\");\nif(warn) {\n    warn.parentNode.removeChild(warn);\n}\n$3Dmolpromise.then(function() {\nviewer_1556843652920432 = $3Dmol.createViewer($(\"#3dmolviewer_1556843652920432\"),{backgroundColor:\"white\"});\n\tviewer_1556843652920432.addModel(\"@<TRIPOS>MOLECULE\\nATP.pdb\\n 43 45 0 0 0\\nSMALL\\nGASTEIGER\\n\\n@<TRIPOS>ATOM\\n      1  P1        16.2230    8.1510   -1.0150 P.3     1  ATP1       -0.0068\\n      2  O1        17.5500    8.5360   -0.5150 O.co2   1  ATP1       -0.5767\\n      3  O2        15.7480    6.8350   -0.4270 O.co2   1  ATP1       -0.5767\\n      4  O3        16.2550    8.0140   -2.4380 O.2     1  ATP1       -0.6374\\n      5  P2        14.4710   10.5200   -1.4900 P.3     1  ATP1        0.2206\\n      6  O4        13.9290    9.9200   -2.7000 O.2     1  ATP1       -0.5169\\n      7  O5        15.3180   11.7370   -1.6370 O.co2   1  ATP1       -0.4370\\n      8  O6        15.1960    9.3630   -0.6810 O.3     1  ATP1       -0.3141\\n      9  P3        11.9680    9.8680   -0.2600 P.3     1  ATP1        0.2182\\n     10  O7        11.1000    9.8800   -1.4300 O.2     1  ATP1       -0.5170\\n     11  O8        12.4260    8.5140    0.1440 O.co2   1  ATP1       -0.4371\\n     12  O9        13.2420   10.7950   -0.5670 O.3     1  ATP1       -0.2702\\n     13  O10       11.3330   10.5910    1.0110 O.3     1  ATP1       -0.3246\\n     14  C1        12.0920   10.3730    2.2270 C.3     1  ATP1        0.0836\\n     15  C2        11.2380    9.9220    3.4060 C.3     1  ATP1        0.1133\\n     16  O11       10.0030   10.6810    3.3860 O.3     1  ATP1       -0.3456\\n     17  C3        10.7220    8.4980    3.3950 C.3     1  ATP1        0.1135\\n     18  O12       11.7050    7.5330    3.7170 O.3     1  ATP1       -0.3864\\n     19  C4         9.5600    8.6060    4.4010 C.3     1  ATP1        0.1285\\n     20  O13        9.9420    8.5620    5.7640 O.3     1  ATP1       -0.3847\\n     21  C5         8.9880    9.9570    4.0850 C.3     1  ATP1        0.1667\\n     22  N1         7.7780    9.9240    3.2360 N.ar    1  ATP1       -0.2855\\n     23  C6         7.8840    9.9060    1.8790 C.ar    1  ATP1        0.1004\\n     24  N2         6.7310    9.9040    1.2480 N.ar    1  ATP1       -0.2306\\n     25  C7         5.7960    9.9770    2.2530 C.ar    1  ATP1        0.1473\\n     26  C8         4.3730   10.0390    2.2440 C.ar    1  ATP1        0.1472\\n     27  N3         3.6160   10.0010    1.1280 N.pl3   1  ATP1       -0.3413\\n     28  N4         3.7560   10.0340    3.4450 N.ar    1  ATP1       -0.2188\\n     29  C9         4.4990   10.0760    4.5820 C.ar    1  ATP1        0.1205\\n     30  N5         5.8250   10.0530    4.7050 N.ar    1  ATP1       -0.2159\\n     31  C10        6.4250    9.8730    3.4960 C.ar    1  ATP1        0.1674\\n     32 H          12.5775   11.2891    2.4917 H       1  ATP1        0.0591\\n     33 H          12.7892    9.5868    2.0253 H       1  ATP1        0.0591\\n     34 H          11.8995   10.0483    4.2375 H       1  ATP1        0.0647\\n     35 H          10.4171    8.1425    2.4330 H       1  ATP1        0.0647\\n     36 H          12.0808    7.7327    4.5887 H       1  ATP1        0.2100\\n     37 H           8.8924    7.7761    4.2982 H       1  ATP1        0.0665\\n     38 H          10.5564    9.2889    5.9512 H       1  ATP1        0.2101\\n     39 H           8.6923   10.4079    5.0092 H       1  ATP1        0.0866\\n     40 H           8.7916    9.8949    1.3879 H       1  ATP1        0.1030\\n     41 H           4.0450   10.0038    0.2419 H       1  ATP1        0.1438\\n     42 H           2.6346    9.9704    1.1997 H       1  ATP1        0.1438\\n     43 H           3.9669   10.1331    5.4644 H       1  ATP1        0.1048\\n@<TRIPOS>BOND\\n     1     6     5    2\\n     2     4     1    2\\n     3     7     5    1\\n     4     5     8    1\\n     5     5    12    1\\n     6    10     9    2\\n     7     1     8    1\\n     8     1     2    1\\n     9     1     3    1\\n    10    12     9    1\\n    11     9    11    1\\n    12     9    13    1\\n    13    13    14    1\\n    14    27    26    1\\n    15    24    23   ar\\n    16    24    25   ar\\n    17    23    22   ar\\n    18    14    15    1\\n    19    26    25   ar\\n    20    26    28   ar\\n    21    25    31   ar\\n    22    22    31   ar\\n    23    22    21    1\\n    24    16    15    1\\n    25    16    21    1\\n    26    17    15    1\\n    27    17    18    1\\n    28    17    19    1\\n    29    28    29   ar\\n    30    31    30   ar\\n    31    21    19    1\\n    32    19    20    1\\n    33    29    30   ar\\n    34    14    32    1\\n    35    14    33    1\\n    36    15    34    1\\n    37    17    35    1\\n    38    18    36    1\\n    39    19    37    1\\n    40    20    38    1\\n    41    21    39    1\\n    42    23    40    1\\n    43    27    41    1\\n    44    27    42    1\\n    45    29    43    1\\n\",\"mol2\");\n\tviewer_1556843652920432.setStyle({\"stick\": {}});\n\tviewer_1556843652920432.zoomTo();\nviewer_1556843652920432.render();\n});\n</script>",
      "text/html": [
       "<div id=\"3dmolviewer_1556843652920432\"  style=\"position: relative; width: 600px; height: 300px\">\n",
       "        <p id=\"3dmolwarning_1556843652920432\" style=\"background-color:#ffcccc;color:black\">You appear to be running in JupyterLab (or JavaScript failed to load for some other reason).  You need to install the 3dmol extension: <br>\n",
       "        <tt>jupyter labextension install jupyterlab_3dmol</tt></p>\n",
       "        </div>\n",
       "<script>\n",
       "\n",
       "var loadScriptAsync = function(uri){\n",
       "  return new Promise((resolve, reject) => {\n",
       "    var tag = document.createElement('script');\n",
       "    tag.src = uri;\n",
       "    tag.async = true;\n",
       "    tag.onload = () => {\n",
       "      resolve();\n",
       "    };\n",
       "  var firstScriptTag = document.getElementsByTagName('script')[0];\n",
       "  firstScriptTag.parentNode.insertBefore(tag, firstScriptTag);\n",
       "});\n",
       "};\n",
       "\n",
       "if(typeof $3Dmolpromise === 'undefined') {\n",
       "$3Dmolpromise = null;\n",
       "  $3Dmolpromise = loadScriptAsync('https://3dmol.csb.pitt.edu/build/3Dmol.js');\n",
       "}\n",
       "\n",
       "var viewer_1556843652920432 = null;\n",
       "var warn = document.getElementById(\"3dmolwarning_1556843652920432\");\n",
       "if(warn) {\n",
       "    warn.parentNode.removeChild(warn);\n",
       "}\n",
       "$3Dmolpromise.then(function() {\n",
       "viewer_1556843652920432 = $3Dmol.createViewer($(\"#3dmolviewer_1556843652920432\"),{backgroundColor:\"white\"});\n",
       "\tviewer_1556843652920432.addModel(\"@<TRIPOS>MOLECULE\\nATP.pdb\\n 43 45 0 0 0\\nSMALL\\nGASTEIGER\\n\\n@<TRIPOS>ATOM\\n      1  P1        16.2230    8.1510   -1.0150 P.3     1  ATP1       -0.0068\\n      2  O1        17.5500    8.5360   -0.5150 O.co2   1  ATP1       -0.5767\\n      3  O2        15.7480    6.8350   -0.4270 O.co2   1  ATP1       -0.5767\\n      4  O3        16.2550    8.0140   -2.4380 O.2     1  ATP1       -0.6374\\n      5  P2        14.4710   10.5200   -1.4900 P.3     1  ATP1        0.2206\\n      6  O4        13.9290    9.9200   -2.7000 O.2     1  ATP1       -0.5169\\n      7  O5        15.3180   11.7370   -1.6370 O.co2   1  ATP1       -0.4370\\n      8  O6        15.1960    9.3630   -0.6810 O.3     1  ATP1       -0.3141\\n      9  P3        11.9680    9.8680   -0.2600 P.3     1  ATP1        0.2182\\n     10  O7        11.1000    9.8800   -1.4300 O.2     1  ATP1       -0.5170\\n     11  O8        12.4260    8.5140    0.1440 O.co2   1  ATP1       -0.4371\\n     12  O9        13.2420   10.7950   -0.5670 O.3     1  ATP1       -0.2702\\n     13  O10       11.3330   10.5910    1.0110 O.3     1  ATP1       -0.3246\\n     14  C1        12.0920   10.3730    2.2270 C.3     1  ATP1        0.0836\\n     15  C2        11.2380    9.9220    3.4060 C.3     1  ATP1        0.1133\\n     16  O11       10.0030   10.6810    3.3860 O.3     1  ATP1       -0.3456\\n     17  C3        10.7220    8.4980    3.3950 C.3     1  ATP1        0.1135\\n     18  O12       11.7050    7.5330    3.7170 O.3     1  ATP1       -0.3864\\n     19  C4         9.5600    8.6060    4.4010 C.3     1  ATP1        0.1285\\n     20  O13        9.9420    8.5620    5.7640 O.3     1  ATP1       -0.3847\\n     21  C5         8.9880    9.9570    4.0850 C.3     1  ATP1        0.1667\\n     22  N1         7.7780    9.9240    3.2360 N.ar    1  ATP1       -0.2855\\n     23  C6         7.8840    9.9060    1.8790 C.ar    1  ATP1        0.1004\\n     24  N2         6.7310    9.9040    1.2480 N.ar    1  ATP1       -0.2306\\n     25  C7         5.7960    9.9770    2.2530 C.ar    1  ATP1        0.1473\\n     26  C8         4.3730   10.0390    2.2440 C.ar    1  ATP1        0.1472\\n     27  N3         3.6160   10.0010    1.1280 N.pl3   1  ATP1       -0.3413\\n     28  N4         3.7560   10.0340    3.4450 N.ar    1  ATP1       -0.2188\\n     29  C9         4.4990   10.0760    4.5820 C.ar    1  ATP1        0.1205\\n     30  N5         5.8250   10.0530    4.7050 N.ar    1  ATP1       -0.2159\\n     31  C10        6.4250    9.8730    3.4960 C.ar    1  ATP1        0.1674\\n     32 H          12.5775   11.2891    2.4917 H       1  ATP1        0.0591\\n     33 H          12.7892    9.5868    2.0253 H       1  ATP1        0.0591\\n     34 H          11.8995   10.0483    4.2375 H       1  ATP1        0.0647\\n     35 H          10.4171    8.1425    2.4330 H       1  ATP1        0.0647\\n     36 H          12.0808    7.7327    4.5887 H       1  ATP1        0.2100\\n     37 H           8.8924    7.7761    4.2982 H       1  ATP1        0.0665\\n     38 H          10.5564    9.2889    5.9512 H       1  ATP1        0.2101\\n     39 H           8.6923   10.4079    5.0092 H       1  ATP1        0.0866\\n     40 H           8.7916    9.8949    1.3879 H       1  ATP1        0.1030\\n     41 H           4.0450   10.0038    0.2419 H       1  ATP1        0.1438\\n     42 H           2.6346    9.9704    1.1997 H       1  ATP1        0.1438\\n     43 H           3.9669   10.1331    5.4644 H       1  ATP1        0.1048\\n@<TRIPOS>BOND\\n     1     6     5    2\\n     2     4     1    2\\n     3     7     5    1\\n     4     5     8    1\\n     5     5    12    1\\n     6    10     9    2\\n     7     1     8    1\\n     8     1     2    1\\n     9     1     3    1\\n    10    12     9    1\\n    11     9    11    1\\n    12     9    13    1\\n    13    13    14    1\\n    14    27    26    1\\n    15    24    23   ar\\n    16    24    25   ar\\n    17    23    22   ar\\n    18    14    15    1\\n    19    26    25   ar\\n    20    26    28   ar\\n    21    25    31   ar\\n    22    22    31   ar\\n    23    22    21    1\\n    24    16    15    1\\n    25    16    21    1\\n    26    17    15    1\\n    27    17    18    1\\n    28    17    19    1\\n    29    28    29   ar\\n    30    31    30   ar\\n    31    21    19    1\\n    32    19    20    1\\n    33    29    30   ar\\n    34    14    32    1\\n    35    14    33    1\\n    36    15    34    1\\n    37    17    35    1\\n    38    18    36    1\\n    39    19    37    1\\n    40    20    38    1\\n    41    21    39    1\\n    42    23    40    1\\n    43    27    41    1\\n    44    27    42    1\\n    45    29    43    1\\n\",\"mol2\");\n",
       "\tviewer_1556843652920432.setStyle({\"stick\": {}});\n",
       "\tviewer_1556843652920432.zoomTo();\n",
       "viewer_1556843652920432.render();\n",
       "});\n",
       "</script>"
      ]
     },
     "metadata": {},
     "output_type": "display_data"
    }
   ],
   "source": [
    "mol = open(os.path.join(os.getcwd(), \"ATP.mol2\")).read()\n",
    "viewer = py3Dmol.view(600, 300)\n",
    "viewer.addModel(mol, \"mol2\")\n",
    "viewer.setStyle({\"stick\": {}})\n",
    "viewer.zoomTo()\n",
    "viewer.show()"
   ]
  },
  {
   "cell_type": "markdown",
   "metadata": {},
   "source": [
    "### We can see that the formal charge is -4.\n",
    "\n",
    "### From `ATP.mol2`, we will generate the following:\n",
    "### 1. An `ATP.gasteiger.fa.params` file with Gasteiger partial charges with the standard atom type set (namely \"fa_standard\") using the `molfile_to_params.py` script to be used with the `talaris2014.wts` scorefunction and earlier.\n",
    "### 2. An `ATP.am1-bcc.fa.params` file with AM1-BCC partial charges with the standard atom type set (namely \"fa_standard\") using the `molfile_to_params.py` script to be used with the `ref2015.wts`,  `ref2015_cart.wts`, `beta_nov16.wts` and `beta_nov16_cart.wts` scorefunctions.\n",
    "### 3. An `ATP.am1-bcc.gp.params` file with AM1-BCC partial charges with the generic atom type set (namely \"gen_pot\") using the `mol2genparams.py` script to be used with `beta_genpot.wts` scorefunction and beyond. Note: still being actively developed!\n",
    "\n",
    "### For more information on the difference between atom type sets, see: https://www.rosettacommons.org/docs/latest/GenericAtomtypes"
   ]
  },
  {
   "cell_type": "markdown",
   "metadata": {},
   "source": [
    "## Generating `ATP.gasteiger.fa.params`:"
   ]
  },
  {
   "cell_type": "markdown",
   "metadata": {},
   "source": [
    "### For this approach we will use the `~Rosetta/main/source/scripts/python/public/molfile_to_params.py` script to generate full-atom and centroid `.params` files for modeling ligands in Rosetta and PyRosetta.\n",
    "### The input file is a `.mol2` file of the ligand, not `.pdb`/`.mdl`/`.mol`/`.cif` etc. files\n",
    "### Check the available command line options:"
   ]
  },
  {
   "cell_type": "code",
   "execution_count": 8,
   "metadata": {},
   "outputs": [
    {
     "name": "stdout",
     "output_type": "stream",
     "text": [
      "Usage: molfile_to_params.py [flags] { INPUT.mol | INPUT.sdf | INPUT.mol2 }\r\n",
      "\r\n",
      "Converts a small molecule in an MDL Molfile with \"M SPLT\" and \"M ROOT\"\r\n",
      "records into a series of .params residue definition files for Rosetta.\r\n",
      "Also writes out the ligand conformation as PDB HETATMs.\r\n",
      "\r\n",
      "If an SD file is given as input instead, the first entry is used for\r\n",
      "generating topology / parameter files, and they all are used for\r\n",
      "generating PDB-style coordinates in separate, numbered files.\r\n",
      "These multiple files can optionally be concatenated into a single file,\r\n",
      "which can then be specified with an additional PDB_ROTAMERS line in the\r\n",
      ".params file to include the extra conformations as ligand rotamers.\r\n",
      "Multiple models may also be supplied in MOL2 format, which does not support\r\n",
      "M ROOT and M SPLT records but does allow for partial charges.\r\n",
      "File type is deduced from the extension.\r\n",
      "\r\n",
      "To divide a ligand into fragments by \"breaking\" bonds (optional):\r\n",
      "M SPLT atom_no1 atom_no2\r\n",
      "\r\n",
      "To specify a neighbor atom for a ligand fragment (optional):\r\n",
      "M NBR atom_no\r\n",
      "\r\n",
      "To specify a root atom for a ligand fragment (optional):\r\n",
      "M ROOT atom_no\r\n",
      "\r\n",
      "The \"M\" records (M SPLT, M NBR, M ROOT) can alternatively be specified in\r\n",
      "a separate control file, which can be used with MOL2 format files.\r\n",
      "\r\n",
      "Note that for ligands with multiple rotamers, Rosetta overlays the ligands\r\n",
      "based on the neighbor atom (not the root atom), such that the position of the\r\n",
      "neighbor atom and the orientation of the atoms bonded to the neighbor atom is\r\n",
      "the same. When using ligand rotamers, it is recommended to confirm that the\r\n",
      "neighbor atom falls in an appropriate position.\r\n",
      "\r\n",
      "Expects that the input ligand has already had aromaticity \"perceived\",\r\n",
      "i.e. that it contains aromatic bonds rather than alternating single and double\r\n",
      "bonds (Kekule structure).\r\n",
      "\r\n",
      "Optionally writes a kinemage graphics visualization of the atom tree,\r\n",
      "neighbor atom selection, fragments, etc -- very helpful for debugging\r\n",
      "and for visualizing exactly what was done to the ligand.\r\n",
      "\r\n",
      "Options:\r\n",
      "  -h, --help            show this help message and exit\r\n",
      "  -n NM, --name=NM      name ligand residues NM1,NM2,... instead of\r\n",
      "                        LG1,LG2,...\r\n",
      "  -p FILE, --pdb=FILE   prefix for PDB file names\r\n",
      "  -c, --centroid        write files for Rosetta centroid mode too\r\n",
      "  --chain=CHAIN         The chain letter to use for the output PDB ligand.\r\n",
      "  --center=X,Y,Z        translate output PDB coords to have given heavy-atom\r\n",
      "                        centroid\r\n",
      "  -m MAX, --max-confs=MAX\r\n",
      "                        don't expand proton chis if above this many total\r\n",
      "                        confs\r\n",
      "  --root_atom=ATOM_NUM  which atom in the molfile is the root? (indexed from\r\n",
      "                        1)\r\n",
      "  --nbr_atom=ATOM_NUM   which atom in the molfile is the nbr atom? (indexed\r\n",
      "                        from 1)\r\n",
      "  -k FILE, --kinemage=FILE\r\n",
      "                        write ligand topology to FILE\r\n",
      "  -a ALA, --amino-acid=ALA\r\n",
      "                        set up params file for modified amino acid; .mol2\r\n",
      "                        only; edit chis afterward.  Implies --keep-names.\r\n",
      "  --clobber             overwrite existing files\r\n",
      "  --no-param            skip writing .params files (for debugging)\r\n",
      "  --no-pdb              skip writing .pdb files (for debugging)\r\n",
      "  --extra_torsion_output\r\n",
      "                        writing additional torsion files\r\n",
      "  --keep-names          leaves atom names untouched except for duplications\r\n",
      "  --long-names          if specified name is longer than 3 letters, keep\r\n",
      "                        entire name in param NAME field instead of truncating\r\n",
      "  --recharge=CHG        ignore existing partial charges, setting total charge\r\n",
      "                        to CHG\r\n",
      "  --m-ctrl=FILE         read additional M control lines from FILE\r\n",
      "  --mm-as-virt          assign mm atom types as VIRT, rather than X\r\n",
      "  --skip-bad-conformers\r\n",
      "                        If a conformer has atoms in the wrong order, skip it\r\n",
      "                        and continue rather than dying\r\n",
      "  --conformers-in-one-file\r\n",
      "                        Output 1st conformer to NAME.pdb and all others to\r\n",
      "                        NAME_conformers.pdb\r\n"
     ]
    }
   ],
   "source": [
    "molfile_to_params = \"~/git/Rosetta/main/source/scripts/python/public/molfile_to_params.py\"\n",
    "!python2.7 {molfile_to_params} -h"
   ]
  },
  {
   "cell_type": "markdown",
   "metadata": {},
   "source": [
    "### Running `molfile_to_params.py`:"
   ]
  },
  {
   "cell_type": "code",
   "execution_count": 9,
   "metadata": {},
   "outputs": [
    {
     "name": "stdout",
     "output_type": "stream",
     "text": [
      "Centering ligands at (  10.506,    9.569,    1.503)\n",
      "Atom names contain duplications -- renaming all atoms.\n",
      "WARNING:  atom  P1  has valence > 4\n",
      "WARNING:  atom  P2  has valence > 4\n",
      "WARNING:  atom  P3  has valence > 4\n",
      "Ignoring partial charges in file; net charge set to -4.000\n",
      "Total naive charge -5.805, desired charge -4.000, offsetting all atoms by 0.042\n",
      "WARNING: fragment 1 has 43 total atoms including H; protein residues have 7 - 24 (DNA: 33)\n",
      "WARNING: fragment 1 has 31 non-H atoms; protein residues have 4 - 14 (DNA: 22)\n",
      "WARNING: fragment 1 has 10 rotatable bonds; protein residues have 0 - 4\n",
      "Average 43.0 atoms (31.0 non-H atoms) per fragment\n",
      "(Proteins average 15.5 atoms (7.8 non-H atoms) per residue)\n",
      "WARNING:  no root atom specified, using NBR atom instead.\n",
      "Wrote params file ATP.fa.params\n",
      "Wrote params file ATP.cen.params\n"
     ]
    }
   ],
   "source": [
    "!python2.7 {molfile_to_params} -n ATP -p ATP -c --conformers-in-one-file --keep-names --extra_torsion_output --clobber --chain=X --recharge=-4 ATP.mol2"
   ]
  },
  {
   "cell_type": "markdown",
   "metadata": {},
   "source": [
    "### Check the files that were created!"
   ]
  },
  {
   "cell_type": "code",
   "execution_count": 10,
   "metadata": {},
   "outputs": [
    {
     "name": "stdout",
     "output_type": "stream",
     "text": [
      "total 414K\r\n",
      "-rw-r--r-- 1 klimaj baker 5.8K May  2 15:55 ATP.am1-bcc.fa.params\r\n",
      "-rw-r--r-- 1 klimaj baker 3.4K May  2 15:55 sqm.pdb\r\n",
      "-rw-r--r-- 1 klimaj baker 3.5K May  2 15:55 ATP.am1-bcc.fa.pdb\r\n",
      "-rw-r--r-- 1 klimaj baker 2.8K May  2 15:55 ATP.am1-bcc_0001.pdb\r\n",
      "-rw-r--r-- 1 klimaj baker 9.8K May  2 15:55 ATOMTYPE.INF\r\n",
      "-rw-r--r-- 1 klimaj baker 4.9K May  2 15:55 ANTECHAMBER_BOND_TYPE.AC\r\n",
      "-rw-r--r-- 1 klimaj baker 4.9K May  2 15:55 ANTECHAMBER_AC.AC0\r\n",
      "-rw-r--r-- 1 klimaj baker 4.9K May  2 15:55 ANTECHAMBER_AC.AC\r\n",
      "-rw-r--r-- 1 klimaj baker 2.4K May  2 15:55 sqm.in\r\n",
      "-rw-r--r-- 1 klimaj baker  14K May  2 15:55 sqm.out\r\n",
      "-rw-r--r-- 1 klimaj baker 5.6K May  2 15:55 ATP.am1-bcc.params\r\n",
      "-rw-r--r-- 1 klimaj baker 5.6K May  2 15:55 ATP.am1-bcc.gp.params\r\n",
      "-rw-r--r-- 1 klimaj baker 4.9K May  2 15:55 ANTECHAMBER_BOND_TYPE.AC0\r\n",
      "-rw-r--r-- 1 klimaj baker 4.8K May  2 15:55 ATP.am1-bcc.cen.params\r\n",
      "-rw-r--r-- 1 klimaj baker 5.8K May  2 15:55 ATP.gasteiger.fa.params\r\n",
      "-rw-r--r-- 1 klimaj baker 2.9K May  2 15:55 ATP.am1-bcc.cen.pdb\r\n",
      "-rw-r--r-- 1 klimaj baker  816 May  2 15:55 ATP.am1-bcc.fa.tors\r\n",
      "-rw-r--r-- 1 klimaj baker  680 May  2 15:55 ATP.am1-bcc.cen.tors\r\n",
      "-rw-r--r-- 1 klimaj baker 4.9K May  2 15:55 ANTECHAMBER_AM1BCC_PRE.AC\r\n",
      "-rw-r--r-- 1 klimaj baker 4.7K May  2 15:55 ATP.am1-bcc.mol2\r\n",
      "-rw-r--r-- 1 klimaj baker 4.9K May  2 15:55 ANTECHAMBER_AM1BCC.AC\r\n",
      "-rw-r--r-- 1 klimaj baker 222K May  2 17:34 test_lig.pdb\r\n",
      "-rw-r--r-- 1 klimaj baker 2.5K May  2 17:34 ATP.pdb\r\n",
      "-rw-r--r-- 1 klimaj baker 4.4K May  2 17:34 ATP.mol2\r\n",
      "-rw-r--r-- 1 klimaj baker 3.5K May  2 17:36 ATP.fa.pdb\r\n",
      "-rw-r--r-- 1 klimaj baker 5.8K May  2 17:36 ATP.fa.params\r\n",
      "-rw-r--r-- 1 klimaj baker 1.4K May  2 17:36 ATP.fa.tors\r\n",
      "-rw-r--r-- 1 klimaj baker 2.9K May  2 17:36 ATP.cen.pdb\r\n",
      "-rw-r--r-- 1 klimaj baker 4.9K May  2 17:36 ATP.cen.params\r\n",
      "-rw-r--r-- 1 klimaj baker 1.1K May  2 17:36 ATP.cen.tors\r\n"
     ]
    }
   ],
   "source": [
    "!ls -ltrh"
   ]
  },
  {
   "cell_type": "markdown",
   "metadata": {},
   "source": [
    "### Our \"fa_standard\" full atom `.params` file is `ATP.fa.params`, and our \"fa_standard\" centroid `.params` file is `ATP.cen.params`.\n",
    "### Inspect the file `ATP.fa.params`:"
   ]
  },
  {
   "cell_type": "code",
   "execution_count": 11,
   "metadata": {},
   "outputs": [
    {
     "name": "stdout",
     "output_type": "stream",
     "text": [
      "NAME ATP\r\n",
      "IO_STRING ATP Z\r\n",
      "TYPE LIGAND\r\n",
      "AA UNK\r\n",
      "ATOM  C1  CH2   X   -0.14\r\n",
      "ATOM  O10 OH    X   -0.62\r\n",
      "ATOM  P3  Phos  X   1.54\r\n",
      "ATOM  O7  OOC   X   -0.72\r\n",
      "ATOM  O9  OH    X   -0.62\r\n",
      "ATOM  P2  Phos  X   1.54\r\n",
      "ATOM  O4  OOC   X   -0.72\r\n",
      "ATOM  O5  OOC   X   -0.72\r\n",
      "ATOM  O6  OH    X   -0.62\r\n",
      "ATOM  P1  Phos  X   1.54\r\n",
      "ATOM  O3  OOC   X   -0.72\r\n",
      "ATOM  O1  OOC   X   -0.72\r\n",
      "ATOM  O2  OOC   X   -0.72\r\n",
      "ATOM  O8  OOC   X   -0.72\r\n",
      "ATOM  C2  CH1   X   -0.05\r\n",
      "ATOM  O11 OH    X   -0.62\r\n",
      "ATOM  C5  CH1   X   -0.05\r\n",
      "ATOM  N1  Npro  X   -0.33\r\n",
      "ATOM  C6  aroC  X   -0.07\r\n",
      "ATOM  N2  Nhis  X   -0.49\r\n",
      "ATOM  C7  aroC  X   -0.07\r\n",
      "ATOM  C8  aroC  X   -0.07\r\n",
      "ATOM  N3  NH2O  X   -0.43\r\n",
      "ATOM  H10 Hpol  X   0.47\r\n",
      "ATOM  H11 Hpol  X   0.47\r\n",
      "ATOM  N4  Nhis  X   -0.49\r\n",
      "ATOM  C9  aroC  X   -0.07\r\n",
      "ATOM  N5  Nhis  X   -0.49\r\n",
      "ATOM  C10 aroC  X   -0.07\r\n",
      "ATOM  H12 Haro  X   0.16\r\n",
      "ATOM  H9  Haro  X   0.16\r\n",
      "ATOM  C4  CH1   X   -0.05\r\n",
      "ATOM  C3  CH1   X   -0.05\r\n",
      "ATOM  O12 OH    X   -0.62\r\n",
      "ATOM  H5  Hpol  X   0.47\r\n",
      "ATOM  H4  Hapo  X   0.14\r\n",
      "ATOM  O13 OH    X   -0.62\r\n",
      "ATOM  H7  Hpol  X   0.47\r\n",
      "ATOM  H6  Hapo  X   0.14\r\n",
      "ATOM  H8  Hapo  X   0.14\r\n",
      "ATOM  H3  Hapo  X   0.14\r\n",
      "ATOM  H1  Hapo  X   0.14\r\n",
      "ATOM  H2  Hapo  X   0.14\r\n",
      "BOND_TYPE  O4   P2  2   \r\n",
      "BOND_TYPE  O3   P1  2   \r\n",
      "BOND_TYPE  O5   P2  1   \r\n",
      "BOND_TYPE  P2   O6  1   \r\n",
      "BOND_TYPE  P2   O9  1   \r\n",
      "BOND_TYPE  O7   P3  2   \r\n",
      "BOND_TYPE  P1   O6  1   \r\n",
      "BOND_TYPE  P1   O1  1   \r\n",
      "BOND_TYPE  P1   O2  1   \r\n",
      "BOND_TYPE  O9   P3  1   \r\n",
      "BOND_TYPE  P3   O8  1   \r\n",
      "BOND_TYPE  P3   O10 1   \r\n",
      "BOND_TYPE  O10  C1  1   \r\n",
      "BOND_TYPE  N3   C8  1   \r\n",
      "BOND_TYPE  N2   C6  4   \r\n",
      "BOND_TYPE  N2   C7  4   \r\n",
      "BOND_TYPE  C6   N1  4   \r\n",
      "BOND_TYPE  C1   C2  1   \r\n",
      "BOND_TYPE  C8   C7  4   \r\n",
      "BOND_TYPE  C8   N4  4   \r\n",
      "BOND_TYPE  C7   C10 4   \r\n",
      "BOND_TYPE  N1   C10 4   \r\n",
      "BOND_TYPE  N1   C5  1   \r\n",
      "BOND_TYPE  O11  C2  1   \r\n",
      "BOND_TYPE  O11  C5  1   \r\n",
      "BOND_TYPE  C3   C2  1   \r\n",
      "BOND_TYPE  C3   O12 1   \r\n",
      "BOND_TYPE  C3   C4  1   \r\n",
      "BOND_TYPE  N4   C9  4   \r\n",
      "BOND_TYPE  C10  N5  4   \r\n",
      "BOND_TYPE  C5   C4  1   \r\n",
      "BOND_TYPE  C4   O13 1   \r\n",
      "BOND_TYPE  C9   N5  4   \r\n",
      "BOND_TYPE  C1   H1  1   \r\n",
      "BOND_TYPE  C1   H2  1   \r\n",
      "BOND_TYPE  C2   H3  1   \r\n",
      "BOND_TYPE  C3   H4  1   \r\n",
      "BOND_TYPE  O12  H5  1   \r\n",
      "BOND_TYPE  C4   H6  1   \r\n",
      "BOND_TYPE  O13  H7  1   \r\n",
      "BOND_TYPE  C5   H8  1   \r\n",
      "BOND_TYPE  C6   H9  1   \r\n",
      "BOND_TYPE  N3   H10 1   \r\n",
      "BOND_TYPE  N3   H11 1   \r\n",
      "BOND_TYPE  C9   H12 1   \r\n",
      "CHI 1  C4   C3   O12  H5 \r\n",
      "PROTON_CHI 1 SAMPLES 3 60 -60 180 EXTRA 1 20\r\n",
      "CHI 2  C5   C4   O13  H7 \r\n",
      "PROTON_CHI 2 SAMPLES 3 60 -60 180 EXTRA 1 20\r\n",
      "CHI 3  O9   P2   O6   P1 \r\n",
      "CHI 4  P3   O9   P2   O4 \r\n",
      "CHI 5  P2   O6   P1   O3 \r\n",
      "CHI 6  O10  P3   O9   P2 \r\n",
      "CHI 7  C1   O10  P3   O7 \r\n",
      "CHI 8  C2   C1   O10  P3 \r\n",
      "CHI 9  O10  C1   C2   O11\r\n",
      "CHI 10  O11  C5   N1   C6 \r\n",
      "NBR_ATOM  C1 \r\n",
      "NBR_RADIUS 10.938732\r\n",
      "ICOOR_INTERNAL    C1     0.000000    0.000000    0.000000   C1    O10   P3 \r\n",
      "ICOOR_INTERNAL    O10    0.000000  180.000000    1.449918   C1    O10   P3 \r\n",
      "ICOOR_INTERNAL    P3     0.000000   66.924251    1.594175   O10   C1    P3 \r\n",
      "ICOOR_INTERNAL    O7   169.806065   66.469940    1.456869   P3    O10   C1 \r\n",
      "ICOOR_INTERNAL    O9   116.270526   78.070321    1.605196   P3    O10   O7 \r\n",
      "ICOOR_INTERNAL    P2   166.210741   50.501858    1.561408   O9    P3    O10\r\n",
      "ICOOR_INTERNAL    O4    42.570185   74.278340    1.455288   P2    O9    P3 \r\n",
      "ICOOR_INTERNAL    O5   128.981963   68.782859    1.490002   P2    O9    O4 \r\n",
      "ICOOR_INTERNAL    O6   119.688656   79.243461    1.587059   P2    O9    O5 \r\n",
      "ICOOR_INTERNAL    P1   156.048714   43.245904    1.623339   O6    P2    O9 \r\n",
      "ICOOR_INTERNAL    O3   -13.010370   73.115717    1.429938   P1    O6    P2 \r\n",
      "ICOOR_INTERNAL    O1   118.326445   72.199481    1.469406   P1    O6    O3 \r\n",
      "ICOOR_INTERNAL    O2   123.713513   68.303708    1.517638   P1    O6    O1 \r\n",
      "ICOOR_INTERNAL    O8   115.540586   71.374054    1.485361   P3    O10   O9 \r\n",
      "ICOOR_INTERNAL    C2  -130.623747   66.424888    1.524060   C1    O10   P3 \r\n",
      "ICOOR_INTERNAL    O11  -40.630779   71.835303    1.449726   C2    C1    O10\r\n",
      "ICOOR_INTERNAL    C5   156.609499   70.548908    1.429336   O11   C2    C1 \r\n",
      "ICOOR_INTERNAL    N1  -131.154963   71.841730    1.478509   C5    O11   C2 \r\n",
      "ICOOR_INTERNAL    C6    31.851975   59.402727    1.361253   N1    C5    O11\r\n",
      "ICOOR_INTERNAL    N2  -178.716899   65.777046    1.314372   C6    N1    C5 \r\n",
      "ICOOR_INTERNAL    C7     2.370996   75.782269    1.374620   N2    C6    N1 \r\n",
      "ICOOR_INTERNAL    C8   178.548065   47.373065    1.424378   C7    N2    C6 \r\n",
      "ICOOR_INTERNAL    N3     1.825353   55.626074    1.349055   C8    C7    N2 \r\n",
      "ICOOR_INTERNAL    H10   -5.251210   60.001884    0.984491   N3    C8    C7 \r\n",
      "ICOOR_INTERNAL    H11  179.995287   60.000051    0.984491   N3    C8    H10\r\n",
      "ICOOR_INTERNAL    N4   174.834109   63.209065    1.350228   C8    C7    N3 \r\n",
      "ICOOR_INTERNAL    C9     5.060522   60.378232    1.358890   N4    C8    C7 \r\n",
      "ICOOR_INTERNAL    N5    -3.919684   51.604377    1.331891   C9    N4    C8 \r\n",
      "ICOOR_INTERNAL    C10   -4.713814   68.962449    1.361646   N5    C9    N4 \r\n",
      "ICOOR_INTERNAL    H12 -179.999281   64.200876    1.031998   C9    N4    N5 \r\n",
      "ICOOR_INTERNAL    H9   179.998705   57.111469    1.032008   C6    N1    N2 \r\n",
      "ICOOR_INTERNAL    C4   123.530805   73.243687    1.500747   C5    O11   N1 \r\n",
      "ICOOR_INTERNAL    C3   -19.702529   77.697780    1.540761   C4    C5    O11\r\n",
      "ICOOR_INTERNAL    O12  160.940986   64.959738    1.414637   C3    C4    C5 \r\n",
      "ICOOR_INTERNAL    H5   -58.204473   70.529984    0.970034   O12   C3    C4 \r\n",
      "ICOOR_INTERNAL    H4   114.370828   66.707488    1.069948   C3    C4    O12\r\n",
      "ICOOR_INTERNAL    O13  122.419858   70.522995    1.416202   C4    C5    C3 \r\n",
      "ICOOR_INTERNAL    H7   -55.482430   70.530470    0.970008   O13   C4    C5 \r\n",
      "ICOOR_INTERNAL    H6   116.931504   63.885668    1.070043   C4    C5    O13\r\n",
      "ICOOR_INTERNAL    H8   118.643325   66.096653    1.069998   C5    O11   C4 \r\n",
      "ICOOR_INTERNAL    H3  -125.943860   77.302188    1.070012   C2    C1    O11\r\n",
      "ICOOR_INTERNAL    H1  -120.607158   71.563663    1.070054   C1    O10   C2 \r\n",
      "ICOOR_INTERNAL    H2  -121.426441   72.933795    1.069991   C1    O10   H1 \r\n"
     ]
    }
   ],
   "source": [
    "!cat ATP.fa.params"
   ]
  },
  {
   "cell_type": "markdown",
   "metadata": {},
   "source": [
    "### *Gasteiger partial charges were generated on-the-fly!*\n",
    "\n",
    "### Pay attention to lines beginning with `CHI` and `PROTON_CHI`. These $\\chi$ torsions indiciate which dihedral angles can rotate during minimization. If you want to turn any of these off for specific applications, either comment out the line(s) or delete the line(s).\n",
    "\n",
    "### If your `.mol2` file had many conformer models in it, the `--conformers-in-one-file` flag would have produced a file called `ATP.conf.pdb`, which the packer could use to repack the ligand (similar to the Dunbrack rotamer library for side chains). You would then specify the full path at the bottom of the `ATP.gasteiger.fa.params` file as in:\n",
    ">PDB_ROTAMERS /full/path/to/ATP.conf.pdb\n",
    "\n",
    "### However, since we only have one conformer for ATP, the ligand can only minimize to change conformations.\n",
    "\n",
    "### Because we passed the flag `--extra_torsion_output` to `molfile_to_params.py`, we outputted the files `ATP.fa.tors` and `ATP.cen.tors`.\n",
    "### Inpect `ATP.fa.tors`:"
   ]
  },
  {
   "cell_type": "code",
   "execution_count": 11,
   "metadata": {},
   "outputs": [
    {
     "name": "stdout",
     "output_type": "stream",
     "text": [
      "ATP  C7   N2   C6   N1   0  80  2\r\n",
      "ATP  C7   N2   C6   H9   0  80  2\r\n",
      "ATP  N1   N2   C6   H9   0  80  2\r\n",
      "ATP  C6   N2   C7   C8   0  80  2\r\n",
      "ATP  C6   N2   C7   C10  0  80  2\r\n",
      "ATP  C8   N2   C7   C10  0  80  2\r\n",
      "ATP  N2   C6   N1   C10  0  80  2\r\n",
      "ATP  N2   C6   N1   C5   0  80  2\r\n",
      "ATP  N2   C6   N1   H9   0  80  2\r\n",
      "ATP  C10  C6   N1   C5   0  80  2\r\n",
      "ATP  C10  C6   N1   H9   0  80  2\r\n",
      "ATP  C5   C6   N1   H9   0  80  2\r\n",
      "ATP  N3   C8   C7   N2   0  80  2\r\n",
      "ATP  N3   C8   C7   N4   0  80  2\r\n",
      "ATP  N3   C8   C7   C10  0  80  2\r\n",
      "ATP  N2   C8   C7   N4   0  80  2\r\n",
      "ATP  N2   C8   C7   C10  0  80  2\r\n",
      "ATP  N4   C8   C7   C10  0  80  2\r\n",
      "ATP  N3   C8   N4   C7   0  80  2\r\n",
      "ATP  N3   C8   N4   C9   0  80  2\r\n",
      "ATP  C7   C8   N4   C9   0  80  2\r\n",
      "ATP  N2   C7   C10  C8   0  80  2\r\n",
      "ATP  N2   C7   C10  N1   0  80  2\r\n",
      "ATP  N2   C7   C10  N5   0  80  2\r\n",
      "ATP  C8   C7   C10  N1   0  80  2\r\n",
      "ATP  C8   C7   C10  N5   0  80  2\r\n",
      "ATP  N1   C7   C10  N5   0  80  2\r\n",
      "ATP  C6   N1   C10  C7   0  80  2\r\n",
      "ATP  C6   N1   C10  C5   0  80  2\r\n",
      "ATP  C6   N1   C10  N5   0  80  2\r\n",
      "ATP  C7   N1   C10  C5   0  80  2\r\n",
      "ATP  C7   N1   C10  N5   0  80  2\r\n",
      "ATP  C5   N1   C10  N5   0  80  2\r\n",
      "ATP  C8   N4   C9   N5   0  80  2\r\n",
      "ATP  C8   N4   C9   H12  0  80  2\r\n",
      "ATP  N5   N4   C9   H12  0  80  2\r\n",
      "ATP  C7   C10  N5   N1   0  80  2\r\n",
      "ATP  C7   C10  N5   C9   0  80  2\r\n",
      "ATP  N1   C10  N5   C9   0  80  2\r\n",
      "ATP  N4   C9   N5   C10  0  80  2\r\n",
      "ATP  N4   C9   N5   H12  0  80  2\r\n",
      "ATP  C10  C9   N5   H12  0  80  2\r\n"
     ]
    }
   ],
   "source": [
    "!cat ATP.fa.tors"
   ]
  },
  {
   "cell_type": "markdown",
   "metadata": {},
   "source": [
    "### If you pass the Rosetta command line flag `-score:extra_improper_file ATP.fa.tors` to `pyrosetta.init()`, then PyRosetta will constrain the listed torsions in this file during minimization. The columns in this file correspond to:\n",
    "### [3 letter residue name] [Atom 1] [Atom 2] [Atom 3] [Atom 4] [Dihedral Angle] [Constraint Weight] [Periodicity]"
   ]
  },
  {
   "cell_type": "markdown",
   "metadata": {},
   "source": [
    "### Because we passed the flag `--keep-names` to `molfile_to_params.py`, the ATP atom names in `test_lig.pdb`  still match those in `ATP.fa.params`. Even though `test_lig.pdb` does not contain the added hydrogens, Rosetta will automatically build the remaining hydrogens upon loading the ligand into the pose because `ATP.fa.params` contains the bond connectivity information."
   ]
  },
  {
   "cell_type": "markdown",
   "metadata": {},
   "source": [
    "### Rename `ATP.fa.params` for future use:"
   ]
  },
  {
   "cell_type": "code",
   "execution_count": 12,
   "metadata": {},
   "outputs": [],
   "source": [
    "!cp ATP.fa.params ATP.gasteiger.fa.params"
   ]
  },
  {
   "cell_type": "markdown",
   "metadata": {},
   "source": [
    "## Generating `ATP.am1-bcc.fa.params`:"
   ]
  },
  {
   "cell_type": "markdown",
   "metadata": {},
   "source": [
    "### Now we will generate AM1-BCC partial charges for ATP using `antechamber`. This quantum mechanical calculation takes a bit longer but only needs to be done once per ligand.\n",
    "\n",
    "> ### \"The goal of the charge model is to produce atomic charges that emulate the HF/6-31G* electrostatic potential (ESP) of a molecule. Underlying electronic structure features, including formal charge and electron delocalization, are first captured by AM1 population charges; simple additive bond charge corrections (BCCs) are then applied to these AM1 atomic charges to produce the AM1-BCC charges.\"\n",
    "Reference: Jakalian, A. , Jack, D. B. and Bayly, C. I. (2002), Fast, efficient generation of high‐quality atomic charges. AM1‐BCC model: II. Parameterization and validation. *J. Comput. Chem.*, 23: 1623-1641. "
   ]
  },
  {
   "cell_type": "code",
   "execution_count": null,
   "metadata": {},
   "outputs": [
    {
     "name": "stdout",
     "output_type": "stream",
     "text": [
      "\n",
      "Welcome to antechamber 17.3: molecular input file processor.\n",
      "\n",
      "acdoctor mode is on: check and diagnosis problems in the input file.\n",
      "-- Check Format for mol2 File --\n",
      "   Status: pass\n",
      "-- Check Unusual Elements --\n",
      "   Status: pass\n",
      "-- Check Open Valences --\n",
      "Warning: The number of bonds (3) for atom (ID: 22, Name: N1) does not match\n",
      "         the connectivity (2) for atom type (N.ar) defined in CORR_NAME_TYPE.DAT.\n",
      "But, you may safely ignore the warnings if your molecule\n",
      "         uses atom names or element names as atom types.\n",
      "-- Check Geometry --\n",
      "      for those bonded   \n",
      "      for those not bonded   \n",
      "   Status: pass\n",
      "-- Check Weird Bonds --\n",
      "   Status: pass\n",
      "-- Check Number of Units --\n",
      "   Status: pass\n",
      "acdoctor mode has completed checking the input file.\n",
      "\n",
      "Info: Total number of electrons: 260; net charge: -4\n",
      "\n",
      "Running: /home/klimaj/anaconda3/envs/pyrosetta-code-school/bin/sqm -O -i sqm.in -o sqm.out\n"
     ]
    }
   ],
   "source": [
    "antechamber =  os.path.join(os.path.dirname(sys.executable), \"antechamber\")\n",
    "%time !{antechamber} -i ATP.mol2 -fi mol2 -o ATP.am1-bcc.mol2 -fo mol2 -c bcc -at sybyl -nc -4"
   ]
  },
  {
   "cell_type": "markdown",
   "metadata": {},
   "source": [
    "### Make sure the output file `ATP.am1-bcc.mol2` was successfully generated!"
   ]
  },
  {
   "cell_type": "code",
   "execution_count": 14,
   "metadata": {},
   "outputs": [
    {
     "name": "stdout",
     "output_type": "stream",
     "text": [
      "total 233K\r\n",
      "-rw-r--r-- 1 klimaj baker 222K Feb 21 11:03 test_lig.pdb\r\n",
      "-rw-r--r-- 1 klimaj baker 2.5K Feb 21 11:03 ATP.pdb\r\n",
      "-rw-r--r-- 1 klimaj baker 4.4K Feb 21 11:03 ATP.mol2\r\n",
      "-rw-r--r-- 1 klimaj baker 3.5K Feb 21 11:03 ATP.fa.pdb\r\n",
      "-rw-r--r-- 1 klimaj baker 5.8K Feb 21 11:03 ATP.fa.params\r\n",
      "-rw-r--r-- 1 klimaj baker 1.4K Feb 21 11:03 ATP.fa.tors\r\n",
      "-rw-r--r-- 1 klimaj baker 2.9K Feb 21 11:03 ATP.cen.pdb\r\n",
      "-rw-r--r-- 1 klimaj baker 4.9K Feb 21 11:03 ATP.cen.params\r\n",
      "-rw-r--r-- 1 klimaj baker 1.1K Feb 21 11:03 ATP.cen.tors\r\n",
      "-rw-r--r-- 1 klimaj baker 5.8K Feb 21 11:03 ATP.gasteiger.fa.params\r\n",
      "-rw-r--r-- 1 klimaj baker 4.9K Feb 21 11:03 ANTECHAMBER_BOND_TYPE.AC0\r\n",
      "-rw-r--r-- 1 klimaj baker 4.9K Feb 21 11:03 ANTECHAMBER_BOND_TYPE.AC\r\n",
      "-rw-r--r-- 1 klimaj baker 4.9K Feb 21 11:03 ANTECHAMBER_AC.AC0\r\n",
      "-rw-r--r-- 1 klimaj baker 2.4K Feb 21 11:03 sqm.in\r\n",
      "-rw-r--r-- 1 klimaj baker 4.9K Feb 21 11:03 ANTECHAMBER_AC.AC\r\n",
      "-rw-r--r-- 1 klimaj baker  14K Feb 21 11:12 sqm.out\r\n",
      "-rw-r--r-- 1 klimaj baker 3.4K Feb 21 11:12 sqm.pdb\r\n",
      "-rw-r--r-- 1 klimaj baker 4.9K Feb 21 11:12 ANTECHAMBER_AM1BCC_PRE.AC\r\n",
      "-rw-r--r-- 1 klimaj baker 9.8K Feb 21 11:12 ATOMTYPE.INF\r\n",
      "-rw-r--r-- 1 klimaj baker 4.9K Feb 21 11:12 ANTECHAMBER_AM1BCC.AC\r\n",
      "-rw-r--r-- 1 klimaj baker 4.7K Feb 21 11:12 ATP.am1-bcc.mol2\r\n"
     ]
    }
   ],
   "source": [
    "!ls -ltrh"
   ]
  },
  {
   "cell_type": "markdown",
   "metadata": {},
   "source": [
    "### It is a good idea at this step to make sure the output file `ATP.am1-bcc.mol2` looks as it should."
   ]
  },
  {
   "cell_type": "code",
   "execution_count": 15,
   "metadata": {},
   "outputs": [
    {
     "data": {
      "application/3dmoljs_load.v0": "<div id=\"3dmolviewer_15507767309573872\"  style=\"position: relative; width: 600px; height: 300px\">\n        <p id=\"3dmolwarning_15507767309573872\" style=\"background-color:#ffcccc;color:black\">You appear to be running in JupyterLab (or JavaScript failed to load for some other reason).  You need to install the 3dmol extension: <br>\n        <tt>jupyter labextension install jupyterlab_3dmol</tt></p>\n        </div>\n<script>\n\nvar loadScriptAsync = function(uri){\n  return new Promise((resolve, reject) => {\n    var tag = document.createElement('script');\n    tag.src = uri;\n    tag.async = true;\n    tag.onload = () => {\n      resolve();\n    };\n  var firstScriptTag = document.getElementsByTagName('script')[0];\n  firstScriptTag.parentNode.insertBefore(tag, firstScriptTag);\n});\n};\n\nif(typeof $3Dmolpromise === 'undefined') {\n$3Dmolpromise = null;\n  $3Dmolpromise = loadScriptAsync('https://3dmol.csb.pitt.edu/build/3Dmol.js');\n}\n\nvar viewer_15507767309573872 = null;\nvar warn = document.getElementById(\"3dmolwarning_15507767309573872\");\nif(warn) {\n    warn.parentNode.removeChild(warn);\n}\n$3Dmolpromise.then(function() {\nviewer_15507767309573872 = $3Dmol.createViewer($(\"#3dmolviewer_15507767309573872\"),{backgroundColor:\"white\"});\n\tviewer_15507767309573872.addModel(\"@<TRIPOS>MOLECULE\\nATP.pdb\\n   43    45     1     0     0\\nSMALL\\nbcc\\n\\n\\n@<TRIPOS>ATOM\\n      1 P1          16.2230     8.1510    -1.0150 P.3        1 ATP       1.447900\\n      2 O1          17.5500     8.5360    -0.5150 O.co2      1 ATP      -0.947167\\n      3 O2          15.7480     6.8350    -0.4270 O.co2      1 ATP      -0.947167\\n      4 O3          16.2550     8.0140    -2.4380 O.co2      1 ATP      -0.947167\\n      5 P2          14.4710    10.5200    -1.4900 P.3        1 ATP       1.677800\\n      6 O4          13.9290     9.9200    -2.7000 O.co2      1 ATP      -0.918500\\n      7 O5          15.3180    11.7370    -1.6370 O.co2      1 ATP      -0.918500\\n      8 O6          15.1960     9.3630    -0.6810 O.3        1 ATP      -0.797800\\n      9 P3          11.9680     9.8680    -0.2600 P.3        1 ATP       1.607800\\n     10 O7          11.1000     9.8800    -1.4300 O.co2      1 ATP      -0.670500\\n     11 O8          12.4260     8.5140     0.1440 O.co2      1 ATP      -0.670500\\n     12 O9          13.2420    10.7950    -0.5670 O.3        1 ATP      -0.788800\\n     13 O10         11.3330    10.5910     1.0110 O.3        1 ATP      -0.606200\\n     14 C1          12.0920    10.3730     2.2270 C.3        1 ATP       0.168400\\n     15 C2          11.2380     9.9220     3.4060 C.3        1 ATP       0.096100\\n     16 O11         10.0030    10.6810     3.3860 O.3        1 ATP      -0.433600\\n     17 C3          10.7220     8.4980     3.3950 C.3        1 ATP       0.112100\\n     18 O12         11.7050     7.5330     3.7170 O.3        1 ATP      -0.673800\\n     19 C4           9.5600     8.6060     4.4010 C.3        1 ATP       0.114100\\n     20 O13          9.9420     8.5620     5.7640 O.3        1 ATP      -0.619800\\n     21 C5           8.9880     9.9570     4.0850 C.3        1 ATP       0.240800\\n     22 N1           7.7780     9.9240     3.2360 N.pl3      1 ATP      -0.274000\\n     23 C6           7.8840     9.9060     1.8790 C.2        1 ATP       0.348700\\n     24 N2           6.7310     9.9040     1.2480 N.2        1 ATP      -0.775100\\n     25 C7           5.7960     9.9770     2.2530 C.ar       1 ATP      -0.111200\\n     26 C8           4.3730    10.0390     2.2440 C.ar       1 ATP       0.529200\\n     27 N3           3.6160    10.0010     1.1280 N.3        1 ATP      -0.889500\\n     28 N4           3.7560    10.0340     3.4450 N.ar       1 ATP      -0.778000\\n     29 C9           4.4990    10.0760     4.5820 C.ar       1 ATP       0.556900\\n     30 N5           5.8250    10.0530     4.7050 N.ar       1 ATP      -0.707000\\n     31 C10          6.4250     9.8730     3.4960 C.ar       1 ATP       0.386800\\n     32 H           12.5780    11.2890     2.4920 H          1 ATP       0.070700\\n     33 H1          12.7890     9.5870     2.0250 H          1 ATP       0.070700\\n     34 H2          11.8990    10.0480     4.2370 H          1 ATP       0.061700\\n     35 H3          10.4170     8.1430     2.4330 H          1 ATP       0.078700\\n     36 H4          12.0810     7.7330     4.5890 H          1 ATP       0.508000\\n     37 H5           8.8920     7.7760     4.2980 H          1 ATP       0.107700\\n     38 H6          10.5560     9.2890     5.9510 H          1 ATP       0.415000\\n     39 H7           8.6920    10.4080     5.0090 H          1 ATP       0.041700\\n     40 H8           8.7920     9.8950     1.3880 H          1 ATP       0.134800\\n     41 H9           4.0450    10.0040     0.2420 H          1 ATP       0.349800\\n     42 H10          2.6350     9.9700     1.2000 H          1 ATP       0.349800\\n     43 H11          3.9670    10.1330     5.4640 H          1 ATP      -0.001900\\n@<TRIPOS>BOND\\n     1     6     5 1   \\n     2     4     1 1   \\n     3     7     5 1   \\n     4     5     8 1   \\n     5     5    12 1   \\n     6    10     9 1   \\n     7     1     8 1   \\n     8     1     2 1   \\n     9     1     3 1   \\n    10    12     9 1   \\n    11     9    11 1   \\n    12     9    13 1   \\n    13    13    14 1   \\n    14    27    26 1   \\n    15    24    23 2   \\n    16    24    25 1   \\n    17    23    22 1   \\n    18    14    15 1   \\n    19    26    25 ar  \\n    20    26    28 ar  \\n    21    25    31 ar  \\n    22    22    31 1   \\n    23    22    21 1   \\n    24    16    15 1   \\n    25    16    21 1   \\n    26    17    15 1   \\n    27    17    18 1   \\n    28    17    19 1   \\n    29    28    29 ar  \\n    30    31    30 ar  \\n    31    21    19 1   \\n    32    19    20 1   \\n    33    29    30 ar  \\n    34    14    32 1   \\n    35    14    33 1   \\n    36    15    34 1   \\n    37    17    35 1   \\n    38    18    36 1   \\n    39    19    37 1   \\n    40    20    38 1   \\n    41    21    39 1   \\n    42    23    40 1   \\n    43    27    41 1   \\n    44    27    42 1   \\n    45    29    43 1   \\n@<TRIPOS>SUBSTRUCTURE\\n     1 ATP         1 TEMP              0 ****  ****    0 ROOT\\n\",\"mol2\");\n\tviewer_15507767309573872.setStyle({\"stick\": {}});\n\tviewer_15507767309573872.zoomTo();\nviewer_15507767309573872.render();\n});\n</script>",
      "text/html": [
       "<div id=\"3dmolviewer_15507767309573872\"  style=\"position: relative; width: 600px; height: 300px\">\n",
       "        <p id=\"3dmolwarning_15507767309573872\" style=\"background-color:#ffcccc;color:black\">You appear to be running in JupyterLab (or JavaScript failed to load for some other reason).  You need to install the 3dmol extension: <br>\n",
       "        <tt>jupyter labextension install jupyterlab_3dmol</tt></p>\n",
       "        </div>\n",
       "<script>\n",
       "\n",
       "var loadScriptAsync = function(uri){\n",
       "  return new Promise((resolve, reject) => {\n",
       "    var tag = document.createElement('script');\n",
       "    tag.src = uri;\n",
       "    tag.async = true;\n",
       "    tag.onload = () => {\n",
       "      resolve();\n",
       "    };\n",
       "  var firstScriptTag = document.getElementsByTagName('script')[0];\n",
       "  firstScriptTag.parentNode.insertBefore(tag, firstScriptTag);\n",
       "});\n",
       "};\n",
       "\n",
       "if(typeof $3Dmolpromise === 'undefined') {\n",
       "$3Dmolpromise = null;\n",
       "  $3Dmolpromise = loadScriptAsync('https://3dmol.csb.pitt.edu/build/3Dmol.js');\n",
       "}\n",
       "\n",
       "var viewer_15507767309573872 = null;\n",
       "var warn = document.getElementById(\"3dmolwarning_15507767309573872\");\n",
       "if(warn) {\n",
       "    warn.parentNode.removeChild(warn);\n",
       "}\n",
       "$3Dmolpromise.then(function() {\n",
       "viewer_15507767309573872 = $3Dmol.createViewer($(\"#3dmolviewer_15507767309573872\"),{backgroundColor:\"white\"});\n",
       "\tviewer_15507767309573872.addModel(\"@<TRIPOS>MOLECULE\\nATP.pdb\\n   43    45     1     0     0\\nSMALL\\nbcc\\n\\n\\n@<TRIPOS>ATOM\\n      1 P1          16.2230     8.1510    -1.0150 P.3        1 ATP       1.447900\\n      2 O1          17.5500     8.5360    -0.5150 O.co2      1 ATP      -0.947167\\n      3 O2          15.7480     6.8350    -0.4270 O.co2      1 ATP      -0.947167\\n      4 O3          16.2550     8.0140    -2.4380 O.co2      1 ATP      -0.947167\\n      5 P2          14.4710    10.5200    -1.4900 P.3        1 ATP       1.677800\\n      6 O4          13.9290     9.9200    -2.7000 O.co2      1 ATP      -0.918500\\n      7 O5          15.3180    11.7370    -1.6370 O.co2      1 ATP      -0.918500\\n      8 O6          15.1960     9.3630    -0.6810 O.3        1 ATP      -0.797800\\n      9 P3          11.9680     9.8680    -0.2600 P.3        1 ATP       1.607800\\n     10 O7          11.1000     9.8800    -1.4300 O.co2      1 ATP      -0.670500\\n     11 O8          12.4260     8.5140     0.1440 O.co2      1 ATP      -0.670500\\n     12 O9          13.2420    10.7950    -0.5670 O.3        1 ATP      -0.788800\\n     13 O10         11.3330    10.5910     1.0110 O.3        1 ATP      -0.606200\\n     14 C1          12.0920    10.3730     2.2270 C.3        1 ATP       0.168400\\n     15 C2          11.2380     9.9220     3.4060 C.3        1 ATP       0.096100\\n     16 O11         10.0030    10.6810     3.3860 O.3        1 ATP      -0.433600\\n     17 C3          10.7220     8.4980     3.3950 C.3        1 ATP       0.112100\\n     18 O12         11.7050     7.5330     3.7170 O.3        1 ATP      -0.673800\\n     19 C4           9.5600     8.6060     4.4010 C.3        1 ATP       0.114100\\n     20 O13          9.9420     8.5620     5.7640 O.3        1 ATP      -0.619800\\n     21 C5           8.9880     9.9570     4.0850 C.3        1 ATP       0.240800\\n     22 N1           7.7780     9.9240     3.2360 N.pl3      1 ATP      -0.274000\\n     23 C6           7.8840     9.9060     1.8790 C.2        1 ATP       0.348700\\n     24 N2           6.7310     9.9040     1.2480 N.2        1 ATP      -0.775100\\n     25 C7           5.7960     9.9770     2.2530 C.ar       1 ATP      -0.111200\\n     26 C8           4.3730    10.0390     2.2440 C.ar       1 ATP       0.529200\\n     27 N3           3.6160    10.0010     1.1280 N.3        1 ATP      -0.889500\\n     28 N4           3.7560    10.0340     3.4450 N.ar       1 ATP      -0.778000\\n     29 C9           4.4990    10.0760     4.5820 C.ar       1 ATP       0.556900\\n     30 N5           5.8250    10.0530     4.7050 N.ar       1 ATP      -0.707000\\n     31 C10          6.4250     9.8730     3.4960 C.ar       1 ATP       0.386800\\n     32 H           12.5780    11.2890     2.4920 H          1 ATP       0.070700\\n     33 H1          12.7890     9.5870     2.0250 H          1 ATP       0.070700\\n     34 H2          11.8990    10.0480     4.2370 H          1 ATP       0.061700\\n     35 H3          10.4170     8.1430     2.4330 H          1 ATP       0.078700\\n     36 H4          12.0810     7.7330     4.5890 H          1 ATP       0.508000\\n     37 H5           8.8920     7.7760     4.2980 H          1 ATP       0.107700\\n     38 H6          10.5560     9.2890     5.9510 H          1 ATP       0.415000\\n     39 H7           8.6920    10.4080     5.0090 H          1 ATP       0.041700\\n     40 H8           8.7920     9.8950     1.3880 H          1 ATP       0.134800\\n     41 H9           4.0450    10.0040     0.2420 H          1 ATP       0.349800\\n     42 H10          2.6350     9.9700     1.2000 H          1 ATP       0.349800\\n     43 H11          3.9670    10.1330     5.4640 H          1 ATP      -0.001900\\n@<TRIPOS>BOND\\n     1     6     5 1   \\n     2     4     1 1   \\n     3     7     5 1   \\n     4     5     8 1   \\n     5     5    12 1   \\n     6    10     9 1   \\n     7     1     8 1   \\n     8     1     2 1   \\n     9     1     3 1   \\n    10    12     9 1   \\n    11     9    11 1   \\n    12     9    13 1   \\n    13    13    14 1   \\n    14    27    26 1   \\n    15    24    23 2   \\n    16    24    25 1   \\n    17    23    22 1   \\n    18    14    15 1   \\n    19    26    25 ar  \\n    20    26    28 ar  \\n    21    25    31 ar  \\n    22    22    31 1   \\n    23    22    21 1   \\n    24    16    15 1   \\n    25    16    21 1   \\n    26    17    15 1   \\n    27    17    18 1   \\n    28    17    19 1   \\n    29    28    29 ar  \\n    30    31    30 ar  \\n    31    21    19 1   \\n    32    19    20 1   \\n    33    29    30 ar  \\n    34    14    32 1   \\n    35    14    33 1   \\n    36    15    34 1   \\n    37    17    35 1   \\n    38    18    36 1   \\n    39    19    37 1   \\n    40    20    38 1   \\n    41    21    39 1   \\n    42    23    40 1   \\n    43    27    41 1   \\n    44    27    42 1   \\n    45    29    43 1   \\n@<TRIPOS>SUBSTRUCTURE\\n     1 ATP         1 TEMP              0 ****  ****    0 ROOT\\n\",\"mol2\");\n",
       "\tviewer_15507767309573872.setStyle({\"stick\": {}});\n",
       "\tviewer_15507767309573872.zoomTo();\n",
       "viewer_15507767309573872.render();\n",
       "});\n",
       "</script>"
      ]
     },
     "metadata": {},
     "output_type": "display_data"
    }
   ],
   "source": [
    "mol = open(os.path.join(os.getcwd(), \"ATP.am1-bcc.mol2\")).read()\n",
    "viewer = py3Dmol.view(600, 300)\n",
    "viewer.addModel(mol, \"mol2\")\n",
    "viewer.setStyle({\"stick\": {}})\n",
    "viewer.zoomTo()\n",
    "viewer.show()"
   ]
  },
  {
   "cell_type": "markdown",
   "metadata": {},
   "source": [
    "### We will use the `~Rosetta/main/source/scripts/python/public/molfile_to_params.py` script to generate full-atom and centroid `.params` files, this time *without* the `--recharge` flag!"
   ]
  },
  {
   "cell_type": "code",
   "execution_count": 16,
   "metadata": {},
   "outputs": [
    {
     "name": "stdout",
     "output_type": "stream",
     "text": [
      "Centering ligands at (  10.506,    9.569,    1.503)\n",
      "Partial charges already fully assigned, no changes made; net charge -4.001\n",
      "WARNING: fragment 1 has 43 total atoms including H; protein residues have 7 - 24 (DNA: 33)\n",
      "WARNING: fragment 1 has 31 non-H atoms; protein residues have 4 - 14 (DNA: 22)\n",
      "WARNING: fragment 1 has 10 rotatable bonds; protein residues have 0 - 4\n",
      "Average 43.0 atoms (31.0 non-H atoms) per fragment\n",
      "(Proteins average 15.5 atoms (7.8 non-H atoms) per residue)\n",
      "WARNING:  no root atom specified, using NBR atom instead.\n",
      "Wrote params file ATP.am1-bcc.fa.params\n",
      "Wrote params file ATP.am1-bcc.cen.params\n"
     ]
    }
   ],
   "source": [
    "!python2.7 {molfile_to_params} -n ATP -p ATP.am1-bcc -c --conformers-in-one-file --keep-names --extra_torsion_output --clobber --chain=X ATP.am1-bcc.mol2"
   ]
  },
  {
   "cell_type": "code",
   "execution_count": 17,
   "metadata": {},
   "outputs": [
    {
     "name": "stdout",
     "output_type": "stream",
     "text": [
      "total 236K\r\n",
      "-rw-r--r-- 1 klimaj baker 222K Feb 21 11:03 test_lig.pdb\r\n",
      "-rw-r--r-- 1 klimaj baker 2.5K Feb 21 11:03 ATP.pdb\r\n",
      "-rw-r--r-- 1 klimaj baker 4.4K Feb 21 11:03 ATP.mol2\r\n",
      "-rw-r--r-- 1 klimaj baker 3.5K Feb 21 11:03 ATP.fa.pdb\r\n",
      "-rw-r--r-- 1 klimaj baker 5.8K Feb 21 11:03 ATP.fa.params\r\n",
      "-rw-r--r-- 1 klimaj baker 1.4K Feb 21 11:03 ATP.fa.tors\r\n",
      "-rw-r--r-- 1 klimaj baker 2.9K Feb 21 11:03 ATP.cen.pdb\r\n",
      "-rw-r--r-- 1 klimaj baker 4.9K Feb 21 11:03 ATP.cen.params\r\n",
      "-rw-r--r-- 1 klimaj baker 1.1K Feb 21 11:03 ATP.cen.tors\r\n",
      "-rw-r--r-- 1 klimaj baker 5.8K Feb 21 11:03 ATP.gasteiger.fa.params\r\n",
      "-rw-r--r-- 1 klimaj baker 4.9K Feb 21 11:03 ANTECHAMBER_BOND_TYPE.AC0\r\n",
      "-rw-r--r-- 1 klimaj baker 4.9K Feb 21 11:03 ANTECHAMBER_BOND_TYPE.AC\r\n",
      "-rw-r--r-- 1 klimaj baker 4.9K Feb 21 11:03 ANTECHAMBER_AC.AC0\r\n",
      "-rw-r--r-- 1 klimaj baker 2.4K Feb 21 11:03 sqm.in\r\n",
      "-rw-r--r-- 1 klimaj baker 4.9K Feb 21 11:03 ANTECHAMBER_AC.AC\r\n",
      "-rw-r--r-- 1 klimaj baker  14K Feb 21 11:12 sqm.out\r\n",
      "-rw-r--r-- 1 klimaj baker 3.4K Feb 21 11:12 sqm.pdb\r\n",
      "-rw-r--r-- 1 klimaj baker 4.9K Feb 21 11:12 ANTECHAMBER_AM1BCC_PRE.AC\r\n",
      "-rw-r--r-- 1 klimaj baker 9.8K Feb 21 11:12 ATOMTYPE.INF\r\n",
      "-rw-r--r-- 1 klimaj baker 4.9K Feb 21 11:12 ANTECHAMBER_AM1BCC.AC\r\n",
      "-rw-r--r-- 1 klimaj baker 4.7K Feb 21 11:12 ATP.am1-bcc.mol2\r\n",
      "-rw-r--r-- 1 klimaj baker 3.5K Feb 21 11:18 ATP.am1-bcc.fa.pdb\r\n",
      "-rw-r--r-- 1 klimaj baker 5.8K Feb 21 11:18 ATP.am1-bcc.fa.params\r\n",
      "-rw-r--r-- 1 klimaj baker  816 Feb 21 11:18 ATP.am1-bcc.fa.tors\r\n",
      "-rw-r--r-- 1 klimaj baker 2.9K Feb 21 11:18 ATP.am1-bcc.cen.pdb\r\n",
      "-rw-r--r-- 1 klimaj baker 4.8K Feb 21 11:18 ATP.am1-bcc.cen.params\r\n",
      "-rw-r--r-- 1 klimaj baker  680 Feb 21 11:18 ATP.am1-bcc.cen.tors\r\n"
     ]
    }
   ],
   "source": [
    "!ls -ltrh"
   ]
  },
  {
   "cell_type": "markdown",
   "metadata": {},
   "source": [
    "### Again, ATP atom names were preserved during the AM1-BCC calculation and `.params` file generation (due to the `--keep-names` flag), so `ATP.am1-bcc.fa.params` is still compatible with `test_lig.pdb` (i.e. again, even though the ATP molecule in `test_lig.pdb` is missing the hydrogens, PyRosetta will re-build them from the `.params` file)."
   ]
  },
  {
   "cell_type": "markdown",
   "metadata": {},
   "source": [
    "## Generating `ATP.am1-bcc.gp.params`:\n",
    "\n",
    "### New atom typing for using the latest & greatest scorefunction! "
   ]
  },
  {
   "cell_type": "markdown",
   "metadata": {},
   "source": [
    "### Generate a `.params` file using the new `mol2genparams.py` script. Warning: actively being developed!\n",
    "> python mol2genparams.py [-s mol2file or -l mol2filelist]\n",
    "\n",
    "#### Note: this is applicable only for using the `beta_genpot.wts` and `beta_genpot_cart.wts` (currently identical to `beta.wts` and `beta_cart.wts`, but may change) scorefunctions and beyond (i.e. and *most likely* any scorefunciton developed *after* `beta_nov16.wts`)."
   ]
  },
  {
   "cell_type": "code",
   "execution_count": 18,
   "metadata": {},
   "outputs": [
    {
     "name": "stdout",
     "output_type": "stream",
     "text": [
      "ATP.am1-bcc.mol2\n",
      "Warning: not assigned as polar carbon but still has some partial charge:  C6 CD1 0.3487\n",
      "Warning: not assigned as polar carbon but still has some partial charge:  C8 CR 0.5292\n",
      "Warning: not assigned as polar carbon but still has some partial charge:  C9 CR 0.5569\n",
      "Warning: not assigned as polar carbon but still has some partial charge:  C10 CR 0.3868\n"
     ]
    }
   ],
   "source": [
    "mol2genparams = \"~/git/Rosetta/main/source/scripts/python/public/generic_potential/mol2genparams.py\"\n",
    "%run {mol2genparams} -s ATP.am1-bcc.mol2"
   ]
  },
  {
   "cell_type": "code",
   "execution_count": 19,
   "metadata": {},
   "outputs": [
    {
     "name": "stdout",
     "output_type": "stream",
     "text": [
      "total 237K\r\n",
      "-rw-r--r-- 1 klimaj baker 222K Feb 21 11:03 test_lig.pdb\r\n",
      "-rw-r--r-- 1 klimaj baker 2.5K Feb 21 11:03 ATP.pdb\r\n",
      "-rw-r--r-- 1 klimaj baker 4.4K Feb 21 11:03 ATP.mol2\r\n",
      "-rw-r--r-- 1 klimaj baker 3.5K Feb 21 11:03 ATP.fa.pdb\r\n",
      "-rw-r--r-- 1 klimaj baker 5.8K Feb 21 11:03 ATP.fa.params\r\n",
      "-rw-r--r-- 1 klimaj baker 1.4K Feb 21 11:03 ATP.fa.tors\r\n",
      "-rw-r--r-- 1 klimaj baker 2.9K Feb 21 11:03 ATP.cen.pdb\r\n",
      "-rw-r--r-- 1 klimaj baker 4.9K Feb 21 11:03 ATP.cen.params\r\n",
      "-rw-r--r-- 1 klimaj baker 1.1K Feb 21 11:03 ATP.cen.tors\r\n",
      "-rw-r--r-- 1 klimaj baker 5.8K Feb 21 11:03 ATP.gasteiger.fa.params\r\n",
      "-rw-r--r-- 1 klimaj baker 4.9K Feb 21 11:03 ANTECHAMBER_BOND_TYPE.AC0\r\n",
      "-rw-r--r-- 1 klimaj baker 4.9K Feb 21 11:03 ANTECHAMBER_BOND_TYPE.AC\r\n",
      "-rw-r--r-- 1 klimaj baker 4.9K Feb 21 11:03 ANTECHAMBER_AC.AC0\r\n",
      "-rw-r--r-- 1 klimaj baker 2.4K Feb 21 11:03 sqm.in\r\n",
      "-rw-r--r-- 1 klimaj baker 4.9K Feb 21 11:03 ANTECHAMBER_AC.AC\r\n",
      "-rw-r--r-- 1 klimaj baker  14K Feb 21 11:12 sqm.out\r\n",
      "-rw-r--r-- 1 klimaj baker 3.4K Feb 21 11:12 sqm.pdb\r\n",
      "-rw-r--r-- 1 klimaj baker 4.9K Feb 21 11:12 ANTECHAMBER_AM1BCC_PRE.AC\r\n",
      "-rw-r--r-- 1 klimaj baker 9.8K Feb 21 11:12 ATOMTYPE.INF\r\n",
      "-rw-r--r-- 1 klimaj baker 4.9K Feb 21 11:12 ANTECHAMBER_AM1BCC.AC\r\n",
      "-rw-r--r-- 1 klimaj baker 4.7K Feb 21 11:12 ATP.am1-bcc.mol2\r\n",
      "-rw-r--r-- 1 klimaj baker 3.5K Feb 21 11:18 ATP.am1-bcc.fa.pdb\r\n",
      "-rw-r--r-- 1 klimaj baker 5.8K Feb 21 11:18 ATP.am1-bcc.fa.params\r\n",
      "-rw-r--r-- 1 klimaj baker  816 Feb 21 11:18 ATP.am1-bcc.fa.tors\r\n",
      "-rw-r--r-- 1 klimaj baker 2.9K Feb 21 11:18 ATP.am1-bcc.cen.pdb\r\n",
      "-rw-r--r-- 1 klimaj baker 4.8K Feb 21 11:18 ATP.am1-bcc.cen.params\r\n",
      "-rw-r--r-- 1 klimaj baker  680 Feb 21 11:18 ATP.am1-bcc.cen.tors\r\n",
      "-rw-r--r-- 1 klimaj baker 5.6K Feb 21 11:18 ATP.am1-bcc.params\r\n",
      "-rw-r--r-- 1 klimaj baker 2.8K Feb 21 11:18 ATP.am1-bcc_0001.pdb\r\n"
     ]
    }
   ],
   "source": [
    "%ls -ltrh"
   ]
  },
  {
   "cell_type": "markdown",
   "metadata": {},
   "source": [
    "### Two output files were generated: `ATP.am1-bcc_0001.pdb` and `ATP.am1-bcc.params`. Notice that the atom typing in `ATP.am1-bcc.params` is different than before!"
   ]
  },
  {
   "cell_type": "code",
   "execution_count": 20,
   "metadata": {},
   "outputs": [
    {
     "name": "stdout",
     "output_type": "stream",
     "text": [
      "NAME LG1\r\n",
      "IO_STRING LG1 Z\r\n",
      "TYPE LIGAND\r\n",
      "AA UNK\r\n",
      "ATOM P1   PG3  X     1.448\r\n",
      "ATOM O1   OG2  X    -0.947\r\n",
      "ATOM O2   OG2  X    -0.947\r\n",
      "ATOM O3   OG2  X    -0.947\r\n",
      "ATOM P2   PG3  X     1.678\r\n",
      "ATOM O4   OG2  X    -0.918\r\n",
      "ATOM O5   OG2  X    -0.918\r\n",
      "ATOM O6   OG3  X    -0.798\r\n",
      "ATOM P3   PG3  X     1.608\r\n",
      "ATOM O7   OG2  X    -0.670\r\n",
      "ATOM O8   OG2  X    -0.670\r\n",
      "ATOM O9   OG3  X    -0.789\r\n",
      "ATOM O10  OG3  X    -0.606\r\n",
      "ATOM C1   CSp  X     0.168\r\n",
      "ATOM C2   CS1  X     0.096\r\n",
      "ATOM O11  Oet  X    -0.434\r\n",
      "ATOM C3   CSp  X     0.112\r\n",
      "ATOM O12  Ohx  X    -0.674\r\n",
      "ATOM C4   CSp  X     0.114\r\n",
      "ATOM O13  Ohx  X    -0.620\r\n",
      "ATOM C5   CS1  X     0.241\r\n",
      "ATOM N1   NGb  X    -0.274\r\n",
      "ATOM C6   CD1  X     0.349\r\n",
      "ATOM N2   Nim  X    -0.775\r\n",
      "ATOM C7   CR   X    -0.111\r\n",
      "ATOM C8   CR   X     0.529\r\n",
      "ATOM N3   Nam2 X    -0.889\r\n",
      "ATOM N4   Nim  X    -0.778\r\n",
      "ATOM C9   CR   X     0.557\r\n",
      "ATOM N5   Nim  X    -0.707\r\n",
      "ATOM C10  CR   X     0.387\r\n",
      "ATOM H    HC   X     0.071\r\n",
      "ATOM H1   HC   X     0.071\r\n",
      "ATOM H2   HC   X     0.062\r\n",
      "ATOM H3   HC   X     0.079\r\n",
      "ATOM H4   HO   X     0.508\r\n",
      "ATOM H5   HC   X     0.108\r\n",
      "ATOM H6   HO   X     0.415\r\n",
      "ATOM H7   HC   X     0.042\r\n",
      "ATOM H8   HC   X     0.135\r\n",
      "ATOM H9   HN   X     0.350\r\n",
      "ATOM H10  HN   X     0.350\r\n",
      "ATOM H11  HR   X    -0.002\r\n",
      "BOND_TYPE P1   O1   1\r\n",
      "BOND_TYPE P1   O2   1\r\n",
      "BOND_TYPE P1   O6   1\r\n",
      "BOND_TYPE P1   O3   1\r\n",
      "BOND_TYPE P2   O6   1\r\n",
      "BOND_TYPE P2   O9   1\r\n",
      "BOND_TYPE P2   O4   1\r\n",
      "BOND_TYPE P2   O5   1\r\n",
      "BOND_TYPE P3   O8   1\r\n",
      "BOND_TYPE P3   O10  1\r\n",
      "BOND_TYPE P3   O7   1\r\n",
      "BOND_TYPE P3   O9   1\r\n",
      "BOND_TYPE O10  C1   1\r\n",
      "BOND_TYPE C1   C2   1\r\n",
      "BOND_TYPE C2   O11  1\r\n",
      "BOND_TYPE O11  C5   1\r\n",
      "BOND_TYPE C2   C3   1\r\n",
      "BOND_TYPE C3   O12  1\r\n",
      "BOND_TYPE C3   C4   1\r\n",
      "BOND_TYPE C4   O13  1\r\n",
      "BOND_TYPE C4   C5   1\r\n",
      "BOND_TYPE C5   N1   1\r\n",
      "BOND_TYPE N1   C10  1\r\n",
      "BOND_TYPE N1   C6   1\r\n",
      "BOND_TYPE N2   C7   1\r\n",
      "BOND_TYPE C8   N3   1\r\n",
      "BOND_TYPE C1   H    1\r\n",
      "BOND_TYPE C1   H1   1\r\n",
      "BOND_TYPE C2   H2   1\r\n",
      "BOND_TYPE C3   H3   1\r\n",
      "BOND_TYPE O12  H4   1\r\n",
      "BOND_TYPE C4   H5   1\r\n",
      "BOND_TYPE O13  H6   1\r\n",
      "BOND_TYPE C5   H7   1\r\n",
      "BOND_TYPE C6   H8   1\r\n",
      "BOND_TYPE N3   H9   1\r\n",
      "BOND_TYPE N3   H10  1\r\n",
      "BOND_TYPE C9   H11  1\r\n",
      "BOND_TYPE C6   N2   2\r\n",
      "BOND_TYPE C7   C10  2\r\n",
      "BOND_TYPE C7   C8   2\r\n",
      "BOND_TYPE C8   N4   2\r\n",
      "BOND_TYPE N4   C9   2\r\n",
      "BOND_TYPE C9   N5   2\r\n",
      "BOND_TYPE N5   C10  2\r\n",
      "NBR_ATOM O10\r\n",
      "NBR_RADIUS 17.79929\r\n",
      "ICOOR_INTERNAL  O10     0.000000    0.000000    0.000000 O10  P3   C1  \r\n",
      "ICOOR_INTERNAL  P3      0.000000  180.000000    1.594175 O10  P3   C1  \r\n",
      "ICOOR_INTERNAL  C1      0.000000   66.924251    1.449918 O10  P3   C1  \r\n",
      "ICOOR_INTERNAL  O8     41.617178   71.374054    1.485361 P3   O10  C1  \r\n",
      "ICOOR_INTERNAL  O7    169.806065   66.469940    1.456869 P3   O10  C1  \r\n",
      "ICOOR_INTERNAL  O9    -73.923409   78.070321    1.605196 P3   O10  C1  \r\n",
      "ICOOR_INTERNAL  C2     69.765448   47.851577    1.524060 C1   P3   O10 \r\n",
      "ICOOR_INTERNAL  O11   -76.853760   71.835303    1.449726 C2   C1   P3  \r\n",
      "ICOOR_INTERNAL  C5    156.609499   70.548908    1.429336 O11  C2   C1  \r\n",
      "ICOOR_INTERNAL  C3     37.440238   62.387641    1.514646 C2   C1   P3  \r\n",
      "ICOOR_INTERNAL  O12    75.854962   66.237294    1.414637 C3   C2   C1  \r\n",
      "ICOOR_INTERNAL  C4   -160.490887   79.263958    1.540761 C3   C2   C1  \r\n",
      "ICOOR_INTERNAL  O13   -80.403510   64.989087    1.416202 C4   C3   C2  \r\n",
      "ICOOR_INTERNAL  N1   -131.154963   71.841730    1.478509 C5   O11  C2  \r\n",
      "ICOOR_INTERNAL  C10  -149.984667   45.919129    1.378699 N1   C5   O11 \r\n",
      "ICOOR_INTERNAL  C6     31.851975   59.402727    1.361253 N1   C5   O11 \r\n",
      "ICOOR_INTERNAL  N2   -178.716899   65.777046    1.314372 C6   N1   C5  \r\n",
      "ICOOR_INTERNAL  C7    175.233362   74.257385    1.396963 C10  N1   C5  \r\n",
      "ICOOR_INTERNAL  C8   -175.977566   62.697434    1.424378 C7   C10  N1  \r\n",
      "ICOOR_INTERNAL  N4      2.019884   63.209065    1.350228 C8   C7   C10 \r\n",
      "ICOOR_INTERNAL  C9      5.060522   60.378232    1.358890 N4   C8   C7  \r\n",
      "ICOOR_INTERNAL  N5     -3.919684   51.604377    1.331891 C9   N4   C8  \r\n",
      "ICOOR_INTERNAL  P2    166.210741   50.501858    1.561408 O9   P3   O10 \r\n",
      "ICOOR_INTERNAL  O4     42.570185   74.278340    1.455288 P2   O9   P3  \r\n",
      "ICOOR_INTERNAL  O5    171.552148   68.782859    1.490002 P2   O9   P3  \r\n",
      "ICOOR_INTERNAL  N3   -172.814225   55.626074    1.349055 C8   C7   C10 \r\n",
      "ICOOR_INTERNAL  O6    -68.759196   79.243461    1.587059 P2   O9   P3  \r\n",
      "ICOOR_INTERNAL  P1    156.048714   43.245904    1.623339 O6   P2   O9  \r\n",
      "ICOOR_INTERNAL  O3    -13.010370   73.115717    1.429938 P1   O6   P2  \r\n",
      "ICOOR_INTERNAL  O1    105.316075   72.199481    1.469406 P1   O6   P2  \r\n",
      "ICOOR_INTERNAL  O2   -130.970411   68.303708    1.517638 P1   O6   P2  \r\n",
      "ICOOR_INTERNAL  H     -85.782772   64.238236    1.070270 C1   P3   O10 \r\n",
      "ICOOR_INTERNAL  H1    167.323088  107.401486    1.069771 C1   P3   O10 \r\n",
      "ICOOR_INTERNAL  H2    157.192702   77.294318    1.069279 C2   C1   P3  \r\n",
      "ICOOR_INTERNAL  H3    -38.547104   65.440933    1.069810 C3   C2   C1  \r\n",
      "ICOOR_INTERNAL  H4     57.273089   70.538354    0.970443 O12  C3   C2  \r\n",
      "ICOOR_INTERNAL  H5    162.487025   69.299910    1.070389 C4   C3   C2  \r\n",
      "ICOOR_INTERNAL  H6     59.018339   70.544956    0.969791 O13  C4   C3  \r\n",
      "ICOOR_INTERNAL  H7    111.040230   66.091740    1.069950 C5   O11  C2  \r\n",
      "ICOOR_INTERNAL  H8      1.275143   57.126966    1.032311 C6   N1   C5  \r\n",
      "ICOOR_INTERNAL  H9     -5.264560   60.004818    0.984401 N3   C8   C7  \r\n",
      "ICOOR_INTERNAL  H10   174.716097   60.018818    0.984127 N3   C8   C7  \r\n",
      "ICOOR_INTERNAL  H11   176.085792   64.207625    1.031599 C9   N4   C8  \r\n",
      "CHI   1   P2   O6   P1   O1 \r\n",
      "CHI   2   O9   P2   O6   P1 \r\n",
      "CHI   3   P3   O9   P2   O6 \r\n",
      "CHI   4   O8   P3   O9   P2 \r\n",
      "CHI   5  O11   C5   N1  C10 \r\n",
      "CHI   6   C2   C3  O12   H4 \r\n",
      "PROTON_CHI 6 SAMPLES 3 60 -60 180 EXTRA 1 20\r\n",
      "CHI   7   C3   C4  O13   H6 \r\n",
      "PROTON_CHI 7 SAMPLES 3 60 -60 180 EXTRA 1 20\r\n",
      "CHI   8   C7   C8   N3   H9 \r\n",
      "PROTON_CHI 8 SAMPLES 3 60 -60 180 EXTRA 1 20\r\n"
     ]
    }
   ],
   "source": [
    "!cat ATP.am1-bcc.params"
   ]
  },
  {
   "cell_type": "markdown",
   "metadata": {},
   "source": [
    "### Also notice that the 3 letter ligand name `ATP` was changed to `LG1` by default. Therefore, in order for the `.params` file to be compatible with the ATP molecule in `test_lig.pdb` in PyRosetta, we need to rename the 3-letter molecule name manually (Note: this will change in the future).\n",
    "### Also rename `ATP.am1-bcc.params` to  `ATP.am1-bcc.gp.params` for future use:"
   ]
  },
  {
   "cell_type": "code",
   "execution_count": 21,
   "metadata": {},
   "outputs": [],
   "source": [
    "!cp ATP.am1-bcc.params ATP.am1-bcc.gp.params\n",
    "!sed -i s/LG1/ATP/g ATP.am1-bcc.gp.params"
   ]
  },
  {
   "cell_type": "markdown",
   "metadata": {},
   "source": [
    "### Further reading: https://graylab.jhu.edu/pyrosetta/downloads/scripts/demo/D120_Ligand_interface.py"
   ]
  }
 ],
 "metadata": {
  "kernelspec": {
   "display_name": "Python [conda env:pyrosetta-code-school]",
   "language": "python",
   "name": "conda-env-pyrosetta-code-school-py"
  },
  "language_info": {
   "codemirror_mode": {
    "name": "ipython",
    "version": 3
   },
   "file_extension": ".py",
   "mimetype": "text/x-python",
   "name": "python",
   "nbconvert_exporter": "python",
   "pygments_lexer": "ipython3",
   "version": "3.6.7"
  }
 },
 "nbformat": 4,
 "nbformat_minor": 2
}

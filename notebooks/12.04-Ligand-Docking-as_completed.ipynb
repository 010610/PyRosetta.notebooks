{
 "cells": [
  {
   "cell_type": "markdown",
   "metadata": {},
   "source": [
    "# Parallelized Global Ligand Docking with `dask.distributed.as_completed` and `pyrosetta.distributed`"
   ]
  },
  {
   "cell_type": "markdown",
   "metadata": {},
   "source": [
    "*Note:* This Jupyter notebook uses parallelization and is **not** meant to be executed within a Google Colab environment."
   ]
  },
  {
   "cell_type": "code",
   "execution_count": 1,
   "metadata": {},
   "outputs": [
    {
     "data": {
      "text/html": [
       "<style>.container { width:100% !important; }</style>"
      ],
      "text/plain": [
       "<IPython.core.display.HTML object>"
      ]
     },
     "metadata": {},
     "output_type": "display_data"
    },
    {
     "name": "stderr",
     "output_type": "stream",
     "text": [
      "/home/klimaj/anaconda3/envs/pyrosetta-dev/lib/python3.6/site-packages/dask/config.py:161: YAMLLoadWarning: calling yaml.load() without Loader=... is deprecated, as the default Loader is unsafe. Please read https://msg.pyyaml.org/load for full details.\n",
      "  data = yaml.load(f.read()) or {}\n",
      "/home/klimaj/anaconda3/envs/pyrosetta-dev/lib/python3.6/site-packages/distributed/config.py:20: YAMLLoadWarning: calling yaml.load() without Loader=... is deprecated, as the default Loader is unsafe. Please read https://msg.pyyaml.org/load for full details.\n",
      "  defaults = yaml.load(f)\n",
      "/home/klimaj/anaconda3/envs/pyrosetta-dev/lib/python3.6/site-packages/dask_jobqueue/config.py:12: YAMLLoadWarning: calling yaml.load() without Loader=... is deprecated, as the default Loader is unsafe. Please read https://msg.pyyaml.org/load for full details.\n",
      "  defaults = yaml.load(f)\n",
      "/home/klimaj/anaconda3/envs/pyrosetta-dev/lib/python3.6/site-packages/docrep/__init__.py:341: MatplotlibDeprecationWarning: \n",
      "The dedent function was deprecated in Matplotlib 3.1 and will be removed in 3.3. Use inspect.cleandoc instead.\n",
      "  s = dedents('\\n' + '\\n'.join(lines[first:]))\n"
     ]
    }
   ],
   "source": [
    "import logging\n",
    "logging.basicConfig(level=logging.INFO)\n",
    "import matplotlib.pyplot as plt\n",
    "%matplotlib inline\n",
    "import numpy as np\n",
    "import os\n",
    "import pandas as pd\n",
    "import pyrosetta\n",
    "import pyrosetta.distributed.dask\n",
    "import pyrosetta.distributed.io as io\n",
    "import pyrosetta.distributed.packed_pose as packed_pose\n",
    "import pyrosetta.distributed.tasks.rosetta_scripts as rosetta_scripts\n",
    "import pyrosetta.distributed.tasks.score as score\n",
    "import pyrosetta.distributed.viewer as viewer\n",
    "import seaborn\n",
    "seaborn.set()\n",
    "import sys\n",
    "\n",
    "from dask.distributed import Client, as_completed\n",
    "from dask_jobqueue import SLURMCluster\n",
    "from IPython import display\n",
    "\n",
    "if 'google.colab' in sys.modules:\n",
    "    print(\"This Jupyter notebook uses parallelization and is therefore not set up for the Google Colab environment.\")\n",
    "    sys.exit(0)"
   ]
  },
  {
   "cell_type": "markdown",
   "metadata": {},
   "source": [
    "Setup PyRosetta command line flags:"
   ]
  },
  {
   "cell_type": "code",
   "execution_count": 2,
   "metadata": {},
   "outputs": [
    {
     "name": "stderr",
     "output_type": "stream",
     "text": [
      "INFO:pyrosetta.distributed:maybe_init performing pyrosetta initialization: {'extra_options': '-extra_res_fa inputs/TPA.am1-bcc.fa.params -ignore_unrecognized_res 1 -out:level 200', 'silent': True}\n",
      "INFO:pyrosetta.rosetta:Found rosetta database at: /mnt/home/klimaj/git/Rosetta/main/source/src/python/PyRosetta/src/pyrosetta/database; using it....\n",
      "INFO:pyrosetta.rosetta:PyRosetta-4 2019 [Rosetta PyRosetta4.conda.linux.CentOS.python36.Release 2019.39+release.93456a567a8125cafdf7f8cb44400bc20b570d81 2019-09-26T14:24:44] retrieved from: http://www.pyrosetta.org\n",
      "(C) Copyright Rosetta Commons Member Institutions. Created in JHU by Sergey Lyskov and PyRosetta Team.\n"
     ]
    }
   ],
   "source": [
    "ligand_params = \"inputs/TPA.am1-bcc.fa.params\"\n",
    "flags = f\"\"\"\n",
    "-extra_res_fa {ligand_params}\n",
    "-ignore_unrecognized_res 1\n",
    "-out:level 200\n",
    "\"\"\"\n",
    "pyrosetta.distributed.init(flags)"
   ]
  },
  {
   "cell_type": "markdown",
   "metadata": {},
   "source": [
    "Setup input pose as `PackedPose` object:"
   ]
  },
  {
   "cell_type": "code",
   "execution_count": 3,
   "metadata": {},
   "outputs": [],
   "source": [
    "pose_obj = io.pose_from_file(filename=\"inputs/test_lig.pdb\")"
   ]
  },
  {
   "cell_type": "markdown",
   "metadata": {},
   "source": [
    "Setup global ligand docking RosettaScripts protocol within `pyrosetta.distributed`:"
   ]
  },
  {
   "cell_type": "code",
   "execution_count": 8,
   "metadata": {},
   "outputs": [],
   "source": [
    "xml = \"\"\"\n",
    "<ROSETTASCRIPTS>\n",
    "  <SCOREFXNS>\n",
    "    <ScoreFunction name=\"fa_standard\" weights=\"ref2015.wts\"/>\n",
    "  </SCOREFXNS>\n",
    "  <RESIDUE_SELECTORS>\n",
    "    <Chain name=\"chX\" chains=\"X\"/>\n",
    "  </RESIDUE_SELECTORS>\n",
    "  <SIMPLE_METRICS>\n",
    "    <RMSDMetric name=\"rmsd_chX\" residue_selector=\"chX\" reference_name=\"store_native\" residue_selector_ref=\"chX\" robust=\"true\" rmsd_type=\"rmsd_all\" />\n",
    "  </SIMPLE_METRICS>\n",
    "  <SCORINGGRIDS ligand_chain=\"X\" width=\"25\">\n",
    "    <ClassicGrid grid_name=\"vdw\" weight=\"1.0\"/>\n",
    "  </SCORINGGRIDS>\n",
    "  <LIGAND_AREAS>\n",
    "    <LigandArea name=\"docking_sidechain_X\" chain=\"X\" cutoff=\"6.0\" add_nbr_radius=\"true\" all_atom_mode=\"true\" minimize_ligand=\"10\"/>\n",
    "    <LigandArea name=\"final_sidechain_X\" chain=\"X\" cutoff=\"6.0\" add_nbr_radius=\"true\" all_atom_mode=\"true\"/>\n",
    "    <LigandArea name=\"final_backbone_X\" chain=\"X\" cutoff=\"7.0\" add_nbr_radius=\"false\" all_atom_mode=\"true\" Calpha_restraints=\"0.3\"/>\n",
    "  </LIGAND_AREAS>\n",
    "  <INTERFACE_BUILDERS>\n",
    "    <InterfaceBuilder name=\"side_chain_for_docking\" ligand_areas=\"docking_sidechain_X\"/>\n",
    "    <InterfaceBuilder name=\"side_chain_for_final\" ligand_areas=\"final_sidechain_X\"/>\n",
    "    <InterfaceBuilder name=\"backbone\" ligand_areas=\"final_backbone_X\" extension_window=\"3\"/>\n",
    "  </INTERFACE_BUILDERS>\n",
    "  <MOVEMAP_BUILDERS>\n",
    "    <MoveMapBuilder name=\"docking\" sc_interface=\"side_chain_for_docking\" minimize_water=\"true\"/>\n",
    "    <MoveMapBuilder name=\"final\" sc_interface=\"side_chain_for_final\" bb_interface=\"backbone\" minimize_water=\"true\"/>\n",
    "  </MOVEMAP_BUILDERS>\n",
    "  <MOVERS>\n",
    "    <SavePoseMover name=\"spm\" restore_pose=\"0\" reference_name=\"store_native\"/>\n",
    "    <Transform name=\"transform\" chain=\"X\" box_size=\"20.0\" move_distance=\"10\" angle=\"360\" initial_perturb=\"2\" cycles=\"500\" repeats=\"5\" temperature=\"1000\"/>\n",
    "    <HighResDocker name=\"high_res_docker\" cycles=\"9\" repack_every_Nth=\"3\" scorefxn=\"fa_standard\" movemap_builder=\"docking\"/>\n",
    "    <FinalMinimizer name=\"final\" scorefxn=\"fa_standard\" movemap_builder=\"final\"/>\n",
    "  </MOVERS>\n",
    "  <FILTERS>\n",
    "      <LigInterfaceEnergy name=\"interfE\" scorefxn=\"fa_standard\" energy_cutoff=\"0.0\" confidence=\"0\"/>\n",
    "      <SimpleMetricFilter name=\"rmsd_chX\" metric=\"rmsd_chX\" cutoff=\"999999.\" comparison_type=\"lt\" confidence=\"0\"/>\n",
    "  </FILTERS>\n",
    "  <PROTOCOLS>\n",
    "    <Add mover=\"spm\"/>\n",
    "    <Add mover=\"transform\"/>\n",
    "    <Add mover=\"high_res_docker\"/>\n",
    "    <Add mover=\"final\"/>\n",
    "    <Add filter=\"interfE\"/>\n",
    "    <Add filter=\"rmsd_chX\"/>\n",
    "  </PROTOCOLS>\n",
    "</ROSETTASCRIPTS>\n",
    "\"\"\"\n",
    "xml_obj = rosetta_scripts.SingleoutputRosettaScriptsTask(xml)\n",
    "xml_obj.setup()"
   ]
  },
  {
   "cell_type": "markdown",
   "metadata": {},
   "source": [
    "Setup `dask` workers to run docking simulations:"
   ]
  },
  {
   "cell_type": "code",
   "execution_count": 9,
   "metadata": {},
   "outputs": [
    {
     "name": "stderr",
     "output_type": "stream",
     "text": [
      "/home/klimaj/anaconda3/envs/pyrosetta-bootcamp/lib/python3.6/site-packages/distributed/bokeh/core.py:57: UserWarning: \n",
      "Port 8787 is already in use. \n",
      "Perhaps you already have a cluster running?\n",
      "Hosting the diagnostics dashboard on a random port instead.\n",
      "  warnings.warn('\\n' + msg)\n"
     ]
    }
   ],
   "source": [
    "if not os.getenv(\"DEBUG\"):\n",
    "    scratch_dir = os.path.join(\"/net/scratch\", os.environ[\"USER\"])\n",
    "    cluster = SLURMCluster(cores=1,\n",
    "                           processes=1,\n",
    "                           job_cpu=1,\n",
    "                           memory=\"3GB\",\n",
    "                           queue=\"interactive\",\n",
    "                           walltime=\"12:00:00\",\n",
    "                           local_directory=scratch_dir,\n",
    "                           job_extra=[\"-o {}\".format(os.path.join(scratch_dir, \"slurm-%j.out\"))],\n",
    "                           extra=pyrosetta.distributed.dask.worker_extra(init_flags=flags))\n",
    "    n_workers = 5\n",
    "    cluster.scale(n_workers)\n",
    "    client = Client(cluster)"
   ]
  },
  {
   "cell_type": "code",
   "execution_count": 10,
   "metadata": {},
   "outputs": [
    {
     "data": {
      "text/html": [
       "<table style=\"border: 2px solid white;\">\n",
       "<tr>\n",
       "<td style=\"vertical-align: top; border: 0px solid white\">\n",
       "<h3>Client</h3>\n",
       "<ul>\n",
       "  <li><b>Scheduler: </b>tcp://172.16.131.35:9559\n",
       "  <li><b>Dashboard: </b><a href='http://172.16.131.35:1677/status' target='_blank'>http://172.16.131.35:1677/status</a>\n",
       "</ul>\n",
       "</td>\n",
       "<td style=\"vertical-align: top; border: 0px solid white\">\n",
       "<h3>Cluster</h3>\n",
       "<ul>\n",
       "  <li><b>Workers: </b>0</li>\n",
       "  <li><b>Cores: </b>0</li>\n",
       "  <li><b>Memory: </b>0 B</li>\n",
       "</ul>\n",
       "</td>\n",
       "</tr>\n",
       "</table>"
      ],
      "text/plain": [
       "<Client: scheduler='tcp://172.16.131.35:9559' processes=0 cores=0>"
      ]
     },
     "execution_count": 10,
     "metadata": {},
     "output_type": "execute_result"
    }
   ],
   "source": [
    "if not os.getenv(\"DEBUG\"):\n",
    "    client"
   ]
  },
  {
   "cell_type": "markdown",
   "metadata": {},
   "source": [
    "Example using `dask.distributed.as_completed()` function:\n",
    "\n",
    "\"Give me at least 5 global ligand docks where the ligand RMSD is at least 0.4 Angstroms from the input ligand coordinates.\":"
   ]
  },
  {
   "cell_type": "code",
   "execution_count": null,
   "metadata": {},
   "outputs": [
    {
     "name": "stdout",
     "output_type": "stream",
     "text": [
      "After 15 dock(s), the lowest rmsd_chX is 0.47883597016334534\n"
     ]
    },
    {
     "data": {
      "image/png": "[encoded data removed]",
      "text/plain": [
       "<Figure size 432x288 with 1 Axes>"
      ]
     },
     "metadata": {},
     "output_type": "display_data"
    }
   ],
   "source": [
    "if not os.getenv(\"DEBUG\"):\n",
    "    with seaborn.color_palette(\"Blues_d\", n_colors=1):\n",
    "        nstruct = n_workers\n",
    "        futures = [client.submit(xml_obj, pose_obj) for j in range(nstruct)]\n",
    "        seq = as_completed(futures, with_results=True)\n",
    "\n",
    "        results = []\n",
    "        for i, (future, result) in enumerate(seq, start=1):\n",
    "\n",
    "            # Update dataset\n",
    "            results.append(result)\n",
    "            df = pd.DataFrame.from_records(packed_pose.to_dict(results))\n",
    "            lowest_rmsd_chX = df[\"rmsd_chX\"].sort_values().values[0]\n",
    "\n",
    "            # Update display\n",
    "            display.clear_output(wait=True)\n",
    "            print(f\"After {i} dock(s), the lowest rmsd_chX is {lowest_rmsd_chX}\")\n",
    "            seaborn.scatterplot(x=\"rmsd_chX\", y=\"interfE\", data=df)\n",
    "            display.display(plt.gcf())\n",
    "\n",
    "            # Submit more futures if condition is not met\n",
    "            if (i >= nstruct) and (not lowest_rmsd_chX <= 0.4):\n",
    "                nstruct += n_workers\n",
    "                for j in range(n_workers):\n",
    "                    seq.add(client.submit(xml_obj, pose_obj))"
   ]
  },
  {
   "cell_type": "markdown",
   "metadata": {},
   "source": [
    "View resulting scores in the order they completed:"
   ]
  },
  {
   "cell_type": "code",
   "execution_count": null,
   "metadata": {},
   "outputs": [],
   "source": [
    "df"
   ]
  }
 ],
 "metadata": {
  "kernelspec": {
   "display_name": "Python 3",
   "language": "python",
   "name": "python3"
  },
  "language_info": {
   "codemirror_mode": {
    "name": "ipython",
    "version": 3
   },
   "file_extension": ".py",
   "mimetype": "text/x-python",
   "name": "python",
   "nbconvert_exporter": "python",
   "pygments_lexer": "ipython3",
   "version": "3.6.7"
  }
 },
 "nbformat": 4,
 "nbformat_minor": 2
}

{
 "cells": [
  {
   "cell_type": "markdown",
   "metadata": {},
   "source": [
    "<!--NOTEBOOK_HEADER-->\n",
    "*This notebook contains material from [PyRosetta](https://RosettaCommons.github.io/PyRosetta);\n",
    "content is available [on Github](https://github.com/RosettaCommons/PyRosetta.notebooks.git).*"
   ]
  },
  {
   "cell_type": "markdown",
   "metadata": {},
   "source": [
    "<!--NAVIGATION-->\n",
    "< [Side Chain Conformations and Dunbrack Energies](http://nbviewer.jupyter.org/github/RosettaCommons/PyRosetta.notebooks/blob/master/notebooks/06.01-Side-Chain-Conformations-and-Dunbrack-Energies.ipynb) | [Contents](toc.ipynb) | [Index](index.ipynb) | [Protein Design with a Resfile and FastRelax](http://nbviewer.jupyter.org/github/RosettaCommons/PyRosetta.notebooks/blob/master/notebooks/06.03-Design-with-a-resfile-and-relax.ipynb) ><p><a href=\"https://colab.research.google.com/github/RosettaCommons/PyRosetta.notebooks/blob/master/notebooks/06.02-Packing-design-and-regional-relax.ipynb\"><img align=\"left\" src=\"https://colab.research.google.com/assets/colab-badge.svg\" alt=\"Open in Colab\" title=\"Open in Google Colaboratory\"></a>"
   ]
  },
  {
   "cell_type": "markdown",
   "metadata": {},
   "source": [
    "# Working With Antibodies\n",
    "Keywords: Antibody, RosettaAntibody, RosettaAntibodyDesign, RAbD\n"
   ]
  },
  {
   "cell_type": "markdown",
   "metadata": {},
   "source": [
    "## Overview\n",
    "If you are here, you probably understand a thing or two about antibodies.  Lets do a quick review anyway.\n",
    "<img src=\"./Media/antibody/antibody_structure_overview.png\" width=1000>\n",
    "\n",
    "## IgG\n",
    "Here is the full IgG that has two `Fabs` or antibody fragments.  Each Fab has a variable (`Fv`) and constant (`Fc`) region.  In Rosetta, we are mostly concerned with Fv - where the binding region actually resides. The molecule that an antibody binds to is called an `antigen`. \n",
    "<img src=\"./Media/antibody/antibody_structure_IgG.png\" width=1000>\n",
    "\n",
    "## CDRs\n",
    "An antibody (Fv) is made up of 6 Complementarity Determining Regions, or CDRs. The H3 CDR is the most variable CDR, but L1, L3, and H2 also take on many different shapes and lengths and in many cases, are just as critical to binding. \n",
    "\n",
    "The CDR region - specifically what is bound to the antigen is called the `paratope`, while the region on the antigen is called the `epitope`.\n",
    "<img src=\"./Media/antibody/antibody_structure_cdrs.png\" width=750>"
   ]
  },
  {
   "cell_type": "code",
   "execution_count": null,
   "metadata": {},
   "outputs": [],
   "source": [
    "# Notebook setup\n",
    "!pip install pyrosettacolabsetup\n",
    "import pyrosettacolabsetup\n",
    "pyrosettacolabsetup.setup()\n",
    "print (\"Notebook is set for PyRosetta use in Colab.  Have fun!\")"
   ]
  },
  {
   "cell_type": "markdown",
   "metadata": {},
   "source": [
    "**Make sure you are in the directory with the pdb files:**\n",
    "\n",
    "`cd google_drive/My\\ Drive/student-notebooks/`"
   ]
  },
  {
   "cell_type": "markdown",
   "metadata": {},
   "source": [
    "## Imports\n",
    "\n",
    "Before we begin, we must import some specific machinery from Rosetta.  Much of these tools are automatically imported when we do `from pyrosetta import *`, however, some are not. You should get into the habit of importing everything you need.  This will get you comfortable with the organization of Rosetta and make it easier to find tools that are beyond the scope of these workshops."
   ]
  },
  {
   "cell_type": "code",
   "execution_count": 29,
   "metadata": {},
   "outputs": [],
   "source": [
    "#Python\n",
    "from __future__ import print_function\n",
    "from pyrosetta import *\n",
    "from pyrosetta.rosetta import *\n",
    "from pyrosetta.teaching import *\n",
    "\n",
    "#Core Includes\n",
    "from rosetta.core.kinematics import MoveMap\n",
    "from rosetta.core.kinematics import FoldTree\n",
    "from rosetta.core.pack.task import TaskFactory\n",
    "from rosetta.core.pack.task import operation\n",
    "from rosetta.core.simple_metrics import metrics\n",
    "from rosetta.core.select import residue_selector as selections\n",
    "from rosetta.core import select\n",
    "from rosetta.core.select.movemap import *\n",
    "\n",
    "#Protocol Includes\n",
    "from rosetta.protocols import minimization_packing as pack_min\n",
    "from rosetta.protocols import relax as rel\n",
    "from rosetta.protocols.antibody.residue_selector import CDRResidueSelector\n",
    "from rosetta.protocols.antibody import *\n",
    "from rosetta.protocols.loops import *\n",
    "from rosetta.protocols.relax import FastRelax\n"
   ]
  },
  {
   "cell_type": "markdown",
   "metadata": {},
   "source": [
    "## Intitlialization \n",
    "\n",
    "Here, we will use command-line options to set the relax rounds to 2 instead of default 5 for speed of demo.  This is a bit tricky to do in code.\n",
    "We also set the input antibody numbering scheme so that Rosetta understands the nomenclature of our antibody. \n",
    "\n",
    "\n",
    "Note that typically, we would add these options: `-ex1` and `-ex2` in order to increase the amount of rotamers\n",
    " available for packing, but this will slow us down for the demo, so we are keeping this out."
   ]
  },
  {
   "cell_type": "code",
   "execution_count": 2,
   "metadata": {},
   "outputs": [
    {
     "name": "stdout",
     "output_type": "stream",
     "text": [
      "\u001b[0mcore.init: \u001b[0mChecking for fconfig files in pwd and ./rosetta/flags\n",
      "\u001b[0mcore.init: \u001b[0mReading fconfig.../Users/jadolfbr/.rosetta/flags/common\n",
      "\u001b[0mcore.init: \u001b[0m\n",
      "\u001b[0mcore.init: \u001b[0m\n",
      "\u001b[0mcore.init: \u001b[0mRosetta version: PyRosetta4.Release.python27.mac r206 2019.01+release.dbc838b6ae6 dbc838b6ae620b1293476b1bd4366ffc2facc5b5 http://www.pyrosetta.org 2019-01-03T10:31:13\n",
      "\u001b[0mcore.init: \u001b[0mcommand: PyRosetta -use_input_sc -input_ab_scheme AHo_Scheme -ignore_unrecognized_res -ignore_zero_occupancy false -load_PDB_components false -relax:default_repeats 2 -database /Library/Python/2.7/site-packages/pyrosetta-2019.1+release.dbc838b6ae6-py2.7-macosx-10.13-intel.egg/pyrosetta/database\n",
      "\u001b[0mcore.init: \u001b[0m'RNG device' seed mode, using '/dev/urandom', seed=-153595891 seed_offset=0 real_seed=-153595891\n",
      "\u001b[0mcore.init.random: \u001b[0mRandomGenerator:init: Normal mode, seed=-153595891 RG_type=mt19937\n"
     ]
    }
   ],
   "source": [
    "init('-use_input_sc -input_ab_scheme AHo_Scheme -ignore_unrecognized_res \\\n",
    "     -ignore_zero_occupancy false -load_PDB_components false -relax:default_repeats 2 -no_fconfig')"
   ]
  },
  {
   "cell_type": "markdown",
   "metadata": {},
   "source": [
    "## Import and copy pose\n",
    "\n",
    "Begin by importing a pose.  Here, we are going to use an antibody from the PDB. \n",
    "Note that we use the clone function to copy the pose into `original_pose`. Using the equal sign will only make what is known as a shallow copy in python and anything we do to pose will be seen in original_pose.  The clone operation copies all the data into the original_pose and is the Rosetta equivalent of the python module, `copy.deep_copy`. "
   ]
  },
  {
   "cell_type": "code",
   "execution_count": 3,
   "metadata": {},
   "outputs": [
    {
     "name": "stdout",
     "output_type": "stream",
     "text": [
      "\u001b[0mcore.chemical.GlobalResidueTypeSet: \u001b[0mFinished initializing fa_standard residue type set.  Created 636 residue types\n",
      "\u001b[0mcore.chemical.GlobalResidueTypeSet: \u001b[0mTotal time to initialize 0.76167 seconds.\n",
      "\u001b[0mcore.import_pose.import_pose: \u001b[0mFile '2r0l_1_1.pdb' automatically determined to be of type PDB\n",
      "\u001b[0mcore.io.pdb.pdb_reader: \u001b[0mParsing 0 .pdb records with unknown format to search for Rosetta-specific comments.\n",
      "\u001b[0mcore.conformation.Conformation: \u001b[0m\u001b[1m[ WARNING ]\u001b[0m missing heavyatom:  OXT on residue ARG:CtermProteinFull 108\n",
      "\u001b[0mcore.conformation.Conformation: \u001b[0m\u001b[1m[ WARNING ]\u001b[0m missing heavyatom:  OXT on residue SER:CtermProteinFull 225\n",
      "\u001b[0mcore.conformation.Conformation: \u001b[0m\u001b[1m[ WARNING ]\u001b[0m missing heavyatom:  OXT on residue ARG:CtermProteinFull 464\n",
      "\u001b[0mcore.conformation.Conformation: \u001b[0mFound disulfide between residues 23 88\n",
      "\u001b[0mcore.conformation.Conformation: \u001b[0mcurrent variant for 23 CYS\n",
      "\u001b[0mcore.conformation.Conformation: \u001b[0mcurrent variant for 88 CYS\n",
      "\u001b[0mcore.conformation.Conformation: \u001b[0mcurrent variant for 23 CYD\n",
      "\u001b[0mcore.conformation.Conformation: \u001b[0mcurrent variant for 88 CYD\n",
      "\u001b[0mcore.conformation.Conformation: \u001b[0mFound disulfide between residues 130 204\n",
      "\u001b[0mcore.conformation.Conformation: \u001b[0mcurrent variant for 130 CYS\n",
      "\u001b[0mcore.conformation.Conformation: \u001b[0mcurrent variant for 204 CYS\n",
      "\u001b[0mcore.conformation.Conformation: \u001b[0mcurrent variant for 130 CYD\n",
      "\u001b[0mcore.conformation.Conformation: \u001b[0mcurrent variant for 204 CYD\n",
      "\u001b[0mcore.conformation.Conformation: \u001b[0mFound disulfide between residues 250 266\n",
      "\u001b[0mcore.conformation.Conformation: \u001b[0mcurrent variant for 250 CYS\n",
      "\u001b[0mcore.conformation.Conformation: \u001b[0mcurrent variant for 266 CYS\n",
      "\u001b[0mcore.conformation.Conformation: \u001b[0mcurrent variant for 250 CYD\n",
      "\u001b[0mcore.conformation.Conformation: \u001b[0mcurrent variant for 266 CYD\n",
      "\u001b[0mcore.conformation.Conformation: \u001b[0mFound disulfide between residues 258 328\n",
      "\u001b[0mcore.conformation.Conformation: \u001b[0mcurrent variant for 258 CYS\n",
      "\u001b[0mcore.conformation.Conformation: \u001b[0mcurrent variant for 328 CYS\n",
      "\u001b[0mcore.conformation.Conformation: \u001b[0mcurrent variant for 258 CYD\n",
      "\u001b[0mcore.conformation.Conformation: \u001b[0mcurrent variant for 328 CYD\n",
      "\u001b[0mcore.conformation.Conformation: \u001b[0mFound disulfide between residues 353 422\n",
      "\u001b[0mcore.conformation.Conformation: \u001b[0mcurrent variant for 353 CYS\n",
      "\u001b[0mcore.conformation.Conformation: \u001b[0mcurrent variant for 422 CYS\n",
      "\u001b[0mcore.conformation.Conformation: \u001b[0mcurrent variant for 353 CYD\n",
      "\u001b[0mcore.conformation.Conformation: \u001b[0mcurrent variant for 422 CYD\n",
      "\u001b[0mcore.conformation.Conformation: \u001b[0mFound disulfide between residues 385 401\n",
      "\u001b[0mcore.conformation.Conformation: \u001b[0mcurrent variant for 385 CYS\n",
      "\u001b[0mcore.conformation.Conformation: \u001b[0mcurrent variant for 401 CYS\n",
      "\u001b[0mcore.conformation.Conformation: \u001b[0mcurrent variant for 385 CYD\n",
      "\u001b[0mcore.conformation.Conformation: \u001b[0mcurrent variant for 401 CYD\n",
      "\u001b[0mcore.conformation.Conformation: \u001b[0mFound disulfide between residues 412 440\n",
      "\u001b[0mcore.conformation.Conformation: \u001b[0mcurrent variant for 412 CYS\n",
      "\u001b[0mcore.conformation.Conformation: \u001b[0mcurrent variant for 440 CYS\n",
      "\u001b[0mcore.conformation.Conformation: \u001b[0mcurrent variant for 412 CYD\n",
      "\u001b[0mcore.conformation.Conformation: \u001b[0mcurrent variant for 440 CYD\n"
     ]
    }
   ],
   "source": [
    "#Import a pose\n",
    "pose = pose_from_pdb(\"inputs/2r0l_1_1.pdb\")\n",
    "original_pose = pose.clone()"
   ]
  },
  {
   "cell_type": "markdown",
   "metadata": {},
   "source": [
    "<!--NAVIGATION-->\n",
    "< [Side Chain Conformations and Dunbrack Energies](http://nbviewer.jupyter.org/github/RosettaCommons/PyRosetta.notebooks/blob/master/notebooks/06.01-Side-Chain-Conformations-and-Dunbrack-Energies.ipynb) | [Contents](toc.ipynb) | [Index](index.ipynb) | [Protein Design with a Resfile and FastRelax](http://nbviewer.jupyter.org/github/RosettaCommons/PyRosetta.notebooks/blob/master/notebooks/06.03-Design-with-a-resfile-and-relax.ipynb) ><p><a href=\"https://colab.research.google.com/github/RosettaCommons/PyRosetta.notebooks/blob/master/notebooks/06.02-Packing-design-and-regional-relax.ipynb\"><img align=\"left\" src=\"https://colab.research.google.com/assets/colab-badge.svg\" alt=\"Open in Colab\" title=\"Open in Google Colaboratory\"></a>"
   ]
  }
 ],
 "metadata": {
  "kernelspec": {
   "display_name": "Python 3",
   "language": "python",
   "name": "python3"
  },
  "language_info": {
   "codemirror_mode": {
    "name": "ipython",
    "version": 3
   },
   "file_extension": ".py",
   "mimetype": "text/x-python",
   "name": "python",
   "nbconvert_exporter": "python",
   "pygments_lexer": "ipython3",
   "version": "3.6.1"
  },
  "toc": {
   "base_numbering": 1,
   "nav_menu": {},
   "number_sections": true,
   "sideBar": true,
   "skip_h1_title": false,
   "title_cell": "Table of Contents",
   "title_sidebar": "Contents",
   "toc_cell": false,
   "toc_position": {},
   "toc_section_display": true,
   "toc_window_display": false
  }
 },
 "nbformat": 4,
 "nbformat_minor": 1
}

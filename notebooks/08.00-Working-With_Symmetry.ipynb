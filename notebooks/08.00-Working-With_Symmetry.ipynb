{
 "cells": [
  {
   "cell_type": "markdown",
   "metadata": {},
   "source": [
    "<!--NOTEBOOK_HEADER-->\n",
    "*This notebook contains material from [PyRosetta](https://RosettaCommons.github.io/PyRosetta);\n",
    "content is available [on Github](https://github.com/RosettaCommons/PyRosetta.notebooks.git).*"
   ]
  },
  {
   "cell_type": "markdown",
   "metadata": {},
   "source": [
    "# Working With Symmetry\n",
    "Keywords: PackRotamersMover, FastRelax, MoveMapFactory, cartesian, ResidueSelector, NeighborhoodResidueSelector, CDRResidueSelector, TaskFactory, TaskOperation, InitializeFromCommandline, RestrictToRepacking, PreventRepackingRLT, OperateOnResidueSubsetOperation, SimpleMetric, SequenceMetric, clone()\n",
    "\n",
    "## Overview\n",
    "Symmetry is an important concept to learn when working with biomolecules.  When a protein is crystalized, it is in the precense of its symmetrical neighbors - which can be important if testing particular protocols or using crystal density for refinement or full structure building.\n",
    "\n",
    "Symmetry can also be useful for designing symmetrical structures or large repeating meta-proteins like protein cages. \n",
    "\n",
    "### Symmetry In Rosetta\n",
    "So why do we care if our protein is symmetrical or not when it comes to Rosetta?  Each residue and atom that is loaded into Rosetta takes time to both load, and time to score.  Since scoring can happen thousands of times - even in a short protocol, anything we can do to speed this up becomes important. The most expensive operation in Rosetta is minimization, and by using symmetry - we can reduce the minimization time exponentially by minimizing a single copy instead of ALL copies.  We will get into the details about how this works below.\n",
    "\n",
    "When we use symmetry in Rosetta - we are basically telling rosetta that the symmetrical partners are 'special'.  Upon setting up symmety in Rosetta, Rosetta will replace the `Conformation` within the pose with a **Symmetrical** version, called the `SymmetricConformation`.  If you know anything about classes, this `SymmetricConformation` is derived from the actual `Conformation` object, but contains extra information about the pose and some functions are replaced. \n",
    "\n",
    "### Symmetric Scoring and Moving\n",
    "Ok, so now lets assume that we have our symmetric pose.  Now what?  Well, the symmetric copies are all tied to their real counterparts.  Once you move a chain, residue, or atom by packing or minimization, the symmetric copies of that residue are all moved in the same way. \n",
    "\n",
    "Cool.  But what about scoring?  Scoring works very similarly - instead of scoring each and every residue in our pose, Rosetta will score just our assymetric unit, and multiply that out to the number of symmetric copies we have.  Intelligently, Rosetta will also figure out the symmetric interfaces that arise from the interactions of our assymetric unit to the symmetric copies and score them appropriately.\n",
    "\n",
    "### Symmetry-aware movers\n",
    "Most of our common movers are symmetry-aware.  At one point there were different symmetric and non-symmetric versions of particular code, such as MinMover and PackRotamersMover.  Now though, Rosetta will automatically use the pose to figure out what needs to be done. You should seek original documentation (and contact the author if not explicit) to make sure that an uncommon protocol you are using is symmetry-aware.\n",
    "\n",
    "## Documentation\n",
    "More information on RosettaSymmetry can be found in the following places:\n",
    "- https://www.rosettacommons.org/docs/latest/rosetta_basics/structural_concepts/symmetry\n",
    "- https://www.rosettacommons.org/docs/latest/application_documentation/utilities/make-symmdef-file\n",
    "- https://www.rosettacommons.org/docs/latest/scripting_documentation/RosettaScripts/Movers/movers_pages/SetupForSymmetryMover\n",
    "- https://www.rosettacommons.org/docs/latest/scripting_documentation/RosettaScripts/Movers/movers_pages/ExtractAsymmetricUnitMover\n"
   ]
  },
  {
   "cell_type": "code",
   "execution_count": null,
   "metadata": {},
   "outputs": [],
   "source": [
    "# Notebook setup\n",
    "!pip install pyrosettacolabsetup\n",
    "import pyrosettacolabsetup\n",
    "pyrosettacolabsetup.setup()\n",
    "print (\"Notebook is set for PyRosetta use in Colab.  Have fun!\")"
   ]
  },
  {
   "cell_type": "code",
   "execution_count": null,
   "metadata": {},
   "outputs": [],
   "source": []
  }
 ],
 "metadata": {
  "kernelspec": {
   "display_name": "Python 3",
   "language": "python",
   "name": "python3"
  },
  "language_info": {
   "codemirror_mode": {
    "name": "ipython",
    "version": 3
   },
   "file_extension": ".py",
   "mimetype": "text/x-python",
   "name": "python",
   "nbconvert_exporter": "python",
   "pygments_lexer": "ipython3",
   "version": "3.6.1"
  },
  "toc": {
   "base_numbering": 1,
   "nav_menu": {},
   "number_sections": true,
   "sideBar": true,
   "skip_h1_title": false,
   "title_cell": "Table of Contents",
   "title_sidebar": "Contents",
   "toc_cell": false,
   "toc_position": {},
   "toc_section_display": true,
   "toc_window_display": false
  }
 },
 "nbformat": 4,
 "nbformat_minor": 1
}

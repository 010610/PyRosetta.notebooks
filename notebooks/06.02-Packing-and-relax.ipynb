{
 "cells": [
  {
   "cell_type": "markdown",
   "metadata": {},
   "source": [
    "<!--NOTEBOOK_HEADER-->\n",
    "*This notebook contains material from [PyRosetta](https://RosettaCommons.github.io/PyRosetta);\n",
    "content is available [on Github](https://github.com/RosettaCommons/PyRosetta.notebooks.git).*"
   ]
  },
  {
   "cell_type": "markdown",
   "metadata": {},
   "source": [
    "<!--NAVIGATION-->\n",
    "< [Packing & Design](http://nbviewer.jupyter.org/github/RosettaCommons/PyRosetta.notebooks/blob/master/notebooks/06.00-Packing-and-Design.ipynb) | [Contents](toc.ipynb) | [Index](index.ipynb) | [Side-Chain Packing](http://nbviewer.jupyter.org/github/RosettaCommons/PyRosetta.notebooks/blob/master/notebooks/06.02-Side-chain-packing.ipynb) ><p><a href=\"https://colab.research.google.com/github/RosettaCommons/PyRosetta.notebooks/blob/master/notebooks/06.01-Side-Chain-Conformations-and-Dunbrack-Energies.ipynb\"><img align=\"left\" src=\"https://colab.research.google.com/assets/colab-badge.svg\" alt=\"Open in Colab\" title=\"Open in Google Colaboratory\"></a>"
   ]
  },
  {
   "cell_type": "markdown",
   "metadata": {},
   "source": [
    "# Packing and Relax\n",
    "Keywords: PackRotamersMover, TaskOperation, ResidueSelector, TaskFactory\n",
    "\n",
    "## Overview\n",
    "Here, you will learn how to optimize the side-chains of a protein.  In Rosetta, we call this `packing`.  We will use TaskFactories to control which residues are optimized. We will use this knowledge to refine a specific region of a protein.  In the next workshop, we will use what we learned here to begin designing proteins."
   ]
  },
  {
   "cell_type": "code",
   "execution_count": null,
   "metadata": {},
   "outputs": [],
   "source": [
    "# Mounting Google Drive and add it to Python sys path\n",
    "\n",
    "google_drive_mount_point = '/content/google_drive'\n",
    "\n",
    "import os, sys, time\n",
    "from google.colab import drive\n",
    "drive.mount(google_drive_mount_point)\n",
    "\n",
    "google_drive = google_drive_mount_point + '/My Drive'\n",
    "google_drive_prefix = google_drive + '/prefix'\n",
    "\n",
    "if not os.path.isdir(google_drive_prefix): os.mkdir(google_drive_prefix)\n",
    "\n",
    "pyrosetta_install_prefix_path = '/content/prefix'\n",
    "if os.path.islink(pyrosetta_install_prefix_path): os.unlink(pyrosetta_install_prefix_path)\n",
    "os.symlink(google_drive_prefix, pyrosetta_install_prefix_path)\n",
    "\n",
    "\n",
    "for e in os.listdir(pyrosetta_install_prefix_path): sys.path.append(pyrosetta_install_prefix_path + '/' + e)"
   ]
  },
  {
   "cell_type": "markdown",
   "metadata": {},
   "source": [
    "## Imports\n",
    "\n",
    "Before we begin, we must import some specific machinery from Rosetta.  Much of these tools are automatically imported when we do `from pyrosetta import *`, however, some are not. You should get into the habit of importing everything you need.  This will get you comfortable with the organization of Rosetta and make it easier to find tools that are beyond the scope of these workshops."
   ]
  },
  {
   "cell_type": "code",
   "execution_count": 1,
   "metadata": {},
   "outputs": [
    {
     "name": "stdout",
     "output_type": "stream",
     "text": [
      "\u001b[0mcore.init: \u001b[0mChecking for fconfig files in pwd and ./rosetta/flags\n",
      "\u001b[0mcore.init: \u001b[0mReading fconfig.../Users/jadolfbr/.rosetta/flags/common\n",
      "\u001b[0mcore.init: \u001b[0m\n",
      "\u001b[0mcore.init: \u001b[0m\n",
      "\u001b[0mcore.init: \u001b[0mRosetta version: PyRosetta4.Release.python27.mac r206 2019.01+release.dbc838b6ae6 dbc838b6ae620b1293476b1bd4366ffc2facc5b5 http://www.pyrosetta.org 2019-01-03T10:31:13\n",
      "\u001b[0mcore.init: \u001b[0mcommand: PyRosetta -ex1 -ex2 -use_input_sc -input_ab_scheme AHo_Scheme -ignore_unrecognized_res -ignore_zero_occupancy false -load_PDB_components false -relax:default_repeats 2 -database /Library/Python/2.7/site-packages/pyrosetta-2019.1+release.dbc838b6ae6-py2.7-macosx-10.13-intel.egg/pyrosetta/database\n",
      "\u001b[0mcore.init: \u001b[0m'RNG device' seed mode, using '/dev/urandom', seed=-1369138197 seed_offset=0 real_seed=-1369138197\n",
      "\u001b[0mcore.init.random: \u001b[0mRandomGenerator:init: Normal mode, seed=-1369138197 RG_type=mt19937\n"
     ]
    },
    {
     "name": "stderr",
     "output_type": "stream",
     "text": [
      "/Users/jadolfbr/Library/Python/2.7/lib/python/site-packages/ipykernel/__main__.py:9: UserWarning: Import of 'rosetta' as a top-level module is deprecated and may be removed in 2018, import via 'pyrosetta.rosetta'.\n"
     ]
    }
   ],
   "source": [
    "#Python\n",
    "\n",
    "from pyrosetta import *\n",
    "from pyrosetta.rosetta import *\n",
    "from pyrosetta.teaching import *\n",
    "\n",
    "#Core Includes\n",
    "from rosetta.core.kinematics import MoveMap\n",
    "from rosetta.core.kinematics import FoldTree\n",
    "from rosetta.core.pack.task import TaskFactory\n",
    "from rosetta.core.pack.task import operation\n",
    "from rosetta.core.simple_metrics import metrics\n",
    "from rosetta.core.select import residue_selector as selections\n",
    "from rosetta.core.select.movemap import *\n",
    "\n",
    "#Protocol Includes\n",
    "from rosetta.protocols import minimization_packing as pack_min\n",
    "from rosetta.protocols import relax as rel\n",
    "from rosetta.protocols.antibody.residue_selector import CDRResidueSelector\n",
    "from rosetta.protocols.antibody import *\n",
    "from rosetta.protocols.loops import *\n",
    "from rosetta.protocols.relax import FastRelax\n",
    "\n",
    "\n",
    "\n",
    " "
   ]
  },
  {
   "cell_type": "markdown",
   "metadata": {},
   "source": [
    "## Intitlialization \n",
    "\n",
    "Here, we will use command-line options to set the relax rounds to 2 instead of default 5 for speed of demo.  This is a bit tricky to do in code.\n",
    "We also set the input antibody numbering scheme so that Rosetta understands the nomenclature of our antibody. \n",
    "\n",
    "\n",
    "Note that typically, we would add these options: `-ex1` and `-ex2` in order to increase the amount of rotamers\n",
    " available for packing, but this will slow us down for the demo, so we are keeping this out."
   ]
  },
  {
   "cell_type": "code",
   "execution_count": null,
   "metadata": {},
   "outputs": [],
   "source": [
    "init('-use_input_sc -input_ab_scheme AHo_Scheme -ignore_unrecognized_res \\\n",
    "     -ignore_zero_occupancy false -load_PDB_components false -relax:default_repeats 2')"
   ]
  },
  {
   "cell_type": "markdown",
   "metadata": {},
   "source": [
    "## Import and copy pose\n",
    "\n",
    "Begin by importing a pose.  Here, we are going to use an antibody from the PDB. \n",
    "Note that we use the clone function to copy the pose into `original_pose`. Using the equal sign will only make what is known as a shallow copy in python and anything we do to pose will be seen in original_pose.  The clone operation copies all the data into the original_pose and is the Rosetta equivalent of the python module, `copy.deep_copy`. "
   ]
  },
  {
   "cell_type": "code",
   "execution_count": 2,
   "metadata": {},
   "outputs": [
    {
     "name": "stdout",
     "output_type": "stream",
     "text": [
      "\u001b[0mcore.chemical.GlobalResidueTypeSet: \u001b[0mFinished initializing fa_standard residue type set.  Created 636 residue types\n",
      "\u001b[0mcore.chemical.GlobalResidueTypeSet: \u001b[0mTotal time to initialize 0.728027 seconds.\n",
      "\u001b[0mcore.import_pose.import_pose: \u001b[0mFile '2r0l_1_1.pdb' automatically determined to be of type PDB\n",
      "\u001b[0mcore.io.pdb.pdb_reader: \u001b[0mParsing 0 .pdb records with unknown format to search for Rosetta-specific comments.\n",
      "\u001b[0mcore.conformation.Conformation: \u001b[0m\u001b[1m[ WARNING ]\u001b[0m missing heavyatom:  OXT on residue ARG:CtermProteinFull 108\n",
      "\u001b[0mcore.conformation.Conformation: \u001b[0m\u001b[1m[ WARNING ]\u001b[0m missing heavyatom:  OXT on residue SER:CtermProteinFull 225\n",
      "\u001b[0mcore.conformation.Conformation: \u001b[0m\u001b[1m[ WARNING ]\u001b[0m missing heavyatom:  OXT on residue ARG:CtermProteinFull 464\n",
      "\u001b[0mcore.conformation.Conformation: \u001b[0mFound disulfide between residues 23 88\n",
      "\u001b[0mcore.conformation.Conformation: \u001b[0mcurrent variant for 23 CYS\n",
      "\u001b[0mcore.conformation.Conformation: \u001b[0mcurrent variant for 88 CYS\n",
      "\u001b[0mcore.conformation.Conformation: \u001b[0mcurrent variant for 23 CYD\n",
      "\u001b[0mcore.conformation.Conformation: \u001b[0mcurrent variant for 88 CYD\n",
      "\u001b[0mcore.conformation.Conformation: \u001b[0mFound disulfide between residues 130 204\n",
      "\u001b[0mcore.conformation.Conformation: \u001b[0mcurrent variant for 130 CYS\n",
      "\u001b[0mcore.conformation.Conformation: \u001b[0mcurrent variant for 204 CYS\n",
      "\u001b[0mcore.conformation.Conformation: \u001b[0mcurrent variant for 130 CYD\n",
      "\u001b[0mcore.conformation.Conformation: \u001b[0mcurrent variant for 204 CYD\n",
      "\u001b[0mcore.conformation.Conformation: \u001b[0mFound disulfide between residues 250 266\n",
      "\u001b[0mcore.conformation.Conformation: \u001b[0mcurrent variant for 250 CYS\n",
      "\u001b[0mcore.conformation.Conformation: \u001b[0mcurrent variant for 266 CYS\n",
      "\u001b[0mcore.conformation.Conformation: \u001b[0mcurrent variant for 250 CYD\n",
      "\u001b[0mcore.conformation.Conformation: \u001b[0mcurrent variant for 266 CYD\n",
      "\u001b[0mcore.conformation.Conformation: \u001b[0mFound disulfide between residues 258 328\n",
      "\u001b[0mcore.conformation.Conformation: \u001b[0mcurrent variant for 258 CYS\n",
      "\u001b[0mcore.conformation.Conformation: \u001b[0mcurrent variant for 328 CYS\n",
      "\u001b[0mcore.conformation.Conformation: \u001b[0mcurrent variant for 258 CYD\n",
      "\u001b[0mcore.conformation.Conformation: \u001b[0mcurrent variant for 328 CYD\n",
      "\u001b[0mcore.conformation.Conformation: \u001b[0mFound disulfide between residues 353 422\n",
      "\u001b[0mcore.conformation.Conformation: \u001b[0mcurrent variant for 353 CYS\n",
      "\u001b[0mcore.conformation.Conformation: \u001b[0mcurrent variant for 422 CYS\n",
      "\u001b[0mcore.conformation.Conformation: \u001b[0mcurrent variant for 353 CYD\n",
      "\u001b[0mcore.conformation.Conformation: \u001b[0mcurrent variant for 422 CYD\n",
      "\u001b[0mcore.conformation.Conformation: \u001b[0mFound disulfide between residues 385 401\n",
      "\u001b[0mcore.conformation.Conformation: \u001b[0mcurrent variant for 385 CYS\n",
      "\u001b[0mcore.conformation.Conformation: \u001b[0mcurrent variant for 401 CYS\n",
      "\u001b[0mcore.conformation.Conformation: \u001b[0mcurrent variant for 385 CYD\n",
      "\u001b[0mcore.conformation.Conformation: \u001b[0mcurrent variant for 401 CYD\n",
      "\u001b[0mcore.conformation.Conformation: \u001b[0mFound disulfide between residues 412 440\n",
      "\u001b[0mcore.conformation.Conformation: \u001b[0mcurrent variant for 412 CYS\n",
      "\u001b[0mcore.conformation.Conformation: \u001b[0mcurrent variant for 440 CYS\n",
      "\u001b[0mcore.conformation.Conformation: \u001b[0mcurrent variant for 412 CYD\n",
      "\u001b[0mcore.conformation.Conformation: \u001b[0mcurrent variant for 440 CYD\n"
     ]
    }
   ],
   "source": [
    "#Import a pose\n",
    "pose = pose_from_pdb(\"2r0l_1_1.pdb\")\n",
    "original_pose = pose.clone()"
   ]
  },
  {
   "cell_type": "markdown",
   "metadata": {},
   "source": [
    "## Setup a Normal TaskFactory\n",
    "\n",
    "A `TaskFactory` is what we use to control packing specific residues in a pose. We first pass InitializeFromCommandLine which uses any of the options specified in the `pyrosetta.init()` function.\n",
    "\n",
    "The `TaskFactory` is made up of a list of `TaskOperations`. These Taskops make up the bread and butter of controlling packing (and subsequently design). The taskops can be given to factory in any order.  \n",
    "\n",
    "In Rosetta, ALL residues are set to both pack AND design by default. We use taskops to turn things off, like creating an ice sculpture.  Here, we turn design off by using the `RestrictToRepacking` operation."
   ]
  },
  {
   "cell_type": "code",
   "execution_count": 3,
   "metadata": {
    "scrolled": true
   },
   "outputs": [],
   "source": [
    "tf = TaskFactory()\n",
    "tf.push_back(operation.InitializeFromCommandline())\n",
    "tf.push_back(operation.RestrictToRepacking())"
   ]
  },
  {
   "cell_type": "markdown",
   "metadata": {},
   "source": [
    "## Setup The Packer\n",
    "\n",
    "Here, we setup the packer and pass the TaskFactory to it.  In general, if something can be packed, it will accept a TaskFactory.  Every time the protein is packed for a single round, the TaskFactory will generate what is called the PackerTask.  This object has all of the instructions needed for Rosetta to do packing and design.  Some TaskOperations can respond to environmental changes in the pose, such as neighboring residues and dynamically change at each packing step.  This is one of the reasons we use the TaskFactory machinery to setup packing instead of hacking the PackerTask itself as has been done in some of the earlier tutorials you may see on the web. "
   ]
  },
  {
   "cell_type": "code",
   "execution_count": 4,
   "metadata": {},
   "outputs": [
    {
     "name": "stdout",
     "output_type": "stream",
     "text": [
      "\u001b[0mprotocols.minimization_packing.PackRotamersMover: \u001b[0m\u001b[1m[ WARNING ]\u001b[0m undefined ScoreFunction -- creating a default one\n",
      "\u001b[0mcore.scoring.ScoreFunctionFactory: \u001b[0mSCOREFUNCTION: \u001b[32mref2015\u001b[0m\n",
      "\u001b[0mcore.scoring.etable: \u001b[0mStarting energy table calculation\n",
      "\u001b[0mcore.scoring.etable: \u001b[0msmooth_etable: changing atr/rep split to bottom of energy well\n",
      "\u001b[0mcore.scoring.etable: \u001b[0msmooth_etable: spline smoothing lj etables (maxdis = 6)\n",
      "\u001b[0mcore.scoring.etable: \u001b[0msmooth_etable: spline smoothing solvation etables (max_dis = 6)\n",
      "\u001b[0mcore.scoring.etable: \u001b[0mFinished calculating energy tables.\n",
      "\u001b[0mbasic.io.database: \u001b[0mDatabase file opened: scoring/score_functions/hbonds/ref2015_params/HBPoly1D.csv\n",
      "\u001b[0mbasic.io.database: \u001b[0mDatabase file opened: scoring/score_functions/hbonds/ref2015_params/HBFadeIntervals.csv\n",
      "\u001b[0mbasic.io.database: \u001b[0mDatabase file opened: scoring/score_functions/hbonds/ref2015_params/HBEval.csv\n",
      "\u001b[0mbasic.io.database: \u001b[0mDatabase file opened: scoring/score_functions/hbonds/ref2015_params/DonStrength.csv\n",
      "\u001b[0mbasic.io.database: \u001b[0mDatabase file opened: scoring/score_functions/hbonds/ref2015_params/AccStrength.csv\n",
      "\u001b[0mbasic.io.database: \u001b[0mDatabase file opened: scoring/score_functions/rama/fd/all.ramaProb\n",
      "\u001b[0mbasic.io.database: \u001b[0mDatabase file opened: scoring/score_functions/rama/fd/prepro.ramaProb\n",
      "\u001b[0mbasic.io.database: \u001b[0mDatabase file opened: scoring/score_functions/omega/omega_ppdep.all.txt\n",
      "\u001b[0mbasic.io.database: \u001b[0mDatabase file opened: scoring/score_functions/omega/omega_ppdep.gly.txt\n",
      "\u001b[0mbasic.io.database: \u001b[0mDatabase file opened: scoring/score_functions/omega/omega_ppdep.pro.txt\n",
      "\u001b[0mbasic.io.database: \u001b[0mDatabase file opened: scoring/score_functions/omega/omega_ppdep.valile.txt\n",
      "\u001b[0mbasic.io.database: \u001b[0mDatabase file opened: scoring/score_functions/P_AA_pp/P_AA\n",
      "\u001b[0mbasic.io.database: \u001b[0mDatabase file opened: scoring/score_functions/P_AA_pp/P_AA_n\n",
      "\u001b[0mcore.scoring.P_AA: \u001b[0mshapovalov_lib::shap_p_aa_pp_smooth_level of 1( aka low_smooth ) got activated.\n",
      "\u001b[0mbasic.io.database: \u001b[0mDatabase file opened: scoring/score_functions/P_AA_pp/shapovalov/10deg/kappa131/a20.prop\n",
      "\u001b[0mcore.pack.task: \u001b[0mPacker task: initialize from command line()\n",
      "\u001b[0mbasic.io.database: \u001b[0mDatabase file opened: scoring/score_functions/elec_cp_reps.dat\n",
      "\u001b[0mcore.scoring.elec.util: \u001b[0mRead 40 countpair representative atoms\n",
      "\u001b[0mcore.pack.dunbrack.RotamerLibrary: \u001b[0mshapovalov_lib_fixes_enable option is true.\n",
      "\u001b[0mcore.pack.dunbrack.RotamerLibrary: \u001b[0mshapovalov_lib::shap_dun10_smooth_level of 1( aka lowest_smooth ) got activated.\n",
      "\u001b[0mcore.pack.dunbrack.RotamerLibrary: \u001b[0mBinary rotamer library selected: /Library/Python/2.7/site-packages/pyrosetta-2019.1+release.dbc838b6ae6-py2.7-macosx-10.13-intel.egg/pyrosetta/database/rotamer/shapovalov/StpDwn_0-0-0/Dunbrack10.lib.bin\n",
      "\u001b[0mcore.pack.dunbrack.RotamerLibrary: \u001b[0mUsing Dunbrack library binary file '/Library/Python/2.7/site-packages/pyrosetta-2019.1+release.dbc838b6ae6-py2.7-macosx-10.13-intel.egg/pyrosetta/database/rotamer/shapovalov/StpDwn_0-0-0/Dunbrack10.lib.bin'.\n",
      "\u001b[0mcore.pack.dunbrack.RotamerLibrary: \u001b[0mDunbrack 2010 library took 0.253676 seconds to load from binary\n",
      "\u001b[0mcore.pack.pack_rotamers: \u001b[0mbuilt 18337 rotamers at 464 positions.\n",
      "\u001b[0mcore.pack.interaction_graph.interaction_graph_factory: \u001b[0mInstantiating DensePDInteractionGraph\n",
      "\u001b[0mcore.pack.interaction_graph.interaction_graph_factory: \u001b[0mHigh IG memory usage (>25 MB). If this becomes an issue, consider using a different interaction graph type.\n"
     ]
    },
    {
     "data": {
      "text/plain": [
       "True"
      ]
     },
     "execution_count": 4,
     "metadata": {},
     "output_type": "execute_result"
    }
   ],
   "source": [
    "packer = pack_min.PackRotamersMover()\n",
    "packer.task_factory(tf)\n",
    "\n",
    "#Note that we are not passing a scorefunction here.  We will use the default, cmd-line scorefunction, \n",
    "# which is accessed through rosetta.core.scoring.get_score_function() and part of the packer.  We use use a scorefunction later. \n",
    "\n",
    "#Run the packer. (Note this may take a few minutes)\n",
    "packer.apply(pose)\n",
    "\n",
    "#Dump the PDB\n",
    "pose.dump_pdb('2r0l_all_repack.pdb')"
   ]
  },
  {
   "cell_type": "markdown",
   "metadata": {},
   "source": [
    "Lets compare the energies of the before and after pose. Any difference?"
   ]
  },
  {
   "cell_type": "code",
   "execution_count": 5,
   "metadata": {},
   "outputs": [
    {
     "name": "stdout",
     "output_type": "stream",
     "text": [
      "\u001b[0mcore.scoring.ScoreFunctionFactory: \u001b[0mSCOREFUNCTION: \u001b[32mref2015\u001b[0m\n"
     ]
    }
   ],
   "source": [
    "\n",
    "scorefxn = get_score_function()\n",
    "before = scorefxn.score(original_pose)\n",
    "#Finish the code here"
   ]
  },
  {
   "cell_type": "markdown",
   "metadata": {},
   "source": [
    "Check the sequence of the pose and the original pose using either the `SequenceMetric` \n",
    " `rosetta.core.simple_metrics.metrics.SequenceMetric` (and its apply function) OR directly using the pose's `.sequence()` function. \n",
    "  Make sure that the poses have the same sequence - as packing is just design using single residue rotamers."
   ]
  },
  {
   "cell_type": "code",
   "execution_count": null,
   "metadata": {},
   "outputs": [],
   "source": [
    "### BEGIN SOLUTION\n",
    "\n",
    "seq_metric = metrics.SequenceMetric()\n",
    "print(seq_metric.apply(pose))\n",
    "\n",
    "### END SOLUTION"
   ]
  },
  {
   "cell_type": "markdown",
   "metadata": {},
   "source": [
    "## Regional Packing\n",
    "\n",
    "Lets pack just a single CDR loop.  How do we do this?  Use a `TaskFactory` and a `TaskOperation`.  \n",
    "  To make things easier, we will use a `ResidueSelector` to select the CDR. You will see more of this later.\n",
    "  Briefly, a ResidueSelector returns a boolean vector that is the length of the pose. Each boolean is an indication of whether the residue was selected or not.  Because the vector is the same length of the pose, the index is the residue number.  There are many `ResidueSelectors` in rosetta, including ones for `AND` and `OR` operations to combine them.  Note where most of them come from above: `from rosetta.core.select import residue_selector as selections`\n",
    "\n",
    "### Make selection using the CDRResidueSelector and NeighborhoodResidueSelector\n",
    "\n",
    "We will use the NeighborhoodResidueSelector to pack the CDR loop and its surrounding neighbors, which defaults to 6 angstrums.  Each time we pack, the TaskFactory will be used to generate packing instructions (`PackerTask`) - and subsequently, the neighbors that we are packing will be updated each time to reflect this changing state of the pose."
   ]
  },
  {
   "cell_type": "code",
   "execution_count": 7,
   "metadata": {},
   "outputs": [],
   "source": [
    "nbr_selector = selections.NeighborhoodResidueSelector()\n",
    "cdr_selector = CDRResidueSelector()\n",
    "cdr_selector.set_cdr(h1)"
   ]
  },
  {
   "cell_type": "markdown",
   "metadata": {},
   "source": [
    "Note that h1 is what is called an enum.  It is a named integer.  This is better than passing around strings, \n",
    " and you will start to see many of these around Rosetta. They were imported when we imported the antibody namespace at \n",
    " the top of this workshop. Score terms such as fa_dun are also enums."
   ]
  },
  {
   "cell_type": "code",
   "execution_count": null,
   "metadata": {},
   "outputs": [],
   "source": [
    "nbr_selector.set_focus_selector(cdr_selector)\n",
    "nbr_selector.set_include_focus_in_subset(True)"
   ]
  },
  {
   "cell_type": "markdown",
   "metadata": {},
   "source": [
    "### Restrict to our selection\n",
    "\n",
    "Lets turn off packing for everything but the H1 loop and its neighbors. By using a TF, every time packing is done,\n",
    "  we regenerate the neighbors.  Using the NeighborhoodResidueSelector we actually use the pose energies object that\n",
    "  has a list of neighbors instead of doing an N by N calculation each time!\n",
    "  \n",
    "In order to do this, we create what is known as a Residue Level Task Operation, or RLT, and then pass that into the `OperateOnResidueSubset`.  Use your tab completion to see how many RLTs there are."
   ]
  },
  {
   "cell_type": "code",
   "execution_count": null,
   "metadata": {},
   "outputs": [],
   "source": [
    "prevent_repacking_rlt = operation.PreventRepackingRLT()"
   ]
  },
  {
   "cell_type": "code",
   "execution_count": null,
   "metadata": {},
   "outputs": [],
   "source": [
    "#True indicates here that we are flipping the selection.  So that we are turning off everything but the CDR and\n",
    "#  its neighbors.\n",
    "\n",
    "prevent_subset_repacking = operation.OperateOnResidueSubset(prevent_repacking_rlt, nbr_selector, True )\n"
   ]
  },
  {
   "cell_type": "markdown",
   "metadata": {},
   "source": [
    "### Reset the pose"
   ]
  },
  {
   "cell_type": "code",
   "execution_count": null,
   "metadata": {},
   "outputs": [],
   "source": [
    "\n",
    "pose = original_pose.clone()\n",
    "\n",
    "tf.push_back(prevent_subset_repacking)\n",
    "\n",
    "pack_cdrs_and_neighbors_tf = tf.clone()\n",
    "\n",
    "packer.task_factory(tf)"
   ]
  },
  {
   "cell_type": "markdown",
   "metadata": {},
   "source": [
    "Now lets Run the packer and dump the PDB.\n",
    "\n",
    "Note how many rotamers were used and how many positions were done.  Now run it again.  Have those numbers changed?\n",
    " Why?"
   ]
  },
  {
   "cell_type": "code",
   "execution_count": null,
   "metadata": {},
   "outputs": [],
   "source": [
    "### BEGIN SOLUTION\n",
    "\n",
    "packer.apply(pose)\n",
    "dump_pdb(pose)\n",
    "\n",
    "### END SOLUTION"
   ]
  },
  {
   "cell_type": "markdown",
   "metadata": {},
   "source": [
    "## Design\n",
    "\n",
    "Lets design this CDR.   We already almost everything we need created, so lets do this!!\n",
    "\n",
    "Note, since we added the RestrictToRepacking TaskOperation to our original `TaskFactory`, we need to reset (clear) it. "
   ]
  },
  {
   "cell_type": "code",
   "execution_count": 8,
   "metadata": {},
   "outputs": [],
   "source": [
    "\n",
    "pose = original_pose.clone()\n",
    "\n",
    "tf.clear()\n",
    "tf.push_back(operation.InitializeFromCommandline())\n",
    "tf.push_back(prevent_subset_repacking)\n",
    "\n",
    "#Set the new tf\n",
    "\n",
    "#Run the packer\n",
    "\n",
    "#Note this will take a significant amount of time (about a half hour to an hour)\n",
    "\n",
    "#Dump the PDB and take a look. \n",
    "\n"
   ]
  },
  {
   "cell_type": "code",
   "execution_count": 9,
   "metadata": {},
   "outputs": [],
   "source": [
    "#Okay, so we've now repacked the whole pose, repacked a CDR, and even designed a CDR and its neighbors!\n",
    "# But, we have a problem.  We designed the CDR and also designed its neighbors. OOPS!  We need to fix that!\n",
    "\n",
    "# In order to fix this, we must do this in two steps now:\n",
    "#  1) Turn off packing for ALL other residues other than our cdr and neighbors\n",
    "#  2) Turn off design for our neighbors\n",
    "\n",
    "pose = original_pose.clone()\n",
    "only_nbrs = selections.NeighborhoodResidueSelector()\n",
    "only_nbrs.set_focus_selector(cdr_selector)\n",
    "only_nbrs.set_include_focus_in_subset(False)\n",
    "\n",
    "prevent_design_rlt = operation.RestrictToRepackingRLT()\n",
    "prevent_design_on_neighbors = operation.OperateOnResidueSubset(prevent_design_rlt, only_nbrs)\n",
    "\n",
    "tf.clear()\n",
    "tf.push_back(operation.InitializeFromCommandline())\n",
    "tf.push_back(prevent_subset_repacking)\n",
    "tf.push_back(prevent_design_on_neighbors)\n",
    "\n",
    "\n",
    "#Lets set our new task factory to the packer here.\n",
    "\n",
    "\n",
    "#Run the packer here\n",
    "\n",
    "#How have our numbers changed?  Use the SequenceMetric to take a look at the sequence (metrics.SequenceMetric) \n",
    "# How does the sequence look? Was this quicker?\n",
    "# Did we get back the same sequence we started with?"
   ]
  },
  {
   "cell_type": "code",
   "execution_count": 10,
   "metadata": {},
   "outputs": [],
   "source": [
    "#############################\n",
    "######### Relax #############\n",
    "#############################"
   ]
  },
  {
   "cell_type": "code",
   "execution_count": 11,
   "metadata": {},
   "outputs": [
    {
     "name": "stdout",
     "output_type": "stream",
     "text": [
      "\u001b[0mprotocols.relax.RelaxScriptManager: \u001b[0m================== Reading script file: /Library/Python/2.7/site-packages/pyrosetta-2019.1+release.dbc838b6ae6-py2.7-macosx-10.13-intel.egg/pyrosetta/database/sampling/relax_scripts/default.txt ==================\n",
      "\u001b[0mprotocols.relax.RelaxScriptManager: \u001b[0mrepeat %%nrepeats%%\n",
      "\u001b[0mprotocols.relax.RelaxScriptManager: \u001b[0mramp_repack_min 0.02  0.01     1.0\n",
      "\u001b[0mprotocols.relax.RelaxScriptManager: \u001b[0mramp_repack_min 0.250 0.01     0.5\n",
      "\u001b[0mprotocols.relax.RelaxScriptManager: \u001b[0mramp_repack_min 0.550 0.01     0.0\n",
      "\u001b[0mprotocols.relax.RelaxScriptManager: \u001b[0mramp_repack_min 1     0.00001  0.0\n",
      "\u001b[0mprotocols.relax.RelaxScriptManager: \u001b[0maccept_to_best\n",
      "\u001b[0mprotocols.relax.RelaxScriptManager: \u001b[0mendrepeat\n"
     ]
    }
   ],
   "source": [
    "#Lets first relax the whole protein.  This will take some time, so after you run it, take a break and stretch!\n",
    "pose = original_pose.clone()\n",
    "fr = FastRelax()\n",
    "\n",
    "#Here, we have to set a scorefunction or we segfault.  \n",
    "#  Error checking is important, and protocols should use a default scorefunction. We will manage.\n",
    "\n",
    "fr.set_scorefxn(scorefxn)\n",
    "\n",
    "#Lets run this.  This takes a very long time, so we are going decrease the amount of minimization cycles we use.\n",
    "# This is generally only recommended for cartesian, but we just want everything to run fast at the moment.\n",
    "fr.max_iter(200)\n",
    "\n",
    "#Run the code\n",
    "\n",
    "#Dump the pdb and take a look."
   ]
  },
  {
   "cell_type": "code",
   "execution_count": 12,
   "metadata": {},
   "outputs": [],
   "source": [
    "#Check the energy difference here once again.  Note how low it is compared to simply packing\n",
    "\n",
    "#delta = ?"
   ]
  },
  {
   "cell_type": "code",
   "execution_count": 13,
   "metadata": {},
   "outputs": [
    {
     "name": "stdout",
     "output_type": "stream",
     "text": [
      "\u001b[0mbasic.io.database: \u001b[0mDatabase file opened: sampling/antibodies/cluster_center_dihedrals.txt\n",
      "\u001b[0mprotocols.antibody.AntibodyNumberingParser: \u001b[0mAntibody numbering scheme definitions read successfully\n",
      "\u001b[0mprotocols.antibody.AntibodyNumberingParser: \u001b[0mAntibody CDR definition read successfully\n",
      "\u001b[0mantibody.AntibodyInfo: \u001b[0mSuccessfully finished the CDR definition\n",
      "\u001b[0mantibody.AntibodyInfo: \u001b[0mAC Detecting Regular CDR H3 Stem Type\n",
      "\u001b[0mantibody.AntibodyInfo: \u001b[0mARFWWRSFDYW\n",
      "\u001b[0mantibody.AntibodyInfo: \u001b[0mAC Finished Detecting Regular CDR H3 Stem Type: KINKED\n",
      "\u001b[0mantibody.AntibodyInfo: \u001b[0mAC Finished Detecting Regular CDR H3 Stem Type: Kink: 1 Extended: 0\n",
      "\u001b[0mantibody.AntibodyInfo: \u001b[0mSetting up CDR Cluster for H1\n",
      "\u001b[0mprotocols.antibody.cluster.CDRClusterMatcher: \u001b[0mLength: 13 Omega: TTTTTTTTTTTTT\n",
      "\u001b[0mantibody.AntibodyInfo: \u001b[0mSetting up CDR Cluster for H2\n",
      "\u001b[0mprotocols.antibody.cluster.CDRClusterMatcher: \u001b[0mLength: 10 Omega: TTTTTTTTTT\n",
      "\u001b[0mantibody.AntibodyInfo: \u001b[0mSetting up CDR Cluster for H3\n",
      "\u001b[0mprotocols.antibody.cluster.CDRClusterMatcher: \u001b[0mLength: 10 Omega: TTTTTTTTTT\n",
      "\u001b[0mantibody.AntibodyInfo: \u001b[0mSetting up CDR Cluster for L1\n",
      "\u001b[0mprotocols.antibody.cluster.CDRClusterMatcher: \u001b[0mLength: 11 Omega: TTTTTTTTTTT\n",
      "\u001b[0mantibody.AntibodyInfo: \u001b[0mSetting up CDR Cluster for L2\n",
      "\u001b[0mprotocols.antibody.cluster.CDRClusterMatcher: \u001b[0mLength: 8 Omega: TTTTTTTT\n",
      "\u001b[0mantibody.AntibodyInfo: \u001b[0mSetting up CDR Cluster for L3\n",
      "\u001b[0mprotocols.antibody.cluster.CDRClusterMatcher: \u001b[0mLength: 9 Omega: TTTTTTCTT\n"
     ]
    }
   ],
   "source": [
    "#So that was fun, but what we really want is to optimize regions of the protein that we care about. \n",
    "#  This can be tricky, so to start off, lets do the basic thing and see what happens. \n",
    "\n",
    "#We will use a MoveMapFactory, which allows us to use ResidueSelectors.  \n",
    "#  The default is to have everything OFF first, and turn specific things on.\n",
    "pose = original_pose.clone()\n",
    "mmf = MoveMapFactory()\n",
    "\n",
    "#mm_enable and mm_disable are Enums (numbered variables) that come when we import the MMF\n",
    "mmf.add_bb_action(mm_enable, cdr_selector)\n",
    "#mmf.add_chi_action(mm_enable, cdr_selector) We are taking this out for speed.\n",
    "\n",
    "mm  = mmf.create_movemap_from_pose(pose)\n",
    "\n",
    "#Lets take a look at our MoveMap that the MoveMap factory creates. Pass the movemap to print()  We should only have a few residues there."
   ]
  },
  {
   "cell_type": "code",
   "execution_count": 14,
   "metadata": {},
   "outputs": [],
   "source": [
    "fr.set_movemap_factory(mmf)\n",
    "\n",
    "#Here, we only want to pack the region and neighbors.  NOT all 500 residues!\n",
    "fr.set_task_factory(pack_cdrs_and_neighbors_tf)\n",
    "\n",
    "#Run this, take a break and then lets see the results.\n",
    "#Dump the pose and take a look at it.  What is wrong with this Pose???"
   ]
  },
  {
   "cell_type": "code",
   "execution_count": 15,
   "metadata": {},
   "outputs": [
    {
     "name": "stdout",
     "output_type": "stream",
     "text": [
      "\u001b[0mcore.scoring.CartesianBondedEnergy: \u001b[0mInitializing IdealParametersDatabase with default Ks=300 , 80 , 20 , 10 , 40\n",
      "\u001b[0mbasic.io.database: \u001b[0mDatabase file opened: scoring/score_functions/bondlength_bondangle/default-lengths.txt\n",
      "\u001b[0mcore.scoring.CartesianBondedEnergy: \u001b[0mRead 757 bb-independent lengths.\n",
      "\u001b[0mbasic.io.database: \u001b[0mDatabase file opened: scoring/score_functions/bondlength_bondangle/default-angles.txt\n",
      "\u001b[0mcore.scoring.CartesianBondedEnergy: \u001b[0mRead 1456 bb-independent angles.\n",
      "\u001b[0mbasic.io.database: \u001b[0mDatabase file opened: scoring/score_functions/bondlength_bondangle/default-torsions.txt\n",
      "\u001b[0mcore.scoring.CartesianBondedEnergy: \u001b[0mRead 1 bb-independent torsions.\n",
      "\u001b[0mbasic.io.database: \u001b[0mDatabase file opened: scoring/score_functions/bondlength_bondangle/default-improper.txt\n",
      "\u001b[0mcore.scoring.CartesianBondedEnergy: \u001b[0mRead 2197 bb-independent improper tors.\n"
     ]
    }
   ],
   "source": [
    "#Okay, so we know whats wrong here, right?  Right?\n",
    "#  The pose is moving too much where we don't want it and taking forever. This is due to the FoldTree\n",
    "#  There are two fixes for this - modify the foldtree or use cartesian-space refinement. \n",
    "#  Lets do the easier of the two - cartesian!\n",
    "\n",
    "pose = original_pose.clone()\n",
    "cart_sf = create_score_function(\"ref2015_cart\")\n",
    "mmf.set_cartesian(True)\n",
    "fr.set_movemap_factory(mmf)\n",
    "fr.set_scorefxn(cart_sf)\n",
    "fr.cartesian(True)\n",
    "\n",
    "#This is a general recommendation for cartesian minimization - it lowers the number of maximum cycles.\n",
    "# More than this only increases time of protocol, but has little effect on energies/structure\n",
    "fr.max_iter(200)\n",
    "\n",
    "#Run relax\n",
    "\n",
    "#Lets dump the pose and take a look.  Does this look better?   How are the energies?"
   ]
  },
  {
   "cell_type": "code",
   "execution_count": 16,
   "metadata": {},
   "outputs": [
    {
     "name": "stdout",
     "output_type": "stream",
     "text": [
      "\u001b[0mbasic.io.database: \u001b[0mDatabase file opened: sampling/antibodies/cluster_center_dihedrals.txt\n",
      "\u001b[0mprotocols.antibody.AntibodyNumberingParser: \u001b[0mAntibody numbering scheme definitions read successfully\n",
      "\u001b[0mprotocols.antibody.AntibodyNumberingParser: \u001b[0mAntibody CDR definition read successfully\n",
      "\u001b[0mantibody.AntibodyInfo: \u001b[0mSuccessfully finished the CDR definition\n",
      "\u001b[0mantibody.AntibodyInfo: \u001b[0mAC Detecting Regular CDR H3 Stem Type\n",
      "\u001b[0mantibody.AntibodyInfo: \u001b[0mARFWWRSFDYW\n",
      "\u001b[0mantibody.AntibodyInfo: \u001b[0mAC Finished Detecting Regular CDR H3 Stem Type: KINKED\n",
      "\u001b[0mantibody.AntibodyInfo: \u001b[0mAC Finished Detecting Regular CDR H3 Stem Type: Kink: 1 Extended: 0\n",
      "\u001b[0mantibody.AntibodyInfo: \u001b[0mSetting up CDR Cluster for H1\n",
      "\u001b[0mprotocols.antibody.cluster.CDRClusterMatcher: \u001b[0mLength: 13 Omega: TTTTTTTTTTTTT\n",
      "\u001b[0mantibody.AntibodyInfo: \u001b[0mSetting up CDR Cluster for H2\n",
      "\u001b[0mprotocols.antibody.cluster.CDRClusterMatcher: \u001b[0mLength: 10 Omega: TTTTTTTTTT\n",
      "\u001b[0mantibody.AntibodyInfo: \u001b[0mSetting up CDR Cluster for H3\n",
      "\u001b[0mprotocols.antibody.cluster.CDRClusterMatcher: \u001b[0mLength: 10 Omega: TTTTTTTTTT\n",
      "\u001b[0mantibody.AntibodyInfo: \u001b[0mSetting up CDR Cluster for L1\n",
      "\u001b[0mprotocols.antibody.cluster.CDRClusterMatcher: \u001b[0mLength: 11 Omega: TTTTTTTTTTT\n",
      "\u001b[0mantibody.AntibodyInfo: \u001b[0mSetting up CDR Cluster for L2\n",
      "\u001b[0mprotocols.antibody.cluster.CDRClusterMatcher: \u001b[0mLength: 8 Omega: TTTTTTTT\n",
      "\u001b[0mantibody.AntibodyInfo: \u001b[0mSetting up CDR Cluster for L3\n",
      "\u001b[0mprotocols.antibody.cluster.CDRClusterMatcher: \u001b[0mLength: 9 Omega: TTTTTTCTT\n",
      "\u001b[0mprotocols.loops.loops_main: \u001b[0mAdded cutpoint variant to residue 138\n",
      "\u001b[0mprotocols.loops.loops_main: \u001b[0mAdded cutpoint variant to residue 139\n"
     ]
    },
    {
     "data": {
      "text/plain": [
       "True"
      ]
     },
     "execution_count": 16,
     "metadata": {},
     "output_type": "execute_result"
    }
   ],
   "source": [
    "# Now lets do the the classic way.  Were going to take advantage of the fact that we have an Antibody here. \n",
    "\n",
    "pose = original_pose.clone()\n",
    "\n",
    "\n",
    "\n",
    "#Now we need to create our FoldTree and apply it to our pose before we minimize. \n",
    "# We are going to make an AntibodyInfo object that will allow us to do this easier.  Otherwise, we need to know the \n",
    "# starting/end points of the CDR loop we are interested in.  \n",
    "\n",
    "ab_info = AntibodyInfo(pose)\n",
    "ft = FoldTree()\n",
    "\n",
    "\n",
    "start = ab_info.get_CDR_start(h1, pose)\n",
    "stop =  ab_info.get_CDR_end(h1, pose)\n",
    "cutpoint = (stop-start)/2+start\n",
    "cdr_loop = Loop(start, stop, cutpoint)\n",
    "cdr_loops = Loops()\n",
    "cdr_loops.add_loop(cdr_loop)\n",
    "                                \n",
    "fold_tree_from_loops(pose, cdr_loops, ft)\n",
    "pose.fold_tree(ft)\n",
    "original_ft = pose.fold_tree()\n",
    "add_cutpoint_variants(pose)\n",
    "\n",
    "#Add chainbreak term so we don't get wacky stuff.  This term helps keep the peptide closed during bb movement\n",
    "scorefxn_ch = scorefxn\n",
    "scorefxn_ch.set_weight(rosetta.core.scoring.chainbreak, 100)\n",
    "\n",
    "#Setup our FastRelax again for dihedral-space.\n",
    "\n",
    "mmf.set_cartesian(False)\n",
    "fr.set_scorefxn(scorefxn_ch)\n",
    "fr.cartesian(False)\n",
    "fr.set_movemap_factory(mmf)\n",
    "fr.max_iter(0) #Reset to default - if its 0, then we don't set it in the MinMover that FastRelax runs\n",
    "\n",
    "#Run relax here\n",
    "\n",
    "\n",
    "#Reapply the original fold tree\n",
    "pose.fold_tree(original_ft)\n",
    "\n",
    "#How does the pose look?  Better/worse than cartesian? No difference? How do the energies compare?\n",
    "pose.dump_pdb('2r0l_dih_H1.pdb')"
   ]
  },
  {
   "cell_type": "code",
   "execution_count": 17,
   "metadata": {},
   "outputs": [],
   "source": [
    "#That should get you started with packing/relax!\n",
    "#  We even covered some advanced topics you will see later this week such as the TaskFactory and Residue Selectors!\n",
    "#  If you have any questions, please ask!"
   ]
  }
 ],
 "metadata": {
  "kernelspec": {
   "display_name": "Python 2",
   "language": "python",
   "name": "python2"
  },
  "language_info": {
   "codemirror_mode": {
    "name": "ipython",
    "version": 2
   },
   "file_extension": ".py",
   "mimetype": "text/x-python",
   "name": "python",
   "nbconvert_exporter": "python",
   "pygments_lexer": "ipython2",
   "version": "2.7.10"
  }
 },
 "nbformat": 4,
 "nbformat_minor": 1
}

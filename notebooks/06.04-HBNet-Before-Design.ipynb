{
 "cells": [
  {
   "cell_type": "markdown",
   "metadata": {},
   "source": [
    "<!--NOTEBOOK_HEADER-->\n",
    "*This notebook contains material from [PyRosetta](https://RosettaCommons.github.io/PyRosetta);\n",
    "content is available [on Github](https://github.com/RosettaCommons/PyRosetta.notebooks.git).*"
   ]
  },
  {
   "cell_type": "markdown",
   "metadata": {},
   "source": [
    "<!--NAVIGATION-->\n",
    "< [Side-Chain Packing](http://nbviewer.jupyter.org/github/RosettaCommons/PyRosetta.notebooks/blob/master/notebooks/06.02-Side-chain-packing.ipynb) | [Contents](toc.ipynb) | [Index](index.ipynb) | [Docking](http://nbviewer.jupyter.org/github/RosettaCommons/PyRosetta.notebooks/blob/master/notebooks/07.00-Docking.ipynb) ><p><a href=\"https://colab.research.google.com/github/RosettaCommons/PyRosetta.notebooks/blob/master/notebooks/06.03-Design.ipynb\"><img align=\"left\" src=\"https://colab.research.google.com/assets/colab-badge.svg\" alt=\"Open in Colab\" title=\"Open in Google Colaboratory\"></a>"
   ]
  },
  {
   "cell_type": "markdown",
   "metadata": {},
   "source": [
    "# Design\n",
    "Keywords: generate_resfile_from_pdb(), generate_resfile_from_pose(), create_packer_task(), mutate_residue()"
   ]
  },
  {
   "cell_type": "code",
   "execution_count": null,
   "metadata": {
    "collapsed": true
   },
   "outputs": [],
   "source": [
    "# Mounting Google Drive and add it to Python sys path\n",
    "\n",
    "##google_drive_mount_point = '/content/google_drive'\n",
    "\n",
    "import os, sys, time\n",
    "##from google.colab import drive\n",
    "##drive.mount(google_drive_mount_point)\n",
    "\n",
    "##google_drive = google_drive_mount_point + '/My Drive'\n",
    "##google_drive_prefix = google_drive + '/prefix'\n",
    "\n",
    "##if not os.path.isdir(google_drive_prefix): os.mkdir(google_drive_prefix)\n",
    "\n",
    "##pyrosetta_install_prefix_path = '/content/prefix'\n",
    "##if os.path.islink(pyrosetta_install_prefix_path): o##s.unlink(pyrosetta_install_prefix_path)\n",
    "##os.symlink(google_drive_prefix, pyrosetta_install_prefix_path)\n",
    "\n",
    "\n",
    "##for e in os.listdir(pyrosetta_install_prefix_path): ##sys.path.append(pyrosetta_install_prefix_path + '/' + e)"
   ]
  },
  {
   "cell_type": "code",
   "execution_count": 6,
   "metadata": {},
   "outputs": [
    {
     "name": "stderr",
     "output_type": "stream",
     "text": [
      "WARNING:pyrosetta.rosetta:Invalid PYROSETTA_DATABASE environment variable was specified: /Users/jack/PyRosetta/database\n"
     ]
    },
    {
     "name": "stdout",
     "output_type": "stream",
     "text": [
      "PyRosetta-4 2019 [Rosetta PyRosetta4.Release.python36.mac 2019.31+release.9a323bc72ca18d3abdc8b1a730b37e52197e4ceb 2019-07-29T16:16:04] retrieved from: http://www.pyrosetta.org\n",
      "(C) Copyright Rosetta Commons Member Institutions. Created in JHU by Sergey Lyskov and PyRosetta Team.\n",
      "\u001b[0mcore.init: \u001b[0mChecking for fconfig files in pwd and ./rosetta/flags\n",
      "\u001b[0mcore.init: \u001b[0mRosetta version: PyRosetta4.Release.python36.mac r229 2019.31+release.9a323bc72ca 9a323bc72ca18d3abdc8b1a730b37e52197e4ceb http://www.pyrosetta.org 2019-07-29T16:16:04\n",
      "\u001b[0mcore.init: \u001b[0mcommand: PyRosetta -ex1 -ex2aro -database /Users/jack/PyRosetta/pyrosetta/database\n",
      "\u001b[0mbasic.random.init_random_generator: \u001b[0m'RNG device' seed mode, using '/dev/urandom', seed=668240819 seed_offset=0 real_seed=668240819\n",
      "\u001b[0mbasic.random.init_random_generator: \u001b[0mRandomGenerator:init: Normal mode, seed=668240819 RG_type=mt19937\n"
     ]
    }
   ],
   "source": [
    "# From previous section:\n",
    "\n",
    "from pyrosetta import *\n",
    "from pyrosetta.teaching import *\n",
    "pyrosetta.init()"
   ]
  },
  {
   "cell_type": "markdown",
   "metadata": {},
   "source": [
    "TODO: paragraph motivating HBNet"
   ]
  },
  {
   "cell_type": "markdown",
   "metadata": {},
   "source": [
    "We prepare for HBNet the same way that we prepare for packing. We setup the pose, score function, and packer task as before..."
   ]
  },
  {
   "cell_type": "code",
   "execution_count": 8,
   "metadata": {
    "nbgrader": {
     "grade": true,
     "grade_id": "cell-c34d0bd1a81b4a7d",
     "locked": false,
     "points": 0,
     "schema_version": 1,
     "solution": true
    }
   },
   "outputs": [
    {
     "name": "stdout",
     "output_type": "stream",
     "text": [
      "\u001b[0mcore.import_pose.import_pose: \u001b[0mFile 'hbnet_example.pdb' automatically determined to be of type PDB\n",
      "\u001b[0mcore.io.pose_from_sfr.PoseFromSFRBuilder: \u001b[0m\u001b[1m[ WARNING ]\u001b[0m PDB reader is ignoring atom  CD  in residue 131 D.  Pass flag -ignore_zero_occupancy false to change this behavior\n",
      "\u001b[0mcore.io.pose_from_sfr.PoseFromSFRBuilder: \u001b[0m\u001b[1m[ WARNING ]\u001b[0m PDB reader is ignoring atom  CZ  in residue 141 D.  Pass flag -ignore_zero_occupancy false to change this behavior\n",
      "\u001b[0mcore.io.pose_from_sfr.PoseFromSFRBuilder: \u001b[0m\u001b[1m[ WARNING ]\u001b[0m PDB reader is ignoring atom  CD  in residue 144 D.  Pass flag -ignore_zero_occupancy false to change this behavior\n",
      "\u001b[0mcore.io.pose_from_sfr.PoseFromSFRBuilder: \u001b[0m\u001b[1m[ WARNING ]\u001b[0m PDB reader is ignoring atom  CG  in residue 174 D.  Pass flag -ignore_zero_occupancy false to change this behavior\n",
      "\u001b[0mcore.io.pose_from_sfr.PoseFromSFRBuilder: \u001b[0m\u001b[1m[ WARNING ]\u001b[0m PDB reader is ignoring atom  CD  in residue 212 D.  Pass flag -ignore_zero_occupancy false to change this behavior\n",
      "\u001b[0mcore.io.pose_from_sfr.PoseFromSFRBuilder: \u001b[0m\u001b[1m[ WARNING ]\u001b[0m PDB reader is ignoring atom  OD1 in residue 77 E.  Pass flag -ignore_zero_occupancy false to change this behavior\n",
      "\u001b[0mcore.io.pose_from_sfr.PoseFromSFRBuilder: \u001b[0m\u001b[1m[ WARNING ]\u001b[0m PDB reader is ignoring atom  CD  in residue 187 E.  Pass flag -ignore_zero_occupancy false to change this behavior\n",
      "\u001b[0mcore.io.pose_from_sfr.PoseFromSFRBuilder: \u001b[0m\u001b[1m[ WARNING ]\u001b[0m PDB reader is ignoring atom  CD  in residue 191 E.  Pass flag -ignore_zero_occupancy false to change this behavior\n",
      "\u001b[0mcore.io.pose_from_sfr.PoseFromSFRBuilder: \u001b[0m\u001b[1m[ WARNING ]\u001b[0m PDB reader is ignoring atom  CD  in residue 217 E.  Pass flag -ignore_zero_occupancy false to change this behavior\n",
      "\u001b[0mcore.io.pose_from_sfr.PoseFromSFRBuilder: \u001b[0m\u001b[1m[ WARNING ]\u001b[0m PDB reader is ignoring atom  CZ  in residue 217 E.  Pass flag -ignore_zero_occupancy false to change this behavior\n",
      "\u001b[0mcore.conformation.Conformation: \u001b[0m\u001b[1m[ WARNING ]\u001b[0m missing heavyatom:  CD  on residue GLN 117\n",
      "\u001b[0mcore.conformation.Conformation: \u001b[0m\u001b[1m[ WARNING ]\u001b[0m missing heavyatom:  CZ  on residue ARG 127\n",
      "\u001b[0mcore.conformation.Conformation: \u001b[0m\u001b[1m[ WARNING ]\u001b[0m missing heavyatom:  CD  on residue LYS 130\n",
      "\u001b[0mcore.conformation.Conformation: \u001b[0m\u001b[1m[ WARNING ]\u001b[0m missing heavyatom:  CG  on residue ASP 160\n",
      "\u001b[0mcore.conformation.Conformation: \u001b[0m\u001b[1m[ WARNING ]\u001b[0m missing heavyatom:  CD  on residue GLU 198\n",
      "\u001b[0mcore.conformation.Conformation: \u001b[0m\u001b[1m[ WARNING ]\u001b[0m missing heavyatom:  OD1 on residue ASN 269\n",
      "\u001b[0mcore.conformation.Conformation: \u001b[0m\u001b[1m[ WARNING ]\u001b[0m missing heavyatom:  CD  on residue GLN 378\n",
      "\u001b[0mcore.conformation.Conformation: \u001b[0m\u001b[1m[ WARNING ]\u001b[0m missing heavyatom:  CD  on residue GLU 382\n",
      "\u001b[0mcore.conformation.Conformation: \u001b[0m\u001b[1m[ WARNING ]\u001b[0m missing heavyatom:  CD  on residue ARG 408\n",
      "\u001b[0mcore.conformation.Conformation: \u001b[0m\u001b[1m[ WARNING ]\u001b[0m missing heavyatom:  CZ  on residue ARG 408\n",
      "\u001b[0mcore.conformation.Conformation: \u001b[0mFound disulfide between residues 21 90\n",
      "\u001b[0mcore.conformation.Conformation: \u001b[0mcurrent variant for 21 CYS\n",
      "\u001b[0mcore.conformation.Conformation: \u001b[0mcurrent variant for 90 CYS\n",
      "\u001b[0mcore.conformation.Conformation: \u001b[0mcurrent variant for 21 CYD\n",
      "\u001b[0mcore.conformation.Conformation: \u001b[0mcurrent variant for 90 CYD\n",
      "\u001b[0mcore.conformation.Conformation: \u001b[0mFound disulfide between residues 137 187\n",
      "\u001b[0mcore.conformation.Conformation: \u001b[0mcurrent variant for 137 CYS\n",
      "\u001b[0mcore.conformation.Conformation: \u001b[0mcurrent variant for 187 CYS\n",
      "\u001b[0mcore.conformation.Conformation: \u001b[0mcurrent variant for 137 CYD\n",
      "\u001b[0mcore.conformation.Conformation: \u001b[0mcurrent variant for 187 CYD\n",
      "\u001b[0mcore.conformation.Conformation: \u001b[0mFound disulfide between residues 162 374\n",
      "\u001b[0mcore.conformation.Conformation: \u001b[0mcurrent variant for 162 CYS\n",
      "\u001b[0mcore.conformation.Conformation: \u001b[0mcurrent variant for 374 CYS\n",
      "\u001b[0mcore.conformation.Conformation: \u001b[0mcurrent variant for 162 CYD\n",
      "\u001b[0mcore.conformation.Conformation: \u001b[0mcurrent variant for 374 CYD\n",
      "\u001b[0mcore.conformation.Conformation: \u001b[0mFound disulfide between residues 227 295\n",
      "\u001b[0mcore.conformation.Conformation: \u001b[0mcurrent variant for 227 CYS\n",
      "\u001b[0mcore.conformation.Conformation: \u001b[0mcurrent variant for 295 CYS\n",
      "\u001b[0mcore.conformation.Conformation: \u001b[0mcurrent variant for 227 CYD\n",
      "\u001b[0mcore.conformation.Conformation: \u001b[0mcurrent variant for 295 CYD\n",
      "\u001b[0mcore.conformation.Conformation: \u001b[0mFound disulfide between residues 348 413\n",
      "\u001b[0mcore.conformation.Conformation: \u001b[0mcurrent variant for 348 CYS\n",
      "\u001b[0mcore.conformation.Conformation: \u001b[0mcurrent variant for 413 CYS\n",
      "\u001b[0mcore.conformation.Conformation: \u001b[0mcurrent variant for 348 CYD\n",
      "\u001b[0mcore.conformation.Conformation: \u001b[0mcurrent variant for 413 CYD\n",
      "\u001b[0mcore.pack.pack_missing_sidechains: \u001b[0mpacking residue number 117 because of missing atom number 7 atom name  CD\n",
      "\u001b[0mcore.pack.pack_missing_sidechains: \u001b[0mpacking residue number 127 because of missing atom number 9 atom name  CZ\n",
      "\u001b[0mcore.pack.pack_missing_sidechains: \u001b[0mpacking residue number 130 because of missing atom number 7 atom name  CD\n",
      "\u001b[0mcore.pack.pack_missing_sidechains: \u001b[0mpacking residue number 160 because of missing atom number 6 atom name  CG\n",
      "\u001b[0mcore.pack.pack_missing_sidechains: \u001b[0mpacking residue number 198 because of missing atom number 7 atom name  CD\n",
      "\u001b[0mcore.pack.pack_missing_sidechains: \u001b[0mpacking residue number 269 because of missing atom number 7 atom name  OD1\n",
      "\u001b[0mcore.pack.pack_missing_sidechains: \u001b[0mpacking residue number 378 because of missing atom number 7 atom name  CD\n",
      "\u001b[0mcore.pack.pack_missing_sidechains: \u001b[0mpacking residue number 382 because of missing atom number 7 atom name  CD\n",
      "\u001b[0mcore.pack.pack_missing_sidechains: \u001b[0mpacking residue number 408 because of missing atom number 7 atom name  CD\n",
      "\u001b[0mcore.pack.task: \u001b[0mPacker task: initialize from command line()\n",
      "\u001b[0mcore.scoring.ScoreFunctionFactory: \u001b[0mSCOREFUNCTION: \u001b[32mref2015\u001b[0m\n",
      "\u001b[0mcore.pack.pack_rotamers: \u001b[0mbuilt 167 rotamers at 9 positions.\n",
      "\u001b[0mcore.pack.interaction_graph.interaction_graph_factory: \u001b[0mInstantiating DensePDInteractionGraph\n",
      "\u001b[0mcore.scoring.ScoreFunctionFactory: \u001b[0mSCOREFUNCTION: \u001b[32mref2015\u001b[0m\n"
     ]
    },
    {
     "ename": "NameError",
     "evalue": "name 'TaskFactory' is not defined",
     "output_type": "error",
     "traceback": [
      "\u001b[0;31m---------------------------------------------------------------------------\u001b[0m",
      "\u001b[0;31mNameError\u001b[0m                                 Traceback (most recent call last)",
      "\u001b[0;32m<ipython-input-8-92b799041911>\u001b[0m in \u001b[0;36m<module>\u001b[0;34m()\u001b[0m\n\u001b[1;32m      5\u001b[0m \u001b[0;32mfrom\u001b[0m \u001b[0mpyrosetta\u001b[0m\u001b[0;34m.\u001b[0m\u001b[0mtoolbox\u001b[0m \u001b[0;32mimport\u001b[0m \u001b[0mgenerate_resfile_from_pose\u001b[0m\u001b[0;34m\u001b[0m\u001b[0m\n\u001b[1;32m      6\u001b[0m \u001b[0mgenerate_resfile_from_pose\u001b[0m\u001b[0;34m(\u001b[0m\u001b[0mpose\u001b[0m\u001b[0;34m,\u001b[0m \u001b[0;34m\"hbnet_example.resfile\"\u001b[0m\u001b[0;34m)\u001b[0m\u001b[0;34m\u001b[0m\u001b[0m\n\u001b[0;32m----> 7\u001b[0;31m \u001b[0mtask_design\u001b[0m \u001b[0;34m=\u001b[0m \u001b[0mTaskFactory\u001b[0m\u001b[0;34m.\u001b[0m\u001b[0mcreate_packer_task\u001b[0m\u001b[0;34m(\u001b[0m\u001b[0mpose\u001b[0m\u001b[0;34m)\u001b[0m\u001b[0;34m\u001b[0m\u001b[0m\n\u001b[0m\u001b[1;32m      8\u001b[0m \u001b[0mparse_resfile\u001b[0m\u001b[0;34m(\u001b[0m\u001b[0mpose\u001b[0m\u001b[0;34m,\u001b[0m \u001b[0mtask_design\u001b[0m\u001b[0;34m,\u001b[0m \u001b[0;34m\"hbnet_example.resfile\"\u001b[0m\u001b[0;34m)\u001b[0m\u001b[0;34m\u001b[0m\u001b[0m\n",
      "\u001b[0;31mNameError\u001b[0m: name 'TaskFactory' is not defined"
     ]
    }
   ],
   "source": [
    "pose = pose_from_pdb(\"hbnet_example.pdb\")\n",
    "start_pose = Pose()\n",
    "start_pose.assign(pose)\n",
    "scorefxn = get_fa_scorefxn()\n",
    "\n",
    "from pyrosetta.toolbox import generate_resfile_from_pose\n",
    "generate_resfile_from_pose(pose, \"hbnet_example.resfile\")\n",
    "task_design = TaskFactory.create_packer_task( pose )\n",
    "parse_resfile(pose, task_design, \"hbnet_example.resfile\")"
   ]
  },
  {
   "cell_type": "markdown",
   "metadata": {},
   "source": [
    "Just like before, you can edit the resfile to your own personal specifications. Alternatively, you can use task operations to automate the process. Let's use task operations to fix all residues not at the interface."
   ]
  },
  {
   "cell_type": "markdown",
   "metadata": {},
   "source": [
    "## Setting Designable Residues:\n",
    "\n",
    "Create a new task for design from the resfile:\n",
    "```\n",
    "from pyrosetta.rosetta.core.pack.task import TaskFactory, parse_resfile\n",
    "task_design = TaskFactory.create_packer_task(pose)\n",
    "parse_resfile(pose, task_design, \"1YY8-K49E.resfile\")\n",
    "```"
   ]
  },
  {
   "cell_type": "code",
   "execution_count": 16,
   "metadata": {
    "nbgrader": {
     "grade": true,
     "grade_id": "cell-1754b479780ad2e4",
     "locked": false,
     "points": 0,
     "schema_version": 1,
     "solution": true
    }
   },
   "outputs": [
    {
     "name": "stdout",
     "output_type": "stream",
     "text": [
      "Num residues:  454\n",
      "Num packable residues:  116\n",
      "Num designable residues:  53\n"
     ]
    }
   ],
   "source": [
    "from pyrosetta.rosetta.core.select.residue_selector import InterGroupInterfaceByVectorSelector, ChainSelector, NotResidueSelector\n",
    "\n",
    "chain1 = ChainSelector( \"1\" ) #selects the first chain\n",
    "chain2 = ChainSelector( \"2\" ) #selects the second chain\n",
    "\n",
    "interface_selector = InterGroupInterfaceByVectorSelector( chain1, chain2 );#selects residues at the interface\n",
    "not_interface_selector = NotResidueSelector( interface_selector ); #selects residues not at the interface\n",
    "\n",
    "from pyrosetta.rosetta.core.pack.task.operation import PreventRepackingRLT, RestrictToRepackingRLT, OperateOnResidueSubset\n",
    "\n",
    "#prevent non interface residues from repacking/designing\n",
    "fix_non_interface = OperateOnResidueSubset( PreventRepackingRLT(), not_interface_selector )\n",
    "\n",
    "#perhaps we are performing one-sided design and do not want to make mutations on chain 2:\n",
    "no_mutation_chain2 = OperateOnResidueSubset( RestrictToRepackingRLT(), chain2 )\n",
    "\n",
    "from pyrosetta.rosetta.core.pack.task import TaskFactory\n",
    "task_factory = TaskFactory()\n",
    "task_factory.push_back( fix_non_interface )\n",
    "task_factory.push_back( no_mutation_chain2 )\n",
    "\n",
    "task_design = task_factory.create_task_and_apply_taskoperations( pose )\n",
    "print( \"Num residues: \", pose.size() )\n",
    "print( \"Num packable residues: \", task_design.num_to_be_packed() ) # this includes the ones being designed\n",
    "\n",
    "num_designable = 0\n",
    "for i in range( 1, pose.size() + 1 ):\n",
    "    if( task_design.design_residue( i ) ):\n",
    "        num_designable += 1;\n",
    "print( \"Num designable residues: \", num_designable )"
   ]
  },
  {
   "cell_type": "markdown",
   "metadata": {},
   "source": [
    "Score the original `start_pose` conformation from the 1YY8 pdb for reference. Create a new `PackResiduesMover` with the `task_design` and use it to mutate residue 49 to glutamic acid. Confirm you mutated the residue by printing residue 49.\n",
    "\n",
    "__Question:__ What is the predicted Δ*G* of the mutation? Is this a stabilizing mutation?\n",
    "\n",
    "```\n",
    "pose.assign(start_pose)\n",
    "pack_mover = PackRotamersMover(scorefxn, task_design)\n",
    "print(pose.residue(49))\n",
    "pack_mover.apply(pose)\n",
    "print(pose.residue(49))\n",
    "print(scorefxn(pose) - scorefxn(start_pose))\n",
    "```"
   ]
  },
  {
   "cell_type": "code",
   "execution_count": 16,
   "metadata": {
    "nbgrader": {
     "grade": true,
     "grade_id": "cell-9e50dd452de9681a",
     "locked": false,
     "points": 0,
     "schema_version": 1,
     "solution": true
    },
    "scrolled": true
   },
   "outputs": [
    {
     "name": "stdout",
     "output_type": "stream",
     "text": [
      "Residue 49: LYS (LYS, K):\n",
      "Base: LYS\n",
      " Properties: POLYMER PROTEIN CANONICAL_AA POLAR CHARGED POSITIVE_CHARGE METALBINDING SIDECHAIN_AMINE ALPHA_AA L_AA\n",
      " Variant types:\n",
      " Main-chain atoms:  N    CA   C  \n",
      " Backbone atoms:    N    CA   C    O    H    HA \n",
      " Side-chain atoms:  CB   CG   CD   CE   NZ  1HB  2HB  1HG  2HG  1HD  2HD  1HE  2HE  1HZ  2HZ  3HZ \n",
      "Atom Coordinates:\n",
      "   N  : 32.097, 27.128, 7.923\n",
      "   CA : 31.663, 28.176, 7.007\n",
      "   C  : 30.939, 27.471, 5.878\n",
      "   O  : 31.191, 26.303, 5.597\n",
      "   CB : 32.852, 28.971, 6.449\n",
      "   CG : 33.743, 28.165, 5.512\n",
      "   CD : 35.058, 28.866, 5.167\n",
      "   CE : 35.795, 28.002, 4.134\n",
      "   NZ : 37.148, 28.45, 3.923\n",
      "   H  : 32.6902, 26.3872, 7.57742\n",
      "   HA : 31.0202, 28.8679, 7.55234\n",
      "  1HB : 32.4846, 29.8416, 5.90508\n",
      "  2HB : 33.4654, 29.335, 7.27346\n",
      "  1HG : 33.9859, 27.2076, 5.97453\n",
      "  2HG : 33.2119, 27.9736, 4.58014\n",
      "  1HD : 34.8472, 29.8571, 4.76287\n",
      "  2HD : 35.6568, 28.9812, 6.07042\n",
      "  1HE : 35.8169, 26.9678, 4.47438\n",
      "  2HE : 35.2623, 28.0373, 3.18377\n",
      "  1HZ : 37.5965, 27.8576, 3.23856\n",
      "  2HZ : 37.1393, 29.4035, 3.58859\n",
      "  3HZ : 37.6581, 28.4036, 4.79339\n",
      "Mirrored relative to coordinates in ResidueType: FALSE\n",
      "\n",
      "\u001b[0mcore.pack.pack_rotamers: \u001b[0mbuilt 6 rotamers at 1 positions.\n",
      "\u001b[0mcore.pack.interaction_graph.interaction_graph_factory: \u001b[0mInstantiating PDInteractionGraph\n",
      "Residue 49: GLU (GLU, E):\n",
      "Base: GLU\n",
      " Properties: POLYMER PROTEIN CANONICAL_AA SC_ORBITALS POLAR CHARGED NEGATIVE_CHARGE METALBINDING ALPHA_AA L_AA\n",
      " Variant types:\n",
      " Main-chain atoms:  N    CA   C  \n",
      " Backbone atoms:    N    CA   C    O    H    HA \n",
      " Side-chain atoms:  CB   CG   CD   OE1  OE2 1HB  2HB  1HG  2HG \n",
      "Atom Coordinates:\n",
      "   N  : 32.097, 27.128, 7.923\n",
      "   CA : 31.663, 28.176, 7.007\n",
      "   C  : 30.939, 27.471, 5.878\n",
      "   O  : 31.191, 26.303, 5.597\n",
      "   CB : 32.841, 28.9963, 6.4766\n",
      "   CG : 33.8415, 28.199, 5.65185\n",
      "   CD : 34.9945, 29.0322, 5.16552\n",
      "   OE1: 35.322, 29.9961, 5.8151\n",
      "   OE2: 35.5487, 28.7043, 4.1428\n",
      "   H  : 32.6902, 26.3872, 7.57742\n",
      "   HA : 31.0202, 28.8679, 7.55234\n",
      "  1HB : 32.4672, 29.8096, 5.85432\n",
      "  2HB : 33.3783, 29.4442, 7.31266\n",
      "  1HG : 34.2295, 27.3826, 6.26034\n",
      "  2HG : 33.3267, 27.7648, 4.79599\n",
      "Mirrored relative to coordinates in ResidueType: FALSE\n",
      "\n",
      "5.00381001783191\n"
     ]
    }
   ],
   "source": [
    "### BEGIN SOLUTION\n",
    "pose.assign(start_pose)\n",
    "pack_mover = PackRotamersMover(scorefxn, task_design)\n",
    "print(pose.residue(49))\n",
    "pack_mover.apply(pose)\n",
    "print(pose.residue(49))\n",
    "print(scorefxn(pose) - scorefxn(start_pose))\n",
    "### END SOLUTION"
   ]
  },
  {
   "cell_type": "markdown",
   "metadata": {},
   "source": [
    "Note the residue reference energy term (`ref`) in the scoring function.\n",
    "\n",
    "__Question:__ What is this value before and after you mutated the residue? What does this energy represent?"
   ]
  },
  {
   "cell_type": "code",
   "execution_count": null,
   "metadata": {
    "collapsed": true
   },
   "outputs": [],
   "source": []
  },
  {
   "cell_type": "markdown",
   "metadata": {},
   "source": [
    "## In your terminal:\n",
    "\n",
    "Create a new resfile that allows residue 49 to be designed freely (`49 A ALLAA`) and call it `1YY8-K49All.resfile`."
   ]
  },
  {
   "cell_type": "markdown",
   "metadata": {},
   "source": [
    "## Back here in the notebook:\n",
    "\n",
    "Create a new `PackerTask` and `PackRotamersMover` and apply it.\n",
    "\n",
    "__Question:__ What residue does Rosetta choose? Why?\n",
    "\n",
    "```\n",
    "pose.assign(start_pose)\n",
    "task_design_all = TaskFactory.create_packer_task(pose)\n",
    "parse_resfile(pose, task_design_all, \"1YY8-K49All.resfile\")\n",
    "pack_mover_all = PackRotamersMover(scorefxn, task_design_all)\n",
    "pack_mover_all.apply(pose)\n",
    "print(pose.residue(49))\n",
    "```"
   ]
  },
  {
   "cell_type": "code",
   "execution_count": 17,
   "metadata": {
    "nbgrader": {
     "grade": true,
     "grade_id": "cell-ecdd3a3881511698",
     "locked": false,
     "points": 0,
     "schema_version": 1,
     "solution": true
    }
   },
   "outputs": [
    {
     "name": "stdout",
     "output_type": "stream",
     "text": [
      "\u001b[0mcore.pack.pack_rotamers: \u001b[0mbuilt 96 rotamers at 1 positions.\n",
      "\u001b[0mcore.pack.interaction_graph.interaction_graph_factory: \u001b[0mInstantiating PDInteractionGraph\n",
      "Residue 49: LYS (LYS, K):\n",
      "Base: LYS\n",
      " Properties: POLYMER PROTEIN CANONICAL_AA POLAR CHARGED POSITIVE_CHARGE METALBINDING SIDECHAIN_AMINE ALPHA_AA L_AA\n",
      " Variant types:\n",
      " Main-chain atoms:  N    CA   C  \n",
      " Backbone atoms:    N    CA   C    O    H    HA \n",
      " Side-chain atoms:  CB   CG   CD   CE   NZ  1HB  2HB  1HG  2HG  1HD  2HD  1HE  2HE  1HZ  2HZ  3HZ \n",
      "Atom Coordinates:\n",
      "   N  : 32.097, 27.128, 7.923\n",
      "   CA : 31.663, 28.176, 7.007\n",
      "   C  : 30.939, 27.471, 5.878\n",
      "   O  : 31.191, 26.303, 5.597\n",
      "   CB : 32.8374, 29.0038, 6.48277\n",
      "   CG : 33.8145, 28.2273, 5.61012\n",
      "   CD : 34.9712, 29.1063, 5.15855\n",
      "   CE : 36.0034, 28.3064, 4.37754\n",
      "   NZ : 35.4575, 27.8019, 3.08838\n",
      "   H  : 32.6902, 26.3872, 7.57742\n",
      "   HA : 31.0202, 28.8679, 7.55234\n",
      "  1HB : 32.4591, 29.8421, 5.89706\n",
      "  2HB : 33.3952, 29.4171, 7.32334\n",
      "  1HG : 34.2106, 27.3804, 6.17181\n",
      "  2HG : 33.2943, 27.8464, 4.73181\n",
      "  1HD : 34.5922, 29.9104, 4.52621\n",
      "  2HD : 35.453, 29.5497, 6.02994\n",
      "  1HE : 36.869, 28.9339, 4.17067\n",
      "  2HE : 36.3331, 27.4565, 4.97492\n",
      "  1HZ : 36.171, 27.2776, 2.60211\n",
      "  2HZ : 34.6642, 27.2026, 3.26944\n",
      "  3HZ : 35.1659, 28.5822, 2.51737\n",
      "Mirrored relative to coordinates in ResidueType: FALSE\n",
      "\n"
     ]
    }
   ],
   "source": [
    "### BEGIN SOLUTION\n",
    "pose.assign(start_pose)\n",
    "task_design_all = TaskFactory.create_packer_task(pose)\n",
    "parse_resfile(pose, task_design_all, \"1YY8-K49All.resfile\")\n",
    "pack_mover_all = PackRotamersMover(scorefxn, task_design_all)\n",
    "pack_mover_all.apply(pose)\n",
    "print(pose.residue(49))\n",
    "### END SOLUTION"
   ]
  },
  {
   "cell_type": "markdown",
   "metadata": {},
   "source": [
    "Create your own resfile that will restrict residue 49 to only negatively charged residues using the resfile line `49 A PIKAA DE` and re-apply the design mover.\n",
    "\n",
    "__Question:__ Now what residue is chosen? What is the new residue energy, and why (physically) is it less favorable than the last design?"
   ]
  },
  {
   "cell_type": "code",
   "execution_count": null,
   "metadata": {
    "collapsed": true
   },
   "outputs": [],
   "source": []
  },
  {
   "cell_type": "markdown",
   "metadata": {},
   "source": [
    "Let’s try to make this design more favorable. Select several surrounding residues for design, and set them also to enable mutations to any residue. Call the design mover again.\n",
    "\n",
    "__Question:__ Now what do you find?"
   ]
  },
  {
   "cell_type": "code",
   "execution_count": null,
   "metadata": {
    "collapsed": true
   },
   "outputs": [],
   "source": []
  },
  {
   "cell_type": "markdown",
   "metadata": {},
   "source": [
    "It should be noted that PyRosetta includes a handy toolbox method mutate_residue() that will change a specified residue in a given pose into another. However, the rotamer of this new residue will not be optimized. For example:\n",
    "\n",
    "```\n",
    "from pyrosetta.toolbox import mutate_residue\n",
    "pose.assign(start_pose)\n",
    "print(pose.residue(49))\n",
    "mutate_residue(pose, 49, 'E')\n",
    "print(pose.residue(49))\n",
    "```"
   ]
  },
  {
   "cell_type": "markdown",
   "metadata": {},
   "source": [
    "## Programming Exercises\n",
    "\n",
    "\n",
    "- *Refinement and discrimination*. Download the “single misfold” decoy set from the Decoys ’R Us repository at dd.compbio.washington.edu/ddownload.cgi?misfold. (Documentation for this project is at dd.compbio.washington.edu.) This repository has a single “correct” and “incorrect” predicted structure for several proteins. For this exercise, analyze pdbs 2CI2 and 2CRO; each has two “incorrect” structures offered. (Technical note: These decoys have an empty occupancy field in the PDB *ATOM* records; a value of 1 needs to be added before Rosetta will load these structures.)\n",
    "\n",
    "    Write a program that will calculate and output the score for each decoy (i) as is from the PDB file, (ii) after packing only, (iii) after minimization only, and (iv) after packing and minimizing. For each of the four cases, compare the scores of the “correct” structure with those of the “incorrect” structure. Which schemes successfully discriminate the correct structures?\n",
    "\n",
    "\n",
    "- Write a refinement protocol that will iterate between side-chain packing, small and shear moves, and minimization. Where is the best place to position the Monte Carlo acceptance test? Test your protocol by making 10 independently-refined structures for the correct and incorrect decoys of 2CRO from the Decoys ’R Us single misfold set. Is this protocol able to discriminate the correct decoy? Submit your code.\n",
    "\n",
    "\n",
    "- HIV-1 protease is a major drug target for antiretroviral therapies. Protease inhibitors are designed from substrate peptide mimics. We will attempt to take a natural substrate peptide of HIV-1 protease and design it for improved binding — potentially to serve as a good template for drug design. Use PDB file 1KJG for the following analysis.\n",
    "    \n",
    "    \n",
    "    - Turn on side-chain packing for the protease active site (residues 8, 23, 25, 29, 30, 32, 45, 47, 50, 53, 82, and 84 of both chains A and B) and for the peptide (residues 2–9 on chain P; all of these numbers follow the PDB numbering).\n",
    "\n",
    "\n",
    "    - Repack the above side chains and then energy minimize those same side chains with the backbone fixed. Generate 10 decoys and record the energies for each decoy. This will represent the reference state: the wild-type peptide bound to the protease.\n",
    "\n",
    "\n",
    "    - For residue 2 of the peptide (chain P), allow repacking to any of the 20 amino acid residues, while leaving the packing and side-chain minimization the same as in step b. Generate 10 decoys and record the energies. These will represent single mutants at that residue position.\n",
    "\n",
    "\n",
    "    - Repeat step c for each of the other 8 residues in the substrate peptide.\n",
    "    \n",
    "    \n",
    "    - Take the lowest energy for each mutation position and compare it to the lowest energy for the wild type. Do single mutants at any of these positions improve the energy over the wild type? Which ones? By how much? Which energy components are mostly responsible?\n",
    "    \n",
    "\n",
    "    - Which peptide residue positions are easiest to improve? Which positions are the hardest?\n",
    "\n",
    "\n",
    "    - Are there any other trends? Hydrophobic vs. polar, bulky residues vs. small residues, etc.?\n",
    "\n",
    "\n",
    "    - Altman et al. (Proteins 2008) found, using their own computational design algorithm, that the most favorable sequences were a triple mutant E3D/T4I/V6L, a single mutant T4V, and a single mutant E3Q. How do their results compare with yours?\n",
    "\n",
    "\n",
    "    - Natural substrates are often sub-optimal binders. Why would this be advantageous?\n",
    "\n",
    "\n",
    "- Effect of backbone conformation on design. HIV-1 protease is promiscuous, meaning it can cleave a wide range of peptides beyond the ten natural substrates of the virus. Let’s examine the preferences of the enzyme through Rosetta design calculations.\n",
    "\n",
    "    - Download HIV-1 protease in complex with CA-P2 peptide (1F7A). Select the eight peptide residues for unrestricted design and let Rosetta redesign the substrate sequence. What is the new sequence and how does it compare to the original? What percent of the original sequence was optimal for its structure?\n",
    "\n",
    "\n",
    "    - Download HIV-1 protease in complex with RT-RH peptide (1KJG). (Note that the enzyme is the same here, but it is crystallized with a different substrate.) Again, design the eight substrate residues with Rosetta. What percent of this substrate sequence is optimal for this crystal structure? ____%\n",
    "\n",
    "\n",
    "    - How do the designed sequences of (a) and (b) compare? Why should they be the same? Why would they not be the same? What are the implications for the field of computational protein design?\n",
    "\n",
    "\n",
    "- Write a program which iterates between design of all residues of a protein and refinement via small, shear, and minimization moves.\n",
    "\n",
    "\n",
    "## Thought Question\n",
    "\n",
    "What is the thermodynamic meaning of the ref energy term, and what does it correspond to physically?\n",
    "During evolution, the genome sequence may mutate to cause protein sequence changes. Alternately, one could consider the difference in evolutionary propensities for each residue type. How could you derive reference energies from sequence data, and what would that mean? \n",
    "\n",
    "\n",
    "How do Kuhlman & Baker fit the reference energies in their 2000 PNAS paper?\n",
    "\n",
    "\n",
    "## References\n",
    "\n",
    "\n",
    "- S. C. Lovell et al., “The penultimate rotamer library,” Proteins 40, 389-408 (2000).\n",
    "\n",
    "\n",
    "- R. L. Dunbrack & F. E. Cohen, “Bayesian statistical analysis of protein side-chain rotamer preferences,” Protein Sci. 6, 1661-1681 (1997)"
   ]
  },
  {
   "cell_type": "code",
   "execution_count": null,
   "metadata": {
    "collapsed": true
   },
   "outputs": [],
   "source": []
  },
  {
   "cell_type": "markdown",
   "metadata": {},
   "source": [
    "<!--NAVIGATION-->\n",
    "< [Side-Chain Packing](http://nbviewer.jupyter.org/github/RosettaCommons/PyRosetta.notebooks/blob/master/notebooks/06.02-Side-chain-packing.ipynb) | [Contents](toc.ipynb) | [Index](index.ipynb) | [Docking](http://nbviewer.jupyter.org/github/RosettaCommons/PyRosetta.notebooks/blob/master/notebooks/07.00-Docking.ipynb) ><p><a href=\"https://colab.research.google.com/github/RosettaCommons/PyRosetta.notebooks/blob/master/notebooks/06.03-Design.ipynb\"><img align=\"left\" src=\"https://colab.research.google.com/assets/colab-badge.svg\" alt=\"Open in Colab\" title=\"Open in Google Colaboratory\"></a>"
   ]
  }
 ],
 "metadata": {
  "celltoolbar": "Create Assignment",
  "kernelspec": {
   "display_name": "Python 3",
   "language": "python",
   "name": "python3"
  },
  "language_info": {
   "codemirror_mode": {
    "name": "ipython",
    "version": 3
   },
   "file_extension": ".py",
   "mimetype": "text/x-python",
   "name": "python",
   "nbconvert_exporter": "python",
   "pygments_lexer": "ipython3",
   "version": "3.6.3"
  },
  "toc": {
   "base_numbering": 1,
   "nav_menu": {},
   "number_sections": true,
   "sideBar": true,
   "skip_h1_title": false,
   "title_cell": "Table of Contents",
   "title_sidebar": "Contents",
   "toc_cell": false,
   "toc_position": {
    "height": "calc(100% - 180px)",
    "left": "10px",
    "top": "150px",
    "width": "284.444px"
   },
   "toc_section_display": true,
   "toc_window_display": true
  }
 },
 "nbformat": 4,
 "nbformat_minor": 2
}

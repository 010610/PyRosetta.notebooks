{
 "cells": [
  {
   "cell_type": "markdown",
   "metadata": {},
   "source": [
    "<!--NOTEBOOK_HEADER-->\n",
    "*This notebook contains material from [PyRosetta](https://RosettaCommons.github.io/PyRosetta);\n",
    "content is available [on Github](https://github.com/RosettaCommons/PyRosetta.notebooks.git).*"
   ]
  },
  {
   "cell_type": "markdown",
   "metadata": {},
   "source": [
    "<!--NAVIGATION-->\n",
    "< [Side-Chain Packing](http://nbviewer.jupyter.org/github/RosettaCommons/PyRosetta.notebooks/blob/master/notebooks/06.02-Side-chain-packing.ipynb) | [Contents](toc.ipynb) | [Index](index.ipynb) | [Docking](http://nbviewer.jupyter.org/github/RosettaCommons/PyRosetta.notebooks/blob/master/notebooks/07.00-Docking.ipynb) ><p><a href=\"https://colab.research.google.com/github/RosettaCommons/PyRosetta.notebooks/blob/master/notebooks/06.03-Design.ipynb\"><img align=\"left\" src=\"https://colab.research.google.com/assets/colab-badge.svg\" alt=\"Open in Colab\" title=\"Open in Google Colaboratory\"></a>"
   ]
  },
  {
   "cell_type": "markdown",
   "metadata": {},
   "source": [
    "# Design\n",
    "Keywords: generate_resfile_from_pdb(), generate_resfile_from_pose(), create_packer_task(), mutate_residue()"
   ]
  },
  {
   "cell_type": "code",
   "execution_count": 1,
   "metadata": {
    "collapsed": true
   },
   "outputs": [],
   "source": [
    "# Mounting Google Drive and add it to Python sys path\n",
    "\n",
    "google_drive_mount_point = '/content/google_drive'\n",
    "\n",
    "import os, sys, time\n",
    "from google.colab import drive\n",
    "drive.mount(google_drive_mount_point)\n",
    "\n",
    "google_drive = google_drive_mount_point + '/My Drive'\n",
    "google_drive_prefix = google_drive + '/prefix'\n",
    "\n",
    "if not os.path.isdir(google_drive_prefix): os.mkdir(google_drive_prefix)\n",
    "\n",
    "pyrosetta_install_prefix_path = '/content/prefix'\n",
    "if os.path.islink(pyrosetta_install_prefix_path): os.unlink(pyrosetta_install_prefix_path)\n",
    "os.symlink(google_drive_prefix, pyrosetta_install_prefix_path)\n",
    "\n",
    "\n",
    "for e in os.listdir(pyrosetta_install_prefix_path): sys.path.append(pyrosetta_install_prefix_path + '/' + e)"
   ]
  },
  {
   "cell_type": "code",
   "execution_count": 1,
   "metadata": {},
   "outputs": [
    {
     "name": "stderr",
     "output_type": "stream",
     "text": [
      "WARNING:pyrosetta.rosetta:Invalid PYROSETTA_DATABASE environment variable was specified: /Users/jack/PyRosetta/database\n"
     ]
    },
    {
     "name": "stdout",
     "output_type": "stream",
     "text": [
      "PyRosetta-4 2019 [Rosetta PyRosetta4.Release.python36.mac 2019.31+release.9a323bc72ca18d3abdc8b1a730b37e52197e4ceb 2019-07-29T16:16:04] retrieved from: http://www.pyrosetta.org\n",
      "(C) Copyright Rosetta Commons Member Institutions. Created in JHU by Sergey Lyskov and PyRosetta Team.\n",
      "\u001b[0mcore.init: \u001b[0mChecking for fconfig files in pwd and ./rosetta/flags\n",
      "\u001b[0mcore.init: \u001b[0mRosetta version: PyRosetta4.Release.python36.mac r229 2019.31+release.9a323bc72ca 9a323bc72ca18d3abdc8b1a730b37e52197e4ceb http://www.pyrosetta.org 2019-07-29T16:16:04\n",
      "\u001b[0mcore.init: \u001b[0mcommand: PyRosetta -ex1 -ex2aro -database /Users/jack/PyRosetta/pyrosetta/database\n",
      "\u001b[0mbasic.random.init_random_generator: \u001b[0m'RNG device' seed mode, using '/dev/urandom', seed=963821123 seed_offset=0 real_seed=963821123\n",
      "\u001b[0mbasic.random.init_random_generator: \u001b[0mRandomGenerator:init: Normal mode, seed=963821123 RG_type=mt19937\n"
     ]
    }
   ],
   "source": [
    "# From previous section:\n",
    "\n",
    "from pyrosetta import *\n",
    "from pyrosetta.teaching import *\n",
    "pyrosetta.init()"
   ]
  },
  {
   "cell_type": "markdown",
   "metadata": {},
   "source": [
    "TODO: paragraph motivating HBNet"
   ]
  },
  {
   "cell_type": "markdown",
   "metadata": {},
   "source": [
    "We prepare for HBNet the same way that we prepare for packing. We setup the pose and score function as before..."
   ]
  },
  {
   "cell_type": "code",
   "execution_count": 2,
   "metadata": {
    "nbgrader": {
     "grade": true,
     "grade_id": "cell-c34d0bd1a81b4a7d",
     "locked": false,
     "points": 0,
     "schema_version": 1,
     "solution": true
    }
   },
   "outputs": [
    {
     "name": "stdout",
     "output_type": "stream",
     "text": [
      "\u001b[0mcore.chemical.GlobalResidueTypeSet: \u001b[0mFinished initializing fa_standard residue type set.  Created 980 residue types\n",
      "\u001b[0mcore.chemical.GlobalResidueTypeSet: \u001b[0mTotal time to initialize 1.01713 seconds.\n",
      "\u001b[0mcore.import_pose.import_pose: \u001b[0mFile 'hbnet_example.pdb' automatically determined to be of type PDB\n",
      "\u001b[0mcore.io.pose_from_sfr.PoseFromSFRBuilder: \u001b[0m\u001b[1m[ WARNING ]\u001b[0m PDB reader is ignoring atom  CD  in residue 131 D.  Pass flag -ignore_zero_occupancy false to change this behavior\n",
      "\u001b[0mcore.io.pose_from_sfr.PoseFromSFRBuilder: \u001b[0m\u001b[1m[ WARNING ]\u001b[0m PDB reader is ignoring atom  CZ  in residue 141 D.  Pass flag -ignore_zero_occupancy false to change this behavior\n",
      "\u001b[0mcore.io.pose_from_sfr.PoseFromSFRBuilder: \u001b[0m\u001b[1m[ WARNING ]\u001b[0m PDB reader is ignoring atom  CD  in residue 144 D.  Pass flag -ignore_zero_occupancy false to change this behavior\n",
      "\u001b[0mcore.io.pose_from_sfr.PoseFromSFRBuilder: \u001b[0m\u001b[1m[ WARNING ]\u001b[0m PDB reader is ignoring atom  CG  in residue 174 D.  Pass flag -ignore_zero_occupancy false to change this behavior\n",
      "\u001b[0mcore.io.pose_from_sfr.PoseFromSFRBuilder: \u001b[0m\u001b[1m[ WARNING ]\u001b[0m PDB reader is ignoring atom  CD  in residue 212 D.  Pass flag -ignore_zero_occupancy false to change this behavior\n",
      "\u001b[0mcore.io.pose_from_sfr.PoseFromSFRBuilder: \u001b[0m\u001b[1m[ WARNING ]\u001b[0m PDB reader is ignoring atom  OD1 in residue 77 E.  Pass flag -ignore_zero_occupancy false to change this behavior\n",
      "\u001b[0mcore.io.pose_from_sfr.PoseFromSFRBuilder: \u001b[0m\u001b[1m[ WARNING ]\u001b[0m PDB reader is ignoring atom  CD  in residue 187 E.  Pass flag -ignore_zero_occupancy false to change this behavior\n",
      "\u001b[0mcore.io.pose_from_sfr.PoseFromSFRBuilder: \u001b[0m\u001b[1m[ WARNING ]\u001b[0m PDB reader is ignoring atom  CD  in residue 191 E.  Pass flag -ignore_zero_occupancy false to change this behavior\n",
      "\u001b[0mcore.io.pose_from_sfr.PoseFromSFRBuilder: \u001b[0m\u001b[1m[ WARNING ]\u001b[0m PDB reader is ignoring atom  CD  in residue 217 E.  Pass flag -ignore_zero_occupancy false to change this behavior\n",
      "\u001b[0mcore.io.pose_from_sfr.PoseFromSFRBuilder: \u001b[0m\u001b[1m[ WARNING ]\u001b[0m PDB reader is ignoring atom  CZ  in residue 217 E.  Pass flag -ignore_zero_occupancy false to change this behavior\n",
      "\u001b[0mcore.conformation.Conformation: \u001b[0m\u001b[1m[ WARNING ]\u001b[0m missing heavyatom:  CD  on residue GLN 117\n",
      "\u001b[0mcore.conformation.Conformation: \u001b[0m\u001b[1m[ WARNING ]\u001b[0m missing heavyatom:  CZ  on residue ARG 127\n",
      "\u001b[0mcore.conformation.Conformation: \u001b[0m\u001b[1m[ WARNING ]\u001b[0m missing heavyatom:  CD  on residue LYS 130\n",
      "\u001b[0mcore.conformation.Conformation: \u001b[0m\u001b[1m[ WARNING ]\u001b[0m missing heavyatom:  CG  on residue ASP 160\n",
      "\u001b[0mcore.conformation.Conformation: \u001b[0m\u001b[1m[ WARNING ]\u001b[0m missing heavyatom:  CD  on residue GLU 198\n",
      "\u001b[0mcore.conformation.Conformation: \u001b[0m\u001b[1m[ WARNING ]\u001b[0m missing heavyatom:  OD1 on residue ASN 269\n",
      "\u001b[0mcore.conformation.Conformation: \u001b[0m\u001b[1m[ WARNING ]\u001b[0m missing heavyatom:  CD  on residue GLN 378\n",
      "\u001b[0mcore.conformation.Conformation: \u001b[0m\u001b[1m[ WARNING ]\u001b[0m missing heavyatom:  CD  on residue GLU 382\n",
      "\u001b[0mcore.conformation.Conformation: \u001b[0m\u001b[1m[ WARNING ]\u001b[0m missing heavyatom:  CD  on residue ARG 408\n",
      "\u001b[0mcore.conformation.Conformation: \u001b[0m\u001b[1m[ WARNING ]\u001b[0m missing heavyatom:  CZ  on residue ARG 408\n",
      "\u001b[0mcore.conformation.Conformation: \u001b[0mFound disulfide between residues 21 90\n",
      "\u001b[0mcore.conformation.Conformation: \u001b[0mcurrent variant for 21 CYS\n",
      "\u001b[0mcore.conformation.Conformation: \u001b[0mcurrent variant for 90 CYS\n",
      "\u001b[0mcore.conformation.Conformation: \u001b[0mcurrent variant for 21 CYD\n",
      "\u001b[0mcore.conformation.Conformation: \u001b[0mcurrent variant for 90 CYD\n",
      "\u001b[0mcore.conformation.Conformation: \u001b[0mFound disulfide between residues 137 187\n",
      "\u001b[0mcore.conformation.Conformation: \u001b[0mcurrent variant for 137 CYS\n",
      "\u001b[0mcore.conformation.Conformation: \u001b[0mcurrent variant for 187 CYS\n",
      "\u001b[0mcore.conformation.Conformation: \u001b[0mcurrent variant for 137 CYD\n",
      "\u001b[0mcore.conformation.Conformation: \u001b[0mcurrent variant for 187 CYD\n",
      "\u001b[0mcore.conformation.Conformation: \u001b[0mFound disulfide between residues 162 374\n",
      "\u001b[0mcore.conformation.Conformation: \u001b[0mcurrent variant for 162 CYS\n",
      "\u001b[0mcore.conformation.Conformation: \u001b[0mcurrent variant for 374 CYS\n",
      "\u001b[0mcore.conformation.Conformation: \u001b[0mcurrent variant for 162 CYD\n",
      "\u001b[0mcore.conformation.Conformation: \u001b[0mcurrent variant for 374 CYD\n",
      "\u001b[0mcore.conformation.Conformation: \u001b[0mFound disulfide between residues 227 295\n",
      "\u001b[0mcore.conformation.Conformation: \u001b[0mcurrent variant for 227 CYS\n",
      "\u001b[0mcore.conformation.Conformation: \u001b[0mcurrent variant for 295 CYS\n",
      "\u001b[0mcore.conformation.Conformation: \u001b[0mcurrent variant for 227 CYD\n",
      "\u001b[0mcore.conformation.Conformation: \u001b[0mcurrent variant for 295 CYD\n",
      "\u001b[0mcore.conformation.Conformation: \u001b[0mFound disulfide between residues 348 413\n",
      "\u001b[0mcore.conformation.Conformation: \u001b[0mcurrent variant for 348 CYS\n",
      "\u001b[0mcore.conformation.Conformation: \u001b[0mcurrent variant for 413 CYS\n",
      "\u001b[0mcore.conformation.Conformation: \u001b[0mcurrent variant for 348 CYD\n",
      "\u001b[0mcore.conformation.Conformation: \u001b[0mcurrent variant for 413 CYD\n",
      "\u001b[0mcore.pack.pack_missing_sidechains: \u001b[0mpacking residue number 117 because of missing atom number 7 atom name  CD\n",
      "\u001b[0mcore.pack.pack_missing_sidechains: \u001b[0mpacking residue number 127 because of missing atom number 9 atom name  CZ\n",
      "\u001b[0mcore.pack.pack_missing_sidechains: \u001b[0mpacking residue number 130 because of missing atom number 7 atom name  CD\n",
      "\u001b[0mcore.pack.pack_missing_sidechains: \u001b[0mpacking residue number 160 because of missing atom number 6 atom name  CG\n",
      "\u001b[0mcore.pack.pack_missing_sidechains: \u001b[0mpacking residue number 198 because of missing atom number 7 atom name  CD\n",
      "\u001b[0mcore.pack.pack_missing_sidechains: \u001b[0mpacking residue number 269 because of missing atom number 7 atom name  OD1\n",
      "\u001b[0mcore.pack.pack_missing_sidechains: \u001b[0mpacking residue number 378 because of missing atom number 7 atom name  CD\n",
      "\u001b[0mcore.pack.pack_missing_sidechains: \u001b[0mpacking residue number 382 because of missing atom number 7 atom name  CD\n",
      "\u001b[0mcore.pack.pack_missing_sidechains: \u001b[0mpacking residue number 408 because of missing atom number 7 atom name  CD\n",
      "\u001b[0mcore.pack.task: \u001b[0mPacker task: initialize from command line()\n",
      "\u001b[0mcore.scoring.ScoreFunctionFactory: \u001b[0mSCOREFUNCTION: \u001b[32mref2015\u001b[0m\n",
      "\u001b[0mcore.scoring.etable: \u001b[0mStarting energy table calculation\n",
      "\u001b[0mcore.scoring.etable: \u001b[0msmooth_etable: changing atr/rep split to bottom of energy well\n",
      "\u001b[0mcore.scoring.etable: \u001b[0msmooth_etable: spline smoothing lj etables (maxdis = 6)\n",
      "\u001b[0mcore.scoring.etable: \u001b[0msmooth_etable: spline smoothing solvation etables (max_dis = 6)\n",
      "\u001b[0mcore.scoring.etable: \u001b[0mFinished calculating energy tables.\n",
      "\u001b[0mbasic.io.database: \u001b[0mDatabase file opened: scoring/score_functions/hbonds/ref2015_params/HBPoly1D.csv\n",
      "\u001b[0mbasic.io.database: \u001b[0mDatabase file opened: scoring/score_functions/hbonds/ref2015_params/HBFadeIntervals.csv\n",
      "\u001b[0mbasic.io.database: \u001b[0mDatabase file opened: scoring/score_functions/hbonds/ref2015_params/HBEval.csv\n",
      "\u001b[0mbasic.io.database: \u001b[0mDatabase file opened: scoring/score_functions/hbonds/ref2015_params/DonStrength.csv\n",
      "\u001b[0mbasic.io.database: \u001b[0mDatabase file opened: scoring/score_functions/hbonds/ref2015_params/AccStrength.csv\n",
      "\u001b[0mbasic.io.database: \u001b[0mDatabase file opened: scoring/score_functions/rama/fd/all.ramaProb\n",
      "\u001b[0mbasic.io.database: \u001b[0mDatabase file opened: scoring/score_functions/rama/fd/prepro.ramaProb\n",
      "\u001b[0mbasic.io.database: \u001b[0mDatabase file opened: scoring/score_functions/omega/omega_ppdep.all.txt\n",
      "\u001b[0mbasic.io.database: \u001b[0mDatabase file opened: scoring/score_functions/omega/omega_ppdep.gly.txt\n",
      "\u001b[0mbasic.io.database: \u001b[0mDatabase file opened: scoring/score_functions/omega/omega_ppdep.pro.txt\n",
      "\u001b[0mbasic.io.database: \u001b[0mDatabase file opened: scoring/score_functions/omega/omega_ppdep.valile.txt\n",
      "\u001b[0mbasic.io.database: \u001b[0mDatabase file opened: scoring/score_functions/P_AA_pp/P_AA\n",
      "\u001b[0mbasic.io.database: \u001b[0mDatabase file opened: scoring/score_functions/P_AA_pp/P_AA_n\n",
      "\u001b[0mcore.scoring.P_AA: \u001b[0mshapovalov_lib::shap_p_aa_pp_smooth_level of 1( aka low_smooth ) got activated.\n",
      "\u001b[0mbasic.io.database: \u001b[0mDatabase file opened: scoring/score_functions/P_AA_pp/shapovalov/10deg/kappa131/a20.prop\n",
      "\u001b[0mbasic.io.database: \u001b[0mDatabase file opened: scoring/score_functions/elec_cp_reps.dat\n",
      "\u001b[0mcore.scoring.elec.util: \u001b[0mRead 40 countpair representative atoms\n"
     ]
    },
    {
     "name": "stdout",
     "output_type": "stream",
     "text": [
      "\u001b[0mcore.pack.dunbrack.RotamerLibrary: \u001b[0mshapovalov_lib_fixes_enable option is true.\n",
      "\u001b[0mcore.pack.dunbrack.RotamerLibrary: \u001b[0mshapovalov_lib::shap_dun10_smooth_level of 1( aka lowest_smooth ) got activated.\n",
      "\u001b[0mcore.pack.dunbrack.RotamerLibrary: \u001b[0mBinary rotamer library selected: /Users/jack/PyRosetta/pyrosetta/database/rotamer/shapovalov/StpDwn_0-0-0/Dunbrack10.lib.bin\n",
      "\u001b[0mcore.pack.dunbrack.RotamerLibrary: \u001b[0mUsing Dunbrack library binary file '/Users/jack/PyRosetta/pyrosetta/database/rotamer/shapovalov/StpDwn_0-0-0/Dunbrack10.lib.bin'.\n",
      "\u001b[0mcore.pack.dunbrack.RotamerLibrary: \u001b[0mDunbrack 2010 library took 0.243702 seconds to load from binary\n",
      "\u001b[0mcore.pack.pack_rotamers: \u001b[0mbuilt 167 rotamers at 9 positions.\n",
      "\u001b[0mcore.pack.interaction_graph.interaction_graph_factory: \u001b[0mInstantiating DensePDInteractionGraph\n",
      "\u001b[0mcore.scoring.ScoreFunctionFactory: \u001b[0mSCOREFUNCTION: \u001b[32mref2015\u001b[0m\n"
     ]
    }
   ],
   "source": [
    "pose = pose_from_pdb(\"hbnet_example.pdb\")\n",
    "start_pose = Pose()\n",
    "start_pose.assign(pose)\n",
    "scorefxn = get_fa_scorefxn()"
   ]
  },
  {
   "cell_type": "markdown",
   "metadata": {},
   "source": [
    "Just like before, you can edit the resfile to your own personal specifications. Alternatively, you can use task operations to automate the process. Let's use task operations to fix all residues not at the interface."
   ]
  },
  {
   "cell_type": "markdown",
   "metadata": {},
   "source": [
    "## Setting Designable Residues:\n",
    "\n",
    "Create a new task for design\n"
   ]
  },
  {
   "cell_type": "code",
   "execution_count": 3,
   "metadata": {
    "nbgrader": {
     "grade": true,
     "grade_id": "cell-1754b479780ad2e4",
     "locked": false,
     "points": 0,
     "schema_version": 1,
     "solution": true
    }
   },
   "outputs": [
    {
     "name": "stdout",
     "output_type": "stream",
     "text": [
      "Num residues:  454\n",
      "Num packable residues:  116\n",
      "Num designable residues:  53\n"
     ]
    }
   ],
   "source": [
    "from pyrosetta.rosetta.core.select.residue_selector import InterGroupInterfaceByVectorSelector, ChainSelector, NotResidueSelector\n",
    "\n",
    "chain1 = ChainSelector( \"1\" ) #selects the first chain\n",
    "chain2 = ChainSelector( \"2\" ) #selects the second chain\n",
    "\n",
    "interface_selector = InterGroupInterfaceByVectorSelector( chain1, chain2 );#selects residues at the interface\n",
    "not_interface_selector = NotResidueSelector( interface_selector ); #selects residues not at the interface\n",
    "\n",
    "from pyrosetta.rosetta.core.pack.task.operation import PreventRepackingRLT, RestrictToRepackingRLT, OperateOnResidueSubset\n",
    "\n",
    "#prevent non interface residues from repacking/designing\n",
    "fix_non_interface = OperateOnResidueSubset( PreventRepackingRLT(), not_interface_selector )\n",
    "\n",
    "#perhaps we are performing one-sided design and do not want to make mutations on chain 2:\n",
    "no_mutation_chain2 = OperateOnResidueSubset( RestrictToRepackingRLT(), chain2 )\n",
    "\n",
    "from pyrosetta.rosetta.core.pack.task import TaskFactory\n",
    "task_factory = TaskFactory()\n",
    "task_factory.push_back( fix_non_interface )\n",
    "task_factory.push_back( no_mutation_chain2 )\n",
    "\n",
    "task_design = task_factory.create_task_and_apply_taskoperations( pose )\n",
    "print( \"Num residues: \", pose.size() )\n",
    "print( \"Num packable residues: \", task_design.num_to_be_packed() ) # this includes the ones being designed\n",
    "\n",
    "num_designable = 0\n",
    "for i in range( 1, pose.size() + 1 ):\n",
    "    if( task_design.design_residue( i ) ):\n",
    "        num_designable += 1;\n",
    "print( \"Num designable residues: \", num_designable )"
   ]
  },
  {
   "cell_type": "markdown",
   "metadata": {},
   "source": [
    "## Running HBNet\n",
    "\n",
    "This is an interface case so we will use HBNetStapleInterface."
   ]
  },
  {
   "cell_type": "code",
   "execution_count": null,
   "metadata": {
    "nbgrader": {
     "grade": true,
     "grade_id": "cell-9e50dd452de9681a",
     "locked": false,
     "points": 0,
     "schema_version": 1,
     "solution": true
    }
   },
   "outputs": [
    {
     "name": "stdout",
     "output_type": "stream",
     "text": [
      "\u001b[0mcore.scoring.ScoreFunctionFactory: \u001b[0mSCOREFUNCTION: \u001b[32mref2015\u001b[0m\n",
      "\u001b[0mprotocols.hbnet.HBNet: \u001b[0m Creating packer task based on specified task operations...\n",
      "\u001b[0mcore.select.residue_selector.LayerSelector: \u001b[0mSetting LayerSelector to use sidechain neighbors to determine burial.\n",
      "\u001b[0mcore.select.residue_selector.LayerSelector: \u001b[0mSet cutoffs for core and surface to 5.2 and 2, respectively, in LayerSelector.\n",
      "\u001b[0mcore.select.residue_selector.LayerSelector: \u001b[0mSetting core=true boundary=false surface=false in LayerSelector.\n",
      "\u001b[0mcore.select.residue_selector.LayerSelector: \u001b[0mSet cutoffs for core and surface to 4.4 and 2, respectively, in LayerSelector.\n",
      "\u001b[0mcore.select.residue_selector.LayerSelector: \u001b[0mSetting LayerSelector to use sidechain neighbors to determine burial.\n",
      "\u001b[0mcore.select.residue_selector.LayerSelector: \u001b[0mSet cutoffs for core and surface to 5.2 and 2, respectively, in LayerSelector.\n",
      "\u001b[0mcore.select.residue_selector.LayerSelector: \u001b[0mSetting core=false boundary=true surface=false in LayerSelector.\n",
      "\u001b[0mcore.select.residue_selector.LayerSelector: \u001b[0mSet cutoffs for core and surface to 4 and 2, respectively, in LayerSelector.\n",
      "\u001b[0mprotocols.hbnet.HBNet: \u001b[0m Creating packer task based on specified task operations...\n"
     ]
    }
   ],
   "source": [
    "from pyrosetta.rosetta.protocols.hbnet import HBNetStapleInterface\n",
    "\n",
    "pose.assign(start_pose)\n",
    "hbnet = HBNetStapleInterface()\n",
    "hbnet.task_factory( task_factory )\n",
    "#alternatively:\n",
    "#hbnet.set_task( task_design )\n",
    "hbnet.set_score_function( scorefxn )\n",
    "\n",
    "#This is highly recommended, especially for large systems like asymmetric interfaces\n",
    "#see PMID: 29652499\n",
    "hbnet.set_monte_carlo_branch( True )\n",
    "\n",
    "#We can normallly leave this as the default\n",
    "#making it smaller now to let it run faster\n",
    "hbnet.set_total_num_mc_runs( 1000 )\n",
    "\n",
    "#This does two things:\n",
    "#(1) speeds us up by decreasing the sample space\n",
    "#(2) ensures that our final hbond network will be at least partially buried\n",
    "#hbnet.set_monte_carlo_seed_must_be_buried( True )\n",
    "#commenting this out just to give us more results\n",
    "\n",
    "#You can toggle the verbosity here if you are interested\n",
    "#hbnet.verbose( True )\n",
    "\n",
    "hbnet.apply(pose)\n",
    "print( \"Change in score\", scorefxn(pose) - scorefxn(start_pose) )\n"
   ]
  },
  {
   "cell_type": "markdown",
   "metadata": {},
   "source": [
    "Wait, my score is terrible.\n",
    "\n",
    "__Question:__ Why?"
   ]
  },
  {
   "cell_type": "code",
   "execution_count": null,
   "metadata": {
    "collapsed": true
   },
   "outputs": [],
   "source": []
  },
  {
   "cell_type": "markdown",
   "metadata": {},
   "source": [
    "## Finishing Design:\n",
    "\n",
    "Well of course the score is terrible, the pose is covered in clashes. We had 116 packable residues and only assigned states to 5 of them. The other 111 residues are still in their input conformations and likely clash with the 5 we just assigned."
   ]
  },
  {
   "cell_type": "markdown",
   "metadata": {},
   "source": [
    "We need to run the packer (either using PackRotamersMover or FastDesign) but we don't want to overwrite the residues we just assigned with HBNet. The trick here is to select the residues with \"HBNet\" labels and fix them."
   ]
  },
  {
   "cell_type": "code",
   "execution_count": 10,
   "metadata": {
    "nbgrader": {
     "grade": true,
     "grade_id": "cell-ecdd3a3881511698",
     "locked": false,
     "points": 0,
     "schema_version": 1,
     "solution": true
    }
   },
   "outputs": [
    {
     "name": "stdout",
     "output_type": "stream",
     "text": [
      "Num HBNet Residues 5\n",
      "\u001b[0mcore.pack.pack_rotamers: \u001b[0mbuilt 12220 rotamers at 104 positions.\n",
      "\u001b[0mcore.pack.interaction_graph.interaction_graph_factory: \u001b[0mInstantiating LinearMemoryInteractionGraph\n",
      "Change in score 159.19378346924822\n"
     ]
    }
   ],
   "source": [
    "from pyrosetta.rosetta.core.select.residue_selector import ResiduePDBInfoHasLabelSelector\n",
    "\n",
    "#prevent hbnet residues from repacking/designing\n",
    "hbnet_selector = ResiduePDBInfoHasLabelSelector( \"HBNet\" )\n",
    "fix_hbnet = OperateOnResidueSubset( PreventRepackingRLT(), hbnet_selector )\n",
    "task_factory.push_back( fix_hbnet ) #recycling the same factory as before, just adding a new operation\n",
    "task_design2 = task_factory.create_task_and_apply_taskoperations( pose )\n",
    "\n",
    "#sanity check\n",
    "num_hbnet_residues = 0\n",
    "for x in hbnet_selector.apply( pose ):\n",
    "    if x:\n",
    "        num_hbnet_residues += 1\n",
    "print( \"Num HBNet Residues\", num_hbnet_residues )\n",
    "\n",
    "#this is unrelated to the narrative but I highly recommend using the linear memory interaction graph whenever performing design. It's a huge speedup\n",
    "#it does not seem to matter for the scope here, but it will when you start using extra chi sampling (-ex1, -ex2)\n",
    "task_design2.or_linmem_ig( True )\n",
    "\n",
    "from pyrosetta.rosetta.protocols.minimization_packing import PackRotamersMover\n",
    "pack_mover = PackRotamersMover( scorefxn, task_design2 )\n",
    "pack_mover.apply( pose )\n",
    "print( \"Change in score\", scorefxn(pose) - scorefxn(start_pose) )"
   ]
  },
  {
   "cell_type": "markdown",
   "metadata": {},
   "source": [
    "## We made it...?\n",
    "\n",
    "The change in score is a little better, but surprisingly still positive. An earlier draft of this worksheet resulted in a negative dE so I know it's possible. One great thing about HBNet is that it can return multiple poses. Each one is slightly worse than the previous by HBNet's standards but might design into something better. Let's try a few to see if they help."
   ]
  },
  {
   "cell_type": "code",
   "execution_count": null,
   "metadata": {},
   "outputs": [
    {
     "name": "stdout",
     "output_type": "stream",
     "text": [
      "\u001b[0mprotocols.hbnet.HBNet: \u001b[0m\n",
      "\u001b[0mcore.pack.pack_rotamers: \u001b[0mbuilt 12700 rotamers at 112 positions.\n",
      "\u001b[0mcore.pack.interaction_graph.interaction_graph_factory: \u001b[0mInstantiating LinearMemoryInteractionGraph\n",
      "Change in score 205.6457164531433\n",
      "\u001b[0mcore.pack.pack_rotamers: \u001b[0mbuilt 12475 rotamers at 105 positions.\n",
      "\u001b[0mcore.pack.interaction_graph.interaction_graph_factory: \u001b[0mInstantiating LinearMemoryInteractionGraph\n",
      "Change in score 206.6248511328296\n",
      "\u001b[0mcore.pack.pack_rotamers: \u001b[0mbuilt 12231 rotamers at 103 positions.\n",
      "\u001b[0mcore.pack.interaction_graph.interaction_graph_factory: \u001b[0mInstantiating LinearMemoryInteractionGraph\n",
      "Change in score 206.73887001064443\n",
      "\u001b[0mcore.pack.pack_rotamers: \u001b[0mbuilt 12254 rotamers at 104 positions.\n",
      "\u001b[0mcore.pack.interaction_graph.interaction_graph_factory: \u001b[0mInstantiating LinearMemoryInteractionGraph\n",
      "Change in score 216.1109745800182\n",
      "\u001b[0mcore.pack.pack_rotamers: \u001b[0mbuilt 12269 rotamers at 104 positions.\n",
      "\u001b[0mcore.pack.interaction_graph.interaction_graph_factory: \u001b[0mInstantiating LinearMemoryInteractionGraph\n",
      "Change in score 207.83523476897528\n",
      "\u001b[0mcore.pack.pack_rotamers: \u001b[0mbuilt 12254 rotamers at 104 positions.\n",
      "\u001b[0mcore.pack.interaction_graph.interaction_graph_factory: \u001b[0mInstantiating LinearMemoryInteractionGraph\n",
      "Change in score 208.9589326956926\n",
      "\u001b[0mcore.pack.pack_rotamers: \u001b[0mbuilt 12246 rotamers at 103 positions.\n",
      "\u001b[0mcore.pack.interaction_graph.interaction_graph_factory: \u001b[0mInstantiating LinearMemoryInteractionGraph\n",
      "Change in score 209.43949020378037\n",
      "\u001b[0mcore.pack.pack_rotamers: \u001b[0mbuilt 12231 rotamers at 103 positions.\n"
     ]
    }
   ],
   "source": [
    "#there were 8 networks total so now we can iterate over the remaining 7. This might take a few minutes\n",
    "extra_pose = hbnet.get_additional_output()\n",
    "while extra_pose is not None: #what's the best way to check for a nullptr?\n",
    "    task_design3 = task_factory.create_task_and_apply_taskoperations( extra_pose )\n",
    "    task_design3.or_linmem_ig( True )\n",
    "    pack_mover = PackRotamersMover( scorefxn, task_design3 )\n",
    "    pack_mover.apply( extra_pose )\n",
    "    print( \"Change in score\", scorefxn(extra_pose) - scorefxn(start_pose) )\n",
    "    extra_pose = hbnet.get_additional_output()"
   ]
  },
  {
   "cell_type": "markdown",
   "metadata": {},
   "source": [
    "## But wait, there's more??\n",
    "\n",
    "The main score function isn't the only way to evaluate these networks. HBNet also adds its own score terms:"
   ]
  },
  {
   "cell_type": "code",
   "execution_count": 41,
   "metadata": {},
   "outputs": [],
   "source": [
    "from pyrosetta.rosetta.core.pose import hasPoseExtraScore, getPoseExtraScore\n",
    "#TODO this doesn't work now, set store_network_scores_in_pose_ to true by default\n",
    "if hasPoseExtraScore( pose, \"HBNet_NumUnsatHpol\" ):\n",
    "    print( \"HBNet_NumUnsatHpol\", getPoseExtraScore( pose, \"HBNet_NumUnsatHpol\" ) )\n",
    "    print( \"HBNet_Saturation\", getPoseExtraScore( pose, \"HBNet_Saturation\" ) )\n",
    "    print( \"HBNet_Score\", getPoseExtraScore( pose, \"HBNet_Score\" ) )\n",
    "else:\n",
    "    print( \"Somebody go bug Jack Maguire to enable this feature for PyRosetta\" )"
   ]
  },
  {
   "cell_type": "markdown",
   "metadata": {},
   "source": [
    "## Advice for using this in the wild\n",
    "\n",
    "#### ex1 ex2\n",
    "\n",
    "HBonds are very sensitive to sidechain sampling resolution. I highly recommend using -ex1 and -ex2. You can do this by adding:\n",
    "```py\n",
    "ex1ex2 = ExtraRotamersGeneric()\n",
    "ex1ex2.ex1( True )\n",
    "ex1ex2.ex2( True )\n",
    "task_factory.push_back( ex1ex2 )\n",
    "```\n",
    "\n",
    "#### get_additional_output\n",
    "\n",
    "The first result out of HBNet does not always wind up being the best. Try designing with a few results from `hbnet.get_additional_output()` to get more coverage of the design space.\n",
    "\n",
    "#### set_monte_carlo_seed_must_be_buried\n",
    "\n",
    "I highly recommend playing with the `set_monte_carlo_seed_must_be_buried` mentioned above. Without it, HBNet tends to just design many surface networks that nobody really cares about."
   ]
  },
  {
   "cell_type": "markdown",
   "metadata": {},
   "source": [
    "## Programming Exercises\n",
    "\n",
    "# I didn't touch this section yet\n",
    "# -Jack\n",
    "\n",
    "- *Refinement and discrimination*. Download the “single misfold” decoy set from the Decoys ’R Us repository at dd.compbio.washington.edu/ddownload.cgi?misfold. (Documentation for this project is at dd.compbio.washington.edu.) This repository has a single “correct” and “incorrect” predicted structure for several proteins. For this exercise, analyze pdbs 2CI2 and 2CRO; each has two “incorrect” structures offered. (Technical note: These decoys have an empty occupancy field in the PDB *ATOM* records; a value of 1 needs to be added before Rosetta will load these structures.)\n",
    "\n",
    "    Write a program that will calculate and output the score for each decoy (i) as is from the PDB file, (ii) after packing only, (iii) after minimization only, and (iv) after packing and minimizing. For each of the four cases, compare the scores of the “correct” structure with those of the “incorrect” structure. Which schemes successfully discriminate the correct structures?\n",
    "\n",
    "\n",
    "- Write a refinement protocol that will iterate between side-chain packing, small and shear moves, and minimization. Where is the best place to position the Monte Carlo acceptance test? Test your protocol by making 10 independently-refined structures for the correct and incorrect decoys of 2CRO from the Decoys ’R Us single misfold set. Is this protocol able to discriminate the correct decoy? Submit your code.\n",
    "\n",
    "\n",
    "- HIV-1 protease is a major drug target for antiretroviral therapies. Protease inhibitors are designed from substrate peptide mimics. We will attempt to take a natural substrate peptide of HIV-1 protease and design it for improved binding — potentially to serve as a good template for drug design. Use PDB file 1KJG for the following analysis.\n",
    "    \n",
    "    \n",
    "    - Turn on side-chain packing for the protease active site (residues 8, 23, 25, 29, 30, 32, 45, 47, 50, 53, 82, and 84 of both chains A and B) and for the peptide (residues 2–9 on chain P; all of these numbers follow the PDB numbering).\n",
    "\n",
    "\n",
    "    - Repack the above side chains and then energy minimize those same side chains with the backbone fixed. Generate 10 decoys and record the energies for each decoy. This will represent the reference state: the wild-type peptide bound to the protease.\n",
    "\n",
    "\n",
    "    - For residue 2 of the peptide (chain P), allow repacking to any of the 20 amino acid residues, while leaving the packing and side-chain minimization the same as in step b. Generate 10 decoys and record the energies. These will represent single mutants at that residue position.\n",
    "\n",
    "\n",
    "    - Repeat step c for each of the other 8 residues in the substrate peptide.\n",
    "    \n",
    "    \n",
    "    - Take the lowest energy for each mutation position and compare it to the lowest energy for the wild type. Do single mutants at any of these positions improve the energy over the wild type? Which ones? By how much? Which energy components are mostly responsible?\n",
    "    \n",
    "\n",
    "    - Which peptide residue positions are easiest to improve? Which positions are the hardest?\n",
    "\n",
    "\n",
    "    - Are there any other trends? Hydrophobic vs. polar, bulky residues vs. small residues, etc.?\n",
    "\n",
    "\n",
    "    - Altman et al. (Proteins 2008) found, using their own computational design algorithm, that the most favorable sequences were a triple mutant E3D/T4I/V6L, a single mutant T4V, and a single mutant E3Q. How do their results compare with yours?\n",
    "\n",
    "\n",
    "    - Natural substrates are often sub-optimal binders. Why would this be advantageous?\n",
    "\n",
    "\n",
    "- Effect of backbone conformation on design. HIV-1 protease is promiscuous, meaning it can cleave a wide range of peptides beyond the ten natural substrates of the virus. Let’s examine the preferences of the enzyme through Rosetta design calculations.\n",
    "\n",
    "    - Download HIV-1 protease in complex with CA-P2 peptide (1F7A). Select the eight peptide residues for unrestricted design and let Rosetta redesign the substrate sequence. What is the new sequence and how does it compare to the original? What percent of the original sequence was optimal for its structure?\n",
    "\n",
    "\n",
    "    - Download HIV-1 protease in complex with RT-RH peptide (1KJG). (Note that the enzyme is the same here, but it is crystallized with a different substrate.) Again, design the eight substrate residues with Rosetta. What percent of this substrate sequence is optimal for this crystal structure? ____%\n",
    "\n",
    "\n",
    "    - How do the designed sequences of (a) and (b) compare? Why should they be the same? Why would they not be the same? What are the implications for the field of computational protein design?\n",
    "\n",
    "\n",
    "- Write a program which iterates between design of all residues of a protein and refinement via small, shear, and minimization moves.\n",
    "\n",
    "\n",
    "## Thought Question\n",
    "\n",
    "The energy of HBNet+Design is often less favorable that the energy after an equivalent design run without HBNet. Why do people still use HBNet?\n",
    "\n",
    "\n",
    "## References\n",
    "\n",
    "\n",
    "- Boyken SE, Chen Z, Groves B, et al. De novo design of protein homo-oligomers with modular hydrogen-bond network-mediated specificity [published correction appears in Science. 2016 May 20;352(6288). pii: aag1318. doi: 10.1126/science.aag1318]. Science. 2016;352(6286):680–687. doi:10.1126/science.aad8865\n",
    "\n",
    "\n",
    "- Maguire JB, Boyken SE, Baker D, Kuhlman B. Rapid Sampling of Hydrogen Bond Networks for Computational Protein Design [published correction appears in J Chem Theory Comput. 2018 Oct 9;14(10):5434]. J Chem Theory Comput. 2018;14(5):2751–2760. doi:10.1021/acs.jctc.8b00033"
   ]
  },
  {
   "cell_type": "code",
   "execution_count": null,
   "metadata": {
    "collapsed": true
   },
   "outputs": [],
   "source": []
  },
  {
   "cell_type": "markdown",
   "metadata": {},
   "source": [
    "<!--NAVIGATION-->\n",
    "< [Side-Chain Packing](http://nbviewer.jupyter.org/github/RosettaCommons/PyRosetta.notebooks/blob/master/notebooks/06.02-Side-chain-packing.ipynb) | [Contents](toc.ipynb) | [Index](index.ipynb) | [Docking](http://nbviewer.jupyter.org/github/RosettaCommons/PyRosetta.notebooks/blob/master/notebooks/07.00-Docking.ipynb) ><p><a href=\"https://colab.research.google.com/github/RosettaCommons/PyRosetta.notebooks/blob/master/notebooks/06.03-Design.ipynb\"><img align=\"left\" src=\"https://colab.research.google.com/assets/colab-badge.svg\" alt=\"Open in Colab\" title=\"Open in Google Colaboratory\"></a>"
   ]
  }
 ],
 "metadata": {
  "celltoolbar": "Create Assignment",
  "kernelspec": {
   "display_name": "Python 3",
   "language": "python",
   "name": "python3"
  },
  "language_info": {
   "codemirror_mode": {
    "name": "ipython",
    "version": 3
   },
   "file_extension": ".py",
   "mimetype": "text/x-python",
   "name": "python",
   "nbconvert_exporter": "python",
   "pygments_lexer": "ipython3",
   "version": "3.6.3"
  },
  "toc": {
   "base_numbering": 1,
   "nav_menu": {},
   "number_sections": true,
   "sideBar": true,
   "skip_h1_title": false,
   "title_cell": "Table of Contents",
   "title_sidebar": "Contents",
   "toc_cell": false,
   "toc_position": {
    "height": "calc(100% - 180px)",
    "left": "10px",
    "top": "150px",
    "width": "284.444px"
   },
   "toc_section_display": true,
   "toc_window_display": true
  }
 },
 "nbformat": 4,
 "nbformat_minor": 2
}

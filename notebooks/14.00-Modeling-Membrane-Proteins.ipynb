{
  "nbformat": 4,
  "nbformat_minor": 0,
  "metadata": {
    "colab": {
      "name": "12.00 Modeling Membrane Proteins",
      "provenance": [],
      "collapsed_sections": []
    },
    "kernelspec": {
      "name": "python3",
      "display_name": "Python 3"
    }
  },
  "cells": [
    {
      "cell_type": "markdown",
      "metadata": {
        "id": "GFvCMDRxTPx4",
        "colab_type": "text"
      },
      "source": [
        "# Modeling Membrane Proteins"
      ]
    },
    {
      "cell_type": "markdown",
      "metadata": {
        "id": "uP25cC-jTNQo",
        "colab_type": "text"
      },
      "source": [
        "## Background\n",
        "\n",
        "RosettaMP is a suite for modeling membrane proteins. This workshop covers setup for modeling membrane proteins, key concepts, some movers and the two main score functions (low-res and high-res). \n",
        "\n",
        "The goals of this workshop are (1) to learn how to use RosettaMP in PyRosetta and (2) to give examples of the types of problems one can solve with this framework.\n"
      ]
    },
    {
      "cell_type": "markdown",
      "metadata": {
        "id": "Dr-5ZzfcTZ8I",
        "colab_type": "text"
      },
      "source": [
        "## Learning Objectives\n",
        "\n",
        "1.\tUse membrane tools to orient a protein in the lipid bilayer\n",
        "2.\tCalculate the lowest energy orientation for a membrane protein\n",
        "3.\tApply the PyMOL mover to visualize a membrane protein in the bilayer\n",
        "4.\tIdentify membrane protein pores and cavities\n",
        "5.\tInterpret model quality using terms from franklin2019, the membrane energy function\n",
        "6.\tOptional: Illustrative example of a typical Rosetta protocol in the context of the membrane (could be ddG or docking)\n"
      ]
    },
    {
      "cell_type": "markdown",
      "metadata": {
        "id": "JSryo1BaTdth",
        "colab_type": "text"
      },
      "source": [
        "## Suggested Readings\n",
        "\n",
        "1.\tAlford RF, Leman JK et al., “An Integrated Framework Advancing Membrane Protein Modeling and Design,” PLOS Computational Biology. 2015;11(9).\n",
        "2.\tAlford RF, Fleming PJ, Fleming KG, Gray JJ (2019) “Protein structure prediction and design in a biologically-realistic implicit membrane” Available on BioRxiv\n",
        "3.\tKoehler Leman J, Muller BK, Gray JJ (2017) “Expanding the toolkit for membrane protein modeling in Rosetta” Bioinformatics 33(5):754-756. \n",
        "4.\tKoehler Leman J & Gray JJ (2015) “Computational modeling of membrane proteins” Proteins Structure, Function, and Bioinformatics 83(1):1-24. \n"
      ]
    },
    {
      "cell_type": "code",
      "metadata": {
        "id": "_-wZn4_oTPSW",
        "colab_type": "code",
        "colab": {}
      },
      "source": [
        ""
      ],
      "execution_count": 0,
      "outputs": []
    }
  ]
}
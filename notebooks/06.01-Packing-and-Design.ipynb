{
 "cells": [
  {
   "cell_type": "markdown",
   "metadata": {},
   "source": [
    "## Side Chain Conformations, the Rotamer Library, and Dunbrack Energies\n",
    "\n",
    "Begin by importing and initializing PyRosetta and loading cetuximab from PDB 1YY8.clean.pdb used in previous workshops.\n",
    "\n",
    "```\n",
    "from pyrosetta import *\n",
    "from pyrosetta.teaching import *\n",
    "pyrosetta.init()\n",
    "pose = pose_from_pdb(\"1YY8.clean.pdb\")\n",
    "start_pose = Pose()\n",
    "start_pose.assign(pose)\n",
    "```"
   ]
  },
  {
   "cell_type": "code",
   "execution_count": 1,
   "metadata": {
    "scrolled": true
   },
   "outputs": [
    {
     "name": "stdout",
     "output_type": "stream",
     "text": [
      "\u001b[0mcore.init: \u001b[0mChecking for fconfig files in pwd and ./rosetta/flags\n",
      "\u001b[0mcore.init: \u001b[0mRosetta version: PyRosetta4.Release.python36.mac r208 2019.04+release.fd666910a5e fd666910a5edac957383b32b3b4c9d10020f34c1 http://www.pyrosetta.org 2019-01-22T15:55:37\n",
      "\u001b[0mcore.init: \u001b[0mcommand: PyRosetta -ex1 -ex2aro -database /Users/kathyle/Computational Protein Prediction and Design/PyRosetta4.Release.python36.mac.release-208/pyrosetta/database\n",
      "\u001b[0mcore.init: \u001b[0m'RNG device' seed mode, using '/dev/urandom', seed=1425732740 seed_offset=0 real_seed=1425732740\n",
      "\u001b[0mcore.init.random: \u001b[0mRandomGenerator:init: Normal mode, seed=1425732740 RG_type=mt19937\n"
     ]
    },
    {
     "name": "stderr",
     "output_type": "stream",
     "text": [
      "/Users/kathyle/Computational Protein Prediction and Design/PyRosetta4.Release.python36.mac.release-208/pyrosetta/teaching.py:13: UserWarning: Import of 'rosetta' as a top-level module is deprecated and may be removed in 2018, import via 'pyrosetta.rosetta'.\n",
      "  from rosetta.core.scoring import *\n"
     ]
    },
    {
     "name": "stdout",
     "output_type": "stream",
     "text": [
      "\u001b[0mcore.chemical.GlobalResidueTypeSet: \u001b[0mFinished initializing fa_standard residue type set.  Created 696 residue types\n",
      "\u001b[0mcore.chemical.GlobalResidueTypeSet: \u001b[0mTotal time to initialize 1.09089 seconds.\n",
      "\u001b[0mcore.import_pose.import_pose: \u001b[0mFile '1YY8.clean.pdb' automatically determined to be of type PDB\n",
      "\u001b[0mcore.conformation.Conformation: \u001b[0m\u001b[1m[ WARNING ]\u001b[0m missing heavyatom:  CG  on residue ARG 18\n",
      "\u001b[0mcore.conformation.Conformation: \u001b[0m\u001b[1m[ WARNING ]\u001b[0m missing heavyatom:  CD  on residue ARG 18\n",
      "\u001b[0mcore.conformation.Conformation: \u001b[0m\u001b[1m[ WARNING ]\u001b[0m missing heavyatom:  NE  on residue ARG 18\n",
      "\u001b[0mcore.conformation.Conformation: \u001b[0m\u001b[1m[ WARNING ]\u001b[0m missing heavyatom:  CZ  on residue ARG 18\n",
      "\u001b[0mcore.conformation.Conformation: \u001b[0m\u001b[1m[ WARNING ]\u001b[0m missing heavyatom:  NH1 on residue ARG 18\n",
      "\u001b[0mcore.conformation.Conformation: \u001b[0m\u001b[1m[ WARNING ]\u001b[0m missing heavyatom:  NH2 on residue ARG 18\n",
      "\u001b[0mcore.conformation.Conformation: \u001b[0m\u001b[1m[ WARNING ]\u001b[0m missing heavyatom:  CG  on residue GLN:NtermProteinFull 214\n",
      "\u001b[0mcore.conformation.Conformation: \u001b[0m\u001b[1m[ WARNING ]\u001b[0m missing heavyatom:  CD  on residue GLN:NtermProteinFull 214\n",
      "\u001b[0mcore.conformation.Conformation: \u001b[0m\u001b[1m[ WARNING ]\u001b[0m missing heavyatom:  OE1 on residue GLN:NtermProteinFull 214\n",
      "\u001b[0mcore.conformation.Conformation: \u001b[0m\u001b[1m[ WARNING ]\u001b[0m missing heavyatom:  NE2 on residue GLN:NtermProteinFull 214\n",
      "\u001b[0mcore.conformation.Conformation: \u001b[0mFound disulfide between residues 23 88\n",
      "\u001b[0mcore.conformation.Conformation: \u001b[0mcurrent variant for 23 CYS\n",
      "\u001b[0mcore.conformation.Conformation: \u001b[0mcurrent variant for 88 CYS\n",
      "\u001b[0mcore.conformation.Conformation: \u001b[0mcurrent variant for 23 CYD\n",
      "\u001b[0mcore.conformation.Conformation: \u001b[0mcurrent variant for 88 CYD\n",
      "\u001b[0mcore.conformation.Conformation: \u001b[0mFound disulfide between residues 134 194\n",
      "\u001b[0mcore.conformation.Conformation: \u001b[0mcurrent variant for 134 CYS\n",
      "\u001b[0mcore.conformation.Conformation: \u001b[0mcurrent variant for 194 CYS\n",
      "\u001b[0mcore.conformation.Conformation: \u001b[0mcurrent variant for 134 CYD\n",
      "\u001b[0mcore.conformation.Conformation: \u001b[0mcurrent variant for 194 CYD\n",
      "\u001b[0mcore.conformation.Conformation: \u001b[0mFound disulfide between residues 235 308\n",
      "\u001b[0mcore.conformation.Conformation: \u001b[0mcurrent variant for 235 CYS\n",
      "\u001b[0mcore.conformation.Conformation: \u001b[0mcurrent variant for 308 CYS\n",
      "\u001b[0mcore.conformation.Conformation: \u001b[0mcurrent variant for 235 CYD\n",
      "\u001b[0mcore.conformation.Conformation: \u001b[0mcurrent variant for 308 CYD\n",
      "\u001b[0mcore.conformation.Conformation: \u001b[0mFound disulfide between residues 359 415\n",
      "\u001b[0mcore.conformation.Conformation: \u001b[0mcurrent variant for 359 CYS\n",
      "\u001b[0mcore.conformation.Conformation: \u001b[0mcurrent variant for 415 CYS\n",
      "\u001b[0mcore.conformation.Conformation: \u001b[0mcurrent variant for 359 CYD\n",
      "\u001b[0mcore.conformation.Conformation: \u001b[0mcurrent variant for 415 CYD\n",
      "\u001b[0mcore.pack.pack_missing_sidechains: \u001b[0mpacking residue number 18 because of missing atom number 6 atom name  CG\n",
      "\u001b[0mcore.pack.pack_missing_sidechains: \u001b[0mpacking residue number 214 because of missing atom number 6 atom name  CG\n",
      "\u001b[0mcore.pack.task: \u001b[0mPacker task: initialize from command line()\n",
      "\u001b[0mcore.scoring.ScoreFunctionFactory: \u001b[0mSCOREFUNCTION: \u001b[32mref2015\u001b[0m\n",
      "\u001b[0mcore.scoring.etable: \u001b[0mStarting energy table calculation\n",
      "\u001b[0mcore.scoring.etable: \u001b[0msmooth_etable: changing atr/rep split to bottom of energy well\n",
      "\u001b[0mcore.scoring.etable: \u001b[0msmooth_etable: spline smoothing lj etables (maxdis = 6)\n",
      "\u001b[0mcore.scoring.etable: \u001b[0msmooth_etable: spline smoothing solvation etables (max_dis = 6)\n",
      "\u001b[0mcore.scoring.etable: \u001b[0mFinished calculating energy tables.\n",
      "\u001b[0mbasic.io.database: \u001b[0mDatabase file opened: scoring/score_functions/hbonds/ref2015_params/HBPoly1D.csv\n",
      "\u001b[0mbasic.io.database: \u001b[0mDatabase file opened: scoring/score_functions/hbonds/ref2015_params/HBFadeIntervals.csv\n",
      "\u001b[0mbasic.io.database: \u001b[0mDatabase file opened: scoring/score_functions/hbonds/ref2015_params/HBEval.csv\n",
      "\u001b[0mbasic.io.database: \u001b[0mDatabase file opened: scoring/score_functions/hbonds/ref2015_params/DonStrength.csv\n",
      "\u001b[0mbasic.io.database: \u001b[0mDatabase file opened: scoring/score_functions/hbonds/ref2015_params/AccStrength.csv\n",
      "\u001b[0mbasic.io.database: \u001b[0mDatabase file opened: scoring/score_functions/rama/fd/all.ramaProb\n",
      "\u001b[0mbasic.io.database: \u001b[0mDatabase file opened: scoring/score_functions/rama/fd/prepro.ramaProb\n",
      "\u001b[0mbasic.io.database: \u001b[0mDatabase file opened: scoring/score_functions/omega/omega_ppdep.all.txt\n",
      "\u001b[0mbasic.io.database: \u001b[0mDatabase file opened: scoring/score_functions/omega/omega_ppdep.gly.txt\n",
      "\u001b[0mbasic.io.database: \u001b[0mDatabase file opened: scoring/score_functions/omega/omega_ppdep.pro.txt\n",
      "\u001b[0mbasic.io.database: \u001b[0mDatabase file opened: scoring/score_functions/omega/omega_ppdep.valile.txt\n",
      "\u001b[0mbasic.io.database: \u001b[0mDatabase file opened: scoring/score_functions/P_AA_pp/P_AA\n",
      "\u001b[0mbasic.io.database: \u001b[0mDatabase file opened: scoring/score_functions/P_AA_pp/P_AA_n\n",
      "\u001b[0mcore.scoring.P_AA: \u001b[0mshapovalov_lib::shap_p_aa_pp_smooth_level of 1( aka low_smooth ) got activated.\n",
      "\u001b[0mbasic.io.database: \u001b[0mDatabase file opened: scoring/score_functions/P_AA_pp/shapovalov/10deg/kappa131/a20.prop\n",
      "\u001b[0mbasic.io.database: \u001b[0mDatabase file opened: scoring/score_functions/elec_cp_reps.dat\n",
      "\u001b[0mcore.scoring.elec.util: \u001b[0mRead 40 countpair representative atoms\n",
      "\u001b[0mcore.pack.dunbrack.RotamerLibrary: \u001b[0mshapovalov_lib_fixes_enable option is true.\n",
      "\u001b[0mcore.pack.dunbrack.RotamerLibrary: \u001b[0mshapovalov_lib::shap_dun10_smooth_level of 1( aka lowest_smooth ) got activated.\n",
      "\u001b[0mcore.pack.dunbrack.RotamerLibrary: \u001b[0mBinary rotamer library selected: /Users/kathyle/Computational Protein Prediction and Design/PyRosetta4.Release.python36.mac.release-208/pyrosetta/database/rotamer/shapovalov/StpDwn_0-0-0/Dunbrack10.lib.bin\n",
      "\u001b[0mcore.pack.dunbrack.RotamerLibrary: \u001b[0mUsing Dunbrack library binary file '/Users/kathyle/Computational Protein Prediction and Design/PyRosetta4.Release.python36.mac.release-208/pyrosetta/database/rotamer/shapovalov/StpDwn_0-0-0/Dunbrack10.lib.bin'.\n",
      "\u001b[0mcore.pack.dunbrack.RotamerLibrary: \u001b[0mDunbrack 2010 library took 0.46291 seconds to load from binary\n",
      "\u001b[0mcore.pack.pack_rotamers: \u001b[0mbuilt 43 rotamers at 2 positions.\n",
      "\u001b[0mcore.pack.interaction_graph.interaction_graph_factory: \u001b[0mInstantiating DensePDInteractionGraph\n"
     ]
    },
    {
     "data": {
      "text/plain": [
       "<pyrosetta.rosetta.core.pose.Pose at 0x1065edd50>"
      ]
     },
     "execution_count": 1,
     "metadata": {},
     "output_type": "execute_result"
    }
   ],
   "source": [
    "from pyrosetta import *\n",
    "from pyrosetta.teaching import *\n",
    "pyrosetta.init()\n",
    "pose = pose_from_pdb(\"1YY8.clean.pdb\")\n",
    "start_pose = Pose()\n",
    "start_pose.assign(pose)"
   ]
  },
  {
   "cell_type": "markdown",
   "metadata": {},
   "source": [
    "__Question:__ What are the φ, ψ, and χ angles of residue K49?"
   ]
  },
  {
   "cell_type": "code",
   "execution_count": 3,
   "metadata": {},
   "outputs": [
    {
     "name": "stdout",
     "output_type": "stream",
     "text": [
      "LYS\n",
      "Phi: -122.41752\n",
      "Psi: 153.08267\n",
      "\n",
      "Chi 1: 68.12458\n",
      "Chi 2: -169.18576\n",
      "Chi 3: -175.37028\n",
      "Chi 4: -169.58806\n"
     ]
    }
   ],
   "source": [
    "print(pose.residue(49).name())\n",
    "print(\"Phi: %.5f\\nPsi: %.5f\\n\" %(pose.phi(49), pose.psi(49)))\n",
    "print(\"Chi 1: %.5f\\nChi 2: %.5f\\nChi 3: %.5f\\nChi 4: %.5f\" %(pose.chi(1, 49), pose.chi(2, 49), pose.chi(3, 49), pose.chi(4, 49)))"
   ]
  },
  {
   "cell_type": "markdown",
   "metadata": {},
   "source": [
    "Open `asp.bbdep.rotamers.lib` by unpacking `asp.bbdep.rotamers.gz`  from the directory `rosetta_database/rotamer/ExtendedOpt1-5`. Find the φ/ψ bin for lysine at residue 49 and find the nearest rotamer. \n",
    "\n",
    "__Question:__ What are the χ angles and standard deviations of this rotamer? What is its probability?"
   ]
  },
  {
   "cell_type": "code",
   "execution_count": null,
   "metadata": {},
   "outputs": [],
   "source": []
  },
  {
   "cell_type": "markdown",
   "metadata": {},
   "source": [
    "Score your pose with the standard full-atom score function. What is the energy of K49? Note the Dunbrack energy component (`fa_dun`), which represents the side-chain conformational probability. Does it match what you found in the table? (You will need to convert between probability and energy; use `kT = 1`.) If not, why not?\n",
    "\n",
    "```\n",
    "scorefxn = get_fa_scorefxn()\n",
    "scorefxn(pose)\n",
    "energies = pose.energies()\n",
    "print(energies.residue_total_energies(49))\n",
    "print(energies.residue_total_energies(49)[pyrosetta.rosetta.core.scoring.fa_dun])\n",
    "```"
   ]
  },
  {
   "cell_type": "code",
   "execution_count": 4,
   "metadata": {},
   "outputs": [
    {
     "name": "stdout",
     "output_type": "stream",
     "text": [
      "\u001b[0mcore.scoring.ScoreFunctionFactory: \u001b[0mSCOREFUNCTION: \u001b[32mref2015\u001b[0m\n",
      "( fa_atr; -8.83354) ( fa_rep; 2.78019) ( fa_sol; 5.92847) ( fa_intra_atr; -1.68168) ( fa_intra_rep; 2.47533) ( fa_intra_sol; 1.20218) ( fa_intra_atr_xover4; -0.52776) ( fa_intra_rep_xover4; 0.191981) ( fa_intra_sol_xover4; 0.292855) ( fa_intra_atr_nonprotein; 0) ( fa_intra_rep_nonprotein; 0) ( fa_intra_sol_nonprotein; 0) ( fa_intra_RNA_base_phos_atr; 0) ( fa_intra_RNA_base_phos_rep; 0) ( fa_intra_RNA_base_phos_sol; 0) ( fa_atr_dummy; 0) ( fa_rep_dummy; 0) ( fa_sol_dummy; 0) ( fa_vdw_tinker; 0) ( lk_hack; 0) ( lk_ball; 0) ( lk_ball_wtd; 0.321463) ( lk_ball_iso; 0) ( lk_ball_bridge; 0) ( lk_ball_bridge_uncpl; 0) ( coarse_fa_atr; 0) ( coarse_fa_rep; 0) ( coarse_fa_sol; 0) ( coarse_beadlj; 0) ( mm_lj_intra_rep; 0) ( mm_lj_intra_atr; 0) ( mm_lj_inter_rep; 0) ( mm_lj_inter_atr; 0) ( mm_twist; 0) ( mm_bend; 0) ( mm_stretch; 0) ( lk_costheta; 0) ( lk_polar; 0) ( lk_nonpolar; 0) ( lk_polar_intra_RNA; 0) ( lk_nonpolar_intra_RNA; 0) ( fa_elec; -2.75782) ( fa_elec_bb_bb; 0) ( fa_elec_bb_sc; 0) ( fa_elec_sc_sc; 0) ( fa_intra_elec; 0) ( h2o_hbond; 0) ( dna_dr; 0) ( dna_bp; 0) ( dna_bs; 0) ( dna_ref; 0) ( peptide_bond; 0) ( pcs; 0) ( pcsTs1; 0) ( pcsTs2; 0) ( pcsTs3; 0) ( pcsTs4; 0) ( pcs2; 0) ( fastsaxs; 0) ( saxs_score; 0) ( saxs_cen_score; 0) ( saxs_fa_score; 0) ( pddf_score; 0) ( fiberdiffraction; 0) ( fiberdiffractiondens; 0) ( fa_mbenv; 0) ( fa_mbsolv; 0) ( fa_elec_rna_phos_phos; 0) ( fa_elec_rna_phos_sugr; 0) ( fa_elec_rna_phos_base; 0) ( fa_elec_rna_sugr_sugr; 0) ( fa_elec_rna_sugr_base; 0) ( fa_elec_rna_base_base; 0) ( fa_elec_rna_phos_phos_fast; 0) ( fa_elec_rna_phos_sugr_fast; 0) ( fa_elec_rna_phos_base_fast; 0) ( fa_elec_rna_sugr_sugr_fast; 0) ( fa_elec_rna_sugr_base_fast; 0) ( fa_elec_rna_base_base_fast; 0) ( fa_elec_aro_aro; 0) ( fa_elec_aro_all; 0) ( hack_aro; 0) ( rna_fa_atr_base; 0) ( rna_fa_rep_base; 0) ( rna_data_backbone; 0) ( ch_bond; 0) ( ch_bond_bb_bb; 0) ( ch_bond_sc_sc; 0) ( ch_bond_bb_sc; 0) ( pro_close; 0) ( rama2b; 0) ( vdw; 0) ( cenpack; 0) ( cenpack_smooth; 0) ( cen_hb; 0) ( hybrid_vdw; 0) ( gauss; 0) ( rna_vdw; 0) ( rnp_vdw; 0) ( rna_base_backbone; 0) ( rna_backbone_backbone; 0) ( rna_repulsive; 0) ( rna_base_pair_pairwise; 0) ( rna_base_axis_pairwise; 0) ( rna_base_stagger_pairwise; 0) ( rna_base_stack_pairwise; 0) ( rna_base_stack_axis_pairwise; 0) ( rna_data_base; 0) ( rna_base_pair; 0) ( rna_base_axis; 0) ( rna_base_stagger; 0) ( rna_base_stack; 0) ( rna_base_stack_axis; 0) ( rnp_base_pair; 0) ( rnp_stack; 0) ( rnp_stack_xy; 0) ( rnp_pair; 0) ( rnp_pair_dist; 0) ( rnp_aa_to_rna_backbone; 0) ( rna_mg_point; 0) ( rna_mg_point_indirect; 0) ( mg; 0) ( mg_lig; 0) ( mg_sol; 0) ( mg_ref; 0) ( hoh_ref; 0) ( rna_torsion; 0) ( rna_torsion_sc; 0) ( rna_suite; 0) ( rna_jr_suite; 0) ( suiteness_bonus; 0) ( tna_suite; 0) ( rna_sugar_close; 0) ( fa_stack; 0) ( fa_stack_lower; 0) ( fa_stack_upper; 0) ( fa_stack_aro; 0) ( fa_stack_ext; 0) ( fa_stack_sol; 0) ( fa_stack_lr; 0) ( fa_stack_rna_protein; 0) ( fa_stack_rna_protein_aro; 0) ( ss_contact_worst; 0) ( stack_elec; 0) ( stack_elec_base_base; 0) ( stack_elec_base_bb; 0) ( alignment; 0) ( dna_bb_torsion; 0) ( dna_sugar_close; 0) ( dna_base_distance; 0) ( geom_sol_fast; 0) ( geom_sol_fast_intra_RNA; 0) ( fa_cust_pair_dist; 0) ( custom_atom_pair; 0) ( orbitals_hpol_bb; 0) ( pci_cation_pi; 0) ( pci_pi_pi; 0) ( pci_salt_bridge; 0) ( pci_hbond; 0) ( PyRosettaTwoBodyContextIndepenedentEnergy_first; 0) ( PyRosettaTwoBodyContextIndepenedentEnergy_161; 0) ( PyRosettaTwoBodyContextIndepenedentEnergy_162; 0) ( PyRosettaTwoBodyContextIndepenedentEnergy_163; 0) ( PyRosettaTwoBodyContextIndepenedentEnergy_164; 0) ( PyRosettaTwoBodyContextIndepenedentEnergy_165; 0) ( PyRosettaTwoBodyContextIndepenedentEnergy_166; 0) ( PyRosettaTwoBodyContextIndepenedentEnergy_167; 0) ( PyRosettaTwoBodyContextIndepenedentEnergy_168; 0) ( PyRosettaTwoBodyContextIndepenedentEnergy_169; 0) ( PyRosettaTwoBodyContextIndepenedentEnergy_last; 0) ( python; 0) ( fa_pair; 0) ( fa_pair_aro_aro; 0) ( fa_pair_aro_pol; 0) ( fa_pair_pol_pol; 0) ( hbond_sr_bb; 0) ( hbond_lr_bb; 0) ( hbond_bb_sc; 0) ( hbond_sr_bb_sc; 0) ( hbond_lr_bb_sc; 0) ( hbond_sc; 0) ( hbond_intra; 0) ( hbond_wat; 0) ( wat_entropy; 0) ( hbond; 0) ( npd_hbond_sr_bb; 0) ( npd_hbond_lr_bb; 0) ( npd_hbond_bb_sc; 0) ( npd_hbond_sr_bb_sc; 0) ( npd_hbond_lr_bb_sc; 0) ( npd_hbond_sc; 0) ( npd_hbond_intra; 0) ( npd_hbond; 0) ( fa_grpelec; 0) ( PyRosettaTwoBodyContextDependentEnergy_first; 0) ( PyRosettaTwoBodyContextDependentEnergy_196; 0) ( PyRosettaTwoBodyContextDependentEnergy_197; 0) ( PyRosettaTwoBodyContextDependentEnergy_198; 0) ( PyRosettaTwoBodyContextDependentEnergy_199; 0) ( PyRosettaTwoBodyContextDependentEnergy_200; 0) ( PyRosettaTwoBodyContextDependentEnergy_201; 0) ( PyRosettaTwoBodyContextDependentEnergy_202; 0) ( PyRosettaTwoBodyContextDependentEnergy_203; 0) ( PyRosettaTwoBodyContextDependentEnergy_204; 0) ( PyRosettaTwoBodyContextDependentEnergy_last; 0) ( interface_dd_pair; 0) ( geom_sol; 0) ( geom_sol_intra_RNA; 0) ( occ_sol_fitted; 0) ( occ_sol_fitted_onebody; 0) ( occ_sol_exact; 0) ( cen_rot_pair; 0) ( cen_rot_pair_ang; 0) ( cen_rot_pair_dih; 0) ( pair; 0) ( cen_pair_smooth; 0) ( Mpair; 0) ( mp_pair; 0) ( fa_mpsolv; 0) ( suck; 0) ( rna_rg; 0) ( rna_motif; 0) ( facts_elec; 0) ( facts_solv; 0) ( facts_sasa; 0) ( motif_dock; 0) ( pointwater; 0) ( goap; 0) ( goap_dist; 0) ( goap_angle; 0) ( approximate_buried_unsat_penalty; 0) ( interchain_pair; 0) ( interchain_vdw; 0) ( gb_elec; 0) ( multipole_elec; 0) ( fa_sasa; 0) ( dslf_ss_dst; 0) ( dslf_cs_ang; 0) ( dslf_ss_dih; 0) ( dslf_ca_dih; 0) ( dslf_cbs_ds; 0) ( dslf_fa13; 0) ( dslfc_cen_dst; 0) ( dslfc_cb_dst; 0) ( dslfc_ang; 0) ( dslfc_cb_dih; 0) ( dslfc_bb_dih; 0) ( dslfc_rot; 0) ( dslfc_trans; 0) ( dslfc_RT; 0) ( atom_pair_constraint; 0) ( base_pair_constraint; 0) ( coarse_chainbreak_constraint; 0) ( constant_constraint; 0) ( coordinate_constraint; 0) ( angle_constraint; 0) ( dihedral_constraint; 0) ( big_bin_constraint; 0) ( dunbrack_constraint; 0) ( site_constraint; 0) ( metalhash_constraint; 0) ( metalbinding_constraint; 0) ( rna_stub_coord_hack; 0) ( bond_geometry; 0) ( rna_bond_geometry; 0) ( Hpol_bond_geometry; 0) ( rama; 0) ( omega; 0.0116849) ( fa_dun; 3.97212) ( fa_dun_dev; 1.07017) ( fa_dun_rot; 2.90195) ( fa_dun_semi; 0) ( cen_rot_dun; 0) ( dna_chi; 0) ( p_aa_pp; 0.0112208) ( p_aa_ss; 0) ( yhh_planarity; 0) ( hxl_tors; 0) ( h2o_intra; 0) ( ref; -0.71458) ( ref_nc; 0) ( seqdep_ref; 0) ( nmer_ref; 0) ( nmer_pssm; 0) ( nmer_svm; 0) ( envsmooth; 0) ( e_pH; 0) ( rna_bulge; 0) ( dna_dihedral_bb; 0) ( dna_dihedral_chi; 0) ( dna_dihedral_sugar; 0) ( sugar_bb; 0) ( free_suite; 0) ( free_2HOprime; 0) ( free_side_chain; 0) ( free_base; 0) ( free_res; 0) ( free_dof; 0) ( intermol; 0) ( other_pose; 0) ( special_rot; 0) ( PB_elec; 0) ( cen_env_smooth; 0) ( cbeta_smooth; 0) ( cen_rot_env; 0) ( cen_rot_cbeta; 0) ( env; 0) ( cbeta; 0) ( DFIRE; 0) ( Menv; 0) ( Mcbeta; 0) ( Menv_non_helix; 0) ( Menv_termini; 0) ( Menv_tm_proj; 0) ( Mlipo; 0) ( rg; 0) ( rg_local; 0) ( co; 0) ( hs_pair; 0) ( ss_pair; 0) ( rsigma; 0) ( sheet; 0) ( burial_v2; 0) ( burial; 0) ( abego; 0) ( hrf_ms_labeling; 0) ( rnp_env; 0) ( loop_close; 0) ( missing_res; 0) ( mp_env; 0) ( mp_cbeta; 0) ( mp_lipo; 0) ( mp_termini; 0) ( mp_nonhelix; 0) ( mp_tmproj; 0) ( fa_mpenv; 0) ( fa_mpenv_smooth; 0) ( mp_res_lipo; 0) ( span_ins; 0) ( mp_span_ang; 0) ( mp_helicality; 0) ( natbias_ss; 0) ( natbias_hs; 0) ( natbias_hh; 0) ( natbias_stwist; 0) ( aa_cmp; 0) ( dock_ens_conf; 0) ( csa; 0) ( dc; 0) ( rdc; 0) ( rdc_segments; 0) ( rdc_rohl; 0) ( nmr_pcs; 0) ( nmr_rdc; 0) ( nmr_pre; 0) ( cen_pair_motifs; 0) ( cen_pair_motif_degree; 0) ( holes; 0) ( holes_decoy; 0) ( holes_resl; 0) ( holes_min; 0) ( holes_min_mean; 0) ( rna_chem_shift; 0) ( rna_chem_map; 0) ( rna_chem_map_lores; 0) ( rna_partition; 0) ( dab_sasa; 0) ( dab_sev; 0) ( sa; 0) ( d2h_sa; 0) ( ProQM; 0) ( ProQ; 0) ( interchain_env; 0) ( interchain_contact; 0) ( chainbreak; 0) ( linear_chainbreak; 0) ( overlap_chainbreak; 0) ( distance_chainbreak; 0) ( dof_constraint; 0) ( branch_conn; 0) ( linear_branch_conn; 0) ( rama_prepro; -0.0498918) ( paa_abego3; 0) ( cart_bonded; 0) ( cart_bonded_angle; 0) ( cart_bonded_length; 0) ( cart_bonded_ring; 0) ( cart_bonded_torsion; 0) ( cart_bonded_proper; 0) ( cart_bonded_improper; 0) ( gen_bonded; 0) ( gen_bonded_bond; 0) ( gen_bonded_angle; 0) ( gen_bonded_torsion; 0) ( gen_bonded_improper; 0) ( neigh_vect; 0) ( neigh_count; 0) ( neigh_vect_raw; 0) ( symE_bonus; 0) ( sym_lig; 0) ( mhc_epitope; 0) ( pack_stat; 0) ( rms_energy; 0) ( res_type_constraint; 0) ( res_type_linking_constraint; 0) ( pocket_constraint; 0) ( backbone_stub_constraint; 0) ( backbone_stub_linear_constraint; 0) ( surface; 0) ( p_aa; 0) ( unfolded; 0) ( split_unfolded_two_body; 0) ( fa_atr_ref; 0) ( fa_rep_ref; 0) ( fa_sol_ref; 0) ( fa_elec_ref; 0) ( hbond_ref; 0) ( dslf_fa13_ref; 0) ( fa_intra_atr_ref; 0) ( fa_intra_rep_ref; 0) ( fa_intra_sol_ref; 0) ( pro_close_ref; 0) ( fa_dun_ref; 0) ( fa_dun_dev_ref; 0) ( fa_dun_rot_ref; 0) ( fa_dun_semi_ref; 0) ( rama_ref; 0) ( p_aa_pp_ref; 0) ( omega_ref; 0) ( mm_lj_intra_rep_ref; 0) ( mm_lj_intra_atr_ref; 0) ( mm_twist_ref; 0) ( elec_dens_fast; 0) ( elec_dens_window; 0) ( elec_dens_whole_structure_ca; 0) ( elec_dens_whole_structure_allatom; 0) ( elec_dens_atomwise; 0) ( grid_vdw; 0) ( xtal_ml; 0) ( xtal_rwork; 0) ( xtal_rfree; 0) ( hpatch; 0) ( Menv_smooth; 0) ( wat_desolv; 0) ( ring_close; 0) ( aa_repeat; 0) ( aa_composition; 0) ( aspartimide_penalty; 0) ( hbnet; 0) ( buried_unsatisfied_penalty; 0) ( netcharge; 0) ( voids_penalty; 0) ( dna_env; 0) ( dna_pair; 0) ( dump_trajectory; 0) ( PyRosettaEnergy_first; 0) ( PyRosettaEnergy_457; 0) ( PyRosettaEnergy_458; 0) ( PyRosettaEnergy_459; 0) ( PyRosettaEnergy_460; 0) ( PyRosettaEnergy_461; 0) ( PyRosettaEnergy_462; 0) ( PyRosettaEnergy_463; 0) ( PyRosettaEnergy_464; 0) ( PyRosettaEnergy_465; 0) ( PyRosettaEnergy_last; 0) ( sidechain_neighbors; 0) ( membrane_span_constraint; 0) ( membrane_span_term_z_constraint; 0) ( total_score; -1.45222) ( dummy_score_type; 0) \n",
      "3.972124341964819\n"
     ]
    }
   ],
   "source": [
    "### BEGIN SOLUTION\n",
    "scorefxn = get_fa_scorefxn()\n",
    "scorefxn(pose)\n",
    "energies = pose.energies()\n",
    "print(energies.residue_total_energies(49))\n",
    "print(energies.residue_total_energies(49)[pyrosetta.rosetta.core.scoring.fa_dun])\n",
    "### END SOLUTION"
   ]
  },
  {
   "cell_type": "markdown",
   "metadata": {},
   "source": [
    "Use `pose.set_chi(<i>, <res_num>, <chi>)` to set the side chain of residue 49 to the all-anti conformation. (Here, `i` is the χ index, and `chi` is the new torsion angle in degrees.) Re-score the pose and note the Dunbrack energy.\n",
    "\n",
    "__Question:__ Does it match the probability in the table? Is this conformation valid for cetuximab (i.e., is the total score of this residue acceptable)?\n",
    "\n",
    "```\n",
    "for i in range(1, 5):\n",
    "    pose.set_chi(i, 49, 180)\n",
    "```"
   ]
  },
  {
   "cell_type": "code",
   "execution_count": 5,
   "metadata": {},
   "outputs": [],
   "source": [
    "### BEGIN SOLUTION\n",
    "for i in range(1, 5):\n",
    "    pose.set_chi(i, 49, 180)\n",
    "### END SOLUTION"
   ]
  },
  {
   "cell_type": "markdown",
   "metadata": {},
   "source": [
    "## Monte Carlo Side-Chain Packing\n",
    "\n",
    "Side-chain packing can be done in a Monte Carlo search routine that iteratively swaps rotamers of a random residue and tests each move using the Metropolis criterion. Rosetta has such a routine pre-packaged as a `Mover` that carries out a simulated annealing search each time it is applied. The specific scope of the packing is specified in a `PackerTask` object, which is similar to a `MoveMap` in that it specifies degrees of freedom. We can specify via commands or from an input file our settings for a `PackerTask`.\n",
    "\n",
    "Create a `PackerTask` as follows. This will set the task to allow packing only of residue 49:\n",
    "\n",
    "```\n",
    "task_pack = standard_packer_task(pose)\n",
    "task_pack.restrict_to_repacking()\n",
    "task_pack.temporarily_fix_everything()\n",
    "task_pack.temporarily_set_pack_residue(49, True)\n",
    "```"
   ]
  },
  {
   "cell_type": "code",
   "execution_count": 6,
   "metadata": {},
   "outputs": [
    {
     "name": "stdout",
     "output_type": "stream",
     "text": [
      "\u001b[0mcore.pack.task: \u001b[0mPacker task: initialize from command line()\n"
     ]
    }
   ],
   "source": [
    "### BEGIN SOLUTION\n",
    "task_pack = standard_packer_task(pose)\n",
    "task_pack.restrict_to_repacking() # only allows rotamers of current residue\n",
    "task_pack.temporarily_fix_everything()\n",
    "task_pack.temporarily_set_pack_residue(49, True)\n",
    "### END SOLUTION"
   ]
  },
  {
   "cell_type": "markdown",
   "metadata": {},
   "source": [
    "The default task allows any amino acid residue to be swapped in for another; that is, it would simulate a protein variant as a result of mutation. This would be useful for protein design but not for side-chain packing. `restrict_to_repacking()` only allows rotamers from the current residue at that position to be used.\n",
    "\n",
    "We can confirm our settings using (note how only one amino acid is allowed at each position):\n",
    "```\n",
    "print(task_pack)\n",
    "```"
   ]
  },
  {
   "cell_type": "code",
   "execution_count": 7,
   "metadata": {},
   "outputs": [
    {
     "name": "stdout",
     "output_type": "stream",
     "text": [
      "#Packer_Task\n",
      "\n",
      "resid\tpack?\tdesign?\tallowed_aas\n",
      "1\tFALSE\tFALSE\tASP:NtermProteinFull\n",
      "2\tFALSE\tFALSE\tILE\n",
      "3\tFALSE\tFALSE\tLEU\n",
      "4\tFALSE\tFALSE\tLEU\n",
      "5\tFALSE\tFALSE\tTHR\n",
      "6\tFALSE\tFALSE\tGLN\n",
      "7\tFALSE\tFALSE\tSER\n",
      "8\tFALSE\tFALSE\tPRO\n",
      "9\tFALSE\tFALSE\tVAL\n",
      "10\tFALSE\tFALSE\tILE\n",
      "11\tFALSE\tFALSE\tLEU\n",
      "12\tFALSE\tFALSE\tSER\n",
      "13\tFALSE\tFALSE\tVAL\n",
      "14\tFALSE\tFALSE\tSER\n",
      "15\tFALSE\tFALSE\tPRO\n",
      "16\tFALSE\tFALSE\tGLY\n",
      "17\tFALSE\tFALSE\tGLU\n",
      "18\tFALSE\tFALSE\tARG\n",
      "19\tFALSE\tFALSE\tVAL\n",
      "20\tFALSE\tFALSE\tSER\n",
      "21\tFALSE\tFALSE\tPHE\n",
      "22\tFALSE\tFALSE\tSER\n",
      "23\tFALSE\tFALSE\t\n",
      "24\tFALSE\tFALSE\tARG\n",
      "25\tFALSE\tFALSE\tALA\n",
      "26\tFALSE\tFALSE\tSER\n",
      "27\tFALSE\tFALSE\tGLN\n",
      "28\tFALSE\tFALSE\tSER\n",
      "29\tFALSE\tFALSE\tILE\n",
      "30\tFALSE\tFALSE\tGLY\n",
      "31\tFALSE\tFALSE\tTHR\n",
      "32\tFALSE\tFALSE\tASN\n",
      "33\tFALSE\tFALSE\tILE\n",
      "34\tFALSE\tFALSE\tHIS,HIS_D\n",
      "35\tFALSE\tFALSE\tTRP\n",
      "36\tFALSE\tFALSE\tTYR\n",
      "37\tFALSE\tFALSE\tGLN\n",
      "38\tFALSE\tFALSE\tGLN\n",
      "39\tFALSE\tFALSE\tARG\n",
      "40\tFALSE\tFALSE\tTHR\n",
      "41\tFALSE\tFALSE\tASN\n",
      "42\tFALSE\tFALSE\tGLY\n",
      "43\tFALSE\tFALSE\tSER\n",
      "44\tFALSE\tFALSE\tPRO\n",
      "45\tFALSE\tFALSE\tARG\n",
      "46\tFALSE\tFALSE\tLEU\n",
      "47\tFALSE\tFALSE\tLEU\n",
      "48\tFALSE\tFALSE\tILE\n",
      "49\tTRUE\tFALSE\tLYS\n",
      "50\tFALSE\tFALSE\tTYR\n",
      "51\tFALSE\tFALSE\tALA\n",
      "52\tFALSE\tFALSE\tSER\n",
      "53\tFALSE\tFALSE\tGLU\n",
      "54\tFALSE\tFALSE\tSER\n",
      "55\tFALSE\tFALSE\tILE\n",
      "56\tFALSE\tFALSE\tSER\n",
      "57\tFALSE\tFALSE\tGLY\n",
      "58\tFALSE\tFALSE\tILE\n",
      "59\tFALSE\tFALSE\tPRO\n",
      "60\tFALSE\tFALSE\tSER\n",
      "61\tFALSE\tFALSE\tARG\n",
      "62\tFALSE\tFALSE\tPHE\n",
      "63\tFALSE\tFALSE\tSER\n",
      "64\tFALSE\tFALSE\tGLY\n",
      "65\tFALSE\tFALSE\tSER\n",
      "66\tFALSE\tFALSE\tGLY\n",
      "67\tFALSE\tFALSE\tSER\n",
      "68\tFALSE\tFALSE\tGLY\n",
      "69\tFALSE\tFALSE\tTHR\n",
      "70\tFALSE\tFALSE\tASP\n",
      "71\tFALSE\tFALSE\tPHE\n",
      "72\tFALSE\tFALSE\tTHR\n",
      "73\tFALSE\tFALSE\tLEU\n",
      "74\tFALSE\tFALSE\tSER\n",
      "75\tFALSE\tFALSE\tILE\n",
      "76\tFALSE\tFALSE\tASN\n",
      "77\tFALSE\tFALSE\tSER\n",
      "78\tFALSE\tFALSE\tVAL\n",
      "79\tFALSE\tFALSE\tGLU\n",
      "80\tFALSE\tFALSE\tSER\n",
      "81\tFALSE\tFALSE\tGLU\n",
      "82\tFALSE\tFALSE\tASP\n",
      "83\tFALSE\tFALSE\tILE\n",
      "84\tFALSE\tFALSE\tALA\n",
      "85\tFALSE\tFALSE\tASP\n",
      "86\tFALSE\tFALSE\tTYR\n",
      "87\tFALSE\tFALSE\tTYR\n",
      "88\tFALSE\tFALSE\t\n",
      "89\tFALSE\tFALSE\tGLN\n",
      "90\tFALSE\tFALSE\tGLN\n",
      "91\tFALSE\tFALSE\tASN\n",
      "92\tFALSE\tFALSE\tASN\n",
      "93\tFALSE\tFALSE\tASN\n",
      "94\tFALSE\tFALSE\tTRP\n",
      "95\tFALSE\tFALSE\tPRO\n",
      "96\tFALSE\tFALSE\tTHR\n",
      "97\tFALSE\tFALSE\tTHR\n",
      "98\tFALSE\tFALSE\tPHE\n",
      "99\tFALSE\tFALSE\tGLY\n",
      "100\tFALSE\tFALSE\tALA\n",
      "101\tFALSE\tFALSE\tGLY\n",
      "102\tFALSE\tFALSE\tTHR\n",
      "103\tFALSE\tFALSE\tLYS\n",
      "104\tFALSE\tFALSE\tLEU\n",
      "105\tFALSE\tFALSE\tGLU\n",
      "106\tFALSE\tFALSE\tLEU\n",
      "107\tFALSE\tFALSE\tLYS\n",
      "108\tFALSE\tFALSE\tARG\n",
      "109\tFALSE\tFALSE\tTHR\n",
      "110\tFALSE\tFALSE\tVAL\n",
      "111\tFALSE\tFALSE\tALA\n",
      "112\tFALSE\tFALSE\tALA\n",
      "113\tFALSE\tFALSE\tPRO\n",
      "114\tFALSE\tFALSE\tSER\n",
      "115\tFALSE\tFALSE\tVAL\n",
      "116\tFALSE\tFALSE\tPHE\n",
      "117\tFALSE\tFALSE\tILE\n",
      "118\tFALSE\tFALSE\tPHE\n",
      "119\tFALSE\tFALSE\tPRO\n",
      "120\tFALSE\tFALSE\tPRO\n",
      "121\tFALSE\tFALSE\tSER\n",
      "122\tFALSE\tFALSE\tASP\n",
      "123\tFALSE\tFALSE\tGLU\n",
      "124\tFALSE\tFALSE\tGLN\n",
      "125\tFALSE\tFALSE\tLEU\n",
      "126\tFALSE\tFALSE\tLYS\n",
      "127\tFALSE\tFALSE\tSER\n",
      "128\tFALSE\tFALSE\tGLY\n",
      "129\tFALSE\tFALSE\tTHR\n",
      "130\tFALSE\tFALSE\tALA\n",
      "131\tFALSE\tFALSE\tSER\n",
      "132\tFALSE\tFALSE\tVAL\n",
      "133\tFALSE\tFALSE\tVAL\n",
      "134\tFALSE\tFALSE\t\n",
      "135\tFALSE\tFALSE\tLEU\n",
      "136\tFALSE\tFALSE\tLEU\n",
      "137\tFALSE\tFALSE\tASN\n",
      "138\tFALSE\tFALSE\tASN\n",
      "139\tFALSE\tFALSE\tPHE\n",
      "140\tFALSE\tFALSE\tTYR\n",
      "141\tFALSE\tFALSE\tPRO\n",
      "142\tFALSE\tFALSE\tARG\n",
      "143\tFALSE\tFALSE\tGLU\n",
      "144\tFALSE\tFALSE\tALA\n",
      "145\tFALSE\tFALSE\tLYS\n",
      "146\tFALSE\tFALSE\tVAL\n",
      "147\tFALSE\tFALSE\tGLN\n",
      "148\tFALSE\tFALSE\tTRP\n",
      "149\tFALSE\tFALSE\tLYS\n",
      "150\tFALSE\tFALSE\tVAL\n",
      "151\tFALSE\tFALSE\tASP\n",
      "152\tFALSE\tFALSE\tASN\n",
      "153\tFALSE\tFALSE\tALA\n",
      "154\tFALSE\tFALSE\tLEU\n",
      "155\tFALSE\tFALSE\tGLN\n",
      "156\tFALSE\tFALSE\tSER\n",
      "157\tFALSE\tFALSE\tGLY\n",
      "158\tFALSE\tFALSE\tASN\n",
      "159\tFALSE\tFALSE\tSER\n",
      "160\tFALSE\tFALSE\tGLN\n",
      "161\tFALSE\tFALSE\tGLU\n",
      "162\tFALSE\tFALSE\tSER\n",
      "163\tFALSE\tFALSE\tVAL\n",
      "164\tFALSE\tFALSE\tTHR\n",
      "165\tFALSE\tFALSE\tGLU\n",
      "166\tFALSE\tFALSE\tGLN\n",
      "167\tFALSE\tFALSE\tASP\n",
      "168\tFALSE\tFALSE\tSER\n",
      "169\tFALSE\tFALSE\tLYS\n",
      "170\tFALSE\tFALSE\tASP\n",
      "171\tFALSE\tFALSE\tSER\n",
      "172\tFALSE\tFALSE\tTHR\n",
      "173\tFALSE\tFALSE\tTYR\n",
      "174\tFALSE\tFALSE\tSER\n",
      "175\tFALSE\tFALSE\tLEU\n",
      "176\tFALSE\tFALSE\tSER\n",
      "177\tFALSE\tFALSE\tSER\n",
      "178\tFALSE\tFALSE\tTHR\n",
      "179\tFALSE\tFALSE\tLEU\n",
      "180\tFALSE\tFALSE\tTHR\n",
      "181\tFALSE\tFALSE\tLEU\n",
      "182\tFALSE\tFALSE\tSER\n",
      "183\tFALSE\tFALSE\tLYS\n",
      "184\tFALSE\tFALSE\tALA\n",
      "185\tFALSE\tFALSE\tASP\n",
      "186\tFALSE\tFALSE\tTYR\n",
      "187\tFALSE\tFALSE\tGLU\n",
      "188\tFALSE\tFALSE\tLYS\n",
      "189\tFALSE\tFALSE\tHIS,HIS_D\n",
      "190\tFALSE\tFALSE\tLYS\n",
      "191\tFALSE\tFALSE\tVAL\n",
      "192\tFALSE\tFALSE\tTYR\n",
      "193\tFALSE\tFALSE\tALA\n",
      "194\tFALSE\tFALSE\t\n",
      "195\tFALSE\tFALSE\tGLU\n",
      "196\tFALSE\tFALSE\tVAL\n",
      "197\tFALSE\tFALSE\tTHR\n",
      "198\tFALSE\tFALSE\tHIS,HIS_D\n",
      "199\tFALSE\tFALSE\tGLN\n",
      "200\tFALSE\tFALSE\tGLY\n",
      "201\tFALSE\tFALSE\tLEU\n",
      "202\tFALSE\tFALSE\tSER\n",
      "203\tFALSE\tFALSE\tSER\n",
      "204\tFALSE\tFALSE\tPRO\n",
      "205\tFALSE\tFALSE\tVAL\n",
      "206\tFALSE\tFALSE\tTHR\n",
      "207\tFALSE\tFALSE\tLYS\n",
      "208\tFALSE\tFALSE\tSER\n",
      "209\tFALSE\tFALSE\tPHE\n",
      "210\tFALSE\tFALSE\tASN\n",
      "211\tFALSE\tFALSE\tARG\n",
      "212\tFALSE\tFALSE\tGLY\n",
      "213\tFALSE\tFALSE\tALA:CtermProteinFull\n",
      "214\tFALSE\tFALSE\tGLN:NtermProteinFull\n",
      "215\tFALSE\tFALSE\tVAL\n",
      "216\tFALSE\tFALSE\tGLN\n",
      "217\tFALSE\tFALSE\tLEU\n",
      "218\tFALSE\tFALSE\tLYS\n",
      "219\tFALSE\tFALSE\tGLN\n",
      "220\tFALSE\tFALSE\tSER\n",
      "221\tFALSE\tFALSE\tGLY\n",
      "222\tFALSE\tFALSE\tPRO\n",
      "223\tFALSE\tFALSE\tGLY\n",
      "224\tFALSE\tFALSE\tLEU\n",
      "225\tFALSE\tFALSE\tVAL\n",
      "226\tFALSE\tFALSE\tGLN\n",
      "227\tFALSE\tFALSE\tPRO\n",
      "228\tFALSE\tFALSE\tSER\n",
      "229\tFALSE\tFALSE\tGLN\n",
      "230\tFALSE\tFALSE\tSER\n",
      "231\tFALSE\tFALSE\tLEU\n",
      "232\tFALSE\tFALSE\tSER\n",
      "233\tFALSE\tFALSE\tILE\n",
      "234\tFALSE\tFALSE\tTHR\n",
      "235\tFALSE\tFALSE\t\n",
      "236\tFALSE\tFALSE\tTHR\n",
      "237\tFALSE\tFALSE\tVAL\n",
      "238\tFALSE\tFALSE\tSER\n",
      "239\tFALSE\tFALSE\tGLY\n",
      "240\tFALSE\tFALSE\tPHE\n",
      "241\tFALSE\tFALSE\tSER\n",
      "242\tFALSE\tFALSE\tLEU\n",
      "243\tFALSE\tFALSE\tTHR\n",
      "244\tFALSE\tFALSE\tASN\n",
      "245\tFALSE\tFALSE\tTYR\n",
      "246\tFALSE\tFALSE\tGLY\n",
      "247\tFALSE\tFALSE\tVAL\n",
      "248\tFALSE\tFALSE\tHIS,HIS_D\n",
      "249\tFALSE\tFALSE\tTRP\n",
      "250\tFALSE\tFALSE\tVAL\n",
      "251\tFALSE\tFALSE\tARG\n",
      "252\tFALSE\tFALSE\tGLN\n",
      "253\tFALSE\tFALSE\tSER\n",
      "254\tFALSE\tFALSE\tPRO\n",
      "255\tFALSE\tFALSE\tGLY\n",
      "256\tFALSE\tFALSE\tLYS\n",
      "257\tFALSE\tFALSE\tGLY\n",
      "258\tFALSE\tFALSE\tLEU\n",
      "259\tFALSE\tFALSE\tGLU\n",
      "260\tFALSE\tFALSE\tTRP\n",
      "261\tFALSE\tFALSE\tLEU\n",
      "262\tFALSE\tFALSE\tGLY\n",
      "263\tFALSE\tFALSE\tVAL\n",
      "264\tFALSE\tFALSE\tILE\n",
      "265\tFALSE\tFALSE\tTRP\n",
      "266\tFALSE\tFALSE\tSER\n",
      "267\tFALSE\tFALSE\tGLY\n",
      "268\tFALSE\tFALSE\tGLY\n",
      "269\tFALSE\tFALSE\tASN\n",
      "270\tFALSE\tFALSE\tTHR\n",
      "271\tFALSE\tFALSE\tASP\n",
      "272\tFALSE\tFALSE\tTYR\n",
      "273\tFALSE\tFALSE\tASN\n",
      "274\tFALSE\tFALSE\tTHR\n",
      "275\tFALSE\tFALSE\tPRO\n",
      "276\tFALSE\tFALSE\tPHE\n",
      "277\tFALSE\tFALSE\tTHR\n",
      "278\tFALSE\tFALSE\tSER\n",
      "279\tFALSE\tFALSE\tARG\n",
      "280\tFALSE\tFALSE\tLEU\n",
      "281\tFALSE\tFALSE\tSER\n",
      "282\tFALSE\tFALSE\tILE\n",
      "283\tFALSE\tFALSE\tASN\n",
      "284\tFALSE\tFALSE\tLYS\n",
      "285\tFALSE\tFALSE\tASP\n",
      "286\tFALSE\tFALSE\tASN\n",
      "287\tFALSE\tFALSE\tSER\n",
      "288\tFALSE\tFALSE\tLYS\n",
      "289\tFALSE\tFALSE\tSER\n",
      "290\tFALSE\tFALSE\tGLN\n",
      "291\tFALSE\tFALSE\tVAL\n",
      "292\tFALSE\tFALSE\tPHE\n",
      "293\tFALSE\tFALSE\tPHE\n",
      "294\tFALSE\tFALSE\tLYS\n",
      "295\tFALSE\tFALSE\tMET\n",
      "296\tFALSE\tFALSE\tASN\n",
      "297\tFALSE\tFALSE\tSER\n",
      "298\tFALSE\tFALSE\tLEU\n",
      "299\tFALSE\tFALSE\tGLN\n",
      "300\tFALSE\tFALSE\tSER\n",
      "301\tFALSE\tFALSE\tASN\n",
      "302\tFALSE\tFALSE\tASP\n",
      "303\tFALSE\tFALSE\tTHR\n",
      "304\tFALSE\tFALSE\tALA\n",
      "305\tFALSE\tFALSE\tILE\n",
      "306\tFALSE\tFALSE\tTYR\n",
      "307\tFALSE\tFALSE\tTYR\n",
      "308\tFALSE\tFALSE\t\n",
      "309\tFALSE\tFALSE\tALA\n",
      "310\tFALSE\tFALSE\tARG\n",
      "311\tFALSE\tFALSE\tALA\n",
      "312\tFALSE\tFALSE\tLEU\n",
      "313\tFALSE\tFALSE\tTHR\n",
      "314\tFALSE\tFALSE\tTYR\n",
      "315\tFALSE\tFALSE\tTYR\n",
      "316\tFALSE\tFALSE\tASP\n",
      "317\tFALSE\tFALSE\tTYR\n",
      "318\tFALSE\tFALSE\tGLU\n",
      "319\tFALSE\tFALSE\tPHE\n",
      "320\tFALSE\tFALSE\tALA\n",
      "321\tFALSE\tFALSE\tTYR\n",
      "322\tFALSE\tFALSE\tTRP\n",
      "323\tFALSE\tFALSE\tGLY\n",
      "324\tFALSE\tFALSE\tGLN\n",
      "325\tFALSE\tFALSE\tGLY\n",
      "326\tFALSE\tFALSE\tTHR\n",
      "327\tFALSE\tFALSE\tLEU\n",
      "328\tFALSE\tFALSE\tVAL\n",
      "329\tFALSE\tFALSE\tTHR\n",
      "330\tFALSE\tFALSE\tVAL\n",
      "331\tFALSE\tFALSE\tSER\n",
      "332\tFALSE\tFALSE\tALA\n",
      "333\tFALSE\tFALSE\tALA\n",
      "334\tFALSE\tFALSE\tSER\n",
      "335\tFALSE\tFALSE\tTHR\n",
      "336\tFALSE\tFALSE\tLYS\n",
      "337\tFALSE\tFALSE\tGLY\n",
      "338\tFALSE\tFALSE\tPRO\n",
      "339\tFALSE\tFALSE\tSER\n",
      "340\tFALSE\tFALSE\tVAL\n",
      "341\tFALSE\tFALSE\tPHE\n",
      "342\tFALSE\tFALSE\tPRO\n",
      "343\tFALSE\tFALSE\tLEU\n",
      "344\tFALSE\tFALSE\tALA\n",
      "345\tFALSE\tFALSE\tPRO\n",
      "346\tFALSE\tFALSE\tSER\n",
      "347\tFALSE\tFALSE\tSER\n",
      "348\tFALSE\tFALSE\tLYS\n",
      "349\tFALSE\tFALSE\tSER\n",
      "350\tFALSE\tFALSE\tTHR\n",
      "351\tFALSE\tFALSE\tSER\n",
      "352\tFALSE\tFALSE\tGLY\n",
      "353\tFALSE\tFALSE\tGLY\n",
      "354\tFALSE\tFALSE\tTHR\n",
      "355\tFALSE\tFALSE\tALA\n",
      "356\tFALSE\tFALSE\tALA\n",
      "357\tFALSE\tFALSE\tLEU\n",
      "358\tFALSE\tFALSE\tGLY\n",
      "359\tFALSE\tFALSE\t\n",
      "360\tFALSE\tFALSE\tLEU\n",
      "361\tFALSE\tFALSE\tVAL\n",
      "362\tFALSE\tFALSE\tLYS\n",
      "363\tFALSE\tFALSE\tASP\n",
      "364\tFALSE\tFALSE\tTYR\n",
      "365\tFALSE\tFALSE\tPHE\n",
      "366\tFALSE\tFALSE\tPRO\n",
      "367\tFALSE\tFALSE\tGLU\n",
      "368\tFALSE\tFALSE\tPRO\n",
      "369\tFALSE\tFALSE\tVAL\n",
      "370\tFALSE\tFALSE\tTHR\n",
      "371\tFALSE\tFALSE\tVAL\n",
      "372\tFALSE\tFALSE\tSER\n",
      "373\tFALSE\tFALSE\tTRP\n",
      "374\tFALSE\tFALSE\tASN\n",
      "375\tFALSE\tFALSE\tSER\n",
      "376\tFALSE\tFALSE\tGLY\n",
      "377\tFALSE\tFALSE\tALA\n",
      "378\tFALSE\tFALSE\tLEU\n",
      "379\tFALSE\tFALSE\tTHR\n",
      "380\tFALSE\tFALSE\tSER\n",
      "381\tFALSE\tFALSE\tGLY\n",
      "382\tFALSE\tFALSE\tVAL\n",
      "383\tFALSE\tFALSE\tHIS,HIS_D\n",
      "384\tFALSE\tFALSE\tTHR\n",
      "385\tFALSE\tFALSE\tPHE\n",
      "386\tFALSE\tFALSE\tPRO\n",
      "387\tFALSE\tFALSE\tALA\n",
      "388\tFALSE\tFALSE\tVAL\n",
      "389\tFALSE\tFALSE\tLEU\n",
      "390\tFALSE\tFALSE\tGLN\n",
      "391\tFALSE\tFALSE\tSER\n",
      "392\tFALSE\tFALSE\tSER\n",
      "393\tFALSE\tFALSE\tGLY\n",
      "394\tFALSE\tFALSE\tLEU\n",
      "395\tFALSE\tFALSE\tTYR\n",
      "396\tFALSE\tFALSE\tSER\n",
      "397\tFALSE\tFALSE\tLEU\n",
      "398\tFALSE\tFALSE\tSER\n",
      "399\tFALSE\tFALSE\tSER\n",
      "400\tFALSE\tFALSE\tVAL\n",
      "401\tFALSE\tFALSE\tVAL\n",
      "402\tFALSE\tFALSE\tTHR\n",
      "403\tFALSE\tFALSE\tVAL\n",
      "404\tFALSE\tFALSE\tPRO\n",
      "405\tFALSE\tFALSE\tSER\n",
      "406\tFALSE\tFALSE\tSER\n",
      "407\tFALSE\tFALSE\tSER\n",
      "408\tFALSE\tFALSE\tLEU\n",
      "409\tFALSE\tFALSE\tGLY\n",
      "410\tFALSE\tFALSE\tTHR\n",
      "411\tFALSE\tFALSE\tGLN\n",
      "412\tFALSE\tFALSE\tTHR\n",
      "413\tFALSE\tFALSE\tTYR\n",
      "414\tFALSE\tFALSE\tILE\n",
      "415\tFALSE\tFALSE\t\n",
      "416\tFALSE\tFALSE\tASN\n",
      "417\tFALSE\tFALSE\tVAL\n",
      "418\tFALSE\tFALSE\tASN\n",
      "419\tFALSE\tFALSE\tHIS,HIS_D\n",
      "420\tFALSE\tFALSE\tLYS\n",
      "421\tFALSE\tFALSE\tPRO\n",
      "422\tFALSE\tFALSE\tSER\n",
      "423\tFALSE\tFALSE\tASN\n",
      "424\tFALSE\tFALSE\tTHR\n",
      "425\tFALSE\tFALSE\tLYS\n",
      "426\tFALSE\tFALSE\tVAL\n",
      "427\tFALSE\tFALSE\tASP\n",
      "428\tFALSE\tFALSE\tLYS\n",
      "429\tFALSE\tFALSE\tARG\n",
      "430\tFALSE\tFALSE\tVAL\n",
      "431\tFALSE\tFALSE\tGLU\n",
      "432\tFALSE\tFALSE\tPRO\n",
      "433\tFALSE\tFALSE\tLYS\n",
      "434\tFALSE\tFALSE\tSER:CtermProteinFull\n",
      "\n"
     ]
    }
   ],
   "source": [
    "### BEGIN SOLUTION\n",
    "print(task_pack)\n",
    "### END SOLUTION"
   ]
  },
  {
   "cell_type": "markdown",
   "metadata": {},
   "source": [
    "We now can construct a `PackRotamersMover`:\n",
    "\n",
    "```\n",
    "pack_mover = PackRotamersMover(scorefxn, task_pack)\n",
    "```"
   ]
  },
  {
   "cell_type": "code",
   "execution_count": 8,
   "metadata": {},
   "outputs": [],
   "source": [
    "### BEGIN SOLUTION\n",
    "pack_mover = PackRotamersMover(scorefxn, task_pack)\n",
    "### END SOLUTION"
   ]
  },
  {
   "cell_type": "markdown",
   "metadata": {},
   "source": [
    "Apply the `PackMover` above to your pose with the `.apply()` method.\n",
    "\n",
    "```\n",
    "pack_mover.apply(pose)\n",
    "```\n",
    "\n",
    "__Question:__ Now what are the χ angles of K49? Which rotamer is this? What is the Dunbrack energy?"
   ]
  },
  {
   "cell_type": "code",
   "execution_count": 9,
   "metadata": {},
   "outputs": [
    {
     "name": "stdout",
     "output_type": "stream",
     "text": [
      "\u001b[0mcore.pack.pack_rotamers: \u001b[0mbuilt 9 rotamers at 1 positions.\n",
      "\u001b[0mcore.pack.interaction_graph.interaction_graph_factory: \u001b[0mInstantiating DensePDInteractionGraph\n"
     ]
    }
   ],
   "source": [
    "### BEGIN SOLUTION\n",
    "pack_mover.apply(pose)\n",
    "### END SOLUTION"
   ]
  },
  {
   "cell_type": "code",
   "execution_count": 9,
   "metadata": {},
   "outputs": [
    {
     "name": "stdout",
     "output_type": "stream",
     "text": [
      "65.29322908237052\n",
      "-178.50000000000003\n",
      "175.57824315863283\n",
      "65.80745535047775\n"
     ]
    }
   ],
   "source": [
    "### BEGIN SOLUTION\n",
    "for i in range(1, 5):\n",
    "    print(pose.chi(i, 49))\n",
    "### END SOLUTION    "
   ]
  },
  {
   "cell_type": "code",
   "execution_count": 10,
   "metadata": {},
   "outputs": [
    {
     "name": "stdout",
     "output_type": "stream",
     "text": [
      "( fa_atr; -9.0236) ( fa_rep; 2.72124) ( fa_sol; 6.88515) ( fa_intra_atr; -1.78222) ( fa_intra_rep; 2.48344) ( fa_intra_sol; 1.51257) ( fa_intra_atr_xover4; -0.566597) ( fa_intra_rep_xover4; 0.228627) ( fa_intra_sol_xover4; 0.463576) ( fa_intra_atr_nonprotein; 0) ( fa_intra_rep_nonprotein; 0) ( fa_intra_sol_nonprotein; 0) ( fa_intra_RNA_base_phos_atr; 0) ( fa_intra_RNA_base_phos_rep; 0) ( fa_intra_RNA_base_phos_sol; 0) ( fa_atr_dummy; 0) ( fa_rep_dummy; 0) ( fa_sol_dummy; 0) ( fa_vdw_tinker; 0) ( lk_hack; 0) ( lk_ball; 0) ( lk_ball_wtd; 0.580299) ( lk_ball_iso; 0) ( lk_ball_bridge; 0) ( lk_ball_bridge_uncpl; 0) ( coarse_fa_atr; 0) ( coarse_fa_rep; 0) ( coarse_fa_sol; 0) ( coarse_beadlj; 0) ( mm_lj_intra_rep; 0) ( mm_lj_intra_atr; 0) ( mm_lj_inter_rep; 0) ( mm_lj_inter_atr; 0) ( mm_twist; 0) ( mm_bend; 0) ( mm_stretch; 0) ( lk_costheta; 0) ( lk_polar; 0) ( lk_nonpolar; 0) ( lk_polar_intra_RNA; 0) ( lk_nonpolar_intra_RNA; 0) ( fa_elec; -4.69306) ( fa_elec_bb_bb; 0) ( fa_elec_bb_sc; 0) ( fa_elec_sc_sc; 0) ( fa_intra_elec; 0) ( h2o_hbond; 0) ( dna_dr; 0) ( dna_bp; 0) ( dna_bs; 0) ( dna_ref; 0) ( peptide_bond; 0) ( pcs; 0) ( pcsTs1; 0) ( pcsTs2; 0) ( pcsTs3; 0) ( pcsTs4; 0) ( pcs2; 0) ( fastsaxs; 0) ( saxs_score; 0) ( saxs_cen_score; 0) ( saxs_fa_score; 0) ( pddf_score; 0) ( fiberdiffraction; 0) ( fiberdiffractiondens; 0) ( fa_mbenv; 0) ( fa_mbsolv; 0) ( fa_elec_rna_phos_phos; 0) ( fa_elec_rna_phos_sugr; 0) ( fa_elec_rna_phos_base; 0) ( fa_elec_rna_sugr_sugr; 0) ( fa_elec_rna_sugr_base; 0) ( fa_elec_rna_base_base; 0) ( fa_elec_rna_phos_phos_fast; 0) ( fa_elec_rna_phos_sugr_fast; 0) ( fa_elec_rna_phos_base_fast; 0) ( fa_elec_rna_sugr_sugr_fast; 0) ( fa_elec_rna_sugr_base_fast; 0) ( fa_elec_rna_base_base_fast; 0) ( fa_elec_aro_aro; 0) ( fa_elec_aro_all; 0) ( hack_aro; 0) ( rna_fa_atr_base; 0) ( rna_fa_rep_base; 0) ( rna_data_backbone; 0) ( ch_bond; 0) ( ch_bond_bb_bb; 0) ( ch_bond_sc_sc; 0) ( ch_bond_bb_sc; 0) ( pro_close; 0) ( rama2b; 0) ( vdw; 0) ( cenpack; 0) ( cenpack_smooth; 0) ( cen_hb; 0) ( hybrid_vdw; 0) ( gauss; 0) ( rna_vdw; 0) ( rnp_vdw; 0) ( rna_base_backbone; 0) ( rna_backbone_backbone; 0) ( rna_repulsive; 0) ( rna_base_pair_pairwise; 0) ( rna_base_axis_pairwise; 0) ( rna_base_stagger_pairwise; 0) ( rna_base_stack_pairwise; 0) ( rna_base_stack_axis_pairwise; 0) ( rna_data_base; 0) ( rna_base_pair; 0) ( rna_base_axis; 0) ( rna_base_stagger; 0) ( rna_base_stack; 0) ( rna_base_stack_axis; 0) ( rnp_base_pair; 0) ( rnp_stack; 0) ( rnp_stack_xy; 0) ( rnp_pair; 0) ( rnp_pair_dist; 0) ( rnp_aa_to_rna_backbone; 0) ( rna_mg_point; 0) ( rna_mg_point_indirect; 0) ( mg; 0) ( mg_lig; 0) ( mg_sol; 0) ( mg_ref; 0) ( hoh_ref; 0) ( rna_torsion; 0) ( rna_torsion_sc; 0) ( rna_suite; 0) ( rna_jr_suite; 0) ( suiteness_bonus; 0) ( tna_suite; 0) ( rna_sugar_close; 0) ( fa_stack; 0) ( fa_stack_lower; 0) ( fa_stack_upper; 0) ( fa_stack_aro; 0) ( fa_stack_ext; 0) ( fa_stack_sol; 0) ( fa_stack_lr; 0) ( fa_stack_rna_protein; 0) ( fa_stack_rna_protein_aro; 0) ( ss_contact_worst; 0) ( stack_elec; 0) ( stack_elec_base_base; 0) ( stack_elec_base_bb; 0) ( alignment; 0) ( dna_bb_torsion; 0) ( dna_sugar_close; 0) ( dna_base_distance; 0) ( geom_sol_fast; 0) ( geom_sol_fast_intra_RNA; 0) ( fa_cust_pair_dist; 0) ( custom_atom_pair; 0) ( orbitals_hpol_bb; 0) ( pci_cation_pi; 0) ( pci_pi_pi; 0) ( pci_salt_bridge; 0) ( pci_hbond; 0) ( PyRosettaTwoBodyContextIndepenedentEnergy_first; 0) ( PyRosettaTwoBodyContextIndepenedentEnergy_161; 0) ( PyRosettaTwoBodyContextIndepenedentEnergy_162; 0) ( PyRosettaTwoBodyContextIndepenedentEnergy_163; 0) ( PyRosettaTwoBodyContextIndepenedentEnergy_164; 0) ( PyRosettaTwoBodyContextIndepenedentEnergy_165; 0) ( PyRosettaTwoBodyContextIndepenedentEnergy_166; 0) ( PyRosettaTwoBodyContextIndepenedentEnergy_167; 0) ( PyRosettaTwoBodyContextIndepenedentEnergy_168; 0) ( PyRosettaTwoBodyContextIndepenedentEnergy_169; 0) ( PyRosettaTwoBodyContextIndepenedentEnergy_last; 0) ( python; 0) ( fa_pair; 0) ( fa_pair_aro_aro; 0) ( fa_pair_aro_pol; 0) ( fa_pair_pol_pol; 0) ( hbond_sr_bb; 0) ( hbond_lr_bb; 0) ( hbond_bb_sc; 0) ( hbond_sr_bb_sc; 0) ( hbond_lr_bb_sc; 0) ( hbond_sc; -0.00897021) ( hbond_intra; 0) ( hbond_wat; 0) ( wat_entropy; 0) ( hbond; 0) ( npd_hbond_sr_bb; 0) ( npd_hbond_lr_bb; 0) ( npd_hbond_bb_sc; 0) ( npd_hbond_sr_bb_sc; 0) ( npd_hbond_lr_bb_sc; 0) ( npd_hbond_sc; 0) ( npd_hbond_intra; 0) ( npd_hbond; 0) ( fa_grpelec; 0) ( PyRosettaTwoBodyContextDependentEnergy_first; 0) ( PyRosettaTwoBodyContextDependentEnergy_196; 0) ( PyRosettaTwoBodyContextDependentEnergy_197; 0) ( PyRosettaTwoBodyContextDependentEnergy_198; 0) ( PyRosettaTwoBodyContextDependentEnergy_199; 0) ( PyRosettaTwoBodyContextDependentEnergy_200; 0) ( PyRosettaTwoBodyContextDependentEnergy_201; 0) ( PyRosettaTwoBodyContextDependentEnergy_202; 0) ( PyRosettaTwoBodyContextDependentEnergy_203; 0) ( PyRosettaTwoBodyContextDependentEnergy_204; 0) ( PyRosettaTwoBodyContextDependentEnergy_last; 0) ( interface_dd_pair; 0) ( geom_sol; 0) ( geom_sol_intra_RNA; 0) ( occ_sol_fitted; 0) ( occ_sol_fitted_onebody; 0) ( occ_sol_exact; 0) ( cen_rot_pair; 0) ( cen_rot_pair_ang; 0) ( cen_rot_pair_dih; 0) ( pair; 0) ( cen_pair_smooth; 0) ( Mpair; 0) ( mp_pair; 0) ( fa_mpsolv; 0) ( suck; 0) ( rna_rg; 0) ( rna_motif; 0) ( facts_elec; 0) ( facts_solv; 0) ( facts_sasa; 0) ( motif_dock; 0) ( pointwater; 0) ( goap; 0) ( goap_dist; 0) ( goap_angle; 0) ( approximate_buried_unsat_penalty; 0) ( interchain_pair; 0) ( interchain_vdw; 0) ( gb_elec; 0) ( multipole_elec; 0) ( fa_sasa; 0) ( dslf_ss_dst; 0) ( dslf_cs_ang; 0) ( dslf_ss_dih; 0) ( dslf_ca_dih; 0) ( dslf_cbs_ds; 0) ( dslf_fa13; 0) ( dslfc_cen_dst; 0) ( dslfc_cb_dst; 0) ( dslfc_ang; 0) ( dslfc_cb_dih; 0) ( dslfc_bb_dih; 0) ( dslfc_rot; 0) ( dslfc_trans; 0) ( dslfc_RT; 0) ( atom_pair_constraint; 0) ( base_pair_constraint; 0) ( coarse_chainbreak_constraint; 0) ( constant_constraint; 0) ( coordinate_constraint; 0) ( angle_constraint; 0) ( dihedral_constraint; 0) ( big_bin_constraint; 0) ( dunbrack_constraint; 0) ( site_constraint; 0) ( metalhash_constraint; 0) ( metalbinding_constraint; 0) ( rna_stub_coord_hack; 0) ( bond_geometry; 0) ( rna_bond_geometry; 0) ( Hpol_bond_geometry; 0) ( rama; 0) ( omega; 0.0116849) ( fa_dun; 4.69494) ( fa_dun_dev; 6.43499e-29) ( fa_dun_rot; 4.69494) ( fa_dun_semi; 0) ( cen_rot_dun; 0) ( dna_chi; 0) ( p_aa_pp; 0.0112208) ( p_aa_ss; 0) ( yhh_planarity; 0) ( hxl_tors; 0) ( h2o_intra; 0) ( ref; -0.71458) ( ref_nc; 0) ( seqdep_ref; 0) ( nmer_ref; 0) ( nmer_pssm; 0) ( nmer_svm; 0) ( envsmooth; 0) ( e_pH; 0) ( rna_bulge; 0) ( dna_dihedral_bb; 0) ( dna_dihedral_chi; 0) ( dna_dihedral_sugar; 0) ( sugar_bb; 0) ( free_suite; 0) ( free_2HOprime; 0) ( free_side_chain; 0) ( free_base; 0) ( free_res; 0) ( free_dof; 0) ( intermol; 0) ( other_pose; 0) ( special_rot; 0) ( PB_elec; 0) ( cen_env_smooth; 0) ( cbeta_smooth; 0) ( cen_rot_env; 0) ( cen_rot_cbeta; 0) ( env; 0) ( cbeta; 0) ( DFIRE; 0) ( Menv; 0) ( Mcbeta; 0) ( Menv_non_helix; 0) ( Menv_termini; 0) ( Menv_tm_proj; 0) ( Mlipo; 0) ( rg; 0) ( rg_local; 0) ( co; 0) ( hs_pair; 0) ( ss_pair; 0) ( rsigma; 0) ( sheet; 0) ( burial_v2; 0) ( burial; 0) ( abego; 0) ( hrf_ms_labeling; 0) ( rnp_env; 0) ( loop_close; 0) ( missing_res; 0) ( mp_env; 0) ( mp_cbeta; 0) ( mp_lipo; 0) ( mp_termini; 0) ( mp_nonhelix; 0) ( mp_tmproj; 0) ( fa_mpenv; 0) ( fa_mpenv_smooth; 0) ( mp_res_lipo; 0) ( span_ins; 0) ( mp_span_ang; 0) ( mp_helicality; 0) ( natbias_ss; 0) ( natbias_hs; 0) ( natbias_hh; 0) ( natbias_stwist; 0) ( aa_cmp; 0) ( dock_ens_conf; 0) ( csa; 0) ( dc; 0) ( rdc; 0) ( rdc_segments; 0) ( rdc_rohl; 0) ( nmr_pcs; 0) ( nmr_rdc; 0) ( nmr_pre; 0) ( cen_pair_motifs; 0) ( cen_pair_motif_degree; 0) ( holes; 0) ( holes_decoy; 0) ( holes_resl; 0) ( holes_min; 0) ( holes_min_mean; 0) ( rna_chem_shift; 0) ( rna_chem_map; 0) ( rna_chem_map_lores; 0) ( rna_partition; 0) ( dab_sasa; 0) ( dab_sev; 0) ( sa; 0) ( d2h_sa; 0) ( ProQM; 0) ( ProQ; 0) ( interchain_env; 0) ( interchain_contact; 0) ( chainbreak; 0) ( linear_chainbreak; 0) ( overlap_chainbreak; 0) ( distance_chainbreak; 0) ( dof_constraint; 0) ( branch_conn; 0) ( linear_branch_conn; 0) ( rama_prepro; -0.0498918) ( paa_abego3; 0) ( cart_bonded; 0) ( cart_bonded_angle; 0) ( cart_bonded_length; 0) ( cart_bonded_ring; 0) ( cart_bonded_torsion; 0) ( cart_bonded_proper; 0) ( cart_bonded_improper; 0) ( gen_bonded; 0) ( gen_bonded_bond; 0) ( gen_bonded_angle; 0) ( gen_bonded_torsion; 0) ( gen_bonded_improper; 0) ( neigh_vect; 0) ( neigh_count; 0) ( neigh_vect_raw; 0) ( symE_bonus; 0) ( sym_lig; 0) ( mhc_epitope; 0) ( pack_stat; 0) ( rms_energy; 0) ( res_type_constraint; 0) ( res_type_linking_constraint; 0) ( pocket_constraint; 0) ( backbone_stub_constraint; 0) ( backbone_stub_linear_constraint; 0) ( surface; 0) ( p_aa; 0) ( unfolded; 0) ( split_unfolded_two_body; 0) ( fa_atr_ref; 0) ( fa_rep_ref; 0) ( fa_sol_ref; 0) ( fa_elec_ref; 0) ( hbond_ref; 0) ( dslf_fa13_ref; 0) ( fa_intra_atr_ref; 0) ( fa_intra_rep_ref; 0) ( fa_intra_sol_ref; 0) ( pro_close_ref; 0) ( fa_dun_ref; 0) ( fa_dun_dev_ref; 0) ( fa_dun_rot_ref; 0) ( fa_dun_semi_ref; 0) ( rama_ref; 0) ( p_aa_pp_ref; 0) ( omega_ref; 0) ( mm_lj_intra_rep_ref; 0) ( mm_lj_intra_atr_ref; 0) ( mm_twist_ref; 0) ( elec_dens_fast; 0) ( elec_dens_window; 0) ( elec_dens_whole_structure_ca; 0) ( elec_dens_whole_structure_allatom; 0) ( elec_dens_atomwise; 0) ( grid_vdw; 0) ( xtal_ml; 0) ( xtal_rwork; 0) ( xtal_rfree; 0) ( hpatch; 0) ( Menv_smooth; 0) ( wat_desolv; 0) ( ring_close; 0) ( aa_repeat; 0) ( aa_composition; 0) ( aspartimide_penalty; 0) ( hbnet; 0) ( buried_unsatisfied_penalty; 0) ( netcharge; 0) ( voids_penalty; 0) ( dna_env; 0) ( dna_pair; 0) ( dump_trajectory; 0) ( PyRosettaEnergy_first; 0) ( PyRosettaEnergy_457; 0) ( PyRosettaEnergy_458; 0) ( PyRosettaEnergy_459; 0) ( PyRosettaEnergy_460; 0) ( PyRosettaEnergy_461; 0) ( PyRosettaEnergy_462; 0) ( PyRosettaEnergy_463; 0) ( PyRosettaEnergy_464; 0) ( PyRosettaEnergy_465; 0) ( PyRosettaEnergy_last; 0) ( sidechain_neighbors; 0) ( membrane_span_constraint; 0) ( membrane_span_term_z_constraint; 0) ( total_score; -1.72667) ( dummy_score_type; 0) \n",
      "4.694940721184868\n"
     ]
    }
   ],
   "source": [
    "### BEGIN SOLUTION\n",
    "print(energies.residue_total_energies(49))\n",
    "print(energies.residue_total_energies(49)[pyrosetta.rosetta.core.scoring.fa_dun])\n",
    "### END SOLUTION"
   ]
  },
  {
   "cell_type": "markdown",
   "metadata": {},
   "source": [
    "__Question:__ What is the new total energy of K49? Why did Rosetta pick this rotamer? Answer this in terms of the components of the score function and in terms of the residues with which K49 interacts."
   ]
  },
  {
   "cell_type": "code",
   "execution_count": null,
   "metadata": {},
   "outputs": [],
   "source": []
  },
  {
   "cell_type": "markdown",
   "metadata": {},
   "source": [
    "## Packing for Refinement\n",
    "\n",
    "\n",
    "Side-chain packing can be used when converting a pose from centroid to full-atom mode, and it is used extensively in full-atom refinement calculations. Let’s examine how packing improves scores."
   ]
  },
  {
   "cell_type": "markdown",
   "metadata": {},
   "source": [
    "Use your code from Workshop #4 to create a centroid-representation model for RecA protein domain 2 (PDB ID: 2REB) using the `SwitchResidueTypeSetMover`. Save that centroid “decoy” so that we can compare several basic refinement steps.\n",
    "\n",
    "```\n",
    "cen_ras = pose_from_file(\"6Q21_A.pdb\")\n",
    "switch = SwitchResidueTypeSetMover(\"centroid\")\n",
    "switch.apply(cen_ras)\n",
    "```"
   ]
  },
  {
   "cell_type": "code",
   "execution_count": 11,
   "metadata": {},
   "outputs": [
    {
     "name": "stdout",
     "output_type": "stream",
     "text": [
      "\u001b[0mcore.import_pose.import_pose: \u001b[0mFile '6Q21_A.pdb' automatically determined to be of type PDB\n",
      "\u001b[0mcore.chemical.GlobalResidueTypeSet: \u001b[0mFinished initializing centroid residue type set.  Created 62 residue types\n",
      "\u001b[0mcore.chemical.GlobalResidueTypeSet: \u001b[0mTotal time to initialize 0.038653 seconds.\n"
     ]
    }
   ],
   "source": [
    "### BEGIN SOLUTION\n",
    "cen_ras = pose_from_file(\"6Q21_A.pdb\")\n",
    "switch = SwitchResidueTypeSetMover(\"centroid\")\n",
    "switch.apply(cen_ras)\n",
    "### END SOLUTION"
   ]
  },
  {
   "cell_type": "markdown",
   "metadata": {},
   "source": [
    "Load another `ras` and keep it in full-atom representation. Save this starting configuration for future use. Score the pose with the standard centroid score function.\n",
    "\n",
    "__Question:__ Why is the score so high?\n",
    "\n",
    "```\n",
    "ras = pose_from_file(\"6Q21_A.pdb\")\n",
    "start_ras = Pose()\n",
    "start_ras.assign(ras)\n",
    "scorefxn(ras)\n",
    "```"
   ]
  },
  {
   "cell_type": "code",
   "execution_count": 12,
   "metadata": {},
   "outputs": [
    {
     "name": "stdout",
     "output_type": "stream",
     "text": [
      "\u001b[0mcore.import_pose.import_pose: \u001b[0mFile '6Q21_A.pdb' automatically determined to be of type PDB\n"
     ]
    },
    {
     "data": {
      "text/plain": [
       "1215.729069796814"
      ]
     },
     "execution_count": 12,
     "metadata": {},
     "output_type": "execute_result"
    }
   ],
   "source": [
    "### BEGIN SOLUTION\n",
    "ras = pose_from_file(\"6Q21_A.pdb\")\n",
    "start_ras = Pose()\n",
    "start_ras.assign(ras)\n",
    "scorefxn(ras)\n",
    "### END SOLUTION"
   ]
  },
  {
   "cell_type": "markdown",
   "metadata": {},
   "source": [
    "Create a default `PackRotamersMover` with a `PackerTask` that allows all residues to vary χ angles. Create a test pose from your start pose and pack the side chains.\n",
    "\n",
    "__Question:__ What is the new pose score?\n",
    "\n",
    "```\n",
    "test_ras = Pose()\n",
    "test_ras.assign(start_ras)\n",
    "\n",
    "task_pack = standard_packer_task(test_ras)\n",
    "task_pack.restrict_to_repacking()\n",
    "task_pack.temporarily_fix_everything()\n",
    "task_pack.temporarily_set_pack_residue(49, True)\n",
    "\n",
    "pack_mover = PackRotamersMover(scorefxn, task_pack)\n",
    "pack_mover.apply(test_ras)\n",
    "```"
   ]
  },
  {
   "cell_type": "code",
   "execution_count": 13,
   "metadata": {},
   "outputs": [
    {
     "name": "stdout",
     "output_type": "stream",
     "text": [
      "\u001b[0mcore.pack.task: \u001b[0mPacker task: initialize from command line()\n",
      "\u001b[0mcore.pack.pack_rotamers: \u001b[0mbuilt 15 rotamers at 1 positions.\n",
      "\u001b[0mcore.pack.interaction_graph.interaction_graph_factory: \u001b[0mInstantiating DensePDInteractionGraph\n"
     ]
    }
   ],
   "source": [
    "### BEGIN SOLUTION\n",
    "test_ras = Pose()\n",
    "test_ras.assign(start_ras)\n",
    "\n",
    "task_pack = standard_packer_task(test_ras)\n",
    "task_pack.restrict_to_repacking()\n",
    "task_pack.temporarily_fix_everything()\n",
    "task_pack.temporarily_set_pack_residue(49, True)\n",
    "\n",
    "pack_mover = PackRotamersMover(scorefxn, task_pack)\n",
    "pack_mover.apply(test_ras)\n",
    "### END SOLUTION"
   ]
  },
  {
   "cell_type": "markdown",
   "metadata": {},
   "source": [
    "Reset the test pose to the start configuration. Create a `MoveMap` that allows χ angles but not φ/ψ/ω angles to vary. Confirm the `MoveMap` by printing it. Create a `MinMover` using the Davidson-Fletcher-Powell minimization scheme by applying the method `min_type(\"dfpmin\")` to your mover. Apply the `MinMover` and rescore the pose.\n",
    "\n",
    "__Question:__ How does this energy compare?\n",
    "\n",
    "```\n",
    "test_ras.assign(start_ras)\n",
    "mm = MoveMap()\n",
    "mm.set_chi(True)\n",
    "mm.set_bb(False)\n",
    "print(mm)\n",
    "\n",
    "min_mover = MinMover()\n",
    "min_mover.set_movemap(mm)\n",
    "min_mover.score_function(scorefxn)\n",
    "min_mover.min_type(\"dfpmin\")\n",
    "print(min_mover)\n",
    "\n",
    "print(scorefxn(test_ras))\n",
    "min_mover.apply(test_ras)\n",
    "print(scorefxn(test_ras))\n",
    "```"
   ]
  },
  {
   "cell_type": "code",
   "execution_count": 14,
   "metadata": {},
   "outputs": [
    {
     "name": "stdout",
     "output_type": "stream",
     "text": [
      "\n",
      "-------------------------------\n",
      "  resnum     Type  TRUE/FALSE \n",
      "-------------------------------\n",
      " DEFAULT      BB     FALSE\n",
      " DEFAULT      SC      TRUE\n",
      " DEFAULT      NU     FALSE\n",
      " DEFAULT  BRANCH     FALSE\n",
      "-------------------------------\n",
      " jumpnum     Type  TRUE/FALSE \n",
      "-------------------------------\n",
      " DEFAULT     JUMP    FALSE\n",
      "-------------------------------\n",
      "  resnum  atomnum     Type  TRUE/FALSE \n",
      "-------------------------------\n",
      " DEFAULT               PHI    FALSE\n",
      " DEFAULT             THETA    FALSE\n",
      " DEFAULT                 D    FALSE\n",
      " DEFAULT               RB1    FALSE\n",
      " DEFAULT               RB2    FALSE\n",
      " DEFAULT               RB3    FALSE\n",
      " DEFAULT               RB4    FALSE\n",
      " DEFAULT               RB5    FALSE\n",
      " DEFAULT               RB6    FALSE\n",
      "-------------------------------\n",
      "\n",
      "\n",
      "Mover name: MinMover, Mover type: MinMover, Mover current tag:NoTag\n",
      "Minimization type:\tdfpmin\n",
      "Scorefunction:\t\tref2015\n",
      "Score tolerance:\t0.01\n",
      "Nb list:\t\tTrue\n",
      "Deriv check:\t\tFalse\n",
      "Movemap:\n",
      "\n",
      "-------------------------------\n",
      "  resnum     Type  TRUE/FALSE \n",
      "-------------------------------\n",
      " DEFAULT      BB     FALSE\n",
      " DEFAULT      SC      TRUE\n",
      " DEFAULT      NU     FALSE\n",
      " DEFAULT  BRANCH     FALSE\n",
      "-------------------------------\n",
      " jumpnum     Type  TRUE/FALSE \n",
      "-------------------------------\n",
      " DEFAULT     JUMP    FALSE\n",
      "-------------------------------\n",
      "  resnum  atomnum     Type  TRUE/FALSE \n",
      "-------------------------------\n",
      " DEFAULT               PHI    FALSE\n",
      " DEFAULT             THETA    FALSE\n",
      " DEFAULT                 D    FALSE\n",
      " DEFAULT               RB1    FALSE\n",
      " DEFAULT               RB2    FALSE\n",
      " DEFAULT               RB3    FALSE\n",
      " DEFAULT               RB4    FALSE\n",
      " DEFAULT               RB5    FALSE\n",
      " DEFAULT               RB6    FALSE\n",
      "-------------------------------\n",
      "\n",
      "\n",
      "1215.729069796814\n",
      "679.6108564932209\n"
     ]
    }
   ],
   "source": [
    "### BEGIN SOLUTION\n",
    "test_ras.assign(start_ras)\n",
    "mm = MoveMap()\n",
    "mm.set_chi(True)\n",
    "mm.set_bb(False)\n",
    "print(mm)\n",
    "\n",
    "min_mover = MinMover()\n",
    "min_mover.set_movemap(mm)\n",
    "min_mover.score_function(scorefxn)\n",
    "min_mover.min_type(\"dfpmin\")\n",
    "print(min_mover)\n",
    "\n",
    "print(scorefxn(test_ras))\n",
    "min_mover.apply(test_ras)\n",
    "print(scorefxn(test_ras))\n",
    "### END SOLUTION"
   ]
  },
  {
   "cell_type": "markdown",
   "metadata": {},
   "source": [
    "Again, reset the test pose to the starting configuration. Apply the packer and then minimize on the χ angles.\n",
    "\n",
    "__Question:__ Now what is the final score?\n",
    "\n",
    "```\n",
    "test_ras.assign(start_ras)\n",
    "print(scorefxn(ras))\n",
    "pack_mover.apply(ras)\n",
    "print(scorefxn(ras))\n",
    "min_mover.apply(ras)\n",
    "print(scorefxn(ras))\n",
    "```"
   ]
  },
  {
   "cell_type": "code",
   "execution_count": null,
   "metadata": {},
   "outputs": [],
   "source": [
    "### BEGIN SOLUTION\n",
    "test_ras.assign(start_ras)\n",
    "print(scorefxn(ras))\n",
    "pack_mover.apply(ras)\n",
    "print(scorefxn(ras))\n",
    "min_mover.apply(ras)\n",
    "print(scorefxn(ras))\n",
    "### END SOLUTION"
   ]
  },
  {
   "cell_type": "markdown",
   "metadata": {},
   "source": [
    "For fun, you might examine the individual residue energies to find the residues most responsible for the score changes. Typically, a small number of residues may make clashes that can be resolved using the χ angle minimization, which allows off-rotamer side-chain conformations."
   ]
  },
  {
   "cell_type": "code",
   "execution_count": null,
   "metadata": {},
   "outputs": [],
   "source": []
  },
  {
   "cell_type": "markdown",
   "metadata": {},
   "source": [
    "## Design\n",
    "\n",
    "\n",
    "Design calculations can be accomplished simply by packing side chains with a rotamer set that includes all amino acid types. That is, when the Monte Carlo routine swaps rotamers, it could replace the existing side chain with another conformation of the same residue or some conformation of a different residue type. Trial mutations are accepted or rejected with the Metropolis criterion, and the standard full-atom energy function is supplemented by a reference energy term, `ref`, which represents the relative energies of each residue type in an unfolded peptide."
   ]
  },
  {
   "cell_type": "markdown",
   "metadata": {},
   "source": [
    "Design operations are easiest to specify through a data file called a “resfile.” You can create a resfile for a given pdb file or pose using the following toolbox methods:\n",
    "\n",
    "\n",
    "```\n",
    "from pyrosetta.toolbox import generate_resfile_from_pdb\n",
    "generate_resfile_from_pdb(\"1YY8.clean.pdb\", \"1YY8.resfile\")\n",
    "from pyrosetta.toolbox import generate_resfile_from_pose\n",
    "generate_resfile_from_pose(pose, \"1YY8.resfile\")\n",
    "```"
   ]
  },
  {
   "cell_type": "code",
   "execution_count": 15,
   "metadata": {},
   "outputs": [
    {
     "name": "stdout",
     "output_type": "stream",
     "text": [
      "\u001b[0mcore.import_pose.import_pose: \u001b[0mFile '1YY8.clean.pdb' automatically determined to be of type PDB\n",
      "\u001b[0mcore.conformation.Conformation: \u001b[0m\u001b[1m[ WARNING ]\u001b[0m missing heavyatom:  CG  on residue ARG 18\n",
      "\u001b[0mcore.conformation.Conformation: \u001b[0m\u001b[1m[ WARNING ]\u001b[0m missing heavyatom:  CD  on residue ARG 18\n",
      "\u001b[0mcore.conformation.Conformation: \u001b[0m\u001b[1m[ WARNING ]\u001b[0m missing heavyatom:  NE  on residue ARG 18\n",
      "\u001b[0mcore.conformation.Conformation: \u001b[0m\u001b[1m[ WARNING ]\u001b[0m missing heavyatom:  CZ  on residue ARG 18\n",
      "\u001b[0mcore.conformation.Conformation: \u001b[0m\u001b[1m[ WARNING ]\u001b[0m missing heavyatom:  NH1 on residue ARG 18\n",
      "\u001b[0mcore.conformation.Conformation: \u001b[0m\u001b[1m[ WARNING ]\u001b[0m missing heavyatom:  NH2 on residue ARG 18\n",
      "\u001b[0mcore.conformation.Conformation: \u001b[0m\u001b[1m[ WARNING ]\u001b[0m missing heavyatom:  CG  on residue GLN:NtermProteinFull 214\n",
      "\u001b[0mcore.conformation.Conformation: \u001b[0m\u001b[1m[ WARNING ]\u001b[0m missing heavyatom:  CD  on residue GLN:NtermProteinFull 214\n",
      "\u001b[0mcore.conformation.Conformation: \u001b[0m\u001b[1m[ WARNING ]\u001b[0m missing heavyatom:  OE1 on residue GLN:NtermProteinFull 214\n",
      "\u001b[0mcore.conformation.Conformation: \u001b[0m\u001b[1m[ WARNING ]\u001b[0m missing heavyatom:  NE2 on residue GLN:NtermProteinFull 214\n",
      "\u001b[0mcore.conformation.Conformation: \u001b[0mFound disulfide between residues 23 88\n",
      "\u001b[0mcore.conformation.Conformation: \u001b[0mcurrent variant for 23 CYS\n",
      "\u001b[0mcore.conformation.Conformation: \u001b[0mcurrent variant for 88 CYS\n",
      "\u001b[0mcore.conformation.Conformation: \u001b[0mcurrent variant for 23 CYD\n",
      "\u001b[0mcore.conformation.Conformation: \u001b[0mcurrent variant for 88 CYD\n",
      "\u001b[0mcore.conformation.Conformation: \u001b[0mFound disulfide between residues 134 194\n",
      "\u001b[0mcore.conformation.Conformation: \u001b[0mcurrent variant for 134 CYS\n",
      "\u001b[0mcore.conformation.Conformation: \u001b[0mcurrent variant for 194 CYS\n",
      "\u001b[0mcore.conformation.Conformation: \u001b[0mcurrent variant for 134 CYD\n",
      "\u001b[0mcore.conformation.Conformation: \u001b[0mcurrent variant for 194 CYD\n",
      "\u001b[0mcore.conformation.Conformation: \u001b[0mFound disulfide between residues 235 308\n",
      "\u001b[0mcore.conformation.Conformation: \u001b[0mcurrent variant for 235 CYS\n",
      "\u001b[0mcore.conformation.Conformation: \u001b[0mcurrent variant for 308 CYS\n",
      "\u001b[0mcore.conformation.Conformation: \u001b[0mcurrent variant for 235 CYD\n",
      "\u001b[0mcore.conformation.Conformation: \u001b[0mcurrent variant for 308 CYD\n",
      "\u001b[0mcore.conformation.Conformation: \u001b[0mFound disulfide between residues 359 415\n",
      "\u001b[0mcore.conformation.Conformation: \u001b[0mcurrent variant for 359 CYS\n",
      "\u001b[0mcore.conformation.Conformation: \u001b[0mcurrent variant for 415 CYS\n",
      "\u001b[0mcore.conformation.Conformation: \u001b[0mcurrent variant for 359 CYD\n",
      "\u001b[0mcore.conformation.Conformation: \u001b[0mcurrent variant for 415 CYD\n",
      "\u001b[0mcore.pack.pack_missing_sidechains: \u001b[0mpacking residue number 18 because of missing atom number 6 atom name  CG\n",
      "\u001b[0mcore.pack.pack_missing_sidechains: \u001b[0mpacking residue number 214 because of missing atom number 6 atom name  CG\n",
      "\u001b[0mcore.pack.task: \u001b[0mPacker task: initialize from command line()\n",
      "\u001b[0mcore.scoring.ScoreFunctionFactory: \u001b[0mSCOREFUNCTION: \u001b[32mref2015\u001b[0m\n",
      "\u001b[0mcore.pack.pack_rotamers: \u001b[0mbuilt 43 rotamers at 2 positions.\n",
      "\u001b[0mcore.pack.interaction_graph.interaction_graph_factory: \u001b[0mInstantiating DensePDInteractionGraph\n"
     ]
    }
   ],
   "source": [
    "### BEGIN SOLUTION\n",
    "from pyrosetta.toolbox import generate_resfile_from_pdb\n",
    "generate_resfile_from_pdb(\"1YY8.clean.pdb\", \"1YY8.resfile\")\n",
    "from pyrosetta.toolbox import generate_resfile_from_pose\n",
    "generate_resfile_from_pose(pose, \"1YY8.resfile\")\n",
    "### END SOLUTION"
   ]
  },
  {
   "cell_type": "markdown",
   "metadata": {},
   "source": [
    "Inside the resfile you will see a list of all residues and their chain with NATRO next to that, indicating that the position is set to use the native rotamer. NATRO can be changed to any of the following with a text editor:\n",
    "\n",
    "```\n",
    "NATRO\t\tuse native amino acid and native rotamer (does not repack)\n",
    "NATAA\t\tuse native amino acid but allow repacking to other rotamers\n",
    "PIKAA ILV\tuse only the following amino acids (ILV) and allow repacking between them\n",
    "ALLAA\t\tuse all amino acids and all repacking\n",
    "```"
   ]
  },
  {
   "cell_type": "markdown",
   "metadata": {},
   "source": [
    "### In your terminal:\n",
    "\n",
    "\n",
    "Edit the resfile to force residue 49 to be glutamic acid (`49 A PIKAA E`) and ensure all other residues cannot be redesigned (change `NATAA` to `NATRO`). Save the file as `1YY8-K49E.resfile`."
   ]
  },
  {
   "cell_type": "markdown",
   "metadata": {},
   "source": [
    "### Back here in the notebook:\n",
    "\n",
    "Create a new task for design from the resfile:\n",
    "```\n",
    "from pyrosetta.rosetta.core.pack.task import TaskFactory, parse_resfile\n",
    "task_design = TaskFactory.create_packer_task(pose)\n",
    "parse_resfile(pose, task_design, \"1YY8-K49E.resfile\")\n",
    "```"
   ]
  },
  {
   "cell_type": "code",
   "execution_count": 16,
   "metadata": {},
   "outputs": [
    {
     "ename": "RuntimeError",
     "evalue": "\n\nFile: /Volumes/MacintoshHD3/benchmark/W.fujii/rosetta.Fujii/_commits_/main/source/src/core/pack/task/ResfileReader.cc:1487\n[ ERROR ] UtilityExitException\nERROR: Cannot open file 1YY8-K49E.resfile\n\n",
     "output_type": "error",
     "traceback": [
      "\u001b[0;31m---------------------------------------------------------------------------\u001b[0m",
      "\u001b[0;31mRuntimeError\u001b[0m                              Traceback (most recent call last)",
      "\u001b[0;32m<ipython-input-16-4e76c1650c44>\u001b[0m in \u001b[0;36m<module>\u001b[0;34m()\u001b[0m\n\u001b[1;32m      2\u001b[0m \u001b[0;32mfrom\u001b[0m \u001b[0mpyrosetta\u001b[0m\u001b[0;34m.\u001b[0m\u001b[0mrosetta\u001b[0m\u001b[0;34m.\u001b[0m\u001b[0mcore\u001b[0m\u001b[0;34m.\u001b[0m\u001b[0mpack\u001b[0m\u001b[0;34m.\u001b[0m\u001b[0mtask\u001b[0m \u001b[0;32mimport\u001b[0m \u001b[0mTaskFactory\u001b[0m\u001b[0;34m,\u001b[0m \u001b[0mparse_resfile\u001b[0m\u001b[0;34m\u001b[0m\u001b[0m\n\u001b[1;32m      3\u001b[0m \u001b[0mtask_design\u001b[0m \u001b[0;34m=\u001b[0m \u001b[0mTaskFactory\u001b[0m\u001b[0;34m.\u001b[0m\u001b[0mcreate_packer_task\u001b[0m\u001b[0;34m(\u001b[0m\u001b[0mpose\u001b[0m\u001b[0;34m)\u001b[0m\u001b[0;34m\u001b[0m\u001b[0m\n\u001b[0;32m----> 4\u001b[0;31m \u001b[0mparse_resfile\u001b[0m\u001b[0;34m(\u001b[0m\u001b[0mpose\u001b[0m\u001b[0;34m,\u001b[0m \u001b[0mtask_design\u001b[0m\u001b[0;34m,\u001b[0m \u001b[0;34m\"1YY8-K49E.resfile\"\u001b[0m\u001b[0;34m)\u001b[0m\u001b[0;34m\u001b[0m\u001b[0m\n\u001b[0m\u001b[1;32m      5\u001b[0m \u001b[0;31m### END SOLUTION\u001b[0m\u001b[0;34m\u001b[0m\u001b[0;34m\u001b[0m\u001b[0m\n",
      "\u001b[0;31mRuntimeError\u001b[0m: \n\nFile: /Volumes/MacintoshHD3/benchmark/W.fujii/rosetta.Fujii/_commits_/main/source/src/core/pack/task/ResfileReader.cc:1487\n[ ERROR ] UtilityExitException\nERROR: Cannot open file 1YY8-K49E.resfile\n\n"
     ]
    }
   ],
   "source": [
    "### BEGIN SOLUTION\n",
    "from pyrosetta.rosetta.core.pack.task import TaskFactory, parse_resfile\n",
    "task_design = TaskFactory.create_packer_task(pose)\n",
    "parse_resfile(pose, task_design, \"1YY8-K49E.resfile\")\n",
    "### END SOLUTION"
   ]
  },
  {
   "cell_type": "markdown",
   "metadata": {},
   "source": [
    "Score the original `start_pose` conformation from the 1YY8 pdb for reference. Create a new `PackResiduesMover` with the `task_design` and use it to mutate residue 49 to glutamic acid. Confirm you mutated the residue by printing residue 49.\n",
    "\n",
    "__Question:__ What is the predicted Δ*G* of the mutation? Is this a stabilizing mutation?\n",
    "\n",
    "```\n",
    "pose.assign(start_pose)\n",
    "pack_mover = PackRotamersMover(scorefxn, task_design)\n",
    "print(pose.residue(49))\n",
    "pack_mover.apply(pose)\n",
    "print(pose.residue(49))\n",
    "print(scorefxn(pose) - scorefxn(start_pose))\n",
    "```"
   ]
  },
  {
   "cell_type": "code",
   "execution_count": null,
   "metadata": {
    "scrolled": true
   },
   "outputs": [
    {
     "name": "stdout",
     "output_type": "stream",
     "text": [
      "Residue 49: LYS (LYS, K):\n",
      "Base: LYS\n",
      " Properties: POLYMER PROTEIN CANONICAL_AA POLAR CHARGED POSITIVE_CHARGE METALBINDING SIDECHAIN_AMINE ALPHA_AA L_AA\n",
      " Variant types:\n",
      " Main-chain atoms:  N    CA   C  \n",
      " Backbone atoms:    N    CA   C    O    H    HA \n",
      " Side-chain atoms:  CB   CG   CD   CE   NZ  1HB  2HB  1HG  2HG  1HD  2HD  1HE  2HE  1HZ  2HZ  3HZ \n",
      "Atom Coordinates:\n",
      "   N  : 32.097, 27.128, 7.923\n",
      "   CA : 31.663, 28.176, 7.007\n",
      "   C  : 30.939, 27.471, 5.878\n",
      "   O  : 31.191, 26.303, 5.597\n",
      "   CB : 32.852, 28.971, 6.449\n",
      "   CG : 33.743, 28.165, 5.512\n",
      "   CD : 35.058, 28.866, 5.167\n",
      "   CE : 35.795, 28.002, 4.134\n",
      "   NZ : 37.148, 28.45, 3.923\n",
      "   H  : 32.6902, 26.3872, 7.57742\n",
      "   HA : 31.0202, 28.8679, 7.55234\n",
      "  1HB : 32.4846, 29.8416, 5.90508\n",
      "  2HB : 33.4654, 29.335, 7.27346\n",
      "  1HG : 33.9859, 27.2076, 5.97453\n",
      "  2HG : 33.2119, 27.9736, 4.58014\n",
      "  1HD : 34.8472, 29.8571, 4.76287\n",
      "  2HD : 35.6568, 28.9812, 6.07042\n",
      "  1HE : 35.8169, 26.9678, 4.47438\n",
      "  2HE : 35.2623, 28.0373, 3.18377\n",
      "  1HZ : 37.5965, 27.8576, 3.23856\n",
      "  2HZ : 37.1393, 29.4035, 3.58859\n",
      "  3HZ : 37.6581, 28.4036, 4.79339\n",
      "Mirrored relative to coordinates in ResidueType: FALSE\n",
      "\n",
      "\u001b[0mcore.pack.pack_rotamers: \u001b[0mbuilt 100552 rotamers at 434 positions.\n"
     ]
    }
   ],
   "source": [
    "### BEGIN SOLUTION\n",
    "pose.assign(start_pose)\n",
    "pack_mover = PackRotamersMover(scorefxn, task_design)\n",
    "print(pose.residue(49))\n",
    "pack_mover.apply(pose)\n",
    "print(pose.residue(49))\n",
    "print(scorefxn(pose) - scorefxn(start_pose))\n",
    "### END SOLUTION"
   ]
  },
  {
   "cell_type": "markdown",
   "metadata": {},
   "source": [
    "Note the residue reference energy term (`ref`) in the scoring function.\n",
    "\n",
    "__Question:__ What is this value before and after you mutated the residue? What does this energy represent?"
   ]
  },
  {
   "cell_type": "code",
   "execution_count": null,
   "metadata": {},
   "outputs": [],
   "source": []
  },
  {
   "cell_type": "markdown",
   "metadata": {},
   "source": [
    "### In your terminal:\n",
    "\n",
    "Create a new resfile that allows residue 49 to be designed freely (`49 A ALLAA`) and call it `1YY8-K49All.resfile`."
   ]
  },
  {
   "cell_type": "markdown",
   "metadata": {},
   "source": [
    "### Back here in the notebook:\n",
    "\n",
    "Create a new `PackerTask` and `PackRotamersMover` and apply it.\n",
    "\n",
    "__Question:__ What residue does Rosetta choose? Why?\n",
    "\n",
    "```\n",
    "pose.assign(start_pose)\n",
    "task_design_all = TaskFactory.create_packer_task(pose)\n",
    "parse_resfile(pose, task_design_all, \"1YY8-K49All.resfile\")\n",
    "pack_mover_all = PackRotamersMover(scorefxn, task_design_all)\n",
    "pack_mover_all.apply(pose)\n",
    "print(pose.residue(49))\n",
    "```"
   ]
  },
  {
   "cell_type": "code",
   "execution_count": null,
   "metadata": {
    "scrolled": true
   },
   "outputs": [],
   "source": []
  },
  {
   "cell_type": "markdown",
   "metadata": {},
   "source": [
    "Create your own resfile that will restrict residue 49 to only negatively charged residues using the resfile line `49 A PIKAA DE` and re-apply the design mover.\n",
    "\n",
    "__Question:__ Now what residue is chosen? What is the new residue energy, and why (physically) is it less favorable than the last design?"
   ]
  },
  {
   "cell_type": "code",
   "execution_count": null,
   "metadata": {},
   "outputs": [],
   "source": []
  },
  {
   "cell_type": "markdown",
   "metadata": {},
   "source": [
    "Let’s try to make this design more favorable. Select several surrounding residues for design, and set them also to enable mutations to any residue. Call the design mover again.\n",
    "\n",
    "__Question:__ Now what do you find?"
   ]
  },
  {
   "cell_type": "code",
   "execution_count": null,
   "metadata": {},
   "outputs": [],
   "source": []
  },
  {
   "cell_type": "markdown",
   "metadata": {},
   "source": [
    "It should be noted that PyRosetta includes a handy toolbox method mutate_residue() that will change a specified residue in a given pose into another. However, the rotamer of this new residue will not be optimized. For example:\n",
    "\n",
    "```\n",
    "from pyrosetta.toolbox import mutate_residue\n",
    "pose.assign(start_pose)\n",
    "print(pose.residue(49))\n",
    "mutate_residue(pose, 49, 'E')\n",
    "print(pose.residue(49))\n",
    "```"
   ]
  },
  {
   "cell_type": "code",
   "execution_count": null,
   "metadata": {},
   "outputs": [],
   "source": []
  },
  {
   "cell_type": "markdown",
   "metadata": {},
   "source": [
    "### Programming Exercises\n",
    "\n",
    "\n",
    "- *Refinement and discrimination*. Download the “single misfold” decoy set from the Decoys ’R Us repository at dd.compbio.washington.edu/ddownload.cgi?misfold. (Documentation for this project is at dd.compbio.washington.edu.) This repository has a single “correct” and “incorrect” predicted structure for several proteins. For this exercise, analyze pdbs 2CI2 and 2CRO; each has two “incorrect” structures offered. (Technical note: These decoys have an empty occupancy field in the PDB *ATOM* records; a value of 1 needs to be added before Rosetta will load these structures.)\n",
    "\n",
    "    Write a program that will calculate and output the score for each decoy (i) as is from the PDB file, (ii) after packing only, (iii) after minimization only, and (iv) after packing and minimizing. For each of the four cases, compare the scores of the “correct” structure with those of the “incorrect” structure. Which schemes successfully discriminate the correct structures?\n",
    "\n",
    "\n",
    "- Write a refinement protocol that will iterate between side-chain packing, small and shear moves, and minimization. Where is the best place to position the Monte Carlo acceptance test? Test your protocol by making 10 independently-refined structures for the correct and incorrect decoys of 2CRO from the Decoys ’R Us single misfold set. Is this protocol able to discriminate the correct decoy? Submit your code.\n",
    "\n",
    "\n",
    "- HIV-1 protease is a major drug target for antiretroviral therapies. Protease inhibitors are designed from substrate peptide mimics. We will attempt to take a natural substrate peptide of HIV-1 protease and design it for improved binding — potentially to serve as a good template for drug design. Use PDB file 1KJG for the following analysis.\n",
    "    \n",
    "    \n",
    "    - Turn on side-chain packing for the protease active site (residues 8, 23, 25, 29, 30, 32, 45, 47, 50, 53, 82, and 84 of both chains A and B) and for the peptide (residues 2–9 on chain P; all of these numbers follow the PDB numbering).\n",
    "\n",
    "\n",
    "    - Repack the above side chains and then energy minimize those same side chains with the backbone fixed. Generate 10 decoys and record the energies for each decoy. This will represent the reference state: the wild-type peptide bound to the protease.\n",
    "\n",
    "\n",
    "    - For residue 2 of the peptide (chain P), allow repacking to any of the 20 amino acid residues, while leaving the packing and side-chain minimization the same as in step b. Generate 10 decoys and record the energies. These will represent single mutants at that residue position.\n",
    "\n",
    "\n",
    "    - Repeat step c for each of the other 8 residues in the substrate peptide.\n",
    "    \n",
    "    \n",
    "    - Take the lowest energy for each mutation position and compare it to the lowest energy for the wild type. Do single mutants at any of these positions improve the energy over the wild type? Which ones? By how much? Which energy components are mostly responsible?\n",
    "    \n",
    "\n",
    "    - Which peptide residue positions are easiest to improve? Which positions are the hardest?\n",
    "\n",
    "\n",
    "    - Are there any other trends? Hydrophobic vs. polar, bulky residues vs. small residues, etc.?\n",
    "\n",
    "\n",
    "    - Altman et al. (Proteins 2008) found, using their own computational design algorithm, that the most favorable sequences were a triple mutant E3D/T4I/V6L, a single mutant T4V, and a single mutant E3Q. How do their results compare with yours?\n",
    "\n",
    "\n",
    "    - Natural substrates are often sub-optimal binders. Why would this be advantageous?\n",
    "\n",
    "\n",
    "- Effect of backbone conformation on design. HIV-1 protease is promiscuous, meaning it can cleave a wide range of peptides beyond the ten natural substrates of the virus. Let’s examine the preferences of the enzyme through Rosetta design calculations.\n",
    "\n",
    "    - Download HIV-1 protease in complex with CA-P2 peptide (1F7A). Select the eight peptide residues for unrestricted design and let Rosetta redesign the substrate sequence. What is the new sequence and how does it compare to the original? What percent of the original sequence was optimal for its structure?\n",
    "\n",
    "\n",
    "    - Download HIV-1 protease in complex with RT-RH peptide (1KJG). (Note that the enzyme is the same here, but it is crystallized with a different substrate.) Again, design the eight substrate residues with Rosetta. What percent of this substrate sequence is optimal for this crystal structure? ____%\n",
    "\n",
    "\n",
    "    - How do the designed sequences of (a) and (b) compare? Why should they be the same? Why would they not be the same? What are the implications for the field of computational protein design?\n",
    "\n",
    "\n",
    "- Write a program which iterates between design of all residues of a protein and refinement via small, shear, and minimization moves.\n",
    "\n",
    "\n",
    "### Thought Question\n",
    "\n",
    "What is the thermodynamic meaning of the ref energy term, and what does it correspond to physically?\n",
    "During evolution, the genome sequence may mutate to cause protein sequence changes. Alternately, one could consider the difference in evolutionary propensities for each residue type. How could you derive reference energies from sequence data, and what would that mean? \n",
    "\n",
    "\n",
    "How do Kuhlman & Baker fit the reference energies in their 2000 PNAS paper?\n",
    "\n",
    "\n",
    "### References\n",
    "\n",
    "\n",
    "- S. C. Lovell et al., “The penultimate rotamer library,” Proteins 40, 389-408 (2000).\n",
    "\n",
    "\n",
    "- R. L. Dunbrack & F. E. Cohen, “Bayesian statistical analysis of protein side-chain rotamer preferences,” Protein Sci. 6, 1661-1681 (1997)"
   ]
  },
  {
   "cell_type": "code",
   "execution_count": null,
   "metadata": {},
   "outputs": [],
   "source": []
  }
 ],
 "metadata": {
  "anaconda-cloud": {},
  "kernelspec": {
   "display_name": "Python 3",
   "language": "python",
   "name": "python3"
  },
  "language_info": {
   "codemirror_mode": {
    "name": "ipython",
    "version": 3
   },
   "file_extension": ".py",
   "mimetype": "text/x-python",
   "name": "python",
   "nbconvert_exporter": "python",
   "pygments_lexer": "ipython3",
   "version": "3.6.0"
  },
  "toc": {
   "base_numbering": 1,
   "nav_menu": {},
   "number_sections": true,
   "sideBar": true,
   "skip_h1_title": false,
   "title_cell": "Table of Contents",
   "title_sidebar": "Contents",
   "toc_cell": false,
   "toc_position": {},
   "toc_section_display": true,
   "toc_window_display": true
  }
 },
 "nbformat": 4,
 "nbformat_minor": 1
}

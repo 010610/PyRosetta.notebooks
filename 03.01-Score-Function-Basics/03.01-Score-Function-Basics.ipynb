{
 "cells": [
  {
   "cell_type": "markdown",
   "metadata": {
    "nbgrader": {
     "grade": false,
     "grade_id": "cell-eeaeae18e9d996eb",
     "locked": true,
     "schema_version": 1,
     "solution": false
    }
   },
   "source": [
    "# Workshop 3: Working with the Rosetta Energy Function\n",
    "In this module, we will explore the PyRosetta score function interface. You will learn to inspect energies of a biomolecule at the whole protein, per-residue, and per-atom level. Finally, you will gain practice applying the energies to answering biological questions involving proteins. For these exercises, we will use the protein Ras (PDB 6q21). Either make sure you have the PDB file \"6Q21_A.pdb\" in your current directory, or if you have an Internet connection, load the pdb into a pose called `ras` with the pyrosetta.pose_from_pdb method. "
   ]
  },
  {
   "cell_type": "code",
   "execution_count": 1,
   "metadata": {
    "nbgrader": {
     "grade": true,
     "grade_id": "cell-be26a363af7b009c",
     "locked": false,
     "points": 0,
     "schema_version": 1,
     "solution": true
    }
   },
   "outputs": [
    {
     "name": "stdout",
     "output_type": "stream",
     "text": [
      "\u001b[0mcore.init: \u001b[0mChecking for fconfig files in pwd and ./rosetta/flags\n",
      "\u001b[0mcore.init: \u001b[0mRosetta version: PyRosetta4.Release.python36.mac r208 2019.04+release.fd666910a5e fd666910a5edac957383b32b3b4c9d10020f34c1 http://www.pyrosetta.org 2019-01-22T15:55:37\n",
      "\u001b[0mcore.init: \u001b[0mcommand: PyRosetta -ex1 -ex2aro -database /Users/kathyle/Computational Protein Prediction and Design/PyRosetta4.Release.python36.mac.release-208/pyrosetta/database\n",
      "\u001b[0mcore.init: \u001b[0m'RNG device' seed mode, using '/dev/urandom', seed=-331629677 seed_offset=0 real_seed=-331629677\n",
      "\u001b[0mcore.init.random: \u001b[0mRandomGenerator:init: Normal mode, seed=-331629677 RG_type=mt19937\n",
      "\u001b[0mcore.chemical.GlobalResidueTypeSet: \u001b[0mFinished initializing fa_standard residue type set.  Created 696 residue types\n",
      "\u001b[0mcore.chemical.GlobalResidueTypeSet: \u001b[0mTotal time to initialize 1.22777 seconds.\n",
      "\u001b[0mcore.import_pose.import_pose: \u001b[0mFile '6Q21_A.pdb' automatically determined to be of type PDB\n"
     ]
    }
   ],
   "source": [
    "import pyrosetta\n",
    "pyrosetta.init()\n",
    "\n",
    "### BEGIN SOLUTION\n",
    "ras = pyrosetta.pose_from_pdb(\"6Q21_A.pdb\")\n",
    "### END SOLUTION"
   ]
  },
  {
   "cell_type": "markdown",
   "metadata": {
    "nbgrader": {
     "grade": false,
     "grade_id": "cell-ed57c5745ba69a27",
     "locked": true,
     "schema_version": 1,
     "solution": false
    }
   },
   "source": [
    "## Score Function Basics\n",
    "To score a protein, you will begin by defining a score function. The function `get_fa_scorefxn()` in the `pyrosetta.teaching` namespace will return the default all-atom energy function. Currently, the default is the `ref2015` energy function.\n",
    "\n",
    "Create a PyRosetta `ScoreFunction` using:\n",
    "```\n",
    "sfxn = get_fa_scorefxn()\n",
    "```"
   ]
  },
  {
   "cell_type": "code",
   "execution_count": 3,
   "metadata": {
    "nbgrader": {
     "grade": true,
     "grade_id": "cell-a8401defb7b4a814",
     "locked": false,
     "points": 0,
     "schema_version": 1,
     "solution": true
    }
   },
   "outputs": [
    {
     "name": "stdout",
     "output_type": "stream",
     "text": [
      "\u001b[0mcore.scoring.ScoreFunctionFactory: \u001b[0mSCOREFUNCTION: \u001b[32mref2015\u001b[0m\n",
      "\u001b[0mcore.scoring.etable: \u001b[0mStarting energy table calculation\n",
      "\u001b[0mcore.scoring.etable: \u001b[0msmooth_etable: changing atr/rep split to bottom of energy well\n",
      "\u001b[0mcore.scoring.etable: \u001b[0msmooth_etable: spline smoothing lj etables (maxdis = 6)\n",
      "\u001b[0mcore.scoring.etable: \u001b[0msmooth_etable: spline smoothing solvation etables (max_dis = 6)\n"
     ]
    },
    {
     "name": "stderr",
     "output_type": "stream",
     "text": [
      "/Users/kathyle/Computational Protein Prediction and Design/PyRosetta4.Release.python36.mac.release-208/pyrosetta/teaching.py:13: UserWarning: Import of 'rosetta' as a top-level module is deprecated and may be removed in 2018, import via 'pyrosetta.rosetta'.\n",
      "  from rosetta.core.scoring import *\n"
     ]
    },
    {
     "name": "stdout",
     "output_type": "stream",
     "text": [
      "\u001b[0mcore.scoring.etable: \u001b[0mFinished calculating energy tables.\n",
      "\u001b[0mbasic.io.database: \u001b[0mDatabase file opened: scoring/score_functions/hbonds/ref2015_params/HBPoly1D.csv\n",
      "\u001b[0mbasic.io.database: \u001b[0mDatabase file opened: scoring/score_functions/hbonds/ref2015_params/HBFadeIntervals.csv\n",
      "\u001b[0mbasic.io.database: \u001b[0mDatabase file opened: scoring/score_functions/hbonds/ref2015_params/HBEval.csv\n",
      "\u001b[0mbasic.io.database: \u001b[0mDatabase file opened: scoring/score_functions/hbonds/ref2015_params/DonStrength.csv\n",
      "\u001b[0mbasic.io.database: \u001b[0mDatabase file opened: scoring/score_functions/hbonds/ref2015_params/AccStrength.csv\n",
      "\u001b[0mbasic.io.database: \u001b[0mDatabase file opened: scoring/score_functions/rama/fd/all.ramaProb\n",
      "\u001b[0mbasic.io.database: \u001b[0mDatabase file opened: scoring/score_functions/rama/fd/prepro.ramaProb\n",
      "\u001b[0mbasic.io.database: \u001b[0mDatabase file opened: scoring/score_functions/omega/omega_ppdep.all.txt\n",
      "\u001b[0mbasic.io.database: \u001b[0mDatabase file opened: scoring/score_functions/omega/omega_ppdep.gly.txt\n",
      "\u001b[0mbasic.io.database: \u001b[0mDatabase file opened: scoring/score_functions/omega/omega_ppdep.pro.txt\n",
      "\u001b[0mbasic.io.database: \u001b[0mDatabase file opened: scoring/score_functions/omega/omega_ppdep.valile.txt\n",
      "\u001b[0mbasic.io.database: \u001b[0mDatabase file opened: scoring/score_functions/P_AA_pp/P_AA\n",
      "\u001b[0mbasic.io.database: \u001b[0mDatabase file opened: scoring/score_functions/P_AA_pp/P_AA_n\n",
      "\u001b[0mcore.scoring.P_AA: \u001b[0mshapovalov_lib::shap_p_aa_pp_smooth_level of 1( aka low_smooth ) got activated.\n",
      "\u001b[0mbasic.io.database: \u001b[0mDatabase file opened: scoring/score_functions/P_AA_pp/shapovalov/10deg/kappa131/a20.prop\n"
     ]
    }
   ],
   "source": [
    "from pyrosetta.teaching import *\n",
    "\n",
    "### BEGIN SOLUTION\n",
    "sfxn = get_fa_scorefxn()\n",
    "### END SOLUTION"
   ]
  },
  {
   "cell_type": "markdown",
   "metadata": {
    "nbgrader": {
     "grade": false,
     "grade_id": "cell-67b6769efaa385af",
     "locked": true,
     "schema_version": 1,
     "solution": false
    }
   },
   "source": [
    "You can see the terms, weights, and energy method options by printing the score function:\n",
    "\n",
    "```\n",
    "print(sfxn)\n",
    "```"
   ]
  },
  {
   "cell_type": "code",
   "execution_count": 4,
   "metadata": {
    "nbgrader": {
     "grade": true,
     "grade_id": "cell-d9875a1b051c6971",
     "locked": false,
     "points": 0,
     "schema_version": 1,
     "solution": true
    }
   },
   "outputs": [
    {
     "name": "stdout",
     "output_type": "stream",
     "text": [
      "ScoreFunction::show():\n",
      "weights: (fa_atr 1) (fa_rep 0.55) (fa_sol 1) (fa_intra_rep 0.005) (fa_intra_sol_xover4 1) (lk_ball_wtd 1) (fa_elec 1) (pro_close 1.25) (hbond_sr_bb 1) (hbond_lr_bb 1) (hbond_bb_sc 1) (hbond_sc 1) (dslf_fa13 1.25) (omega 0.4) (fa_dun 0.7) (p_aa_pp 0.6) (yhh_planarity 0.625) (ref 1) (rama_prepro 0.45)\n",
      "energy_method_options: EnergyMethodOptions::show: aa_composition_setup_files: \n",
      "EnergyMethodOptions::show: mhc_epitope_setup_files: \n",
      "EnergyMethodOptions::show: netcharge_setup_files: \n",
      "EnergyMethodOptions::show: aspartimide_penalty_value: 25\n",
      "EnergyMethodOptions::show: etable_type: FA_STANDARD_DEFAULT\n",
      "analytic_etable_evaluation: 1\n",
      "EnergyMethodOptions::show: method_weights: ref 1.32468 3.25479 -2.14574 -2.72453 1.21829 0.79816 -0.30065 2.30374 -0.71458 1.66147 1.65735 -1.34026 -1.64321 -1.45095 -0.09474 -0.28969 1.15175 2.64269 2.26099 0.58223\n",
      "EnergyMethodOptions::show: method_weights: free_res\n",
      "EnergyMethodOptions::show: unfolded_energies_type: UNFOLDED_SCORE12\n",
      "EnergyMethodOptions::show: split_unfolded_label_type: SPLIT_UNFOLDED_MM\n",
      "EnergyMethodOptions::show: split_unfolded_value_type: SPLIT_UNFOLDED_BOLTZ\n",
      "EnergyMethodOptions::show: atom_vdw_atom_type_set_name: centroid\n",
      "EnergyMethodOptions::show: exclude_protein_protein_fa_elec: false\n",
      "EnergyMethodOptions::show: exclude_RNA_RNA_fa_elec: false\n",
      "EnergyMethodOptions::show: exclude_RNA_protein_fa_elec: false\n",
      "EnergyMethodOptions::show: exclude_monomer_fa_elec: false\n",
      "EnergyMethodOptions::show: elec_max_dis: 5.5\n",
      "EnergyMethodOptions::show: elec_min_dis: 1.6\n",
      "EnergyMethodOptions::show: elec_die: 10\n",
      "EnergyMethodOptions::show: elec_no_dis_dep_die: false\n",
      "EnergyMethodOptions::show: elec_sigmoidal_die: true\n",
      "EnergyMethodOptions::show: elec_sigmoidal_D: 80\n",
      "EnergyMethodOptions::show: elec_sigmoidal_D0: 6\n",
      "EnergyMethodOptions::show: elec_sigmoidal_S: 0.4\n",
      "EnergyMethodOptions::show: smooth_fa_elec: true\n",
      "EnergyMethodOptions::show: grpelec_fade_type: false\n",
      "EnergyMethodOptions::show: grpelec_fade_param1: 1\n",
      "EnergyMethodOptions::show: grpelec_fade_param2: 1\n",
      "EnergyMethodOptions::show: grpelec_fade_hbond: 0\n",
      "EnergyMethodOptions::show: grp_cpfxn: 1\n",
      "EnergyMethodOptions::show: elec_group_file: /scoring/score_functions/elec_group_def.dat\n",
      "EnergyMethodOptions::show: grpelec_context_dependent: 0\n",
      "EnergyMethodOptions::show: use_polarization: true\n",
      "EnergyMethodOptions::show: use_gen_kirkwood: true\n",
      "EnergyMethodOptions::show: protein_dielectric: 1\n",
      "EnergyMethodOptions::show: water_dielectric: 78.3\n",
      "EnergyMethodOptions::show: exclude_DNA_DNA: true\n",
      "EnergyMethodOptions::show: exclude_intra_res_protein: false\n",
      "EnergyMethodOptions::show: count_pair_hybrid: false\n",
      "EnergyMethodOptions::show: put_intra_into_total: false\n",
      "EnergyMethodOptions::show: geom_sol_interres_path_distance_cutoff: false\n",
      "EnergyMethodOptions::show: geom_sol_intrares_path_distance_cutoff: true\n",
      "EnergyMethodOptions::show: eval_intrares_elec_ST_only: false\n",
      "EnergyMethodOptions::show: envsmooth_zero_negatives: false\n",
      "EnergyMethodOptions::show: cst_max_seq_sep: 18446744073709551615\n",
      "EnergyMethodOptions::show: pb_bound_tag: bound\n",
      "EnergyMethodOptions::show: pb_unbound_tag: unbound\n",
      "EnergyMethodOptions::show: ordered_wat_penalty: 1.221\n",
      "EnergyMethodOptions::show: ordered_pt_wat_penalty: 2.709\n",
      "EnergyMethodOptions::show: voids_penalty_energy_containing_cones_cutoff_:6\n",
      "EnergyMethodOptions::show: voids_penalty_energy_cone_distance_cutoff_: 8\n",
      "EnergyMethodOptions::show: voids_penalty_energy_cone_dotproduct_cutoff_: 0.1\n",
      "EnergyMethodOptions::show: voids_penalty_energy_voxel_grid_padding_: 1\n",
      "EnergyMethodOptions::show: voids_penalty_energy_voxel_size_: 0.5\n",
      "EnergyMethodOptions::show: voids_penalty_energy_disabled_except_during_packing_: TRUE\n",
      "EnergyMethodOptions::show: hbnet_bonus_ramping_function_: \"quadratic\"\n",
      "EnergyMethodOptions::show: hbnet_max_network_size_: 0\n",
      "EnergyMethodOptions::show: approximate_buried_unsat_penalty_hbond_energy_threshold_: -0.25\n",
      "EnergyMethodOptions::show: approximate_buried_unsat_penalty_burial_atomic_depth_: 4.5\n",
      "EnergyMethodOptions::show: approximate_buried_unsat_penalty_burial_probe_radius_: 2.3\n",
      "EnergyMethodOptions::show: approximate_buried_unsat_penalty_burial_resolution_: 0.5\n",
      "EnergyMethodOptions::show: approximate_buried_unsat_penalty_oversat_penalty_: 1\n",
      "EnergyMethodOptions::show: approximate_buried_unsat_penalty_assume_const_backbone_:1\n",
      "EnergyMethodOptions::show: bond_angle_central_atoms_to_score:\n",
      "EnergyMethodOptions::show: bond_angle_residue_type_param_set: none\n",
      "HBondOptions::show: exclude_DNA_DNA: true\n",
      "HBondOptions::show: exclude_intra_res_protein_: false\n",
      "HBondOptions::show: exclude_intra_res_RNA_: false\n",
      "HBondOptions::show: put_intra_into_total_: false\n",
      "HBondOptions::show: exclude_self_hbonds: true\n",
      "HBondOptions::show: use_hb_env_dep: false\n",
      "HBondOptions::show: use_hb_env_dep_DNA: true\n",
      "HBondOptions::show: smooth_hb_env_dep: true\n",
      "HBondOptions::show: bb_donor_acceptor_check: true\n",
      "HBondOptions::show: decompose_bb_hb_into_pair_energies: false\n",
      "HBondOptions::show: params_database_tag_: ref2015_params\n",
      "HBondOptions::show: use_sp2_chi_penalty_: true\n",
      "HBondOptions::show: sp2_BAH180_rise_: 0.75\n",
      "HBondOptions::show: sp2_outer_width_: 0.357\n",
      "HBondOptions::show: measure_sp3acc_BAH_from_hvy_: true\n",
      "HBondOptions::show: fade_energy_: 1\n",
      "HBondOptions::show: exclude_ether_oxygens_: 0\n",
      "HBondOptions::show: Mbhbond: false \n",
      "HbondOptions::show: mphbond: false\n",
      "HBondOptions::show: hbond_energy_shift: 0\n",
      "HBondOptions::show: water_hybrid_sf: false\n",
      "RNA_EnergyMethodOptions::show: syn_G_potential_bonus: 0\n",
      "RNA_EnergyMethodOptions::show: torsion_potential: ps_04282011\n",
      "RNA_EnergyMethodOptions::show: suiteness_bonus: Richardson\n",
      "RNA_EnergyMethodOptions::show: rna_base_pair_xy_filename: scoring/rna/rna_base_pair_xy.dat\n",
      "FreeDOF_Options::show: free_suite_bonus: -1\n",
      "FreeDOF_Options::show: free_2HOprime_bonus: -0.5\n",
      "FreeDOF_Options::show: free_sugar_bonus: -1\n",
      "FreeDOF_Options::show: pack_phosphate_penalty: 0.25\n",
      "FreeDOF_Options::show: free_side_chain_bonus: -0.5\n",
      "\n",
      "\n"
     ]
    }
   ],
   "source": [
    "### BEGIN SOLUTION\n",
    "print(sfxn)\n",
    "### END SOLUTION"
   ]
  },
  {
   "cell_type": "markdown",
   "metadata": {
    "nbgrader": {
     "grade": false,
     "grade_id": "cell-5714b7bc994c3fe3",
     "locked": true,
     "schema_version": 1,
     "solution": false
    }
   },
   "source": [
    "**Practice:** List the terms in the energy function and their relative weights\n",
    "\n",
    "**Hint:** look at the top line that starts with 'weights'"
   ]
  },
  {
   "cell_type": "code",
   "execution_count": 5,
   "metadata": {
    "nbgrader": {
     "grade": true,
     "grade_id": "cell-22ba33466d6eb287",
     "locked": false,
     "points": 0,
     "schema_version": 1,
     "solution": true
    }
   },
   "outputs": [],
   "source": [
    "### BEGIN SOLUTION\n",
    "\n",
    "## Your Response Here\n",
    "# (fa_atr 1) (fa_rep 0.55) (fa_sol 1) (fa_intra_rep 0.005)\n",
    "# (fa_intra_sol_xover4 1) (lk_ball_wtd 1) (fa_elec 1)\n",
    "# (pro_close 1.25) (hbond_sr_bb 1) (hbond_lr_bb 1)\n",
    "# (hbond_bb_sc 1) (hbond_sc 1) (dslf_fa13 1.25) (omega 0.4)\n",
    "# (fa_dun 0.7) (p_aa_pp 0.6) (yhh_planarity 0.625) (ref 1)\n",
    "# (rama_prepro 0.45)\n",
    "\n",
    "### END SOLUTION"
   ]
  },
  {
   "cell_type": "markdown",
   "metadata": {
    "nbgrader": {
     "grade": false,
     "grade_id": "cell-9c06a7c877210a94",
     "locked": true,
     "schema_version": 1,
     "solution": false
    }
   },
   "source": [
    "You can also create a custom energy function that includes select terms. Here, we will make an example energy function with only the van der Waals attractive and repulsive terms, both with weights of 1. \n",
    "\n",
    "Here, we need to use the `set_weight()`. Make a new `ScoreFunction` and set the weights accordingly. This is how we set the full-atom attractive (`fa_atr`) and the full-atom repulsive (`fa_rep`) terms.\n",
    "\n",
    "```\n",
    "sfxn2 = ScoreFunction()\n",
    "sfxn2.set_weight(fa_atr, 1.0)\n",
    "sfxn2.set_weight(fa_rep, 1.0)\n",
    "```"
   ]
  },
  {
   "cell_type": "code",
   "execution_count": 6,
   "metadata": {
    "nbgrader": {
     "grade": true,
     "grade_id": "cell-c4c5c8d7de03487d",
     "locked": false,
     "points": 0,
     "schema_version": 1,
     "solution": true
    }
   },
   "outputs": [],
   "source": [
    "### BEGIN SOLUTION\n",
    "sfxn2 = ScoreFunction()\n",
    "sfxn2.set_weight(fa_atr, 1.0)\n",
    "sfxn2.set_weight(fa_rep, 1.0)\n",
    "### END SOLUTION"
   ]
  },
  {
   "cell_type": "markdown",
   "metadata": {
    "nbgrader": {
     "grade": false,
     "grade_id": "cell-951446e04ce45937",
     "locked": true,
     "schema_version": 1,
     "solution": false
    }
   },
   "source": [
    "Lets compare the score of `ras` using the full-atom `ScoreFunction` versus the `ScoreFunction` we made above using only the attractive and repulsive terms.\n",
    "\n",
    "First, print the total energy of `ras` using `print(sfxn(ras))`\n",
    "Then, print the attractive and repulsive energy only of `ras` using `print(sfxn2(ras))`"
   ]
  },
  {
   "cell_type": "code",
   "execution_count": 6,
   "metadata": {
    "nbgrader": {
     "grade": true,
     "grade_id": "cell-7013e0c60ab37e65",
     "locked": false,
     "points": 0,
     "schema_version": 1,
     "solution": true
    }
   },
   "outputs": [
    {
     "name": "stdout",
     "output_type": "stream",
     "text": [
      "\u001b[0mbasic.io.database: \u001b[0mDatabase file opened: scoring/score_functions/elec_cp_reps.dat\n",
      "\u001b[0mcore.scoring.elec.util: \u001b[0mRead 40 countpair representative atoms\n",
      "\u001b[0mcore.pack.dunbrack.RotamerLibrary: \u001b[0mshapovalov_lib_fixes_enable option is true.\n",
      "\u001b[0mcore.pack.dunbrack.RotamerLibrary: \u001b[0mshapovalov_lib::shap_dun10_smooth_level of 1( aka lowest_smooth ) got activated.\n",
      "\u001b[0mcore.pack.dunbrack.RotamerLibrary: \u001b[0mBinary rotamer library selected: /Users/kathyle/Computational Protein Prediction and Design/PyRosetta4.Release.python36.mac.release-208/pyrosetta/database/rotamer/shapovalov/StpDwn_0-0-0/Dunbrack10.lib.bin\n",
      "\u001b[0mcore.pack.dunbrack.RotamerLibrary: \u001b[0mUsing Dunbrack library binary file '/Users/kathyle/Computational Protein Prediction and Design/PyRosetta4.Release.python36.mac.release-208/pyrosetta/database/rotamer/shapovalov/StpDwn_0-0-0/Dunbrack10.lib.bin'.\n",
      "\u001b[0mcore.pack.dunbrack.RotamerLibrary: \u001b[0mDunbrack 2010 library took 0.450999 seconds to load from binary\n",
      "1215.729069796814\n",
      "154.59159174026854\n"
     ]
    }
   ],
   "source": [
    "# print total energy of ras\n",
    "### BEGIN SOLUTION\n",
    "print(sfxn(ras))\n",
    "### END SOLUTION\n",
    "\n",
    "# print the attractive and repulsive energy of ras\n",
    "### BEGIN SOLUTION\n",
    "print(sfxn2(ras))\n",
    "### END SOLUTION"
   ]
  },
  {
   "cell_type": "markdown",
   "metadata": {
    "nbgrader": {
     "grade": false,
     "grade_id": "cell-952b996905b5bfc0",
     "locked": true,
     "schema_version": 1,
     "solution": false
    }
   },
   "source": [
    "Using the full-atom `ScoreFunction` `sfxn`, break the energy of `ras` down into its individual pieces with the `sfxn.show(ras)` method. Which are the three most dominant contributions, and what are their values? Is this what you would have expected? Why? Note which terms are positive and negative"
   ]
  },
  {
   "cell_type": "code",
   "execution_count": 7,
   "metadata": {
    "nbgrader": {
     "grade": true,
     "grade_id": "cell-1985d733350b2c83",
     "locked": false,
     "points": 0,
     "schema_version": 1,
     "solution": true
    }
   },
   "outputs": [
    {
     "name": "stdout",
     "output_type": "stream",
     "text": [
      "\u001b[0mcore.scoring: \u001b[0m\n",
      "------------------------------------------------------------\n",
      " Scores                       Weight   Raw Score Wghtd.Score\n",
      "------------------------------------------------------------\n",
      " fa_atr                       1.000   -1039.246   -1039.246\n",
      " fa_rep                       0.550    1193.837     656.611\n",
      " fa_sol                       1.000     682.582     682.582\n",
      " fa_intra_rep                 0.005     700.419       3.502\n",
      " fa_intra_sol_xover4          1.000      46.564      46.564\n",
      " lk_ball_wtd                  1.000     -14.597     -14.597\n",
      " fa_elec                      1.000    -195.387    -195.387\n",
      " pro_close                    1.250      97.210     121.513\n",
      " hbond_sr_bb                  1.000     -41.656     -41.656\n",
      " hbond_lr_bb                  1.000     -28.352     -28.352\n",
      " hbond_bb_sc                  1.000     -13.111     -13.111\n",
      " hbond_sc                     1.000      -7.771      -7.771\n",
      " dslf_fa13                    1.250       0.000       0.000\n",
      " omega                        0.400      41.525      16.610\n",
      " fa_dun                       0.700    1296.642     907.650\n",
      " p_aa_pp                      0.600     -25.496     -15.298\n",
      " yhh_planarity                0.625       0.000       0.000\n",
      " ref                          1.000      47.114      47.114\n",
      " rama_prepro                  0.450     197.781      89.002\n",
      "---------------------------------------------------\n",
      " Total weighted score:                     1215.729\n"
     ]
    }
   ],
   "source": [
    "# use the sfxn.show() method\n",
    "### BEGIN SOLUTION\n",
    "sfxn.show(ras)\n",
    "### END SOLUTION"
   ]
  },
  {
   "cell_type": "code",
   "execution_count": 8,
   "metadata": {
    "code_folding": [],
    "nbgrader": {
     "grade": false,
     "grade_id": "cell-4ad3a4c661b9a763",
     "locked": true,
     "schema_version": 1,
     "solution": false
    }
   },
   "outputs": [],
   "source": [
    "# Your response here: what are the three most dominant contributions?"
   ]
  },
  {
   "cell_type": "markdown",
   "metadata": {
    "nbgrader": {
     "grade": false,
     "grade_id": "cell-dfa8632eb3d02079",
     "locked": true,
     "schema_version": 1,
     "solution": false
    }
   },
   "source": [
    "Unweighted, individual component energies of each residue in a structure are stored in the `Pose` object and can be accessed by the `energies()` method. For example, to break down the energy into each residue's contribution, we use: \n",
    "```\n",
    "print(ras.energies().show(<n>))\n",
    "```\n",
    "Where `<n>` is the residue number.\n",
    "\n",
    "What are the total van der Waals, solvation, and hydrogen-bonding contributions of residue 24? (Note that the _backbone_ hydrogen-bonding terms for each residue are not available from the `Energies` object.)"
   ]
  },
  {
   "cell_type": "code",
   "execution_count": 9,
   "metadata": {
    "nbgrader": {
     "grade": true,
     "grade_id": "cell-cd5175f1ed3fd0ad",
     "locked": false,
     "points": 0,
     "schema_version": 1,
     "solution": true
    }
   },
   "outputs": [
    {
     "name": "stdout",
     "output_type": "stream",
     "text": [
      "\u001b[0mcore.scoring.Energies: \u001b[0mE               fa_atr        fa_rep        fa_sol  fa_intra_repfa_intra_sol_x   lk_ball_wtd       fa_elec     pro_close   hbond_sr_bb   hbond_lr_bb   hbond_bb_sc      hbond_sc     dslf_fa13         omega        fa_dun       p_aa_pp yhh_planarity           ref   rama_prepro\n",
      "\u001b[0mcore.scoring.Energies: \u001b[0mE(i)  24         -7.40         19.03          2.94          8.76          0.09         -0.11         -0.56          0.00          0.00          0.00          0.00          0.00          0.00          0.12          2.68          0.06          0.00          2.30          3.58\n",
      "None\n"
     ]
    }
   ],
   "source": [
    "### BEGIN SOLUTION\n",
    "print(ras.energies().show(24))\n",
    "### END SOLUTION"
   ]
  },
  {
   "cell_type": "code",
   "execution_count": 10,
   "metadata": {
    "nbgrader": {
     "grade": false,
     "grade_id": "cell-910b1116d1d0becf",
     "locked": true,
     "schema_version": 1,
     "solution": false
    }
   },
   "outputs": [],
   "source": [
    "# your response here"
   ]
  },
  {
   "cell_type": "markdown",
   "metadata": {
    "nbgrader": {
     "grade": false,
     "grade_id": "cell-4832aeb37f36c0c6",
     "locked": true,
     "schema_version": 1,
     "solution": false
    }
   },
   "source": [
    "The van der Waals, solvation, and electrostatic terms are atom-atom pairwise energies calculated from a pre-tabulated lookup table, dependent upon the distance between the two atoms and their types. You can access this lookup table, called the `etable` directly to check these energy calculations on an atom-by-atom basis. Use the `etable_atom_pair_energies` function which returns a triplet of energies for attractive, repulsive and solvation scores.\n",
    "\n",
    "(Note that the `etable_atom_pair_energies()` function requires `Atom` objects, not the `AtomID` objects we saw in Workshop #2. For more info, look at the [documentation](https://graylab.jhu.edu/PyRosetta.documentation/pyrosetta.toolbox.atom_pair_energy.html?highlight=etable_atom_pair_energies#pyrosetta.toolbox.atom_pair_energy.etable_atom_pair_energies).)\n",
    "\n",
    "**Practice:** What are the attractive, repulsive, solvation, and electrostatic components between the nitrogen of residue 24 and the oxygen of residue 20? \n"
   ]
  },
  {
   "cell_type": "code",
   "execution_count": 11,
   "metadata": {
    "nbgrader": {
     "grade": true,
     "grade_id": "cell-7ce1bc99f2fd0b00",
     "locked": false,
     "points": 0,
     "schema_version": 1,
     "solution": true
    }
   },
   "outputs": [
    {
     "data": {
      "text/plain": [
       "(-0.1505855046001568, 0.0, 0.5903452111877215, 2.173111777247698)"
      ]
     },
     "execution_count": 11,
     "metadata": {},
     "output_type": "execute_result"
    }
   ],
   "source": [
    "### BEGIN SOLUTION\n",
    "res24 = ras.residue(24)\n",
    "res20 = ras.residue(20)\n",
    "res24_atomN = res24.atom_index(\"N\")\n",
    "res20_atomO = res20.atom_index(\"O\")\n",
    "pyrosetta.etable_atom_pair_energies(res24, res24_atomN, res20, res20_atomO, sfxn)\n",
    "### END SOLUTION"
   ]
  },
  {
   "cell_type": "markdown",
   "metadata": {
    "nbgrader": {
     "grade": false,
     "grade_id": "cell-c32668370dae07d5",
     "locked": true,
     "schema_version": 1,
     "solution": false
    }
   },
   "source": [
    "## Analysis of Hydrogen Bonds\n",
    "The hydrogen-bonding score component requires identification of acceptor hybridization states and calculation of geometric parameters includign distance, acceptor bond angle, proton bond angle, and a torsion angle. The hydrogen-bonding energies are stored in an `HbondSet` object. You can access the list of hydrogen bonds by creating an `HBondSet` object and filling the set from the pose (after making sutre that the pose has had its `Energies` object updated based on neighboring residues within the pose), and then using the `HBondSet.show()` command.\n",
    "\n",
    "The steps above have been combined in the PyRosetta into a method called `get_hbonds()` that has been attached to a `Pose` object, so that we can simply type:\n",
    "\n",
    "```\n",
    "sfxn(ras)\n",
    "hbond_set = ras.get_hbonds()\n",
    "```"
   ]
  },
  {
   "cell_type": "code",
   "execution_count": 12,
   "metadata": {
    "nbgrader": {
     "grade": true,
     "grade_id": "cell-f6f59fe31eb4cbf3",
     "locked": false,
     "points": 0,
     "schema_version": 1,
     "solution": true
    }
   },
   "outputs": [],
   "source": [
    "### BEGIN SOLUTION\n",
    "sfxn(ras)\n",
    "hbond_set = ras.get_hbonds()\n",
    "### END SOLUTION"
   ]
  },
  {
   "cell_type": "markdown",
   "metadata": {
    "nbgrader": {
     "grade": false,
     "grade_id": "cell-00ce30d24fc2e978",
     "locked": true,
     "schema_version": 1,
     "solution": false
    }
   },
   "source": [
    "How many hydrogen bonds are in hbond_set?\n",
    "\n",
    "```\n",
    "hbond_set.nhbonds()\n",
    "```"
   ]
  },
  {
   "cell_type": "code",
   "execution_count": 13,
   "metadata": {
    "nbgrader": {
     "grade": true,
     "grade_id": "cell-2c967cc383e643a9",
     "locked": false,
     "points": 0,
     "schema_version": 1,
     "solution": true
    },
    "scrolled": true
   },
   "outputs": [
    {
     "data": {
      "text/plain": [
       "116"
      ]
     },
     "execution_count": 13,
     "metadata": {},
     "output_type": "execute_result"
    }
   ],
   "source": [
    "### BEGIN SOLUTION\n",
    "hbond_set.nhbonds()\n",
    "### END SOLUTION"
   ]
  },
  {
   "cell_type": "markdown",
   "metadata": {
    "nbgrader": {
     "grade": false,
     "grade_id": "cell-51b081e5e1f015ab",
     "locked": true,
     "schema_version": 1,
     "solution": false
    }
   },
   "source": [
    "The hydrogen bonds for an *individual* residue can be looked up from the set using its residue number as follows: \n",
    "\n",
    "    hbond_set.residue_hbonds(24)\n",
    "    \n",
    "**Practice:** How many hydrogen bonds does residue 24 make? "
   ]
  },
  {
   "cell_type": "code",
   "execution_count": 14,
   "metadata": {
    "nbgrader": {
     "grade": true,
     "grade_id": "cell-e4653c50d7dafa07",
     "locked": false,
     "points": 0,
     "schema_version": 1,
     "solution": true
    }
   },
   "outputs": [
    {
     "name": "stdout",
     "output_type": "stream",
     "text": [
      "1\n"
     ]
    }
   ],
   "source": [
    "### BEGIN SOLUTION\n",
    "print(len(hbond_set.residue_hbonds(24)))\n",
    "### END SOLUTION\n"
   ]
  },
  {
   "cell_type": "markdown",
   "metadata": {
    "nbgrader": {
     "grade": false,
     "grade_id": "cell-84e6c7e86e9426cf",
     "locked": true,
     "schema_version": 1,
     "solution": false
    }
   },
   "source": [
    "## Practice: Analyzing energy between residues\n",
    "Analyze the energy between residues Y102 and Q408 in cetuximab (PDB code 1YY9, use the `pyrosetta.toolbox.pose_from_rcsb` function to download it and load it into a new `Pose` object) by following the steps below. \n",
    "\n",
    "A. Internally, a Pose object has a list of residues, numbered starting from 1. To find the residue numbers of Y102 of chain D and Q408 of chain A, use the residue chain identifier and the PDB residue number to convert to the pose numbering using the `pose2pdb()` method:\n",
    "\n",
    "```\n",
    "pose = pyrosetta.toolbox.pose_from_rcsb(\"1YY9\")\n",
    "res102 = pose.pdb_info().pdb2pose(\"D\", 102)\n",
    "res408 = pose.pdb_info().pdb2pose(\"A\", 408)\n",
    "```"
   ]
  },
  {
   "cell_type": "code",
   "execution_count": 15,
   "metadata": {
    "nbgrader": {
     "grade": true,
     "grade_id": "cell-a723de195b7c5426",
     "locked": false,
     "points": 0,
     "schema_version": 1,
     "solution": true
    }
   },
   "outputs": [
    {
     "name": "stdout",
     "output_type": "stream",
     "text": [
      "\u001b[0mcore.import_pose.import_pose: \u001b[0mFile '1YY9.clean.pdb' automatically determined to be of type PDB\n",
      "\u001b[0mcore.conformation.Conformation: \u001b[0m\u001b[1m[ WARNING ]\u001b[0m missing heavyatom:  CG  on residue GLU:NtermProteinFull 1\n",
      "\u001b[0mcore.conformation.Conformation: \u001b[0m\u001b[1m[ WARNING ]\u001b[0m missing heavyatom:  CD  on residue GLU:NtermProteinFull 1\n",
      "\u001b[0mcore.conformation.Conformation: \u001b[0m\u001b[1m[ WARNING ]\u001b[0m missing heavyatom:  OE1 on residue GLU:NtermProteinFull 1\n",
      "\u001b[0mcore.conformation.Conformation: \u001b[0m\u001b[1m[ WARNING ]\u001b[0m missing heavyatom:  OE2 on residue GLU:NtermProteinFull 1\n",
      "\u001b[0mcore.conformation.Conformation: \u001b[0m\u001b[1m[ WARNING ]\u001b[0m missing heavyatom:  CG  on residue GLU 2\n",
      "\u001b[0mcore.conformation.Conformation: \u001b[0m\u001b[1m[ WARNING ]\u001b[0m missing heavyatom:  CD  on residue GLU 2\n",
      "\u001b[0mcore.conformation.Conformation: \u001b[0m\u001b[1m[ WARNING ]\u001b[0m missing heavyatom:  OE1 on residue GLU 2\n",
      "\u001b[0mcore.conformation.Conformation: \u001b[0m\u001b[1m[ WARNING ]\u001b[0m missing heavyatom:  OE2 on residue GLU 2\n",
      "\u001b[0mcore.conformation.Conformation: \u001b[0m\u001b[1m[ WARNING ]\u001b[0m missing heavyatom:  CG  on residue LYS 3\n",
      "\u001b[0mcore.conformation.Conformation: \u001b[0m\u001b[1m[ WARNING ]\u001b[0m missing heavyatom:  CD  on residue LYS 3\n",
      "\u001b[0mcore.conformation.Conformation: \u001b[0m\u001b[1m[ WARNING ]\u001b[0m missing heavyatom:  CE  on residue LYS 3\n",
      "\u001b[0mcore.conformation.Conformation: \u001b[0m\u001b[1m[ WARNING ]\u001b[0m missing heavyatom:  NZ  on residue LYS 3\n",
      "\u001b[0mcore.conformation.Conformation: \u001b[0m\u001b[1m[ WARNING ]\u001b[0m missing heavyatom:  CG  on residue GLN 138\n",
      "\u001b[0mcore.conformation.Conformation: \u001b[0m\u001b[1m[ WARNING ]\u001b[0m missing heavyatom:  CD  on residue GLN 138\n",
      "\u001b[0mcore.conformation.Conformation: \u001b[0m\u001b[1m[ WARNING ]\u001b[0m missing heavyatom:  OE1 on residue GLN 138\n",
      "\u001b[0mcore.conformation.Conformation: \u001b[0m\u001b[1m[ WARNING ]\u001b[0m missing heavyatom:  NE2 on residue GLN 138\n",
      "\u001b[0mcore.conformation.Conformation: \u001b[0m\u001b[1m[ WARNING ]\u001b[0m missing heavyatom:  CG  on residue GLU 179\n",
      "\u001b[0mcore.conformation.Conformation: \u001b[0m\u001b[1m[ WARNING ]\u001b[0m missing heavyatom:  CD  on residue GLU 179\n",
      "\u001b[0mcore.conformation.Conformation: \u001b[0m\u001b[1m[ WARNING ]\u001b[0m missing heavyatom:  OE1 on residue GLU 179\n",
      "\u001b[0mcore.conformation.Conformation: \u001b[0m\u001b[1m[ WARNING ]\u001b[0m missing heavyatom:  OE2 on residue GLU 179\n",
      "\u001b[0mcore.conformation.Conformation: \u001b[0m\u001b[1m[ WARNING ]\u001b[0m missing heavyatom:  CG  on residue GLN 192\n",
      "\u001b[0mcore.conformation.Conformation: \u001b[0m\u001b[1m[ WARNING ]\u001b[0m missing heavyatom:  CD  on residue GLN 192\n",
      "\u001b[0mcore.conformation.Conformation: \u001b[0m\u001b[1m[ WARNING ]\u001b[0m missing heavyatom:  OE1 on residue GLN 192\n",
      "\u001b[0mcore.conformation.Conformation: \u001b[0m\u001b[1m[ WARNING ]\u001b[0m missing heavyatom:  NE2 on residue GLN 192\n",
      "\u001b[0mcore.conformation.Conformation: \u001b[0m\u001b[1m[ WARNING ]\u001b[0m missing heavyatom:  CG  on residue GLN 193\n",
      "\u001b[0mcore.conformation.Conformation: \u001b[0m\u001b[1m[ WARNING ]\u001b[0m missing heavyatom:  CD  on residue GLN 193\n",
      "\u001b[0mcore.conformation.Conformation: \u001b[0m\u001b[1m[ WARNING ]\u001b[0m missing heavyatom:  OE1 on residue GLN 193\n",
      "\u001b[0mcore.conformation.Conformation: \u001b[0m\u001b[1m[ WARNING ]\u001b[0m missing heavyatom:  NE2 on residue GLN 193\n",
      "\u001b[0mcore.conformation.Conformation: \u001b[0m\u001b[1m[ WARNING ]\u001b[0m missing heavyatom:  CG  on residue GLU 220\n",
      "\u001b[0mcore.conformation.Conformation: \u001b[0m\u001b[1m[ WARNING ]\u001b[0m missing heavyatom:  CD  on residue GLU 220\n",
      "\u001b[0mcore.conformation.Conformation: \u001b[0m\u001b[1m[ WARNING ]\u001b[0m missing heavyatom:  OE1 on residue GLU 220\n",
      "\u001b[0mcore.conformation.Conformation: \u001b[0m\u001b[1m[ WARNING ]\u001b[0m missing heavyatom:  OE2 on residue GLU 220\n",
      "\u001b[0mcore.conformation.Conformation: \u001b[0m\u001b[1m[ WARNING ]\u001b[0m missing heavyatom:  CG  on residue GLU 257\n",
      "\u001b[0mcore.conformation.Conformation: \u001b[0m\u001b[1m[ WARNING ]\u001b[0m missing heavyatom:  CD  on residue GLU 257\n",
      "\u001b[0mcore.conformation.Conformation: \u001b[0m\u001b[1m[ WARNING ]\u001b[0m missing heavyatom:  OE1 on residue GLU 257\n",
      "\u001b[0mcore.conformation.Conformation: \u001b[0m\u001b[1m[ WARNING ]\u001b[0m missing heavyatom:  OE2 on residue GLU 257\n",
      "\u001b[0mcore.conformation.Conformation: \u001b[0m\u001b[1m[ WARNING ]\u001b[0m missing heavyatom:  CG  on residue ARG 272\n",
      "\u001b[0mcore.conformation.Conformation: \u001b[0m\u001b[1m[ WARNING ]\u001b[0m missing heavyatom:  CD  on residue ARG 272\n",
      "\u001b[0mcore.conformation.Conformation: \u001b[0m\u001b[1m[ WARNING ]\u001b[0m missing heavyatom:  NE  on residue ARG 272\n",
      "\u001b[0mcore.conformation.Conformation: \u001b[0m\u001b[1m[ WARNING ]\u001b[0m missing heavyatom:  CZ  on residue ARG 272\n",
      "\u001b[0mcore.conformation.Conformation: \u001b[0m\u001b[1m[ WARNING ]\u001b[0m missing heavyatom:  NH1 on residue ARG 272\n",
      "\u001b[0mcore.conformation.Conformation: \u001b[0m\u001b[1m[ WARNING ]\u001b[0m missing heavyatom:  NH2 on residue ARG 272\n",
      "\u001b[0mcore.conformation.Conformation: \u001b[0m\u001b[1m[ WARNING ]\u001b[0m missing heavyatom:  CG  on residue ARG 299\n",
      "\u001b[0mcore.conformation.Conformation: \u001b[0m\u001b[1m[ WARNING ]\u001b[0m missing heavyatom:  CD  on residue ARG 299\n",
      "\u001b[0mcore.conformation.Conformation: \u001b[0m\u001b[1m[ WARNING ]\u001b[0m missing heavyatom:  NE  on residue ARG 299\n",
      "\u001b[0mcore.conformation.Conformation: \u001b[0m\u001b[1m[ WARNING ]\u001b[0m missing heavyatom:  CZ  on residue ARG 299\n",
      "\u001b[0mcore.conformation.Conformation: \u001b[0m\u001b[1m[ WARNING ]\u001b[0m missing heavyatom:  NH1 on residue ARG 299\n",
      "\u001b[0mcore.conformation.Conformation: \u001b[0m\u001b[1m[ WARNING ]\u001b[0m missing heavyatom:  NH2 on residue ARG 299\n",
      "\u001b[0mcore.conformation.Conformation: \u001b[0m\u001b[1m[ WARNING ]\u001b[0m missing heavyatom:  CG  on residue ARG 502\n",
      "\u001b[0mcore.conformation.Conformation: \u001b[0m\u001b[1m[ WARNING ]\u001b[0m missing heavyatom:  CD  on residue ARG 502\n",
      "\u001b[0mcore.conformation.Conformation: \u001b[0m\u001b[1m[ WARNING ]\u001b[0m missing heavyatom:  NE  on residue ARG 502\n",
      "\u001b[0mcore.conformation.Conformation: \u001b[0m\u001b[1m[ WARNING ]\u001b[0m missing heavyatom:  CZ  on residue ARG 502\n",
      "\u001b[0mcore.conformation.Conformation: \u001b[0m\u001b[1m[ WARNING ]\u001b[0m missing heavyatom:  NH1 on residue ARG 502\n",
      "\u001b[0mcore.conformation.Conformation: \u001b[0m\u001b[1m[ WARNING ]\u001b[0m missing heavyatom:  NH2 on residue ARG 502\n",
      "\u001b[0mcore.conformation.Conformation: \u001b[0m\u001b[1m[ WARNING ]\u001b[0m missing heavyatom:  CG  on residue GLU 518\n",
      "\u001b[0mcore.conformation.Conformation: \u001b[0m\u001b[1m[ WARNING ]\u001b[0m missing heavyatom:  CD  on residue GLU 518\n",
      "\u001b[0mcore.conformation.Conformation: \u001b[0m\u001b[1m[ WARNING ]\u001b[0m missing heavyatom:  OE1 on residue GLU 518\n",
      "\u001b[0mcore.conformation.Conformation: \u001b[0m\u001b[1m[ WARNING ]\u001b[0m missing heavyatom:  OE2 on residue GLU 518\n",
      "\u001b[0mcore.conformation.Conformation: \u001b[0m\u001b[1m[ WARNING ]\u001b[0m missing heavyatom:  CG  on residue GLU 520\n",
      "\u001b[0mcore.conformation.Conformation: \u001b[0m\u001b[1m[ WARNING ]\u001b[0m missing heavyatom:  CD  on residue GLU 520\n",
      "\u001b[0mcore.conformation.Conformation: \u001b[0m\u001b[1m[ WARNING ]\u001b[0m missing heavyatom:  OE1 on residue GLU 520\n",
      "\u001b[0mcore.conformation.Conformation: \u001b[0m\u001b[1m[ WARNING ]\u001b[0m missing heavyatom:  OE2 on residue GLU 520\n",
      "\u001b[0mcore.conformation.Conformation: \u001b[0m\u001b[1m[ WARNING ]\u001b[0m missing heavyatom:  CG  on residue ARG 522\n",
      "\u001b[0mcore.conformation.Conformation: \u001b[0m\u001b[1m[ WARNING ]\u001b[0m missing heavyatom:  CD  on residue ARG 522\n",
      "\u001b[0mcore.conformation.Conformation: \u001b[0m\u001b[1m[ WARNING ]\u001b[0m missing heavyatom:  NE  on residue ARG 522\n",
      "\u001b[0mcore.conformation.Conformation: \u001b[0m\u001b[1m[ WARNING ]\u001b[0m missing heavyatom:  CZ  on residue ARG 522\n",
      "\u001b[0mcore.conformation.Conformation: \u001b[0m\u001b[1m[ WARNING ]\u001b[0m missing heavyatom:  NH1 on residue ARG 522\n",
      "\u001b[0mcore.conformation.Conformation: \u001b[0m\u001b[1m[ WARNING ]\u001b[0m missing heavyatom:  NH2 on residue ARG 522\n",
      "\u001b[0mcore.conformation.Conformation: \u001b[0m\u001b[1m[ WARNING ]\u001b[0m missing heavyatom:  OXT on residue THR:CtermProteinFull 613\n",
      "\u001b[0mcore.conformation.Conformation: \u001b[0m\u001b[1m[ WARNING ]\u001b[0m missing heavyatom:  CG  on residue ARG 631\n",
      "\u001b[0mcore.conformation.Conformation: \u001b[0m\u001b[1m[ WARNING ]\u001b[0m missing heavyatom:  CD  on residue ARG 631\n",
      "\u001b[0mcore.conformation.Conformation: \u001b[0m\u001b[1m[ WARNING ]\u001b[0m missing heavyatom:  NE  on residue ARG 631\n",
      "\u001b[0mcore.conformation.Conformation: \u001b[0m\u001b[1m[ WARNING ]\u001b[0m missing heavyatom:  CZ  on residue ARG 631\n",
      "\u001b[0mcore.conformation.Conformation: \u001b[0m\u001b[1m[ WARNING ]\u001b[0m missing heavyatom:  NH1 on residue ARG 631\n",
      "\u001b[0mcore.conformation.Conformation: \u001b[0m\u001b[1m[ WARNING ]\u001b[0m missing heavyatom:  NH2 on residue ARG 631\n",
      "\u001b[0mcore.conformation.Conformation: \u001b[0m\u001b[1m[ WARNING ]\u001b[0m missing heavyatom:  CG  on residue LYS 739\n",
      "\u001b[0mcore.conformation.Conformation: \u001b[0m\u001b[1m[ WARNING ]\u001b[0m missing heavyatom:  CD  on residue LYS 739\n",
      "\u001b[0mcore.conformation.Conformation: \u001b[0m\u001b[1m[ WARNING ]\u001b[0m missing heavyatom:  CE  on residue LYS 739\n"
     ]
    },
    {
     "name": "stdout",
     "output_type": "stream",
     "text": [
      "\u001b[0mcore.conformation.Conformation: \u001b[0m\u001b[1m[ WARNING ]\u001b[0m missing heavyatom:  NZ  on residue LYS 739\n",
      "\u001b[0mcore.conformation.Conformation: \u001b[0m\u001b[1m[ WARNING ]\u001b[0m missing heavyatom:  CG  on residue LYS 801\n",
      "\u001b[0mcore.conformation.Conformation: \u001b[0m\u001b[1m[ WARNING ]\u001b[0m missing heavyatom:  CD  on residue LYS 801\n",
      "\u001b[0mcore.conformation.Conformation: \u001b[0m\u001b[1m[ WARNING ]\u001b[0m missing heavyatom:  CE  on residue LYS 801\n",
      "\u001b[0mcore.conformation.Conformation: \u001b[0m\u001b[1m[ WARNING ]\u001b[0m missing heavyatom:  NZ  on residue LYS 801\n",
      "\u001b[0mcore.conformation.Conformation: \u001b[0m\u001b[1m[ WARNING ]\u001b[0m missing heavyatom:  OXT on residue ARG:CtermProteinFull 824\n",
      "\u001b[0mcore.conformation.Conformation: \u001b[0m\u001b[1m[ WARNING ]\u001b[0m missing heavyatom:  CG  on residue ARG:CtermProteinFull 824\n",
      "\u001b[0mcore.conformation.Conformation: \u001b[0m\u001b[1m[ WARNING ]\u001b[0m missing heavyatom:  CD  on residue ARG:CtermProteinFull 824\n",
      "\u001b[0mcore.conformation.Conformation: \u001b[0m\u001b[1m[ WARNING ]\u001b[0m missing heavyatom:  NE  on residue ARG:CtermProteinFull 824\n",
      "\u001b[0mcore.conformation.Conformation: \u001b[0m\u001b[1m[ WARNING ]\u001b[0m missing heavyatom:  CZ  on residue ARG:CtermProteinFull 824\n",
      "\u001b[0mcore.conformation.Conformation: \u001b[0m\u001b[1m[ WARNING ]\u001b[0m missing heavyatom:  NH1 on residue ARG:CtermProteinFull 824\n",
      "\u001b[0mcore.conformation.Conformation: \u001b[0m\u001b[1m[ WARNING ]\u001b[0m missing heavyatom:  NH2 on residue ARG:CtermProteinFull 824\n",
      "\u001b[0mcore.conformation.Conformation: \u001b[0m\u001b[1m[ WARNING ]\u001b[0m missing heavyatom:  CG  on residue LYS 959\n",
      "\u001b[0mcore.conformation.Conformation: \u001b[0m\u001b[1m[ WARNING ]\u001b[0m missing heavyatom:  CD  on residue LYS 959\n",
      "\u001b[0mcore.conformation.Conformation: \u001b[0m\u001b[1m[ WARNING ]\u001b[0m missing heavyatom:  CE  on residue LYS 959\n",
      "\u001b[0mcore.conformation.Conformation: \u001b[0m\u001b[1m[ WARNING ]\u001b[0m missing heavyatom:  NZ  on residue LYS 959\n",
      "\u001b[0mcore.conformation.Conformation: \u001b[0m\u001b[1m[ WARNING ]\u001b[0m missing heavyatom:  CG  on residue LYS 1039\n",
      "\u001b[0mcore.conformation.Conformation: \u001b[0m\u001b[1m[ WARNING ]\u001b[0m missing heavyatom:  CD  on residue LYS 1039\n",
      "\u001b[0mcore.conformation.Conformation: \u001b[0m\u001b[1m[ WARNING ]\u001b[0m missing heavyatom:  CE  on residue LYS 1039\n",
      "\u001b[0mcore.conformation.Conformation: \u001b[0m\u001b[1m[ WARNING ]\u001b[0m missing heavyatom:  NZ  on residue LYS 1039\n",
      "\u001b[0mcore.conformation.Conformation: \u001b[0m\u001b[1m[ WARNING ]\u001b[0m missing heavyatom:  CG  on residue ARG 1040\n",
      "\u001b[0mcore.conformation.Conformation: \u001b[0m\u001b[1m[ WARNING ]\u001b[0m missing heavyatom:  CD  on residue ARG 1040\n",
      "\u001b[0mcore.conformation.Conformation: \u001b[0m\u001b[1m[ WARNING ]\u001b[0m missing heavyatom:  NE  on residue ARG 1040\n",
      "\u001b[0mcore.conformation.Conformation: \u001b[0m\u001b[1m[ WARNING ]\u001b[0m missing heavyatom:  CZ  on residue ARG 1040\n",
      "\u001b[0mcore.conformation.Conformation: \u001b[0m\u001b[1m[ WARNING ]\u001b[0m missing heavyatom:  NH1 on residue ARG 1040\n",
      "\u001b[0mcore.conformation.Conformation: \u001b[0m\u001b[1m[ WARNING ]\u001b[0m missing heavyatom:  NH2 on residue ARG 1040\n",
      "\u001b[0mcore.conformation.Conformation: \u001b[0m\u001b[1m[ WARNING ]\u001b[0m missing heavyatom:  OXT on residue LYS:CtermProteinFull 1044\n",
      "\u001b[0mcore.conformation.Conformation: \u001b[0m\u001b[1m[ WARNING ]\u001b[0m missing heavyatom:  CG  on residue LYS:CtermProteinFull 1044\n",
      "\u001b[0mcore.conformation.Conformation: \u001b[0m\u001b[1m[ WARNING ]\u001b[0m missing heavyatom:  CD  on residue LYS:CtermProteinFull 1044\n",
      "\u001b[0mcore.conformation.Conformation: \u001b[0m\u001b[1m[ WARNING ]\u001b[0m missing heavyatom:  CE  on residue LYS:CtermProteinFull 1044\n",
      "\u001b[0mcore.conformation.Conformation: \u001b[0m\u001b[1m[ WARNING ]\u001b[0m missing heavyatom:  NZ  on residue LYS:CtermProteinFull 1044\n",
      "\u001b[0mcore.conformation.Conformation: \u001b[0mFound disulfide between residues 6 33\n",
      "\u001b[0mcore.conformation.Conformation: \u001b[0mcurrent variant for 6 CYS\n",
      "\u001b[0mcore.conformation.Conformation: \u001b[0mcurrent variant for 33 CYS\n",
      "\u001b[0mcore.conformation.Conformation: \u001b[0mcurrent variant for 6 CYD\n",
      "\u001b[0mcore.conformation.Conformation: \u001b[0mcurrent variant for 33 CYD\n",
      "\u001b[0mcore.conformation.Conformation: \u001b[0mFound disulfide between residues 132 162\n",
      "\u001b[0mcore.conformation.Conformation: \u001b[0mcurrent variant for 132 CYS\n",
      "\u001b[0mcore.conformation.Conformation: \u001b[0mcurrent variant for 162 CYS\n",
      "\u001b[0mcore.conformation.Conformation: \u001b[0mcurrent variant for 132 CYD\n",
      "\u001b[0mcore.conformation.Conformation: \u001b[0mcurrent variant for 162 CYD\n",
      "\u001b[0mcore.conformation.Conformation: \u001b[0mFound disulfide between residues 165 174\n",
      "\u001b[0mcore.conformation.Conformation: \u001b[0mcurrent variant for 165 CYS\n",
      "\u001b[0mcore.conformation.Conformation: \u001b[0mcurrent variant for 174 CYS\n",
      "\u001b[0mcore.conformation.Conformation: \u001b[0mcurrent variant for 165 CYD\n",
      "\u001b[0mcore.conformation.Conformation: \u001b[0mcurrent variant for 174 CYD\n",
      "\u001b[0mcore.conformation.Conformation: \u001b[0mFound disulfide between residues 169 182\n",
      "\u001b[0mcore.conformation.Conformation: \u001b[0mcurrent variant for 169 CYS\n",
      "\u001b[0mcore.conformation.Conformation: \u001b[0mcurrent variant for 182 CYS\n",
      "\u001b[0mcore.conformation.Conformation: \u001b[0mcurrent variant for 169 CYD\n",
      "\u001b[0mcore.conformation.Conformation: \u001b[0mcurrent variant for 182 CYD\n",
      "\u001b[0mcore.conformation.Conformation: \u001b[0mFound disulfide between residues 190 198\n",
      "\u001b[0mcore.conformation.Conformation: \u001b[0mcurrent variant for 190 CYS\n",
      "\u001b[0mcore.conformation.Conformation: \u001b[0mcurrent variant for 198 CYS\n",
      "\u001b[0mcore.conformation.Conformation: \u001b[0mcurrent variant for 190 CYD\n",
      "\u001b[0mcore.conformation.Conformation: \u001b[0mcurrent variant for 198 CYD\n",
      "\u001b[0mcore.conformation.Conformation: \u001b[0mFound disulfide between residues 194 206\n",
      "\u001b[0mcore.conformation.Conformation: \u001b[0mcurrent variant for 194 CYS\n",
      "\u001b[0mcore.conformation.Conformation: \u001b[0mcurrent variant for 206 CYS\n",
      "\u001b[0mcore.conformation.Conformation: \u001b[0mcurrent variant for 194 CYD\n",
      "\u001b[0mcore.conformation.Conformation: \u001b[0mcurrent variant for 206 CYD\n",
      "\u001b[0mcore.conformation.Conformation: \u001b[0mFound disulfide between residues 207 215\n",
      "\u001b[0mcore.conformation.Conformation: \u001b[0mcurrent variant for 207 CYS\n",
      "\u001b[0mcore.conformation.Conformation: \u001b[0mcurrent variant for 215 CYS\n",
      "\u001b[0mcore.conformation.Conformation: \u001b[0mcurrent variant for 207 CYD\n",
      "\u001b[0mcore.conformation.Conformation: \u001b[0mcurrent variant for 215 CYD\n",
      "\u001b[0mcore.conformation.Conformation: \u001b[0mFound disulfide between residues 211 223\n",
      "\u001b[0mcore.conformation.Conformation: \u001b[0mcurrent variant for 211 CYS\n",
      "\u001b[0mcore.conformation.Conformation: \u001b[0mcurrent variant for 223 CYS\n",
      "\u001b[0mcore.conformation.Conformation: \u001b[0mcurrent variant for 211 CYD\n",
      "\u001b[0mcore.conformation.Conformation: \u001b[0mcurrent variant for 223 CYD\n",
      "\u001b[0mcore.conformation.Conformation: \u001b[0mFound disulfide between residues 226 235\n",
      "\u001b[0mcore.conformation.Conformation: \u001b[0mcurrent variant for 226 CYS\n",
      "\u001b[0mcore.conformation.Conformation: \u001b[0mcurrent variant for 235 CYS\n",
      "\u001b[0mcore.conformation.Conformation: \u001b[0mcurrent variant for 226 CYD\n",
      "\u001b[0mcore.conformation.Conformation: \u001b[0mcurrent variant for 235 CYD\n",
      "\u001b[0mcore.conformation.Conformation: \u001b[0mFound disulfide between residues 239 266\n",
      "\u001b[0mcore.conformation.Conformation: \u001b[0mcurrent variant for 239 CYS\n",
      "\u001b[0mcore.conformation.Conformation: \u001b[0mcurrent variant for 266 CYS\n",
      "\u001b[0mcore.conformation.Conformation: \u001b[0mcurrent variant for 239 CYD\n",
      "\u001b[0mcore.conformation.Conformation: \u001b[0mcurrent variant for 266 CYD\n",
      "\u001b[0mcore.conformation.Conformation: \u001b[0mFound disulfide between residues 270 282\n",
      "\u001b[0mcore.conformation.Conformation: \u001b[0mcurrent variant for 270 CYS\n",
      "\u001b[0mcore.conformation.Conformation: \u001b[0mcurrent variant for 282 CYS\n",
      "\u001b[0mcore.conformation.Conformation: \u001b[0mcurrent variant for 270 CYD\n",
      "\u001b[0mcore.conformation.Conformation: \u001b[0mcurrent variant for 282 CYD\n",
      "\u001b[0mcore.conformation.Conformation: \u001b[0mFound disulfide between residues 286 301\n",
      "\u001b[0mcore.conformation.Conformation: \u001b[0mcurrent variant for 286 CYS\n",
      "\u001b[0mcore.conformation.Conformation: \u001b[0mcurrent variant for 301 CYS\n",
      "\u001b[0mcore.conformation.Conformation: \u001b[0mcurrent variant for 286 CYD\n",
      "\u001b[0mcore.conformation.Conformation: \u001b[0mcurrent variant for 301 CYD\n",
      "\u001b[0mcore.conformation.Conformation: \u001b[0mFound disulfide between residues 304 308\n",
      "\u001b[0mcore.conformation.Conformation: \u001b[0mcurrent variant for 304 CYS\n",
      "\u001b[0mcore.conformation.Conformation: \u001b[0mcurrent variant for 308 CYS\n",
      "\u001b[0mcore.conformation.Conformation: \u001b[0mcurrent variant for 304 CYD\n",
      "\u001b[0mcore.conformation.Conformation: \u001b[0mcurrent variant for 308 CYD\n",
      "\u001b[0mcore.conformation.Conformation: \u001b[0mFound disulfide between residues 312 337\n",
      "\u001b[0mcore.conformation.Conformation: \u001b[0mcurrent variant for 312 CYS\n",
      "\u001b[0mcore.conformation.Conformation: \u001b[0mcurrent variant for 337 CYS\n"
     ]
    },
    {
     "name": "stdout",
     "output_type": "stream",
     "text": [
      "\u001b[0mcore.conformation.Conformation: \u001b[0mcurrent variant for 312 CYD\n",
      "\u001b[0mcore.conformation.Conformation: \u001b[0mcurrent variant for 337 CYD\n",
      "\u001b[0mcore.conformation.Conformation: \u001b[0mFound disulfide between residues 445 474\n",
      "\u001b[0mcore.conformation.Conformation: \u001b[0mcurrent variant for 445 CYS\n",
      "\u001b[0mcore.conformation.Conformation: \u001b[0mcurrent variant for 474 CYS\n",
      "\u001b[0mcore.conformation.Conformation: \u001b[0mcurrent variant for 445 CYD\n",
      "\u001b[0mcore.conformation.Conformation: \u001b[0mcurrent variant for 474 CYD\n",
      "\u001b[0mcore.conformation.Conformation: \u001b[0mFound disulfide between residues 481 490\n",
      "\u001b[0mcore.conformation.Conformation: \u001b[0mcurrent variant for 481 CYS\n",
      "\u001b[0mcore.conformation.Conformation: \u001b[0mcurrent variant for 490 CYS\n",
      "\u001b[0mcore.conformation.Conformation: \u001b[0mcurrent variant for 481 CYD\n",
      "\u001b[0mcore.conformation.Conformation: \u001b[0mcurrent variant for 490 CYD\n",
      "\u001b[0mcore.conformation.Conformation: \u001b[0mFound disulfide between residues 485 498\n",
      "\u001b[0mcore.conformation.Conformation: \u001b[0mcurrent variant for 485 CYS\n",
      "\u001b[0mcore.conformation.Conformation: \u001b[0mcurrent variant for 498 CYS\n",
      "\u001b[0mcore.conformation.Conformation: \u001b[0mcurrent variant for 485 CYD\n",
      "\u001b[0mcore.conformation.Conformation: \u001b[0mcurrent variant for 498 CYD\n",
      "\u001b[0mcore.conformation.Conformation: \u001b[0mFound disulfide between residues 501 510\n",
      "\u001b[0mcore.conformation.Conformation: \u001b[0mcurrent variant for 501 CYS\n",
      "\u001b[0mcore.conformation.Conformation: \u001b[0mcurrent variant for 510 CYS\n",
      "\u001b[0mcore.conformation.Conformation: \u001b[0mcurrent variant for 501 CYD\n",
      "\u001b[0mcore.conformation.Conformation: \u001b[0mcurrent variant for 510 CYD\n",
      "\u001b[0mcore.conformation.Conformation: \u001b[0mFound disulfide between residues 514 530\n",
      "\u001b[0mcore.conformation.Conformation: \u001b[0mcurrent variant for 514 CYS\n",
      "\u001b[0mcore.conformation.Conformation: \u001b[0mcurrent variant for 530 CYS\n",
      "\u001b[0mcore.conformation.Conformation: \u001b[0mcurrent variant for 514 CYD\n",
      "\u001b[0mcore.conformation.Conformation: \u001b[0mcurrent variant for 530 CYD\n",
      "\u001b[0mcore.conformation.Conformation: \u001b[0mFound disulfide between residues 533 546\n",
      "\u001b[0mcore.conformation.Conformation: \u001b[0mcurrent variant for 533 CYS\n",
      "\u001b[0mcore.conformation.Conformation: \u001b[0mcurrent variant for 546 CYS\n",
      "\u001b[0mcore.conformation.Conformation: \u001b[0mcurrent variant for 533 CYD\n",
      "\u001b[0mcore.conformation.Conformation: \u001b[0mcurrent variant for 546 CYD\n",
      "\u001b[0mcore.conformation.Conformation: \u001b[0mFound disulfide between residues 537 554\n",
      "\u001b[0mcore.conformation.Conformation: \u001b[0mcurrent variant for 537 CYS\n",
      "\u001b[0mcore.conformation.Conformation: \u001b[0mcurrent variant for 554 CYS\n",
      "\u001b[0mcore.conformation.Conformation: \u001b[0mcurrent variant for 537 CYD\n",
      "\u001b[0mcore.conformation.Conformation: \u001b[0mcurrent variant for 554 CYD\n",
      "\u001b[0mcore.conformation.Conformation: \u001b[0mFound disulfide between residues 557 566\n",
      "\u001b[0mcore.conformation.Conformation: \u001b[0mcurrent variant for 557 CYS\n",
      "\u001b[0mcore.conformation.Conformation: \u001b[0mcurrent variant for 566 CYS\n",
      "\u001b[0mcore.conformation.Conformation: \u001b[0mcurrent variant for 557 CYD\n",
      "\u001b[0mcore.conformation.Conformation: \u001b[0mcurrent variant for 566 CYD\n",
      "\u001b[0mcore.conformation.Conformation: \u001b[0mFound disulfide between residues 570 592\n",
      "\u001b[0mcore.conformation.Conformation: \u001b[0mcurrent variant for 570 CYS\n",
      "\u001b[0mcore.conformation.Conformation: \u001b[0mcurrent variant for 592 CYS\n",
      "\u001b[0mcore.conformation.Conformation: \u001b[0mcurrent variant for 570 CYD\n",
      "\u001b[0mcore.conformation.Conformation: \u001b[0mcurrent variant for 592 CYD\n",
      "\u001b[0mcore.conformation.Conformation: \u001b[0mFound disulfide between residues 595 603\n",
      "\u001b[0mcore.conformation.Conformation: \u001b[0mcurrent variant for 595 CYS\n",
      "\u001b[0mcore.conformation.Conformation: \u001b[0mcurrent variant for 603 CYS\n",
      "\u001b[0mcore.conformation.Conformation: \u001b[0mcurrent variant for 595 CYD\n",
      "\u001b[0mcore.conformation.Conformation: \u001b[0mcurrent variant for 603 CYD\n",
      "\u001b[0mcore.conformation.Conformation: \u001b[0mFound disulfide between residues 599 611\n",
      "\u001b[0mcore.conformation.Conformation: \u001b[0mcurrent variant for 599 CYS\n",
      "\u001b[0mcore.conformation.Conformation: \u001b[0mcurrent variant for 611 CYS\n",
      "\u001b[0mcore.conformation.Conformation: \u001b[0mcurrent variant for 599 CYD\n",
      "\u001b[0mcore.conformation.Conformation: \u001b[0mcurrent variant for 611 CYD\n",
      "\u001b[0mcore.conformation.Conformation: \u001b[0mFound disulfide between residues 636 701\n",
      "\u001b[0mcore.conformation.Conformation: \u001b[0mcurrent variant for 636 CYS\n",
      "\u001b[0mcore.conformation.Conformation: \u001b[0mcurrent variant for 701 CYS\n",
      "\u001b[0mcore.conformation.Conformation: \u001b[0mcurrent variant for 636 CYD\n",
      "\u001b[0mcore.conformation.Conformation: \u001b[0mcurrent variant for 701 CYD\n",
      "\u001b[0mcore.conformation.Conformation: \u001b[0mFound disulfide between residues 747 807\n",
      "\u001b[0mcore.conformation.Conformation: \u001b[0mcurrent variant for 747 CYS\n",
      "\u001b[0mcore.conformation.Conformation: \u001b[0mcurrent variant for 807 CYS\n",
      "\u001b[0mcore.conformation.Conformation: \u001b[0mcurrent variant for 747 CYD\n",
      "\u001b[0mcore.conformation.Conformation: \u001b[0mcurrent variant for 807 CYD\n",
      "\u001b[0mcore.conformation.Conformation: \u001b[0mFound disulfide between residues 846 919\n",
      "\u001b[0mcore.conformation.Conformation: \u001b[0mcurrent variant for 846 CYS\n",
      "\u001b[0mcore.conformation.Conformation: \u001b[0mcurrent variant for 919 CYS\n",
      "\u001b[0mcore.conformation.Conformation: \u001b[0mcurrent variant for 846 CYD\n",
      "\u001b[0mcore.conformation.Conformation: \u001b[0mcurrent variant for 919 CYD\n",
      "\u001b[0mcore.conformation.Conformation: \u001b[0mFound disulfide between residues 970 1026\n",
      "\u001b[0mcore.conformation.Conformation: \u001b[0mcurrent variant for 970 CYS\n",
      "\u001b[0mcore.conformation.Conformation: \u001b[0mcurrent variant for 1026 CYS\n",
      "\u001b[0mcore.conformation.Conformation: \u001b[0mcurrent variant for 970 CYD\n",
      "\u001b[0mcore.conformation.Conformation: \u001b[0mcurrent variant for 1026 CYD\n",
      "\u001b[0mcore.pack.pack_missing_sidechains: \u001b[0mpacking residue number 1 because of missing atom number 6 atom name  CG\n",
      "\u001b[0mcore.pack.pack_missing_sidechains: \u001b[0mpacking residue number 2 because of missing atom number 6 atom name  CG\n",
      "\u001b[0mcore.pack.pack_missing_sidechains: \u001b[0mpacking residue number 3 because of missing atom number 6 atom name  CG\n",
      "\u001b[0mcore.pack.pack_missing_sidechains: \u001b[0mpacking residue number 138 because of missing atom number 6 atom name  CG\n",
      "\u001b[0mcore.pack.pack_missing_sidechains: \u001b[0mpacking residue number 179 because of missing atom number 6 atom name  CG\n",
      "\u001b[0mcore.pack.pack_missing_sidechains: \u001b[0mpacking residue number 192 because of missing atom number 6 atom name  CG\n",
      "\u001b[0mcore.pack.pack_missing_sidechains: \u001b[0mpacking residue number 193 because of missing atom number 6 atom name  CG\n",
      "\u001b[0mcore.pack.pack_missing_sidechains: \u001b[0mpacking residue number 220 because of missing atom number 6 atom name  CG\n",
      "\u001b[0mcore.pack.pack_missing_sidechains: \u001b[0mpacking residue number 257 because of missing atom number 6 atom name  CG\n",
      "\u001b[0mcore.pack.pack_missing_sidechains: \u001b[0mpacking residue number 272 because of missing atom number 6 atom name  CG\n",
      "\u001b[0mcore.pack.pack_missing_sidechains: \u001b[0mpacking residue number 299 because of missing atom number 6 atom name  CG\n",
      "\u001b[0mcore.pack.pack_missing_sidechains: \u001b[0mpacking residue number 502 because of missing atom number 6 atom name  CG\n",
      "\u001b[0mcore.pack.pack_missing_sidechains: \u001b[0mpacking residue number 518 because of missing atom number 6 atom name  CG\n",
      "\u001b[0mcore.pack.pack_missing_sidechains: \u001b[0mpacking residue number 520 because of missing atom number 6 atom name  CG\n",
      "\u001b[0mcore.pack.pack_missing_sidechains: \u001b[0mpacking residue number 522 because of missing atom number 6 atom name  CG\n",
      "\u001b[0mcore.pack.pack_missing_sidechains: \u001b[0mpacking residue number 631 because of missing atom number 6 atom name  CG\n",
      "\u001b[0mcore.pack.pack_missing_sidechains: \u001b[0mpacking residue number 739 because of missing atom number 6 atom name  CG\n",
      "\u001b[0mcore.pack.pack_missing_sidechains: \u001b[0mpacking residue number 801 because of missing atom number 6 atom name  CG\n",
      "\u001b[0mcore.pack.pack_missing_sidechains: \u001b[0mpacking residue number 824 because of missing atom number 7 atom name  CG\n",
      "\u001b[0mcore.pack.pack_missing_sidechains: \u001b[0mpacking residue number 959 because of missing atom number 6 atom name  CG\n",
      "\u001b[0mcore.pack.pack_missing_sidechains: \u001b[0mpacking residue number 1039 because of missing atom number 6 atom name  CG\n",
      "\u001b[0mcore.pack.pack_missing_sidechains: \u001b[0mpacking residue number 1040 because of missing atom number 6 atom name  CG\n",
      "\u001b[0mcore.pack.pack_missing_sidechains: \u001b[0mpacking residue number 1044 because of missing atom number 7 atom name  CG\n",
      "\u001b[0mcore.pack.task: \u001b[0mPacker task: initialize from command line()\n",
      "\u001b[0mcore.scoring.ScoreFunctionFactory: \u001b[0mSCOREFUNCTION: \u001b[32mref2015\u001b[0m\n"
     ]
    },
    {
     "name": "stdout",
     "output_type": "stream",
     "text": [
      "\u001b[0mcore.pack.pack_rotamers: \u001b[0mbuilt 313 rotamers at 23 positions.\n",
      "\u001b[0mcore.pack.interaction_graph.interaction_graph_factory: \u001b[0mInstantiating DensePDInteractionGraph\n"
     ]
    }
   ],
   "source": [
    "# get the pose numbers for Y102 (chain D) and Q408 (chain A)\n",
    "### BEGIN SOLUTION\n",
    "pose = pyrosetta.toolbox.pose_from_rcsb(\"1YY9\")\n",
    "res102 = pose.pdb_info().pdb2pose(\"D\", 102)\n",
    "res408 = pose.pdb_info().pdb2pose(\"A\", 408)\n",
    "### END SOLUTION"
   ]
  },
  {
   "cell_type": "markdown",
   "metadata": {
    "nbgrader": {
     "grade": false,
     "grade_id": "cell-648b40169a846ddf",
     "locked": true,
     "schema_version": 1,
     "solution": false
    }
   },
   "source": [
    "B. Score the pose and determine the van der Waals energies and solvation energy between these two residues. Use the following commands to isolate contributions from particular pairs of residues, where `rsd102` and `rsd408` are the two residue objects of interest from above (not the residue number -- use `pose.residue(res_num)` to access the objects): \n",
    "\n",
    "```\n",
    "emap = EMapVector()\n",
    "sfxn.eval_ci_2b(pose.residue(res102), pose.residue(res408), pose, emap)\n",
    "print(emap[fa_atr])\n",
    "print(emap[fa_rep])\n",
    "print(emap[fa_sol])\n",
    "```"
   ]
  },
  {
   "cell_type": "code",
   "execution_count": 16,
   "metadata": {
    "nbgrader": {
     "grade": true,
     "grade_id": "cell-dffa8d44557ef0fc",
     "locked": false,
     "points": 0,
     "schema_version": 1,
     "solution": true
    }
   },
   "outputs": [
    {
     "name": "stdout",
     "output_type": "stream",
     "text": [
      "-1.2098840439684349\n",
      "0.10835353848860363\n",
      "1.5729435146961963\n"
     ]
    }
   ],
   "source": [
    "### BEGIN SOLUTION\n",
    "emap = EMapVector()\n",
    "sfxn.eval_ci_2b(pose.residue(res102), pose.residue(res408), pose, emap)\n",
    "print(emap[fa_atr])\n",
    "print(emap[fa_rep])\n",
    "print(emap[fa_sol])\n",
    "### END SOLUTION"
   ]
  },
  {
   "cell_type": "markdown",
   "metadata": {
    "nbgrader": {
     "grade": false,
     "grade_id": "cell-3df13637df7affbe",
     "locked": true,
     "schema_version": 1,
     "solution": false
    }
   },
   "source": [
    "## Energies and the PyMOL Mover\n",
    "The `PyMOLMover` class contains a method for sending score function information to PyMOL,\n",
    "which will then color the structure based on relative residue energies.\n",
    "\n",
    "Open up PyMOL. Instantiate a `PyMOLMover` object and use the `pymol_mover.send_energy(ras)` to send the coloring  command to PyMOL.\n",
    "\n",
    "```\n",
    "pymol_mover = PyMOLMover()\n",
    "pymol_mover.apply(ras)\n",
    "print(sfxn(ras))\n",
    "pymol_mover.send_energy(ras)\n",
    "```"
   ]
  },
  {
   "cell_type": "code",
   "execution_count": 17,
   "metadata": {
    "nbgrader": {
     "grade": true,
     "grade_id": "cell-6b50c733700571cc",
     "locked": false,
     "points": 0,
     "schema_version": 1,
     "solution": true
    }
   },
   "outputs": [],
   "source": [
    "### BEGIN SOLUTION\n",
    "pymol_mover = PyMOLMover()\n",
    "pymol_mover.apply(ras)\n",
    "sfxn(ras)\n",
    "pymol_mover.send_energy(ras)\n",
    "### END SOLUTION"
   ]
  },
  {
   "cell_type": "markdown",
   "metadata": {
    "nbgrader": {
     "grade": false,
     "grade_id": "cell-cebd74396b7e12ce",
     "locked": true,
     "schema_version": 1,
     "solution": false
    }
   },
   "source": [
    "![SegmentLocal](PyMOL-send_energy.gif \"send_energy\")"
   ]
  },
  {
   "cell_type": "markdown",
   "metadata": {
    "nbgrader": {
     "grade": false,
     "grade_id": "cell-bac636a945b1ef80",
     "locked": true,
     "schema_version": 1,
     "solution": false
    }
   },
   "source": [
    "What color is residue Proline34? What color is residue Alanine66? Which residue has lower energy?"
   ]
  },
  {
   "cell_type": "code",
   "execution_count": 18,
   "metadata": {
    "nbgrader": {
     "grade": false,
     "grade_id": "cell-6e7eccd7e775c0a5",
     "locked": true,
     "schema_version": 1,
     "solution": false
    }
   },
   "outputs": [],
   "source": [
    "# your response here"
   ]
  },
  {
   "cell_type": "markdown",
   "metadata": {
    "nbgrader": {
     "grade": false,
     "grade_id": "cell-21e2444f382f080a",
     "locked": true,
     "schema_version": 1,
     "solution": false
    }
   },
   "source": [
    "`pymol_mover.send_energy(ras, fa_atr)` will have PyMOL color only by the attractive van der Waals energy component. What color is residue 34 if colored by solvation energy, `fa_sol`?"
   ]
  },
  {
   "cell_type": "code",
   "execution_count": 19,
   "metadata": {
    "nbgrader": {
     "grade": false,
     "grade_id": "cell-9103a75de706b1d0",
     "locked": true,
     "schema_version": 1,
     "solution": false
    }
   },
   "outputs": [],
   "source": [
    "# send specific energies to pymol"
   ]
  },
  {
   "cell_type": "code",
   "execution_count": 20,
   "metadata": {
    "nbgrader": {
     "grade": true,
     "grade_id": "cell-f9000db7d0cfabd1",
     "locked": false,
     "points": 0,
     "schema_version": 1,
     "solution": true
    }
   },
   "outputs": [],
   "source": [
    "### BEGIN SOLUTION\n",
    "pymol_mover.send_energy(ras, fa_sol)\n",
    "### END SOLUTION"
   ]
  },
  {
   "cell_type": "markdown",
   "metadata": {
    "nbgrader": {
     "grade": false,
     "grade_id": "cell-24a17254b7d885c8",
     "locked": true,
     "schema_version": 1,
     "solution": false
    }
   },
   "source": [
    "You can have PyMOL label each Cα with the value of its residue’s specified energy using:\n",
    "```\n",
    "pymol_mover.label_energy(ras, \"fa_atr\")\n",
    "```"
   ]
  },
  {
   "cell_type": "code",
   "execution_count": 21,
   "metadata": {
    "nbgrader": {
     "grade": true,
     "grade_id": "cell-2ba49a6550dab5c7",
     "locked": false,
     "points": 0,
     "schema_version": 1,
     "solution": true
    }
   },
   "outputs": [],
   "source": [
    "### BEGIN SOLUTION\n",
    "pymol_mover.label_energy(ras, \"fa_sol\")\n",
    "### END SOLUTION"
   ]
  },
  {
   "cell_type": "markdown",
   "metadata": {
    "nbgrader": {
     "grade": false,
     "grade_id": "cell-7fdeb8b695d89a68",
     "locked": true,
     "schema_version": 1,
     "solution": false
    }
   },
   "source": [
    "Finally, if you have scored the `pose` first, you can have PyMOL display all of the calculated hydrogen bonds for the structure:\n",
    "\n",
    "```\n",
    "pymol_mover.send_hbonds(ras)\n",
    "```"
   ]
  },
  {
   "cell_type": "code",
   "execution_count": 22,
   "metadata": {
    "nbgrader": {
     "grade": true,
     "grade_id": "cell-e881648552ab8641",
     "locked": false,
     "points": 0,
     "schema_version": 1,
     "solution": true
    }
   },
   "outputs": [],
   "source": [
    "### BEGIN SOLUTION\n",
    "pymol_mover.send_hbonds(ras)\n",
    "### END SOLUTION"
   ]
  },
  {
   "cell_type": "markdown",
   "metadata": {
    "nbgrader": {
     "grade": false,
     "grade_id": "cell-e83122697fe02538",
     "locked": true,
     "schema_version": 1,
     "solution": false
    }
   },
   "source": [
    "## References\n",
    "This Jupyter notebook is an adapted version of \"Workshop #3: Scoring\" in the PyRosetta workbook: https://graylab.jhu.edu/pyrosetta/downloads/documentation/pyrosetta4_online_format/PyRosetta4_Workshop3_Scoring.pdf"
   ]
  }
 ],
 "metadata": {
  "celltoolbar": "Create Assignment",
  "kernelspec": {
   "display_name": "Python 3",
   "language": "python",
   "name": "python3"
  },
  "language_info": {
   "codemirror_mode": {
    "name": "ipython",
    "version": 3
   },
   "file_extension": ".py",
   "mimetype": "text/x-python",
   "name": "python",
   "nbconvert_exporter": "python",
   "pygments_lexer": "ipython3",
   "version": "3.6.0"
  },
  "toc": {
   "base_numbering": 1,
   "nav_menu": {},
   "number_sections": true,
   "sideBar": true,
   "skip_h1_title": false,
   "title_cell": "Table of Contents",
   "title_sidebar": "Contents",
   "toc_cell": false,
   "toc_position": {
    "height": "calc(100% - 180px)",
    "left": "10px",
    "top": "150px",
    "width": "254.188px"
   },
   "toc_section_display": true,
   "toc_window_display": true
  }
 },
 "nbformat": 4,
 "nbformat_minor": 2
}
